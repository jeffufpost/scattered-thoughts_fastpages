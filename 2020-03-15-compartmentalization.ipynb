{
  "nbformat": 4,
  "nbformat_minor": 0,
  "metadata": {
    "colab": {
      "name": "2020-03-15-compartmentalization.ipynb",
      "provenance": [],
      "toc_visible": true,
      "include_colab_link": true
    },
    "kernelspec": {
      "name": "python3",
      "display_name": "Python 3"
    }
  },
  "cells": [
    {
      "cell_type": "markdown",
      "metadata": {
        "id": "view-in-github",
        "colab_type": "text"
      },
      "source": [
        "<a href=\"https://colab.research.google.com/github/jeffufpost/scattered-thoughts/blob/master/2020-03-15-compartmentalization.ipynb\" target=\"_parent\"><img src=\"https://colab.research.google.com/assets/colab-badge.svg\" alt=\"Open In Colab\"/></a>"
      ]
    },
    {
      "cell_type": "markdown",
      "metadata": {
        "id": "I5miZkxtZJAI",
        "colab_type": "text"
      },
      "source": [
        "# \"Epidemic modeling - Part 1\"\n",
        "> \"Compartmentalization models and disease dynamics\"\n",
        "\n",
        "- toc: true \n",
        "- badges: true\n",
        "- comments: true\n",
        "- categories: [modeling, compartmentalization, SEIR, epidemiology, disease dynamics]\n",
        "- image: images/compartmentalization.jpg"
      ]
    },
    {
      "cell_type": "markdown",
      "metadata": {
        "id": "SiBYrZVVZWB3",
        "colab_type": "text"
      },
      "source": [
        "![](my_icons/compartmentalization.jpg)"
      ]
    },
    {
      "cell_type": "markdown",
      "metadata": {
        "id": "BPKgWnCvBk9p",
        "colab_type": "text"
      },
      "source": [
        "## Motivation for write-up"
      ]
    },
    {
      "cell_type": "markdown",
      "metadata": {
        "id": "QxlznadEpqsF",
        "colab_type": "text"
      },
      "source": [
        "This is the 1st part of a multi-part series blog post on modeling in epidemiology.\n",
        "\n",
        "The COVID-19 pandemic has brought a lot of attention to the study of epidemiology and more specifically to the various mathematical models that are used to inform public health policies. Everyone has been trying to understand the growth or slowing of new cases and trying to predict the necessary sanitary resources. This blog post attempts to explain the foundations for some of the most used models and enlighten the reader on a few important points.\n",
        "\n",
        "In this first post I want to introduce the concept of compartmentalization and how it forms the basis for studying disease dynamics on the population level."
      ]
    },
    {
      "cell_type": "markdown",
      "metadata": {
        "id": "jUcGXO9WrtEb",
        "colab_type": "text"
      },
      "source": [
        "## How to model infectious diseases on population level ?"
      ]
    },
    {
      "cell_type": "markdown",
      "metadata": {
        "id": "BIvkvGOndIER",
        "colab_type": "text"
      },
      "source": [
        "### Compartments"
      ]
    },
    {
      "cell_type": "markdown",
      "metadata": {
        "id": "-HoxFcE0tBFt",
        "colab_type": "text"
      },
      "source": [
        "When modelling infectious diseases, and pandemics in particular, a key ask is to predict the number of infected people at any given time in order to estimate the sanitary resources that will be necessary.\n",
        "\n",
        "From this simple qestion results the idea of compartmentalization of the population i.e. the division of the population into the two most basic categories:\n",
        "\n",
        "* those that are infected\n",
        "* those that are not\n",
        "\n",
        "This is ultimately the foundation for all compartmental models in epidemiology. \n",
        "\n",
        "The nuances between the models then come from how the above two groups are further compartmentalized. That is to say, how we decide the composition of the infected and the not-infected groups. \n",
        "\n",
        "For example, the non-infected group could be further sub-categorized into:\n",
        "* Susceptible\n",
        "* Immune\n",
        "\n",
        "And the infected group into:\n",
        "* Asymptomatic\n",
        "* Symptomatic\n",
        "\n",
        "Or, another option, into:\n",
        "* No treatment necessary\n",
        "* Require treatment:\n",
        "  * Local Doctor visit\n",
        "  * Hospitalization\n",
        "  * Admitted to intensive care unit\n",
        "\n",
        "As you can see there are many ways to do this, but the more categories you have, the more difficult it might become to model. Usually we determine these subcategories in order to match available data."
      ]
    },
    {
      "cell_type": "markdown",
      "metadata": {
        "id": "QBV_IBbQdK61",
        "colab_type": "text"
      },
      "source": [
        "### Dynamics"
      ]
    },
    {
      "cell_type": "markdown",
      "metadata": {
        "id": "ZiC_2ovWdMat",
        "colab_type": "text"
      },
      "source": [
        "While the compartments describe the state any individual can be in at a certain point in time, the dynamics describe the ways in which the compartments interact with each other.\n",
        "\n",
        "I want to underline the separation between disease dynamics on the individual level, and that on the population level below."
      ]
    },
    {
      "cell_type": "markdown",
      "metadata": {
        "id": "MWFkLNSudyAV",
        "colab_type": "text"
      },
      "source": [
        "* **Individual level disease dynamics:**\n",
        "\n",
        "This describes, on the individual level, the progression of the disease i.e. how one person can go from one state to another (one compartment to another) \n",
        "\n",
        "For example: how does a healthy person become ill and what is the clinical course of the disease for this person? "
      ]
    },
    {
      "cell_type": "markdown",
      "metadata": {
        "id": "gRL158xjd9lZ",
        "colab_type": "text"
      },
      "source": [
        "* **Population-level dynamics:**\n",
        "\n",
        "On the other hand, the population level dynamics describe, on a population level, how the total number of individuals in each compartment vary over time. \n",
        "\n",
        "We will see more on this in the next blog posts."
      ]
    },
    {
      "cell_type": "markdown",
      "metadata": {
        "id": "dFoO03Dzc8g6",
        "colab_type": "text"
      },
      "source": [
        "### Two simple examples - the SIR and SEIR models"
      ]
    },
    {
      "cell_type": "markdown",
      "metadata": {
        "id": "ZTT6MWDQdCQL",
        "colab_type": "text"
      },
      "source": [
        "Let's have a look at a basic compartmental model, first the SIR model.\n",
        "\n",
        "* **S --> Susceptible state:**\n",
        "\n",
        "An S individual is simply someone susceptible to the disease, that is anyone in the population who is healthy and not immune to the disease.\n",
        "\n",
        "* **I --> Infectious state:**\n",
        "\n",
        "Once an individual is exposed to the disease he will develop this disease and become infectious.\n",
        "\n",
        "* **R --> Recovered state:**\n",
        "\n",
        "An individual will either fight off the infection (with the help or not of treatment) or die. These are all included in the R state. \n",
        "\n",
        "In the basic SIR model, anyone R has aquired full and infinite immunity and cannot catch the disease again (of course many variations can be included to reflect more closely a disease).\n",
        "\n",
        "In this write-up and in the following blog posts we will focus on the SEIR models, which are similar to the SIR compartments above with the additional E state between S and I. \n",
        "\n",
        "* **E --> Exposed state:**\n",
        "\n",
        "The exposed state is the state when an individual has been exposed to the disease, but has not become infectious yet.\n",
        "\n",
        "It should be noted the **incubation period**, the time between exposure to disease and development of the disease is not necessarily the same as the time between the states E and I. Indeed, an individual may become infectious before the appearance of the symptoms (or at the same time, or after, but not necessarily the same time)."
      ]
    },
    {
      "cell_type": "markdown",
      "metadata": {
        "id": "mZ5WwVYnP_yd",
        "colab_type": "text"
      },
      "source": [
        "### Some important vocabulary"
      ]
    },
    {
      "cell_type": "markdown",
      "metadata": {
        "id": "13Z7E1iVQCcQ",
        "colab_type": "text"
      },
      "source": [
        "* $\\underline{Infectious\\ period:}$\n",
        "\n",
        "Also called the period of communicability, the infectious period is the time during which an individual can transmit the disease to another: $T_{Infectious}$\n",
        "\n",
        "* $\\underline{Clinical\\ infection\\ period:}$\n",
        "\n",
        "This period corresponds to the period where the infected indvidual shows symptoms: $T_{Clinical}$\n",
        "\n",
        "* $\\underline{Latent\\ period:}$\n",
        "\n",
        "The latent period is the time between exposure of an individual and the start of the period of communicability of that individual: $T_{Latent}$\n",
        "\n",
        "* $\\underline{Incubation\\ period:}$\n",
        "\n",
        "The incubation period on the other hand, is the time from exposure of an individual to development of the infection (appearance of disease): $T_{Incubation}$\n",
        "\n",
        "\n",
        "*It should be noted the latent period and incubation period are not necessarily the same.*\n",
        "\n",
        "* $\\underline{T_{Latent} < T_{Incubation}}$:\n",
        "\n",
        "In this case, an individual who has been exposed becomes infectious before the development of disease. \n",
        "\n",
        "We call this a **subclinical infection** and during that time the individual is called an **asymptomatic carrier**.\n",
        "\n",
        "* $\\underline{T_{Latent} < T_{Incubation}:}$\n",
        "\n",
        "In other cases, the latent period can be longer than the incubation period, eg: smallpox. \n",
        "\n",
        "* $\\underline{T_{Latent} + T_{Infectious} > T_{Incubation} + T_{Clinical}:}$\n",
        "\n",
        "Another case of **subclinical infection** resulting in **asymptomatic carriers** occurs when the end of clinical infection (of disease) happens earlier than the end of the period of communicability (see Wikipedia figure below)\n",
        "\n",
        "Overall, these asymptomatic carriers can be a significant difficutly to overcome epidemics.\n",
        "\n",
        "![](my_icons/Concept_of_incubation_period.svg \"Wikipedia\")\n",
        "\n",
        "* **Basic reproduction number:**\n",
        "\n",
        "The basic reproduction number $R_0$ is the measure of secondary infections. \n",
        "\n",
        "In other words, it is the number of people that each infectious individual will infect over the time of their infectious period.\n",
        "\n",
        "Example:\n",
        "\n",
        "If an infectious individual infects 3 other individuals over the course of his infection, his $R_0$ is 3.\n",
        "\n",
        "This number is a very important element in the spreading dynamics (see derivation below)."
      ]
    },
    {
      "cell_type": "markdown",
      "metadata": {
        "id": "5I76bydrxeAo",
        "colab_type": "text"
      },
      "source": [
        "## A closer look at the SEIR model"
      ]
    },
    {
      "cell_type": "markdown",
      "metadata": {
        "id": "PLwaGcc7WvM7",
        "colab_type": "text"
      },
      "source": [
        "### Individual-level disease dynamic"
      ]
    },
    {
      "cell_type": "markdown",
      "metadata": {
        "id": "-10yPIXOzQX2",
        "colab_type": "text"
      },
      "source": [
        "As explained above, the individual-level disease dynamic describes the progression of disease within an individual i.e. the progression of an individual from one state to another. \n",
        "\n",
        "* In the models used here (SEIR model), an individual starts at S (although an initial exposed or infectious person is injected into the population at time t=0).\n",
        "\n",
        "* If exposed to the disease he will move into the state E.\n",
        "\n",
        "* After which he will move to the I state with probability 1, but in a time unique to himself.\n",
        "\n",
        "* Again after which he will move into the state R with probability 1, and again in a time unique to him. \n",
        "\n",
        "* From state R he will stay in state R (either dead or has aquired full and inifite immunity).\n",
        "\n",
        "Let's have a closer look:"
      ]
    },
    {
      "cell_type": "markdown",
      "metadata": {
        "id": "XKj98y9K7dv4",
        "colab_type": "text"
      },
      "source": [
        "#### S &rarr; E"
      ]
    },
    {
      "cell_type": "markdown",
      "metadata": {
        "id": "IIM4QRyr7hyI",
        "colab_type": "text"
      },
      "source": [
        "The chances of an individual going from S &rarr; E depends on three things:\n",
        "  1. the number of contacts the person has per unit time (given by $r$)\n",
        "  2. the chance a given contact is with an I - infectious individual (the higher the number of I in the population, the higher the chance)\n",
        "  3. the chance of an S contracting the disease from a contact with an I (given by $\\rho$)"
      ]
    },
    {
      "cell_type": "markdown",
      "metadata": {
        "id": "pHRmVoz_8VVU",
        "colab_type": "text"
      },
      "source": [
        "#### E &rarr; I\n",
        "*The latent period*"
      ]
    },
    {
      "cell_type": "markdown",
      "metadata": {
        "id": "dA4d0OEZ8aUY",
        "colab_type": "text"
      },
      "source": [
        "All people exposed will eventually develop disease. \n",
        "\n",
        "However, individually, a person might go from E to I on the first day, or after 10 days, this is unique to the individual.\n",
        "\n",
        "Every additional day following exposure the probability of this individual to go from E &rarr; I increases (we will have a look at the probability distribution and its importance later)."
      ]
    },
    {
      "cell_type": "markdown",
      "metadata": {
        "id": "QQ8iJzkG8p3-",
        "colab_type": "text"
      },
      "source": [
        "#### I &rarr; R\n",
        "*The period of communicability*"
      ]
    },
    {
      "cell_type": "markdown",
      "metadata": {
        "id": "jSyo1QSA8sfC",
        "colab_type": "text"
      },
      "source": [
        "Similarly, all infectious people will recover (or die). \n",
        "\n",
        "Again, individually, a person might go from I to R in 5 days or in 15 days, this time is the recovery time and is proper to the individual."
      ]
    },
    {
      "cell_type": "markdown",
      "metadata": {
        "id": "mCzBXZwgxP7h",
        "colab_type": "text"
      },
      "source": [
        "### Population level dynamics"
      ]
    },
    {
      "cell_type": "markdown",
      "metadata": {
        "id": "x3WdBKwN447B",
        "colab_type": "text"
      },
      "source": [
        "Most basic models tend to disregard the notion of individual dynamics above in favor of poopulation level dynamics. \n",
        "\n",
        "That is to say the models tend to model disease on a population level without looking at the specific pogression of disease within the individuals and using averages instead (although the S &rarr; E uses the same logic as above).\n",
        "\n",
        "Below is an explanation for such an SEIR model with its mathematical formulation.\n",
        "\n",
        "Note no births or deaths are included.\n"
      ]
    },
    {
      "cell_type": "markdown",
      "metadata": {
        "id": "Mrvf03837UKK",
        "colab_type": "text"
      },
      "source": [
        "#### S &rarr; E"
      ]
    },
    {
      "cell_type": "markdown",
      "metadata": {
        "id": "CgIefLSb91SU",
        "colab_type": "text"
      },
      "source": [
        "As stated above, going from S to E on a particular day depends on these three characteristics:\n",
        "* the proportion of infectious people in the population on that day: $i(t) = \\frac{I(t)}{N}$\n",
        "* the number of contacts an individual has per day: $r$\n",
        "* the chance for an S to contract the disease after contact with an I: $\\rho$\n",
        "\n",
        "We can combine the last two into $\\beta = r  \\rho$\n",
        "\n",
        "On a population-level however, the number of S that will become E also depends on the proportion of S in the population (of course if there are no S, no one will become E of course).\n",
        "\n",
        "So we add the following requirement:\n",
        "* the proportion of susceptible people in the population on that day: $s(t) = \\frac{S(t)}{N}$\n",
        "\n",
        "So the change in the number of S in a population on a given day is equal to:\n",
        "\n",
        "$- \\beta i(t) s(t)$ \n",
        "\n",
        "(note the negative sign to indicate the number of S is diminishing as they become exposed)\n",
        "\n",
        "Hence we can formulate this mathematically as follows:\n",
        "\n",
        "* Discrete-time:\n",
        "$$\\Delta S = -\\beta I S\\Delta T$$\n",
        "* Continuous-time:\n",
        "$$\\frac{ds(t)}{dt}=-\\beta i(t) s(t)$$"
      ]
    },
    {
      "cell_type": "markdown",
      "metadata": {
        "id": "384SVmtw7MUn",
        "colab_type": "text"
      },
      "source": [
        "#### E &rarr; I"
      ]
    },
    {
      "cell_type": "markdown",
      "metadata": {
        "id": "AuWqadGI-4ko",
        "colab_type": "text"
      },
      "source": [
        "We have seen above how each individual goes from E to I. \n",
        "\n",
        "On a population level, the number of E changes in two ways:\n",
        "* new additions following S &rarr; E\n",
        "* reduction following E &rarr; I\n",
        "\n",
        "We already know the number from S &rarr; E is:\n",
        "\n",
        "$$\\beta i(t) s(t)$$\n",
        "\n",
        "So how can we model the number of E &rarr; I? \n",
        "\n",
        "While individually this is a bit more complicated to model and pertains to the specific probability distribution of the latent period, on a population level we can use the average time it takes - this is what most models do (part 3 of this blog post will show why this is wrong for COVID-19). \n",
        "\n",
        "Let's say average latent period is \n",
        "\n",
        "$$\\frac{1}{\\sigma}$$\n",
        "\n",
        "then we know that every unit time that goes by, we have \n",
        "\n",
        "$$\\sigma E$$\n",
        "\n",
        "individuals that transition from E &rarr; I.\n",
        "\n",
        "Mathematically, we write this as :\n",
        "* Discrete-time:\n",
        "$$\\Delta E = (\\beta I S-\\sigma E) \\Delta T$$\n",
        "* Continuous-time:\n",
        "$$\\frac{de(t)}{dt}=\\beta i(t) s(t) - \\sigma e(t)$$\n"
      ]
    },
    {
      "cell_type": "markdown",
      "metadata": {
        "id": "_VZr-dXwAa2O",
        "colab_type": "text"
      },
      "source": [
        "#### I &rarr; R"
      ]
    },
    {
      "cell_type": "markdown",
      "metadata": {
        "id": "qStKvDf5AdH2",
        "colab_type": "text"
      },
      "source": [
        "Similarly as above, we have seen above how each individual goes from I to R but this does not tell us about the population level dynamics. \n",
        "\n",
        "On a population level, the number of I changes in two ways:\n",
        "* new additions following E &rarr; I\n",
        "* reduction following I &rarr; R\n",
        "\n",
        "We know the number from E &rarr; I is:\n",
        "\n",
        "$$\\sigma e(t)$$\n",
        "\n",
        "How can we model the number of I &rarr; R? \n",
        "\n",
        "Again, while individually this is complicated, on a population level, how about averaging out the period of infectiousness, this is what most models do. \n",
        "\n",
        "Let's say average time of infectiousness is\n",
        "\n",
        "$$\\frac{1}{\\gamma}$$\n",
        "\n",
        "Then we have:\n",
        "* Discrete-time:\n",
        "$$\\Delta I = (\\sigma E - \\gamma I) \\Delta T$$\n",
        "* Continuous-time:\n",
        "$$\\frac{di(t)}{dt}=\\sigma e(t) - \\gamma i(t)$$\n"
      ]
    },
    {
      "cell_type": "markdown",
      "metadata": {
        "id": "tM5ozC5pA4Lz",
        "colab_type": "text"
      },
      "source": [
        "#### R &rarr; R "
      ]
    },
    {
      "cell_type": "markdown",
      "metadata": {
        "id": "q25vDnJEBIjN",
        "colab_type": "text"
      },
      "source": [
        "Finally, it is simple to model the number of individuals in R state with the following equation:\n",
        "* Discrete-time:\n",
        "$$\\Delta R = \\gamma I \\Delta T$$\n",
        "* Continuous-time:\n",
        "$$\\frac{dr(t)}{dt}=\\gamma i(t)$$"
      ]
    },
    {
      "cell_type": "markdown",
      "metadata": {
        "id": "KTBGroaoecPO",
        "colab_type": "text"
      },
      "source": [
        "## Effective and Basic Reproduction Numbers: $R$ and $R_0$ respectively\n",
        "\n",
        "*As stated above, $R_0$ is the measure of secondary infections. Let's have a look how we can characterize it.*"
      ]
    },
    {
      "cell_type": "markdown",
      "metadata": {
        "id": "NIbMtT-fegfo",
        "colab_type": "text"
      },
      "source": [
        "### Understanding how the infection spreads\n",
        "\n",
        "Any individual in state I (infectious) will contaminate others according to the following:\n",
        "* Number of contacts the individual has per day given by: $r_i$\n",
        "* Probability to infect an S after contact given by: $\\rho_i$\n",
        "* Probability of a contact being with an S given by:\n",
        "$\\frac{S(t)}{N} = s(t)$ \n",
        "* The period of infectiousness of the individual given by [$j_i, \\frac{1}{\\tau_i}$]\n",
        "(where $j_i$ is the first day of infectiousness for that individual and $\\frac{1}{\\tau_i}$ is that individuals' time of infectiousness)\n",
        "\n",
        "Remember $r_i\\rho_i=\\beta_i$\n",
        "\n"
      ]
    },
    {
      "cell_type": "markdown",
      "metadata": {
        "id": "q1Q5Ec65hCgm",
        "colab_type": "text"
      },
      "source": [
        "### Derivation of $R$ for each individual\n",
        "\n",
        "Let's call the measure of $R$ for any individual $R_i$.\n",
        "\n",
        "From the parameters above we can write $R_i$ for each infectious individual as the sum of secondary infections per day of infectiousness as below:\n",
        "* Discrete-time:\n",
        "$$R_i = \\sum_{Day=j_i}^{j_i+\\frac{1}{\\tau_i}} \\beta_i \\frac{S(Day)}{N}$$\n",
        "*Continuous-time:\n",
        "$$R_i = \\int_{j_i}^{j_i+\\frac{1}{\\tau_i}} \\beta_i s(t) dt$$"
      ]
    },
    {
      "cell_type": "markdown",
      "metadata": {
        "id": "UQwyNph_kk77",
        "colab_type": "text"
      },
      "source": [
        "### Finding $R_0$ of each individual by making assumptions\n",
        "\n",
        "$R_{0,i}$ is the measure of $R_i$ in a susceptible population, i.e. when:\n",
        "$$S = N$$\n",
        "\n",
        "In other words:\n",
        "$$R_{0,i} = R_i ~ \\frac{N}{S}$$\n",
        "\n",
        "If we make the following assumptions:\n",
        "* s(t) is constant over the course of infectiousness of an individual:\n",
        "$$s(t) = s(t+\\frac{1}{\\tau_i})$$\n",
        "* $\\beta_i$ is a constant and does not vary over the course of time (no control measures)\n",
        "\n",
        "Then the equation for $R_{0,i}$ reduces to the following:\n",
        "$$R_{0,i} = [\\beta_i]_{j_i}^{j_i+\\frac{1}{\\tau_i}} = \\frac{\\beta_i}{\\tau_i}$$\n",
        "\n",
        "We can see the basic reproduction number of an individual is fully characterized by the $\\beta_i$ and the $\\tau_i$ of that individual. \n",
        "\n"
      ]
    },
    {
      "cell_type": "markdown",
      "metadata": {
        "id": "3gHO8W3Lu0Hn",
        "colab_type": "text"
      },
      "source": [
        "### $R_0$ for a population\n",
        "\n",
        "To a generalize toa  population-level, we can simply find the expected value for the equation above:\n",
        "$$R_0 = E[R_{0,i}] = \\frac{E[\\beta_i]}{E[\\tau_i]}$$\n",
        "\n",
        "Assuming:\n",
        "* $E[\\beta_i] = \\beta$\n",
        "* $E[\\tau_i] = \\gamma$\n",
        "\n",
        "We can write:\n",
        "$$R_0 = \\frac{\\beta}{\\gamma}$$"
      ]
    },
    {
      "cell_type": "markdown",
      "metadata": {
        "id": "wsYc_y4yg2W5",
        "colab_type": "text"
      },
      "source": [
        "## Conclusion"
      ]
    },
    {
      "cell_type": "markdown",
      "metadata": {
        "id": "qFj46-Zyg4l9",
        "colab_type": "text"
      },
      "source": [
        "This was a brief introduction to compartmentalization models and the dynamics associated with them. \n",
        "\n",
        "Of course these sort of derivations can be done for many different types of comprtaments and their relevant dynamics, but the SEIR is simple enough to understand and model quickly."
      ]
    }
  ]
}