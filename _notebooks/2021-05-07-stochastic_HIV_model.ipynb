{
  "nbformat": 4,
  "nbformat_minor": 0,
  "metadata": {
    "colab": {
      "name": "2020-03-31-stochastic_model.ipynb",
      "provenance": [],
      "toc_visible": true,
      "authorship_tag": "ABX9TyNKMHIWc6CxVOTrPm3hPzAT",
      "include_colab_link": true
    },
    "kernelspec": {
      "name": "python3",
      "display_name": "Python 3"
    }
  },
  "cells": [
    {
      "cell_type": "markdown",
      "metadata": {
        "id": "view-in-github",
        "colab_type": "text"
      },
      "source": [
        "<a href=\"https://colab.research.google.com/github/jeffufpost/scattered-thoughts/blob/master/_notebooks/2021-05-07-stochastic_HIV_model.ipynb\" target=\"_parent\"><img src=\"https://colab.research.google.com/assets/colab-badge.svg\" alt=\"Open In Colab\"/></a>"
      ]
    },
    {
      "cell_type": "markdown",
      "metadata": {
        "id": "EaN1NsvLOVtF"
      },
      "source": [
        "# \"HIV modeling\"\n",
        "> \"Building a new stochastic SEIR model to deal with probability distributions \"\n",
        "\n",
        "- toc: true \n",
        "- badges: true\n",
        "- comments: true\n",
        "- categories: [probability distributions, modeling, SEIR, epidemiology, stochastic, HIV, AIDS]\n",
        "- image: images/stochastic_SEIR.png"
      ]
    },
    {
      "cell_type": "markdown",
      "metadata": {
        "id": "Wa5uqUhVOolP"
      },
      "source": [
        "![](https://github.com/jeffufpost/scattered-thoughts/blob/master/_notebooks/my_icons/stochastic_SEIR.png?raw=1)"
      ]
    },
    {
      "cell_type": "markdown",
      "metadata": {
        "id": "BPKgWnCvBk9p"
      },
      "source": [
        "## Motivation for write-up"
      ]
    },
    {
      "cell_type": "markdown",
      "metadata": {
        "id": "QxlznadEpqsF"
      },
      "source": [
        "This is the 4th part of a multi-part series blog post on modeling in epidemiology.\n",
        "\n",
        "The COVID-19 pandemic has brought a lot of attention to study of epidemiology and more specifically to the various mathematical models that are used to inform public health policies. Everyone has been trying to understand the growth or slowing of new cases and trying to predict the necessary sanitary resources. This blog post attempts to explain the foundations for some of the most used models and enlighten the reader on two key points.\n",
        "\n",
        "After introducing the concepts of compartmentalization and disease dynamics in the first blog post, the second part looked at a deterministic numerical solution for the SEIR model discussed, and the effects of the parameters $\\beta$, $\\sigma$, and $\\gamma$ in parts 1 and 2.\n",
        "\n",
        "Part 3 made the argument that most models ignore individual-level disease dynamics in favor of averaging population-level $\\sigma$ and $\\gamma$ parameters and showed some big discrepancies between actual COVID-19 probability distributions for those parameters and those used in research. \n",
        "\n",
        "This 4th part is where I build a numerical SEIR model that takes into account these probability distributions in order to tweak the model as close to COVID-19 data as possible."
      ]
    },
    {
      "cell_type": "markdown",
      "metadata": {
        "id": "yAOm450_HxYm"
      },
      "source": [
        "## Building a stochastic model"
      ]
    },
    {
      "cell_type": "markdown",
      "metadata": {
        "id": "AGMGuLg7jfUf"
      },
      "source": [
        "As opposed to the deterministic model from Part 2, this model is going to focus on individual level disease dynamics to model the disease propagation.\n",
        "\n",
        "The basic idea of this model is to have a dataframe with the number of rows equal to the population size (each individual is a row) and two columns:\n",
        "* State column to describe the state of each individual (S, E, I, or R)\n",
        "* Day column to save the day of transition of the individual into that state\n",
        "\n",
        "\n",
        "However, the population-level rates of transmission still apply here i.e. a person goes from S &rarr; E following three points:\n",
        "1. the number of contacts the person has per unit time (given by $r$)\n",
        "2. the chance a given contact is with an I - infectious individual (the higher thenumber of I, the higher the chance)\n",
        "3. the chance of an S contracting the disease from a contact with an I (given by $\\rho$)\n",
        "\n",
        "This is done stochastically.\n",
        "\n",
        "Once a person becomes E, their progression is unique to them. This progression is calculated in advance for computational reason, but it allows to use the time ditributions we want.\n",
        "\n",
        "\n",
        "\n"
      ]
    },
    {
      "cell_type": "code",
      "metadata": {
        "id": "nsPi17ppluAE",
        "colab": {
          "base_uri": "https://localhost:8080/"
        },
        "outputId": "7398f02b-ce97-418f-d50a-eca16307f6ca"
      },
      "source": [
        "#collapse_hide\n",
        "!pip install plotly==4.14.3\n",
        "import pandas as pd\n",
        "import numpy as np\n",
        "import math\n",
        "import plotly.graph_objects as go\n",
        "import plotly.express as px\n",
        "from scipy.stats import expon\n",
        "from scipy.stats import gamma\n",
        "from scipy.stats import weibull_min\n",
        "from numpy.random import default_rng\n",
        "rng = default_rng()\n",
        "\n",
        "# Let's build a numerical solution\n",
        "def seir_model(init, parms, days):\n",
        "    S_0, E_0, I_0, R_0 = init\n",
        "    Epd, Ipd, Rpd = [0], [0], [0]\n",
        "    S, E, I, R = [S_0], [E_0], [I_0], [R_0]\n",
        "    dt=0.1\n",
        "    t = np.linspace(0,days,int(days/dt))\n",
        "    sigma, beta, gam = parms\n",
        "    for _ in t[1:]:\n",
        "        next_S = S[-1] - beta*S[-1]*I[-1]*dt\n",
        "        Epd.append(beta*S[-1]*I[-1]*dt)\n",
        "        next_E = E[-1] + (beta*S[-1]*I[-1] - sigma*E[-1])*dt\n",
        "        Ipd.append(sigma*E[-1]*dt)\n",
        "        next_I = I[-1] + (sigma*E[-1] - gam*I[-1])*dt\n",
        "        Rpd.append(gam*I[-1]*dt)\n",
        "        next_R = R[-1] + (gam*I[-1])*dt\n",
        "        S.append(next_S)\n",
        "        E.append(next_E)\n",
        "        I.append(next_I)\n",
        "        R.append(next_R)\n",
        "    return np.stack([S, E, I, R, Epd, Ipd, Rpd]).T"
      ],
      "execution_count": 1,
      "outputs": [
        {
          "output_type": "stream",
          "text": [
            "Collecting plotly==4.14.3\n",
            "\u001b[?25l  Downloading https://files.pythonhosted.org/packages/1f/f6/bd3c17c8003b6641df1228e80e1acac97ed8402635e46c2571f8e1ef63af/plotly-4.14.3-py2.py3-none-any.whl (13.2MB)\n",
            "\u001b[K     |████████████████████████████████| 13.2MB 303kB/s \n",
            "\u001b[?25hRequirement already satisfied: retrying>=1.3.3 in /usr/local/lib/python3.7/dist-packages (from plotly==4.14.3) (1.3.3)\n",
            "Requirement already satisfied: six in /usr/local/lib/python3.7/dist-packages (from plotly==4.14.3) (1.15.0)\n",
            "Installing collected packages: plotly\n",
            "  Found existing installation: plotly 4.4.1\n",
            "    Uninstalling plotly-4.4.1:\n",
            "      Successfully uninstalled plotly-4.4.1\n",
            "Successfully installed plotly-4.14.3\n"
          ],
          "name": "stdout"
        }
      ]
    },
    {
      "cell_type": "markdown",
      "metadata": {
        "id": "42RmLhHwVj_2"
      },
      "source": [
        "### Creating the initial population dataframe\n",
        "\n",
        "Below is a function to create the initial population dataframe:\n",
        "* $p$ is the population number\n",
        "* $num_E$ is the number of people exposed on day 0\n",
        "* $num_I$ is the number of infectious on day 0\n",
        "* $num_R$ is the number of people recovered on day 0"
      ]
    },
    {
      "cell_type": "code",
      "metadata": {
        "id": "TYGGYIjObXgv"
      },
      "source": [
        "#collapse_hide\n",
        "# Need this new function for model below:\n",
        "def make_df(p, num_I, num_R):\n",
        "  df = pd.DataFrame(np.full((p,1), 'S').T[0], columns=['State'])\n",
        "  df['Year'] = 0\n",
        "  df['Age'] = (np.random.random(p)*35+15).astype(int)\n",
        "  tochange=df.loc[rng.choice(p, size=num_I+num_R, replace=False),'State'].index\n",
        "  df.loc[tochange[0:num_I],'State'] = 'I'\n",
        "  df.loc[tochange[num_I:num_I+num_R],'State'] = 'R'\n",
        "  return df"
      ],
      "execution_count": 2,
      "outputs": []
    },
    {
      "cell_type": "markdown",
      "metadata": {
        "id": "30fEs2dbap35"
      },
      "source": [
        "### Building the model"
      ]
    },
    {
      "cell_type": "code",
      "metadata": {
        "colab": {
          "base_uri": "https://localhost:8080/"
        },
        "id": "vhEHGn9AqmIW",
        "outputId": "c4ffb5fc-5872-44e5-8ff6-92c28721041b"
      },
      "source": [
        "#np.random.random(size=(p,days))\n",
        "#np.log(4)\n",
        "j=11\n",
        "over = 10\n",
        "#10/np.cumsum(np.ones(100))\n",
        "0.05 + (0.3/np.exp((j+1-over)/10))"
      ],
      "execution_count": 14,
      "outputs": [
        {
          "output_type": "execute_result",
          "data": {
            "text/plain": [
              "0.29561922592339457"
            ]
          },
          "metadata": {
            "tags": []
          },
          "execution_count": 14
        }
      ]
    },
    {
      "cell_type": "code",
      "metadata": {
        "id": "iT2XoyZad5Zw"
      },
      "source": [
        "#collapse_hide\n",
        "def seir_model_stoch(beta, beta2, p, num_I, num_R, years, T_Infectious, ART, control):\n",
        "\n",
        "    # Initialize population dataframe with data given by user\n",
        "    df = make_df(p, num_I, num_R)\n",
        "    \n",
        "    # This variable is used to track daily value of beta if it varies over time\n",
        "    xxbeta=np.array([],dtype=float)\n",
        "\n",
        "    # Initialize the arrays to return\n",
        "    # Below are numbers of S, I, R total\n",
        "    S=np.array([],dtype=int)\n",
        "    I=np.array([],dtype=int)\n",
        "    R=np.array([],dtype=int)\n",
        "    # Below are the daily additions in S, I, R\n",
        "    Spd=np.array([],dtype=int)\n",
        "    Ipd=np.array([],dtype=int)\n",
        "    Rpd=np.array([],dtype=int)\n",
        "\n",
        "    b=beta\n",
        "    #b2=beta[0]\n",
        "    b2=np.array([],dtype=float)\n",
        "    b1=b\n",
        "\n",
        "    # signal diminshing beta\n",
        "    over = 0 \n",
        "\n",
        "    # signal end of deaths due to ART\n",
        "    art1 = 0\n",
        "    art2 = 0\n",
        "\n",
        "    \n",
        "    # Stochastic model so use random values to decide on progression\n",
        "    rand = np.random.random(size=(p,years))\n",
        "\n",
        "    # Depending if you want exponential, gamma, or Weibull distribution for T_Infectious\n",
        "    # Uses distributions found on blog part 3\n",
        "    if T_Infectious == 'expon':\n",
        "      ItoR = expon.rvs(loc=0,scale=10,size=p)\n",
        "    elif T_Infectious == 'gamma':\n",
        "      ItoR = gamma.rvs(4,loc=3,scale=2,size=p)    \n",
        "    else:\n",
        "      ItoR = weibull_min.rvs(2.3, loc=2, scale=20.11, size=p)\n",
        "\n",
        "    # Iterate over every day the simulation is run\n",
        "    for j in range(0,years-1):\n",
        "\n",
        "        # Record daily beta values\n",
        "        xxbeta=np.append(xxbeta, b[j])\n",
        "\n",
        "        # First we get the index of the individuals that will change state today:\n",
        "\n",
        "        # Random number tells you which 'S' have been exposed on this day \n",
        "        #StoE_index = df.loc[(df.State == 'S') & (rand[:,j] < b[j]*len(np.where(df.State=='I')[0])/p)].index\n",
        "        if ART < 2:\n",
        "          StoI_index = df.loc[(df.State == 'S') & (df.Age < 49) & (rand[:,j] < b[j]*len(np.where(df.State=='I')[0])/(len(np.where(df.State=='I')[0])+len(np.where(df.State=='S')[0])))].index\n",
        "          StoS_index = df.loc[(df.State == 'S') & (df.Age < 49) & (rand[:,j] < b[j]*len(np.where(df.State=='I')[0])/(len(np.where(df.State=='I')[0])+len(np.where(df.State=='S')[0])))].index\n",
        "        elif ART == 2:\n",
        "          if art2 == 0:\n",
        "            StoI_index = df.loc[(df.State == 'S') & (df.Age < 49) & (rand[:,j] < b[j]*len(np.where(df.State=='I')[0])/(len(np.where(df.State=='I')[0])+len(np.where(df.State=='S')[0])))].index\n",
        "            StoS_index = df.loc[(df.State == 'S') & (df.Age < 49) & (rand[:,j] < b[j]*len(np.where(df.State=='I')[0])/(len(np.where(df.State=='I')[0])+len(np.where(df.State=='S')[0])))].index\n",
        "          elif art2 == 1:\n",
        "            StoI_index = df.loc[(df.State == 'S') & (df.Age > 55)].index\n",
        "            StoS_index = df.loc[(df.State == 'S') & (df.Age < 49)].index\n",
        "\n",
        "        StoRem_index = df.loc[(df.State == 'S') & (df.Age == 49)].index\n",
        "\n",
        "        # For each row, if a person has been a certain number of days in E, they will go to I\n",
        "        # This follows EtoI variable which is either exponential or gamma distributed according to above\n",
        "        #EtoI_index = df.loc[(df.State == 'E') & (j-df.Day >= EtoI)].index\n",
        "        \n",
        "        # Similaraly as above\n",
        "        # For each row, if a person has been a certain number of days in I, they will go to R\n",
        "        # This follows EtoI variable which is either exponential or gamma distributed according to above\n",
        "        ItoRem_index = df.loc[(df.State == 'I') & (df.Age == 49)].index\n",
        "        if ART == 0: #don't use ART\n",
        "          ItoR_index = df.loc[(df.State == 'I') & (j-df.Year >= ItoR) & (df.Age < 49)].index\n",
        "          ItoI_index = df.loc[(df.State == 'I') & (j-df.Year < ItoR) & (df.Age < 49)].index\n",
        "        elif ART > 0:\n",
        "          if art2 == 0:\n",
        "            ItoR_index = df.loc[(df.State == 'I') & (j-df.Year >= ItoR) & (df.Age < 49)].index\n",
        "            ItoI_index = df.loc[(df.State == 'I') & (j-df.Year < ItoR) & (df.Age < 49)].index\n",
        "          elif art2 ==1:\n",
        "            ItoR_index = df.loc[(df.State == 'I') & (df.Age > 49)].index\n",
        "            ItoI_index = df.loc[(df.State == 'I') & (df.Age < 49)].index            \n",
        "\n",
        "        RtoRem_index = df.loc[(df.State == 'R') & (df.Age == 49)].index\n",
        "        RtoR_index = df.loc[(df.State == 'R') & (df.Age < 49)].index\n",
        "\n",
        "        # Use indexes collected above to populate per day values\n",
        "        #Epd = np.append(Epd,len(StoE_index))\n",
        "        #Ipd = np.append(Ipd,len(EtoI_index))\n",
        "        Ipd = np.append(Ipd,len(StoI_index))\n",
        "        Rpd = np.append(Rpd,len(ItoR_index))\n",
        "\n",
        "        # Now we use the indexes collected above randomly to change the actual population dataframe to the new states\n",
        "        df.iloc[ItoRem_index] = ['S', j, 15]\n",
        "        df.loc[ItoR_index, ['State','Year']] = ['S', j]\n",
        "        df.loc[ItoR_index, 'Age'] = df.loc[ItoR_index, 'Age'] + 1\n",
        "        df.loc[ItoI_index, 'Age'] = df.loc[ItoI_index, 'Age'] + 1\n",
        "        df.iloc[StoRem_index] = ['S', j, 15]\n",
        "        df.loc[StoI_index, ['State','Year']] = ['I', j]\n",
        "        df.loc[StoI_index, 'Age'] = df.loc[StoI_index, 'Age'] + 1\n",
        "        df.loc[StoS_index, 'Age'] = df.loc[StoS_index, 'Age'] + 1\n",
        "        \n",
        "        df.iloc[RtoRem_index] = ['S', j, 15]\n",
        "        df.loc[RtoR_index, 'Age'] = df.loc[RtoR_index, 'Age'] + 1\n",
        "        \n",
        "        \n",
        "        # Append the S, I, and R arrays\n",
        "        S=np.append(S,len(np.where(df.State=='S')[0]))\n",
        "        I=np.append(I,len(np.where(df.State=='I')[0]))\n",
        "        R=np.append(R,len(np.where(df.State=='R')[0]))\n",
        "\n",
        "        # Code below for control measures to reduce beta values\n",
        "        if control == 1:\n",
        "          if (I[-1]/p > 0.015):\n",
        "            art1 = 1\n",
        "            if over == 0:\n",
        "              over = j\n",
        "          \n",
        "          if art1 == 1:\n",
        "            if j > over + 15:    \n",
        "            #if Ipd[-2] > Ipd[-1]:\n",
        "              art2 = 1\n",
        "\n",
        "          if over != 0:\n",
        "            #b = beta2+(b1/np.exp((j+3-over)/15))\n",
        "            b = beta2+(b1/np.exp((j+1-over)/10))\n",
        "\n",
        "        if control == 2:\n",
        "          if (I[-1]/p > 0.3):\n",
        "            art1 = 1\n",
        "            if over == 0:\n",
        "              over = j\n",
        "              #print(over)\n",
        "          \n",
        "          if art1 == 1:\n",
        "            if j > over + 15:    \n",
        "            #if Ipd[-2] > Ipd[-1]:\n",
        "              art2 = 1\n",
        "\n",
        "          if over != 0:\n",
        "            #b = beta2+(b1/np.exp((j+3-over)/15))\n",
        "            b = beta2+(b1/np.exp((j+1-over)/10))\n",
        "\n",
        "\n",
        "        xxbeta2 = ((S[j-1]+I[j-1])/I[j-1])*Ipd[j]/S[j-1]\n",
        "        #xxbeta2 = 0.5\n",
        "        #print(xxbeta2)\n",
        "        b2 = np.append(b2, xxbeta2)\n",
        "                \n",
        "    #Epd[0]+=num_E\n",
        "    Ipd[0]+=num_I\n",
        "    Rpd[0]+=num_R\n",
        "\n",
        "    #return S,E,I,R, Epd, Ipd, Rpd, xxbeta\n",
        "    return S, I, R, Spd, Ipd, Rpd, xxbeta, b2, over"
      ],
      "execution_count": 53,
      "outputs": []
    },
    {
      "cell_type": "markdown",
      "metadata": {
        "id": "5F__Fhakfd1-"
      },
      "source": [
        "## Testing the model"
      ]
    },
    {
      "cell_type": "code",
      "metadata": {
        "id": "wpfAaUGTdarx"
      },
      "source": [
        "#collapse_hide\n",
        "# Define parameters for stochastic model\n",
        "days = 200\n",
        "p = 10000\n",
        "num_E = 0\n",
        "num_I = 1\n",
        "num_R = 0\n",
        "beta_stoch = 0.3*np.ones(days)\n",
        "beta_stoch2 = 0.05\n",
        "\n",
        "# Run 3 stochastic simulations\n",
        "results_stoch1 = seir_model_stoch(beta_stoch,beta_stoch2, p, num_I, num_R, years, 'gamma', 0, 1)\n",
        "results_stoch2 = seir_model_stoch(beta_stoch, beta_stoch2, p, num_I, num_R, years, 'gamma', 0, 1)\n",
        "results_stoch3 = seir_model_stoch(beta_stoch, beta_stoch2, p, num_I, num_R, years, 'gamma', 0, 2)\n",
        "results_stoch4 = seir_model_stoch(beta_stoch, beta_stoch2, p, num_I, num_R, years, 'gamma', 0, 2)"
      ],
      "execution_count": null,
      "outputs": []
    },
    {
      "cell_type": "code",
      "metadata": {
        "id": "EdV1zAzxycvO",
        "outputId": "9e7b0837-af39-4954-c37f-a36bc9695dae",
        "colab": {
          "base_uri": "https://localhost:8080/"
        }
      },
      "source": [
        "results_stoch1[8]"
      ],
      "execution_count": 59,
      "outputs": [
        {
          "output_type": "execute_result",
          "data": {
            "text/plain": [
              "26"
            ]
          },
          "metadata": {
            "tags": []
          },
          "execution_count": 59
        }
      ]
    },
    {
      "cell_type": "code",
      "metadata": {
        "id": "ibxz7LHaQmbz",
        "colab": {
          "base_uri": "https://localhost:8080/",
          "height": 542
        },
        "outputId": "fbb17ebc-1431-45a6-8247-ad5dd4c56b8e"
      },
      "source": [
        "#collapse_hide\n",
        "fig = go.Figure(data=[    \n",
        "    go.Scatter(name='Beta_stoch1', x=np.arange(len(results_stoch1[0])), y=results_stoch1[6], line={'dash':'dot','color':'yellow'}, legendgroup=\"stoch1\"),\n",
        "    go.Scatter(name='Beta_meas1', x=np.arange(len(results_stoch1[0])), y=results_stoch1[7], line={'dash':'dot','color':'yellow'}, legendgroup=\"stoch1\"),\n",
        "    go.Scatter(name='I_stoch1', x=np.arange(len(results_stoch1[0])), y=results_stoch1[1]/p, line={'dash':'dot', 'color':'red'}, legendgroup=\"stoch1\"),\n",
        "    go.Bar(name='Ip_stoch1', x=np.arange(len(results_stoch1[0])), y=results_stoch1[4]*10/p, legendgroup=\"stoch1\"),\n",
        "    go.Scatter(name='R_stoch1', x=np.arange(len(results_stoch1[0])), y=results_stoch1[2]/p, line={'dash':'dot', 'color':'green'}, legendgroup=\"stoch1\"),\n",
        "    go.Scatter(name='Beta_stoch2', x=np.arange(len(results_stoch2[0])), y=results_stoch2[6], line={'dash':'dot','color':'yellow'}, legendgroup=\"stoch2\"),\n",
        "    go.Scatter(name='Beta_meas2', x=np.arange(len(results_stoch2[0])), y=results_stoch2[7], line={'dash':'dot','color':'yellow'}, legendgroup=\"stoch2\"),\n",
        "    go.Scatter(name='I_stoch2', x=np.arange(len(results_stoch2[0])), y=results_stoch2[1]/p, line={'dash':'dot', 'color':'red'}, legendgroup=\"stoch2\"),\n",
        "    go.Bar(name='Ip_stoch2', x=np.arange(len(results_stoch2[0])), y=results_stoch2[4]*10/p, legendgroup=\"stoch2\"),\n",
        "    go.Scatter(name='R_stoch2', x=np.arange(len(results_stoch2[0])), y=results_stoch2[2]/p, line={'dash':'dot', 'color':'green'}, legendgroup=\"stoch2\"),\n",
        "    go.Scatter(name='Beta_stoch3', x=np.arange(len(results_stoch3[0])), y=results_stoch3[6], line={'dash':'dot', 'color':'yellow'}, legendgroup=\"stoch3\"),\n",
        "    go.Scatter(name='Beta_meas3', x=np.arange(len(results_stoch3[0])), y=results_stoch3[7], line={'dash':'dot','color':'yellow'}, legendgroup=\"stoch3\"),\n",
        "    go.Scatter(name='I_stoch3', x=np.arange(len(results_stoch3[0])), y=results_stoch3[1]/p, line={'dash':'dot', 'color':'red'}, legendgroup=\"stoch3\"),\n",
        "    go.Bar(name='Ip_stoch3', x=np.arange(len(results_stoch3[0])), y=results_stoch3[4]*10/p, legendgroup=\"stoch3\"),\n",
        "    go.Scatter(name='R_stoch3', x=np.arange(len(results_stoch3[0])), y=results_stoch3[2]/p, line={'dash':'dot', 'color':'green'}, legendgroup=\"stoch3\"),\n",
        "    go.Scatter(name='Beta_stoch4', x=np.arange(len(results_stoch4[0])), y=results_stoch4[6], line={'dash':'dot', 'color':'yellow'}, legendgroup=\"stoch4\"),\n",
        "    go.Scatter(name='Beta_meas4', x=np.arange(len(results_stoch4[0])), y=results_stoch4[7], line={'dash':'dot','color':'yellow'}, legendgroup=\"stoch4\"),\n",
        "    go.Scatter(name='I_stoch4', x=np.arange(len(results_stoch4[0])), y=results_stoch4[1]/p, line={'dash':'dot', 'color':'red'}, legendgroup=\"stoch4\"),\n",
        "    go.Bar(name='Ip_stoch4', x=np.arange(len(results_stoch4[0])), y=results_stoch4[4]*10/p, legendgroup=\"stoch4\"),\n",
        "    go.Scatter(name='R_stoch4', x=np.arange(len(results_stoch4[0])), y=results_stoch4[2]/p, line={'dash':'dot', 'color':'green'}, legendgroup=\"stoch4\")\n",
        "])\n",
        "\n",
        "fig.update_layout(\n",
        "    xaxis_title = 'Day',\n",
        "    yaxis_title = 'Proportion of population',\n",
        "    title={\n",
        "        'text':r'$\\text{Effect of stochasticity on Deterministic SEIR model}$',\n",
        "        'x':0.5,\n",
        "        'xanchor':'center'\n",
        "    }\n",
        ")\n",
        "\n",
        "fig.show()"
      ],
      "execution_count": 60,
      "outputs": [
        {
          "output_type": "display_data",
          "data": {
            "text/html": [
              "<html>\n",
              "<head><meta charset=\"utf-8\" /></head>\n",
              "<body>\n",
              "    <div>            <script src=\"https://cdnjs.cloudflare.com/ajax/libs/mathjax/2.7.5/MathJax.js?config=TeX-AMS-MML_SVG\"></script><script type=\"text/javascript\">if (window.MathJax) {MathJax.Hub.Config({SVG: {font: \"STIX-Web\"}});}</script>                <script type=\"text/javascript\">window.PlotlyConfig = {MathJaxConfig: 'local'};</script>\n",
              "        <script src=\"https://cdn.plot.ly/plotly-latest.min.js\"></script>                <div id=\"62db6d9a-5eea-4b36-82bb-33f726461efd\" class=\"plotly-graph-div\" style=\"height:525px; width:100%;\"></div>            <script type=\"text/javascript\">                                    window.PLOTLYENV=window.PLOTLYENV || {};                                    if (document.getElementById(\"62db6d9a-5eea-4b36-82bb-33f726461efd\")) {                    Plotly.newPlot(                        \"62db6d9a-5eea-4b36-82bb-33f726461efd\",                        [{\"legendgroup\": \"stoch1\", \"line\": {\"color\": \"yellow\", \"dash\": \"dot\"}, \"name\": \"Beta_stoch1\", \"type\": \"scatter\", \"x\": [0, 1, 2, 3, 4, 5, 6, 7, 8, 9, 10, 11, 12, 13, 14, 15, 16, 17, 18, 19, 20, 21, 22, 23, 24, 25, 26, 27, 28, 29, 30, 31, 32, 33, 34, 35, 36, 37, 38, 39, 40, 41, 42, 43, 44, 45, 46, 47, 48, 49, 50, 51, 52, 53, 54, 55, 56, 57, 58, 59, 60, 61, 62, 63, 64, 65, 66, 67, 68, 69, 70, 71, 72, 73, 74, 75, 76, 77, 78, 79, 80, 81, 82, 83, 84, 85, 86, 87, 88, 89, 90, 91, 92, 93, 94, 95, 96, 97, 98], \"y\": [0.3, 0.3, 0.3, 0.3, 0.3, 0.3, 0.3, 0.3, 0.3, 0.3, 0.3, 0.3, 0.3, 0.3, 0.3, 0.3, 0.3, 0.3, 0.3, 0.3, 0.3, 0.3, 0.3, 0.3, 0.3, 0.3, 0.3, 0.32145122541078786, 0.29561922592339457, 0.27224546620451534, 0.2510960138106918, 0.23195919791379, 0.21464349082820794, 0.19897559113742286, 0.18479868923516646, 0.17197089792217973, 0.1603638323514327, 0.14986132510942385, 0.14035826357366063, 0.13175953791020378, 0.12397908918248195, 0.11693904804452895, 0.11056895539839662, 0.1048050572158204, 0.09958966646647596, 0.09487058576679053, 0.0906005849709838, 0.08673692847589456, 0.08324094750870016, 0.08007765311684113, 0.07721538598682376, 0.07462549958716964, 0.07228207346430016, 0.07016165382192494, 0.06824301878756539, 0.06650696601692217, 0.06493612051035919, 0.06351476071806735, 0.062228661193509865, 0.061064950220372005, 0.060011980988097825, 0.059059215026695554, 0.05819711673418777, 0.057417057941101815, 0.056711231556849685, 0.05607257343374132, 0.05549469166662026, 0.05497180262052838, 0.054498673046143316, 0.05407056770366028, 0.05368320197092053, 0.0533326989614727, 0.05301555072339008, 0.052728583130508745, 0.05246892411470601, 0.05223397492127731, 0.05202138409972564, 0.05182902396965469, 0.051654969326228234, 0.05149747817207307, 0.0513549742827838, 0.051226031431539226, 0.05110935911494488, 0.051003789637241385, 0.05090826642361275, 0.050821833445630515, 0.05074362565299991, 0.050672860315845746, 0.05060882919088872, 0.050550891433108674, 0.05049846718195218, 0.050451031757893276, 0.05040811041126437, 0.050369273570802044, 0.05033413254435344, 0.050302335628714556, 0.05027356458966636, 0.05024753147697977, 0.050223975742513007]}, {\"legendgroup\": \"stoch1\", \"line\": {\"color\": \"yellow\", \"dash\": \"dot\"}, \"name\": \"Beta_meas1\", \"type\": \"scatter\", \"x\": [0, 1, 2, 3, 4, 5, 6, 7, 8, 9, 10, 11, 12, 13, 14, 15, 16, 17, 18, 19, 20, 21, 22, 23, 24, 25, 26, 27, 28, 29, 30, 31, 32, 33, 34, 35, 36, 37, 38, 39, 40, 41, 42, 43, 44, 45, 46, 47, 48, 49, 50, 51, 52, 53, 54, 55, 56, 57, 58, 59, 60, 61, 62, 63, 64, 65, 66, 67, 68, 69, 70, 71, 72, 73, 74, 75, 76, 77, 78, 79, 80, 81, 82, 83, 84, 85, 86, 87, 88, 89, 90, 91, 92, 93, 94, 95, 96, 97, 98], \"y\": [0.0, 0.0, 0.0, 0.0, 2.000200020002, 0.33343336334233603, 0.5002000800320128, 0.1667667267026883, 0.1429572129061772, 0.1429572129061772, 0.2859144258123544, 0.12510008006405124, 0.37530024019215374, 0.3640368041208966, 0.14305742324969242, 0.250400641025641, 0.15819530792716688, 0.20040080160320642, 0.40080160320641284, 0.4827850009841387, 0.25100401606425704, 0.3140072347266881, 0.3815231792673368, 0.24242145863715764, 0.3294455219320386, 0.34887453076375613, 0.29888425811366504, 0.39652489983615813, 0.30477772025441524, 0.24812615130534205, 0.2583244354916664, 0.23602013041397465, 0.24107907792233668, 0.21870763077812214, 0.19405951728993898, 0.16317606999622636, 0.1780682774394691, 0.15295686477361692, 0.11900082973055594, 0.11425245412684625, 0.1513607018194174, 0.11282670945694509, 0.1156602380663348, 0.09629578057889364, 0.09494933180631314, 0.10060188529905637, 0.10601744095893667, 0.0694315937297837, 0.07386771347769196, 0.06848291324138868, 0.08476837719079633, 0.06141449873486132, 0.06208464913225746, 0.06101741475964527, 0.05222721587707362, 0.07057532416128579, 0.08778960558748496, 0.05846143101890847, 0.0681453543732946, 0.0600029189655285, 0.0641641546400125, 0.060634551955189554, 0.056187396203818976, 0.04702928813049174, 0.05424091645452442, 0.04516926588056295, 0.07498207540559486, 0.039536370165855074, 0.061424787023511174, 0.07928604967828952, 0.04685645875284507, 0.04323957038398283, 0.04770423375074538, 0.06699862250832123, 0.04780121251189908, 0.050392267810427174, 0.047437014591625686, 0.0682708029670491, 0.05689233580587425, 0.05114326842465751, 0.07327510405064776, 0.051917948873600156, 0.07616866789819376, 0.0552835255093982, 0.04039614071430072, 0.045843189619101436, 0.050410340168975463, 0.07501623880934226, 0.06509557766683562, 0.06050571541309629, 0.059285959898976726, 0.021879501707476313, 0.04488298109169773, 0.026814935382709466, 0.06940720233911526, 0.05112474437627812, 0.04627146822607685, 0.04258653584082857, 0.057564144445707656]}, {\"legendgroup\": \"stoch1\", \"line\": {\"color\": \"red\", \"dash\": \"dot\"}, \"name\": \"I_stoch1\", \"type\": \"scatter\", \"x\": [0, 1, 2, 3, 4, 5, 6, 7, 8, 9, 10, 11, 12, 13, 14, 15, 16, 17, 18, 19, 20, 21, 22, 23, 24, 25, 26, 27, 28, 29, 30, 31, 32, 33, 34, 35, 36, 37, 38, 39, 40, 41, 42, 43, 44, 45, 46, 47, 48, 49, 50, 51, 52, 53, 54, 55, 56, 57, 58, 59, 60, 61, 62, 63, 64, 65, 66, 67, 68, 69, 70, 71, 72, 73, 74, 75, 76, 77, 78, 79, 80, 81, 82, 83, 84, 85, 86, 87, 88, 89, 90, 91, 92, 93, 94, 95, 96, 97, 98], \"y\": [0.0001, 0.0001, 0.0001, 0.0001, 0.0003, 0.0004, 0.0006, 0.0007, 0.0007, 0.0007, 0.0008, 0.0008, 0.0011, 0.0014, 0.0016, 0.0019, 0.002, 0.002, 0.0027, 0.004, 0.0048, 0.0058, 0.0079, 0.0095, 0.0116, 0.0146, 0.0185, 0.0249, 0.0312, 0.0374, 0.0448, 0.053, 0.0619, 0.0704, 0.0792, 0.0867, 0.0954, 0.102, 0.1057, 0.109, 0.1129, 0.1142, 0.1177, 0.1155, 0.1145, 0.1139, 0.1119, 0.106, 0.1025, 0.0981, 0.0954, 0.0903, 0.0841, 0.079, 0.0734, 0.0698, 0.0679, 0.0643, 0.0603, 0.0579, 0.0559, 0.0526, 0.0492, 0.0464, 0.044, 0.0403, 0.0395, 0.0372, 0.0353, 0.0354, 0.0335, 0.0325, 0.0308, 0.0302, 0.0286, 0.0282, 0.0271, 0.0271, 0.0261, 0.0252, 0.0257, 0.0256, 0.026, 0.0254, 0.0246, 0.0244, 0.0232, 0.0236, 0.0237, 0.0242, 0.0234, 0.0228, 0.0229, 0.0221, 0.022, 0.0221, 0.0216, 0.0213, 0.0218]}, {\"legendgroup\": \"stoch1\", \"name\": \"Ip_stoch1\", \"type\": \"bar\", \"x\": [0, 1, 2, 3, 4, 5, 6, 7, 8, 9, 10, 11, 12, 13, 14, 15, 16, 17, 18, 19, 20, 21, 22, 23, 24, 25, 26, 27, 28, 29, 30, 31, 32, 33, 34, 35, 36, 37, 38, 39, 40, 41, 42, 43, 44, 45, 46, 47, 48, 49, 50, 51, 52, 53, 54, 55, 56, 57, 58, 59, 60, 61, 62, 63, 64, 65, 66, 67, 68, 69, 70, 71, 72, 73, 74, 75, 76, 77, 78, 79, 80, 81, 82, 83, 84, 85, 86, 87, 88, 89, 90, 91, 92, 93, 94, 95, 96, 97, 98], \"y\": [0.001, 0.0, 0.0, 0.0, 0.002, 0.001, 0.002, 0.001, 0.001, 0.001, 0.002, 0.001, 0.003, 0.004, 0.002, 0.004, 0.003, 0.004, 0.008, 0.013, 0.01, 0.015, 0.022, 0.019, 0.031, 0.04, 0.043, 0.072, 0.074, 0.075, 0.093, 0.101, 0.121, 0.127, 0.127, 0.119, 0.141, 0.132, 0.109, 0.108, 0.147, 0.113, 0.117, 0.1, 0.097, 0.102, 0.107, 0.069, 0.07, 0.063, 0.075, 0.053, 0.051, 0.047, 0.038, 0.048, 0.057, 0.037, 0.041, 0.034, 0.035, 0.032, 0.028, 0.022, 0.024, 0.019, 0.029, 0.015, 0.022, 0.027, 0.016, 0.014, 0.015, 0.02, 0.014, 0.014, 0.013, 0.018, 0.015, 0.013, 0.018, 0.013, 0.019, 0.014, 0.01, 0.011, 0.012, 0.017, 0.015, 0.014, 0.014, 0.005, 0.01, 0.006, 0.015, 0.011, 0.01, 0.009, 0.012]}, {\"legendgroup\": \"stoch1\", \"line\": {\"color\": \"green\", \"dash\": \"dot\"}, \"name\": \"R_stoch1\", \"type\": \"scatter\", \"x\": [0, 1, 2, 3, 4, 5, 6, 7, 8, 9, 10, 11, 12, 13, 14, 15, 16, 17, 18, 19, 20, 21, 22, 23, 24, 25, 26, 27, 28, 29, 30, 31, 32, 33, 34, 35, 36, 37, 38, 39, 40, 41, 42, 43, 44, 45, 46, 47, 48, 49, 50, 51, 52, 53, 54, 55, 56, 57, 58, 59, 60, 61, 62, 63, 64, 65, 66, 67, 68, 69, 70, 71, 72, 73, 74, 75, 76, 77, 78, 79, 80, 81, 82, 83, 84, 85, 86, 87, 88, 89, 90, 91, 92, 93, 94, 95, 96, 97, 98], \"y\": [0.0, 0.0, 0.0, 0.0, 0.0, 0.0, 0.0, 0.0, 0.0, 0.0, 0.0, 0.0, 0.0, 0.0, 0.0, 0.0, 0.0, 0.0, 0.0, 0.0, 0.0, 0.0, 0.0, 0.0, 0.0, 0.0, 0.0, 0.0, 0.0, 0.0, 0.0, 0.0, 0.0, 0.0, 0.0, 0.0, 0.0, 0.0, 0.0, 0.0, 0.0, 0.0, 0.0, 0.0, 0.0, 0.0, 0.0, 0.0, 0.0, 0.0, 0.0, 0.0, 0.0, 0.0, 0.0, 0.0, 0.0, 0.0, 0.0, 0.0, 0.0, 0.0, 0.0, 0.0, 0.0, 0.0, 0.0, 0.0, 0.0, 0.0, 0.0, 0.0, 0.0, 0.0, 0.0, 0.0, 0.0, 0.0, 0.0, 0.0, 0.0, 0.0, 0.0, 0.0, 0.0, 0.0, 0.0, 0.0, 0.0, 0.0, 0.0, 0.0, 0.0, 0.0, 0.0, 0.0, 0.0, 0.0, 0.0]}, {\"legendgroup\": \"stoch2\", \"line\": {\"color\": \"yellow\", \"dash\": \"dot\"}, \"name\": \"Beta_stoch2\", \"type\": \"scatter\", \"x\": [0, 1, 2, 3, 4, 5, 6, 7, 8, 9, 10, 11, 12, 13, 14, 15, 16, 17, 18, 19, 20, 21, 22, 23, 24, 25, 26, 27, 28, 29, 30, 31, 32, 33, 34, 35, 36, 37, 38, 39, 40, 41, 42, 43, 44, 45, 46, 47, 48, 49, 50, 51, 52, 53, 54, 55, 56, 57, 58, 59, 60, 61, 62, 63, 64, 65, 66, 67, 68, 69, 70, 71, 72, 73, 74, 75, 76, 77, 78, 79, 80, 81, 82, 83, 84, 85, 86, 87, 88, 89, 90, 91, 92, 93, 94, 95, 96, 97, 98], \"y\": [0.3, 0.3, 0.3, 0.3, 0.3, 0.3, 0.3, 0.3, 0.3, 0.3, 0.3, 0.3, 0.3, 0.3, 0.3, 0.3, 0.3, 0.3, 0.3, 0.3, 0.3, 0.3, 0.3, 0.3, 0.3, 0.3, 0.3, 0.3, 0.3, 0.3, 0.3, 0.3, 0.3, 0.3, 0.3, 0.3, 0.3, 0.3, 0.3, 0.3, 0.3, 0.3, 0.3, 0.3, 0.3, 0.3, 0.3, 0.3, 0.3, 0.3, 0.3, 0.3, 0.3, 0.3, 0.3, 0.3, 0.3, 0.3, 0.3, 0.3, 0.3, 0.3, 0.3, 0.3, 0.3, 0.3, 0.3, 0.3, 0.3, 0.3, 0.3, 0.3, 0.3, 0.3, 0.3, 0.3, 0.3, 0.3, 0.3, 0.3, 0.3, 0.3, 0.3, 0.3, 0.3, 0.3, 0.3, 0.3, 0.3, 0.3, 0.3, 0.3, 0.3, 0.3, 0.3, 0.3, 0.3, 0.3, 0.3]}, {\"legendgroup\": \"stoch2\", \"line\": {\"color\": \"yellow\", \"dash\": \"dot\"}, \"name\": \"Beta_meas2\", \"type\": \"scatter\", \"x\": [0, 1, 2, 3, 4, 5, 6, 7, 8, 9, 10, 11, 12, 13, 14, 15, 16, 17, 18, 19, 20, 21, 22, 23, 24, 25, 26, 27, 28, 29, 30, 31, 32, 33, 34, 35, 36, 37, 38, 39, 40, 41, 42, 43, 44, 45, 46, 47, 48, 49, 50, 51, 52, 53, 54, 55, 56, 57, 58, 59, 60, 61, 62, 63, 64, 65, 66, 67, 68, 69, 70, 71, 72, 73, 74, 75, 76, 77, 78, 79, 80, 81, 82, 83, 84, 85, 86, 87, 88, 89, 90, 91, 92, 93, 94, 95, 96, 97, 98], \"y\": [0.0, 1.000100010001, 0.0, 0.0, 0.0, 0.0, 0.0, 0.0, 0.0, 0.0, 0.0, null, null, null, null, null, null, null, null, null, null, null, null, null, null, null, null, null, null, null, null, null, null, null, null, null, null, null, null, null, null, null, null, null, null, null, null, null, null, null, null, null, null, null, null, null, null, null, null, null, null, null, null, null, null, null, null, null, null, null, null, null, null, null, null, null, null, null, null, null, null, null, null, null, null, null, null, null, null, null, null, null, null, null, null, null, null, null, null]}, {\"legendgroup\": \"stoch2\", \"line\": {\"color\": \"red\", \"dash\": \"dot\"}, \"name\": \"I_stoch2\", \"type\": \"scatter\", \"x\": [0, 1, 2, 3, 4, 5, 6, 7, 8, 9, 10, 11, 12, 13, 14, 15, 16, 17, 18, 19, 20, 21, 22, 23, 24, 25, 26, 27, 28, 29, 30, 31, 32, 33, 34, 35, 36, 37, 38, 39, 40, 41, 42, 43, 44, 45, 46, 47, 48, 49, 50, 51, 52, 53, 54, 55, 56, 57, 58, 59, 60, 61, 62, 63, 64, 65, 66, 67, 68, 69, 70, 71, 72, 73, 74, 75, 76, 77, 78, 79, 80, 81, 82, 83, 84, 85, 86, 87, 88, 89, 90, 91, 92, 93, 94, 95, 96, 97, 98], \"y\": [0.0001, 0.0002, 0.0002, 0.0001, 0.0001, 0.0001, 0.0001, 0.0001, 0.0001, 0.0001, 0.0, 0.0, 0.0, 0.0, 0.0, 0.0, 0.0, 0.0, 0.0, 0.0, 0.0, 0.0, 0.0, 0.0, 0.0, 0.0, 0.0, 0.0, 0.0, 0.0, 0.0, 0.0, 0.0, 0.0, 0.0, 0.0, 0.0, 0.0, 0.0, 0.0, 0.0, 0.0, 0.0, 0.0, 0.0, 0.0, 0.0, 0.0, 0.0, 0.0, 0.0, 0.0, 0.0, 0.0, 0.0, 0.0, 0.0, 0.0, 0.0, 0.0, 0.0, 0.0, 0.0, 0.0, 0.0, 0.0, 0.0, 0.0, 0.0, 0.0, 0.0, 0.0, 0.0, 0.0, 0.0, 0.0, 0.0, 0.0, 0.0, 0.0, 0.0, 0.0, 0.0, 0.0, 0.0, 0.0, 0.0, 0.0, 0.0, 0.0, 0.0, 0.0, 0.0, 0.0, 0.0, 0.0, 0.0, 0.0, 0.0]}, {\"legendgroup\": \"stoch2\", \"name\": \"Ip_stoch2\", \"type\": \"bar\", \"x\": [0, 1, 2, 3, 4, 5, 6, 7, 8, 9, 10, 11, 12, 13, 14, 15, 16, 17, 18, 19, 20, 21, 22, 23, 24, 25, 26, 27, 28, 29, 30, 31, 32, 33, 34, 35, 36, 37, 38, 39, 40, 41, 42, 43, 44, 45, 46, 47, 48, 49, 50, 51, 52, 53, 54, 55, 56, 57, 58, 59, 60, 61, 62, 63, 64, 65, 66, 67, 68, 69, 70, 71, 72, 73, 74, 75, 76, 77, 78, 79, 80, 81, 82, 83, 84, 85, 86, 87, 88, 89, 90, 91, 92, 93, 94, 95, 96, 97, 98], \"y\": [0.001, 0.001, 0.0, 0.0, 0.0, 0.0, 0.0, 0.0, 0.0, 0.0, 0.0, 0.0, 0.0, 0.0, 0.0, 0.0, 0.0, 0.0, 0.0, 0.0, 0.0, 0.0, 0.0, 0.0, 0.0, 0.0, 0.0, 0.0, 0.0, 0.0, 0.0, 0.0, 0.0, 0.0, 0.0, 0.0, 0.0, 0.0, 0.0, 0.0, 0.0, 0.0, 0.0, 0.0, 0.0, 0.0, 0.0, 0.0, 0.0, 0.0, 0.0, 0.0, 0.0, 0.0, 0.0, 0.0, 0.0, 0.0, 0.0, 0.0, 0.0, 0.0, 0.0, 0.0, 0.0, 0.0, 0.0, 0.0, 0.0, 0.0, 0.0, 0.0, 0.0, 0.0, 0.0, 0.0, 0.0, 0.0, 0.0, 0.0, 0.0, 0.0, 0.0, 0.0, 0.0, 0.0, 0.0, 0.0, 0.0, 0.0, 0.0, 0.0, 0.0, 0.0, 0.0, 0.0, 0.0, 0.0, 0.0]}, {\"legendgroup\": \"stoch2\", \"line\": {\"color\": \"green\", \"dash\": \"dot\"}, \"name\": \"R_stoch2\", \"type\": \"scatter\", \"x\": [0, 1, 2, 3, 4, 5, 6, 7, 8, 9, 10, 11, 12, 13, 14, 15, 16, 17, 18, 19, 20, 21, 22, 23, 24, 25, 26, 27, 28, 29, 30, 31, 32, 33, 34, 35, 36, 37, 38, 39, 40, 41, 42, 43, 44, 45, 46, 47, 48, 49, 50, 51, 52, 53, 54, 55, 56, 57, 58, 59, 60, 61, 62, 63, 64, 65, 66, 67, 68, 69, 70, 71, 72, 73, 74, 75, 76, 77, 78, 79, 80, 81, 82, 83, 84, 85, 86, 87, 88, 89, 90, 91, 92, 93, 94, 95, 96, 97, 98], \"y\": [0.0, 0.0, 0.0, 0.0, 0.0, 0.0, 0.0, 0.0, 0.0, 0.0, 0.0, 0.0, 0.0, 0.0, 0.0, 0.0, 0.0, 0.0, 0.0, 0.0, 0.0, 0.0, 0.0, 0.0, 0.0, 0.0, 0.0, 0.0, 0.0, 0.0, 0.0, 0.0, 0.0, 0.0, 0.0, 0.0, 0.0, 0.0, 0.0, 0.0, 0.0, 0.0, 0.0, 0.0, 0.0, 0.0, 0.0, 0.0, 0.0, 0.0, 0.0, 0.0, 0.0, 0.0, 0.0, 0.0, 0.0, 0.0, 0.0, 0.0, 0.0, 0.0, 0.0, 0.0, 0.0, 0.0, 0.0, 0.0, 0.0, 0.0, 0.0, 0.0, 0.0, 0.0, 0.0, 0.0, 0.0, 0.0, 0.0, 0.0, 0.0, 0.0, 0.0, 0.0, 0.0, 0.0, 0.0, 0.0, 0.0, 0.0, 0.0, 0.0, 0.0, 0.0, 0.0, 0.0, 0.0, 0.0, 0.0]}, {\"legendgroup\": \"stoch3\", \"line\": {\"color\": \"yellow\", \"dash\": \"dot\"}, \"name\": \"Beta_stoch3\", \"type\": \"scatter\", \"x\": [0, 1, 2, 3, 4, 5, 6, 7, 8, 9, 10, 11, 12, 13, 14, 15, 16, 17, 18, 19, 20, 21, 22, 23, 24, 25, 26, 27, 28, 29, 30, 31, 32, 33, 34, 35, 36, 37, 38, 39, 40, 41, 42, 43, 44, 45, 46, 47, 48, 49, 50, 51, 52, 53, 54, 55, 56, 57, 58, 59, 60, 61, 62, 63, 64, 65, 66, 67, 68, 69, 70, 71, 72, 73, 74, 75, 76, 77, 78, 79, 80, 81, 82, 83, 84, 85, 86, 87, 88, 89, 90, 91, 92, 93, 94, 95, 96, 97, 98], \"y\": [0.3, 0.3, 0.3, 0.3, 0.3, 0.3, 0.3, 0.3, 0.3, 0.3, 0.3, 0.3, 0.3, 0.3, 0.3, 0.3, 0.3, 0.3, 0.3, 0.3, 0.3, 0.3, 0.3, 0.3, 0.3, 0.3, 0.3, 0.3, 0.3, 0.3, 0.3, 0.3, 0.3, 0.3, 0.3, 0.3, 0.3, 0.3, 0.3, 0.3, 0.3, 0.32145122541078786, 0.29561922592339457, 0.27224546620451534, 0.2510960138106918, 0.23195919791379, 0.21464349082820794, 0.19897559113742286, 0.18479868923516646, 0.17197089792217973, 0.1603638323514327, 0.14986132510942385, 0.14035826357366063, 0.13175953791020378, 0.12397908918248195, 0.11693904804452895, 0.11056895539839662, 0.1048050572158204, 0.09958966646647596, 0.09487058576679053, 0.0906005849709838, 0.08673692847589456, 0.08324094750870016, 0.08007765311684113, 0.07721538598682376, 0.07462549958716964, 0.07228207346430016, 0.07016165382192494, 0.06824301878756539, 0.06650696601692217, 0.06493612051035919, 0.06351476071806735, 0.062228661193509865, 0.061064950220372005, 0.060011980988097825, 0.059059215026695554, 0.05819711673418777, 0.057417057941101815, 0.056711231556849685, 0.05607257343374132, 0.05549469166662026, 0.05497180262052838, 0.054498673046143316, 0.05407056770366028, 0.05368320197092053, 0.0533326989614727, 0.05301555072339008, 0.052728583130508745, 0.05246892411470601, 0.05223397492127731, 0.05202138409972564, 0.05182902396965469, 0.051654969326228234, 0.05149747817207307, 0.0513549742827838, 0.051226031431539226, 0.05110935911494488, 0.051003789637241385, 0.05090826642361275]}, {\"legendgroup\": \"stoch3\", \"line\": {\"color\": \"yellow\", \"dash\": \"dot\"}, \"name\": \"Beta_meas3\", \"type\": \"scatter\", \"x\": [0, 1, 2, 3, 4, 5, 6, 7, 8, 9, 10, 11, 12, 13, 14, 15, 16, 17, 18, 19, 20, 21, 22, 23, 24, 25, 26, 27, 28, 29, 30, 31, 32, 33, 34, 35, 36, 37, 38, 39, 40, 41, 42, 43, 44, 45, 46, 47, 48, 49, 50, 51, 52, 53, 54, 55, 56, 57, 58, 59, 60, 61, 62, 63, 64, 65, 66, 67, 68, 69, 70, 71, 72, 73, 74, 75, 76, 77, 78, 79, 80, 81, 82, 83, 84, 85, 86, 87, 88, 89, 90, 91, 92, 93, 94, 95, 96, 97, 98], \"y\": [0.0, 1.000100010001, 0.5001000200040008, 0.0, 0.33343336334233603, 0.0, 0.0, 0.0, 0.2501000400160064, 0.2001000500250125, 0.5002000800320128, 0.0, 0.2001000500250125, 0.7503001200480192, 0.5718288516247088, 0.7280736082417932, 0.21092707723622248, 0.31888336157728825, 0.3458304946413565, 0.2905778801551157, 0.2992789514975705, 0.4773928892329149, 0.3073987182703043, 0.26262626262626265, 0.3153223424135104, 0.31860007128676593, 0.3186174551386623, 0.25085897941213114, 0.2725355968653451, 0.24757781516364602, 0.31635802661343215, 0.31675762856274153, 0.28260659896266943, 0.28858618177560313, 0.3030058177117001, 0.2821716827872646, 0.2965679028339373, 0.3232282860600567, 0.32845769171664896, 0.29953821823292925, 0.3233418101144846, 0.30541811740272434, 0.30767591306847725, 0.27514808600622964, 0.2569561337737722, 0.24360015590409978, 0.20704930662557783, 0.20853462157809982, 0.17639870855155104, 0.15916078507125025, 0.15657119677723483, 0.15301174377150076, 0.1320019061075242, 0.13980187390592017, 0.13514809335000588, 0.10932767971557311, 0.11372595968698015, 0.09829356103977857, 0.09761746592251332, 0.09614134525777351, 0.09611806964014652, 0.08685865277770488, 0.08799134511359538, 0.07397336879288967, 0.07456590603401293, 0.06993234452250845, 0.06994489877352474, 0.07928860840445048, 0.06974084302731051, 0.059995061051748254, 0.062088666800427246, 0.06811032468261993, 0.05601068742874759, 0.05824936880983957, 0.06691066756773031, 0.05318795734890943, 0.06595070237064139, 0.047547636451848244, 0.06414473133769467, 0.05337644625149133, 0.05346322917904242, 0.06768553913839385, 0.05551343168428066, 0.0564454349967448, 0.050566827236067785, 0.055390686805417075, 0.053475989447850376, 0.060231550536259684, 0.05729448125805848, 0.05425850784947443, 0.05652358075470991, 0.04496309240057477, 0.036267363000036267, 0.05265715527993296, 0.054418152883371144, 0.051103425155967656, 0.05260391968484863, 0.04279580590727368, 0.05737813418050147]}, {\"legendgroup\": \"stoch3\", \"line\": {\"color\": \"red\", \"dash\": \"dot\"}, \"name\": \"I_stoch3\", \"type\": \"scatter\", \"x\": [0, 1, 2, 3, 4, 5, 6, 7, 8, 9, 10, 11, 12, 13, 14, 15, 16, 17, 18, 19, 20, 21, 22, 23, 24, 25, 26, 27, 28, 29, 30, 31, 32, 33, 34, 35, 36, 37, 38, 39, 40, 41, 42, 43, 44, 45, 46, 47, 48, 49, 50, 51, 52, 53, 54, 55, 56, 57, 58, 59, 60, 61, 62, 63, 64, 65, 66, 67, 68, 69, 70, 71, 72, 73, 74, 75, 76, 77, 78, 79, 80, 81, 82, 83, 84, 85, 86, 87, 88, 89, 90, 91, 92, 93, 94, 95, 96, 97, 98], \"y\": [0.0001, 0.0002, 0.0003, 0.0003, 0.0004, 0.0004, 0.0004, 0.0004, 0.0005, 0.0004, 0.0006, 0.0005, 0.0004, 0.0007, 0.0011, 0.0019, 0.0022, 0.0029, 0.0038, 0.0047, 0.0059, 0.0082, 0.01, 0.0122, 0.0153, 0.0192, 0.0241, 0.0291, 0.0356, 0.0419, 0.0523, 0.0651, 0.0786, 0.0952, 0.1163, 0.1381, 0.1667, 0.2033, 0.2443, 0.2858, 0.3366, 0.3829, 0.429, 0.4695, 0.4996, 0.528, 0.54, 0.5476, 0.5427, 0.5302, 0.5186, 0.5019, 0.481, 0.4628, 0.4449, 0.4198, 0.3955, 0.3718, 0.3545, 0.3346, 0.3137, 0.295, 0.2796, 0.2615, 0.244, 0.2277, 0.2154, 0.2034, 0.1918, 0.1809, 0.172, 0.1619, 0.1518, 0.1451, 0.1399, 0.1329, 0.1278, 0.1226, 0.1191, 0.114, 0.1095, 0.1069, 0.1049, 0.1037, 0.1026, 0.0997, 0.0975, 0.0966, 0.0958, 0.0937, 0.0932, 0.091, 0.0874, 0.0865, 0.0856, 0.0852, 0.0842, 0.0816, 0.0815]}, {\"legendgroup\": \"stoch3\", \"name\": \"Ip_stoch3\", \"type\": \"bar\", \"x\": [0, 1, 2, 3, 4, 5, 6, 7, 8, 9, 10, 11, 12, 13, 14, 15, 16, 17, 18, 19, 20, 21, 22, 23, 24, 25, 26, 27, 28, 29, 30, 31, 32, 33, 34, 35, 36, 37, 38, 39, 40, 41, 42, 43, 44, 45, 46, 47, 48, 49, 50, 51, 52, 53, 54, 55, 56, 57, 58, 59, 60, 61, 62, 63, 64, 65, 66, 67, 68, 69, 70, 71, 72, 73, 74, 75, 76, 77, 78, 79, 80, 81, 82, 83, 84, 85, 86, 87, 88, 89, 90, 91, 92, 93, 94, 95, 96, 97, 98], \"y\": [0.001, 0.001, 0.001, 0.0, 0.001, 0.0, 0.0, 0.0, 0.001, 0.001, 0.002, 0.0, 0.001, 0.003, 0.004, 0.008, 0.004, 0.007, 0.01, 0.011, 0.014, 0.028, 0.025, 0.026, 0.038, 0.048, 0.06, 0.059, 0.077, 0.085, 0.127, 0.157, 0.172, 0.209, 0.261, 0.29, 0.353, 0.449, 0.532, 0.553, 0.66, 0.682, 0.727, 0.674, 0.64, 0.609, 0.516, 0.518, 0.437, 0.395, 0.39, 0.382, 0.33, 0.349, 0.336, 0.27, 0.277, 0.235, 0.228, 0.22, 0.214, 0.187, 0.183, 0.149, 0.144, 0.129, 0.123, 0.134, 0.113, 0.093, 0.092, 0.097, 0.076, 0.075, 0.083, 0.064, 0.076, 0.053, 0.069, 0.056, 0.054, 0.066, 0.053, 0.053, 0.047, 0.051, 0.048, 0.053, 0.05, 0.047, 0.048, 0.038, 0.03, 0.042, 0.043, 0.04, 0.041, 0.033, 0.043]}, {\"legendgroup\": \"stoch3\", \"line\": {\"color\": \"green\", \"dash\": \"dot\"}, \"name\": \"R_stoch3\", \"type\": \"scatter\", \"x\": [0, 1, 2, 3, 4, 5, 6, 7, 8, 9, 10, 11, 12, 13, 14, 15, 16, 17, 18, 19, 20, 21, 22, 23, 24, 25, 26, 27, 28, 29, 30, 31, 32, 33, 34, 35, 36, 37, 38, 39, 40, 41, 42, 43, 44, 45, 46, 47, 48, 49, 50, 51, 52, 53, 54, 55, 56, 57, 58, 59, 60, 61, 62, 63, 64, 65, 66, 67, 68, 69, 70, 71, 72, 73, 74, 75, 76, 77, 78, 79, 80, 81, 82, 83, 84, 85, 86, 87, 88, 89, 90, 91, 92, 93, 94, 95, 96, 97, 98], \"y\": [0.0, 0.0, 0.0, 0.0, 0.0, 0.0, 0.0, 0.0, 0.0, 0.0, 0.0, 0.0, 0.0, 0.0, 0.0, 0.0, 0.0, 0.0, 0.0, 0.0, 0.0, 0.0, 0.0, 0.0, 0.0, 0.0, 0.0, 0.0, 0.0, 0.0, 0.0, 0.0, 0.0, 0.0, 0.0, 0.0, 0.0, 0.0, 0.0, 0.0, 0.0, 0.0, 0.0, 0.0, 0.0, 0.0, 0.0, 0.0, 0.0, 0.0, 0.0, 0.0, 0.0, 0.0, 0.0, 0.0, 0.0, 0.0, 0.0, 0.0, 0.0, 0.0, 0.0, 0.0, 0.0, 0.0, 0.0, 0.0, 0.0, 0.0, 0.0, 0.0, 0.0, 0.0, 0.0, 0.0, 0.0, 0.0, 0.0, 0.0, 0.0, 0.0, 0.0, 0.0, 0.0, 0.0, 0.0, 0.0, 0.0, 0.0, 0.0, 0.0, 0.0, 0.0, 0.0, 0.0, 0.0, 0.0, 0.0]}, {\"legendgroup\": \"stoch4\", \"line\": {\"color\": \"yellow\", \"dash\": \"dot\"}, \"name\": \"Beta_stoch4\", \"type\": \"scatter\", \"x\": [0, 1, 2, 3, 4, 5, 6, 7, 8, 9, 10, 11, 12, 13, 14, 15, 16, 17, 18, 19, 20, 21, 22, 23, 24, 25, 26, 27, 28, 29, 30, 31, 32, 33, 34, 35, 36, 37, 38, 39, 40, 41, 42, 43, 44, 45, 46, 47, 48, 49, 50, 51, 52, 53, 54, 55, 56, 57, 58, 59, 60, 61, 62, 63, 64, 65, 66, 67, 68, 69, 70, 71, 72, 73, 74, 75, 76, 77, 78, 79, 80, 81, 82, 83, 84, 85, 86, 87, 88, 89, 90, 91, 92, 93, 94, 95, 96, 97, 98], \"y\": [0.3, 0.3, 0.3, 0.3, 0.3, 0.3, 0.3, 0.3, 0.3, 0.3, 0.3, 0.3, 0.3, 0.3, 0.3, 0.3, 0.3, 0.3, 0.3, 0.3, 0.3, 0.3, 0.3, 0.3, 0.3, 0.3, 0.3, 0.3, 0.3, 0.3, 0.3, 0.3, 0.3, 0.3, 0.3, 0.3, 0.3, 0.3, 0.3, 0.3, 0.3, 0.3, 0.3, 0.3, 0.3, 0.3, 0.3, 0.3, 0.3, 0.3, 0.3, 0.3, 0.3, 0.3, 0.3, 0.3, 0.3, 0.3, 0.3, 0.3, 0.3, 0.3, 0.3, 0.3, 0.3, 0.3, 0.3, 0.3, 0.3, 0.3, 0.3, 0.3, 0.3, 0.3, 0.3, 0.3, 0.3, 0.3, 0.3, 0.3, 0.3, 0.3, 0.3, 0.3, 0.3, 0.3, 0.3, 0.3, 0.3, 0.3, 0.3, 0.3, 0.3, 0.3, 0.3, 0.3, 0.3, 0.3, 0.3]}, {\"legendgroup\": \"stoch4\", \"line\": {\"color\": \"yellow\", \"dash\": \"dot\"}, \"name\": \"Beta_meas4\", \"type\": \"scatter\", \"x\": [0, 1, 2, 3, 4, 5, 6, 7, 8, 9, 10, 11, 12, 13, 14, 15, 16, 17, 18, 19, 20, 21, 22, 23, 24, 25, 26, 27, 28, 29, 30, 31, 32, 33, 34, 35, 36, 37, 38, 39, 40, 41, 42, 43, 44, 45, 46, 47, 48, 49, 50, 51, 52, 53, 54, 55, 56, 57, 58, 59, 60, 61, 62, 63, 64, 65, 66, 67, 68, 69, 70, 71, 72, 73, 74, 75, 76, 77, 78, 79, 80, 81, 82, 83, 84, 85, 86, 87, 88, 89, 90, 91, 92, 93, 94, 95, 96, 97, 98], \"y\": [0.0, 0.0, 0.0, 0.0, 0.0, 0.0, 0.0, 0.0, 0.0, 0.0, 0.0, 0.0, null, null, null, null, null, null, null, null, null, null, null, null, null, null, null, null, null, null, null, null, null, null, null, null, null, null, null, null, null, null, null, null, null, null, null, null, null, null, null, null, null, null, null, null, null, null, null, null, null, null, null, null, null, null, null, null, null, null, null, null, null, null, null, null, null, null, null, null, null, null, null, null, null, null, null, null, null, null, null, null, null, null, null, null, null, null, null]}, {\"legendgroup\": \"stoch4\", \"line\": {\"color\": \"red\", \"dash\": \"dot\"}, \"name\": \"I_stoch4\", \"type\": \"scatter\", \"x\": [0, 1, 2, 3, 4, 5, 6, 7, 8, 9, 10, 11, 12, 13, 14, 15, 16, 17, 18, 19, 20, 21, 22, 23, 24, 25, 26, 27, 28, 29, 30, 31, 32, 33, 34, 35, 36, 37, 38, 39, 40, 41, 42, 43, 44, 45, 46, 47, 48, 49, 50, 51, 52, 53, 54, 55, 56, 57, 58, 59, 60, 61, 62, 63, 64, 65, 66, 67, 68, 69, 70, 71, 72, 73, 74, 75, 76, 77, 78, 79, 80, 81, 82, 83, 84, 85, 86, 87, 88, 89, 90, 91, 92, 93, 94, 95, 96, 97, 98], \"y\": [0.0001, 0.0001, 0.0001, 0.0001, 0.0001, 0.0001, 0.0001, 0.0001, 0.0001, 0.0001, 0.0001, 0.0, 0.0, 0.0, 0.0, 0.0, 0.0, 0.0, 0.0, 0.0, 0.0, 0.0, 0.0, 0.0, 0.0, 0.0, 0.0, 0.0, 0.0, 0.0, 0.0, 0.0, 0.0, 0.0, 0.0, 0.0, 0.0, 0.0, 0.0, 0.0, 0.0, 0.0, 0.0, 0.0, 0.0, 0.0, 0.0, 0.0, 0.0, 0.0, 0.0, 0.0, 0.0, 0.0, 0.0, 0.0, 0.0, 0.0, 0.0, 0.0, 0.0, 0.0, 0.0, 0.0, 0.0, 0.0, 0.0, 0.0, 0.0, 0.0, 0.0, 0.0, 0.0, 0.0, 0.0, 0.0, 0.0, 0.0, 0.0, 0.0, 0.0, 0.0, 0.0, 0.0, 0.0, 0.0, 0.0, 0.0, 0.0, 0.0, 0.0, 0.0, 0.0, 0.0, 0.0, 0.0, 0.0, 0.0, 0.0]}, {\"legendgroup\": \"stoch4\", \"name\": \"Ip_stoch4\", \"type\": \"bar\", \"x\": [0, 1, 2, 3, 4, 5, 6, 7, 8, 9, 10, 11, 12, 13, 14, 15, 16, 17, 18, 19, 20, 21, 22, 23, 24, 25, 26, 27, 28, 29, 30, 31, 32, 33, 34, 35, 36, 37, 38, 39, 40, 41, 42, 43, 44, 45, 46, 47, 48, 49, 50, 51, 52, 53, 54, 55, 56, 57, 58, 59, 60, 61, 62, 63, 64, 65, 66, 67, 68, 69, 70, 71, 72, 73, 74, 75, 76, 77, 78, 79, 80, 81, 82, 83, 84, 85, 86, 87, 88, 89, 90, 91, 92, 93, 94, 95, 96, 97, 98], \"y\": [0.001, 0.0, 0.0, 0.0, 0.0, 0.0, 0.0, 0.0, 0.0, 0.0, 0.0, 0.0, 0.0, 0.0, 0.0, 0.0, 0.0, 0.0, 0.0, 0.0, 0.0, 0.0, 0.0, 0.0, 0.0, 0.0, 0.0, 0.0, 0.0, 0.0, 0.0, 0.0, 0.0, 0.0, 0.0, 0.0, 0.0, 0.0, 0.0, 0.0, 0.0, 0.0, 0.0, 0.0, 0.0, 0.0, 0.0, 0.0, 0.0, 0.0, 0.0, 0.0, 0.0, 0.0, 0.0, 0.0, 0.0, 0.0, 0.0, 0.0, 0.0, 0.0, 0.0, 0.0, 0.0, 0.0, 0.0, 0.0, 0.0, 0.0, 0.0, 0.0, 0.0, 0.0, 0.0, 0.0, 0.0, 0.0, 0.0, 0.0, 0.0, 0.0, 0.0, 0.0, 0.0, 0.0, 0.0, 0.0, 0.0, 0.0, 0.0, 0.0, 0.0, 0.0, 0.0, 0.0, 0.0, 0.0, 0.0]}, {\"legendgroup\": \"stoch4\", \"line\": {\"color\": \"green\", \"dash\": \"dot\"}, \"name\": \"R_stoch4\", \"type\": \"scatter\", \"x\": [0, 1, 2, 3, 4, 5, 6, 7, 8, 9, 10, 11, 12, 13, 14, 15, 16, 17, 18, 19, 20, 21, 22, 23, 24, 25, 26, 27, 28, 29, 30, 31, 32, 33, 34, 35, 36, 37, 38, 39, 40, 41, 42, 43, 44, 45, 46, 47, 48, 49, 50, 51, 52, 53, 54, 55, 56, 57, 58, 59, 60, 61, 62, 63, 64, 65, 66, 67, 68, 69, 70, 71, 72, 73, 74, 75, 76, 77, 78, 79, 80, 81, 82, 83, 84, 85, 86, 87, 88, 89, 90, 91, 92, 93, 94, 95, 96, 97, 98], \"y\": [0.0, 0.0, 0.0, 0.0, 0.0, 0.0, 0.0, 0.0, 0.0, 0.0, 0.0, 0.0, 0.0, 0.0, 0.0, 0.0, 0.0, 0.0, 0.0, 0.0, 0.0, 0.0, 0.0, 0.0, 0.0, 0.0, 0.0, 0.0, 0.0, 0.0, 0.0, 0.0, 0.0, 0.0, 0.0, 0.0, 0.0, 0.0, 0.0, 0.0, 0.0, 0.0, 0.0, 0.0, 0.0, 0.0, 0.0, 0.0, 0.0, 0.0, 0.0, 0.0, 0.0, 0.0, 0.0, 0.0, 0.0, 0.0, 0.0, 0.0, 0.0, 0.0, 0.0, 0.0, 0.0, 0.0, 0.0, 0.0, 0.0, 0.0, 0.0, 0.0, 0.0, 0.0, 0.0, 0.0, 0.0, 0.0, 0.0, 0.0, 0.0, 0.0, 0.0, 0.0, 0.0, 0.0, 0.0, 0.0, 0.0, 0.0, 0.0, 0.0, 0.0, 0.0, 0.0, 0.0, 0.0, 0.0, 0.0]}],                        {\"template\": {\"data\": {\"bar\": [{\"error_x\": {\"color\": \"#2a3f5f\"}, \"error_y\": {\"color\": \"#2a3f5f\"}, \"marker\": {\"line\": {\"color\": \"#E5ECF6\", \"width\": 0.5}}, \"type\": \"bar\"}], \"barpolar\": [{\"marker\": {\"line\": {\"color\": \"#E5ECF6\", \"width\": 0.5}}, \"type\": \"barpolar\"}], \"carpet\": [{\"aaxis\": {\"endlinecolor\": \"#2a3f5f\", \"gridcolor\": \"white\", \"linecolor\": \"white\", \"minorgridcolor\": \"white\", \"startlinecolor\": \"#2a3f5f\"}, \"baxis\": {\"endlinecolor\": \"#2a3f5f\", \"gridcolor\": \"white\", \"linecolor\": \"white\", \"minorgridcolor\": \"white\", \"startlinecolor\": \"#2a3f5f\"}, \"type\": \"carpet\"}], \"choropleth\": [{\"colorbar\": {\"outlinewidth\": 0, \"ticks\": \"\"}, \"type\": \"choropleth\"}], \"contour\": [{\"colorbar\": {\"outlinewidth\": 0, \"ticks\": \"\"}, \"colorscale\": [[0.0, \"#0d0887\"], [0.1111111111111111, \"#46039f\"], [0.2222222222222222, \"#7201a8\"], [0.3333333333333333, \"#9c179e\"], [0.4444444444444444, \"#bd3786\"], [0.5555555555555556, \"#d8576b\"], [0.6666666666666666, \"#ed7953\"], [0.7777777777777778, \"#fb9f3a\"], [0.8888888888888888, \"#fdca26\"], [1.0, \"#f0f921\"]], \"type\": \"contour\"}], \"contourcarpet\": [{\"colorbar\": {\"outlinewidth\": 0, \"ticks\": \"\"}, \"type\": \"contourcarpet\"}], \"heatmap\": [{\"colorbar\": {\"outlinewidth\": 0, \"ticks\": \"\"}, \"colorscale\": [[0.0, \"#0d0887\"], [0.1111111111111111, \"#46039f\"], [0.2222222222222222, \"#7201a8\"], [0.3333333333333333, \"#9c179e\"], [0.4444444444444444, \"#bd3786\"], [0.5555555555555556, \"#d8576b\"], [0.6666666666666666, \"#ed7953\"], [0.7777777777777778, \"#fb9f3a\"], [0.8888888888888888, \"#fdca26\"], [1.0, \"#f0f921\"]], \"type\": \"heatmap\"}], \"heatmapgl\": [{\"colorbar\": {\"outlinewidth\": 0, \"ticks\": \"\"}, \"colorscale\": [[0.0, \"#0d0887\"], [0.1111111111111111, \"#46039f\"], [0.2222222222222222, \"#7201a8\"], [0.3333333333333333, \"#9c179e\"], [0.4444444444444444, \"#bd3786\"], [0.5555555555555556, \"#d8576b\"], [0.6666666666666666, \"#ed7953\"], [0.7777777777777778, \"#fb9f3a\"], [0.8888888888888888, \"#fdca26\"], [1.0, \"#f0f921\"]], \"type\": \"heatmapgl\"}], \"histogram\": [{\"marker\": {\"colorbar\": {\"outlinewidth\": 0, \"ticks\": \"\"}}, \"type\": \"histogram\"}], \"histogram2d\": [{\"colorbar\": {\"outlinewidth\": 0, \"ticks\": \"\"}, \"colorscale\": [[0.0, \"#0d0887\"], [0.1111111111111111, \"#46039f\"], [0.2222222222222222, \"#7201a8\"], [0.3333333333333333, \"#9c179e\"], [0.4444444444444444, \"#bd3786\"], [0.5555555555555556, \"#d8576b\"], [0.6666666666666666, \"#ed7953\"], [0.7777777777777778, \"#fb9f3a\"], [0.8888888888888888, \"#fdca26\"], [1.0, \"#f0f921\"]], \"type\": \"histogram2d\"}], \"histogram2dcontour\": [{\"colorbar\": {\"outlinewidth\": 0, \"ticks\": \"\"}, \"colorscale\": [[0.0, \"#0d0887\"], [0.1111111111111111, \"#46039f\"], [0.2222222222222222, \"#7201a8\"], [0.3333333333333333, \"#9c179e\"], [0.4444444444444444, \"#bd3786\"], [0.5555555555555556, \"#d8576b\"], [0.6666666666666666, \"#ed7953\"], [0.7777777777777778, \"#fb9f3a\"], [0.8888888888888888, \"#fdca26\"], [1.0, \"#f0f921\"]], \"type\": \"histogram2dcontour\"}], \"mesh3d\": [{\"colorbar\": {\"outlinewidth\": 0, \"ticks\": \"\"}, \"type\": \"mesh3d\"}], \"parcoords\": [{\"line\": {\"colorbar\": {\"outlinewidth\": 0, \"ticks\": \"\"}}, \"type\": \"parcoords\"}], \"pie\": [{\"automargin\": true, \"type\": \"pie\"}], \"scatter\": [{\"marker\": {\"colorbar\": {\"outlinewidth\": 0, \"ticks\": \"\"}}, \"type\": \"scatter\"}], \"scatter3d\": [{\"line\": {\"colorbar\": {\"outlinewidth\": 0, \"ticks\": \"\"}}, \"marker\": {\"colorbar\": {\"outlinewidth\": 0, \"ticks\": \"\"}}, \"type\": \"scatter3d\"}], \"scattercarpet\": [{\"marker\": {\"colorbar\": {\"outlinewidth\": 0, \"ticks\": \"\"}}, \"type\": \"scattercarpet\"}], \"scattergeo\": [{\"marker\": {\"colorbar\": {\"outlinewidth\": 0, \"ticks\": \"\"}}, \"type\": \"scattergeo\"}], \"scattergl\": [{\"marker\": {\"colorbar\": {\"outlinewidth\": 0, \"ticks\": \"\"}}, \"type\": \"scattergl\"}], \"scattermapbox\": [{\"marker\": {\"colorbar\": {\"outlinewidth\": 0, \"ticks\": \"\"}}, \"type\": \"scattermapbox\"}], \"scatterpolar\": [{\"marker\": {\"colorbar\": {\"outlinewidth\": 0, \"ticks\": \"\"}}, \"type\": \"scatterpolar\"}], \"scatterpolargl\": [{\"marker\": {\"colorbar\": {\"outlinewidth\": 0, \"ticks\": \"\"}}, \"type\": \"scatterpolargl\"}], \"scatterternary\": [{\"marker\": {\"colorbar\": {\"outlinewidth\": 0, \"ticks\": \"\"}}, \"type\": \"scatterternary\"}], \"surface\": [{\"colorbar\": {\"outlinewidth\": 0, \"ticks\": \"\"}, \"colorscale\": [[0.0, \"#0d0887\"], [0.1111111111111111, \"#46039f\"], [0.2222222222222222, \"#7201a8\"], [0.3333333333333333, \"#9c179e\"], [0.4444444444444444, \"#bd3786\"], [0.5555555555555556, \"#d8576b\"], [0.6666666666666666, \"#ed7953\"], [0.7777777777777778, \"#fb9f3a\"], [0.8888888888888888, \"#fdca26\"], [1.0, \"#f0f921\"]], \"type\": \"surface\"}], \"table\": [{\"cells\": {\"fill\": {\"color\": \"#EBF0F8\"}, \"line\": {\"color\": \"white\"}}, \"header\": {\"fill\": {\"color\": \"#C8D4E3\"}, \"line\": {\"color\": \"white\"}}, \"type\": \"table\"}]}, \"layout\": {\"annotationdefaults\": {\"arrowcolor\": \"#2a3f5f\", \"arrowhead\": 0, \"arrowwidth\": 1}, \"autotypenumbers\": \"strict\", \"coloraxis\": {\"colorbar\": {\"outlinewidth\": 0, \"ticks\": \"\"}}, \"colorscale\": {\"diverging\": [[0, \"#8e0152\"], [0.1, \"#c51b7d\"], [0.2, \"#de77ae\"], [0.3, \"#f1b6da\"], [0.4, \"#fde0ef\"], [0.5, \"#f7f7f7\"], [0.6, \"#e6f5d0\"], [0.7, \"#b8e186\"], [0.8, \"#7fbc41\"], [0.9, \"#4d9221\"], [1, \"#276419\"]], \"sequential\": [[0.0, \"#0d0887\"], [0.1111111111111111, \"#46039f\"], [0.2222222222222222, \"#7201a8\"], [0.3333333333333333, \"#9c179e\"], [0.4444444444444444, \"#bd3786\"], [0.5555555555555556, \"#d8576b\"], [0.6666666666666666, \"#ed7953\"], [0.7777777777777778, \"#fb9f3a\"], [0.8888888888888888, \"#fdca26\"], [1.0, \"#f0f921\"]], \"sequentialminus\": [[0.0, \"#0d0887\"], [0.1111111111111111, \"#46039f\"], [0.2222222222222222, \"#7201a8\"], [0.3333333333333333, \"#9c179e\"], [0.4444444444444444, \"#bd3786\"], [0.5555555555555556, \"#d8576b\"], [0.6666666666666666, \"#ed7953\"], [0.7777777777777778, \"#fb9f3a\"], [0.8888888888888888, \"#fdca26\"], [1.0, \"#f0f921\"]]}, \"colorway\": [\"#636efa\", \"#EF553B\", \"#00cc96\", \"#ab63fa\", \"#FFA15A\", \"#19d3f3\", \"#FF6692\", \"#B6E880\", \"#FF97FF\", \"#FECB52\"], \"font\": {\"color\": \"#2a3f5f\"}, \"geo\": {\"bgcolor\": \"white\", \"lakecolor\": \"white\", \"landcolor\": \"#E5ECF6\", \"showlakes\": true, \"showland\": true, \"subunitcolor\": \"white\"}, \"hoverlabel\": {\"align\": \"left\"}, \"hovermode\": \"closest\", \"mapbox\": {\"style\": \"light\"}, \"paper_bgcolor\": \"white\", \"plot_bgcolor\": \"#E5ECF6\", \"polar\": {\"angularaxis\": {\"gridcolor\": \"white\", \"linecolor\": \"white\", \"ticks\": \"\"}, \"bgcolor\": \"#E5ECF6\", \"radialaxis\": {\"gridcolor\": \"white\", \"linecolor\": \"white\", \"ticks\": \"\"}}, \"scene\": {\"xaxis\": {\"backgroundcolor\": \"#E5ECF6\", \"gridcolor\": \"white\", \"gridwidth\": 2, \"linecolor\": \"white\", \"showbackground\": true, \"ticks\": \"\", \"zerolinecolor\": \"white\"}, \"yaxis\": {\"backgroundcolor\": \"#E5ECF6\", \"gridcolor\": \"white\", \"gridwidth\": 2, \"linecolor\": \"white\", \"showbackground\": true, \"ticks\": \"\", \"zerolinecolor\": \"white\"}, \"zaxis\": {\"backgroundcolor\": \"#E5ECF6\", \"gridcolor\": \"white\", \"gridwidth\": 2, \"linecolor\": \"white\", \"showbackground\": true, \"ticks\": \"\", \"zerolinecolor\": \"white\"}}, \"shapedefaults\": {\"line\": {\"color\": \"#2a3f5f\"}}, \"ternary\": {\"aaxis\": {\"gridcolor\": \"white\", \"linecolor\": \"white\", \"ticks\": \"\"}, \"baxis\": {\"gridcolor\": \"white\", \"linecolor\": \"white\", \"ticks\": \"\"}, \"bgcolor\": \"#E5ECF6\", \"caxis\": {\"gridcolor\": \"white\", \"linecolor\": \"white\", \"ticks\": \"\"}}, \"title\": {\"x\": 0.05}, \"xaxis\": {\"automargin\": true, \"gridcolor\": \"white\", \"linecolor\": \"white\", \"ticks\": \"\", \"title\": {\"standoff\": 15}, \"zerolinecolor\": \"white\", \"zerolinewidth\": 2}, \"yaxis\": {\"automargin\": true, \"gridcolor\": \"white\", \"linecolor\": \"white\", \"ticks\": \"\", \"title\": {\"standoff\": 15}, \"zerolinecolor\": \"white\", \"zerolinewidth\": 2}}}, \"title\": {\"text\": \"$\\\\text{Effect of stochasticity on Deterministic SEIR model}$\", \"x\": 0.5, \"xanchor\": \"center\"}, \"xaxis\": {\"title\": {\"text\": \"Day\"}}, \"yaxis\": {\"title\": {\"text\": \"Proportion of population\"}}},                        {\"responsive\": true}                    ).then(function(){\n",
              "                            \n",
              "var gd = document.getElementById('62db6d9a-5eea-4b36-82bb-33f726461efd');\n",
              "var x = new MutationObserver(function (mutations, observer) {{\n",
              "        var display = window.getComputedStyle(gd).display;\n",
              "        if (!display || display === 'none') {{\n",
              "            console.log([gd, 'removed!']);\n",
              "            Plotly.purge(gd);\n",
              "            observer.disconnect();\n",
              "        }}\n",
              "}});\n",
              "\n",
              "// Listen for the removal of the full notebook cells\n",
              "var notebookContainer = gd.closest('#notebook-container');\n",
              "if (notebookContainer) {{\n",
              "    x.observe(notebookContainer, {childList: true});\n",
              "}}\n",
              "\n",
              "// Listen for the clearing of the current output cell\n",
              "var outputEl = gd.closest('.output');\n",
              "if (outputEl) {{\n",
              "    x.observe(outputEl, {childList: true});\n",
              "}}\n",
              "\n",
              "                        })                };                            </script>        </div>\n",
              "</body>\n",
              "</html>"
            ]
          },
          "metadata": {
            "tags": []
          }
        }
      ]
    }
  ]
}