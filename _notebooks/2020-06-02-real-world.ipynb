{
  "nbformat": 4,
  "nbformat_minor": 0,
  "metadata": {
    "colab": {
      "name": "2020-04-08-real-world.ipynb",
      "provenance": [],
      "toc_visible": true,
      "authorship_tag": "ABX9TyNYjd2KI1FR4gVJjabQi2yF"
    },
    "kernelspec": {
      "name": "python3",
      "display_name": "Python 3"
    }
  },
  "cells": [
    {
      "cell_type": "markdown",
      "metadata": {
        "id": "JIGDmmbpyh-B",
        "colab_type": "text"
      },
      "source": [
        "# \"Epidemic modeling - Part 8\"\n",
        "> \"Studying real-world data\"\n",
        "\n",
        "- toc: true \n",
        "- badges: true\n",
        "- comments: true\n",
        "- categories: [modeling, SEIR, epidemiology, stochastic, COVID-19, real-world]\n",
        "- image: images/goodness-of-fit.png"
      ]
    },
    {
      "cell_type": "markdown",
      "metadata": {
        "id": "o5dfaGg1zhcn",
        "colab_type": "text"
      },
      "source": [
        "![](my_icons/goodness-of-fit.png)"
      ]
    },
    {
      "cell_type": "code",
      "metadata": {
        "id": "f4-sjCBhyYTB",
        "colab_type": "code",
        "colab": {
          "base_uri": "https://localhost:8080/",
          "height": 342
        },
        "outputId": "54f81800-8303-4d60-a8a4-2061a8436dea"
      },
      "source": [
        "#collapse_hide\n",
        "# This code wrangles the data from JHU\n",
        "!pip install plotly==4.6.0\n",
        "!pip install dash==1.12.0\n",
        "import pandas as pd\n",
        "import numpy as np\n",
        "\n",
        "import math\n",
        "\n",
        "from scipy import signal\n",
        "\n",
        "import plotly.graph_objects as go\n",
        "import plotly.express as px\n",
        "\n",
        "from scipy.stats import expon\n",
        "from scipy.stats import gamma\n",
        "from scipy.stats import weibull_min\n",
        "\n",
        "from numpy.random import default_rng\n",
        "rng = default_rng()\n",
        "\n",
        "import dash\n",
        "import dash_core_components as dcc\n",
        "import dash_html_components as html\n",
        "\n",
        "import datetime\n",
        "\n",
        "\n",
        "# Import confirmed cases\n",
        "conf_df = pd.read_csv('https://raw.githubusercontent.com/CSSEGISandData/COVID-19/master/csse_covid_19_data/csse_covid_19_time_series/time_series_covid19_confirmed_global.csv')\n",
        "\n",
        "#Import deaths data\n",
        "deaths_df = pd.read_csv('https://raw.githubusercontent.com/CSSEGISandData/COVID-19/master/csse_covid_19_data/csse_covid_19_time_series/time_series_covid19_deaths_global.csv')\n",
        "\n",
        "# Import recovery data\n",
        "rec_df = pd.read_csv('https://raw.githubusercontent.com/CSSEGISandData/COVID-19/master/csse_covid_19_data/csse_covid_19_time_series/time_series_covid19_recovered_global.csv')\n",
        "\n",
        "#iso_alpha = pd.read_csv('https://raw.githubusercontent.com/jeffufpost/sars-cov-2-world-tracker/master/data/iso_alpha.csv', index_col=0, header=0).T.iloc[0]\n",
        "iso_alpha = pd.read_csv('https://raw.githubusercontent.com/jeffufpost/sars-cov-2-world-tracker/master/data/iso_alpha.csv', index_col=0, header=0)\n",
        "\n",
        "# Wrangle the data\n",
        "\n",
        "#print(\"Wrangling data by country.......\")\n",
        "# Consolidate countries (ie. frenc dom tom are included in France, etc..)\n",
        "conf_df = conf_df.groupby(\"Country/Region\")\n",
        "conf_df = conf_df.sum().reset_index()\n",
        "conf_df = conf_df.set_index('Country/Region')\n",
        "\n",
        "deaths_df = deaths_df.groupby(\"Country/Region\")\n",
        "deaths_df = deaths_df.sum().reset_index()\n",
        "deaths_df = deaths_df.set_index('Country/Region')\n",
        "\n",
        "rec_df = rec_df.groupby(\"Country/Region\")\n",
        "rec_df = rec_df.sum().reset_index()\n",
        "rec_df = rec_df.set_index('Country/Region')\n",
        "\n",
        "# Remove Lat and Long columns\n",
        "conf_df = conf_df.iloc[:,2:]\n",
        "deaths_df = deaths_df.iloc[:,2:]\n",
        "rec_df = rec_df.iloc[:,2:]\n",
        "\n",
        "# Convert country names to correct format for search with pycountry\n",
        "conf_df = conf_df.rename(index={'Congo (Brazzaville)': 'Congo', 'Congo (Kinshasa)': 'Congo, the Democratic Republic of the', 'Burma': 'Myanmar', 'Korea, South': 'Korea, Republic of', 'Laos': \"Lao People's Democratic Republic\", 'Taiwan*': 'Taiwan', \"West Bank and Gaza\":\"Palestine, State of\"})\n",
        "# Convert country names to correct format for search with pycountry\n",
        "deaths_df = deaths_df.rename(index={'Congo (Brazzaville)': 'Congo', 'Congo (Kinshasa)': 'Congo, the Democratic Republic of the', 'Burma': 'Myanmar', 'Korea, South': 'Korea, Republic of', 'Laos': \"Lao People's Democratic Republic\", 'Taiwan*': 'Taiwan', \"West Bank and Gaza\":\"Palestine, State of\"})\n",
        "# Convert country names to correct format for search with pycountry\n",
        "rec_df = rec_df.rename(index={'Congo (Brazzaville)': 'Congo', 'Congo (Kinshasa)': 'Congo, the Democratic Republic of the', 'Burma': 'Myanmar', 'Korea, South': 'Korea, Republic of', 'Laos': \"Lao People's Democratic Republic\", 'Taiwan*': 'Taiwan', \"West Bank and Gaza\":\"Palestine, State of\"})\n",
        "\n",
        "# Convert dates to datime format\n",
        "conf_df.columns = pd.to_datetime(conf_df.columns).date\n",
        "deaths_df.columns = pd.to_datetime(deaths_df.columns).date\n",
        "rec_df.columns = pd.to_datetime(rec_df.columns).date\n",
        "\n",
        "# Create a per day dataframe\n",
        "#print(\"Creating new per day dataframes......\")\n",
        "# Create per day dataframes for cases, deaths, and recoveries - by pd.DatafRame.diff\n",
        "conf_df_pd = conf_df.diff(axis=1)\n",
        "deaths_df_pd = deaths_df.diff(axis=1)\n",
        "rec_df_pd = rec_df.diff(axis=1)\n",
        "\n",
        "#print(\"Create infected dataframe = conf - deaths - recoveries\")\n",
        "inf_df = conf_df - deaths_df - rec_df\n",
        "\n",
        "conf_df_pd.iloc[:,0] = 0\n",
        "rec_df_pd.iloc[:,0] = 0\n",
        "deaths_df_pd.iloc[:,0] = 0\n",
        "inf_df.iloc[:,0] = 0\n",
        "\n",
        "#print(\"Adding dataframes of 1st, 2nd, and 3rd derivatives of number of infected\")\n",
        "firstdev = inf_df.apply(np.gradient, axis=1)\n",
        "seconddev = firstdev.apply(np.gradient)\n",
        "thirddev = seconddev.apply(np.gradient)\n",
        "\n",
        "#print(\"Create series of first date above 100 confirmed cases.....\")\n",
        "# Create a column containing date at which 100 confirmed cases were reached, NaN if not reached yet\n",
        "fda100 = conf_df[conf_df > 100].apply(pd.Series.first_valid_index, axis=1)\n",
        "\n",
        "# Create dataframe for probability plot\n",
        "probevent = iso_alpha.join(inf_df)\n",
        "probevent['prev'] = probevent.iloc[:,-1] / probevent['SP.POP.TOTL']"
      ],
      "execution_count": 29,
      "outputs": [
        {
          "output_type": "stream",
          "text": [
            "Requirement already satisfied: plotly==4.6.0 in /usr/local/lib/python3.6/dist-packages (4.6.0)\n",
            "Requirement already satisfied: six in /usr/local/lib/python3.6/dist-packages (from plotly==4.6.0) (1.12.0)\n",
            "Requirement already satisfied: retrying>=1.3.3 in /usr/local/lib/python3.6/dist-packages (from plotly==4.6.0) (1.3.3)\n",
            "Requirement already satisfied: dash==1.12.0 in /usr/local/lib/python3.6/dist-packages (1.12.0)\n",
            "Requirement already satisfied: Flask>=1.0.2 in /usr/local/lib/python3.6/dist-packages (from dash==1.12.0) (1.1.2)\n",
            "Requirement already satisfied: flask-compress in /usr/local/lib/python3.6/dist-packages (from dash==1.12.0) (1.5.0)\n",
            "Requirement already satisfied: dash-core-components==1.10.0 in /usr/local/lib/python3.6/dist-packages (from dash==1.12.0) (1.10.0)\n",
            "Requirement already satisfied: dash-table==4.7.0 in /usr/local/lib/python3.6/dist-packages (from dash==1.12.0) (4.7.0)\n",
            "Requirement already satisfied: future in /usr/local/lib/python3.6/dist-packages (from dash==1.12.0) (0.16.0)\n",
            "Requirement already satisfied: plotly in /usr/local/lib/python3.6/dist-packages (from dash==1.12.0) (4.6.0)\n",
            "Requirement already satisfied: dash-renderer==1.4.1 in /usr/local/lib/python3.6/dist-packages (from dash==1.12.0) (1.4.1)\n",
            "Requirement already satisfied: dash-html-components==1.0.3 in /usr/local/lib/python3.6/dist-packages (from dash==1.12.0) (1.0.3)\n",
            "Requirement already satisfied: itsdangerous>=0.24 in /usr/local/lib/python3.6/dist-packages (from Flask>=1.0.2->dash==1.12.0) (1.1.0)\n",
            "Requirement already satisfied: click>=5.1 in /usr/local/lib/python3.6/dist-packages (from Flask>=1.0.2->dash==1.12.0) (7.1.2)\n",
            "Requirement already satisfied: Jinja2>=2.10.1 in /usr/local/lib/python3.6/dist-packages (from Flask>=1.0.2->dash==1.12.0) (2.11.2)\n",
            "Requirement already satisfied: Werkzeug>=0.15 in /usr/local/lib/python3.6/dist-packages (from Flask>=1.0.2->dash==1.12.0) (1.0.1)\n",
            "Requirement already satisfied: brotli in /usr/local/lib/python3.6/dist-packages (from flask-compress->dash==1.12.0) (1.0.7)\n",
            "Requirement already satisfied: retrying>=1.3.3 in /usr/local/lib/python3.6/dist-packages (from plotly->dash==1.12.0) (1.3.3)\n",
            "Requirement already satisfied: six in /usr/local/lib/python3.6/dist-packages (from plotly->dash==1.12.0) (1.12.0)\n",
            "Requirement already satisfied: MarkupSafe>=0.23 in /usr/local/lib/python3.6/dist-packages (from Jinja2>=2.10.1->Flask>=1.0.2->dash==1.12.0) (1.1.1)\n"
          ],
          "name": "stdout"
        }
      ]
    },
    {
      "cell_type": "code",
      "metadata": {
        "id": "ymCpvjYL0Yni",
        "colab_type": "code",
        "colab": {}
      },
      "source": [
        "#collapse_hide\n",
        "# This code is the lowpass filter \n",
        "def lowpass(x, fc=0.05):\n",
        "  fs = 1  # Sampling frequency\n",
        "  t = np.arange(len(x.T)) #select number of days done in SEIR model\n",
        "  signala = x.T\n",
        "\n",
        "  #fc = 0.05  # Cut-off frequency of the filter\n",
        "  w = fc / (fs / 2) # Normalize the frequency\n",
        "  b, a = signal.butter(5, w, 'low')\n",
        "  return signal.filtfilt(b, a, signala), w"
      ],
      "execution_count": 0,
      "outputs": []
    },
    {
      "cell_type": "code",
      "metadata": {
        "id": "h_ZgszMazRUX",
        "colab_type": "code",
        "colab": {}
      },
      "source": [
        "#collapse_hide\n",
        "# This code creates the impulse responses\n",
        "days = np.arange(100)\n",
        "cdf = pd.DataFrame({\n",
        "    'T_Latent': gamma.cdf(days, 1.8,loc=0.9,scale=(5.2-1.8)/0.9), \n",
        "    'T_Infectious': weibull_min.cdf(days, 2.3,loc=2,scale=20.11)\n",
        "    })\n",
        "h_L = cdf.diff().T_Latent\n",
        "h_I = cdf.diff().T_Infectious\n",
        "h_L[0] = 0\n",
        "h_I[0] = 0"
      ],
      "execution_count": 0,
      "outputs": []
    },
    {
      "cell_type": "code",
      "metadata": {
        "colab_type": "code",
        "id": "KZXVZj3X35Cc",
        "colab": {}
      },
      "source": [
        "#collapse_hide\n",
        "# This code is for the iterative deconvolution\n",
        "# Let's define an iteration function:\n",
        "def iter_deconv(alpha, impulse_response, input_signal, delay, comparator):\n",
        "  conv=signal.fftconvolve(impulse_response, input_signal, mode='full')\n",
        "  correction=np.roll(comparator-conv[:len(comparator)], delay)\n",
        "  input_signal=np.floor(lowpass(alpha*correction+input_signal)[0])\n",
        "  input_signal[input_signal<0]=0\n",
        "  return input_signal\n",
        "\n",
        "# Define a function to return MSE between two signals as a measure of goodness of fit\n",
        "def msecalc(A, B):\n",
        "  return ((A - B)**2).mean(axis=0)"
      ],
      "execution_count": 0,
      "outputs": []
    },
    {
      "cell_type": "markdown",
      "metadata": {
        "id": "BPKgWnCvBk9p",
        "colab_type": "text"
      },
      "source": [
        "## Motivation for write-up"
      ]
    },
    {
      "cell_type": "markdown",
      "metadata": {
        "id": "QxlznadEpqsF",
        "colab_type": "text"
      },
      "source": [
        "This is the 8th part of a multi-part series blog post on modeling in epidemiology.\n",
        "\n",
        "The COVID-19 pandemic has brought a lot of attention to the study of epidemiology and more specifically to the various mathematical models that are used to inform public health policies. Everyone has been trying to understand the growth or slowing of new cases and trying to predict the necessary sanitary resources.\n",
        "\n",
        "While we have studied in detail the stochastc SEIR model, we have not compared this to actual real-world data. \n",
        "\n",
        "The goal of this 8th installment is to see how we can use the techniques from the previous blog posts to estimate the various parameters from the real data we have. "
      ]
    },
    {
      "cell_type": "markdown",
      "metadata": {
        "id": "50OtDv7aMs3-",
        "colab_type": "text"
      },
      "source": [
        "## Data available\n",
        "\n",
        "We will use the JHU data which is updated daily and displayed graphically on my tracker [here](https://sars-cov-2-world-tracker.herokuapp.com/).\n",
        "\n",
        "A lot of countries have had difficulty reporting reliable data, but a few have done so rather well.\n",
        "\n",
        "We will have a closer look at these contries:\n",
        "* Austria\n",
        "* Germany\n",
        "* Iceland\n",
        "* Russia\n",
        "* South Korea\n",
        "* Switzerland\n",
        "\n",
        "The JHU datasets include the following data:\n",
        "* Daily cumulative confirmed cases\n",
        "* Daily cumulative recoveries\n",
        "* Daily cumulative deaths\n",
        "\n",
        "From which we can calculate the following:\n",
        "* Daily new confirmed cases\n",
        "* Daily new recoveries\n",
        "* Daily new deaths\n",
        "* Current number of cases\n",
        "\n",
        "\n"
      ]
    },
    {
      "cell_type": "markdown",
      "metadata": {
        "id": "TpBAHoIYO1Ih",
        "colab_type": "text"
      },
      "source": [
        "## Analysis\n",
        "\n",
        "We have seen previously how we can get $E_{pd}$ from deconvolution of $I_{pd}$.\n",
        "\n",
        "We also know that:\n",
        "$$E_{pd} = \\beta ~ I ~ \\frac{S}{N}$$\n",
        "\n",
        "Hence:\n",
        "$$\\beta = \\frac{N ~ E_{pd}}{I ~ S}$$\n",
        "\n",
        "And if we assume that in the real-world S \\~ N (which is roughly the case where $S=0.9~N$), then:\n",
        "$$\\beta = \\frac{E_{pd}}{I}$$\n",
        "\n",
        "Furthermore we know:\n",
        "$$R_0 = \\frac{\\beta}{\\gamma}$$ and $$R=R_0\\frac{S}{N}$$\n",
        "So:\n",
        "$$E_{pd}=\\gamma~R~I$$\n",
        "$$\\leftrightarrow R = \\frac{E_{pd}}{\\gamma~I}$$ \n",
        "\n",
        "Our aim is to find this graphically in the real-world data."
      ]
    },
    {
      "cell_type": "markdown",
      "metadata": {
        "id": "aV_IwjSnQogl",
        "colab_type": "text"
      },
      "source": [
        "## Real-world analysis"
      ]
    },
    {
      "cell_type": "markdown",
      "metadata": {
        "id": "V9V7LzVwQrhN",
        "colab_type": "text"
      },
      "source": [
        "### Austria\n",
        "\n",
        "Let's first have a look at Austria as a template for the analysis we will do for the other countries.\n",
        "\n",
        "* We have daily data $I_{pd}$ and $R_{pd}$ (where $R_{pd}$ is the sum of deaths and recoveries)\n",
        "* We have our assumed $T_L$ and $T_I$\n",
        "\n",
        "Analysis steps:\n",
        "1. The first thing we want to check is whether $h_I\\circledast I_{pd} [j]$ gives us something close to $R_{pd}$ If not, why not?\n",
        "2. Can we get an estimated $E_{pd}$ by deconvolution of $I_{pd}$ ?\n",
        "3. What can that tell us about $R$ and $\\beta$ ?"
      ]
    },
    {
      "cell_type": "markdown",
      "metadata": {
        "id": "QKTL8ZEPVL9i",
        "colab_type": "text"
      },
      "source": [
        "#### 1. Checking $h_I$"
      ]
    },
    {
      "cell_type": "code",
      "metadata": {
        "id": "cflaTNTEzqOh",
        "colab_type": "code",
        "colab": {
          "base_uri": "https://localhost:8080/",
          "height": 542
        },
        "outputId": "cdb97702-1cda-4044-d424-f6d6f1921f6e"
      },
      "source": [
        "#collapse_hide\n",
        "fig = go.Figure(data=[    \n",
        "    go.Bar(name='Ipd', x=conf_df_pd.loc['Austria'].index, y=conf_df_pd.loc['Austria']),\n",
        "    go.Scatter(name='Ipd=lowpass(Ipd)', x=conf_df_pd.loc['Austria'].index, y=lowpass(conf_df_pd.loc['Austria'])[0]),\n",
        "    go.Bar(name='Rpd', x=rec_df_pd.loc['Austria'].index, y=rec_df_pd.loc['Austria']),\n",
        "    go.Scatter(name='Rpd=lowpass(Rpd)', x=rec_df_pd.loc['Austria'].index, y=lowpass(rec_df_pd.loc['Austria'])[0]),\n",
        "    go.Scatter(name='Rpd=conv(Ipd)', x=conf_df_pd.loc['Austria'].index, y=signal.fftconvolve(h_I, conf_df_pd.loc['Austria'], mode='full'))\n",
        "])\n",
        "\n",
        "fig.update_layout(\n",
        "    xaxis_title = 'Day',\n",
        "    yaxis_title = 'Count',\n",
        "    title={\n",
        "        'text':r'$\\text{Austria: Actual } R_{pd} \\text{ vs. } h_I[j]\\circledast I_{pd}[j]$',\n",
        "        'x':0.5,\n",
        "        'xanchor':'center'\n",
        "    }\n",
        ")\n",
        "\n",
        "fig.show()"
      ],
      "execution_count": 202,
      "outputs": [
        {
          "output_type": "display_data",
          "data": {
            "text/html": [
              "<html>\n",
              "<head><meta charset=\"utf-8\" /></head>\n",
              "<body>\n",
              "    <div>\n",
              "            <script src=\"https://cdnjs.cloudflare.com/ajax/libs/mathjax/2.7.5/MathJax.js?config=TeX-AMS-MML_SVG\"></script><script type=\"text/javascript\">if (window.MathJax) {MathJax.Hub.Config({SVG: {font: \"STIX-Web\"}});}</script>\n",
              "                <script type=\"text/javascript\">window.PlotlyConfig = {MathJaxConfig: 'local'};</script>\n",
              "        <script src=\"https://cdn.plot.ly/plotly-latest.min.js\"></script>    \n",
              "            <div id=\"4fa2ca92-9c45-4b5c-a6f6-1921d93e1339\" class=\"plotly-graph-div\" style=\"height:525px; width:100%;\"></div>\n",
              "            <script type=\"text/javascript\">\n",
              "                \n",
              "                    window.PLOTLYENV=window.PLOTLYENV || {};\n",
              "                    \n",
              "                if (document.getElementById(\"4fa2ca92-9c45-4b5c-a6f6-1921d93e1339\")) {\n",
              "                    Plotly.newPlot(\n",
              "                        '4fa2ca92-9c45-4b5c-a6f6-1921d93e1339',\n",
              "                        [{\"name\": \"Ipd\", \"type\": \"bar\", \"x\": [\"2020-01-22\", \"2020-01-23\", \"2020-01-24\", \"2020-01-25\", \"2020-01-26\", \"2020-01-27\", \"2020-01-28\", \"2020-01-29\", \"2020-01-30\", \"2020-01-31\", \"2020-02-01\", \"2020-02-02\", \"2020-02-03\", \"2020-02-04\", \"2020-02-05\", \"2020-02-06\", \"2020-02-07\", \"2020-02-08\", \"2020-02-09\", \"2020-02-10\", \"2020-02-11\", \"2020-02-12\", \"2020-02-13\", \"2020-02-14\", \"2020-02-15\", \"2020-02-16\", \"2020-02-17\", \"2020-02-18\", \"2020-02-19\", \"2020-02-20\", \"2020-02-21\", \"2020-02-22\", \"2020-02-23\", \"2020-02-24\", \"2020-02-25\", \"2020-02-26\", \"2020-02-27\", \"2020-02-28\", \"2020-02-29\", \"2020-03-01\", \"2020-03-02\", \"2020-03-03\", \"2020-03-04\", \"2020-03-05\", \"2020-03-06\", \"2020-03-07\", \"2020-03-08\", \"2020-03-09\", \"2020-03-10\", \"2020-03-11\", \"2020-03-12\", \"2020-03-13\", \"2020-03-14\", \"2020-03-15\", \"2020-03-16\", \"2020-03-17\", \"2020-03-18\", \"2020-03-19\", \"2020-03-20\", \"2020-03-21\", \"2020-03-22\", \"2020-03-23\", \"2020-03-24\", \"2020-03-25\", \"2020-03-26\", \"2020-03-27\", \"2020-03-28\", \"2020-03-29\", \"2020-03-30\", \"2020-03-31\", \"2020-04-01\", \"2020-04-02\", \"2020-04-03\", \"2020-04-04\", \"2020-04-05\", \"2020-04-06\", \"2020-04-07\", \"2020-04-08\", \"2020-04-09\", \"2020-04-10\", \"2020-04-11\", \"2020-04-12\", \"2020-04-13\", \"2020-04-14\", \"2020-04-15\", \"2020-04-16\", \"2020-04-17\", \"2020-04-18\", \"2020-04-19\", \"2020-04-20\", \"2020-04-21\", \"2020-04-22\", \"2020-04-23\", \"2020-04-24\", \"2020-04-25\", \"2020-04-26\", \"2020-04-27\", \"2020-04-28\", \"2020-04-29\", \"2020-04-30\", \"2020-05-01\", \"2020-05-02\", \"2020-05-03\", \"2020-05-04\", \"2020-05-05\", \"2020-05-06\", \"2020-05-07\", \"2020-05-08\", \"2020-05-09\", \"2020-05-10\", \"2020-05-11\", \"2020-05-12\", \"2020-05-13\", \"2020-05-14\", \"2020-05-15\", \"2020-05-16\", \"2020-05-17\", \"2020-05-18\", \"2020-05-19\", \"2020-05-20\", \"2020-05-21\", \"2020-05-22\", \"2020-05-23\", \"2020-05-24\", \"2020-05-25\", \"2020-05-26\", \"2020-05-27\", \"2020-05-28\", \"2020-05-29\", \"2020-05-30\", \"2020-05-31\", \"2020-06-01\", \"2020-06-02\", \"2020-06-03\"], \"y\": [0.0, 0.0, 0.0, 0.0, 0.0, 0.0, 0.0, 0.0, 0.0, 0.0, 0.0, 0.0, 0.0, 0.0, 0.0, 0.0, 0.0, 0.0, 0.0, 0.0, 0.0, 0.0, 0.0, 0.0, 0.0, 0.0, 0.0, 0.0, 0.0, 0.0, 0.0, 0.0, 0.0, 0.0, 2.0, 0.0, 1.0, 0.0, 6.0, 5.0, 4.0, 3.0, 8.0, 12.0, 14.0, 24.0, 25.0, 27.0, 51.0, 64.0, 56.0, 202.0, 151.0, 205.0, 158.0, 314.0, 314.0, 367.0, 375.0, 426.0, 768.0, 892.0, 809.0, 305.0, 1321.0, 748.0, 614.0, 517.0, 830.0, 562.0, 531.0, 418.0, 395.0, 257.0, 270.0, 246.0, 342.0, 303.0, 302.0, 311.0, 251.0, 139.0, 96.0, 185.0, 110.0, 140.0, 119.0, 76.0, 78.0, 46.0, 78.0, 52.0, 77.0, 69.0, 77.0, 77.0, 49.0, 83.0, 45.0, 50.0, 79.0, 27.0, 39.0, 24.0, 29.0, 34.0, 68.0, 22.0, 59.0, 38.0, 11.0, 79.0, 36.0, 61.0, 51.0, 92.0, 41.0, 27.0, 52.0, 32.0, 51.0, 32.0, 50.0, 17.0, 36.0, 18.0, 34.0, 37.0, 27.0, 30.0, 46.0, 2.0, 26.0, 12.0]}, {\"name\": \"Ipd=lowpass(Ipd)\", \"type\": \"scatter\", \"x\": [\"2020-01-22\", \"2020-01-23\", \"2020-01-24\", \"2020-01-25\", \"2020-01-26\", \"2020-01-27\", \"2020-01-28\", \"2020-01-29\", \"2020-01-30\", \"2020-01-31\", \"2020-02-01\", \"2020-02-02\", \"2020-02-03\", \"2020-02-04\", \"2020-02-05\", \"2020-02-06\", \"2020-02-07\", \"2020-02-08\", \"2020-02-09\", \"2020-02-10\", \"2020-02-11\", \"2020-02-12\", \"2020-02-13\", \"2020-02-14\", \"2020-02-15\", \"2020-02-16\", \"2020-02-17\", \"2020-02-18\", \"2020-02-19\", \"2020-02-20\", \"2020-02-21\", \"2020-02-22\", \"2020-02-23\", \"2020-02-24\", \"2020-02-25\", \"2020-02-26\", \"2020-02-27\", \"2020-02-28\", \"2020-02-29\", \"2020-03-01\", \"2020-03-02\", \"2020-03-03\", \"2020-03-04\", \"2020-03-05\", \"2020-03-06\", \"2020-03-07\", \"2020-03-08\", \"2020-03-09\", \"2020-03-10\", \"2020-03-11\", \"2020-03-12\", \"2020-03-13\", \"2020-03-14\", \"2020-03-15\", \"2020-03-16\", \"2020-03-17\", \"2020-03-18\", \"2020-03-19\", \"2020-03-20\", \"2020-03-21\", \"2020-03-22\", \"2020-03-23\", \"2020-03-24\", \"2020-03-25\", \"2020-03-26\", \"2020-03-27\", \"2020-03-28\", \"2020-03-29\", \"2020-03-30\", \"2020-03-31\", \"2020-04-01\", \"2020-04-02\", \"2020-04-03\", \"2020-04-04\", \"2020-04-05\", \"2020-04-06\", \"2020-04-07\", \"2020-04-08\", \"2020-04-09\", \"2020-04-10\", \"2020-04-11\", \"2020-04-12\", \"2020-04-13\", \"2020-04-14\", \"2020-04-15\", \"2020-04-16\", \"2020-04-17\", \"2020-04-18\", \"2020-04-19\", \"2020-04-20\", \"2020-04-21\", \"2020-04-22\", \"2020-04-23\", \"2020-04-24\", \"2020-04-25\", \"2020-04-26\", \"2020-04-27\", \"2020-04-28\", \"2020-04-29\", \"2020-04-30\", \"2020-05-01\", \"2020-05-02\", \"2020-05-03\", \"2020-05-04\", \"2020-05-05\", \"2020-05-06\", \"2020-05-07\", \"2020-05-08\", \"2020-05-09\", \"2020-05-10\", \"2020-05-11\", \"2020-05-12\", \"2020-05-13\", \"2020-05-14\", \"2020-05-15\", \"2020-05-16\", \"2020-05-17\", \"2020-05-18\", \"2020-05-19\", \"2020-05-20\", \"2020-05-21\", \"2020-05-22\", \"2020-05-23\", \"2020-05-24\", \"2020-05-25\", \"2020-05-26\", \"2020-05-27\", \"2020-05-28\", \"2020-05-29\", \"2020-05-30\", \"2020-05-31\", \"2020-06-01\", \"2020-06-02\", \"2020-06-03\"], \"y\": [-0.10133632096965606, -0.19897779118348646, -0.2956991524989132, -0.38083517323366056, -0.4427207840653573, -0.4697418871819432, -0.45160246389767567, -0.3807165477437333, -0.2536008292623299, -0.07211738233401777, 0.155599528744933, 0.41469943800408426, 0.6838042885817268, 0.9359426277557867, 1.1402854833167702, 1.2646650937188761, 1.278768991663192, 1.1578062367808566, 0.8863487635106264, 0.461969450339948, -0.10175887581915743, -0.7733613612726344, -1.5030906460823434, -2.2244470330704136, -2.857817257670618, -3.316275533554343, -3.5133615941518137, -3.3723919216789495, -2.836593718926025, -1.879103287080754, -0.5116717997823788, 1.2091964233392094, 3.1799556681266985, 5.252736760937317, 7.243952785533969, 8.949250224730392, 10.16470412072808, 10.71349265006727, 10.476566756890023, 9.42511740158735, 7.652012069414978, 5.398904035817186, 3.075488442446072, 1.2674516169152963, 0.7300795749729312, 2.3652805779282824, 7.180925710786421, 16.232870500002047, 30.551694727783612, 51.05795347383745, 78.47141324973185, 113.22119078975518, 155.36476484374558, 204.52434772307836, 259.84892920453876, 320.0092687416363, 383.23106693832966, 447.3684692735113, 510.01611467434736, 568.6535061385712, 620.8110838005709, 664.2437047192684, 697.0950387278785, 718.0362902179937, 726.3648254115599, 722.0523732244116, 705.7378285471265, 678.6656188296472, 642.5763607806822, 599.5613676745664, 551.8958862582092, 501.86751703250707, 451.6161140197443, 402.99962871318695, 357.4969702691383, 316.1543056205028, 279.5758881871987, 247.9552571047371, 221.1383171607217, 198.70706214758724, 180.07186330305308, 164.56120781043478, 151.50007858736694, 140.27116331829163, 130.35613547165485, 121.35692589021242, 112.99901002556744, 105.12024425207716, 97.6497062014301, 90.58132514819475, 83.94683373480913, 77.79179282461374, 72.1572796864798, 67.06849319577552, 62.530241912452865, 58.52823086667702, 55.03437173135847, 52.014050486732856, 49.43336723271247, 47.26473623817518, 45.48979938678645, 44.09925738238857, 43.089859451468556, 42.459320342805135, 42.20027362713817, 42.294475089687225, 42.70834499799336, 43.39064374229555, 44.272699801923636, 45.27122823152231, 46.293432612986365, 47.243785744530406, 48.031643373809715, 48.578687953678624, 48.82516822885991, 48.73403044311983, 48.29233127177521, 47.509742259481555, 46.414422208302184, 45.046947161172625, 43.45326066672828, 41.67770193053538, 39.75710053493852, 37.716733196891575, 35.56865819673794, 33.31260513009496, 30.939229784902324, 28.435186418501377, 25.78917752540039, 22.997972256249305, 20.07137931979833, 17.03532571238305, 13.932500074834548, 10.820411329990689]}, {\"name\": \"Rpd\", \"type\": \"bar\", \"x\": [\"2020-01-22\", \"2020-01-23\", \"2020-01-24\", \"2020-01-25\", \"2020-01-26\", \"2020-01-27\", \"2020-01-28\", \"2020-01-29\", \"2020-01-30\", \"2020-01-31\", \"2020-02-01\", \"2020-02-02\", \"2020-02-03\", \"2020-02-04\", \"2020-02-05\", \"2020-02-06\", \"2020-02-07\", \"2020-02-08\", \"2020-02-09\", \"2020-02-10\", \"2020-02-11\", \"2020-02-12\", \"2020-02-13\", \"2020-02-14\", \"2020-02-15\", \"2020-02-16\", \"2020-02-17\", \"2020-02-18\", \"2020-02-19\", \"2020-02-20\", \"2020-02-21\", \"2020-02-22\", \"2020-02-23\", \"2020-02-24\", \"2020-02-25\", \"2020-02-26\", \"2020-02-27\", \"2020-02-28\", \"2020-02-29\", \"2020-03-01\", \"2020-03-02\", \"2020-03-03\", \"2020-03-04\", \"2020-03-05\", \"2020-03-06\", \"2020-03-07\", \"2020-03-08\", \"2020-03-09\", \"2020-03-10\", \"2020-03-11\", \"2020-03-12\", \"2020-03-13\", \"2020-03-14\", \"2020-03-15\", \"2020-03-16\", \"2020-03-17\", \"2020-03-18\", \"2020-03-19\", \"2020-03-20\", \"2020-03-21\", \"2020-03-22\", \"2020-03-23\", \"2020-03-24\", \"2020-03-25\", \"2020-03-26\", \"2020-03-27\", \"2020-03-28\", \"2020-03-29\", \"2020-03-30\", \"2020-03-31\", \"2020-04-01\", \"2020-04-02\", \"2020-04-03\", \"2020-04-04\", \"2020-04-05\", \"2020-04-06\", \"2020-04-07\", \"2020-04-08\", \"2020-04-09\", \"2020-04-10\", \"2020-04-11\", \"2020-04-12\", \"2020-04-13\", \"2020-04-14\", \"2020-04-15\", \"2020-04-16\", \"2020-04-17\", \"2020-04-18\", \"2020-04-19\", \"2020-04-20\", \"2020-04-21\", \"2020-04-22\", \"2020-04-23\", \"2020-04-24\", \"2020-04-25\", \"2020-04-26\", \"2020-04-27\", \"2020-04-28\", \"2020-04-29\", \"2020-04-30\", \"2020-05-01\", \"2020-05-02\", \"2020-05-03\", \"2020-05-04\", \"2020-05-05\", \"2020-05-06\", \"2020-05-07\", \"2020-05-08\", \"2020-05-09\", \"2020-05-10\", \"2020-05-11\", \"2020-05-12\", \"2020-05-13\", \"2020-05-14\", \"2020-05-15\", \"2020-05-16\", \"2020-05-17\", \"2020-05-18\", \"2020-05-19\", \"2020-05-20\", \"2020-05-21\", \"2020-05-22\", \"2020-05-23\", \"2020-05-24\", \"2020-05-25\", \"2020-05-26\", \"2020-05-27\", \"2020-05-28\", \"2020-05-29\", \"2020-05-30\", \"2020-05-31\", \"2020-06-01\", \"2020-06-02\", \"2020-06-03\"], \"y\": [0.0, 0.0, 0.0, 0.0, 0.0, 0.0, 0.0, 0.0, 0.0, 0.0, 0.0, 0.0, 0.0, 0.0, 0.0, 0.0, 0.0, 0.0, 0.0, 0.0, 0.0, 0.0, 0.0, 0.0, 0.0, 0.0, 0.0, 0.0, 0.0, 0.0, 0.0, 0.0, 0.0, 0.0, 0.0, 0.0, 0.0, 0.0, 0.0, 0.0, 0.0, 0.0, 0.0, 0.0, 0.0, 0.0, 0.0, 2.0, 2.0, 0.0, 0.0, 2.0, 0.0, 0.0, 0.0, -5.0, 8.0, 0.0, 0.0, 0.0, 0.0, 0.0, 0.0, 0.0, 103.0, 113.0, 0.0, 254.0, 157.0, 459.0, 341.0, 313.0, 273.0, 485.0, 491.0, 465.0, 583.0, 466.0, 728.0, 824.0, 540.0, 383.0, 356.0, 290.0, 465.0, 888.0, 718.0, 510.0, 287.0, 130.0, 340.0, 357.0, 366.0, 178.0, 231.0, 179.0, 80.0, 218.0, 199.0, 128.0, 203.0, 70.0, 48.0, 88.0, 146.0, 177.0, 59.0, 138.0, 92.0, 63.0, 70.0, 87.0, 156.0, 101.0, 66.0, 53.0, 39.0, 51.0, 64.0, 204.0, 69.0, 54.0, 32.0, 26.0, 75.0, 44.0, 46.0, 58.0, 61.0, 173.0, 73.0, 3.0, 33.0, 43.0]}, {\"name\": \"Rpd=lowpass(Rpd)\", \"type\": \"scatter\", \"x\": [\"2020-01-22\", \"2020-01-23\", \"2020-01-24\", \"2020-01-25\", \"2020-01-26\", \"2020-01-27\", \"2020-01-28\", \"2020-01-29\", \"2020-01-30\", \"2020-01-31\", \"2020-02-01\", \"2020-02-02\", \"2020-02-03\", \"2020-02-04\", \"2020-02-05\", \"2020-02-06\", \"2020-02-07\", \"2020-02-08\", \"2020-02-09\", \"2020-02-10\", \"2020-02-11\", \"2020-02-12\", \"2020-02-13\", \"2020-02-14\", \"2020-02-15\", \"2020-02-16\", \"2020-02-17\", \"2020-02-18\", \"2020-02-19\", \"2020-02-20\", \"2020-02-21\", \"2020-02-22\", \"2020-02-23\", \"2020-02-24\", \"2020-02-25\", \"2020-02-26\", \"2020-02-27\", \"2020-02-28\", \"2020-02-29\", \"2020-03-01\", \"2020-03-02\", \"2020-03-03\", \"2020-03-04\", \"2020-03-05\", \"2020-03-06\", \"2020-03-07\", \"2020-03-08\", \"2020-03-09\", \"2020-03-10\", \"2020-03-11\", \"2020-03-12\", \"2020-03-13\", \"2020-03-14\", \"2020-03-15\", \"2020-03-16\", \"2020-03-17\", \"2020-03-18\", \"2020-03-19\", \"2020-03-20\", \"2020-03-21\", \"2020-03-22\", \"2020-03-23\", \"2020-03-24\", \"2020-03-25\", \"2020-03-26\", \"2020-03-27\", \"2020-03-28\", \"2020-03-29\", \"2020-03-30\", \"2020-03-31\", \"2020-04-01\", \"2020-04-02\", \"2020-04-03\", \"2020-04-04\", \"2020-04-05\", \"2020-04-06\", \"2020-04-07\", \"2020-04-08\", \"2020-04-09\", \"2020-04-10\", \"2020-04-11\", \"2020-04-12\", \"2020-04-13\", \"2020-04-14\", \"2020-04-15\", \"2020-04-16\", \"2020-04-17\", \"2020-04-18\", \"2020-04-19\", \"2020-04-20\", \"2020-04-21\", \"2020-04-22\", \"2020-04-23\", \"2020-04-24\", \"2020-04-25\", \"2020-04-26\", \"2020-04-27\", \"2020-04-28\", \"2020-04-29\", \"2020-04-30\", \"2020-05-01\", \"2020-05-02\", \"2020-05-03\", \"2020-05-04\", \"2020-05-05\", \"2020-05-06\", \"2020-05-07\", \"2020-05-08\", \"2020-05-09\", \"2020-05-10\", \"2020-05-11\", \"2020-05-12\", \"2020-05-13\", \"2020-05-14\", \"2020-05-15\", \"2020-05-16\", \"2020-05-17\", \"2020-05-18\", \"2020-05-19\", \"2020-05-20\", \"2020-05-21\", \"2020-05-22\", \"2020-05-23\", \"2020-05-24\", \"2020-05-25\", \"2020-05-26\", \"2020-05-27\", \"2020-05-28\", \"2020-05-29\", \"2020-05-30\", \"2020-05-31\", \"2020-06-01\", \"2020-06-02\", \"2020-06-03\"], \"y\": [0.017057246553842997, 0.0424640497293543, 0.06864019269601157, 0.09291535475677165, 0.11226110159877167, 0.1235429985782911, 0.12383742287154664, 0.1107924485767395, 0.08300305431318364, 0.040363071570981596, -0.015649125302595435, -0.08179609394308318, -0.1530603197311613, -0.2228114150819125, -0.2831831567526095, -0.3256638499643836, -0.3418811520637448, -0.3245374522413921, -0.2684263309503585, -0.17143716741242862, -0.035436611770330084, 0.13309454567503787, 0.3227897642350128, 0.5175970149877633, 0.6975289780886382, 0.8399982023635326, 0.9217163277139973, 0.9210709777705608, 0.8208239310739827, 0.610906289343846, 0.29102836460981585, -0.1272177401079193, -0.6190982309491853, -1.1466357129953266, -1.6599222078465417, -2.1000055700839724, -2.403371358634642, -2.50787453375073, -2.359787822647071, -1.9214421547130272, -1.1787588448102286, -0.14783517441228433, 1.120332913486422, 2.537904666209803, 3.9818395347382207, 5.299743952118771, 6.320222788195288, 6.867640077657926, 6.780730436057049, 5.934012223804084, 4.260482821519827, 1.7736771376351779, -1.4131046725176537, -5.072695724947763, -8.857268908944187, -12.300678062525254, -14.831159928405345, -15.794799472841863, -14.489167158076977, -10.205457407798836, -2.276410178264247, 9.87357748774412, 26.680303277282913, 48.39785648098742, 75.06687590442864, 106.49604258611488, 142.25866353849685, 181.70476652330404, 223.9876484786579, 268.1024970178384, 312.9337527365573, 357.30747489221017, 400.0451202751036, 440.0156263209272, 476.18318950753036, 507.6484646636975, 533.6811375049446, 553.7421426472847, 567.4943919348791, 574.8018297681457, 575.717931939042, 570.4662387838281, 559.4167247339079, 543.0621234137809, 521.9972928930508, 496.90248098539445, 468.52882900007415, 437.6828460432377, 405.20670094800465, 371.9528817013457, 338.75408448005044, 306.3909764259438, 275.5611415723226, 246.85222122335293, 220.72151824518832, 197.48354725131753, 177.30627348732298, 160.21602679932144, 146.1102892477358, 134.7768489924205, 125.9173608398636, 119.17325876674859, 114.15217836384174, 110.45338947949936, 107.69102359723769, 105.51403576052479, 103.62195010118634, 101.77564802421261, 99.80283866274506, 97.59833552111326, 95.11970993443029, 92.37918684348773, 89.43276298778478, 86.36752134410993, 83.28808843287013, 80.30319218689321, 77.5132893853012, 75.00013995701404, 72.81894471282581, 70.99328506801504, 69.51276575678635, 68.33312661122419, 67.37869761470857, 66.54728794089846, 65.71769660446438, 64.75984831533015, 63.54709847717528, 61.96966132316189, 59.9475880487808, 57.44143089282858, 54.458801821990306, 51.055522748803625, 47.330896254519246, 43.417596658390686]}, {\"name\": \"Rpd=conv(Ipd)\", \"type\": \"scatter\", \"x\": [\"2020-01-22\", \"2020-01-23\", \"2020-01-24\", \"2020-01-25\", \"2020-01-26\", \"2020-01-27\", \"2020-01-28\", \"2020-01-29\", \"2020-01-30\", \"2020-01-31\", \"2020-02-01\", \"2020-02-02\", \"2020-02-03\", \"2020-02-04\", \"2020-02-05\", \"2020-02-06\", \"2020-02-07\", \"2020-02-08\", \"2020-02-09\", \"2020-02-10\", \"2020-02-11\", \"2020-02-12\", \"2020-02-13\", \"2020-02-14\", \"2020-02-15\", \"2020-02-16\", \"2020-02-17\", \"2020-02-18\", \"2020-02-19\", \"2020-02-20\", \"2020-02-21\", \"2020-02-22\", \"2020-02-23\", \"2020-02-24\", \"2020-02-25\", \"2020-02-26\", \"2020-02-27\", \"2020-02-28\", \"2020-02-29\", \"2020-03-01\", \"2020-03-02\", \"2020-03-03\", \"2020-03-04\", \"2020-03-05\", \"2020-03-06\", \"2020-03-07\", \"2020-03-08\", \"2020-03-09\", \"2020-03-10\", \"2020-03-11\", \"2020-03-12\", \"2020-03-13\", \"2020-03-14\", \"2020-03-15\", \"2020-03-16\", \"2020-03-17\", \"2020-03-18\", \"2020-03-19\", \"2020-03-20\", \"2020-03-21\", \"2020-03-22\", \"2020-03-23\", \"2020-03-24\", \"2020-03-25\", \"2020-03-26\", \"2020-03-27\", \"2020-03-28\", \"2020-03-29\", \"2020-03-30\", \"2020-03-31\", \"2020-04-01\", \"2020-04-02\", \"2020-04-03\", \"2020-04-04\", \"2020-04-05\", \"2020-04-06\", \"2020-04-07\", \"2020-04-08\", \"2020-04-09\", \"2020-04-10\", \"2020-04-11\", \"2020-04-12\", \"2020-04-13\", \"2020-04-14\", \"2020-04-15\", \"2020-04-16\", \"2020-04-17\", \"2020-04-18\", \"2020-04-19\", \"2020-04-20\", \"2020-04-21\", \"2020-04-22\", \"2020-04-23\", \"2020-04-24\", \"2020-04-25\", \"2020-04-26\", \"2020-04-27\", \"2020-04-28\", \"2020-04-29\", \"2020-04-30\", \"2020-05-01\", \"2020-05-02\", \"2020-05-03\", \"2020-05-04\", \"2020-05-05\", \"2020-05-06\", \"2020-05-07\", \"2020-05-08\", \"2020-05-09\", \"2020-05-10\", \"2020-05-11\", \"2020-05-12\", \"2020-05-13\", \"2020-05-14\", \"2020-05-15\", \"2020-05-16\", \"2020-05-17\", \"2020-05-18\", \"2020-05-19\", \"2020-05-20\", \"2020-05-21\", \"2020-05-22\", \"2020-05-23\", \"2020-05-24\", \"2020-05-25\", \"2020-05-26\", \"2020-05-27\", \"2020-05-28\", \"2020-05-29\", \"2020-05-30\", \"2020-05-31\", \"2020-06-01\", \"2020-06-02\", \"2020-06-03\"], \"y\": [3.789561257387201e-14, 3.031649005909761e-14, -7.579122514774402e-15, 3.031649005909761e-14, 2.2737367544323207e-14, 3.410605131648481e-14, -2.2737367544323207e-14, 4.5474735088646414e-14, -3.031649005909761e-14, 1.5158245029548804e-14, -1.5158245029548804e-14, 2.2737367544323207e-14, 2.2737367544323207e-14, 7.579122514774402e-15, 0.0, 2.6526928801710407e-14, 5.684341886080802e-15, 1.8947806286936004e-14, 3.789561257387201e-15, -2.2737367544323207e-14, 2.2737367544323207e-14, 7.579122514774402e-15, -3.031649005909761e-14, 0.0, -1.5158245029548804e-14, 3.031649005909761e-14, 1.5158245029548804e-14, -1.5158245029548804e-14, -1.5158245029548804e-14, -3.031649005909761e-14, 0.0, 0.0, 3.031649005909761e-14, 3.031649005909761e-14, 0.0, -3.031649005909761e-14, 9.094947017729283e-14, 0.002008926397805529, 0.0078647069412303, 0.016124682728301802, 0.027093198316924826, 0.045231937005094855, 0.08049949259690645, 0.1337571582919736, 0.20337780983075693, 0.2923771542736328, 0.4133040002751083, 0.5782012818029216, 0.8043665898954032, 1.1145614624443245, 1.5200953885730542, 2.0523181685430965, 2.771855628601395, 3.710536479101055, 5.013487534705109, 6.908103334571384, 9.44544907251604, 12.691536038490867, 16.74603935314496, 21.877962694667666, 28.21004514482105, 35.86207380684007, 44.90989953327362, 55.7631697683949, 69.17034760470402, 85.44548459108792, 104.02859266255541, 124.89383169976912, 148.92549441941327, 175.19756896258733, 202.98529298580755, 231.9791459525272, 262.0332088610903, 292.37910577736477, 322.36474266458947, 351.30751747137333, 378.55218989221333, 403.43920802450714, 425.54239957733586, 444.61019040012553, 460.5633201941257, 473.2664466197101, 482.70232024692393, 488.88477165471556, 491.72231718316704, 491.11258262496386, 487.21151510419975, 480.3208242814343, 470.66516474008137, 458.58778869475617, 444.3725883713307, 428.30179024824156, 410.6873843234923, 391.8496258234746, 372.1432511724619, 351.8780919568139, 331.3830748343937, 310.9361166047553, 290.79747053859563, 271.15804813920965, 252.18215234091406, 234.02772783458437, 216.75749539839074, 200.47822941876402, 185.24640706728763, 171.02530468815806, 157.80922628369305, 145.56295423894704, 134.2660326168845, 123.92483848969768, 114.51763848714886, 105.96976170282723, 98.2616684179066, 91.28870412596959, 85.00702376231186, 79.42830950364548, 74.4771037599784, 70.12969503071028, 66.37189973780742, 63.18508242362586, 60.44227613350531, 58.08066108204857, 56.0680991321823, 54.35197783004814, 52.901106722593795, 51.66886953684022, 50.61443097150358, 49.67073911843871, 48.809896244386664, 47.99178341564713, 47.217602216170484, 46.47034414876581, 45.72461345832846, 44.988081512504465, 44.24084122448986, 43.43028658253704, 42.56369687939177, 41.60740387791425, 40.53389098250806, 39.33613372676662, 38.01452574215284, 36.574339339633276, 35.0246343928854, 33.377501887475375, 31.64742895917552, 29.850718571459097, 28.004940498433793, 26.12840694588055, 24.23967357759748, 22.357070348087927, 20.498268345186837, 18.679889596464577, 16.91716680990327, 15.223659437452625, 13.611031341311582, 12.088893772069863, 10.664715420213133, 9.343799091998964, 8.129322228545925, 7.022436191636552, 6.022417143211866, 5.126859597409134, 4.33190244687371, 3.6324765425820638, 3.0225627759172613, 2.4954500620844557, 2.0439835985087105, 1.6607951760221265, 1.3385090328697704, 1.0699186260710083, 0.8481316147003554, 0.6666821793405536, 0.5196114360631782, 0.401518063732298, 0.3075823024413921, 0.23356718098583162, 0.1758012022095348, 0.13114678894952098, 0.09695861821990093, 0.07103560468817705, 0.05156979682381006, 0.03709487830979773, 0.02643637474040285, 0.018665093215054183, 0.013054801438283902, 0.00904470375691441, 0.006206904725695494, 0.004218768404287705, 0.0028398792936589717, 0.0018931797796615986, 0.0012497877028181392, 0.0008169737550664043, 0.0005287895732408287, 0.00033887256353561194, 0.0002150031700997109, 0.00013504694661226798, 8.397170397150452e-05, 5.168524731971047e-05, 3.1489306820731144e-05, 1.8988916398636017e-05, 1.1333285059815049e-05, 6.694347062345211e-06, 3.913234507990637e-06, 2.263692694744653e-06, 1.295781927031688e-06, 7.339363416273651e-07, 4.1131651945155075e-07, 2.2806831717995616e-07, 1.2511350178101566e-07, 6.790066890971502e-08, 3.6454806225568363e-08, 1.9360951834338873e-08, 1.0171152098337188e-08, 5.285240452697811e-09, 2.7164181422752637e-09, 1.3809009639468664e-09, 6.942021476182465e-10, 3.4512292283276714e-10, 1.697420278408875e-10, 8.258211892098188e-11, 3.9714601977417864e-11, 1.8917489796876908e-11, 8.943364567433795e-12, 4.244308608273665e-12, 1.9099388737231494e-12, 9.094947017729282e-13, 4.244308608273665e-13, 2.4253192047278086e-13, 6.063298011819522e-14, 3.031649005909761e-14, 9.094947017729283e-14, 3.031649005909761e-14, -6.063298011819522e-14]}],\n",
              "                        {\"template\": {\"data\": {\"bar\": [{\"error_x\": {\"color\": \"#2a3f5f\"}, \"error_y\": {\"color\": \"#2a3f5f\"}, \"marker\": {\"line\": {\"color\": \"#E5ECF6\", \"width\": 0.5}}, \"type\": \"bar\"}], \"barpolar\": [{\"marker\": {\"line\": {\"color\": \"#E5ECF6\", \"width\": 0.5}}, \"type\": \"barpolar\"}], \"carpet\": [{\"aaxis\": {\"endlinecolor\": \"#2a3f5f\", \"gridcolor\": \"white\", \"linecolor\": \"white\", \"minorgridcolor\": \"white\", \"startlinecolor\": \"#2a3f5f\"}, \"baxis\": {\"endlinecolor\": \"#2a3f5f\", \"gridcolor\": \"white\", \"linecolor\": \"white\", \"minorgridcolor\": \"white\", \"startlinecolor\": \"#2a3f5f\"}, \"type\": \"carpet\"}], \"choropleth\": [{\"colorbar\": {\"outlinewidth\": 0, \"ticks\": \"\"}, \"type\": \"choropleth\"}], \"contour\": [{\"colorbar\": {\"outlinewidth\": 0, \"ticks\": \"\"}, \"colorscale\": [[0.0, \"#0d0887\"], [0.1111111111111111, \"#46039f\"], [0.2222222222222222, \"#7201a8\"], [0.3333333333333333, \"#9c179e\"], [0.4444444444444444, \"#bd3786\"], [0.5555555555555556, \"#d8576b\"], [0.6666666666666666, \"#ed7953\"], [0.7777777777777778, \"#fb9f3a\"], [0.8888888888888888, \"#fdca26\"], [1.0, \"#f0f921\"]], \"type\": \"contour\"}], \"contourcarpet\": [{\"colorbar\": {\"outlinewidth\": 0, \"ticks\": \"\"}, \"type\": \"contourcarpet\"}], \"heatmap\": [{\"colorbar\": {\"outlinewidth\": 0, \"ticks\": \"\"}, \"colorscale\": [[0.0, \"#0d0887\"], [0.1111111111111111, \"#46039f\"], [0.2222222222222222, \"#7201a8\"], [0.3333333333333333, \"#9c179e\"], [0.4444444444444444, \"#bd3786\"], [0.5555555555555556, \"#d8576b\"], [0.6666666666666666, \"#ed7953\"], [0.7777777777777778, \"#fb9f3a\"], [0.8888888888888888, \"#fdca26\"], [1.0, \"#f0f921\"]], \"type\": \"heatmap\"}], \"heatmapgl\": [{\"colorbar\": {\"outlinewidth\": 0, \"ticks\": \"\"}, \"colorscale\": [[0.0, \"#0d0887\"], [0.1111111111111111, \"#46039f\"], [0.2222222222222222, \"#7201a8\"], [0.3333333333333333, \"#9c179e\"], [0.4444444444444444, \"#bd3786\"], [0.5555555555555556, \"#d8576b\"], [0.6666666666666666, \"#ed7953\"], [0.7777777777777778, \"#fb9f3a\"], [0.8888888888888888, \"#fdca26\"], [1.0, \"#f0f921\"]], \"type\": \"heatmapgl\"}], \"histogram\": [{\"marker\": {\"colorbar\": {\"outlinewidth\": 0, \"ticks\": \"\"}}, \"type\": \"histogram\"}], \"histogram2d\": [{\"colorbar\": {\"outlinewidth\": 0, \"ticks\": \"\"}, \"colorscale\": [[0.0, \"#0d0887\"], [0.1111111111111111, \"#46039f\"], [0.2222222222222222, \"#7201a8\"], [0.3333333333333333, \"#9c179e\"], [0.4444444444444444, \"#bd3786\"], [0.5555555555555556, \"#d8576b\"], [0.6666666666666666, \"#ed7953\"], [0.7777777777777778, \"#fb9f3a\"], [0.8888888888888888, \"#fdca26\"], [1.0, \"#f0f921\"]], \"type\": \"histogram2d\"}], \"histogram2dcontour\": [{\"colorbar\": {\"outlinewidth\": 0, \"ticks\": \"\"}, \"colorscale\": [[0.0, \"#0d0887\"], [0.1111111111111111, \"#46039f\"], [0.2222222222222222, \"#7201a8\"], [0.3333333333333333, \"#9c179e\"], [0.4444444444444444, \"#bd3786\"], [0.5555555555555556, \"#d8576b\"], [0.6666666666666666, \"#ed7953\"], [0.7777777777777778, \"#fb9f3a\"], [0.8888888888888888, \"#fdca26\"], [1.0, \"#f0f921\"]], \"type\": \"histogram2dcontour\"}], \"mesh3d\": [{\"colorbar\": {\"outlinewidth\": 0, \"ticks\": \"\"}, \"type\": \"mesh3d\"}], \"parcoords\": [{\"line\": {\"colorbar\": {\"outlinewidth\": 0, \"ticks\": \"\"}}, \"type\": \"parcoords\"}], \"pie\": [{\"automargin\": true, \"type\": \"pie\"}], \"scatter\": [{\"marker\": {\"colorbar\": {\"outlinewidth\": 0, \"ticks\": \"\"}}, \"type\": \"scatter\"}], \"scatter3d\": [{\"line\": {\"colorbar\": {\"outlinewidth\": 0, \"ticks\": \"\"}}, \"marker\": {\"colorbar\": {\"outlinewidth\": 0, \"ticks\": \"\"}}, \"type\": \"scatter3d\"}], \"scattercarpet\": [{\"marker\": {\"colorbar\": {\"outlinewidth\": 0, \"ticks\": \"\"}}, \"type\": \"scattercarpet\"}], \"scattergeo\": [{\"marker\": {\"colorbar\": {\"outlinewidth\": 0, \"ticks\": \"\"}}, \"type\": \"scattergeo\"}], \"scattergl\": [{\"marker\": {\"colorbar\": {\"outlinewidth\": 0, \"ticks\": \"\"}}, \"type\": \"scattergl\"}], \"scattermapbox\": [{\"marker\": {\"colorbar\": {\"outlinewidth\": 0, \"ticks\": \"\"}}, \"type\": \"scattermapbox\"}], \"scatterpolar\": [{\"marker\": {\"colorbar\": {\"outlinewidth\": 0, \"ticks\": \"\"}}, \"type\": \"scatterpolar\"}], \"scatterpolargl\": [{\"marker\": {\"colorbar\": {\"outlinewidth\": 0, \"ticks\": \"\"}}, \"type\": \"scatterpolargl\"}], \"scatterternary\": [{\"marker\": {\"colorbar\": {\"outlinewidth\": 0, \"ticks\": \"\"}}, \"type\": \"scatterternary\"}], \"surface\": [{\"colorbar\": {\"outlinewidth\": 0, \"ticks\": \"\"}, \"colorscale\": [[0.0, \"#0d0887\"], [0.1111111111111111, \"#46039f\"], [0.2222222222222222, \"#7201a8\"], [0.3333333333333333, \"#9c179e\"], [0.4444444444444444, \"#bd3786\"], [0.5555555555555556, \"#d8576b\"], [0.6666666666666666, \"#ed7953\"], [0.7777777777777778, \"#fb9f3a\"], [0.8888888888888888, \"#fdca26\"], [1.0, \"#f0f921\"]], \"type\": \"surface\"}], \"table\": [{\"cells\": {\"fill\": {\"color\": \"#EBF0F8\"}, \"line\": {\"color\": \"white\"}}, \"header\": {\"fill\": {\"color\": \"#C8D4E3\"}, \"line\": {\"color\": \"white\"}}, \"type\": \"table\"}]}, \"layout\": {\"annotationdefaults\": {\"arrowcolor\": \"#2a3f5f\", \"arrowhead\": 0, \"arrowwidth\": 1}, \"coloraxis\": {\"colorbar\": {\"outlinewidth\": 0, \"ticks\": \"\"}}, \"colorscale\": {\"diverging\": [[0, \"#8e0152\"], [0.1, \"#c51b7d\"], [0.2, \"#de77ae\"], [0.3, \"#f1b6da\"], [0.4, \"#fde0ef\"], [0.5, \"#f7f7f7\"], [0.6, \"#e6f5d0\"], [0.7, \"#b8e186\"], [0.8, \"#7fbc41\"], [0.9, \"#4d9221\"], [1, \"#276419\"]], \"sequential\": [[0.0, \"#0d0887\"], [0.1111111111111111, \"#46039f\"], [0.2222222222222222, \"#7201a8\"], [0.3333333333333333, \"#9c179e\"], [0.4444444444444444, \"#bd3786\"], [0.5555555555555556, \"#d8576b\"], [0.6666666666666666, \"#ed7953\"], [0.7777777777777778, \"#fb9f3a\"], [0.8888888888888888, \"#fdca26\"], [1.0, \"#f0f921\"]], \"sequentialminus\": [[0.0, \"#0d0887\"], [0.1111111111111111, \"#46039f\"], [0.2222222222222222, \"#7201a8\"], [0.3333333333333333, \"#9c179e\"], [0.4444444444444444, \"#bd3786\"], [0.5555555555555556, \"#d8576b\"], [0.6666666666666666, \"#ed7953\"], [0.7777777777777778, \"#fb9f3a\"], [0.8888888888888888, \"#fdca26\"], [1.0, \"#f0f921\"]]}, \"colorway\": [\"#636efa\", \"#EF553B\", \"#00cc96\", \"#ab63fa\", \"#FFA15A\", \"#19d3f3\", \"#FF6692\", \"#B6E880\", \"#FF97FF\", \"#FECB52\"], \"font\": {\"color\": \"#2a3f5f\"}, \"geo\": {\"bgcolor\": \"white\", \"lakecolor\": \"white\", \"landcolor\": \"#E5ECF6\", \"showlakes\": true, \"showland\": true, \"subunitcolor\": \"white\"}, \"hoverlabel\": {\"align\": \"left\"}, \"hovermode\": \"closest\", \"mapbox\": {\"style\": \"light\"}, \"paper_bgcolor\": \"white\", \"plot_bgcolor\": \"#E5ECF6\", \"polar\": {\"angularaxis\": {\"gridcolor\": \"white\", \"linecolor\": \"white\", \"ticks\": \"\"}, \"bgcolor\": \"#E5ECF6\", \"radialaxis\": {\"gridcolor\": \"white\", \"linecolor\": \"white\", \"ticks\": \"\"}}, \"scene\": {\"xaxis\": {\"backgroundcolor\": \"#E5ECF6\", \"gridcolor\": \"white\", \"gridwidth\": 2, \"linecolor\": \"white\", \"showbackground\": true, \"ticks\": \"\", \"zerolinecolor\": \"white\"}, \"yaxis\": {\"backgroundcolor\": \"#E5ECF6\", \"gridcolor\": \"white\", \"gridwidth\": 2, \"linecolor\": \"white\", \"showbackground\": true, \"ticks\": \"\", \"zerolinecolor\": \"white\"}, \"zaxis\": {\"backgroundcolor\": \"#E5ECF6\", \"gridcolor\": \"white\", \"gridwidth\": 2, \"linecolor\": \"white\", \"showbackground\": true, \"ticks\": \"\", \"zerolinecolor\": \"white\"}}, \"shapedefaults\": {\"line\": {\"color\": \"#2a3f5f\"}}, \"ternary\": {\"aaxis\": {\"gridcolor\": \"white\", \"linecolor\": \"white\", \"ticks\": \"\"}, \"baxis\": {\"gridcolor\": \"white\", \"linecolor\": \"white\", \"ticks\": \"\"}, \"bgcolor\": \"#E5ECF6\", \"caxis\": {\"gridcolor\": \"white\", \"linecolor\": \"white\", \"ticks\": \"\"}}, \"title\": {\"x\": 0.05}, \"xaxis\": {\"automargin\": true, \"gridcolor\": \"white\", \"linecolor\": \"white\", \"ticks\": \"\", \"title\": {\"standoff\": 15}, \"zerolinecolor\": \"white\", \"zerolinewidth\": 2}, \"yaxis\": {\"automargin\": true, \"gridcolor\": \"white\", \"linecolor\": \"white\", \"ticks\": \"\", \"title\": {\"standoff\": 15}, \"zerolinecolor\": \"white\", \"zerolinewidth\": 2}}}, \"title\": {\"text\": \"$\\\\text{Austria: Actual } R_{pd} \\\\text{ vs. } h_I[j]\\\\circledast I_{pd}[j]$\", \"x\": 0.5, \"xanchor\": \"center\"}, \"xaxis\": {\"title\": {\"text\": \"Day\"}}, \"yaxis\": {\"title\": {\"text\": \"Count\"}}},\n",
              "                        {\"responsive\": true}\n",
              "                    ).then(function(){\n",
              "                            \n",
              "var gd = document.getElementById('4fa2ca92-9c45-4b5c-a6f6-1921d93e1339');\n",
              "var x = new MutationObserver(function (mutations, observer) {{\n",
              "        var display = window.getComputedStyle(gd).display;\n",
              "        if (!display || display === 'none') {{\n",
              "            console.log([gd, 'removed!']);\n",
              "            Plotly.purge(gd);\n",
              "            observer.disconnect();\n",
              "        }}\n",
              "}});\n",
              "\n",
              "// Listen for the removal of the full notebook cells\n",
              "var notebookContainer = gd.closest('#notebook-container');\n",
              "if (notebookContainer) {{\n",
              "    x.observe(notebookContainer, {childList: true});\n",
              "}}\n",
              "\n",
              "// Listen for the clearing of the current output cell\n",
              "var outputEl = gd.closest('.output');\n",
              "if (outputEl) {{\n",
              "    x.observe(outputEl, {childList: true});\n",
              "}}\n",
              "\n",
              "                        })\n",
              "                };\n",
              "                \n",
              "            </script>\n",
              "        </div>\n",
              "</body>\n",
              "</html>"
            ]
          },
          "metadata": {
            "tags": []
          }
        }
      ]
    },
    {
      "cell_type": "markdown",
      "metadata": {
        "id": "xPP9s2gcQrVq",
        "colab_type": "text"
      },
      "source": [
        "We can see the actual $R_{pd}$ leads $h_I[j]\\circledast I_{pd}[j]$ by about 5 days.\n",
        "\n",
        "There is a 20 day lag between peak $I_{pd}$ and $h_I[j]\\circledast I_{pd}[j]$ as is expected since $E[T_I] = 20.11$.\n",
        "\n",
        "But there is only a 15 day lag between peak $I_{pd}$ and actual $R_{pd}$.\n",
        "\n",
        "There are a few possibilites for why this is the case, including that maybe we haven't assumed the correct distribution for $T_I$.\n",
        "\n",
        "However there is another reason why this could be. Testing, especially in the early days, took time, and it took time for a patient showing symptoms before he could be tested. This may simply explain the 5 day difference."
      ]
    },
    {
      "cell_type": "markdown",
      "metadata": {
        "id": "J5A7oig93-Z3",
        "colab_type": "text"
      },
      "source": [
        "#### 2. Estimating $E_{pd}$ by deconvolution of $I_{pd}$"
      ]
    },
    {
      "cell_type": "code",
      "metadata": {
        "colab_type": "code",
        "outputId": "8fcb6d5e-f041-4ae1-d2f1-21b34b2e2b36",
        "id": "0HC9aZaOjebI",
        "colab": {
          "base_uri": "https://localhost:8080/",
          "height": 147
        }
      },
      "source": [
        "#collapse_hide\n",
        "\n",
        "#Settting up for deconvolution of Ipd\n",
        "\n",
        "#regularization parameter\n",
        "alpha=2\n",
        "\n",
        "# Setup up the resultant Ipd we want to compare our guess with\n",
        "Ipd=np.floor(lowpass(conf_df_pd.loc['Austria'])[0])\n",
        "Ipd[Ipd<0]=0\n",
        "\n",
        "\n",
        "# Pad with last value\n",
        "i=0\n",
        "while i < 100:\n",
        "  Ipd=np.append(Ipd, Ipd[-1])\n",
        "  i=i+1\n",
        "\n",
        "# Find delay caused by h_L\n",
        "delay=Ipd.argmax()-signal.fftconvolve(Ipd, h_L, mode='full').argmax()\n",
        "\n",
        "# We want initial guess to simply be the result of the convolution delayed\n",
        "initial_guess=np.roll(Ipd,delay)\n",
        "Enext = initial_guess\n",
        "\n",
        "# AN array to record MSE between result we want and our iterated guess\n",
        "mse=np.array([])\n",
        "mse=np.append(mse, 10000000)\n",
        "mse=np.append(mse, msecalc(Ipd[:len(conf_df_pd.loc['Austria'])], signal.fftconvolve(h_L, Enext, mode='full')[:len(conf_df_pd.loc['Austria'])]))\n",
        "\n",
        "itercount=0\n",
        "while mse[-1] < mse[-2]:\n",
        "  itercount=itercount+1\n",
        "  Enext=iter_deconv(alpha, h_L, Enext, delay, Ipd)\n",
        "  mse=np.append(mse, msecalc(Ipd[:len(conf_df_pd.loc['Austria'])], signal.fftconvolve(h_L, Enext, mode='full')[:len(conf_df_pd.loc['Austria'])]))\n",
        "  print(\"Iteration #\" + str(itercount) +\": MSE= \"+str(mse[itercount]))\n",
        "print(\"Iteration #\" + str(itercount+1) +\": MSE= \"+str(mse[-1])+\" so we use the result of the previous iteration.\")"
      ],
      "execution_count": 203,
      "outputs": [
        {
          "output_type": "stream",
          "text": [
            "Iteration #1: MSE= 994.1480206933169\n",
            "Iteration #2: MSE= 223.4606324754608\n",
            "Iteration #3: MSE= 155.95604332037303\n",
            "Iteration #4: MSE= 138.69774483406667\n",
            "Iteration #5: MSE= 94.47398861194564\n",
            "Iteration #6: MSE= 94.27210338177136\n",
            "Iteration #7: MSE= 72.93041537376978\n",
            "Iteration #8: MSE= 76.01675231549818 so we use the result of the previous iteration.\n"
          ],
          "name": "stdout"
        }
      ]
    },
    {
      "cell_type": "code",
      "metadata": {
        "colab_type": "code",
        "outputId": "0e746671-7374-4c03-b7df-632574984749",
        "id": "4ucv5QZ3jebP",
        "colab": {
          "base_uri": "https://localhost:8080/",
          "height": 180
        }
      },
      "source": [
        "#collapse_hide\n",
        "# We can keep going the iteration until lowest MSE\n",
        "\n",
        "#change alpha if you like\n",
        "#alpha=2\n",
        "\n",
        "i=0\n",
        "while i < 10:\n",
        "  itercount=itercount+1\n",
        "  Enext=iter_deconv(alpha, h_L, Enext, delay, Ipd)\n",
        "  print(msecalc(Ipd[:len(conf_df_pd.loc['Austria'])], signal.fftconvolve(h_L, Enext, mode='full')[:len(conf_df_pd.loc['Austria'])]))\n",
        "  i=i+1"
      ],
      "execution_count": 208,
      "outputs": [
        {
          "output_type": "stream",
          "text": [
            "55.6161301776942\n",
            "55.411698307523224\n",
            "55.6161301776942\n",
            "55.411698307523224\n",
            "55.6161301776942\n",
            "55.411698307523224\n",
            "55.6161301776942\n",
            "55.411698307523224\n",
            "55.6161301776942\n",
            "55.411698307523224\n"
          ],
          "name": "stdout"
        }
      ]
    },
    {
      "cell_type": "code",
      "metadata": {
        "id": "y45Y_cAadLAu",
        "colab_type": "code",
        "outputId": "6f33316c-9a65-420e-ed43-e7a65937b555",
        "colab": {
          "base_uri": "https://localhost:8080/",
          "height": 542
        }
      },
      "source": [
        "#collapse_hide\n",
        "fig = go.Figure(data=[    \n",
        "    go.Scatter(name='Epd=deconv(Ipd)', x=inf_df.loc['Austria'].index, y=Enext),\n",
        "    go.Scatter(name='Ipd=conv(deconv(Ipd))', x=inf_df.loc['Austria'].index, y=signal.fftconvolve(h_L, Enext, mode='full')),\n",
        "    go.Bar(name='Ipd', x=inf_df.loc['Austria'].index, y=conf_df_pd.loc['Austria']),\n",
        "    go.Scatter(name='Ipd=lowpass(Ipd)', x=inf_df.loc['Austria'].index, y=lowpass(conf_df_pd.loc['Austria'])[0])\n",
        "])\n",
        "\n",
        "fig.update_layout(\n",
        "    \n",
        "    xaxis_title = 'Day',\n",
        "    yaxis_title = 'Count',\n",
        "    title={\n",
        "        'text':r'$\\text{Austria: Actual } I_{pd} \\text{ vs. convolution of deconvolution of } I_{pd}$',\n",
        "        'x':0.5,\n",
        "        'xanchor':'center'\n",
        "    }\n",
        ")\n",
        "\n",
        "fig.show()"
      ],
      "execution_count": 210,
      "outputs": [
        {
          "output_type": "display_data",
          "data": {
            "text/html": [
              "<html>\n",
              "<head><meta charset=\"utf-8\" /></head>\n",
              "<body>\n",
              "    <div>\n",
              "            <script src=\"https://cdnjs.cloudflare.com/ajax/libs/mathjax/2.7.5/MathJax.js?config=TeX-AMS-MML_SVG\"></script><script type=\"text/javascript\">if (window.MathJax) {MathJax.Hub.Config({SVG: {font: \"STIX-Web\"}});}</script>\n",
              "                <script type=\"text/javascript\">window.PlotlyConfig = {MathJaxConfig: 'local'};</script>\n",
              "        <script src=\"https://cdn.plot.ly/plotly-latest.min.js\"></script>    \n",
              "            <div id=\"a688be28-fdff-4281-95d3-bb7436df423a\" class=\"plotly-graph-div\" style=\"height:525px; width:100%;\"></div>\n",
              "            <script type=\"text/javascript\">\n",
              "                \n",
              "                    window.PLOTLYENV=window.PLOTLYENV || {};\n",
              "                    \n",
              "                if (document.getElementById(\"a688be28-fdff-4281-95d3-bb7436df423a\")) {\n",
              "                    Plotly.newPlot(\n",
              "                        'a688be28-fdff-4281-95d3-bb7436df423a',\n",
              "                        [{\"name\": \"Epd=deconv(Ipd)\", \"type\": \"scatter\", \"x\": [\"2020-01-22\", \"2020-01-23\", \"2020-01-24\", \"2020-01-25\", \"2020-01-26\", \"2020-01-27\", \"2020-01-28\", \"2020-01-29\", \"2020-01-30\", \"2020-01-31\", \"2020-02-01\", \"2020-02-02\", \"2020-02-03\", \"2020-02-04\", \"2020-02-05\", \"2020-02-06\", \"2020-02-07\", \"2020-02-08\", \"2020-02-09\", \"2020-02-10\", \"2020-02-11\", \"2020-02-12\", \"2020-02-13\", \"2020-02-14\", \"2020-02-15\", \"2020-02-16\", \"2020-02-17\", \"2020-02-18\", \"2020-02-19\", \"2020-02-20\", \"2020-02-21\", \"2020-02-22\", \"2020-02-23\", \"2020-02-24\", \"2020-02-25\", \"2020-02-26\", \"2020-02-27\", \"2020-02-28\", \"2020-02-29\", \"2020-03-01\", \"2020-03-02\", \"2020-03-03\", \"2020-03-04\", \"2020-03-05\", \"2020-03-06\", \"2020-03-07\", \"2020-03-08\", \"2020-03-09\", \"2020-03-10\", \"2020-03-11\", \"2020-03-12\", \"2020-03-13\", \"2020-03-14\", \"2020-03-15\", \"2020-03-16\", \"2020-03-17\", \"2020-03-18\", \"2020-03-19\", \"2020-03-20\", \"2020-03-21\", \"2020-03-22\", \"2020-03-23\", \"2020-03-24\", \"2020-03-25\", \"2020-03-26\", \"2020-03-27\", \"2020-03-28\", \"2020-03-29\", \"2020-03-30\", \"2020-03-31\", \"2020-04-01\", \"2020-04-02\", \"2020-04-03\", \"2020-04-04\", \"2020-04-05\", \"2020-04-06\", \"2020-04-07\", \"2020-04-08\", \"2020-04-09\", \"2020-04-10\", \"2020-04-11\", \"2020-04-12\", \"2020-04-13\", \"2020-04-14\", \"2020-04-15\", \"2020-04-16\", \"2020-04-17\", \"2020-04-18\", \"2020-04-19\", \"2020-04-20\", \"2020-04-21\", \"2020-04-22\", \"2020-04-23\", \"2020-04-24\", \"2020-04-25\", \"2020-04-26\", \"2020-04-27\", \"2020-04-28\", \"2020-04-29\", \"2020-04-30\", \"2020-05-01\", \"2020-05-02\", \"2020-05-03\", \"2020-05-04\", \"2020-05-05\", \"2020-05-06\", \"2020-05-07\", \"2020-05-08\", \"2020-05-09\", \"2020-05-10\", \"2020-05-11\", \"2020-05-12\", \"2020-05-13\", \"2020-05-14\", \"2020-05-15\", \"2020-05-16\", \"2020-05-17\", \"2020-05-18\", \"2020-05-19\", \"2020-05-20\", \"2020-05-21\", \"2020-05-22\", \"2020-05-23\", \"2020-05-24\", \"2020-05-25\", \"2020-05-26\", \"2020-05-27\", \"2020-05-28\", \"2020-05-29\", \"2020-05-30\", \"2020-05-31\", \"2020-06-01\", \"2020-06-02\", \"2020-06-03\"], \"y\": [0.0, 0.0, 0.0, 1.0, 2.0, 2.0, 3.0, 3.0, 3.0, 3.0, 2.0, 0.0, 0.0, 0.0, 0.0, 0.0, 0.0, 0.0, 0.0, 0.0, 0.0, 0.0, 0.0, 0.0, 5.0, 10.0, 15.0, 20.0, 22.0, 23.0, 22.0, 18.0, 11.0, 3.0, 0.0, 0.0, 0.0, 0.0, 0.0, 0.0, 0.0, 0.0, 0.0, 33.0, 78.0, 134.0, 199.0, 272.0, 351.0, 433.0, 515.0, 594.0, 667.0, 730.0, 782.0, 819.0, 840.0, 845.0, 834.0, 808.0, 767.0, 715.0, 654.0, 586.0, 516.0, 445.0, 376.0, 311.0, 254.0, 203.0, 162.0, 129.0, 104.0, 87.0, 76.0, 71.0, 70.0, 71.0, 75.0, 78.0, 81.0, 83.0, 84.0, 83.0, 80.0, 76.0, 71.0, 65.0, 58.0, 52.0, 46.0, 41.0, 37.0, 34.0, 32.0, 31.0, 31.0, 32.0, 34.0, 36.0, 39.0, 41.0, 44.0, 46.0, 48.0, 50.0, 51.0, 52.0, 52.0, 52.0, 51.0, 49.0, 47.0, 45.0, 42.0, 39.0, 36.0, 33.0, 29.0, 26.0, 22.0, 19.0, 16.0, 13.0, 11.0, 9.0, 7.0, 6.0, 5.0, 5.0, 5.0, 5.0, 6.0, 6.0, 7.0, 8.0, 8.0, 9.0, 9.0, 10.0, 10.0, 10.0, 10.0, 10.0, 10.0, 10.0, 10.0, 9.0, 9.0, 9.0, 9.0, 9.0, 9.0, 9.0, 9.0, 9.0, 9.0, 9.0, 9.0, 9.0, 10.0, 10.0, 10.0, 10.0, 10.0, 10.0, 10.0, 10.0, 10.0, 9.0, 9.0, 9.0, 9.0, 9.0, 9.0, 9.0, 9.0, 10.0, 10.0, 10.0, 10.0, 10.0, 10.0, 10.0, 10.0, 10.0, 9.0, 9.0, 9.0, 9.0, 9.0, 9.0, 9.0, 9.0, 9.0, 10.0, 10.0, 10.0, 10.0, 10.0, 10.0, 10.0, 10.0, 10.0, 10.0, 10.0, 10.0, 10.0, 10.0, 10.0, 9.0, 9.0, 9.0, 9.0, 10.0, 10.0, 10.0, 10.0, 10.0, 11.0, 11.0, 11.0, 11.0, 11.0, 10.0, 10.0, 9.0, 8.0, 7.0, 5.0, 4.0, 2.0, 1.0, 0.0]}, {\"name\": \"Ipd=conv(deconv(Ipd))\", \"type\": \"scatter\", \"x\": [\"2020-01-22\", \"2020-01-23\", \"2020-01-24\", \"2020-01-25\", \"2020-01-26\", \"2020-01-27\", \"2020-01-28\", \"2020-01-29\", \"2020-01-30\", \"2020-01-31\", \"2020-02-01\", \"2020-02-02\", \"2020-02-03\", \"2020-02-04\", \"2020-02-05\", \"2020-02-06\", \"2020-02-07\", \"2020-02-08\", \"2020-02-09\", \"2020-02-10\", \"2020-02-11\", \"2020-02-12\", \"2020-02-13\", \"2020-02-14\", \"2020-02-15\", \"2020-02-16\", \"2020-02-17\", \"2020-02-18\", \"2020-02-19\", \"2020-02-20\", \"2020-02-21\", \"2020-02-22\", \"2020-02-23\", \"2020-02-24\", \"2020-02-25\", \"2020-02-26\", \"2020-02-27\", \"2020-02-28\", \"2020-02-29\", \"2020-03-01\", \"2020-03-02\", \"2020-03-03\", \"2020-03-04\", \"2020-03-05\", \"2020-03-06\", \"2020-03-07\", \"2020-03-08\", \"2020-03-09\", \"2020-03-10\", \"2020-03-11\", \"2020-03-12\", \"2020-03-13\", \"2020-03-14\", \"2020-03-15\", \"2020-03-16\", \"2020-03-17\", \"2020-03-18\", \"2020-03-19\", \"2020-03-20\", \"2020-03-21\", \"2020-03-22\", \"2020-03-23\", \"2020-03-24\", \"2020-03-25\", \"2020-03-26\", \"2020-03-27\", \"2020-03-28\", \"2020-03-29\", \"2020-03-30\", \"2020-03-31\", \"2020-04-01\", \"2020-04-02\", \"2020-04-03\", \"2020-04-04\", \"2020-04-05\", \"2020-04-06\", \"2020-04-07\", \"2020-04-08\", \"2020-04-09\", \"2020-04-10\", \"2020-04-11\", \"2020-04-12\", \"2020-04-13\", \"2020-04-14\", \"2020-04-15\", \"2020-04-16\", \"2020-04-17\", \"2020-04-18\", \"2020-04-19\", \"2020-04-20\", \"2020-04-21\", \"2020-04-22\", \"2020-04-23\", \"2020-04-24\", \"2020-04-25\", \"2020-04-26\", \"2020-04-27\", \"2020-04-28\", \"2020-04-29\", \"2020-04-30\", \"2020-05-01\", \"2020-05-02\", \"2020-05-03\", \"2020-05-04\", \"2020-05-05\", \"2020-05-06\", \"2020-05-07\", \"2020-05-08\", \"2020-05-09\", \"2020-05-10\", \"2020-05-11\", \"2020-05-12\", \"2020-05-13\", \"2020-05-14\", \"2020-05-15\", \"2020-05-16\", \"2020-05-17\", \"2020-05-18\", \"2020-05-19\", \"2020-05-20\", \"2020-05-21\", \"2020-05-22\", \"2020-05-23\", \"2020-05-24\", \"2020-05-25\", \"2020-05-26\", \"2020-05-27\", \"2020-05-28\", \"2020-05-29\", \"2020-05-30\", \"2020-05-31\", \"2020-06-01\", \"2020-06-02\", \"2020-06-03\"], \"y\": [0.0, 0.0, -2.021099337273174e-14, 2.021099337273174e-14, 0.0008495563537508133, 0.05466557941456106, 0.20020556952526428, 0.39901960973539746, 0.6625585998479538, 0.9586459727374556, 1.2507633415879658, 1.520896734040505, 1.708499039998373, 1.7212947321930896, 1.611802332536854, 1.4488930206497572, 1.268237981614099, 1.0893948115458796, 0.9227021689769723, 0.7730301242823114, 0.6420093451687636, 0.529402551504821, 0.43395708284075835, 0.3539324502502041, 0.28742096872636264, 0.23678380507527033, 0.46084388604973203, 1.1560506793383916, 2.3850994757420496, 4.143195325146279, 6.237872681875123, 8.445947476204228, 10.526930715288708, 12.175535753718936, 13.059636195757044, 12.965171183245957, 12.094160866733562, 10.838220530436347, 9.464767574076372, 8.1154762751485, 6.863927690395993, 5.743909036277819, 4.765842121679546, 3.926791427257629, 3.244684399709187, 4.436101919781426, 9.428291591876713, 19.686193135561865, 36.25499302128827, 59.81376489278493, 90.687121760029, 128.80360498177404, 173.68532253026356, 224.47111285523206, 279.95310665409215, 338.56953481644086, 398.5612659573746, 457.96367726661975, 514.7194302859378, 566.8485303331539, 612.5442449741457, 650.2611876619445, 678.7124071341486, 697.0391672100869, 704.833733369369, 702.0856264087272, 689.282801022659, 667.2745372014108, 637.2096544283818, 600.4730428041206, 558.7158512411213, 513.5811534343262, 466.76717327264714, 419.85335249230735, 374.21453458894985, 331.02921684614637, 291.191426916307, 255.35260090895576, 223.8910047902841, 196.8809140281045, 174.25082541339515, 155.6691551491324, 140.67392128453372, 128.7349054435415, 119.30148054761506, 111.79737194019938, 105.65524306729156, 100.40302759963109, 95.66545448899718, 91.14093234186471, 86.58835292043544, 81.91742958285033, 77.10421307965585, 72.19396151860508, 67.28340072096312, 62.48882223629456, 57.92956575340402, 53.71916237030958, 49.96091267167941, 46.74609293317125, 44.15284850110461, 42.196379655402225, 40.89206411261567, 40.17012848429649, 39.988996808207, 40.256974909229406, 40.87855304008237, 41.78077946108875, 42.85468804970437, 44.0144937339519, 45.15898743371361, 46.21886890549235, 47.11194450072138, 47.73803608255325, 48.047697192241706, 48.03643574524645, 47.67088873771114, 46.94072724585255, 45.866233569749944, 44.47989510691131, 42.768392271441826, 40.781389098887466, 38.53005707277324, 36.07207150451236, 33.46907361871016, 30.762324417829532, 28.032254034936383, 25.33876374234604, 22.710242657655506, 20.209358189934644, 17.877621759936616, 15.775857126089669, 13.936783547379926, 12.359531954567943, 11.077442550828934, 10.053658440226267, 9.286008172912478, 8.77318856442305, 8.445006540259698, 8.287334858629002, 8.248140084647831, 8.325401404411116, 8.475879879025138, 8.654254118605753, 8.836424457270004, 9.0093686121172, 9.166574341160201, 9.305416800740401, 9.424704733585148, 9.47411106472763, 9.467742805375737, 9.434258436587557, 9.388594507519409, 9.339209733900786, 9.290852295036787, 9.246041363991418, 9.205945311549351, 9.170924403384648, 9.140871587417378, 9.115426797772265, 9.094110405233604, 9.077254101550972, 9.115616863317427, 9.196216151859284, 9.291837978886207, 9.38908371163767, 9.480993532767863, 9.564207004003789, 9.637447441848524, 9.700633031197285, 9.753487728856111, 9.745643035101908, 9.690633192429427, 9.616280039044511, 9.536584661517502, 9.459070001526609, 9.387603678544485, 9.323907640479906, 9.269296942985472, 9.274791391070684, 9.32725613653058, 9.399105199742301, 9.476467999946008, 9.551885225946874, 9.621511438837889, 9.683622130947347, 9.737735372567872, 9.783225813673342, 9.76942518819047, 9.70961385868099, 9.631400882521348, 9.548610517800096, 9.468619782992374, 9.395176586164036, 9.32990515935476, 9.273191584702358, 9.22557356708959, 9.237641573606716, 9.29604763568732, 9.373124877147454, 9.45500020031531, 9.534255738167735, 9.607109692446336, 9.671909902185785, 9.728247399018315, 9.776415371049174, 9.81707554912046, 9.851053785133645, 9.879217445350543, 9.902404838913974, 9.921387573507628, 9.936003896234613, 9.895585842309515, 9.813156911073488, 9.715941233063763, 9.618179013828117, 9.57807957840501, 9.586471077392632, 9.617816825496075, 9.659148682820822, 9.70408139576254, 9.799875375902715, 9.931930872074727, 10.07251950099534, 10.208358170489575, 10.332091655566167, 10.389705954742997, 10.392250077350004, 10.314968958203337, 10.132464181401879, 9.839153531114448, 9.388570582149365, 8.80171720986852, 8.065269198419688, 7.216195795819901, 6.299649808916578, 5.393757468200084, 4.554556334400767, 3.805410390519688, 3.152875641770594, 2.5943957066454244, 2.122699984651877, 1.7284030078797703, 1.4015334879453987, 1.1324054197550109, 0.9120812336041998, 0.7325836845427205, 0.5869561719653954, 0.46923514523943927, 0.3743750282881283, 0.29815099125357597, 0.2370550522105431, 0.18819459772184044, 0.1491982975104242, 0.11813178463837125, 0.09342386568272584, 0.07380307266705587, 0.05824384024747802, 0.045921334182618366, 0.03617386807071436, 0.028471857032676302, 0.02239232541883464, 0.017598081808361282, 0.013820781885935201, 0.010847206077091996, 0.008508179189426654, 0.006669650017533337, 0.005225528899128701, 0.004091950446509272, 0.0032026877344593333, 0.002505493873570054, 0.0019591887428608364, 0.0015313426854422435, 0.0011964376452277116, 0.0009344093040428764, 0.000729492733166934, 0.000569309433094784, 0.00044414604794837945, 0.00034638517192130775, 0.00027005643510859853, 0.0002104829198805823, 0.00016400281872898227, 0.0001277505064674895, 9.948446881682888e-05, 7.745215287273924e-05, 6.028388478272165e-05, 4.690967367461478e-05, 3.6493913907836234e-05, 2.838433045124273e-05, 2.20719227703133e-05, 1.7159629351226613e-05, 1.3337811186728586e-05, 1.036507999540643e-05, 8.05331047659921e-06, 6.255930970332378e-06, 4.8587583983640396e-06, 3.7729157055663466e-06, 2.9291948420804046e-06, 2.2737317623169578e-06, 1.764614555415594e-06, 1.3692391096103368e-06, 1.0622476313276112e-06, 8.239225078594044e-07, 6.389350245525647e-07, 4.953709928183041e-07, 3.839718576475409e-07, 2.975442132285227e-07, 2.3050013927180166e-07, 1.7849985548915964e-07, 1.3817332526539556e-07, 1.0692203634082236e-07, 8.269283474267771e-08, 6.391040490901408e-08, 4.9352067637503045e-08, 3.8051348383305596e-08, 2.9294223067053182e-08, 2.2508998477456368e-08, 1.725224289354325e-08, 1.3180076368573484e-08, 1.0008001380709984e-08, 7.551319767016038e-09, 5.648879171834172e-09, 4.1757251286374714e-09, 3.035233930859249e-09, 2.170109938661982e-09, 1.5004540424949179e-09, 9.999843718509915e-10, 6.306638372027212e-10, 3.6260037935183694e-10, 1.9102420386237403e-10, 7.618028677016911e-11, 2.3166851153493755e-11, -1.5158245029548804e-14]}, {\"name\": \"Ipd\", \"type\": \"bar\", \"x\": [\"2020-01-22\", \"2020-01-23\", \"2020-01-24\", \"2020-01-25\", \"2020-01-26\", \"2020-01-27\", \"2020-01-28\", \"2020-01-29\", \"2020-01-30\", \"2020-01-31\", \"2020-02-01\", \"2020-02-02\", \"2020-02-03\", \"2020-02-04\", \"2020-02-05\", \"2020-02-06\", \"2020-02-07\", \"2020-02-08\", \"2020-02-09\", \"2020-02-10\", \"2020-02-11\", \"2020-02-12\", \"2020-02-13\", \"2020-02-14\", \"2020-02-15\", \"2020-02-16\", \"2020-02-17\", \"2020-02-18\", \"2020-02-19\", \"2020-02-20\", \"2020-02-21\", \"2020-02-22\", \"2020-02-23\", \"2020-02-24\", \"2020-02-25\", \"2020-02-26\", \"2020-02-27\", \"2020-02-28\", \"2020-02-29\", \"2020-03-01\", \"2020-03-02\", \"2020-03-03\", \"2020-03-04\", \"2020-03-05\", \"2020-03-06\", \"2020-03-07\", \"2020-03-08\", \"2020-03-09\", \"2020-03-10\", \"2020-03-11\", \"2020-03-12\", \"2020-03-13\", \"2020-03-14\", \"2020-03-15\", \"2020-03-16\", \"2020-03-17\", \"2020-03-18\", \"2020-03-19\", \"2020-03-20\", \"2020-03-21\", \"2020-03-22\", \"2020-03-23\", \"2020-03-24\", \"2020-03-25\", \"2020-03-26\", \"2020-03-27\", \"2020-03-28\", \"2020-03-29\", \"2020-03-30\", \"2020-03-31\", \"2020-04-01\", \"2020-04-02\", \"2020-04-03\", \"2020-04-04\", \"2020-04-05\", \"2020-04-06\", \"2020-04-07\", \"2020-04-08\", \"2020-04-09\", \"2020-04-10\", \"2020-04-11\", \"2020-04-12\", \"2020-04-13\", \"2020-04-14\", \"2020-04-15\", \"2020-04-16\", \"2020-04-17\", \"2020-04-18\", \"2020-04-19\", \"2020-04-20\", \"2020-04-21\", \"2020-04-22\", \"2020-04-23\", \"2020-04-24\", \"2020-04-25\", \"2020-04-26\", \"2020-04-27\", \"2020-04-28\", \"2020-04-29\", \"2020-04-30\", \"2020-05-01\", \"2020-05-02\", \"2020-05-03\", \"2020-05-04\", \"2020-05-05\", \"2020-05-06\", \"2020-05-07\", \"2020-05-08\", \"2020-05-09\", \"2020-05-10\", \"2020-05-11\", \"2020-05-12\", \"2020-05-13\", \"2020-05-14\", \"2020-05-15\", \"2020-05-16\", \"2020-05-17\", \"2020-05-18\", \"2020-05-19\", \"2020-05-20\", \"2020-05-21\", \"2020-05-22\", \"2020-05-23\", \"2020-05-24\", \"2020-05-25\", \"2020-05-26\", \"2020-05-27\", \"2020-05-28\", \"2020-05-29\", \"2020-05-30\", \"2020-05-31\", \"2020-06-01\", \"2020-06-02\", \"2020-06-03\"], \"y\": [0.0, 0.0, 0.0, 0.0, 0.0, 0.0, 0.0, 0.0, 0.0, 0.0, 0.0, 0.0, 0.0, 0.0, 0.0, 0.0, 0.0, 0.0, 0.0, 0.0, 0.0, 0.0, 0.0, 0.0, 0.0, 0.0, 0.0, 0.0, 0.0, 0.0, 0.0, 0.0, 0.0, 0.0, 2.0, 0.0, 1.0, 0.0, 6.0, 5.0, 4.0, 3.0, 8.0, 12.0, 14.0, 24.0, 25.0, 27.0, 51.0, 64.0, 56.0, 202.0, 151.0, 205.0, 158.0, 314.0, 314.0, 367.0, 375.0, 426.0, 768.0, 892.0, 809.0, 305.0, 1321.0, 748.0, 614.0, 517.0, 830.0, 562.0, 531.0, 418.0, 395.0, 257.0, 270.0, 246.0, 342.0, 303.0, 302.0, 311.0, 251.0, 139.0, 96.0, 185.0, 110.0, 140.0, 119.0, 76.0, 78.0, 46.0, 78.0, 52.0, 77.0, 69.0, 77.0, 77.0, 49.0, 83.0, 45.0, 50.0, 79.0, 27.0, 39.0, 24.0, 29.0, 34.0, 68.0, 22.0, 59.0, 38.0, 11.0, 79.0, 36.0, 61.0, 51.0, 92.0, 41.0, 27.0, 52.0, 32.0, 51.0, 32.0, 50.0, 17.0, 36.0, 18.0, 34.0, 37.0, 27.0, 30.0, 46.0, 2.0, 26.0, 12.0]}, {\"name\": \"Ipd=lowpass(Ipd)\", \"type\": \"scatter\", \"x\": [\"2020-01-22\", \"2020-01-23\", \"2020-01-24\", \"2020-01-25\", \"2020-01-26\", \"2020-01-27\", \"2020-01-28\", \"2020-01-29\", \"2020-01-30\", \"2020-01-31\", \"2020-02-01\", \"2020-02-02\", \"2020-02-03\", \"2020-02-04\", \"2020-02-05\", \"2020-02-06\", \"2020-02-07\", \"2020-02-08\", \"2020-02-09\", \"2020-02-10\", \"2020-02-11\", \"2020-02-12\", \"2020-02-13\", \"2020-02-14\", \"2020-02-15\", \"2020-02-16\", \"2020-02-17\", \"2020-02-18\", \"2020-02-19\", \"2020-02-20\", \"2020-02-21\", \"2020-02-22\", \"2020-02-23\", \"2020-02-24\", \"2020-02-25\", \"2020-02-26\", \"2020-02-27\", \"2020-02-28\", \"2020-02-29\", \"2020-03-01\", \"2020-03-02\", \"2020-03-03\", \"2020-03-04\", \"2020-03-05\", \"2020-03-06\", \"2020-03-07\", \"2020-03-08\", \"2020-03-09\", \"2020-03-10\", \"2020-03-11\", \"2020-03-12\", \"2020-03-13\", \"2020-03-14\", \"2020-03-15\", \"2020-03-16\", \"2020-03-17\", \"2020-03-18\", \"2020-03-19\", \"2020-03-20\", \"2020-03-21\", \"2020-03-22\", \"2020-03-23\", \"2020-03-24\", \"2020-03-25\", \"2020-03-26\", \"2020-03-27\", \"2020-03-28\", \"2020-03-29\", \"2020-03-30\", \"2020-03-31\", \"2020-04-01\", \"2020-04-02\", \"2020-04-03\", \"2020-04-04\", \"2020-04-05\", \"2020-04-06\", \"2020-04-07\", \"2020-04-08\", \"2020-04-09\", \"2020-04-10\", \"2020-04-11\", \"2020-04-12\", \"2020-04-13\", \"2020-04-14\", \"2020-04-15\", \"2020-04-16\", \"2020-04-17\", \"2020-04-18\", \"2020-04-19\", \"2020-04-20\", \"2020-04-21\", \"2020-04-22\", \"2020-04-23\", \"2020-04-24\", \"2020-04-25\", \"2020-04-26\", \"2020-04-27\", \"2020-04-28\", \"2020-04-29\", \"2020-04-30\", \"2020-05-01\", \"2020-05-02\", \"2020-05-03\", \"2020-05-04\", \"2020-05-05\", \"2020-05-06\", \"2020-05-07\", \"2020-05-08\", \"2020-05-09\", \"2020-05-10\", \"2020-05-11\", \"2020-05-12\", \"2020-05-13\", \"2020-05-14\", \"2020-05-15\", \"2020-05-16\", \"2020-05-17\", \"2020-05-18\", \"2020-05-19\", \"2020-05-20\", \"2020-05-21\", \"2020-05-22\", \"2020-05-23\", \"2020-05-24\", \"2020-05-25\", \"2020-05-26\", \"2020-05-27\", \"2020-05-28\", \"2020-05-29\", \"2020-05-30\", \"2020-05-31\", \"2020-06-01\", \"2020-06-02\", \"2020-06-03\"], \"y\": [-0.10133632096965606, -0.19897779118348646, -0.2956991524989132, -0.38083517323366056, -0.4427207840653573, -0.4697418871819432, -0.45160246389767567, -0.3807165477437333, -0.2536008292623299, -0.07211738233401777, 0.155599528744933, 0.41469943800408426, 0.6838042885817268, 0.9359426277557867, 1.1402854833167702, 1.2646650937188761, 1.278768991663192, 1.1578062367808566, 0.8863487635106264, 0.461969450339948, -0.10175887581915743, -0.7733613612726344, -1.5030906460823434, -2.2244470330704136, -2.857817257670618, -3.316275533554343, -3.5133615941518137, -3.3723919216789495, -2.836593718926025, -1.879103287080754, -0.5116717997823788, 1.2091964233392094, 3.1799556681266985, 5.252736760937317, 7.243952785533969, 8.949250224730392, 10.16470412072808, 10.71349265006727, 10.476566756890023, 9.42511740158735, 7.652012069414978, 5.398904035817186, 3.075488442446072, 1.2674516169152963, 0.7300795749729312, 2.3652805779282824, 7.180925710786421, 16.232870500002047, 30.551694727783612, 51.05795347383745, 78.47141324973185, 113.22119078975518, 155.36476484374558, 204.52434772307836, 259.84892920453876, 320.0092687416363, 383.23106693832966, 447.3684692735113, 510.01611467434736, 568.6535061385712, 620.8110838005709, 664.2437047192684, 697.0950387278785, 718.0362902179937, 726.3648254115599, 722.0523732244116, 705.7378285471265, 678.6656188296472, 642.5763607806822, 599.5613676745664, 551.8958862582092, 501.86751703250707, 451.6161140197443, 402.99962871318695, 357.4969702691383, 316.1543056205028, 279.5758881871987, 247.9552571047371, 221.1383171607217, 198.70706214758724, 180.07186330305308, 164.56120781043478, 151.50007858736694, 140.27116331829163, 130.35613547165485, 121.35692589021242, 112.99901002556744, 105.12024425207716, 97.6497062014301, 90.58132514819475, 83.94683373480913, 77.79179282461374, 72.1572796864798, 67.06849319577552, 62.530241912452865, 58.52823086667702, 55.03437173135847, 52.014050486732856, 49.43336723271247, 47.26473623817518, 45.48979938678645, 44.09925738238857, 43.089859451468556, 42.459320342805135, 42.20027362713817, 42.294475089687225, 42.70834499799336, 43.39064374229555, 44.272699801923636, 45.27122823152231, 46.293432612986365, 47.243785744530406, 48.031643373809715, 48.578687953678624, 48.82516822885991, 48.73403044311983, 48.29233127177521, 47.509742259481555, 46.414422208302184, 45.046947161172625, 43.45326066672828, 41.67770193053538, 39.75710053493852, 37.716733196891575, 35.56865819673794, 33.31260513009496, 30.939229784902324, 28.435186418501377, 25.78917752540039, 22.997972256249305, 20.07137931979833, 17.03532571238305, 13.932500074834548, 10.820411329990689]}],\n",
              "                        {\"template\": {\"data\": {\"bar\": [{\"error_x\": {\"color\": \"#2a3f5f\"}, \"error_y\": {\"color\": \"#2a3f5f\"}, \"marker\": {\"line\": {\"color\": \"#E5ECF6\", \"width\": 0.5}}, \"type\": \"bar\"}], \"barpolar\": [{\"marker\": {\"line\": {\"color\": \"#E5ECF6\", \"width\": 0.5}}, \"type\": \"barpolar\"}], \"carpet\": [{\"aaxis\": {\"endlinecolor\": \"#2a3f5f\", \"gridcolor\": \"white\", \"linecolor\": \"white\", \"minorgridcolor\": \"white\", \"startlinecolor\": \"#2a3f5f\"}, \"baxis\": {\"endlinecolor\": \"#2a3f5f\", \"gridcolor\": \"white\", \"linecolor\": \"white\", \"minorgridcolor\": \"white\", \"startlinecolor\": \"#2a3f5f\"}, \"type\": \"carpet\"}], \"choropleth\": [{\"colorbar\": {\"outlinewidth\": 0, \"ticks\": \"\"}, \"type\": \"choropleth\"}], \"contour\": [{\"colorbar\": {\"outlinewidth\": 0, \"ticks\": \"\"}, \"colorscale\": [[0.0, \"#0d0887\"], [0.1111111111111111, \"#46039f\"], [0.2222222222222222, \"#7201a8\"], [0.3333333333333333, \"#9c179e\"], [0.4444444444444444, \"#bd3786\"], [0.5555555555555556, \"#d8576b\"], [0.6666666666666666, \"#ed7953\"], [0.7777777777777778, \"#fb9f3a\"], [0.8888888888888888, \"#fdca26\"], [1.0, \"#f0f921\"]], \"type\": \"contour\"}], \"contourcarpet\": [{\"colorbar\": {\"outlinewidth\": 0, \"ticks\": \"\"}, \"type\": \"contourcarpet\"}], \"heatmap\": [{\"colorbar\": {\"outlinewidth\": 0, \"ticks\": \"\"}, \"colorscale\": [[0.0, \"#0d0887\"], [0.1111111111111111, \"#46039f\"], [0.2222222222222222, \"#7201a8\"], [0.3333333333333333, \"#9c179e\"], [0.4444444444444444, \"#bd3786\"], [0.5555555555555556, \"#d8576b\"], [0.6666666666666666, \"#ed7953\"], [0.7777777777777778, \"#fb9f3a\"], [0.8888888888888888, \"#fdca26\"], [1.0, \"#f0f921\"]], \"type\": \"heatmap\"}], \"heatmapgl\": [{\"colorbar\": {\"outlinewidth\": 0, \"ticks\": \"\"}, \"colorscale\": [[0.0, \"#0d0887\"], [0.1111111111111111, \"#46039f\"], [0.2222222222222222, \"#7201a8\"], [0.3333333333333333, \"#9c179e\"], [0.4444444444444444, \"#bd3786\"], [0.5555555555555556, \"#d8576b\"], [0.6666666666666666, \"#ed7953\"], [0.7777777777777778, \"#fb9f3a\"], [0.8888888888888888, \"#fdca26\"], [1.0, \"#f0f921\"]], \"type\": \"heatmapgl\"}], \"histogram\": [{\"marker\": {\"colorbar\": {\"outlinewidth\": 0, \"ticks\": \"\"}}, \"type\": \"histogram\"}], \"histogram2d\": [{\"colorbar\": {\"outlinewidth\": 0, \"ticks\": \"\"}, \"colorscale\": [[0.0, \"#0d0887\"], [0.1111111111111111, \"#46039f\"], [0.2222222222222222, \"#7201a8\"], [0.3333333333333333, \"#9c179e\"], [0.4444444444444444, \"#bd3786\"], [0.5555555555555556, \"#d8576b\"], [0.6666666666666666, \"#ed7953\"], [0.7777777777777778, \"#fb9f3a\"], [0.8888888888888888, \"#fdca26\"], [1.0, \"#f0f921\"]], \"type\": \"histogram2d\"}], \"histogram2dcontour\": [{\"colorbar\": {\"outlinewidth\": 0, \"ticks\": \"\"}, \"colorscale\": [[0.0, \"#0d0887\"], [0.1111111111111111, \"#46039f\"], [0.2222222222222222, \"#7201a8\"], [0.3333333333333333, \"#9c179e\"], [0.4444444444444444, \"#bd3786\"], [0.5555555555555556, \"#d8576b\"], [0.6666666666666666, \"#ed7953\"], [0.7777777777777778, \"#fb9f3a\"], [0.8888888888888888, \"#fdca26\"], [1.0, \"#f0f921\"]], \"type\": \"histogram2dcontour\"}], \"mesh3d\": [{\"colorbar\": {\"outlinewidth\": 0, \"ticks\": \"\"}, \"type\": \"mesh3d\"}], \"parcoords\": [{\"line\": {\"colorbar\": {\"outlinewidth\": 0, \"ticks\": \"\"}}, \"type\": \"parcoords\"}], \"pie\": [{\"automargin\": true, \"type\": \"pie\"}], \"scatter\": [{\"marker\": {\"colorbar\": {\"outlinewidth\": 0, \"ticks\": \"\"}}, \"type\": \"scatter\"}], \"scatter3d\": [{\"line\": {\"colorbar\": {\"outlinewidth\": 0, \"ticks\": \"\"}}, \"marker\": {\"colorbar\": {\"outlinewidth\": 0, \"ticks\": \"\"}}, \"type\": \"scatter3d\"}], \"scattercarpet\": [{\"marker\": {\"colorbar\": {\"outlinewidth\": 0, \"ticks\": \"\"}}, \"type\": \"scattercarpet\"}], \"scattergeo\": [{\"marker\": {\"colorbar\": {\"outlinewidth\": 0, \"ticks\": \"\"}}, \"type\": \"scattergeo\"}], \"scattergl\": [{\"marker\": {\"colorbar\": {\"outlinewidth\": 0, \"ticks\": \"\"}}, \"type\": \"scattergl\"}], \"scattermapbox\": [{\"marker\": {\"colorbar\": {\"outlinewidth\": 0, \"ticks\": \"\"}}, \"type\": \"scattermapbox\"}], \"scatterpolar\": [{\"marker\": {\"colorbar\": {\"outlinewidth\": 0, \"ticks\": \"\"}}, \"type\": \"scatterpolar\"}], \"scatterpolargl\": [{\"marker\": {\"colorbar\": {\"outlinewidth\": 0, \"ticks\": \"\"}}, \"type\": \"scatterpolargl\"}], \"scatterternary\": [{\"marker\": {\"colorbar\": {\"outlinewidth\": 0, \"ticks\": \"\"}}, \"type\": \"scatterternary\"}], \"surface\": [{\"colorbar\": {\"outlinewidth\": 0, \"ticks\": \"\"}, \"colorscale\": [[0.0, \"#0d0887\"], [0.1111111111111111, \"#46039f\"], [0.2222222222222222, \"#7201a8\"], [0.3333333333333333, \"#9c179e\"], [0.4444444444444444, \"#bd3786\"], [0.5555555555555556, \"#d8576b\"], [0.6666666666666666, \"#ed7953\"], [0.7777777777777778, \"#fb9f3a\"], [0.8888888888888888, \"#fdca26\"], [1.0, \"#f0f921\"]], \"type\": \"surface\"}], \"table\": [{\"cells\": {\"fill\": {\"color\": \"#EBF0F8\"}, \"line\": {\"color\": \"white\"}}, \"header\": {\"fill\": {\"color\": \"#C8D4E3\"}, \"line\": {\"color\": \"white\"}}, \"type\": \"table\"}]}, \"layout\": {\"annotationdefaults\": {\"arrowcolor\": \"#2a3f5f\", \"arrowhead\": 0, \"arrowwidth\": 1}, \"coloraxis\": {\"colorbar\": {\"outlinewidth\": 0, \"ticks\": \"\"}}, \"colorscale\": {\"diverging\": [[0, \"#8e0152\"], [0.1, \"#c51b7d\"], [0.2, \"#de77ae\"], [0.3, \"#f1b6da\"], [0.4, \"#fde0ef\"], [0.5, \"#f7f7f7\"], [0.6, \"#e6f5d0\"], [0.7, \"#b8e186\"], [0.8, \"#7fbc41\"], [0.9, \"#4d9221\"], [1, \"#276419\"]], \"sequential\": [[0.0, \"#0d0887\"], [0.1111111111111111, \"#46039f\"], [0.2222222222222222, \"#7201a8\"], [0.3333333333333333, \"#9c179e\"], [0.4444444444444444, \"#bd3786\"], [0.5555555555555556, \"#d8576b\"], [0.6666666666666666, \"#ed7953\"], [0.7777777777777778, \"#fb9f3a\"], [0.8888888888888888, \"#fdca26\"], [1.0, \"#f0f921\"]], \"sequentialminus\": [[0.0, \"#0d0887\"], [0.1111111111111111, \"#46039f\"], [0.2222222222222222, \"#7201a8\"], [0.3333333333333333, \"#9c179e\"], [0.4444444444444444, \"#bd3786\"], [0.5555555555555556, \"#d8576b\"], [0.6666666666666666, \"#ed7953\"], [0.7777777777777778, \"#fb9f3a\"], [0.8888888888888888, \"#fdca26\"], [1.0, \"#f0f921\"]]}, \"colorway\": [\"#636efa\", \"#EF553B\", \"#00cc96\", \"#ab63fa\", \"#FFA15A\", \"#19d3f3\", \"#FF6692\", \"#B6E880\", \"#FF97FF\", \"#FECB52\"], \"font\": {\"color\": \"#2a3f5f\"}, \"geo\": {\"bgcolor\": \"white\", \"lakecolor\": \"white\", \"landcolor\": \"#E5ECF6\", \"showlakes\": true, \"showland\": true, \"subunitcolor\": \"white\"}, \"hoverlabel\": {\"align\": \"left\"}, \"hovermode\": \"closest\", \"mapbox\": {\"style\": \"light\"}, \"paper_bgcolor\": \"white\", \"plot_bgcolor\": \"#E5ECF6\", \"polar\": {\"angularaxis\": {\"gridcolor\": \"white\", \"linecolor\": \"white\", \"ticks\": \"\"}, \"bgcolor\": \"#E5ECF6\", \"radialaxis\": {\"gridcolor\": \"white\", \"linecolor\": \"white\", \"ticks\": \"\"}}, \"scene\": {\"xaxis\": {\"backgroundcolor\": \"#E5ECF6\", \"gridcolor\": \"white\", \"gridwidth\": 2, \"linecolor\": \"white\", \"showbackground\": true, \"ticks\": \"\", \"zerolinecolor\": \"white\"}, \"yaxis\": {\"backgroundcolor\": \"#E5ECF6\", \"gridcolor\": \"white\", \"gridwidth\": 2, \"linecolor\": \"white\", \"showbackground\": true, \"ticks\": \"\", \"zerolinecolor\": \"white\"}, \"zaxis\": {\"backgroundcolor\": \"#E5ECF6\", \"gridcolor\": \"white\", \"gridwidth\": 2, \"linecolor\": \"white\", \"showbackground\": true, \"ticks\": \"\", \"zerolinecolor\": \"white\"}}, \"shapedefaults\": {\"line\": {\"color\": \"#2a3f5f\"}}, \"ternary\": {\"aaxis\": {\"gridcolor\": \"white\", \"linecolor\": \"white\", \"ticks\": \"\"}, \"baxis\": {\"gridcolor\": \"white\", \"linecolor\": \"white\", \"ticks\": \"\"}, \"bgcolor\": \"#E5ECF6\", \"caxis\": {\"gridcolor\": \"white\", \"linecolor\": \"white\", \"ticks\": \"\"}}, \"title\": {\"x\": 0.05}, \"xaxis\": {\"automargin\": true, \"gridcolor\": \"white\", \"linecolor\": \"white\", \"ticks\": \"\", \"title\": {\"standoff\": 15}, \"zerolinecolor\": \"white\", \"zerolinewidth\": 2}, \"yaxis\": {\"automargin\": true, \"gridcolor\": \"white\", \"linecolor\": \"white\", \"ticks\": \"\", \"title\": {\"standoff\": 15}, \"zerolinecolor\": \"white\", \"zerolinewidth\": 2}}}, \"title\": {\"text\": \"$\\\\text{Austria: Actual } I_{pd} \\\\text{ vs. convolution of deconvolution of } I_{pd}$\", \"x\": 0.5, \"xanchor\": \"center\"}, \"xaxis\": {\"title\": {\"text\": \"Day\"}}, \"yaxis\": {\"title\": {\"text\": \"Count\"}}},\n",
              "                        {\"responsive\": true}\n",
              "                    ).then(function(){\n",
              "                            \n",
              "var gd = document.getElementById('a688be28-fdff-4281-95d3-bb7436df423a');\n",
              "var x = new MutationObserver(function (mutations, observer) {{\n",
              "        var display = window.getComputedStyle(gd).display;\n",
              "        if (!display || display === 'none') {{\n",
              "            console.log([gd, 'removed!']);\n",
              "            Plotly.purge(gd);\n",
              "            observer.disconnect();\n",
              "        }}\n",
              "}});\n",
              "\n",
              "// Listen for the removal of the full notebook cells\n",
              "var notebookContainer = gd.closest('#notebook-container');\n",
              "if (notebookContainer) {{\n",
              "    x.observe(notebookContainer, {childList: true});\n",
              "}}\n",
              "\n",
              "// Listen for the clearing of the current output cell\n",
              "var outputEl = gd.closest('.output');\n",
              "if (outputEl) {{\n",
              "    x.observe(outputEl, {childList: true});\n",
              "}}\n",
              "\n",
              "                        })\n",
              "                };\n",
              "                \n",
              "            </script>\n",
              "        </div>\n",
              "</body>\n",
              "</html>"
            ]
          },
          "metadata": {
            "tags": []
          }
        }
      ]
    },
    {
      "cell_type": "markdown",
      "metadata": {
        "id": "g9hEw8CvaDIL",
        "colab_type": "text"
      },
      "source": [
        "We can see that our estimate for $\\hat{E}_{pd}$ must be close to the reality of $E_{pd}$ as $I_{pd}$ is almost identical to $\\hat{E}_{pd} \\circledast h_L$.\n",
        "\n",
        "Of course, this holds only as long as our estimate of $h_L$ is close to reality.\n",
        "\n"
      ]
    },
    {
      "cell_type": "markdown",
      "metadata": {
        "id": "mJXHDJfT5bjk",
        "colab_type": "text"
      },
      "source": [
        "#### 3. $\\beta$ and $R$ from $E_{pd}$ and $I$\n",
        "\n",
        "As described above:\n",
        "$$\\beta = \\frac{N~E_{pd}}{S~I}$$ and if $S$~$N$, then $$\\beta = \\frac{E_{pd}}{I}$$\n",
        "It is easier to simply say :\n",
        "$$R = \\frac{E_{pd}}{\\gamma~I}$$"
      ]
    },
    {
      "cell_type": "code",
      "metadata": {
        "id": "Aifn9Vja31Bs",
        "colab_type": "code",
        "colab": {
          "base_uri": "https://localhost:8080/",
          "height": 542
        },
        "outputId": "4fe89e52-86c7-43ae-a35f-e4f68f67cc16"
      },
      "source": [
        "#collapse_hide\n",
        "\n",
        "# Calculate R\n",
        "gam = 1/15 # As we say gamma is 1/20.11\n",
        "R = Enext[:len(inf_df.loc['Austria'])]*(1/gam)/inf_df.loc['Austria']\n",
        "\n",
        "fig = go.Figure(data=[    \n",
        "    go.Scatter(name='R', x=inf_df.loc['Austria'].index, y=R),\n",
        "    go.Scatter(name='Epd=deconv(Ipd)', x=inf_df.loc['Austria'].index, y=Enext),\n",
        "    go.Scatter(name='Inf', x=inf_df.loc['Austria'].index, y=inf_df.loc['Austria']),\n",
        "])\n",
        "\n",
        "fig.update_layout(\n",
        "    \n",
        "    xaxis_title = 'Day',\n",
        "    yaxis_title = 'R',\n",
        "    title={\n",
        "        'text':r'$\\text{Austria: R }$',\n",
        "        'x':0.5,\n",
        "        'xanchor':'center'\n",
        "    }\n",
        ")\n",
        "\n",
        "fig.show()"
      ],
      "execution_count": 211,
      "outputs": [
        {
          "output_type": "display_data",
          "data": {
            "text/html": [
              "<html>\n",
              "<head><meta charset=\"utf-8\" /></head>\n",
              "<body>\n",
              "    <div>\n",
              "            <script src=\"https://cdnjs.cloudflare.com/ajax/libs/mathjax/2.7.5/MathJax.js?config=TeX-AMS-MML_SVG\"></script><script type=\"text/javascript\">if (window.MathJax) {MathJax.Hub.Config({SVG: {font: \"STIX-Web\"}});}</script>\n",
              "                <script type=\"text/javascript\">window.PlotlyConfig = {MathJaxConfig: 'local'};</script>\n",
              "        <script src=\"https://cdn.plot.ly/plotly-latest.min.js\"></script>    \n",
              "            <div id=\"6d7de617-207a-4cab-9bc3-5344e1ccb3ed\" class=\"plotly-graph-div\" style=\"height:525px; width:100%;\"></div>\n",
              "            <script type=\"text/javascript\">\n",
              "                \n",
              "                    window.PLOTLYENV=window.PLOTLYENV || {};\n",
              "                    \n",
              "                if (document.getElementById(\"6d7de617-207a-4cab-9bc3-5344e1ccb3ed\")) {\n",
              "                    Plotly.newPlot(\n",
              "                        '6d7de617-207a-4cab-9bc3-5344e1ccb3ed',\n",
              "                        [{\"name\": \"R\", \"type\": \"scatter\", \"x\": [\"2020-01-22\", \"2020-01-23\", \"2020-01-24\", \"2020-01-25\", \"2020-01-26\", \"2020-01-27\", \"2020-01-28\", \"2020-01-29\", \"2020-01-30\", \"2020-01-31\", \"2020-02-01\", \"2020-02-02\", \"2020-02-03\", \"2020-02-04\", \"2020-02-05\", \"2020-02-06\", \"2020-02-07\", \"2020-02-08\", \"2020-02-09\", \"2020-02-10\", \"2020-02-11\", \"2020-02-12\", \"2020-02-13\", \"2020-02-14\", \"2020-02-15\", \"2020-02-16\", \"2020-02-17\", \"2020-02-18\", \"2020-02-19\", \"2020-02-20\", \"2020-02-21\", \"2020-02-22\", \"2020-02-23\", \"2020-02-24\", \"2020-02-25\", \"2020-02-26\", \"2020-02-27\", \"2020-02-28\", \"2020-02-29\", \"2020-03-01\", \"2020-03-02\", \"2020-03-03\", \"2020-03-04\", \"2020-03-05\", \"2020-03-06\", \"2020-03-07\", \"2020-03-08\", \"2020-03-09\", \"2020-03-10\", \"2020-03-11\", \"2020-03-12\", \"2020-03-13\", \"2020-03-14\", \"2020-03-15\", \"2020-03-16\", \"2020-03-17\", \"2020-03-18\", \"2020-03-19\", \"2020-03-20\", \"2020-03-21\", \"2020-03-22\", \"2020-03-23\", \"2020-03-24\", \"2020-03-25\", \"2020-03-26\", \"2020-03-27\", \"2020-03-28\", \"2020-03-29\", \"2020-03-30\", \"2020-03-31\", \"2020-04-01\", \"2020-04-02\", \"2020-04-03\", \"2020-04-04\", \"2020-04-05\", \"2020-04-06\", \"2020-04-07\", \"2020-04-08\", \"2020-04-09\", \"2020-04-10\", \"2020-04-11\", \"2020-04-12\", \"2020-04-13\", \"2020-04-14\", \"2020-04-15\", \"2020-04-16\", \"2020-04-17\", \"2020-04-18\", \"2020-04-19\", \"2020-04-20\", \"2020-04-21\", \"2020-04-22\", \"2020-04-23\", \"2020-04-24\", \"2020-04-25\", \"2020-04-26\", \"2020-04-27\", \"2020-04-28\", \"2020-04-29\", \"2020-04-30\", \"2020-05-01\", \"2020-05-02\", \"2020-05-03\", \"2020-05-04\", \"2020-05-05\", \"2020-05-06\", \"2020-05-07\", \"2020-05-08\", \"2020-05-09\", \"2020-05-10\", \"2020-05-11\", \"2020-05-12\", \"2020-05-13\", \"2020-05-14\", \"2020-05-15\", \"2020-05-16\", \"2020-05-17\", \"2020-05-18\", \"2020-05-19\", \"2020-05-20\", \"2020-05-21\", \"2020-05-22\", \"2020-05-23\", \"2020-05-24\", \"2020-05-25\", \"2020-05-26\", \"2020-05-27\", \"2020-05-28\", \"2020-05-29\", \"2020-05-30\", \"2020-05-31\", \"2020-06-01\", \"2020-06-02\", \"2020-06-03\"], \"y\": [null, null, null, null, null, null, null, null, null, null, null, null, null, null, null, null, null, null, null, null, null, null, null, null, null, null, null, null, null, null, null, null, null, null, 0.0, 0.0, 0.0, 0.0, 0.0, 0.0, 0.0, 0.0, 0.0, 12.073170731707316, 21.272727272727273, 25.443037974683545, 28.701923076923077, 31.627906976744185, 29.578651685393258, 26.83884297520661, 26.01010101010101, 17.927565392354126, 15.439814814814815, 12.83704572098476, 11.625371655104063, 9.250753012048193, 7.71586037966932, 6.343843843843844, 5.2718078381795195, 4.333214158026457, 3.2344672476806298, 2.4133663366336635, 1.869996187571483, 1.5840692016579563, 1.1470065204505038, 0.9052074857607811, 0.706944096264728, 0.5673112002918643, 0.42934415145368493, 0.33995757508094226, 0.26618468616496876, 0.20982433311646065, 0.1671309192200557, 0.14359595070422534, 0.12882811617131879, 0.1236359414905967, 0.12574850299401197, 0.1305627068775285, 0.1459333246854326, 0.16313441160066927, 0.17698470502549163, 0.18840799031476999, 0.1990521327014218, 0.20051538089869544, 0.20530367835757057, 0.22440944881889763, 0.23878923766816143, 0.2428998505231689, 0.2291886195995785, 0.21115322144017326, 0.2022867194371152, 0.19922254616132168, 0.19921033740129218, 0.1910828025477707, 0.19131127939418094, 0.19366930445647645, 0.19678374947101143, 0.21739130434782608, 0.24963289280469897, 0.27536970933197347, 0.3193231441048035, 0.3451178451178451, 0.37267080745341613, 0.4046920821114369, 0.45512010113780027, 0.5219206680584552, 0.5294117647058824, 0.5891238670694864, 0.6046511627906976, 0.618066561014263, 0.6369691923397169, 0.6176470588235294, 0.6594948550046773, 0.6572541382667965, 0.6237623762376238, 0.558206106870229, 0.5142857142857142, 0.4824561403508772, 0.43026706231454004, 0.46539379474940334, 0.4024390243902439, 0.35804020100502515, 0.2962962962962963, 0.24375, 0.21710526315789475, 0.18442622950819673, 0.14623955431754876, 0.13353115727002968, 0.1171875, 0.15090543259557343, 0.1595744680851064, 0.15991471215351813, 0.19522776572668113, 0.2097902097902098]}, {\"name\": \"Epd=deconv(Ipd)\", \"type\": \"scatter\", \"x\": [\"2020-01-22\", \"2020-01-23\", \"2020-01-24\", \"2020-01-25\", \"2020-01-26\", \"2020-01-27\", \"2020-01-28\", \"2020-01-29\", \"2020-01-30\", \"2020-01-31\", \"2020-02-01\", \"2020-02-02\", \"2020-02-03\", \"2020-02-04\", \"2020-02-05\", \"2020-02-06\", \"2020-02-07\", \"2020-02-08\", \"2020-02-09\", \"2020-02-10\", \"2020-02-11\", \"2020-02-12\", \"2020-02-13\", \"2020-02-14\", \"2020-02-15\", \"2020-02-16\", \"2020-02-17\", \"2020-02-18\", \"2020-02-19\", \"2020-02-20\", \"2020-02-21\", \"2020-02-22\", \"2020-02-23\", \"2020-02-24\", \"2020-02-25\", \"2020-02-26\", \"2020-02-27\", \"2020-02-28\", \"2020-02-29\", \"2020-03-01\", \"2020-03-02\", \"2020-03-03\", \"2020-03-04\", \"2020-03-05\", \"2020-03-06\", \"2020-03-07\", \"2020-03-08\", \"2020-03-09\", \"2020-03-10\", \"2020-03-11\", \"2020-03-12\", \"2020-03-13\", \"2020-03-14\", \"2020-03-15\", \"2020-03-16\", \"2020-03-17\", \"2020-03-18\", \"2020-03-19\", \"2020-03-20\", \"2020-03-21\", \"2020-03-22\", \"2020-03-23\", \"2020-03-24\", \"2020-03-25\", \"2020-03-26\", \"2020-03-27\", \"2020-03-28\", \"2020-03-29\", \"2020-03-30\", \"2020-03-31\", \"2020-04-01\", \"2020-04-02\", \"2020-04-03\", \"2020-04-04\", \"2020-04-05\", \"2020-04-06\", \"2020-04-07\", \"2020-04-08\", \"2020-04-09\", \"2020-04-10\", \"2020-04-11\", \"2020-04-12\", \"2020-04-13\", \"2020-04-14\", \"2020-04-15\", \"2020-04-16\", \"2020-04-17\", \"2020-04-18\", \"2020-04-19\", \"2020-04-20\", \"2020-04-21\", \"2020-04-22\", \"2020-04-23\", \"2020-04-24\", \"2020-04-25\", \"2020-04-26\", \"2020-04-27\", \"2020-04-28\", \"2020-04-29\", \"2020-04-30\", \"2020-05-01\", \"2020-05-02\", \"2020-05-03\", \"2020-05-04\", \"2020-05-05\", \"2020-05-06\", \"2020-05-07\", \"2020-05-08\", \"2020-05-09\", \"2020-05-10\", \"2020-05-11\", \"2020-05-12\", \"2020-05-13\", \"2020-05-14\", \"2020-05-15\", \"2020-05-16\", \"2020-05-17\", \"2020-05-18\", \"2020-05-19\", \"2020-05-20\", \"2020-05-21\", \"2020-05-22\", \"2020-05-23\", \"2020-05-24\", \"2020-05-25\", \"2020-05-26\", \"2020-05-27\", \"2020-05-28\", \"2020-05-29\", \"2020-05-30\", \"2020-05-31\", \"2020-06-01\", \"2020-06-02\", \"2020-06-03\"], \"y\": [0.0, 0.0, 0.0, 1.0, 2.0, 2.0, 3.0, 3.0, 3.0, 3.0, 2.0, 0.0, 0.0, 0.0, 0.0, 0.0, 0.0, 0.0, 0.0, 0.0, 0.0, 0.0, 0.0, 0.0, 5.0, 10.0, 15.0, 20.0, 22.0, 23.0, 22.0, 18.0, 11.0, 3.0, 0.0, 0.0, 0.0, 0.0, 0.0, 0.0, 0.0, 0.0, 0.0, 33.0, 78.0, 134.0, 199.0, 272.0, 351.0, 433.0, 515.0, 594.0, 667.0, 730.0, 782.0, 819.0, 840.0, 845.0, 834.0, 808.0, 767.0, 715.0, 654.0, 586.0, 516.0, 445.0, 376.0, 311.0, 254.0, 203.0, 162.0, 129.0, 104.0, 87.0, 76.0, 71.0, 70.0, 71.0, 75.0, 78.0, 81.0, 83.0, 84.0, 83.0, 80.0, 76.0, 71.0, 65.0, 58.0, 52.0, 46.0, 41.0, 37.0, 34.0, 32.0, 31.0, 31.0, 32.0, 34.0, 36.0, 39.0, 41.0, 44.0, 46.0, 48.0, 50.0, 51.0, 52.0, 52.0, 52.0, 51.0, 49.0, 47.0, 45.0, 42.0, 39.0, 36.0, 33.0, 29.0, 26.0, 22.0, 19.0, 16.0, 13.0, 11.0, 9.0, 7.0, 6.0, 5.0, 5.0, 5.0, 5.0, 6.0, 6.0, 7.0, 8.0, 8.0, 9.0, 9.0, 10.0, 10.0, 10.0, 10.0, 10.0, 10.0, 10.0, 10.0, 9.0, 9.0, 9.0, 9.0, 9.0, 9.0, 9.0, 9.0, 9.0, 9.0, 9.0, 9.0, 9.0, 10.0, 10.0, 10.0, 10.0, 10.0, 10.0, 10.0, 10.0, 10.0, 9.0, 9.0, 9.0, 9.0, 9.0, 9.0, 9.0, 9.0, 10.0, 10.0, 10.0, 10.0, 10.0, 10.0, 10.0, 10.0, 10.0, 9.0, 9.0, 9.0, 9.0, 9.0, 9.0, 9.0, 9.0, 9.0, 10.0, 10.0, 10.0, 10.0, 10.0, 10.0, 10.0, 10.0, 10.0, 10.0, 10.0, 10.0, 10.0, 10.0, 10.0, 9.0, 9.0, 9.0, 9.0, 10.0, 10.0, 10.0, 10.0, 10.0, 11.0, 11.0, 11.0, 11.0, 11.0, 10.0, 10.0, 9.0, 8.0, 7.0, 5.0, 4.0, 2.0, 1.0, 0.0]}, {\"name\": \"Inf\", \"type\": \"scatter\", \"x\": [\"2020-01-22\", \"2020-01-23\", \"2020-01-24\", \"2020-01-25\", \"2020-01-26\", \"2020-01-27\", \"2020-01-28\", \"2020-01-29\", \"2020-01-30\", \"2020-01-31\", \"2020-02-01\", \"2020-02-02\", \"2020-02-03\", \"2020-02-04\", \"2020-02-05\", \"2020-02-06\", \"2020-02-07\", \"2020-02-08\", \"2020-02-09\", \"2020-02-10\", \"2020-02-11\", \"2020-02-12\", \"2020-02-13\", \"2020-02-14\", \"2020-02-15\", \"2020-02-16\", \"2020-02-17\", \"2020-02-18\", \"2020-02-19\", \"2020-02-20\", \"2020-02-21\", \"2020-02-22\", \"2020-02-23\", \"2020-02-24\", \"2020-02-25\", \"2020-02-26\", \"2020-02-27\", \"2020-02-28\", \"2020-02-29\", \"2020-03-01\", \"2020-03-02\", \"2020-03-03\", \"2020-03-04\", \"2020-03-05\", \"2020-03-06\", \"2020-03-07\", \"2020-03-08\", \"2020-03-09\", \"2020-03-10\", \"2020-03-11\", \"2020-03-12\", \"2020-03-13\", \"2020-03-14\", \"2020-03-15\", \"2020-03-16\", \"2020-03-17\", \"2020-03-18\", \"2020-03-19\", \"2020-03-20\", \"2020-03-21\", \"2020-03-22\", \"2020-03-23\", \"2020-03-24\", \"2020-03-25\", \"2020-03-26\", \"2020-03-27\", \"2020-03-28\", \"2020-03-29\", \"2020-03-30\", \"2020-03-31\", \"2020-04-01\", \"2020-04-02\", \"2020-04-03\", \"2020-04-04\", \"2020-04-05\", \"2020-04-06\", \"2020-04-07\", \"2020-04-08\", \"2020-04-09\", \"2020-04-10\", \"2020-04-11\", \"2020-04-12\", \"2020-04-13\", \"2020-04-14\", \"2020-04-15\", \"2020-04-16\", \"2020-04-17\", \"2020-04-18\", \"2020-04-19\", \"2020-04-20\", \"2020-04-21\", \"2020-04-22\", \"2020-04-23\", \"2020-04-24\", \"2020-04-25\", \"2020-04-26\", \"2020-04-27\", \"2020-04-28\", \"2020-04-29\", \"2020-04-30\", \"2020-05-01\", \"2020-05-02\", \"2020-05-03\", \"2020-05-04\", \"2020-05-05\", \"2020-05-06\", \"2020-05-07\", \"2020-05-08\", \"2020-05-09\", \"2020-05-10\", \"2020-05-11\", \"2020-05-12\", \"2020-05-13\", \"2020-05-14\", \"2020-05-15\", \"2020-05-16\", \"2020-05-17\", \"2020-05-18\", \"2020-05-19\", \"2020-05-20\", \"2020-05-21\", \"2020-05-22\", \"2020-05-23\", \"2020-05-24\", \"2020-05-25\", \"2020-05-26\", \"2020-05-27\", \"2020-05-28\", \"2020-05-29\", \"2020-05-30\", \"2020-05-31\", \"2020-06-01\", \"2020-06-02\", \"2020-06-03\"], \"y\": [0, 0, 0, 0, 0, 0, 0, 0, 0, 0, 0, 0, 0, 0, 0, 0, 0, 0, 0, 0, 0, 0, 0, 0, 0, 0, 0, 0, 0, 0, 0, 0, 0, 0, 2, 2, 3, 3, 9, 14, 18, 21, 29, 41, 55, 79, 104, 129, 178, 242, 297, 497, 648, 853, 1009, 1328, 1633, 1998, 2373, 2797, 3557, 4444, 5246, 5549, 6748, 7374, 7978, 8223, 8874, 8957, 9129, 9222, 9334, 9088, 8849, 8614, 8350, 8157, 7709, 7172, 6865, 6608, 6330, 6209, 5845, 5080, 4460, 4014, 3796, 3694, 3411, 3087, 2786, 2669, 2509, 2401, 2363, 2208, 2043, 1961, 1832, 1782, 1771, 1705, 1582, 1437, 1445, 1324, 1290, 1262, 1201, 1190, 1069, 1027, 1010, 1048, 1050, 1026, 1011, 838, 820, 796, 810, 800, 760, 732, 718, 674, 640, 497, 470, 469, 461, 429]}],\n",
              "                        {\"template\": {\"data\": {\"bar\": [{\"error_x\": {\"color\": \"#2a3f5f\"}, \"error_y\": {\"color\": \"#2a3f5f\"}, \"marker\": {\"line\": {\"color\": \"#E5ECF6\", \"width\": 0.5}}, \"type\": \"bar\"}], \"barpolar\": [{\"marker\": {\"line\": {\"color\": \"#E5ECF6\", \"width\": 0.5}}, \"type\": \"barpolar\"}], \"carpet\": [{\"aaxis\": {\"endlinecolor\": \"#2a3f5f\", \"gridcolor\": \"white\", \"linecolor\": \"white\", \"minorgridcolor\": \"white\", \"startlinecolor\": \"#2a3f5f\"}, \"baxis\": {\"endlinecolor\": \"#2a3f5f\", \"gridcolor\": \"white\", \"linecolor\": \"white\", \"minorgridcolor\": \"white\", \"startlinecolor\": \"#2a3f5f\"}, \"type\": \"carpet\"}], \"choropleth\": [{\"colorbar\": {\"outlinewidth\": 0, \"ticks\": \"\"}, \"type\": \"choropleth\"}], \"contour\": [{\"colorbar\": {\"outlinewidth\": 0, \"ticks\": \"\"}, \"colorscale\": [[0.0, \"#0d0887\"], [0.1111111111111111, \"#46039f\"], [0.2222222222222222, \"#7201a8\"], [0.3333333333333333, \"#9c179e\"], [0.4444444444444444, \"#bd3786\"], [0.5555555555555556, \"#d8576b\"], [0.6666666666666666, \"#ed7953\"], [0.7777777777777778, \"#fb9f3a\"], [0.8888888888888888, \"#fdca26\"], [1.0, \"#f0f921\"]], \"type\": \"contour\"}], \"contourcarpet\": [{\"colorbar\": {\"outlinewidth\": 0, \"ticks\": \"\"}, \"type\": \"contourcarpet\"}], \"heatmap\": [{\"colorbar\": {\"outlinewidth\": 0, \"ticks\": \"\"}, \"colorscale\": [[0.0, \"#0d0887\"], [0.1111111111111111, \"#46039f\"], [0.2222222222222222, \"#7201a8\"], [0.3333333333333333, \"#9c179e\"], [0.4444444444444444, \"#bd3786\"], [0.5555555555555556, \"#d8576b\"], [0.6666666666666666, \"#ed7953\"], [0.7777777777777778, \"#fb9f3a\"], [0.8888888888888888, \"#fdca26\"], [1.0, \"#f0f921\"]], \"type\": \"heatmap\"}], \"heatmapgl\": [{\"colorbar\": {\"outlinewidth\": 0, \"ticks\": \"\"}, \"colorscale\": [[0.0, \"#0d0887\"], [0.1111111111111111, \"#46039f\"], [0.2222222222222222, \"#7201a8\"], [0.3333333333333333, \"#9c179e\"], [0.4444444444444444, \"#bd3786\"], [0.5555555555555556, \"#d8576b\"], [0.6666666666666666, \"#ed7953\"], [0.7777777777777778, \"#fb9f3a\"], [0.8888888888888888, \"#fdca26\"], [1.0, \"#f0f921\"]], \"type\": \"heatmapgl\"}], \"histogram\": [{\"marker\": {\"colorbar\": {\"outlinewidth\": 0, \"ticks\": \"\"}}, \"type\": \"histogram\"}], \"histogram2d\": [{\"colorbar\": {\"outlinewidth\": 0, \"ticks\": \"\"}, \"colorscale\": [[0.0, \"#0d0887\"], [0.1111111111111111, \"#46039f\"], [0.2222222222222222, \"#7201a8\"], [0.3333333333333333, \"#9c179e\"], [0.4444444444444444, \"#bd3786\"], [0.5555555555555556, \"#d8576b\"], [0.6666666666666666, \"#ed7953\"], [0.7777777777777778, \"#fb9f3a\"], [0.8888888888888888, \"#fdca26\"], [1.0, \"#f0f921\"]], \"type\": \"histogram2d\"}], \"histogram2dcontour\": [{\"colorbar\": {\"outlinewidth\": 0, \"ticks\": \"\"}, \"colorscale\": [[0.0, \"#0d0887\"], [0.1111111111111111, \"#46039f\"], [0.2222222222222222, \"#7201a8\"], [0.3333333333333333, \"#9c179e\"], [0.4444444444444444, \"#bd3786\"], [0.5555555555555556, \"#d8576b\"], [0.6666666666666666, \"#ed7953\"], [0.7777777777777778, \"#fb9f3a\"], [0.8888888888888888, \"#fdca26\"], [1.0, \"#f0f921\"]], \"type\": \"histogram2dcontour\"}], \"mesh3d\": [{\"colorbar\": {\"outlinewidth\": 0, \"ticks\": \"\"}, \"type\": \"mesh3d\"}], \"parcoords\": [{\"line\": {\"colorbar\": {\"outlinewidth\": 0, \"ticks\": \"\"}}, \"type\": \"parcoords\"}], \"pie\": [{\"automargin\": true, \"type\": \"pie\"}], \"scatter\": [{\"marker\": {\"colorbar\": {\"outlinewidth\": 0, \"ticks\": \"\"}}, \"type\": \"scatter\"}], \"scatter3d\": [{\"line\": {\"colorbar\": {\"outlinewidth\": 0, \"ticks\": \"\"}}, \"marker\": {\"colorbar\": {\"outlinewidth\": 0, \"ticks\": \"\"}}, \"type\": \"scatter3d\"}], \"scattercarpet\": [{\"marker\": {\"colorbar\": {\"outlinewidth\": 0, \"ticks\": \"\"}}, \"type\": \"scattercarpet\"}], \"scattergeo\": [{\"marker\": {\"colorbar\": {\"outlinewidth\": 0, \"ticks\": \"\"}}, \"type\": \"scattergeo\"}], \"scattergl\": [{\"marker\": {\"colorbar\": {\"outlinewidth\": 0, \"ticks\": \"\"}}, \"type\": \"scattergl\"}], \"scattermapbox\": [{\"marker\": {\"colorbar\": {\"outlinewidth\": 0, \"ticks\": \"\"}}, \"type\": \"scattermapbox\"}], \"scatterpolar\": [{\"marker\": {\"colorbar\": {\"outlinewidth\": 0, \"ticks\": \"\"}}, \"type\": \"scatterpolar\"}], \"scatterpolargl\": [{\"marker\": {\"colorbar\": {\"outlinewidth\": 0, \"ticks\": \"\"}}, \"type\": \"scatterpolargl\"}], \"scatterternary\": [{\"marker\": {\"colorbar\": {\"outlinewidth\": 0, \"ticks\": \"\"}}, \"type\": \"scatterternary\"}], \"surface\": [{\"colorbar\": {\"outlinewidth\": 0, \"ticks\": \"\"}, \"colorscale\": [[0.0, \"#0d0887\"], [0.1111111111111111, \"#46039f\"], [0.2222222222222222, \"#7201a8\"], [0.3333333333333333, \"#9c179e\"], [0.4444444444444444, \"#bd3786\"], [0.5555555555555556, \"#d8576b\"], [0.6666666666666666, \"#ed7953\"], [0.7777777777777778, \"#fb9f3a\"], [0.8888888888888888, \"#fdca26\"], [1.0, \"#f0f921\"]], \"type\": \"surface\"}], \"table\": [{\"cells\": {\"fill\": {\"color\": \"#EBF0F8\"}, \"line\": {\"color\": \"white\"}}, \"header\": {\"fill\": {\"color\": \"#C8D4E3\"}, \"line\": {\"color\": \"white\"}}, \"type\": \"table\"}]}, \"layout\": {\"annotationdefaults\": {\"arrowcolor\": \"#2a3f5f\", \"arrowhead\": 0, \"arrowwidth\": 1}, \"coloraxis\": {\"colorbar\": {\"outlinewidth\": 0, \"ticks\": \"\"}}, \"colorscale\": {\"diverging\": [[0, \"#8e0152\"], [0.1, \"#c51b7d\"], [0.2, \"#de77ae\"], [0.3, \"#f1b6da\"], [0.4, \"#fde0ef\"], [0.5, \"#f7f7f7\"], [0.6, \"#e6f5d0\"], [0.7, \"#b8e186\"], [0.8, \"#7fbc41\"], [0.9, \"#4d9221\"], [1, \"#276419\"]], \"sequential\": [[0.0, \"#0d0887\"], [0.1111111111111111, \"#46039f\"], [0.2222222222222222, \"#7201a8\"], [0.3333333333333333, \"#9c179e\"], [0.4444444444444444, \"#bd3786\"], [0.5555555555555556, \"#d8576b\"], [0.6666666666666666, \"#ed7953\"], [0.7777777777777778, \"#fb9f3a\"], [0.8888888888888888, \"#fdca26\"], [1.0, \"#f0f921\"]], \"sequentialminus\": [[0.0, \"#0d0887\"], [0.1111111111111111, \"#46039f\"], [0.2222222222222222, \"#7201a8\"], [0.3333333333333333, \"#9c179e\"], [0.4444444444444444, \"#bd3786\"], [0.5555555555555556, \"#d8576b\"], [0.6666666666666666, \"#ed7953\"], [0.7777777777777778, \"#fb9f3a\"], [0.8888888888888888, \"#fdca26\"], [1.0, \"#f0f921\"]]}, \"colorway\": [\"#636efa\", \"#EF553B\", \"#00cc96\", \"#ab63fa\", \"#FFA15A\", \"#19d3f3\", \"#FF6692\", \"#B6E880\", \"#FF97FF\", \"#FECB52\"], \"font\": {\"color\": \"#2a3f5f\"}, \"geo\": {\"bgcolor\": \"white\", \"lakecolor\": \"white\", \"landcolor\": \"#E5ECF6\", \"showlakes\": true, \"showland\": true, \"subunitcolor\": \"white\"}, \"hoverlabel\": {\"align\": \"left\"}, \"hovermode\": \"closest\", \"mapbox\": {\"style\": \"light\"}, \"paper_bgcolor\": \"white\", \"plot_bgcolor\": \"#E5ECF6\", \"polar\": {\"angularaxis\": {\"gridcolor\": \"white\", \"linecolor\": \"white\", \"ticks\": \"\"}, \"bgcolor\": \"#E5ECF6\", \"radialaxis\": {\"gridcolor\": \"white\", \"linecolor\": \"white\", \"ticks\": \"\"}}, \"scene\": {\"xaxis\": {\"backgroundcolor\": \"#E5ECF6\", \"gridcolor\": \"white\", \"gridwidth\": 2, \"linecolor\": \"white\", \"showbackground\": true, \"ticks\": \"\", \"zerolinecolor\": \"white\"}, \"yaxis\": {\"backgroundcolor\": \"#E5ECF6\", \"gridcolor\": \"white\", \"gridwidth\": 2, \"linecolor\": \"white\", \"showbackground\": true, \"ticks\": \"\", \"zerolinecolor\": \"white\"}, \"zaxis\": {\"backgroundcolor\": \"#E5ECF6\", \"gridcolor\": \"white\", \"gridwidth\": 2, \"linecolor\": \"white\", \"showbackground\": true, \"ticks\": \"\", \"zerolinecolor\": \"white\"}}, \"shapedefaults\": {\"line\": {\"color\": \"#2a3f5f\"}}, \"ternary\": {\"aaxis\": {\"gridcolor\": \"white\", \"linecolor\": \"white\", \"ticks\": \"\"}, \"baxis\": {\"gridcolor\": \"white\", \"linecolor\": \"white\", \"ticks\": \"\"}, \"bgcolor\": \"#E5ECF6\", \"caxis\": {\"gridcolor\": \"white\", \"linecolor\": \"white\", \"ticks\": \"\"}}, \"title\": {\"x\": 0.05}, \"xaxis\": {\"automargin\": true, \"gridcolor\": \"white\", \"linecolor\": \"white\", \"ticks\": \"\", \"title\": {\"standoff\": 15}, \"zerolinecolor\": \"white\", \"zerolinewidth\": 2}, \"yaxis\": {\"automargin\": true, \"gridcolor\": \"white\", \"linecolor\": \"white\", \"ticks\": \"\", \"title\": {\"standoff\": 15}, \"zerolinecolor\": \"white\", \"zerolinewidth\": 2}}}, \"title\": {\"text\": \"$\\\\text{Austria: R }$\", \"x\": 0.5, \"xanchor\": \"center\"}, \"xaxis\": {\"title\": {\"text\": \"Day\"}}, \"yaxis\": {\"title\": {\"text\": \"R\"}}},\n",
              "                        {\"responsive\": true}\n",
              "                    ).then(function(){\n",
              "                            \n",
              "var gd = document.getElementById('6d7de617-207a-4cab-9bc3-5344e1ccb3ed');\n",
              "var x = new MutationObserver(function (mutations, observer) {{\n",
              "        var display = window.getComputedStyle(gd).display;\n",
              "        if (!display || display === 'none') {{\n",
              "            console.log([gd, 'removed!']);\n",
              "            Plotly.purge(gd);\n",
              "            observer.disconnect();\n",
              "        }}\n",
              "}});\n",
              "\n",
              "// Listen for the removal of the full notebook cells\n",
              "var notebookContainer = gd.closest('#notebook-container');\n",
              "if (notebookContainer) {{\n",
              "    x.observe(notebookContainer, {childList: true});\n",
              "}}\n",
              "\n",
              "// Listen for the clearing of the current output cell\n",
              "var outputEl = gd.closest('.output');\n",
              "if (outputEl) {{\n",
              "    x.observe(outputEl, {childList: true});\n",
              "}}\n",
              "\n",
              "                        })\n",
              "                };\n",
              "                \n",
              "            </script>\n",
              "        </div>\n",
              "</body>\n",
              "</html>"
            ]
          },
          "metadata": {
            "tags": []
          }
        }
      ]
    },
    {
      "cell_type": "markdown",
      "metadata": {
        "colab_type": "text",
        "id": "UMsPknVuptsY"
      },
      "source": [
        "### France\n",
        "\n",
        "* We have daily data $I_{pd}$ and $R_{pd}$ (where $R_{pd}$ is the sum of deaths and recoveries)\n",
        "* We have our assumed $T_L$ and $T_I$\n",
        "\n",
        "Analysis steps:\n",
        "1. The first thing we want to check is whether $h_I\\circledast I_{pd} [j]$ gives us something close to $R_{pd}$ If not, why not?\n",
        "2. Can we get an estimated $E_{pd}$ by deconvolution of $I_{pd}$ ?\n",
        "3. What can that tell us about $R$ and $\\beta$ ?"
      ]
    },
    {
      "cell_type": "markdown",
      "metadata": {
        "colab_type": "text",
        "id": "h_t9ooxDptsf"
      },
      "source": [
        "#### 1. Checking $h_I$"
      ]
    },
    {
      "cell_type": "code",
      "metadata": {
        "colab_type": "code",
        "outputId": "4ce40776-fb45-4dbe-c12e-aceb5bcf5881",
        "id": "e6RMG-7mptsg",
        "colab": {
          "base_uri": "https://localhost:8080/",
          "height": 542
        }
      },
      "source": [
        "#collapse_hide\n",
        "fig = go.Figure(data=[    \n",
        "    go.Bar(name='Ipd', x=conf_df_pd.loc['France'].index, y=conf_df_pd.loc['France']),\n",
        "    go.Scatter(name='Ipd=lowpass(Ipd)', x=conf_df_pd.loc['France'].index, y=lowpass(conf_df_pd.loc['France']+deaths_df_pd.loc['France'])[0]),\n",
        "    go.Bar(name='Rpd', x=rec_df_pd.loc['France'].index, y=rec_df_pd.loc['France']),\n",
        "    go.Scatter(name='Rpd=lowpass(Rpd)', x=rec_df_pd.loc['France'].index, y=lowpass(rec_df_pd.loc['France'])[0]),\n",
        "    go.Scatter(name='Rpd=conv(Ipd)', x=conf_df_pd.loc['France'].index, y=signal.fftconvolve(h_I, conf_df_pd.loc['France']+deaths_df_pd.loc['France'], mode='full'))\n",
        "])\n",
        "\n",
        "fig.update_layout(\n",
        "    xaxis_title = 'Day',\n",
        "    yaxis_title = 'Count',\n",
        "    title={\n",
        "        'text':r'$\\text{France: Actual } R_{pd} \\text{ vs. } h_I[j]\\circledast I_{pd}[j]$',\n",
        "        'x':0.5,\n",
        "        'xanchor':'center'\n",
        "    }\n",
        ")\n",
        "\n",
        "fig.show()"
      ],
      "execution_count": 258,
      "outputs": [
        {
          "output_type": "display_data",
          "data": {
            "text/html": [
              "<html>\n",
              "<head><meta charset=\"utf-8\" /></head>\n",
              "<body>\n",
              "    <div>\n",
              "            <script src=\"https://cdnjs.cloudflare.com/ajax/libs/mathjax/2.7.5/MathJax.js?config=TeX-AMS-MML_SVG\"></script><script type=\"text/javascript\">if (window.MathJax) {MathJax.Hub.Config({SVG: {font: \"STIX-Web\"}});}</script>\n",
              "                <script type=\"text/javascript\">window.PlotlyConfig = {MathJaxConfig: 'local'};</script>\n",
              "        <script src=\"https://cdn.plot.ly/plotly-latest.min.js\"></script>    \n",
              "            <div id=\"b1845e88-b557-46f1-998e-4c9f6ce9fafe\" class=\"plotly-graph-div\" style=\"height:525px; width:100%;\"></div>\n",
              "            <script type=\"text/javascript\">\n",
              "                \n",
              "                    window.PLOTLYENV=window.PLOTLYENV || {};\n",
              "                    \n",
              "                if (document.getElementById(\"b1845e88-b557-46f1-998e-4c9f6ce9fafe\")) {\n",
              "                    Plotly.newPlot(\n",
              "                        'b1845e88-b557-46f1-998e-4c9f6ce9fafe',\n",
              "                        [{\"name\": \"Ipd\", \"type\": \"bar\", \"x\": [\"2020-01-22\", \"2020-01-23\", \"2020-01-24\", \"2020-01-25\", \"2020-01-26\", \"2020-01-27\", \"2020-01-28\", \"2020-01-29\", \"2020-01-30\", \"2020-01-31\", \"2020-02-01\", \"2020-02-02\", \"2020-02-03\", \"2020-02-04\", \"2020-02-05\", \"2020-02-06\", \"2020-02-07\", \"2020-02-08\", \"2020-02-09\", \"2020-02-10\", \"2020-02-11\", \"2020-02-12\", \"2020-02-13\", \"2020-02-14\", \"2020-02-15\", \"2020-02-16\", \"2020-02-17\", \"2020-02-18\", \"2020-02-19\", \"2020-02-20\", \"2020-02-21\", \"2020-02-22\", \"2020-02-23\", \"2020-02-24\", \"2020-02-25\", \"2020-02-26\", \"2020-02-27\", \"2020-02-28\", \"2020-02-29\", \"2020-03-01\", \"2020-03-02\", \"2020-03-03\", \"2020-03-04\", \"2020-03-05\", \"2020-03-06\", \"2020-03-07\", \"2020-03-08\", \"2020-03-09\", \"2020-03-10\", \"2020-03-11\", \"2020-03-12\", \"2020-03-13\", \"2020-03-14\", \"2020-03-15\", \"2020-03-16\", \"2020-03-17\", \"2020-03-18\", \"2020-03-19\", \"2020-03-20\", \"2020-03-21\", \"2020-03-22\", \"2020-03-23\", \"2020-03-24\", \"2020-03-25\", \"2020-03-26\", \"2020-03-27\", \"2020-03-28\", \"2020-03-29\", \"2020-03-30\", \"2020-03-31\", \"2020-04-01\", \"2020-04-02\", \"2020-04-03\", \"2020-04-04\", \"2020-04-05\", \"2020-04-06\", \"2020-04-07\", \"2020-04-08\", \"2020-04-09\", \"2020-04-10\", \"2020-04-11\", \"2020-04-12\", \"2020-04-13\", \"2020-04-14\", \"2020-04-15\", \"2020-04-16\", \"2020-04-17\", \"2020-04-18\", \"2020-04-19\", \"2020-04-20\", \"2020-04-21\", \"2020-04-22\", \"2020-04-23\", \"2020-04-24\", \"2020-04-25\", \"2020-04-26\", \"2020-04-27\", \"2020-04-28\", \"2020-04-29\", \"2020-04-30\", \"2020-05-01\", \"2020-05-02\", \"2020-05-03\", \"2020-05-04\", \"2020-05-05\", \"2020-05-06\", \"2020-05-07\", \"2020-05-08\", \"2020-05-09\", \"2020-05-10\", \"2020-05-11\", \"2020-05-12\", \"2020-05-13\", \"2020-05-14\", \"2020-05-15\", \"2020-05-16\", \"2020-05-17\", \"2020-05-18\", \"2020-05-19\", \"2020-05-20\", \"2020-05-21\", \"2020-05-22\", \"2020-05-23\", \"2020-05-24\", \"2020-05-25\", \"2020-05-26\", \"2020-05-27\", \"2020-05-28\", \"2020-05-29\", \"2020-05-30\", \"2020-05-31\", \"2020-06-01\", \"2020-06-02\", \"2020-06-03\"], \"y\": [0.0, 0.0, 2.0, 1.0, 0.0, 0.0, 1.0, 1.0, 0.0, 0.0, 1.0, 0.0, 0.0, 0.0, 0.0, 0.0, 0.0, 5.0, 0.0, 0.0, 0.0, 0.0, 0.0, 0.0, 1.0, 0.0, 0.0, 0.0, 0.0, 0.0, 0.0, 0.0, 0.0, 0.0, 2.0, 4.0, 20.0, 19.0, 43.0, 30.0, 61.0, 13.0, 84.0, 92.0, 276.0, 303.0, 177.0, 83.0, 575.0, 499.0, 0.0, 1388.0, 815.0, 36.0, 2151.0, 1032.0, 1409.0, 1846.0, 1788.0, 1705.0, 1780.0, 3880.0, 2499.0, 2978.0, 3951.0, 3851.0, 4703.0, 2603.0, 4462.0, 7657.0, 4922.0, 2180.0, 5273.0, 4298.0, 1912.0, 3931.0, 3820.0, 3894.0, 4309.0, 4372.0, 3125.0, 26849.0, 3682.0, 4971.0, 3220.0, 12490.0, 2009.0, 2.0, 4925.0, 2382.0, 2775.0, -2188.0, 2323.0, 1649.0, 1692.0, 576.0, 3743.0, 3090.0, -2510.0, 756.0, 6.0, 1213.0, 407.0, 658.0, 1104.0, 3537.0, 694.0, 1284.0, 580.0, 312.0, 453.0, 802.0, -165.0, 810.0, 636.0, 0.0, 63.0, 358.0, 882.0, 767.0, 251.0, 403.0, 340.0, 15.0, 358.0, -220.0, 191.0, 3326.0, 559.0, 1829.0, 257.0, 339.0, -898.0, 3880.0]}, {\"name\": \"Ipd=lowpass(Ipd)\", \"type\": \"scatter\", \"x\": [\"2020-01-22\", \"2020-01-23\", \"2020-01-24\", \"2020-01-25\", \"2020-01-26\", \"2020-01-27\", \"2020-01-28\", \"2020-01-29\", \"2020-01-30\", \"2020-01-31\", \"2020-02-01\", \"2020-02-02\", \"2020-02-03\", \"2020-02-04\", \"2020-02-05\", \"2020-02-06\", \"2020-02-07\", \"2020-02-08\", \"2020-02-09\", \"2020-02-10\", \"2020-02-11\", \"2020-02-12\", \"2020-02-13\", \"2020-02-14\", \"2020-02-15\", \"2020-02-16\", \"2020-02-17\", \"2020-02-18\", \"2020-02-19\", \"2020-02-20\", \"2020-02-21\", \"2020-02-22\", \"2020-02-23\", \"2020-02-24\", \"2020-02-25\", \"2020-02-26\", \"2020-02-27\", \"2020-02-28\", \"2020-02-29\", \"2020-03-01\", \"2020-03-02\", \"2020-03-03\", \"2020-03-04\", \"2020-03-05\", \"2020-03-06\", \"2020-03-07\", \"2020-03-08\", \"2020-03-09\", \"2020-03-10\", \"2020-03-11\", \"2020-03-12\", \"2020-03-13\", \"2020-03-14\", \"2020-03-15\", \"2020-03-16\", \"2020-03-17\", \"2020-03-18\", \"2020-03-19\", \"2020-03-20\", \"2020-03-21\", \"2020-03-22\", \"2020-03-23\", \"2020-03-24\", \"2020-03-25\", \"2020-03-26\", \"2020-03-27\", \"2020-03-28\", \"2020-03-29\", \"2020-03-30\", \"2020-03-31\", \"2020-04-01\", \"2020-04-02\", \"2020-04-03\", \"2020-04-04\", \"2020-04-05\", \"2020-04-06\", \"2020-04-07\", \"2020-04-08\", \"2020-04-09\", \"2020-04-10\", \"2020-04-11\", \"2020-04-12\", \"2020-04-13\", \"2020-04-14\", \"2020-04-15\", \"2020-04-16\", \"2020-04-17\", \"2020-04-18\", \"2020-04-19\", \"2020-04-20\", \"2020-04-21\", \"2020-04-22\", \"2020-04-23\", \"2020-04-24\", \"2020-04-25\", \"2020-04-26\", \"2020-04-27\", \"2020-04-28\", \"2020-04-29\", \"2020-04-30\", \"2020-05-01\", \"2020-05-02\", \"2020-05-03\", \"2020-05-04\", \"2020-05-05\", \"2020-05-06\", \"2020-05-07\", \"2020-05-08\", \"2020-05-09\", \"2020-05-10\", \"2020-05-11\", \"2020-05-12\", \"2020-05-13\", \"2020-05-14\", \"2020-05-15\", \"2020-05-16\", \"2020-05-17\", \"2020-05-18\", \"2020-05-19\", \"2020-05-20\", \"2020-05-21\", \"2020-05-22\", \"2020-05-23\", \"2020-05-24\", \"2020-05-25\", \"2020-05-26\", \"2020-05-27\", \"2020-05-28\", \"2020-05-29\", \"2020-05-30\", \"2020-05-31\", \"2020-06-01\", \"2020-06-02\", \"2020-06-03\"], \"y\": [0.2032146699979177, 0.015058599997533745, -0.22658430691128223, -0.49977796780573636, -0.7739688337123245, -1.0116628219039072, -1.1712847013415915, -1.2111301077222152, -1.0941755071348223, -0.7933684615763941, -0.29689414869765457, 0.3871799909890525, 1.2275258181614375, 2.1680715847155447, 3.1289581723933284, 4.010317913109738, 4.699028313885933, 5.078303340978389, 5.039657938303554, 4.496445568182383, 3.397856122907343, 1.7420060540958344, -0.4134120294605302, -2.9444920903030964, -5.659942002100577, -8.306524303064124, -10.581761320292607, -12.153874412886976, -12.688098594652017, -11.877599437382527, -9.476302694815978, -5.330129599353873, 0.5974762196530504, 8.210128213553396, 17.277440522966877, 27.451953731411056, 38.30648763842296, 49.39267925370648, 60.3193439213997, 70.84688058801207, 80.9914126453738, 91.1299330278953, 102.09565616651284, 115.25135455905627, 132.52799959985902, 156.4168798986623, 189.90581084480095, 236.35413107944416, 299.30663230564073, 382.25285884501756, 488.3447616003488, 620.0919936384583, 779.0597223644746, 965.5981806512436, 1178.635648024087, 1415.5664062002504, 1672.2617867260012, 1943.2253401272633, 2221.9023109033915, 2501.1391379920833, 2773.771168951475, 3033.2974700390437, 3274.5827622624797, 3494.511151729276, 3692.50765338368, 3870.844011061697, 4034.656307098086, 4191.623538476865, 4351.287826708365, 4524.036260583729, 4719.808903914808, 4946.643959458929, 5209.214309146289, 5507.541467236986, 5836.083632433134, 6183.376283576391, 6532.353768776594, 6861.401553767386, 7146.090041837035, 7361.436000087972, 7484.443599317079, 7496.612036093246, 7386.077867996541, 7149.098915095266, 6790.680231294322, 6324.270709183943, 5770.591111962337, 5155.7653079393085, 4509.002457185031, 3860.1135028716976, 3237.1402144200215, 2664.3344875455123, 2160.6598697142695, 1738.908156436298, 1405.4427396226006, 1160.508216738431, 998.9923923700205, 911.4982144708978, 885.5798044790001, 907.0134943959586, 961.0025811375334, 1033.2433966564215, 1110.8036709568564, 1182.7809429712202, 1240.7217685474586, 1278.7953393215776, 1293.7305214645298, 1284.5441669828524, 1252.1092516928138, 1198.6296920114996, 1127.0992664970458, 1040.821211187514, 943.0523549250596, 836.8136849675972, 724.8820630769704, 609.9496486818415, 494.91203555147325, 383.2259842269197, 279.26501719699684, 188.59755008468616, 118.11854442607554, 75.98171435225436, 71.30346254545907, 113.63896348346987, 212.26143101642253, 375.3039126025553, 608.8458603858151, 916.0421139805342, 1296.3987026111945, 1745.2974675278767, 2253.8587240612587, 2809.205517646197, 3395.1519606643024, 3993.2824042801617]}, {\"name\": \"Rpd\", \"type\": \"bar\", \"x\": [\"2020-01-22\", \"2020-01-23\", \"2020-01-24\", \"2020-01-25\", \"2020-01-26\", \"2020-01-27\", \"2020-01-28\", \"2020-01-29\", \"2020-01-30\", \"2020-01-31\", \"2020-02-01\", \"2020-02-02\", \"2020-02-03\", \"2020-02-04\", \"2020-02-05\", \"2020-02-06\", \"2020-02-07\", \"2020-02-08\", \"2020-02-09\", \"2020-02-10\", \"2020-02-11\", \"2020-02-12\", \"2020-02-13\", \"2020-02-14\", \"2020-02-15\", \"2020-02-16\", \"2020-02-17\", \"2020-02-18\", \"2020-02-19\", \"2020-02-20\", \"2020-02-21\", \"2020-02-22\", \"2020-02-23\", \"2020-02-24\", \"2020-02-25\", \"2020-02-26\", \"2020-02-27\", \"2020-02-28\", \"2020-02-29\", \"2020-03-01\", \"2020-03-02\", \"2020-03-03\", \"2020-03-04\", \"2020-03-05\", \"2020-03-06\", \"2020-03-07\", \"2020-03-08\", \"2020-03-09\", \"2020-03-10\", \"2020-03-11\", \"2020-03-12\", \"2020-03-13\", \"2020-03-14\", \"2020-03-15\", \"2020-03-16\", \"2020-03-17\", \"2020-03-18\", \"2020-03-19\", \"2020-03-20\", \"2020-03-21\", \"2020-03-22\", \"2020-03-23\", \"2020-03-24\", \"2020-03-25\", \"2020-03-26\", \"2020-03-27\", \"2020-03-28\", \"2020-03-29\", \"2020-03-30\", \"2020-03-31\", \"2020-04-01\", \"2020-04-02\", \"2020-04-03\", \"2020-04-04\", \"2020-04-05\", \"2020-04-06\", \"2020-04-07\", \"2020-04-08\", \"2020-04-09\", \"2020-04-10\", \"2020-04-11\", \"2020-04-12\", \"2020-04-13\", \"2020-04-14\", \"2020-04-15\", \"2020-04-16\", \"2020-04-17\", \"2020-04-18\", \"2020-04-19\", \"2020-04-20\", \"2020-04-21\", \"2020-04-22\", \"2020-04-23\", \"2020-04-24\", \"2020-04-25\", \"2020-04-26\", \"2020-04-27\", \"2020-04-28\", \"2020-04-29\", \"2020-04-30\", \"2020-05-01\", \"2020-05-02\", \"2020-05-03\", \"2020-05-04\", \"2020-05-05\", \"2020-05-06\", \"2020-05-07\", \"2020-05-08\", \"2020-05-09\", \"2020-05-10\", \"2020-05-11\", \"2020-05-12\", \"2020-05-13\", \"2020-05-14\", \"2020-05-15\", \"2020-05-16\", \"2020-05-17\", \"2020-05-18\", \"2020-05-19\", \"2020-05-20\", \"2020-05-21\", \"2020-05-22\", \"2020-05-23\", \"2020-05-24\", \"2020-05-25\", \"2020-05-26\", \"2020-05-27\", \"2020-05-28\", \"2020-05-29\", \"2020-05-30\", \"2020-05-31\", \"2020-06-01\", \"2020-06-02\", \"2020-06-03\"], \"y\": [0.0, 0.0, 0.0, 0.0, 0.0, 0.0, 0.0, 0.0, 0.0, 0.0, 0.0, 0.0, 0.0, 0.0, 0.0, 0.0, 0.0, 0.0, 0.0, 0.0, 0.0, 2.0, 0.0, 0.0, 2.0, 0.0, 0.0, 0.0, 0.0, 0.0, 0.0, 0.0, 0.0, 0.0, 7.0, 0.0, 0.0, 0.0, 1.0, 0.0, 0.0, 0.0, 0.0, 0.0, 0.0, 0.0, 0.0, 0.0, 0.0, 0.0, 0.0, 0.0, 0.0, 0.0, 0.0, 0.0, 0.0, 0.0, 0.0, 0.0, 2194.0, 0.0, 1044.0, 657.0, 1048.0, 752.0, 17.0, 1502.0, 738.0, 1549.0, 1540.0, 1495.0, 1587.0, 1437.0, 777.0, 1079.0, 2095.0, 1929.0, 1961.0, 1782.0, 1468.0, 806.0, 532.0, 804.0, 2150.0, 1857.0, 1608.0, 1563.0, 595.0, 831.0, 1772.0, 1476.0, 1431.0, 1405.0, 1101.0, 309.0, 610.0, 1373.0, 1342.0, 1248.0, 736.0, 451.0, 222.0, 591.0, 1366.0, 1237.0, 1112.0, 701.0, 256.0, 179.0, 508.0, 1063.0, 888.0, 933.0, 843.0, 0.0, 765.0, 516.0, 835.0, 794.0, 504.0, 351.0, 338.0, 70.0, 582.0, 680.0, 705.0, 607.0, 612.0, 465.0, 87.0, 85.0, 372.0, 643.0]}, {\"name\": \"Rpd=lowpass(Rpd)\", \"type\": \"scatter\", \"x\": [\"2020-01-22\", \"2020-01-23\", \"2020-01-24\", \"2020-01-25\", \"2020-01-26\", \"2020-01-27\", \"2020-01-28\", \"2020-01-29\", \"2020-01-30\", \"2020-01-31\", \"2020-02-01\", \"2020-02-02\", \"2020-02-03\", \"2020-02-04\", \"2020-02-05\", \"2020-02-06\", \"2020-02-07\", \"2020-02-08\", \"2020-02-09\", \"2020-02-10\", \"2020-02-11\", \"2020-02-12\", \"2020-02-13\", \"2020-02-14\", \"2020-02-15\", \"2020-02-16\", \"2020-02-17\", \"2020-02-18\", \"2020-02-19\", \"2020-02-20\", \"2020-02-21\", \"2020-02-22\", \"2020-02-23\", \"2020-02-24\", \"2020-02-25\", \"2020-02-26\", \"2020-02-27\", \"2020-02-28\", \"2020-02-29\", \"2020-03-01\", \"2020-03-02\", \"2020-03-03\", \"2020-03-04\", \"2020-03-05\", \"2020-03-06\", \"2020-03-07\", \"2020-03-08\", \"2020-03-09\", \"2020-03-10\", \"2020-03-11\", \"2020-03-12\", \"2020-03-13\", \"2020-03-14\", \"2020-03-15\", \"2020-03-16\", \"2020-03-17\", \"2020-03-18\", \"2020-03-19\", \"2020-03-20\", \"2020-03-21\", \"2020-03-22\", \"2020-03-23\", \"2020-03-24\", \"2020-03-25\", \"2020-03-26\", \"2020-03-27\", \"2020-03-28\", \"2020-03-29\", \"2020-03-30\", \"2020-03-31\", \"2020-04-01\", \"2020-04-02\", \"2020-04-03\", \"2020-04-04\", \"2020-04-05\", \"2020-04-06\", \"2020-04-07\", \"2020-04-08\", \"2020-04-09\", \"2020-04-10\", \"2020-04-11\", \"2020-04-12\", \"2020-04-13\", \"2020-04-14\", \"2020-04-15\", \"2020-04-16\", \"2020-04-17\", \"2020-04-18\", \"2020-04-19\", \"2020-04-20\", \"2020-04-21\", \"2020-04-22\", \"2020-04-23\", \"2020-04-24\", \"2020-04-25\", \"2020-04-26\", \"2020-04-27\", \"2020-04-28\", \"2020-04-29\", \"2020-04-30\", \"2020-05-01\", \"2020-05-02\", \"2020-05-03\", \"2020-05-04\", \"2020-05-05\", \"2020-05-06\", \"2020-05-07\", \"2020-05-08\", \"2020-05-09\", \"2020-05-10\", \"2020-05-11\", \"2020-05-12\", \"2020-05-13\", \"2020-05-14\", \"2020-05-15\", \"2020-05-16\", \"2020-05-17\", \"2020-05-18\", \"2020-05-19\", \"2020-05-20\", \"2020-05-21\", \"2020-05-22\", \"2020-05-23\", \"2020-05-24\", \"2020-05-25\", \"2020-05-26\", \"2020-05-27\", \"2020-05-28\", \"2020-05-29\", \"2020-05-30\", \"2020-05-31\", \"2020-06-01\", \"2020-06-02\", \"2020-06-03\"], \"y\": [0.13429862496386863, 0.015698774247659086, -0.1297242390911073, -0.2919058240065353, -0.4568353850342941, -0.607233577904319, -0.7237239077714688, -0.7864756340435028, -0.7772390222923042, -0.6816348366400615, -0.49150333893057196, -0.20707064309309142, 0.1613408259204996, 0.5923389519437485, 1.053485791327934, 1.502525013080322, 1.8899314932533535, 2.162782333575783, 2.2698040617897197, 2.1672915723807877, 1.8254349622480284, 1.2344485669036547, 0.4097919512416245, -0.6042750261851302, -1.733534950012885, -2.8756744245284427, -3.9055859977497147, -4.684248326938067, -5.070968776380772, -4.938372406083816, -4.189106661950745, -2.772840946346912, -0.7018182805180586, 1.9369921621683102, 4.975144990738998, 8.163234920106198, 11.180188975765235, 13.652265860743581, 15.181901440412267, 15.385567313651498, 13.938723284540965, 10.624841354590489, 5.384480399654594, -1.6403682628262004, -10.071829619171279, -19.27664722946885, -28.366016441851094, -36.217834917249775, -41.52258950568605, -42.85176561748203, -38.74505993899408, -27.810071311764435, -8.8258731355626, 19.159694578727485, 56.74966716669945, 104.14429489034868, 161.1213896407974, 227.05399258898117, 300.96345388877705, 381.6002650976276, 467.5398637558404, 557.2776702838316, 649.3082382836794, 742.1780207604594, 834.5087060308666, 924.9960202181453, 1012.3949450587431, 1095.5048747991189, 1173.1668272927843, 1244.2800921366074, 1307.83934773872, 1362.9874223871225, 1409.075111851013, 1445.7182936923753, 1472.8434032978403, 1490.7139690398976, 1499.9323152010845, 1501.4116051301003, 1496.3151064125593, 1485.9632868471488, 1471.7155042407458, 1454.8402466284267, 1436.3933544356203, 1417.1246737684687, 1397.428950978225, 1377.3477007564302, 1356.6185173256074, 1334.7604303672788, 1311.1803271670235, 1285.285604083569, 1256.590066489439, 1224.8020370944423, 1189.885501795887, 1152.0878484064513, 1111.9320210441372, 1070.17618517359, 1027.7486878927818, 985.6685983166492, 944.9618845923969, 906.5812504676428, 871.3355040772326, 839.8331552971879, 812.444391949266, 789.2843877240755, 770.218187263281, 754.8837652435359, 742.7270536741237, 733.0424811813061, 725.0151092533938, 717.7642134786562, 710.3907662449878, 702.0311252429989, 691.9164871413506, 679.4340378543652, 664.1832436581599, 646.0204321093486, 625.0863498058083, 601.8135742246436, 576.9125141870192, 551.3361028738095, 526.2246603259131, 502.8341934592312, 482.4533955560867, 466.31604503551284, 455.515671370247, 450.9281782047439, 453.14631097575506, 462.42854737856084, 478.66496638963025, 501.3638096379616, 529.6637533768569, 562.3768984576438, 598.0649961627963, 635.1462522066084]}, {\"name\": \"Rpd=conv(Ipd)\", \"type\": \"scatter\", \"x\": [\"2020-01-22\", \"2020-01-23\", \"2020-01-24\", \"2020-01-25\", \"2020-01-26\", \"2020-01-27\", \"2020-01-28\", \"2020-01-29\", \"2020-01-30\", \"2020-01-31\", \"2020-02-01\", \"2020-02-02\", \"2020-02-03\", \"2020-02-04\", \"2020-02-05\", \"2020-02-06\", \"2020-02-07\", \"2020-02-08\", \"2020-02-09\", \"2020-02-10\", \"2020-02-11\", \"2020-02-12\", \"2020-02-13\", \"2020-02-14\", \"2020-02-15\", \"2020-02-16\", \"2020-02-17\", \"2020-02-18\", \"2020-02-19\", \"2020-02-20\", \"2020-02-21\", \"2020-02-22\", \"2020-02-23\", \"2020-02-24\", \"2020-02-25\", \"2020-02-26\", \"2020-02-27\", \"2020-02-28\", \"2020-02-29\", \"2020-03-01\", \"2020-03-02\", \"2020-03-03\", \"2020-03-04\", \"2020-03-05\", \"2020-03-06\", \"2020-03-07\", \"2020-03-08\", \"2020-03-09\", \"2020-03-10\", \"2020-03-11\", \"2020-03-12\", \"2020-03-13\", \"2020-03-14\", \"2020-03-15\", \"2020-03-16\", \"2020-03-17\", \"2020-03-18\", \"2020-03-19\", \"2020-03-20\", \"2020-03-21\", \"2020-03-22\", \"2020-03-23\", \"2020-03-24\", \"2020-03-25\", \"2020-03-26\", \"2020-03-27\", \"2020-03-28\", \"2020-03-29\", \"2020-03-30\", \"2020-03-31\", \"2020-04-01\", \"2020-04-02\", \"2020-04-03\", \"2020-04-04\", \"2020-04-05\", \"2020-04-06\", \"2020-04-07\", \"2020-04-08\", \"2020-04-09\", \"2020-04-10\", \"2020-04-11\", \"2020-04-12\", \"2020-04-13\", \"2020-04-14\", \"2020-04-15\", \"2020-04-16\", \"2020-04-17\", \"2020-04-18\", \"2020-04-19\", \"2020-04-20\", \"2020-04-21\", \"2020-04-22\", \"2020-04-23\", \"2020-04-24\", \"2020-04-25\", \"2020-04-26\", \"2020-04-27\", \"2020-04-28\", \"2020-04-29\", \"2020-04-30\", \"2020-05-01\", \"2020-05-02\", \"2020-05-03\", \"2020-05-04\", \"2020-05-05\", \"2020-05-06\", \"2020-05-07\", \"2020-05-08\", \"2020-05-09\", \"2020-05-10\", \"2020-05-11\", \"2020-05-12\", \"2020-05-13\", \"2020-05-14\", \"2020-05-15\", \"2020-05-16\", \"2020-05-17\", \"2020-05-18\", \"2020-05-19\", \"2020-05-20\", \"2020-05-21\", \"2020-05-22\", \"2020-05-23\", \"2020-05-24\", \"2020-05-25\", \"2020-05-26\", \"2020-05-27\", \"2020-05-28\", \"2020-05-29\", \"2020-05-30\", \"2020-05-31\", \"2020-06-01\", \"2020-06-02\", \"2020-06-03\"], \"y\": [3.637978807091713e-13, 4.850638409455617e-13, 4.850638409455617e-13, 8.48861721654733e-13, 4.850638409455617e-13, 0.0020089263982905926, 0.00886917014043623, 0.019052573000953997, 0.030720954611266886, 0.044229933669460784, 0.06106197404866786, 0.08053813544490064, 0.10078831626487954, 0.12202722799083858, 0.1445847235640637, 0.16673189641951466, 0.18771925202981948, 0.20699545814501713, 0.2241105513820609, 0.23870096577841954, 0.25551055615730245, 0.27894229900054296, 0.3027740902439897, 0.32545160936991424, 0.3461862694270167, 0.3644447505770586, 0.3798394932677184, 0.39409873509036214, 0.4088696616807283, 0.4215957512700697, 0.43162900871102466, 0.4386663021883578, 0.4425433470258819, 0.44318943153909157, 0.4406102879553752, 0.43487930758359045, 0.4261313985260737, 0.41656624921185237, 0.41328459842164494, 0.4388066614893129, 0.5241821797101389, 0.7040582149595138, 1.017926980137175, 1.493219640051393, 2.144653796045653, 2.9716891647297112, 4.093998950779011, 5.746928750868392, 8.329321906368083, 11.902208967305583, 16.214227138207328, 21.52647515102059, 28.61386163704034, 37.06617448279867, 47.36684543618467, 61.27625177086108, 77.5850056420201, 96.8694459468823, 121.45716452950795, 150.49348799160035, 184.85031709845043, 225.5239912599715, 272.5707023847105, 325.6150259256008, 386.54987830367065, 457.7352642171079, 538.0004522263471, 628.5772510637423, 730.9353619932415, 845.6514881416512, 971.64268845925, 1106.5101147629591, 1255.0694191016883, 1420.6715432170056, 1597.3308255124443, 1781.4963163312311, 1974.7628817379857, 2171.540007358193, 2366.496374237572, 2560.526400401098, 2752.2123685820766, 2939.8721656657103, 3123.564154271206, 3300.3196748475134, 3489.7178113046016, 3711.933013470435, 3939.0581295289953, 4164.983688644856, 4392.940646212798, 4625.500958746202, 4843.6849928207575, 5041.894550304499, 5221.173839852322, 5376.686003127555, 5501.587653478411, 5589.449330493112, 5643.806069627226, 5664.1157393078765, 5649.644025751568, 5602.580467509918, 5529.6449238664045, 5428.185337310388, 5294.174711074827, 5132.645393943931, 4947.035333365499, 4742.017055801642, 4520.883336983363, 4288.6435143010485, 4052.7332482863585, 3819.037117288155, 3588.0910659920805, 3362.6254687506753, 3143.545514390927, 2932.39649785506, 2731.5735809245525, 2541.95615672327, 2363.5840373588203, 2198.2185935149423, 2044.9453092342235, 1902.8176882999003, 1772.0321122022451, 1652.0882580801033, 1542.84816997567, 1443.5619101436785, 1352.7956089639852, 1269.7377369129206, 1193.1284189917535, 1121.9732714139716, 1055.5541596953706, 992.7191930598583, 936.5867225520128, 890.109203019292, 851.1641744298307, 819.6975080235829, 793.0857354410243, 769.2764912799109, 750.1327801775592, 739.414073396683, 731.8337423699651, 725.7285823620186, 720.0348430621185, 713.9017777029496, 706.617674222198, 697.5907761926773, 686.3465701577618, 672.5299557681623, 655.907622337872, 636.3683688434597, 613.9202284724815, 588.6839206455547, 560.882613685488, 530.8283283765185, 498.9055757556809, 465.5530098663153, 431.24398987947546, 396.4669878324879, 361.7067525907262, 327.427055161805, 294.0557060317078, 261.9723651027872, 231.49947392016063, 202.89644329376847, 176.35704139021013, 152.00976018071597, 129.92080134463492, 110.099222640001, 92.5037252191573, 77.05054093383697, 63.621892987667884, 52.07454772350538, 42.248042719107254, 33.97225881178371, 27.074093299189915, 21.38308115068103, 16.735894544330343, 12.979723820415893, 9.974602011799288, 7.5947790431516, 5.729280450304456, 4.281800165314477, 3.1700794739702665, 2.3249171137735174, 1.688941272285956, 1.2152555381828885, 0.866049964227083, 0.6112472509906487, 0.42723412996923193, 0.29571033165921107, 0.20267265770259352, 0.13753986185098863, 0.09241522105069938, 0.06147758181177778, 0.040487908882641935, 0.026396496497424475, 0.017035574947537196, 0.01088263827174766, 0.006881069561495678, 0.004306254254333908, 0.0026671234372770414, 0.0016347984186722896, 0.000991610301025503, 0.0005951847935042072, 0.00035348828211378226, 0.00020772521153655059, 0.00012077392196564081, 6.947136832119819e-05, 3.9533603436818034e-05, 2.2255336201245276e-05, 1.2393347272639706e-05, 6.826679206521173e-06, 3.719432940367066e-06, 2.0043352075542013e-06, 1.0682441522173273e-06, 5.630651382186139e-07, 2.935035809059627e-07, 1.5129323098032424e-07, 7.711726842292894e-08, 3.886877190476904e-08, 1.9370054360479115e-08, 9.545207528086999e-09, 4.649943245264391e-09, 2.2405098813275496e-09, 1.066897918159763e-09, 5.032537349810203e-10, 2.3380077133576075e-10, 1.0841176845133305e-10, 4.8748916015028955e-11, 2.304053244491418e-11, 9.701276818911234e-12, 4.850638409455617e-12, 2.9103830456733705e-12, 2.1827872842550277e-12, 4.850638409455617e-13]}],\n",
              "                        {\"template\": {\"data\": {\"bar\": [{\"error_x\": {\"color\": \"#2a3f5f\"}, \"error_y\": {\"color\": \"#2a3f5f\"}, \"marker\": {\"line\": {\"color\": \"#E5ECF6\", \"width\": 0.5}}, \"type\": \"bar\"}], \"barpolar\": [{\"marker\": {\"line\": {\"color\": \"#E5ECF6\", \"width\": 0.5}}, \"type\": \"barpolar\"}], \"carpet\": [{\"aaxis\": {\"endlinecolor\": \"#2a3f5f\", \"gridcolor\": \"white\", \"linecolor\": \"white\", \"minorgridcolor\": \"white\", \"startlinecolor\": \"#2a3f5f\"}, \"baxis\": {\"endlinecolor\": \"#2a3f5f\", \"gridcolor\": \"white\", \"linecolor\": \"white\", \"minorgridcolor\": \"white\", \"startlinecolor\": \"#2a3f5f\"}, \"type\": \"carpet\"}], \"choropleth\": [{\"colorbar\": {\"outlinewidth\": 0, \"ticks\": \"\"}, \"type\": \"choropleth\"}], \"contour\": [{\"colorbar\": {\"outlinewidth\": 0, \"ticks\": \"\"}, \"colorscale\": [[0.0, \"#0d0887\"], [0.1111111111111111, \"#46039f\"], [0.2222222222222222, \"#7201a8\"], [0.3333333333333333, \"#9c179e\"], [0.4444444444444444, \"#bd3786\"], [0.5555555555555556, \"#d8576b\"], [0.6666666666666666, \"#ed7953\"], [0.7777777777777778, \"#fb9f3a\"], [0.8888888888888888, \"#fdca26\"], [1.0, \"#f0f921\"]], \"type\": \"contour\"}], \"contourcarpet\": [{\"colorbar\": {\"outlinewidth\": 0, \"ticks\": \"\"}, \"type\": \"contourcarpet\"}], \"heatmap\": [{\"colorbar\": {\"outlinewidth\": 0, \"ticks\": \"\"}, \"colorscale\": [[0.0, \"#0d0887\"], [0.1111111111111111, \"#46039f\"], [0.2222222222222222, \"#7201a8\"], [0.3333333333333333, \"#9c179e\"], [0.4444444444444444, \"#bd3786\"], [0.5555555555555556, \"#d8576b\"], [0.6666666666666666, \"#ed7953\"], [0.7777777777777778, \"#fb9f3a\"], [0.8888888888888888, \"#fdca26\"], [1.0, \"#f0f921\"]], \"type\": \"heatmap\"}], \"heatmapgl\": [{\"colorbar\": {\"outlinewidth\": 0, \"ticks\": \"\"}, \"colorscale\": [[0.0, \"#0d0887\"], [0.1111111111111111, \"#46039f\"], [0.2222222222222222, \"#7201a8\"], [0.3333333333333333, \"#9c179e\"], [0.4444444444444444, \"#bd3786\"], [0.5555555555555556, \"#d8576b\"], [0.6666666666666666, \"#ed7953\"], [0.7777777777777778, \"#fb9f3a\"], [0.8888888888888888, \"#fdca26\"], [1.0, \"#f0f921\"]], \"type\": \"heatmapgl\"}], \"histogram\": [{\"marker\": {\"colorbar\": {\"outlinewidth\": 0, \"ticks\": \"\"}}, \"type\": \"histogram\"}], \"histogram2d\": [{\"colorbar\": {\"outlinewidth\": 0, \"ticks\": \"\"}, \"colorscale\": [[0.0, \"#0d0887\"], [0.1111111111111111, \"#46039f\"], [0.2222222222222222, \"#7201a8\"], [0.3333333333333333, \"#9c179e\"], [0.4444444444444444, \"#bd3786\"], [0.5555555555555556, \"#d8576b\"], [0.6666666666666666, \"#ed7953\"], [0.7777777777777778, \"#fb9f3a\"], [0.8888888888888888, \"#fdca26\"], [1.0, \"#f0f921\"]], \"type\": \"histogram2d\"}], \"histogram2dcontour\": [{\"colorbar\": {\"outlinewidth\": 0, \"ticks\": \"\"}, \"colorscale\": [[0.0, \"#0d0887\"], [0.1111111111111111, \"#46039f\"], [0.2222222222222222, \"#7201a8\"], [0.3333333333333333, \"#9c179e\"], [0.4444444444444444, \"#bd3786\"], [0.5555555555555556, \"#d8576b\"], [0.6666666666666666, \"#ed7953\"], [0.7777777777777778, \"#fb9f3a\"], [0.8888888888888888, \"#fdca26\"], [1.0, \"#f0f921\"]], \"type\": \"histogram2dcontour\"}], \"mesh3d\": [{\"colorbar\": {\"outlinewidth\": 0, \"ticks\": \"\"}, \"type\": \"mesh3d\"}], \"parcoords\": [{\"line\": {\"colorbar\": {\"outlinewidth\": 0, \"ticks\": \"\"}}, \"type\": \"parcoords\"}], \"pie\": [{\"automargin\": true, \"type\": \"pie\"}], \"scatter\": [{\"marker\": {\"colorbar\": {\"outlinewidth\": 0, \"ticks\": \"\"}}, \"type\": \"scatter\"}], \"scatter3d\": [{\"line\": {\"colorbar\": {\"outlinewidth\": 0, \"ticks\": \"\"}}, \"marker\": {\"colorbar\": {\"outlinewidth\": 0, \"ticks\": \"\"}}, \"type\": \"scatter3d\"}], \"scattercarpet\": [{\"marker\": {\"colorbar\": {\"outlinewidth\": 0, \"ticks\": \"\"}}, \"type\": \"scattercarpet\"}], \"scattergeo\": [{\"marker\": {\"colorbar\": {\"outlinewidth\": 0, \"ticks\": \"\"}}, \"type\": \"scattergeo\"}], \"scattergl\": [{\"marker\": {\"colorbar\": {\"outlinewidth\": 0, \"ticks\": \"\"}}, \"type\": \"scattergl\"}], \"scattermapbox\": [{\"marker\": {\"colorbar\": {\"outlinewidth\": 0, \"ticks\": \"\"}}, \"type\": \"scattermapbox\"}], \"scatterpolar\": [{\"marker\": {\"colorbar\": {\"outlinewidth\": 0, \"ticks\": \"\"}}, \"type\": \"scatterpolar\"}], \"scatterpolargl\": [{\"marker\": {\"colorbar\": {\"outlinewidth\": 0, \"ticks\": \"\"}}, \"type\": \"scatterpolargl\"}], \"scatterternary\": [{\"marker\": {\"colorbar\": {\"outlinewidth\": 0, \"ticks\": \"\"}}, \"type\": \"scatterternary\"}], \"surface\": [{\"colorbar\": {\"outlinewidth\": 0, \"ticks\": \"\"}, \"colorscale\": [[0.0, \"#0d0887\"], [0.1111111111111111, \"#46039f\"], [0.2222222222222222, \"#7201a8\"], [0.3333333333333333, \"#9c179e\"], [0.4444444444444444, \"#bd3786\"], [0.5555555555555556, \"#d8576b\"], [0.6666666666666666, \"#ed7953\"], [0.7777777777777778, \"#fb9f3a\"], [0.8888888888888888, \"#fdca26\"], [1.0, \"#f0f921\"]], \"type\": \"surface\"}], \"table\": [{\"cells\": {\"fill\": {\"color\": \"#EBF0F8\"}, \"line\": {\"color\": \"white\"}}, \"header\": {\"fill\": {\"color\": \"#C8D4E3\"}, \"line\": {\"color\": \"white\"}}, \"type\": \"table\"}]}, \"layout\": {\"annotationdefaults\": {\"arrowcolor\": \"#2a3f5f\", \"arrowhead\": 0, \"arrowwidth\": 1}, \"coloraxis\": {\"colorbar\": {\"outlinewidth\": 0, \"ticks\": \"\"}}, \"colorscale\": {\"diverging\": [[0, \"#8e0152\"], [0.1, \"#c51b7d\"], [0.2, \"#de77ae\"], [0.3, \"#f1b6da\"], [0.4, \"#fde0ef\"], [0.5, \"#f7f7f7\"], [0.6, \"#e6f5d0\"], [0.7, \"#b8e186\"], [0.8, \"#7fbc41\"], [0.9, \"#4d9221\"], [1, \"#276419\"]], \"sequential\": [[0.0, \"#0d0887\"], [0.1111111111111111, \"#46039f\"], [0.2222222222222222, \"#7201a8\"], [0.3333333333333333, \"#9c179e\"], [0.4444444444444444, \"#bd3786\"], [0.5555555555555556, \"#d8576b\"], [0.6666666666666666, \"#ed7953\"], [0.7777777777777778, \"#fb9f3a\"], [0.8888888888888888, \"#fdca26\"], [1.0, \"#f0f921\"]], \"sequentialminus\": [[0.0, \"#0d0887\"], [0.1111111111111111, \"#46039f\"], [0.2222222222222222, \"#7201a8\"], [0.3333333333333333, \"#9c179e\"], [0.4444444444444444, \"#bd3786\"], [0.5555555555555556, \"#d8576b\"], [0.6666666666666666, \"#ed7953\"], [0.7777777777777778, \"#fb9f3a\"], [0.8888888888888888, \"#fdca26\"], [1.0, \"#f0f921\"]]}, \"colorway\": [\"#636efa\", \"#EF553B\", \"#00cc96\", \"#ab63fa\", \"#FFA15A\", \"#19d3f3\", \"#FF6692\", \"#B6E880\", \"#FF97FF\", \"#FECB52\"], \"font\": {\"color\": \"#2a3f5f\"}, \"geo\": {\"bgcolor\": \"white\", \"lakecolor\": \"white\", \"landcolor\": \"#E5ECF6\", \"showlakes\": true, \"showland\": true, \"subunitcolor\": \"white\"}, \"hoverlabel\": {\"align\": \"left\"}, \"hovermode\": \"closest\", \"mapbox\": {\"style\": \"light\"}, \"paper_bgcolor\": \"white\", \"plot_bgcolor\": \"#E5ECF6\", \"polar\": {\"angularaxis\": {\"gridcolor\": \"white\", \"linecolor\": \"white\", \"ticks\": \"\"}, \"bgcolor\": \"#E5ECF6\", \"radialaxis\": {\"gridcolor\": \"white\", \"linecolor\": \"white\", \"ticks\": \"\"}}, \"scene\": {\"xaxis\": {\"backgroundcolor\": \"#E5ECF6\", \"gridcolor\": \"white\", \"gridwidth\": 2, \"linecolor\": \"white\", \"showbackground\": true, \"ticks\": \"\", \"zerolinecolor\": \"white\"}, \"yaxis\": {\"backgroundcolor\": \"#E5ECF6\", \"gridcolor\": \"white\", \"gridwidth\": 2, \"linecolor\": \"white\", \"showbackground\": true, \"ticks\": \"\", \"zerolinecolor\": \"white\"}, \"zaxis\": {\"backgroundcolor\": \"#E5ECF6\", \"gridcolor\": \"white\", \"gridwidth\": 2, \"linecolor\": \"white\", \"showbackground\": true, \"ticks\": \"\", \"zerolinecolor\": \"white\"}}, \"shapedefaults\": {\"line\": {\"color\": \"#2a3f5f\"}}, \"ternary\": {\"aaxis\": {\"gridcolor\": \"white\", \"linecolor\": \"white\", \"ticks\": \"\"}, \"baxis\": {\"gridcolor\": \"white\", \"linecolor\": \"white\", \"ticks\": \"\"}, \"bgcolor\": \"#E5ECF6\", \"caxis\": {\"gridcolor\": \"white\", \"linecolor\": \"white\", \"ticks\": \"\"}}, \"title\": {\"x\": 0.05}, \"xaxis\": {\"automargin\": true, \"gridcolor\": \"white\", \"linecolor\": \"white\", \"ticks\": \"\", \"title\": {\"standoff\": 15}, \"zerolinecolor\": \"white\", \"zerolinewidth\": 2}, \"yaxis\": {\"automargin\": true, \"gridcolor\": \"white\", \"linecolor\": \"white\", \"ticks\": \"\", \"title\": {\"standoff\": 15}, \"zerolinecolor\": \"white\", \"zerolinewidth\": 2}}}, \"title\": {\"text\": \"$\\\\text{France: Actual } R_{pd} \\\\text{ vs. } h_I[j]\\\\circledast I_{pd}[j]$\", \"x\": 0.5, \"xanchor\": \"center\"}, \"xaxis\": {\"title\": {\"text\": \"Day\"}}, \"yaxis\": {\"title\": {\"text\": \"Count\"}}},\n",
              "                        {\"responsive\": true}\n",
              "                    ).then(function(){\n",
              "                            \n",
              "var gd = document.getElementById('b1845e88-b557-46f1-998e-4c9f6ce9fafe');\n",
              "var x = new MutationObserver(function (mutations, observer) {{\n",
              "        var display = window.getComputedStyle(gd).display;\n",
              "        if (!display || display === 'none') {{\n",
              "            console.log([gd, 'removed!']);\n",
              "            Plotly.purge(gd);\n",
              "            observer.disconnect();\n",
              "        }}\n",
              "}});\n",
              "\n",
              "// Listen for the removal of the full notebook cells\n",
              "var notebookContainer = gd.closest('#notebook-container');\n",
              "if (notebookContainer) {{\n",
              "    x.observe(notebookContainer, {childList: true});\n",
              "}}\n",
              "\n",
              "// Listen for the clearing of the current output cell\n",
              "var outputEl = gd.closest('.output');\n",
              "if (outputEl) {{\n",
              "    x.observe(outputEl, {childList: true});\n",
              "}}\n",
              "\n",
              "                        })\n",
              "                };\n",
              "                \n",
              "            </script>\n",
              "        </div>\n",
              "</body>\n",
              "</html>"
            ]
          },
          "metadata": {
            "tags": []
          }
        }
      ]
    },
    {
      "cell_type": "markdown",
      "metadata": {
        "colab_type": "text",
        "id": "y8CD22Vmptsm"
      },
      "source": [
        "Data is not very good."
      ]
    },
    {
      "cell_type": "markdown",
      "metadata": {
        "colab_type": "text",
        "id": "bo7_LKdbptsn"
      },
      "source": [
        "#### 2. Estimating $E_{pd}$ by deconvolution of $I_{pd}$"
      ]
    },
    {
      "cell_type": "code",
      "metadata": {
        "colab_type": "code",
        "outputId": "b7e469b0-6bd5-4c8f-ac50-d26a93206750",
        "id": "ywA5gfAiptso",
        "colab": {
          "base_uri": "https://localhost:8080/",
          "height": 147
        }
      },
      "source": [
        "#collapse_hide\n",
        "\n",
        "#Settting up for deconvolution of Ipd\n",
        "\n",
        "#regularization parameter\n",
        "alpha=2\n",
        "\n",
        "# Setup up the resultant Ipd we want to compare our guess with\n",
        "Ipd=np.floor(lowpass(conf_df_pd.loc['France'])[0])\n",
        "Ipd[Ipd<0]=0\n",
        "\n",
        "\n",
        "# Pad with last value\n",
        "i=0\n",
        "while i < 100:\n",
        "  Ipd=np.append(Ipd, Ipd[-1])\n",
        "  i=i+1\n",
        "\n",
        "# Find delay caused by h_L\n",
        "delay=Ipd.argmax()-signal.fftconvolve(Ipd, h_L, mode='full').argmax()\n",
        "\n",
        "# We want initial guess to simply be the result of the convolution delayed\n",
        "initial_guess=np.roll(Ipd,delay)\n",
        "Enext = initial_guess\n",
        "\n",
        "# AN array to record MSE between result we want and our iterated guess\n",
        "mse=np.array([])\n",
        "mse=np.append(mse, 10000000)\n",
        "mse=np.append(mse, msecalc(Ipd[:len(conf_df_pd.loc['France'])], signal.fftconvolve(h_L, Enext, mode='full')[:len(conf_df_pd.loc['France'])]))\n",
        "\n",
        "itercount=0\n",
        "while mse[-1] < mse[-2]:\n",
        "  itercount=itercount+1\n",
        "  Enext=iter_deconv(alpha, h_L, Enext, delay, Ipd)\n",
        "  mse=np.append(mse, msecalc(Ipd[:len(conf_df_pd.loc['France'])], signal.fftconvolve(h_L, Enext, mode='full')[:len(conf_df_pd.loc['France'])]))\n",
        "  print(\"Iteration #\" + str(itercount) +\": MSE= \"+str(mse[itercount]))\n",
        "print(\"Iteration #\" + str(itercount+1) +\": MSE= \"+str(mse[-1])+\" so we use the result of the previous iteration.\")"
      ],
      "execution_count": 259,
      "outputs": [
        {
          "output_type": "stream",
          "text": [
            "Iteration #1: MSE= 154260.80035828718\n",
            "Iteration #2: MSE= 54034.481374599236\n",
            "Iteration #3: MSE= 53691.31465777912\n",
            "Iteration #4: MSE= 45144.53386180947\n",
            "Iteration #5: MSE= 39709.43731711392\n",
            "Iteration #6: MSE= 37860.12268122137\n",
            "Iteration #7: MSE= 31523.621058356155\n",
            "Iteration #8: MSE= 32481.060508017406 so we use the result of the previous iteration.\n"
          ],
          "name": "stdout"
        }
      ]
    },
    {
      "cell_type": "code",
      "metadata": {
        "colab_type": "code",
        "outputId": "bcb317ac-1147-48e9-ad33-6b60931a87b8",
        "id": "4oix3eBlptss",
        "colab": {
          "base_uri": "https://localhost:8080/",
          "height": 180
        }
      },
      "source": [
        "#collapse_hide\n",
        "# We can keep going the iteration until lowest MSE\n",
        "\n",
        "#change alpha if you like\n",
        "alpha=2\n",
        "\n",
        "i=0\n",
        "while i < 10:\n",
        "  itercount=itercount+1\n",
        "  Enext=iter_deconv(alpha, h_L, Enext, delay, Ipd)\n",
        "  print(msecalc(Ipd[:len(conf_df_pd.loc['France'])], signal.fftconvolve(h_L, Enext, mode='full')[:len(conf_df_pd.loc['France'])]))\n",
        "  i=i+1"
      ],
      "execution_count": 261,
      "outputs": [
        {
          "output_type": "stream",
          "text": [
            "25956.38089132117\n",
            "25965.124359422345\n",
            "25956.38089132117\n",
            "25965.124359422345\n",
            "25956.38089132117\n",
            "25965.124359422345\n",
            "25956.38089132117\n",
            "25965.124359422345\n",
            "25956.38089132117\n",
            "25965.124359422345\n"
          ],
          "name": "stdout"
        }
      ]
    },
    {
      "cell_type": "code",
      "metadata": {
        "colab_type": "code",
        "outputId": "1998a5f1-deb7-4e8b-8738-9abd7546cba5",
        "id": "JQHRJ2KAptsv",
        "colab": {
          "base_uri": "https://localhost:8080/",
          "height": 542
        }
      },
      "source": [
        "#collapse_hide\n",
        "fig = go.Figure(data=[    \n",
        "    go.Scatter(name='Epd=deconv(Ipd)', x=inf_df.loc['France'].index, y=Enext),\n",
        "    go.Scatter(name='Ipd=conv(deconv(Ipd))', x=inf_df.loc['France'].index, y=signal.fftconvolve(h_L, Enext, mode='full')),\n",
        "    go.Bar(name='Ipd', x=inf_df.loc['France'].index, y=conf_df_pd.loc['France']),\n",
        "    go.Scatter(name='Ipd=lowpass(Ipd)', x=inf_df.loc['France'].index, y=lowpass(conf_df_pd.loc['France'])[0])\n",
        "])\n",
        "\n",
        "fig.update_layout(\n",
        "    \n",
        "    xaxis_title = 'Day',\n",
        "    yaxis_title = 'Count',\n",
        "    title={\n",
        "        'text':r'$\\text{France: Actual } I_{pd} \\text{ vs. convolution of deconvolution of } I_{pd}$',\n",
        "        'x':0.5,\n",
        "        'xanchor':'center'\n",
        "    }\n",
        ")\n",
        "\n",
        "fig.show()"
      ],
      "execution_count": 262,
      "outputs": [
        {
          "output_type": "display_data",
          "data": {
            "text/html": [
              "<html>\n",
              "<head><meta charset=\"utf-8\" /></head>\n",
              "<body>\n",
              "    <div>\n",
              "            <script src=\"https://cdnjs.cloudflare.com/ajax/libs/mathjax/2.7.5/MathJax.js?config=TeX-AMS-MML_SVG\"></script><script type=\"text/javascript\">if (window.MathJax) {MathJax.Hub.Config({SVG: {font: \"STIX-Web\"}});}</script>\n",
              "                <script type=\"text/javascript\">window.PlotlyConfig = {MathJaxConfig: 'local'};</script>\n",
              "        <script src=\"https://cdn.plot.ly/plotly-latest.min.js\"></script>    \n",
              "            <div id=\"15d0b254-48d1-428e-b10b-14b546c997cd\" class=\"plotly-graph-div\" style=\"height:525px; width:100%;\"></div>\n",
              "            <script type=\"text/javascript\">\n",
              "                \n",
              "                    window.PLOTLYENV=window.PLOTLYENV || {};\n",
              "                    \n",
              "                if (document.getElementById(\"15d0b254-48d1-428e-b10b-14b546c997cd\")) {\n",
              "                    Plotly.newPlot(\n",
              "                        '15d0b254-48d1-428e-b10b-14b546c997cd',\n",
              "                        [{\"name\": \"Epd=deconv(Ipd)\", \"type\": \"scatter\", \"x\": [\"2020-01-22\", \"2020-01-23\", \"2020-01-24\", \"2020-01-25\", \"2020-01-26\", \"2020-01-27\", \"2020-01-28\", \"2020-01-29\", \"2020-01-30\", \"2020-01-31\", \"2020-02-01\", \"2020-02-02\", \"2020-02-03\", \"2020-02-04\", \"2020-02-05\", \"2020-02-06\", \"2020-02-07\", \"2020-02-08\", \"2020-02-09\", \"2020-02-10\", \"2020-02-11\", \"2020-02-12\", \"2020-02-13\", \"2020-02-14\", \"2020-02-15\", \"2020-02-16\", \"2020-02-17\", \"2020-02-18\", \"2020-02-19\", \"2020-02-20\", \"2020-02-21\", \"2020-02-22\", \"2020-02-23\", \"2020-02-24\", \"2020-02-25\", \"2020-02-26\", \"2020-02-27\", \"2020-02-28\", \"2020-02-29\", \"2020-03-01\", \"2020-03-02\", \"2020-03-03\", \"2020-03-04\", \"2020-03-05\", \"2020-03-06\", \"2020-03-07\", \"2020-03-08\", \"2020-03-09\", \"2020-03-10\", \"2020-03-11\", \"2020-03-12\", \"2020-03-13\", \"2020-03-14\", \"2020-03-15\", \"2020-03-16\", \"2020-03-17\", \"2020-03-18\", \"2020-03-19\", \"2020-03-20\", \"2020-03-21\", \"2020-03-22\", \"2020-03-23\", \"2020-03-24\", \"2020-03-25\", \"2020-03-26\", \"2020-03-27\", \"2020-03-28\", \"2020-03-29\", \"2020-03-30\", \"2020-03-31\", \"2020-04-01\", \"2020-04-02\", \"2020-04-03\", \"2020-04-04\", \"2020-04-05\", \"2020-04-06\", \"2020-04-07\", \"2020-04-08\", \"2020-04-09\", \"2020-04-10\", \"2020-04-11\", \"2020-04-12\", \"2020-04-13\", \"2020-04-14\", \"2020-04-15\", \"2020-04-16\", \"2020-04-17\", \"2020-04-18\", \"2020-04-19\", \"2020-04-20\", \"2020-04-21\", \"2020-04-22\", \"2020-04-23\", \"2020-04-24\", \"2020-04-25\", \"2020-04-26\", \"2020-04-27\", \"2020-04-28\", \"2020-04-29\", \"2020-04-30\", \"2020-05-01\", \"2020-05-02\", \"2020-05-03\", \"2020-05-04\", \"2020-05-05\", \"2020-05-06\", \"2020-05-07\", \"2020-05-08\", \"2020-05-09\", \"2020-05-10\", \"2020-05-11\", \"2020-05-12\", \"2020-05-13\", \"2020-05-14\", \"2020-05-15\", \"2020-05-16\", \"2020-05-17\", \"2020-05-18\", \"2020-05-19\", \"2020-05-20\", \"2020-05-21\", \"2020-05-22\", \"2020-05-23\", \"2020-05-24\", \"2020-05-25\", \"2020-05-26\", \"2020-05-27\", \"2020-05-28\", \"2020-05-29\", \"2020-05-30\", \"2020-05-31\", \"2020-06-01\", \"2020-06-02\", \"2020-06-03\"], \"y\": [0.0, 0.0, 0.0, 2.0, 5.0, 7.0, 10.0, 12.0, 13.0, 13.0, 11.0, 8.0, 3.0, 0.0, 0.0, 0.0, 0.0, 0.0, 0.0, 0.0, 0.0, 0.0, 0.0, 0.0, 6.0, 24.0, 44.0, 62.0, 78.0, 91.0, 97.0, 97.0, 90.0, 77.0, 59.0, 39.0, 20.0, 8.0, 8.0, 26.0, 68.0, 139.0, 243.0, 383.0, 560.0, 773.0, 1017.0, 1288.0, 1577.0, 1875.0, 2171.0, 2455.0, 2718.0, 2952.0, 3152.0, 3316.0, 3445.0, 3546.0, 3625.0, 3696.0, 3770.0, 3861.0, 3984.0, 4147.0, 4359.0, 4623.0, 4934.0, 5286.0, 5662.0, 6045.0, 6410.0, 6733.0, 6987.0, 7148.0, 7196.0, 7115.0, 6897.0, 6541.0, 6056.0, 5458.0, 4768.0, 4016.0, 3233.0, 2453.0, 1711.0, 1035.0, 452.0, 0.0, 0.0, 0.0, 0.0, 0.0, 0.0, 0.0, 0.0, 252.0, 559.0, 851.0, 1108.0, 1315.0, 1458.0, 1531.0, 1530.0, 1457.0, 1318.0, 1121.0, 880.0, 609.0, 323.0, 40.0, 0.0, 0.0, 0.0, 0.0, 0.0, 0.0, 0.0, 0.0, 0.0, 391.0, 851.0, 1356.0, 1887.0, 2423.0, 2942.0, 3422.0, 3847.0, 4201.0, 4474.0, 4664.0, 4769.0, 4797.0, 4757.0, 4663.0, 4530.0, 4373.0, 4209.0, 4050.0, 3909.0, 3793.0, 3707.0, 3655.0, 3633.0, 3640.0, 3670.0, 3716.0, 3772.0, 3832.0, 3889.0, 3940.0, 3980.0, 4008.0, 4024.0, 4027.0, 4020.0, 4004.0, 3983.0, 3959.0, 3935.0, 3912.0, 3893.0, 3878.0, 3869.0, 3865.0, 3865.0, 3870.0, 3877.0, 3886.0, 3896.0, 3906.0, 3915.0, 3922.0, 3928.0, 3932.0, 3933.0, 3934.0, 3932.0, 3930.0, 3928.0, 3924.0, 3921.0, 3917.0, 3914.0, 3910.0, 3907.0, 3903.0, 3900.0, 3897.0, 3894.0, 3892.0, 3892.0, 3892.0, 3895.0, 3900.0, 3907.0, 3915.0, 3926.0, 3937.0, 3948.0, 3958.0, 3965.0, 3968.0, 3966.0, 3958.0, 3944.0, 3923.0, 3897.0, 3867.0, 3836.0, 3808.0, 3785.0, 3772.0, 3773.0, 3789.0, 3823.0, 3875.0, 3943.0, 4022.0, 4107.0, 4187.0, 4253.0, 4292.0, 4291.0, 4237.0, 4120.0, 3931.0, 3662.0, 3314.0, 2887.0, 2389.0, 1831.0, 1228.0, 596.0, 0.0]}, {\"name\": \"Ipd=conv(deconv(Ipd))\", \"type\": \"scatter\", \"x\": [\"2020-01-22\", \"2020-01-23\", \"2020-01-24\", \"2020-01-25\", \"2020-01-26\", \"2020-01-27\", \"2020-01-28\", \"2020-01-29\", \"2020-01-30\", \"2020-01-31\", \"2020-02-01\", \"2020-02-02\", \"2020-02-03\", \"2020-02-04\", \"2020-02-05\", \"2020-02-06\", \"2020-02-07\", \"2020-02-08\", \"2020-02-09\", \"2020-02-10\", \"2020-02-11\", \"2020-02-12\", \"2020-02-13\", \"2020-02-14\", \"2020-02-15\", \"2020-02-16\", \"2020-02-17\", \"2020-02-18\", \"2020-02-19\", \"2020-02-20\", \"2020-02-21\", \"2020-02-22\", \"2020-02-23\", \"2020-02-24\", \"2020-02-25\", \"2020-02-26\", \"2020-02-27\", \"2020-02-28\", \"2020-02-29\", \"2020-03-01\", \"2020-03-02\", \"2020-03-03\", \"2020-03-04\", \"2020-03-05\", \"2020-03-06\", \"2020-03-07\", \"2020-03-08\", \"2020-03-09\", \"2020-03-10\", \"2020-03-11\", \"2020-03-12\", \"2020-03-13\", \"2020-03-14\", \"2020-03-15\", \"2020-03-16\", \"2020-03-17\", \"2020-03-18\", \"2020-03-19\", \"2020-03-20\", \"2020-03-21\", \"2020-03-22\", \"2020-03-23\", \"2020-03-24\", \"2020-03-25\", \"2020-03-26\", \"2020-03-27\", \"2020-03-28\", \"2020-03-29\", \"2020-03-30\", \"2020-03-31\", \"2020-04-01\", \"2020-04-02\", \"2020-04-03\", \"2020-04-04\", \"2020-04-05\", \"2020-04-06\", \"2020-04-07\", \"2020-04-08\", \"2020-04-09\", \"2020-04-10\", \"2020-04-11\", \"2020-04-12\", \"2020-04-13\", \"2020-04-14\", \"2020-04-15\", \"2020-04-16\", \"2020-04-17\", \"2020-04-18\", \"2020-04-19\", \"2020-04-20\", \"2020-04-21\", \"2020-04-22\", \"2020-04-23\", \"2020-04-24\", \"2020-04-25\", \"2020-04-26\", \"2020-04-27\", \"2020-04-28\", \"2020-04-29\", \"2020-04-30\", \"2020-05-01\", \"2020-05-02\", \"2020-05-03\", \"2020-05-04\", \"2020-05-05\", \"2020-05-06\", \"2020-05-07\", \"2020-05-08\", \"2020-05-09\", \"2020-05-10\", \"2020-05-11\", \"2020-05-12\", \"2020-05-13\", \"2020-05-14\", \"2020-05-15\", \"2020-05-16\", \"2020-05-17\", \"2020-05-18\", \"2020-05-19\", \"2020-05-20\", \"2020-05-21\", \"2020-05-22\", \"2020-05-23\", \"2020-05-24\", \"2020-05-25\", \"2020-05-26\", \"2020-05-27\", \"2020-05-28\", \"2020-05-29\", \"2020-05-30\", \"2020-05-31\", \"2020-06-01\", \"2020-06-02\", \"2020-06-03\"], \"y\": [0.0, -3.2337589396370783e-13, -1.1318156288729774e-12, 0.0, 0.0016991127072186727, 0.11018071518273145, 0.45592627481835535, 1.052910368410974, 1.925191935310593, 3.0326861781187797, 4.269120802224886, 5.502983289324524, 6.547319338202619, 7.2332125282422775, 7.3813844059860765, 7.008944746130227, 6.348768972963282, 5.584808460907678, 4.81412572569534, 4.088207007185136, 3.4320422768600922, 2.8549946948649856, 2.3573780690627855, 1.9345189399410123, 1.5792670262556285, 1.2886226976994093, 1.377343606989113, 2.702501291919503, 5.911868713563551, 11.12515149449933, 18.133081512174087, 26.521760585230613, 35.574559053981325, 44.45108331857062, 52.272220822838186, 58.2303069919271, 61.67897795667725, 62.27023519223618, 60.04114246871638, 55.58514242627037, 50.10209096066958, 45.415517200560295, 43.957690240003046, 48.66783378459796, 62.837055078962294, 89.93641974787631, 133.39554563666323, 196.35201667060352, 281.3044333010507, 389.9597085588353, 522.9685531645839, 679.7727683058572, 858.5100499311864, 1056.0703863644358, 1268.278940871083, 1490.1299930176458, 1716.135984860927, 1940.746198587645, 2158.7737423919507, 2365.948296622954, 2559.191693100566, 2737.07045799406, 2899.9022866509117, 3049.7928249203505, 3190.63705867318, 3327.65278911543, 3466.983308755988, 3615.1393816076898, 3778.1704665074644, 3961.0818513299555, 4167.025477656878, 4396.816193324338, 4648.435622418545, 4916.878833972497, 5194.145225764888, 5469.538720462932, 5730.264358105906, 5962.1508120266335, 6150.596343972351, 6281.585028957226, 6342.803535452722, 6324.629942092536, 6220.838165070391, 6029.281030968278, 5752.171860944213, 5396.104219609636, 4971.8677007877095, 4493.724211095094, 3978.645071934273, 3446.537707030451, 2934.3258052426445, 2467.047263078839, 2054.1447240013363, 1697.1080888159916, 1393.210069015302, 1137.636297983716, 924.9487450088747, 762.5625601716704, 657.8376584420524, 610.3913384569233, 614.0144894419725, 658.9210347014908, 733.1611470799241, 823.9068222601529, 918.4180306490324, 1004.8807897392516, 1073.0921585008875, 1114.880962046007, 1124.5347353644324, 1098.9581842992052, 1037.6305937593054, 942.7755466052, 830.4232742340445, 716.0200829755701, 607.9890015663009, 510.2774484423349, 424.35145486386335, 350.2756242632832, 287.35311955566044, 234.51279421030898, 190.87424163082713, 175.6562568385762, 206.83288378017824, 293.4782822741995, 438.6225255599856, 640.6362388701825, 894.0917104471097, 1190.4397317927528, 1518.88152358921, 1867.077483885203, 2221.9310965040963, 2570.563179906061, 2900.937610420418, 3202.6420917746987, 3467.4092778484223, 3689.5106470759642, 3865.9281186674184, 3996.2774654719087, 4082.6942203776384, 4129.383026501187, 4142.209189382364, 4128.0869429268905, 4094.3871763641687, 4048.514800162563, 3997.258612403601, 3946.5138706849416, 3900.9948772044904, 3864.024010950622, 3837.5547839406963, 3822.2893189313436, 3817.770771687423, 3822.696906521313, 3835.10542482745, 3852.6843119051514, 3873.0762793903236, 3894.0032670245005, 3913.5154832624135, 3930.0662663117446, 3942.6409668480997, 3950.73887652509, 3954.3440912630203, 3953.79646169194, 3949.7685746373586, 3943.113373714185, 3934.82204184113, 3925.8740313980315, 3917.109545086389, 3909.276621859169, 3902.8886955024354, 3898.2521165869794, 3895.4966465308835, 3894.5817570012364, 3895.3124286247607, 3897.359465403572, 3900.3808341051636, 3904.01434242718, 3907.843439215022, 3911.5885734684507, 3914.9568400572844, 3917.769860239229, 3919.9721659669317, 3921.470555755903, 3922.280246346628, 3922.4222281431016, 3921.9843680285244, 3921.0173760642874, 3919.616195947704, 3917.826284707145, 3915.731852021834, 3913.415282906979, 3910.9341398771453, 3908.383398167815, 3905.937330130359, 3903.7132427507568, 3901.911692764384, 3900.7630617464397, 3900.4762302007243, 3901.18663807758, 3903.067701840477, 3906.179522250852, 3910.4668206002125, 3915.769240540794, 3921.76182305006, 3927.971884138486, 3933.8152897949967, 3938.621793719724, 3941.704721728948, 3942.365305988637, 3940.032640534672, 3934.3279559766947, 3925.168969846565, 3912.8885943351443, 3898.181564099958, 3882.1738060984553, 3866.4275716623183, 3852.7409311491288, 3843.082309061598, 3839.425292064778, 3843.504418120868, 3856.52081766949, 3878.973846022849, 3910.3150274370255, 3948.8400087699174, 3991.5425942280467, 4034.056483476145, 4070.723071144092, 4094.867988042852, 4099.112636432087, 4075.653830909433, 4016.9178561268964, 3915.9851355776896, 3767.155593768226, 3566.453202105434, 3312.0202495076946, 3004.3374634173583, 2649.151432442528, 2284.05840168897, 1938.770885704877, 1626.4876224390032, 1352.0101186808085, 1115.5319714317877, 914.782947707748, 746.2973864385746, 606.1670931197751, 490.4783763378063, 395.55290283852275, 318.0669689365336, 255.09657307657375, 204.11858803272773, 162.98736025803308, 129.89893639898477, 103.3504666091538, 82.09930515829733, 65.12436988764223, 51.59107196666689, 40.82034640976829, 32.26184173275348, 25.471056626065792, 20.090070669251144, 15.831456877139539, 12.464954379033104, 9.806498850978743, 7.709242894835189, 6.056239799714079, 4.754506755904812, 3.730224534288411, 2.9248682337428265, 2.292097181222117, 1.7952612541683872, 1.4054059208335175, 1.0996794841436592, 0.8600637751560296, 0.6723643050487024, 0.5254080717865792, 0.41040721940161246, 0.3204549159473067, 0.250126458094908, 0.19516398975328128, 0.15222756685139352, 0.11869879671268993, 0.09252608826726727, 0.07210279887464519, 0.056171360584752014, 0.04374790357186511, 0.034063036052329056, 0.026515348826069384, 0.020634932955726982, 0.01605477145381479, 0.012488317969837227, 0.009711933934078034, 0.007551138372057014, 0.005869847966823727, 0.004561960776724543, 0.0035447763059184784, 0.002753853190612669, 0.002138992127341529, 0.0016610989243619973, 0.0012897359453038209, 0.0010012112978276693, 0.00077708836308577, 0.0006030235070890437, 0.00046785998791973625, 0.0003629218043190324, 0.000281463561178599, 0.00021824193018902508, 0.0001691820138754944, 0.00013111753926043295, 0.00010158872691034857, 7.868495821538899e-05, 6.092241043612982e-05, 4.714893600774101e-05, 3.6470013502467836e-05, 2.819124977880468e-05, 2.177373308869493e-05, 1.6799243126620747e-05, 1.294331001796915e-05, 9.95427233445096e-06, 7.637030770032045e-06, 5.840373180237495e-06, 4.4472484053888674e-06, 3.367067984072492e-06, 2.529838901763368e-06, 1.8815447725096924e-06, 1.380552000935293e-06, 9.947757159049313e-07, 6.995183260490497e-07, 4.7578731836337185e-07, 3.0885130399838093e-07, 1.872998028476205e-07, 1.0214882624697768e-07, 4.625063512422558e-08, 1.3794973104571303e-08, 1.2126596023639043e-13]}, {\"name\": \"Ipd\", \"type\": \"bar\", \"x\": [\"2020-01-22\", \"2020-01-23\", \"2020-01-24\", \"2020-01-25\", \"2020-01-26\", \"2020-01-27\", \"2020-01-28\", \"2020-01-29\", \"2020-01-30\", \"2020-01-31\", \"2020-02-01\", \"2020-02-02\", \"2020-02-03\", \"2020-02-04\", \"2020-02-05\", \"2020-02-06\", \"2020-02-07\", \"2020-02-08\", \"2020-02-09\", \"2020-02-10\", \"2020-02-11\", \"2020-02-12\", \"2020-02-13\", \"2020-02-14\", \"2020-02-15\", \"2020-02-16\", \"2020-02-17\", \"2020-02-18\", \"2020-02-19\", \"2020-02-20\", \"2020-02-21\", \"2020-02-22\", \"2020-02-23\", \"2020-02-24\", \"2020-02-25\", \"2020-02-26\", \"2020-02-27\", \"2020-02-28\", \"2020-02-29\", \"2020-03-01\", \"2020-03-02\", \"2020-03-03\", \"2020-03-04\", \"2020-03-05\", \"2020-03-06\", \"2020-03-07\", \"2020-03-08\", \"2020-03-09\", \"2020-03-10\", \"2020-03-11\", \"2020-03-12\", \"2020-03-13\", \"2020-03-14\", \"2020-03-15\", \"2020-03-16\", \"2020-03-17\", \"2020-03-18\", \"2020-03-19\", \"2020-03-20\", \"2020-03-21\", \"2020-03-22\", \"2020-03-23\", \"2020-03-24\", \"2020-03-25\", \"2020-03-26\", \"2020-03-27\", \"2020-03-28\", \"2020-03-29\", \"2020-03-30\", \"2020-03-31\", \"2020-04-01\", \"2020-04-02\", \"2020-04-03\", \"2020-04-04\", \"2020-04-05\", \"2020-04-06\", \"2020-04-07\", \"2020-04-08\", \"2020-04-09\", \"2020-04-10\", \"2020-04-11\", \"2020-04-12\", \"2020-04-13\", \"2020-04-14\", \"2020-04-15\", \"2020-04-16\", \"2020-04-17\", \"2020-04-18\", \"2020-04-19\", \"2020-04-20\", \"2020-04-21\", \"2020-04-22\", \"2020-04-23\", \"2020-04-24\", \"2020-04-25\", \"2020-04-26\", \"2020-04-27\", \"2020-04-28\", \"2020-04-29\", \"2020-04-30\", \"2020-05-01\", \"2020-05-02\", \"2020-05-03\", \"2020-05-04\", \"2020-05-05\", \"2020-05-06\", \"2020-05-07\", \"2020-05-08\", \"2020-05-09\", \"2020-05-10\", \"2020-05-11\", \"2020-05-12\", \"2020-05-13\", \"2020-05-14\", \"2020-05-15\", \"2020-05-16\", \"2020-05-17\", \"2020-05-18\", \"2020-05-19\", \"2020-05-20\", \"2020-05-21\", \"2020-05-22\", \"2020-05-23\", \"2020-05-24\", \"2020-05-25\", \"2020-05-26\", \"2020-05-27\", \"2020-05-28\", \"2020-05-29\", \"2020-05-30\", \"2020-05-31\", \"2020-06-01\", \"2020-06-02\", \"2020-06-03\"], \"y\": [0.0, 0.0, 2.0, 1.0, 0.0, 0.0, 1.0, 1.0, 0.0, 0.0, 1.0, 0.0, 0.0, 0.0, 0.0, 0.0, 0.0, 5.0, 0.0, 0.0, 0.0, 0.0, 0.0, 0.0, 1.0, 0.0, 0.0, 0.0, 0.0, 0.0, 0.0, 0.0, 0.0, 0.0, 2.0, 4.0, 20.0, 19.0, 43.0, 30.0, 61.0, 13.0, 84.0, 92.0, 276.0, 303.0, 177.0, 83.0, 575.0, 499.0, 0.0, 1388.0, 815.0, 36.0, 2151.0, 1032.0, 1409.0, 1846.0, 1788.0, 1705.0, 1780.0, 3880.0, 2499.0, 2978.0, 3951.0, 3851.0, 4703.0, 2603.0, 4462.0, 7657.0, 4922.0, 2180.0, 5273.0, 4298.0, 1912.0, 3931.0, 3820.0, 3894.0, 4309.0, 4372.0, 3125.0, 26849.0, 3682.0, 4971.0, 3220.0, 12490.0, 2009.0, 2.0, 4925.0, 2382.0, 2775.0, -2188.0, 2323.0, 1649.0, 1692.0, 576.0, 3743.0, 3090.0, -2510.0, 756.0, 6.0, 1213.0, 407.0, 658.0, 1104.0, 3537.0, 694.0, 1284.0, 580.0, 312.0, 453.0, 802.0, -165.0, 810.0, 636.0, 0.0, 63.0, 358.0, 882.0, 767.0, 251.0, 403.0, 340.0, 15.0, 358.0, -220.0, 191.0, 3326.0, 559.0, 1829.0, 257.0, 339.0, -898.0, 3880.0]}, {\"name\": \"Ipd=lowpass(Ipd)\", \"type\": \"scatter\", \"x\": [\"2020-01-22\", \"2020-01-23\", \"2020-01-24\", \"2020-01-25\", \"2020-01-26\", \"2020-01-27\", \"2020-01-28\", \"2020-01-29\", \"2020-01-30\", \"2020-01-31\", \"2020-02-01\", \"2020-02-02\", \"2020-02-03\", \"2020-02-04\", \"2020-02-05\", \"2020-02-06\", \"2020-02-07\", \"2020-02-08\", \"2020-02-09\", \"2020-02-10\", \"2020-02-11\", \"2020-02-12\", \"2020-02-13\", \"2020-02-14\", \"2020-02-15\", \"2020-02-16\", \"2020-02-17\", \"2020-02-18\", \"2020-02-19\", \"2020-02-20\", \"2020-02-21\", \"2020-02-22\", \"2020-02-23\", \"2020-02-24\", \"2020-02-25\", \"2020-02-26\", \"2020-02-27\", \"2020-02-28\", \"2020-02-29\", \"2020-03-01\", \"2020-03-02\", \"2020-03-03\", \"2020-03-04\", \"2020-03-05\", \"2020-03-06\", \"2020-03-07\", \"2020-03-08\", \"2020-03-09\", \"2020-03-10\", \"2020-03-11\", \"2020-03-12\", \"2020-03-13\", \"2020-03-14\", \"2020-03-15\", \"2020-03-16\", \"2020-03-17\", \"2020-03-18\", \"2020-03-19\", \"2020-03-20\", \"2020-03-21\", \"2020-03-22\", \"2020-03-23\", \"2020-03-24\", \"2020-03-25\", \"2020-03-26\", \"2020-03-27\", \"2020-03-28\", \"2020-03-29\", \"2020-03-30\", \"2020-03-31\", \"2020-04-01\", \"2020-04-02\", \"2020-04-03\", \"2020-04-04\", \"2020-04-05\", \"2020-04-06\", \"2020-04-07\", \"2020-04-08\", \"2020-04-09\", \"2020-04-10\", \"2020-04-11\", \"2020-04-12\", \"2020-04-13\", \"2020-04-14\", \"2020-04-15\", \"2020-04-16\", \"2020-04-17\", \"2020-04-18\", \"2020-04-19\", \"2020-04-20\", \"2020-04-21\", \"2020-04-22\", \"2020-04-23\", \"2020-04-24\", \"2020-04-25\", \"2020-04-26\", \"2020-04-27\", \"2020-04-28\", \"2020-04-29\", \"2020-04-30\", \"2020-05-01\", \"2020-05-02\", \"2020-05-03\", \"2020-05-04\", \"2020-05-05\", \"2020-05-06\", \"2020-05-07\", \"2020-05-08\", \"2020-05-09\", \"2020-05-10\", \"2020-05-11\", \"2020-05-12\", \"2020-05-13\", \"2020-05-14\", \"2020-05-15\", \"2020-05-16\", \"2020-05-17\", \"2020-05-18\", \"2020-05-19\", \"2020-05-20\", \"2020-05-21\", \"2020-05-22\", \"2020-05-23\", \"2020-05-24\", \"2020-05-25\", \"2020-05-26\", \"2020-05-27\", \"2020-05-28\", \"2020-05-29\", \"2020-05-30\", \"2020-05-31\", \"2020-06-01\", \"2020-06-02\", \"2020-06-03\"], \"y\": [0.18891674398973857, -0.019042097816936592, -0.2809627202015483, -0.5728115170383807, -0.8616706714034872, -1.1076154473766249, -1.2668238273242411, -1.2958122457338555, -1.156539241353889, -0.8219698570793581, -0.28156310377076527, 0.45395062925266066, 1.3491794203151726, 2.3427229944313996, 3.3484293693954927, 4.259640758827366, 4.956566067956135, 5.316608324055412, 5.2271287665177475, 4.5997755283386175, 3.3851784930615447, 1.5865487807394307, -0.7294425917767785, -3.4261608682721483, -6.296392003421411, -9.068794238422576, -11.422057814128497, -13.006685900959834, -13.473430528922862, -12.506451645314126, -9.85830425167485, -5.383005492808435, 0.9371906534183423, 8.975959448129505, 18.462481877657215, 29.000189688076464, 40.10715909510219, 51.278812950149955, 62.07131721306101, 72.20148047862436, 81.65628579032122, 90.80263998034371, 100.4857853346791, 112.10338272662364, 127.64188376982489, 149.66281585730727, 181.22928512186553, 225.76740603327943, 286.86320454366626, 368.0022609051979, 472.2663463118049, 602.0080245020903, 758.5301298980204, 941.8016379454408, 1150.2440404572985, 1380.6221591125263, 1628.0696721011711, 1886.2720630433334, 2147.818069146745, 2404.7150675303906, 2649.044704908288, 2873.7138226829115, 3073.2348513883708, 3244.4527622293535, 3387.1259330384883, 3504.2686636638678, 3602.1750747091337, 3690.0680969761797, 3779.3523533208445, 3882.493767209448, 4011.598451966648, 4176.814552485686, 4384.726877597268, 4636.946262903462, 4929.103678999028, 5250.436125858649, 5584.0957709962895, 5908.229797968069, 6197.775494439006, 6426.807155152978, 6571.175362165451, 6611.113494511889, 6533.468529279649, 6333.254896563617, 6014.328278770889, 5589.109052271422, 5077.420760751649, 4504.6211758422505, 3899.278550391392, 3290.6793367257796, 2706.446802386722, 2170.508549625949, 1701.5851312554432, 1312.2931408710942, 1008.8752910353901, 791.497964524879, 655.0033892619286, 589.9749992002818, 583.971040838359, 622.7978223412952, 691.7210013934587, 776.5411818284058, 864.4826125886086, 944.8602223274585, 1009.5034962373788, 1052.929242278538, 1072.271396152935, 1066.9953640127615, 1038.44546899477, 989.2928552109017, 922.96261236471, 843.1191808925273, 753.2775439813305, 656.5864191302413, 555.8023665942094, 453.4445952978789, 352.0930913550678, 254.77062589040762, 165.33456508377827, 88.7990183926501, 31.513015067353376, 1.1362928175064255, 6.379314164941229, 56.504935185240456, 160.62151164949998, 326.82707582794984, 561.288276546985, 867.3538430379233, 1244.8093341401982, 1689.3774049317858, 2192.5547317459004, 2741.8507398366287, 3321.451967804497, 3913.280043407973]}],\n",
              "                        {\"template\": {\"data\": {\"bar\": [{\"error_x\": {\"color\": \"#2a3f5f\"}, \"error_y\": {\"color\": \"#2a3f5f\"}, \"marker\": {\"line\": {\"color\": \"#E5ECF6\", \"width\": 0.5}}, \"type\": \"bar\"}], \"barpolar\": [{\"marker\": {\"line\": {\"color\": \"#E5ECF6\", \"width\": 0.5}}, \"type\": \"barpolar\"}], \"carpet\": [{\"aaxis\": {\"endlinecolor\": \"#2a3f5f\", \"gridcolor\": \"white\", \"linecolor\": \"white\", \"minorgridcolor\": \"white\", \"startlinecolor\": \"#2a3f5f\"}, \"baxis\": {\"endlinecolor\": \"#2a3f5f\", \"gridcolor\": \"white\", \"linecolor\": \"white\", \"minorgridcolor\": \"white\", \"startlinecolor\": \"#2a3f5f\"}, \"type\": \"carpet\"}], \"choropleth\": [{\"colorbar\": {\"outlinewidth\": 0, \"ticks\": \"\"}, \"type\": \"choropleth\"}], \"contour\": [{\"colorbar\": {\"outlinewidth\": 0, \"ticks\": \"\"}, \"colorscale\": [[0.0, \"#0d0887\"], [0.1111111111111111, \"#46039f\"], [0.2222222222222222, \"#7201a8\"], [0.3333333333333333, \"#9c179e\"], [0.4444444444444444, \"#bd3786\"], [0.5555555555555556, \"#d8576b\"], [0.6666666666666666, \"#ed7953\"], [0.7777777777777778, \"#fb9f3a\"], [0.8888888888888888, \"#fdca26\"], [1.0, \"#f0f921\"]], \"type\": \"contour\"}], \"contourcarpet\": [{\"colorbar\": {\"outlinewidth\": 0, \"ticks\": \"\"}, \"type\": \"contourcarpet\"}], \"heatmap\": [{\"colorbar\": {\"outlinewidth\": 0, \"ticks\": \"\"}, \"colorscale\": [[0.0, \"#0d0887\"], [0.1111111111111111, \"#46039f\"], [0.2222222222222222, \"#7201a8\"], [0.3333333333333333, \"#9c179e\"], [0.4444444444444444, \"#bd3786\"], [0.5555555555555556, \"#d8576b\"], [0.6666666666666666, \"#ed7953\"], [0.7777777777777778, \"#fb9f3a\"], [0.8888888888888888, \"#fdca26\"], [1.0, \"#f0f921\"]], \"type\": \"heatmap\"}], \"heatmapgl\": [{\"colorbar\": {\"outlinewidth\": 0, \"ticks\": \"\"}, \"colorscale\": [[0.0, \"#0d0887\"], [0.1111111111111111, \"#46039f\"], [0.2222222222222222, \"#7201a8\"], [0.3333333333333333, \"#9c179e\"], [0.4444444444444444, \"#bd3786\"], [0.5555555555555556, \"#d8576b\"], [0.6666666666666666, \"#ed7953\"], [0.7777777777777778, \"#fb9f3a\"], [0.8888888888888888, \"#fdca26\"], [1.0, \"#f0f921\"]], \"type\": \"heatmapgl\"}], \"histogram\": [{\"marker\": {\"colorbar\": {\"outlinewidth\": 0, \"ticks\": \"\"}}, \"type\": \"histogram\"}], \"histogram2d\": [{\"colorbar\": {\"outlinewidth\": 0, \"ticks\": \"\"}, \"colorscale\": [[0.0, \"#0d0887\"], [0.1111111111111111, \"#46039f\"], [0.2222222222222222, \"#7201a8\"], [0.3333333333333333, \"#9c179e\"], [0.4444444444444444, \"#bd3786\"], [0.5555555555555556, \"#d8576b\"], [0.6666666666666666, \"#ed7953\"], [0.7777777777777778, \"#fb9f3a\"], [0.8888888888888888, \"#fdca26\"], [1.0, \"#f0f921\"]], \"type\": \"histogram2d\"}], \"histogram2dcontour\": [{\"colorbar\": {\"outlinewidth\": 0, \"ticks\": \"\"}, \"colorscale\": [[0.0, \"#0d0887\"], [0.1111111111111111, \"#46039f\"], [0.2222222222222222, \"#7201a8\"], [0.3333333333333333, \"#9c179e\"], [0.4444444444444444, \"#bd3786\"], [0.5555555555555556, \"#d8576b\"], [0.6666666666666666, \"#ed7953\"], [0.7777777777777778, \"#fb9f3a\"], [0.8888888888888888, \"#fdca26\"], [1.0, \"#f0f921\"]], \"type\": \"histogram2dcontour\"}], \"mesh3d\": [{\"colorbar\": {\"outlinewidth\": 0, \"ticks\": \"\"}, \"type\": \"mesh3d\"}], \"parcoords\": [{\"line\": {\"colorbar\": {\"outlinewidth\": 0, \"ticks\": \"\"}}, \"type\": \"parcoords\"}], \"pie\": [{\"automargin\": true, \"type\": \"pie\"}], \"scatter\": [{\"marker\": {\"colorbar\": {\"outlinewidth\": 0, \"ticks\": \"\"}}, \"type\": \"scatter\"}], \"scatter3d\": [{\"line\": {\"colorbar\": {\"outlinewidth\": 0, \"ticks\": \"\"}}, \"marker\": {\"colorbar\": {\"outlinewidth\": 0, \"ticks\": \"\"}}, \"type\": \"scatter3d\"}], \"scattercarpet\": [{\"marker\": {\"colorbar\": {\"outlinewidth\": 0, \"ticks\": \"\"}}, \"type\": \"scattercarpet\"}], \"scattergeo\": [{\"marker\": {\"colorbar\": {\"outlinewidth\": 0, \"ticks\": \"\"}}, \"type\": \"scattergeo\"}], \"scattergl\": [{\"marker\": {\"colorbar\": {\"outlinewidth\": 0, \"ticks\": \"\"}}, \"type\": \"scattergl\"}], \"scattermapbox\": [{\"marker\": {\"colorbar\": {\"outlinewidth\": 0, \"ticks\": \"\"}}, \"type\": \"scattermapbox\"}], \"scatterpolar\": [{\"marker\": {\"colorbar\": {\"outlinewidth\": 0, \"ticks\": \"\"}}, \"type\": \"scatterpolar\"}], \"scatterpolargl\": [{\"marker\": {\"colorbar\": {\"outlinewidth\": 0, \"ticks\": \"\"}}, \"type\": \"scatterpolargl\"}], \"scatterternary\": [{\"marker\": {\"colorbar\": {\"outlinewidth\": 0, \"ticks\": \"\"}}, \"type\": \"scatterternary\"}], \"surface\": [{\"colorbar\": {\"outlinewidth\": 0, \"ticks\": \"\"}, \"colorscale\": [[0.0, \"#0d0887\"], [0.1111111111111111, \"#46039f\"], [0.2222222222222222, \"#7201a8\"], [0.3333333333333333, \"#9c179e\"], [0.4444444444444444, \"#bd3786\"], [0.5555555555555556, \"#d8576b\"], [0.6666666666666666, \"#ed7953\"], [0.7777777777777778, \"#fb9f3a\"], [0.8888888888888888, \"#fdca26\"], [1.0, \"#f0f921\"]], \"type\": \"surface\"}], \"table\": [{\"cells\": {\"fill\": {\"color\": \"#EBF0F8\"}, \"line\": {\"color\": \"white\"}}, \"header\": {\"fill\": {\"color\": \"#C8D4E3\"}, \"line\": {\"color\": \"white\"}}, \"type\": \"table\"}]}, \"layout\": {\"annotationdefaults\": {\"arrowcolor\": \"#2a3f5f\", \"arrowhead\": 0, \"arrowwidth\": 1}, \"coloraxis\": {\"colorbar\": {\"outlinewidth\": 0, \"ticks\": \"\"}}, \"colorscale\": {\"diverging\": [[0, \"#8e0152\"], [0.1, \"#c51b7d\"], [0.2, \"#de77ae\"], [0.3, \"#f1b6da\"], [0.4, \"#fde0ef\"], [0.5, \"#f7f7f7\"], [0.6, \"#e6f5d0\"], [0.7, \"#b8e186\"], [0.8, \"#7fbc41\"], [0.9, \"#4d9221\"], [1, \"#276419\"]], \"sequential\": [[0.0, \"#0d0887\"], [0.1111111111111111, \"#46039f\"], [0.2222222222222222, \"#7201a8\"], [0.3333333333333333, \"#9c179e\"], [0.4444444444444444, \"#bd3786\"], [0.5555555555555556, \"#d8576b\"], [0.6666666666666666, \"#ed7953\"], [0.7777777777777778, \"#fb9f3a\"], [0.8888888888888888, \"#fdca26\"], [1.0, \"#f0f921\"]], \"sequentialminus\": [[0.0, \"#0d0887\"], [0.1111111111111111, \"#46039f\"], [0.2222222222222222, \"#7201a8\"], [0.3333333333333333, \"#9c179e\"], [0.4444444444444444, \"#bd3786\"], [0.5555555555555556, \"#d8576b\"], [0.6666666666666666, \"#ed7953\"], [0.7777777777777778, \"#fb9f3a\"], [0.8888888888888888, \"#fdca26\"], [1.0, \"#f0f921\"]]}, \"colorway\": [\"#636efa\", \"#EF553B\", \"#00cc96\", \"#ab63fa\", \"#FFA15A\", \"#19d3f3\", \"#FF6692\", \"#B6E880\", \"#FF97FF\", \"#FECB52\"], \"font\": {\"color\": \"#2a3f5f\"}, \"geo\": {\"bgcolor\": \"white\", \"lakecolor\": \"white\", \"landcolor\": \"#E5ECF6\", \"showlakes\": true, \"showland\": true, \"subunitcolor\": \"white\"}, \"hoverlabel\": {\"align\": \"left\"}, \"hovermode\": \"closest\", \"mapbox\": {\"style\": \"light\"}, \"paper_bgcolor\": \"white\", \"plot_bgcolor\": \"#E5ECF6\", \"polar\": {\"angularaxis\": {\"gridcolor\": \"white\", \"linecolor\": \"white\", \"ticks\": \"\"}, \"bgcolor\": \"#E5ECF6\", \"radialaxis\": {\"gridcolor\": \"white\", \"linecolor\": \"white\", \"ticks\": \"\"}}, \"scene\": {\"xaxis\": {\"backgroundcolor\": \"#E5ECF6\", \"gridcolor\": \"white\", \"gridwidth\": 2, \"linecolor\": \"white\", \"showbackground\": true, \"ticks\": \"\", \"zerolinecolor\": \"white\"}, \"yaxis\": {\"backgroundcolor\": \"#E5ECF6\", \"gridcolor\": \"white\", \"gridwidth\": 2, \"linecolor\": \"white\", \"showbackground\": true, \"ticks\": \"\", \"zerolinecolor\": \"white\"}, \"zaxis\": {\"backgroundcolor\": \"#E5ECF6\", \"gridcolor\": \"white\", \"gridwidth\": 2, \"linecolor\": \"white\", \"showbackground\": true, \"ticks\": \"\", \"zerolinecolor\": \"white\"}}, \"shapedefaults\": {\"line\": {\"color\": \"#2a3f5f\"}}, \"ternary\": {\"aaxis\": {\"gridcolor\": \"white\", \"linecolor\": \"white\", \"ticks\": \"\"}, \"baxis\": {\"gridcolor\": \"white\", \"linecolor\": \"white\", \"ticks\": \"\"}, \"bgcolor\": \"#E5ECF6\", \"caxis\": {\"gridcolor\": \"white\", \"linecolor\": \"white\", \"ticks\": \"\"}}, \"title\": {\"x\": 0.05}, \"xaxis\": {\"automargin\": true, \"gridcolor\": \"white\", \"linecolor\": \"white\", \"ticks\": \"\", \"title\": {\"standoff\": 15}, \"zerolinecolor\": \"white\", \"zerolinewidth\": 2}, \"yaxis\": {\"automargin\": true, \"gridcolor\": \"white\", \"linecolor\": \"white\", \"ticks\": \"\", \"title\": {\"standoff\": 15}, \"zerolinecolor\": \"white\", \"zerolinewidth\": 2}}}, \"title\": {\"text\": \"$\\\\text{France: Actual } I_{pd} \\\\text{ vs. convolution of deconvolution of } I_{pd}$\", \"x\": 0.5, \"xanchor\": \"center\"}, \"xaxis\": {\"title\": {\"text\": \"Day\"}}, \"yaxis\": {\"title\": {\"text\": \"Count\"}}},\n",
              "                        {\"responsive\": true}\n",
              "                    ).then(function(){\n",
              "                            \n",
              "var gd = document.getElementById('15d0b254-48d1-428e-b10b-14b546c997cd');\n",
              "var x = new MutationObserver(function (mutations, observer) {{\n",
              "        var display = window.getComputedStyle(gd).display;\n",
              "        if (!display || display === 'none') {{\n",
              "            console.log([gd, 'removed!']);\n",
              "            Plotly.purge(gd);\n",
              "            observer.disconnect();\n",
              "        }}\n",
              "}});\n",
              "\n",
              "// Listen for the removal of the full notebook cells\n",
              "var notebookContainer = gd.closest('#notebook-container');\n",
              "if (notebookContainer) {{\n",
              "    x.observe(notebookContainer, {childList: true});\n",
              "}}\n",
              "\n",
              "// Listen for the clearing of the current output cell\n",
              "var outputEl = gd.closest('.output');\n",
              "if (outputEl) {{\n",
              "    x.observe(outputEl, {childList: true});\n",
              "}}\n",
              "\n",
              "                        })\n",
              "                };\n",
              "                \n",
              "            </script>\n",
              "        </div>\n",
              "</body>\n",
              "</html>"
            ]
          },
          "metadata": {
            "tags": []
          }
        }
      ]
    },
    {
      "cell_type": "markdown",
      "metadata": {
        "colab_type": "text",
        "id": "Q0chdEy5ptsz"
      },
      "source": [
        "#### 3. $\\beta$ and $R$ from $E_{pd}$ and $I$\n",
        "\n",
        "As described above:\n",
        "$$\\beta = \\frac{N~E_{pd}}{S~I}$$ and if $S$~$N$, then $$\\beta = \\frac{E_{pd}}{I}$$\n",
        "It is easier to simply say :\n",
        "$$R = \\frac{E_{pd}}{\\gamma~I}$$"
      ]
    },
    {
      "cell_type": "code",
      "metadata": {
        "colab_type": "code",
        "outputId": "7428c70b-ffa3-4e63-cbc9-a7e25fbf0427",
        "id": "YayH9E9qptsz",
        "colab": {
          "base_uri": "https://localhost:8080/",
          "height": 542
        }
      },
      "source": [
        "#collapse_hide\n",
        "\n",
        "# Calculate R\n",
        "gam = 1/20.11 # As we say gamma is 1/20.11\n",
        "R = Enext[:len(inf_df.loc['France'])]*(1/gam)/inf_df.loc['France']\n",
        "\n",
        "fig = go.Figure(data=[    \n",
        "    go.Scatter(name='R', x=inf_df.loc['France'].index, y=R),\n",
        "    go.Scatter(name='Epd=deconv(Ipd)', x=inf_df.loc['France'].index, y=Enext),\n",
        "    go.Scatter(name='Inf', x=inf_df.loc['France'].index, y=inf_df.loc['France']),\n",
        "])\n",
        "\n",
        "fig.update_layout(\n",
        "    \n",
        "    xaxis_title = 'Day',\n",
        "    yaxis_title = 'R',\n",
        "    title={\n",
        "        'text':r'$\\text{France: R }$',\n",
        "        'x':0.5,\n",
        "        'xanchor':'center'\n",
        "    }\n",
        ")\n",
        "\n",
        "fig.show()"
      ],
      "execution_count": 263,
      "outputs": [
        {
          "output_type": "display_data",
          "data": {
            "text/html": [
              "<html>\n",
              "<head><meta charset=\"utf-8\" /></head>\n",
              "<body>\n",
              "    <div>\n",
              "            <script src=\"https://cdnjs.cloudflare.com/ajax/libs/mathjax/2.7.5/MathJax.js?config=TeX-AMS-MML_SVG\"></script><script type=\"text/javascript\">if (window.MathJax) {MathJax.Hub.Config({SVG: {font: \"STIX-Web\"}});}</script>\n",
              "                <script type=\"text/javascript\">window.PlotlyConfig = {MathJaxConfig: 'local'};</script>\n",
              "        <script src=\"https://cdn.plot.ly/plotly-latest.min.js\"></script>    \n",
              "            <div id=\"2bbaf04e-ead6-48af-a9a7-35cedec1a528\" class=\"plotly-graph-div\" style=\"height:525px; width:100%;\"></div>\n",
              "            <script type=\"text/javascript\">\n",
              "                \n",
              "                    window.PLOTLYENV=window.PLOTLYENV || {};\n",
              "                    \n",
              "                if (document.getElementById(\"2bbaf04e-ead6-48af-a9a7-35cedec1a528\")) {\n",
              "                    Plotly.newPlot(\n",
              "                        '2bbaf04e-ead6-48af-a9a7-35cedec1a528',\n",
              "                        [{\"name\": \"R\", \"type\": \"scatter\", \"x\": [\"2020-01-22\", \"2020-01-23\", \"2020-01-24\", \"2020-01-25\", \"2020-01-26\", \"2020-01-27\", \"2020-01-28\", \"2020-01-29\", \"2020-01-30\", \"2020-01-31\", \"2020-02-01\", \"2020-02-02\", \"2020-02-03\", \"2020-02-04\", \"2020-02-05\", \"2020-02-06\", \"2020-02-07\", \"2020-02-08\", \"2020-02-09\", \"2020-02-10\", \"2020-02-11\", \"2020-02-12\", \"2020-02-13\", \"2020-02-14\", \"2020-02-15\", \"2020-02-16\", \"2020-02-17\", \"2020-02-18\", \"2020-02-19\", \"2020-02-20\", \"2020-02-21\", \"2020-02-22\", \"2020-02-23\", \"2020-02-24\", \"2020-02-25\", \"2020-02-26\", \"2020-02-27\", \"2020-02-28\", \"2020-02-29\", \"2020-03-01\", \"2020-03-02\", \"2020-03-03\", \"2020-03-04\", \"2020-03-05\", \"2020-03-06\", \"2020-03-07\", \"2020-03-08\", \"2020-03-09\", \"2020-03-10\", \"2020-03-11\", \"2020-03-12\", \"2020-03-13\", \"2020-03-14\", \"2020-03-15\", \"2020-03-16\", \"2020-03-17\", \"2020-03-18\", \"2020-03-19\", \"2020-03-20\", \"2020-03-21\", \"2020-03-22\", \"2020-03-23\", \"2020-03-24\", \"2020-03-25\", \"2020-03-26\", \"2020-03-27\", \"2020-03-28\", \"2020-03-29\", \"2020-03-30\", \"2020-03-31\", \"2020-04-01\", \"2020-04-02\", \"2020-04-03\", \"2020-04-04\", \"2020-04-05\", \"2020-04-06\", \"2020-04-07\", \"2020-04-08\", \"2020-04-09\", \"2020-04-10\", \"2020-04-11\", \"2020-04-12\", \"2020-04-13\", \"2020-04-14\", \"2020-04-15\", \"2020-04-16\", \"2020-04-17\", \"2020-04-18\", \"2020-04-19\", \"2020-04-20\", \"2020-04-21\", \"2020-04-22\", \"2020-04-23\", \"2020-04-24\", \"2020-04-25\", \"2020-04-26\", \"2020-04-27\", \"2020-04-28\", \"2020-04-29\", \"2020-04-30\", \"2020-05-01\", \"2020-05-02\", \"2020-05-03\", \"2020-05-04\", \"2020-05-05\", \"2020-05-06\", \"2020-05-07\", \"2020-05-08\", \"2020-05-09\", \"2020-05-10\", \"2020-05-11\", \"2020-05-12\", \"2020-05-13\", \"2020-05-14\", \"2020-05-15\", \"2020-05-16\", \"2020-05-17\", \"2020-05-18\", \"2020-05-19\", \"2020-05-20\", \"2020-05-21\", \"2020-05-22\", \"2020-05-23\", \"2020-05-24\", \"2020-05-25\", \"2020-05-26\", \"2020-05-27\", \"2020-05-28\", \"2020-05-29\", \"2020-05-30\", \"2020-05-31\", \"2020-06-01\", \"2020-06-02\", \"2020-06-03\"], \"y\": [null, null, 0.0, 13.406666666666666, 33.516666666666666, 46.923333333333325, 50.275, 48.263999999999996, 52.286, 52.286, 36.86833333333333, 26.813333333333333, 10.055, 0.0, 0.0, 0.0, 0.0, 0.0, 0.0, 0.0, 0.0, 0.0, 0.0, 0.0, 17.237142857142857, 68.94857142857143, 126.40571428571427, 178.11714285714285, 224.08285714285714, 261.43, 278.66714285714284, 278.66714285714284, 258.5571428571428, 221.21, 593.245, 156.858, 16.088, 3.6563636363636363, 1.8706976744186046, 4.507413793103448, 7.769772727272727, 14.868563829787234, 17.965919117647058, 21.276602209944752, 17.7348031496063, 16.607938034188034, 18.50847963800905, 21.802760942760944, 18.132344196683817, 16.885915808329603, 19.551639050604567, 13.752103064066851, 12.442290006829046, 13.403639647776021, 9.718908310334253, 8.827741593857558, 7.7294376882740154, 6.655783087549001, 5.929137860919073, 5.351854838709677, 5.674328268842152, 4.552606860158311, 4.385234811165845, 4.096079076620825, 3.8282596733339154, 3.6177340649077747, 3.300383847791378, 3.443408376793754, 3.331660229400749, 3.0557777386757827, 3.048699210065749, 3.22512993354453, 3.154164590208095, 3.1010544936790785, 3.0809359165424737, 2.9207097511686295, 2.813531655070288, 2.5935468669900232, 2.3544931851135815, 2.0582129462946295, 1.764236324495391, 1.0116591299119388, 0.7889576128241532, 0.5747454822961936, 0.40261885538432735, 0.2183095415403656, 0.09570040323854244, 0.0, 0.0, 0.0, 0.0, 0.0, 0.0, 0.0, 0.0, 0.05365051133837261, 0.11570794820594107, 0.17373517826687243, 0.23647524542318918, 0.28299997859680665, 0.3169907887908666, 0.3307309972930005, 0.3303446424736955, 0.3153856172567086, 0.28713632621224594, 0.23897586210551977, 0.18879204583035514, 0.1301804904493128, 0.06886621219028637, 0.008522630954399051, 0.0, 0.0, 0.0, 0.0, 0.0, 0.0, 0.0, 0.0, 0.0, 0.0872765919660795, 0.19066602047751152, 0.30388544046358723, 0.4230781323165429, 0.543798602740949, 0.66260073916452, 0.7791978894210627, 0.8817621983883652, 0.9346400044252683, 0.9965347510660686, 1.0240309197309807, 1.0454981413044664, 1.0490861735215433, 1.0561541009306998, 1.0004259972475007]}, {\"name\": \"Epd=deconv(Ipd)\", \"type\": \"scatter\", \"x\": [\"2020-01-22\", \"2020-01-23\", \"2020-01-24\", \"2020-01-25\", \"2020-01-26\", \"2020-01-27\", \"2020-01-28\", \"2020-01-29\", \"2020-01-30\", \"2020-01-31\", \"2020-02-01\", \"2020-02-02\", \"2020-02-03\", \"2020-02-04\", \"2020-02-05\", \"2020-02-06\", \"2020-02-07\", \"2020-02-08\", \"2020-02-09\", \"2020-02-10\", \"2020-02-11\", \"2020-02-12\", \"2020-02-13\", \"2020-02-14\", \"2020-02-15\", \"2020-02-16\", \"2020-02-17\", \"2020-02-18\", \"2020-02-19\", \"2020-02-20\", \"2020-02-21\", \"2020-02-22\", \"2020-02-23\", \"2020-02-24\", \"2020-02-25\", \"2020-02-26\", \"2020-02-27\", \"2020-02-28\", \"2020-02-29\", \"2020-03-01\", \"2020-03-02\", \"2020-03-03\", \"2020-03-04\", \"2020-03-05\", \"2020-03-06\", \"2020-03-07\", \"2020-03-08\", \"2020-03-09\", \"2020-03-10\", \"2020-03-11\", \"2020-03-12\", \"2020-03-13\", \"2020-03-14\", \"2020-03-15\", \"2020-03-16\", \"2020-03-17\", \"2020-03-18\", \"2020-03-19\", \"2020-03-20\", \"2020-03-21\", \"2020-03-22\", \"2020-03-23\", \"2020-03-24\", \"2020-03-25\", \"2020-03-26\", \"2020-03-27\", \"2020-03-28\", \"2020-03-29\", \"2020-03-30\", \"2020-03-31\", \"2020-04-01\", \"2020-04-02\", \"2020-04-03\", \"2020-04-04\", \"2020-04-05\", \"2020-04-06\", \"2020-04-07\", \"2020-04-08\", \"2020-04-09\", \"2020-04-10\", \"2020-04-11\", \"2020-04-12\", \"2020-04-13\", \"2020-04-14\", \"2020-04-15\", \"2020-04-16\", \"2020-04-17\", \"2020-04-18\", \"2020-04-19\", \"2020-04-20\", \"2020-04-21\", \"2020-04-22\", \"2020-04-23\", \"2020-04-24\", \"2020-04-25\", \"2020-04-26\", \"2020-04-27\", \"2020-04-28\", \"2020-04-29\", \"2020-04-30\", \"2020-05-01\", \"2020-05-02\", \"2020-05-03\", \"2020-05-04\", \"2020-05-05\", \"2020-05-06\", \"2020-05-07\", \"2020-05-08\", \"2020-05-09\", \"2020-05-10\", \"2020-05-11\", \"2020-05-12\", \"2020-05-13\", \"2020-05-14\", \"2020-05-15\", \"2020-05-16\", \"2020-05-17\", \"2020-05-18\", \"2020-05-19\", \"2020-05-20\", \"2020-05-21\", \"2020-05-22\", \"2020-05-23\", \"2020-05-24\", \"2020-05-25\", \"2020-05-26\", \"2020-05-27\", \"2020-05-28\", \"2020-05-29\", \"2020-05-30\", \"2020-05-31\", \"2020-06-01\", \"2020-06-02\", \"2020-06-03\"], \"y\": [0.0, 0.0, 0.0, 2.0, 5.0, 7.0, 10.0, 12.0, 13.0, 13.0, 11.0, 8.0, 3.0, 0.0, 0.0, 0.0, 0.0, 0.0, 0.0, 0.0, 0.0, 0.0, 0.0, 0.0, 6.0, 24.0, 44.0, 62.0, 78.0, 91.0, 97.0, 97.0, 90.0, 77.0, 59.0, 39.0, 20.0, 8.0, 8.0, 26.0, 68.0, 139.0, 243.0, 383.0, 560.0, 773.0, 1017.0, 1288.0, 1577.0, 1875.0, 2171.0, 2455.0, 2718.0, 2952.0, 3152.0, 3316.0, 3445.0, 3546.0, 3625.0, 3696.0, 3770.0, 3861.0, 3984.0, 4147.0, 4359.0, 4623.0, 4934.0, 5286.0, 5662.0, 6045.0, 6410.0, 6733.0, 6987.0, 7148.0, 7196.0, 7115.0, 6897.0, 6541.0, 6056.0, 5458.0, 4768.0, 4016.0, 3233.0, 2453.0, 1711.0, 1035.0, 452.0, 0.0, 0.0, 0.0, 0.0, 0.0, 0.0, 0.0, 0.0, 252.0, 559.0, 851.0, 1108.0, 1315.0, 1458.0, 1531.0, 1530.0, 1457.0, 1318.0, 1121.0, 880.0, 609.0, 323.0, 40.0, 0.0, 0.0, 0.0, 0.0, 0.0, 0.0, 0.0, 0.0, 0.0, 391.0, 851.0, 1356.0, 1887.0, 2423.0, 2942.0, 3422.0, 3847.0, 4201.0, 4474.0, 4664.0, 4769.0, 4797.0, 4757.0, 4663.0, 4530.0, 4373.0, 4209.0, 4050.0, 3909.0, 3793.0, 3707.0, 3655.0, 3633.0, 3640.0, 3670.0, 3716.0, 3772.0, 3832.0, 3889.0, 3940.0, 3980.0, 4008.0, 4024.0, 4027.0, 4020.0, 4004.0, 3983.0, 3959.0, 3935.0, 3912.0, 3893.0, 3878.0, 3869.0, 3865.0, 3865.0, 3870.0, 3877.0, 3886.0, 3896.0, 3906.0, 3915.0, 3922.0, 3928.0, 3932.0, 3933.0, 3934.0, 3932.0, 3930.0, 3928.0, 3924.0, 3921.0, 3917.0, 3914.0, 3910.0, 3907.0, 3903.0, 3900.0, 3897.0, 3894.0, 3892.0, 3892.0, 3892.0, 3895.0, 3900.0, 3907.0, 3915.0, 3926.0, 3937.0, 3948.0, 3958.0, 3965.0, 3968.0, 3966.0, 3958.0, 3944.0, 3923.0, 3897.0, 3867.0, 3836.0, 3808.0, 3785.0, 3772.0, 3773.0, 3789.0, 3823.0, 3875.0, 3943.0, 4022.0, 4107.0, 4187.0, 4253.0, 4292.0, 4291.0, 4237.0, 4120.0, 3931.0, 3662.0, 3314.0, 2887.0, 2389.0, 1831.0, 1228.0, 596.0, 0.0]}, {\"name\": \"Inf\", \"type\": \"scatter\", \"x\": [\"2020-01-22\", \"2020-01-23\", \"2020-01-24\", \"2020-01-25\", \"2020-01-26\", \"2020-01-27\", \"2020-01-28\", \"2020-01-29\", \"2020-01-30\", \"2020-01-31\", \"2020-02-01\", \"2020-02-02\", \"2020-02-03\", \"2020-02-04\", \"2020-02-05\", \"2020-02-06\", \"2020-02-07\", \"2020-02-08\", \"2020-02-09\", \"2020-02-10\", \"2020-02-11\", \"2020-02-12\", \"2020-02-13\", \"2020-02-14\", \"2020-02-15\", \"2020-02-16\", \"2020-02-17\", \"2020-02-18\", \"2020-02-19\", \"2020-02-20\", \"2020-02-21\", \"2020-02-22\", \"2020-02-23\", \"2020-02-24\", \"2020-02-25\", \"2020-02-26\", \"2020-02-27\", \"2020-02-28\", \"2020-02-29\", \"2020-03-01\", \"2020-03-02\", \"2020-03-03\", \"2020-03-04\", \"2020-03-05\", \"2020-03-06\", \"2020-03-07\", \"2020-03-08\", \"2020-03-09\", \"2020-03-10\", \"2020-03-11\", \"2020-03-12\", \"2020-03-13\", \"2020-03-14\", \"2020-03-15\", \"2020-03-16\", \"2020-03-17\", \"2020-03-18\", \"2020-03-19\", \"2020-03-20\", \"2020-03-21\", \"2020-03-22\", \"2020-03-23\", \"2020-03-24\", \"2020-03-25\", \"2020-03-26\", \"2020-03-27\", \"2020-03-28\", \"2020-03-29\", \"2020-03-30\", \"2020-03-31\", \"2020-04-01\", \"2020-04-02\", \"2020-04-03\", \"2020-04-04\", \"2020-04-05\", \"2020-04-06\", \"2020-04-07\", \"2020-04-08\", \"2020-04-09\", \"2020-04-10\", \"2020-04-11\", \"2020-04-12\", \"2020-04-13\", \"2020-04-14\", \"2020-04-15\", \"2020-04-16\", \"2020-04-17\", \"2020-04-18\", \"2020-04-19\", \"2020-04-20\", \"2020-04-21\", \"2020-04-22\", \"2020-04-23\", \"2020-04-24\", \"2020-04-25\", \"2020-04-26\", \"2020-04-27\", \"2020-04-28\", \"2020-04-29\", \"2020-04-30\", \"2020-05-01\", \"2020-05-02\", \"2020-05-03\", \"2020-05-04\", \"2020-05-05\", \"2020-05-06\", \"2020-05-07\", \"2020-05-08\", \"2020-05-09\", \"2020-05-10\", \"2020-05-11\", \"2020-05-12\", \"2020-05-13\", \"2020-05-14\", \"2020-05-15\", \"2020-05-16\", \"2020-05-17\", \"2020-05-18\", \"2020-05-19\", \"2020-05-20\", \"2020-05-21\", \"2020-05-22\", \"2020-05-23\", \"2020-05-24\", \"2020-05-25\", \"2020-05-26\", \"2020-05-27\", \"2020-05-28\", \"2020-05-29\", \"2020-05-30\", \"2020-05-31\", \"2020-06-01\", \"2020-06-02\", \"2020-06-03\"], \"y\": [0, 0, 2, 3, 3, 3, 4, 5, 5, 5, 6, 6, 6, 6, 6, 6, 6, 11, 11, 11, 11, 9, 9, 9, 7, 7, 7, 7, 7, 7, 7, 7, 7, 7, 2, 5, 25, 44, 86, 116, 176, 188, 272, 362, 635, 936, 1105, 1188, 1749, 2233, 2233, 3590, 4393, 4429, 6522, 7554, 8963, 10714, 12295, 13888, 13361, 17055, 18270, 20360, 22898, 25698, 30064, 30871, 34176, 39782, 42282, 41983, 44547, 46354, 46970, 48989, 49297, 50718, 51725, 53328, 54349, 79831, 82407, 85829, 85461, 95341, 94981, 92778, 96713, 97717, 98189, 93981, 94357, 94211, 94433, 94458, 97154, 98504, 94225, 93444, 92496, 93092, 93140, 92903, 92308, 94333, 93737, 94077, 94321, 94384, 94066, 93457, 92321, 91847, 91536, 91536, 90255, 89966, 90230, 90093, 89757, 89735, 89694, 89604, 89290, 88317, 87737, 90390, 90285, 91592, 91731, 91954, 90577, 93733]}],\n",
              "                        {\"template\": {\"data\": {\"bar\": [{\"error_x\": {\"color\": \"#2a3f5f\"}, \"error_y\": {\"color\": \"#2a3f5f\"}, \"marker\": {\"line\": {\"color\": \"#E5ECF6\", \"width\": 0.5}}, \"type\": \"bar\"}], \"barpolar\": [{\"marker\": {\"line\": {\"color\": \"#E5ECF6\", \"width\": 0.5}}, \"type\": \"barpolar\"}], \"carpet\": [{\"aaxis\": {\"endlinecolor\": \"#2a3f5f\", \"gridcolor\": \"white\", \"linecolor\": \"white\", \"minorgridcolor\": \"white\", \"startlinecolor\": \"#2a3f5f\"}, \"baxis\": {\"endlinecolor\": \"#2a3f5f\", \"gridcolor\": \"white\", \"linecolor\": \"white\", \"minorgridcolor\": \"white\", \"startlinecolor\": \"#2a3f5f\"}, \"type\": \"carpet\"}], \"choropleth\": [{\"colorbar\": {\"outlinewidth\": 0, \"ticks\": \"\"}, \"type\": \"choropleth\"}], \"contour\": [{\"colorbar\": {\"outlinewidth\": 0, \"ticks\": \"\"}, \"colorscale\": [[0.0, \"#0d0887\"], [0.1111111111111111, \"#46039f\"], [0.2222222222222222, \"#7201a8\"], [0.3333333333333333, \"#9c179e\"], [0.4444444444444444, \"#bd3786\"], [0.5555555555555556, \"#d8576b\"], [0.6666666666666666, \"#ed7953\"], [0.7777777777777778, \"#fb9f3a\"], [0.8888888888888888, \"#fdca26\"], [1.0, \"#f0f921\"]], \"type\": \"contour\"}], \"contourcarpet\": [{\"colorbar\": {\"outlinewidth\": 0, \"ticks\": \"\"}, \"type\": \"contourcarpet\"}], \"heatmap\": [{\"colorbar\": {\"outlinewidth\": 0, \"ticks\": \"\"}, \"colorscale\": [[0.0, \"#0d0887\"], [0.1111111111111111, \"#46039f\"], [0.2222222222222222, \"#7201a8\"], [0.3333333333333333, \"#9c179e\"], [0.4444444444444444, \"#bd3786\"], [0.5555555555555556, \"#d8576b\"], [0.6666666666666666, \"#ed7953\"], [0.7777777777777778, \"#fb9f3a\"], [0.8888888888888888, \"#fdca26\"], [1.0, \"#f0f921\"]], \"type\": \"heatmap\"}], \"heatmapgl\": [{\"colorbar\": {\"outlinewidth\": 0, \"ticks\": \"\"}, \"colorscale\": [[0.0, \"#0d0887\"], [0.1111111111111111, \"#46039f\"], [0.2222222222222222, \"#7201a8\"], [0.3333333333333333, \"#9c179e\"], [0.4444444444444444, \"#bd3786\"], [0.5555555555555556, \"#d8576b\"], [0.6666666666666666, \"#ed7953\"], [0.7777777777777778, \"#fb9f3a\"], [0.8888888888888888, \"#fdca26\"], [1.0, \"#f0f921\"]], \"type\": \"heatmapgl\"}], \"histogram\": [{\"marker\": {\"colorbar\": {\"outlinewidth\": 0, \"ticks\": \"\"}}, \"type\": \"histogram\"}], \"histogram2d\": [{\"colorbar\": {\"outlinewidth\": 0, \"ticks\": \"\"}, \"colorscale\": [[0.0, \"#0d0887\"], [0.1111111111111111, \"#46039f\"], [0.2222222222222222, \"#7201a8\"], [0.3333333333333333, \"#9c179e\"], [0.4444444444444444, \"#bd3786\"], [0.5555555555555556, \"#d8576b\"], [0.6666666666666666, \"#ed7953\"], [0.7777777777777778, \"#fb9f3a\"], [0.8888888888888888, \"#fdca26\"], [1.0, \"#f0f921\"]], \"type\": \"histogram2d\"}], \"histogram2dcontour\": [{\"colorbar\": {\"outlinewidth\": 0, \"ticks\": \"\"}, \"colorscale\": [[0.0, \"#0d0887\"], [0.1111111111111111, \"#46039f\"], [0.2222222222222222, \"#7201a8\"], [0.3333333333333333, \"#9c179e\"], [0.4444444444444444, \"#bd3786\"], [0.5555555555555556, \"#d8576b\"], [0.6666666666666666, \"#ed7953\"], [0.7777777777777778, \"#fb9f3a\"], [0.8888888888888888, \"#fdca26\"], [1.0, \"#f0f921\"]], \"type\": \"histogram2dcontour\"}], \"mesh3d\": [{\"colorbar\": {\"outlinewidth\": 0, \"ticks\": \"\"}, \"type\": \"mesh3d\"}], \"parcoords\": [{\"line\": {\"colorbar\": {\"outlinewidth\": 0, \"ticks\": \"\"}}, \"type\": \"parcoords\"}], \"pie\": [{\"automargin\": true, \"type\": \"pie\"}], \"scatter\": [{\"marker\": {\"colorbar\": {\"outlinewidth\": 0, \"ticks\": \"\"}}, \"type\": \"scatter\"}], \"scatter3d\": [{\"line\": {\"colorbar\": {\"outlinewidth\": 0, \"ticks\": \"\"}}, \"marker\": {\"colorbar\": {\"outlinewidth\": 0, \"ticks\": \"\"}}, \"type\": \"scatter3d\"}], \"scattercarpet\": [{\"marker\": {\"colorbar\": {\"outlinewidth\": 0, \"ticks\": \"\"}}, \"type\": \"scattercarpet\"}], \"scattergeo\": [{\"marker\": {\"colorbar\": {\"outlinewidth\": 0, \"ticks\": \"\"}}, \"type\": \"scattergeo\"}], \"scattergl\": [{\"marker\": {\"colorbar\": {\"outlinewidth\": 0, \"ticks\": \"\"}}, \"type\": \"scattergl\"}], \"scattermapbox\": [{\"marker\": {\"colorbar\": {\"outlinewidth\": 0, \"ticks\": \"\"}}, \"type\": \"scattermapbox\"}], \"scatterpolar\": [{\"marker\": {\"colorbar\": {\"outlinewidth\": 0, \"ticks\": \"\"}}, \"type\": \"scatterpolar\"}], \"scatterpolargl\": [{\"marker\": {\"colorbar\": {\"outlinewidth\": 0, \"ticks\": \"\"}}, \"type\": \"scatterpolargl\"}], \"scatterternary\": [{\"marker\": {\"colorbar\": {\"outlinewidth\": 0, \"ticks\": \"\"}}, \"type\": \"scatterternary\"}], \"surface\": [{\"colorbar\": {\"outlinewidth\": 0, \"ticks\": \"\"}, \"colorscale\": [[0.0, \"#0d0887\"], [0.1111111111111111, \"#46039f\"], [0.2222222222222222, \"#7201a8\"], [0.3333333333333333, \"#9c179e\"], [0.4444444444444444, \"#bd3786\"], [0.5555555555555556, \"#d8576b\"], [0.6666666666666666, \"#ed7953\"], [0.7777777777777778, \"#fb9f3a\"], [0.8888888888888888, \"#fdca26\"], [1.0, \"#f0f921\"]], \"type\": \"surface\"}], \"table\": [{\"cells\": {\"fill\": {\"color\": \"#EBF0F8\"}, \"line\": {\"color\": \"white\"}}, \"header\": {\"fill\": {\"color\": \"#C8D4E3\"}, \"line\": {\"color\": \"white\"}}, \"type\": \"table\"}]}, \"layout\": {\"annotationdefaults\": {\"arrowcolor\": \"#2a3f5f\", \"arrowhead\": 0, \"arrowwidth\": 1}, \"coloraxis\": {\"colorbar\": {\"outlinewidth\": 0, \"ticks\": \"\"}}, \"colorscale\": {\"diverging\": [[0, \"#8e0152\"], [0.1, \"#c51b7d\"], [0.2, \"#de77ae\"], [0.3, \"#f1b6da\"], [0.4, \"#fde0ef\"], [0.5, \"#f7f7f7\"], [0.6, \"#e6f5d0\"], [0.7, \"#b8e186\"], [0.8, \"#7fbc41\"], [0.9, \"#4d9221\"], [1, \"#276419\"]], \"sequential\": [[0.0, \"#0d0887\"], [0.1111111111111111, \"#46039f\"], [0.2222222222222222, \"#7201a8\"], [0.3333333333333333, \"#9c179e\"], [0.4444444444444444, \"#bd3786\"], [0.5555555555555556, \"#d8576b\"], [0.6666666666666666, \"#ed7953\"], [0.7777777777777778, \"#fb9f3a\"], [0.8888888888888888, \"#fdca26\"], [1.0, \"#f0f921\"]], \"sequentialminus\": [[0.0, \"#0d0887\"], [0.1111111111111111, \"#46039f\"], [0.2222222222222222, \"#7201a8\"], [0.3333333333333333, \"#9c179e\"], [0.4444444444444444, \"#bd3786\"], [0.5555555555555556, \"#d8576b\"], [0.6666666666666666, \"#ed7953\"], [0.7777777777777778, \"#fb9f3a\"], [0.8888888888888888, \"#fdca26\"], [1.0, \"#f0f921\"]]}, \"colorway\": [\"#636efa\", \"#EF553B\", \"#00cc96\", \"#ab63fa\", \"#FFA15A\", \"#19d3f3\", \"#FF6692\", \"#B6E880\", \"#FF97FF\", \"#FECB52\"], \"font\": {\"color\": \"#2a3f5f\"}, \"geo\": {\"bgcolor\": \"white\", \"lakecolor\": \"white\", \"landcolor\": \"#E5ECF6\", \"showlakes\": true, \"showland\": true, \"subunitcolor\": \"white\"}, \"hoverlabel\": {\"align\": \"left\"}, \"hovermode\": \"closest\", \"mapbox\": {\"style\": \"light\"}, \"paper_bgcolor\": \"white\", \"plot_bgcolor\": \"#E5ECF6\", \"polar\": {\"angularaxis\": {\"gridcolor\": \"white\", \"linecolor\": \"white\", \"ticks\": \"\"}, \"bgcolor\": \"#E5ECF6\", \"radialaxis\": {\"gridcolor\": \"white\", \"linecolor\": \"white\", \"ticks\": \"\"}}, \"scene\": {\"xaxis\": {\"backgroundcolor\": \"#E5ECF6\", \"gridcolor\": \"white\", \"gridwidth\": 2, \"linecolor\": \"white\", \"showbackground\": true, \"ticks\": \"\", \"zerolinecolor\": \"white\"}, \"yaxis\": {\"backgroundcolor\": \"#E5ECF6\", \"gridcolor\": \"white\", \"gridwidth\": 2, \"linecolor\": \"white\", \"showbackground\": true, \"ticks\": \"\", \"zerolinecolor\": \"white\"}, \"zaxis\": {\"backgroundcolor\": \"#E5ECF6\", \"gridcolor\": \"white\", \"gridwidth\": 2, \"linecolor\": \"white\", \"showbackground\": true, \"ticks\": \"\", \"zerolinecolor\": \"white\"}}, \"shapedefaults\": {\"line\": {\"color\": \"#2a3f5f\"}}, \"ternary\": {\"aaxis\": {\"gridcolor\": \"white\", \"linecolor\": \"white\", \"ticks\": \"\"}, \"baxis\": {\"gridcolor\": \"white\", \"linecolor\": \"white\", \"ticks\": \"\"}, \"bgcolor\": \"#E5ECF6\", \"caxis\": {\"gridcolor\": \"white\", \"linecolor\": \"white\", \"ticks\": \"\"}}, \"title\": {\"x\": 0.05}, \"xaxis\": {\"automargin\": true, \"gridcolor\": \"white\", \"linecolor\": \"white\", \"ticks\": \"\", \"title\": {\"standoff\": 15}, \"zerolinecolor\": \"white\", \"zerolinewidth\": 2}, \"yaxis\": {\"automargin\": true, \"gridcolor\": \"white\", \"linecolor\": \"white\", \"ticks\": \"\", \"title\": {\"standoff\": 15}, \"zerolinecolor\": \"white\", \"zerolinewidth\": 2}}}, \"title\": {\"text\": \"$\\\\text{France: R }$\", \"x\": 0.5, \"xanchor\": \"center\"}, \"xaxis\": {\"title\": {\"text\": \"Day\"}}, \"yaxis\": {\"title\": {\"text\": \"R\"}}},\n",
              "                        {\"responsive\": true}\n",
              "                    ).then(function(){\n",
              "                            \n",
              "var gd = document.getElementById('2bbaf04e-ead6-48af-a9a7-35cedec1a528');\n",
              "var x = new MutationObserver(function (mutations, observer) {{\n",
              "        var display = window.getComputedStyle(gd).display;\n",
              "        if (!display || display === 'none') {{\n",
              "            console.log([gd, 'removed!']);\n",
              "            Plotly.purge(gd);\n",
              "            observer.disconnect();\n",
              "        }}\n",
              "}});\n",
              "\n",
              "// Listen for the removal of the full notebook cells\n",
              "var notebookContainer = gd.closest('#notebook-container');\n",
              "if (notebookContainer) {{\n",
              "    x.observe(notebookContainer, {childList: true});\n",
              "}}\n",
              "\n",
              "// Listen for the clearing of the current output cell\n",
              "var outputEl = gd.closest('.output');\n",
              "if (outputEl) {{\n",
              "    x.observe(outputEl, {childList: true});\n",
              "}}\n",
              "\n",
              "                        })\n",
              "                };\n",
              "                \n",
              "            </script>\n",
              "        </div>\n",
              "</body>\n",
              "</html>"
            ]
          },
          "metadata": {
            "tags": []
          }
        }
      ]
    },
    {
      "cell_type": "markdown",
      "metadata": {
        "colab_type": "text",
        "id": "MSnqTgD_pts2"
      },
      "source": [
        "After March 15th we see a rapi decline in $R$ until $R<1$ since April 12th, however the last 2 weeks of May have seen an increase and it is now close to 1 in early June."
      ]
    },
    {
      "cell_type": "markdown",
      "metadata": {
        "colab_type": "text",
        "id": "GwOGe_AclwkV"
      },
      "source": [
        "### Germany\n",
        "\n",
        "* We have daily data $I_{pd}$ and $R_{pd}$ (where $R_{pd}$ is the sum of deaths and recoveries)\n",
        "* We have our assumed $T_L$ and $T_I$\n",
        "\n",
        "Analysis steps:\n",
        "1. The first thing we want to check is whether $h_I\\circledast I_{pd} [j]$ gives us something close to $R_{pd}$ If not, why not?\n",
        "2. Can we get an estimated $E_{pd}$ by deconvolution of $I_{pd}$ ?\n",
        "3. What can that tell us about $R$ and $\\beta$ ?"
      ]
    },
    {
      "cell_type": "markdown",
      "metadata": {
        "colab_type": "text",
        "id": "F-SEvrCalwkV"
      },
      "source": [
        "#### 1. Checking $h_I$"
      ]
    },
    {
      "cell_type": "code",
      "metadata": {
        "colab_type": "code",
        "outputId": "f8ee3a8c-ad98-404f-fb33-b9b28e6d5d31",
        "id": "C8C86mdnlwkX",
        "colab": {
          "base_uri": "https://localhost:8080/",
          "height": 542
        }
      },
      "source": [
        "#collapse_hide\n",
        "fig = go.Figure(data=[    \n",
        "    go.Bar(name='Ipd', x=conf_df_pd.loc['Germany'].index, y=conf_df_pd.loc['Germany']),\n",
        "    go.Scatter(name='Ipd=lowpass(Ipd)', x=conf_df_pd.loc['Germany'].index, y=lowpass(conf_df_pd.loc['Germany']+deaths_df_pd.loc['Germany'])[0]),\n",
        "    go.Bar(name='Rpd', x=rec_df_pd.loc['Germany'].index, y=rec_df_pd.loc['Germany']),\n",
        "    go.Scatter(name='Rpd=lowpass(Rpd)', x=rec_df_pd.loc['Germany'].index, y=lowpass(rec_df_pd.loc['Germany'])[0]),\n",
        "    go.Scatter(name='Rpd=conv(Ipd)', x=conf_df_pd.loc['Germany'].index, y=signal.fftconvolve(h_I, conf_df_pd.loc['Germany']+deaths_df_pd.loc['Germany'], mode='full'))\n",
        "])\n",
        "\n",
        "fig.update_layout(\n",
        "    xaxis_title = 'Day',\n",
        "    yaxis_title = 'Count',\n",
        "    title={\n",
        "        'text':r'$\\text{Germany: Actual } R_{pd} \\text{ vs. } h_I[j]\\circledast I_{pd}[j]$',\n",
        "        'x':0.5,\n",
        "        'xanchor':'center'\n",
        "    }\n",
        ")\n",
        "\n",
        "fig.show()"
      ],
      "execution_count": 221,
      "outputs": [
        {
          "output_type": "display_data",
          "data": {
            "text/html": [
              "<html>\n",
              "<head><meta charset=\"utf-8\" /></head>\n",
              "<body>\n",
              "    <div>\n",
              "            <script src=\"https://cdnjs.cloudflare.com/ajax/libs/mathjax/2.7.5/MathJax.js?config=TeX-AMS-MML_SVG\"></script><script type=\"text/javascript\">if (window.MathJax) {MathJax.Hub.Config({SVG: {font: \"STIX-Web\"}});}</script>\n",
              "                <script type=\"text/javascript\">window.PlotlyConfig = {MathJaxConfig: 'local'};</script>\n",
              "        <script src=\"https://cdn.plot.ly/plotly-latest.min.js\"></script>    \n",
              "            <div id=\"968314b3-6a0f-4634-8d6b-9e799e64fad6\" class=\"plotly-graph-div\" style=\"height:525px; width:100%;\"></div>\n",
              "            <script type=\"text/javascript\">\n",
              "                \n",
              "                    window.PLOTLYENV=window.PLOTLYENV || {};\n",
              "                    \n",
              "                if (document.getElementById(\"968314b3-6a0f-4634-8d6b-9e799e64fad6\")) {\n",
              "                    Plotly.newPlot(\n",
              "                        '968314b3-6a0f-4634-8d6b-9e799e64fad6',\n",
              "                        [{\"name\": \"Ipd\", \"type\": \"bar\", \"x\": [\"2020-01-22\", \"2020-01-23\", \"2020-01-24\", \"2020-01-25\", \"2020-01-26\", \"2020-01-27\", \"2020-01-28\", \"2020-01-29\", \"2020-01-30\", \"2020-01-31\", \"2020-02-01\", \"2020-02-02\", \"2020-02-03\", \"2020-02-04\", \"2020-02-05\", \"2020-02-06\", \"2020-02-07\", \"2020-02-08\", \"2020-02-09\", \"2020-02-10\", \"2020-02-11\", \"2020-02-12\", \"2020-02-13\", \"2020-02-14\", \"2020-02-15\", \"2020-02-16\", \"2020-02-17\", \"2020-02-18\", \"2020-02-19\", \"2020-02-20\", \"2020-02-21\", \"2020-02-22\", \"2020-02-23\", \"2020-02-24\", \"2020-02-25\", \"2020-02-26\", \"2020-02-27\", \"2020-02-28\", \"2020-02-29\", \"2020-03-01\", \"2020-03-02\", \"2020-03-03\", \"2020-03-04\", \"2020-03-05\", \"2020-03-06\", \"2020-03-07\", \"2020-03-08\", \"2020-03-09\", \"2020-03-10\", \"2020-03-11\", \"2020-03-12\", \"2020-03-13\", \"2020-03-14\", \"2020-03-15\", \"2020-03-16\", \"2020-03-17\", \"2020-03-18\", \"2020-03-19\", \"2020-03-20\", \"2020-03-21\", \"2020-03-22\", \"2020-03-23\", \"2020-03-24\", \"2020-03-25\", \"2020-03-26\", \"2020-03-27\", \"2020-03-28\", \"2020-03-29\", \"2020-03-30\", \"2020-03-31\", \"2020-04-01\", \"2020-04-02\", \"2020-04-03\", \"2020-04-04\", \"2020-04-05\", \"2020-04-06\", \"2020-04-07\", \"2020-04-08\", \"2020-04-09\", \"2020-04-10\", \"2020-04-11\", \"2020-04-12\", \"2020-04-13\", \"2020-04-14\", \"2020-04-15\", \"2020-04-16\", \"2020-04-17\", \"2020-04-18\", \"2020-04-19\", \"2020-04-20\", \"2020-04-21\", \"2020-04-22\", \"2020-04-23\", \"2020-04-24\", \"2020-04-25\", \"2020-04-26\", \"2020-04-27\", \"2020-04-28\", \"2020-04-29\", \"2020-04-30\", \"2020-05-01\", \"2020-05-02\", \"2020-05-03\", \"2020-05-04\", \"2020-05-05\", \"2020-05-06\", \"2020-05-07\", \"2020-05-08\", \"2020-05-09\", \"2020-05-10\", \"2020-05-11\", \"2020-05-12\", \"2020-05-13\", \"2020-05-14\", \"2020-05-15\", \"2020-05-16\", \"2020-05-17\", \"2020-05-18\", \"2020-05-19\", \"2020-05-20\", \"2020-05-21\", \"2020-05-22\", \"2020-05-23\", \"2020-05-24\", \"2020-05-25\", \"2020-05-26\", \"2020-05-27\", \"2020-05-28\", \"2020-05-29\", \"2020-05-30\", \"2020-05-31\", \"2020-06-01\", \"2020-06-02\", \"2020-06-03\"], \"y\": [0.0, 0.0, 0.0, 0.0, 0.0, 1.0, 3.0, 0.0, 0.0, 1.0, 3.0, 2.0, 2.0, 0.0, 0.0, 0.0, 1.0, 0.0, 1.0, 0.0, 2.0, 0.0, 0.0, 0.0, 0.0, 0.0, 0.0, 0.0, 0.0, 0.0, 0.0, 0.0, 0.0, 0.0, 1.0, 10.0, 19.0, 2.0, 31.0, 51.0, 29.0, 37.0, 66.0, 220.0, 188.0, 129.0, 241.0, 136.0, 281.0, 451.0, 170.0, 1597.0, 910.0, 1210.0, 1477.0, 1985.0, 3070.0, 2993.0, 4528.0, 2365.0, 2660.0, 4183.0, 3930.0, 4337.0, 6615.0, 6933.0, 6824.0, 4400.0, 4790.0, 4923.0, 6064.0, 6922.0, 6365.0, 4933.0, 4031.0, 3251.0, 4289.0, 5633.0, 4885.0, 3990.0, 2737.0, 2946.0, 2218.0, 1287.0, 3394.0, 2945.0, 3699.0, 1945.0, 1842.0, 1881.0, 1226.0, 2357.0, 2481.0, 1870.0, 1514.0, 1257.0, 988.0, 1154.0, 1627.0, 1470.0, 1068.0, 890.0, 697.0, 488.0, 855.0, 1155.0, 1268.0, 1158.0, 736.0, 555.0, 697.0, 595.0, 927.0, 380.0, 755.0, 519.0, 617.0, 182.0, 1227.0, 695.0, 548.0, 689.0, 276.0, 342.0, 272.0, 600.0, 324.0, 672.0, 726.0, 267.0, 221.0, 184.0, 285.0, 242.0]}, {\"name\": \"Ipd=lowpass(Ipd)\", \"type\": \"scatter\", \"x\": [\"2020-01-22\", \"2020-01-23\", \"2020-01-24\", \"2020-01-25\", \"2020-01-26\", \"2020-01-27\", \"2020-01-28\", \"2020-01-29\", \"2020-01-30\", \"2020-01-31\", \"2020-02-01\", \"2020-02-02\", \"2020-02-03\", \"2020-02-04\", \"2020-02-05\", \"2020-02-06\", \"2020-02-07\", \"2020-02-08\", \"2020-02-09\", \"2020-02-10\", \"2020-02-11\", \"2020-02-12\", \"2020-02-13\", \"2020-02-14\", \"2020-02-15\", \"2020-02-16\", \"2020-02-17\", \"2020-02-18\", \"2020-02-19\", \"2020-02-20\", \"2020-02-21\", \"2020-02-22\", \"2020-02-23\", \"2020-02-24\", \"2020-02-25\", \"2020-02-26\", \"2020-02-27\", \"2020-02-28\", \"2020-02-29\", \"2020-03-01\", \"2020-03-02\", \"2020-03-03\", \"2020-03-04\", \"2020-03-05\", \"2020-03-06\", \"2020-03-07\", \"2020-03-08\", \"2020-03-09\", \"2020-03-10\", \"2020-03-11\", \"2020-03-12\", \"2020-03-13\", \"2020-03-14\", \"2020-03-15\", \"2020-03-16\", \"2020-03-17\", \"2020-03-18\", \"2020-03-19\", \"2020-03-20\", \"2020-03-21\", \"2020-03-22\", \"2020-03-23\", \"2020-03-24\", \"2020-03-25\", \"2020-03-26\", \"2020-03-27\", \"2020-03-28\", \"2020-03-29\", \"2020-03-30\", \"2020-03-31\", \"2020-04-01\", \"2020-04-02\", \"2020-04-03\", \"2020-04-04\", \"2020-04-05\", \"2020-04-06\", \"2020-04-07\", \"2020-04-08\", \"2020-04-09\", \"2020-04-10\", \"2020-04-11\", \"2020-04-12\", \"2020-04-13\", \"2020-04-14\", \"2020-04-15\", \"2020-04-16\", \"2020-04-17\", \"2020-04-18\", \"2020-04-19\", \"2020-04-20\", \"2020-04-21\", \"2020-04-22\", \"2020-04-23\", \"2020-04-24\", \"2020-04-25\", \"2020-04-26\", \"2020-04-27\", \"2020-04-28\", \"2020-04-29\", \"2020-04-30\", \"2020-05-01\", \"2020-05-02\", \"2020-05-03\", \"2020-05-04\", \"2020-05-05\", \"2020-05-06\", \"2020-05-07\", \"2020-05-08\", \"2020-05-09\", \"2020-05-10\", \"2020-05-11\", \"2020-05-12\", \"2020-05-13\", \"2020-05-14\", \"2020-05-15\", \"2020-05-16\", \"2020-05-17\", \"2020-05-18\", \"2020-05-19\", \"2020-05-20\", \"2020-05-21\", \"2020-05-22\", \"2020-05-23\", \"2020-05-24\", \"2020-05-25\", \"2020-05-26\", \"2020-05-27\", \"2020-05-28\", \"2020-05-29\", \"2020-05-30\", \"2020-05-31\", \"2020-06-01\", \"2020-06-02\", \"2020-06-03\"], \"y\": [-0.7314783933628685, -0.7911561800972577, -0.8049149772975647, -0.7456968410145827, -0.5880364740935713, -0.3116097665661115, 0.09503130317734033, 0.6309149441746055, 1.2797290229109937, 2.00797774326008, 2.7646485863358445, 3.4827507835117086, 4.082961552904709, 4.479441161631351, 4.587659791810567, 4.333829284740981, 3.665268336355553, 2.560776270251224, 1.0398816396240282, -0.8302950730922922, -2.931835145349444, -5.097606822745297, -7.118480744227585, -8.756556400390483, -9.76417889974943, -9.907816798254842, -8.99511071735807, -6.902658909560568, -3.6014618852212883, 0.8235075085677185, 6.163321757857416, 12.088243669666356, 18.166955835649343, 23.903817424930914, 28.794664218759433, 32.39989754272927, 34.43161709260637, 34.84951444588248, 33.958368130875876, 32.49849453656172, 31.719634490435013, 33.42868813260464, 40.00259160085972, 54.35952417684415, 79.88452460801741, 120.30934517777175, 179.55065966762803, 261.5150065058608, 369.882367160443, 507.8823767233453, 678.0774513206155, 882.1656498986708, 1120.8133815193546, 1393.5249376517838, 1698.553031759993, 2032.8524615142633, 2392.077796272716, 2770.6258817381067, 3161.725367635912, 3557.578339213279, 3949.5620663394066, 4328.499105197519, 4684.998736732429, 5009.8613642409455, 5294.522660434601, 5531.501007092138, 5714.805290569152, 5840.263251067999, 5905.742176938458, 5911.248877303873, 5858.908693495041, 5752.830770170505, 5598.870260023291, 5404.301345584825, 5177.4203465233295, 4927.104623602444, 4662.356966059218, 4391.864048900244, 4123.592237101321, 3864.4383157972584, 3619.9501711748517, 3394.133174278407, 3189.358602646417, 3006.3866492675697, 2844.5065332312433, 2701.781650933306, 2575.373013916204, 2461.9043519729294, 2357.830115228428, 2259.772526885298, 2164.8024025937066, 2070.6470518519895, 1975.8155933856067, 1879.6380831328595, 1782.2214246972922, 1684.3326191065894, 1587.2273296721216, 1492.4468837016045, 1401.6082369658757, 1316.2092331841445, 1237.4671414540915, 1166.2035079370596, 1102.7834515623672, 1047.1122789889132, 998.6860990066842, 956.6861798120457, 920.1004749747289, 887.8520444427894, 858.9145422088937, 832.3995859960629, 807.6080873946204, 784.0451471889714, 761.4040051865616, 739.5280106078299, 718.3608269368845, 697.8945997772312, 678.124009185438, 659.0113647096193, 640.4647047654678, 622.327979754632, 604.380642225106, 586.3438369264929, 567.8916611957535, 548.6676863665894, 528.3078961602566, 506.47067267308455, 482.8725531246237, 457.3260447933844, 429.773961563812, 400.31439458464433, 369.2117365064586, 336.891590116011, 303.9199318686598, 270.9687353321284]}, {\"name\": \"Rpd\", \"type\": \"bar\", \"x\": [\"2020-01-22\", \"2020-01-23\", \"2020-01-24\", \"2020-01-25\", \"2020-01-26\", \"2020-01-27\", \"2020-01-28\", \"2020-01-29\", \"2020-01-30\", \"2020-01-31\", \"2020-02-01\", \"2020-02-02\", \"2020-02-03\", \"2020-02-04\", \"2020-02-05\", \"2020-02-06\", \"2020-02-07\", \"2020-02-08\", \"2020-02-09\", \"2020-02-10\", \"2020-02-11\", \"2020-02-12\", \"2020-02-13\", \"2020-02-14\", \"2020-02-15\", \"2020-02-16\", \"2020-02-17\", \"2020-02-18\", \"2020-02-19\", \"2020-02-20\", \"2020-02-21\", \"2020-02-22\", \"2020-02-23\", \"2020-02-24\", \"2020-02-25\", \"2020-02-26\", \"2020-02-27\", \"2020-02-28\", \"2020-02-29\", \"2020-03-01\", \"2020-03-02\", \"2020-03-03\", \"2020-03-04\", \"2020-03-05\", \"2020-03-06\", \"2020-03-07\", \"2020-03-08\", \"2020-03-09\", \"2020-03-10\", \"2020-03-11\", \"2020-03-12\", \"2020-03-13\", \"2020-03-14\", \"2020-03-15\", \"2020-03-16\", \"2020-03-17\", \"2020-03-18\", \"2020-03-19\", \"2020-03-20\", \"2020-03-21\", \"2020-03-22\", \"2020-03-23\", \"2020-03-24\", \"2020-03-25\", \"2020-03-26\", \"2020-03-27\", \"2020-03-28\", \"2020-03-29\", \"2020-03-30\", \"2020-03-31\", \"2020-04-01\", \"2020-04-02\", \"2020-04-03\", \"2020-04-04\", \"2020-04-05\", \"2020-04-06\", \"2020-04-07\", \"2020-04-08\", \"2020-04-09\", \"2020-04-10\", \"2020-04-11\", \"2020-04-12\", \"2020-04-13\", \"2020-04-14\", \"2020-04-15\", \"2020-04-16\", \"2020-04-17\", \"2020-04-18\", \"2020-04-19\", \"2020-04-20\", \"2020-04-21\", \"2020-04-22\", \"2020-04-23\", \"2020-04-24\", \"2020-04-25\", \"2020-04-26\", \"2020-04-27\", \"2020-04-28\", \"2020-04-29\", \"2020-04-30\", \"2020-05-01\", \"2020-05-02\", \"2020-05-03\", \"2020-05-04\", \"2020-05-05\", \"2020-05-06\", \"2020-05-07\", \"2020-05-08\", \"2020-05-09\", \"2020-05-10\", \"2020-05-11\", \"2020-05-12\", \"2020-05-13\", \"2020-05-14\", \"2020-05-15\", \"2020-05-16\", \"2020-05-17\", \"2020-05-18\", \"2020-05-19\", \"2020-05-20\", \"2020-05-21\", \"2020-05-22\", \"2020-05-23\", \"2020-05-24\", \"2020-05-25\", \"2020-05-26\", \"2020-05-27\", \"2020-05-28\", \"2020-05-29\", \"2020-05-30\", \"2020-05-31\", \"2020-06-01\", \"2020-06-02\", \"2020-06-03\"], \"y\": [0.0, 0.0, 0.0, 0.0, 0.0, 0.0, 0.0, 0.0, 0.0, 0.0, 0.0, 0.0, 0.0, 0.0, 0.0, 0.0, 0.0, 0.0, 0.0, 0.0, 0.0, 0.0, 1.0, 0.0, 0.0, 0.0, 0.0, 11.0, 0.0, 0.0, 2.0, 0.0, 0.0, 0.0, 0.0, 1.0, 1.0, 0.0, 0.0, 0.0, 0.0, 0.0, 0.0, 0.0, 1.0, 1.0, 0.0, 0.0, 0.0, 7.0, 0.0, 21.0, 0.0, 0.0, 21.0, 0.0, 38.0, 8.0, 67.0, 53.0, 33.0, 0.0, 2977.0, 304.0, 2126.0, 985.0, 1823.0, 730.0, 4289.0, 2600.0, 2600.0, 3740.0, 2135.0, 1825.0, 2300.0, 0.0, 7381.0, 10219.0, 6107.0, 1506.0, 3487.0, 2900.0, 4000.0, 3900.0, 4400.0, 4400.0, 6114.0, 2286.0, 2600.0, 3500.0, 3700.0, 4200.0, 3900.0, 6500.0, 0.0, 2200.0, 2500.0, 2900.0, 3000.0, 3100.0, 3400.0, 2100.0, 1600.0, 2100.0, 2400.0, 4800.0, 1800.0, 0.0, 1600.0, 1100.0, 1217.0, 1583.0, 1500.0, 1600.0, 1297.0, 1003.0, 1411.0, 1030.0, 640.0, 1285.0, 1121.0, 977.0, 652.0, 565.0, 918.0, 768.0, 853.0, 540.0, 885.0, 663.0, 444.0, 280.0, 977.0, 844.0]}, {\"name\": \"Rpd=lowpass(Rpd)\", \"type\": \"scatter\", \"x\": [\"2020-01-22\", \"2020-01-23\", \"2020-01-24\", \"2020-01-25\", \"2020-01-26\", \"2020-01-27\", \"2020-01-28\", \"2020-01-29\", \"2020-01-30\", \"2020-01-31\", \"2020-02-01\", \"2020-02-02\", \"2020-02-03\", \"2020-02-04\", \"2020-02-05\", \"2020-02-06\", \"2020-02-07\", \"2020-02-08\", \"2020-02-09\", \"2020-02-10\", \"2020-02-11\", \"2020-02-12\", \"2020-02-13\", \"2020-02-14\", \"2020-02-15\", \"2020-02-16\", \"2020-02-17\", \"2020-02-18\", \"2020-02-19\", \"2020-02-20\", \"2020-02-21\", \"2020-02-22\", \"2020-02-23\", \"2020-02-24\", \"2020-02-25\", \"2020-02-26\", \"2020-02-27\", \"2020-02-28\", \"2020-02-29\", \"2020-03-01\", \"2020-03-02\", \"2020-03-03\", \"2020-03-04\", \"2020-03-05\", \"2020-03-06\", \"2020-03-07\", \"2020-03-08\", \"2020-03-09\", \"2020-03-10\", \"2020-03-11\", \"2020-03-12\", \"2020-03-13\", \"2020-03-14\", \"2020-03-15\", \"2020-03-16\", \"2020-03-17\", \"2020-03-18\", \"2020-03-19\", \"2020-03-20\", \"2020-03-21\", \"2020-03-22\", \"2020-03-23\", \"2020-03-24\", \"2020-03-25\", \"2020-03-26\", \"2020-03-27\", \"2020-03-28\", \"2020-03-29\", \"2020-03-30\", \"2020-03-31\", \"2020-04-01\", \"2020-04-02\", \"2020-04-03\", \"2020-04-04\", \"2020-04-05\", \"2020-04-06\", \"2020-04-07\", \"2020-04-08\", \"2020-04-09\", \"2020-04-10\", \"2020-04-11\", \"2020-04-12\", \"2020-04-13\", \"2020-04-14\", \"2020-04-15\", \"2020-04-16\", \"2020-04-17\", \"2020-04-18\", \"2020-04-19\", \"2020-04-20\", \"2020-04-21\", \"2020-04-22\", \"2020-04-23\", \"2020-04-24\", \"2020-04-25\", \"2020-04-26\", \"2020-04-27\", \"2020-04-28\", \"2020-04-29\", \"2020-04-30\", \"2020-05-01\", \"2020-05-02\", \"2020-05-03\", \"2020-05-04\", \"2020-05-05\", \"2020-05-06\", \"2020-05-07\", \"2020-05-08\", \"2020-05-09\", \"2020-05-10\", \"2020-05-11\", \"2020-05-12\", \"2020-05-13\", \"2020-05-14\", \"2020-05-15\", \"2020-05-16\", \"2020-05-17\", \"2020-05-18\", \"2020-05-19\", \"2020-05-20\", \"2020-05-21\", \"2020-05-22\", \"2020-05-23\", \"2020-05-24\", \"2020-05-25\", \"2020-05-26\", \"2020-05-27\", \"2020-05-28\", \"2020-05-29\", \"2020-05-30\", \"2020-05-31\", \"2020-06-01\", \"2020-06-02\", \"2020-06-03\"], \"y\": [0.516240999356607, 0.49837341597903184, 0.42269581584119076, 0.2851556247543034, 0.0875349281173542, -0.16150756443011627, -0.44591641470957155, -0.7424067327928032, -1.021444678401596, -1.2491053429670806, -1.3897905186081143, -1.4096918995102952, -1.280780293022667, -0.9849981700569033, -0.5182429697762034, 0.10633536912675146, 0.8562246382230265, 1.6791063206664223, 2.5044738065000285, 3.2475671201754572, 3.815677890442153, 4.116629026903476, 4.0689525792620485, 3.6130008285618627, 2.721960164247588, 1.4115290317064457, -0.2530943123100334, -2.1542575306824596, -4.1241109260009905, -5.952915482319497, -7.403737412272225, -8.23321978379384, -8.217388702998282, -7.180695270973141, -5.02578811396323, -1.7609321843031431, 2.4783835699550933, 7.417200022266983, 12.641504312904363, 17.613977399596898, 21.70671407881736, 24.25116393944343, 24.60385806098041, 22.224635077770458, 16.762228699432058, 8.140427989494633, -3.363209405195218, -17.054707206288384, -31.78547597577356, -45.94579463174685, -57.49502520756891, -64.03052902741628, -62.89343364148747, -51.30518917143862, -26.52472497184197, 13.987447243882212, 72.4140156974159, 150.45067648918027, 249.2151026738833, 369.2047020109416, 510.3059765955201, 671.8499153221495, 852.6993341488219, 1051.3475501571386, 1266.0055039638237, 1494.6576930602405, 1735.0753212643845, 1984.785485633883, 2241.0053771754388, 2500.5589051341867, 2759.799749677668, 3014.5696925635743, 3260.2230235139923, 3491.744194384834, 3703.973822179271, 3891.9366852021717, 4051.2374366918857, 4178.463135408181, 4271.5175207955035, 4329.819560373615, 4354.32858165834, 4347.399150392485, 4312.504218722757, 4253.883277768324, 4176.171967453088, 4084.0572290277987, 3981.9858988701235, 3873.940625811794, 3763.2874343190583, 3652.6930903453617, 3544.105090593242, 3438.7812743522795, 3337.3512970215297, 3239.8917333346017, 3146.0023347041083, 3054.8813638378165, 2965.4080144551094, 2876.244089165371, 2785.962854593908, 2693.2026715237716, 2596.831895776829, 2496.1042783397047, 2390.78242500414, 2281.209889612219, 2168.3181677743137, 2053.561959066826, 1938.784803617898, 1826.0281248445328, 1717.3084851484653, 1614.3965886058013, 1518.6330591451583, 1430.8089972817204, 1351.1262583905354, 1279.2376669398495, 1214.3548287872031, 1155.402953360759, 1101.1985281555228, 1050.6259984871926, 1002.792564415113, 957.1447183212881, 913.5354647242708, 872.2368799849119, 833.8985650216591, 799.4582999520776, 770.0162076718084, 746.6872710796746, 730.4487906885632, 721.9994877148301, 721.6457997739262, 729.2286220583027, 744.1002004407586, 765.1559276930642, 790.9194820978965, 819.6725759718172]}, {\"name\": \"Rpd=conv(Ipd)\", \"type\": \"scatter\", \"x\": [\"2020-01-22\", \"2020-01-23\", \"2020-01-24\", \"2020-01-25\", \"2020-01-26\", \"2020-01-27\", \"2020-01-28\", \"2020-01-29\", \"2020-01-30\", \"2020-01-31\", \"2020-02-01\", \"2020-02-02\", \"2020-02-03\", \"2020-02-04\", \"2020-02-05\", \"2020-02-06\", \"2020-02-07\", \"2020-02-08\", \"2020-02-09\", \"2020-02-10\", \"2020-02-11\", \"2020-02-12\", \"2020-02-13\", \"2020-02-14\", \"2020-02-15\", \"2020-02-16\", \"2020-02-17\", \"2020-02-18\", \"2020-02-19\", \"2020-02-20\", \"2020-02-21\", \"2020-02-22\", \"2020-02-23\", \"2020-02-24\", \"2020-02-25\", \"2020-02-26\", \"2020-02-27\", \"2020-02-28\", \"2020-02-29\", \"2020-03-01\", \"2020-03-02\", \"2020-03-03\", \"2020-03-04\", \"2020-03-05\", \"2020-03-06\", \"2020-03-07\", \"2020-03-08\", \"2020-03-09\", \"2020-03-10\", \"2020-03-11\", \"2020-03-12\", \"2020-03-13\", \"2020-03-14\", \"2020-03-15\", \"2020-03-16\", \"2020-03-17\", \"2020-03-18\", \"2020-03-19\", \"2020-03-20\", \"2020-03-21\", \"2020-03-22\", \"2020-03-23\", \"2020-03-24\", \"2020-03-25\", \"2020-03-26\", \"2020-03-27\", \"2020-03-28\", \"2020-03-29\", \"2020-03-30\", \"2020-03-31\", \"2020-04-01\", \"2020-04-02\", \"2020-04-03\", \"2020-04-04\", \"2020-04-05\", \"2020-04-06\", \"2020-04-07\", \"2020-04-08\", \"2020-04-09\", \"2020-04-10\", \"2020-04-11\", \"2020-04-12\", \"2020-04-13\", \"2020-04-14\", \"2020-04-15\", \"2020-04-16\", \"2020-04-17\", \"2020-04-18\", \"2020-04-19\", \"2020-04-20\", \"2020-04-21\", \"2020-04-22\", \"2020-04-23\", \"2020-04-24\", \"2020-04-25\", \"2020-04-26\", \"2020-04-27\", \"2020-04-28\", \"2020-04-29\", \"2020-04-30\", \"2020-05-01\", \"2020-05-02\", \"2020-05-03\", \"2020-05-04\", \"2020-05-05\", \"2020-05-06\", \"2020-05-07\", \"2020-05-08\", \"2020-05-09\", \"2020-05-10\", \"2020-05-11\", \"2020-05-12\", \"2020-05-13\", \"2020-05-14\", \"2020-05-15\", \"2020-05-16\", \"2020-05-17\", \"2020-05-18\", \"2020-05-19\", \"2020-05-20\", \"2020-05-21\", \"2020-05-22\", \"2020-05-23\", \"2020-05-24\", \"2020-05-25\", \"2020-05-26\", \"2020-05-27\", \"2020-05-28\", \"2020-05-29\", \"2020-05-30\", \"2020-05-31\", \"2020-06-01\", \"2020-06-02\", \"2020-06-03\"], \"y\": [2.4253192047278086e-13, 1.0913936421275138e-12, 3.637978807091713e-13, 3.0316490059097606e-13, 4.850638409455617e-13, 7.275957614183426e-13, 3.637978807091713e-13, 4.850638409455617e-13, 0.0010044631993271953, 0.006945743067929774, 0.01935717017713614, 0.03426075171755656, 0.051568254491940024, 0.07456463181624713, 0.10626722437355056, 0.14607622150991423, 0.19185938482560233, 0.23951361180685732, 0.2872046315441063, 0.3345507882869545, 0.38128006551569343, 0.426130021102684, 0.4688122057345026, 0.5091932471405016, 0.5480847447514559, 0.582339565506057, 0.6108689687175987, 0.6330626592568781, 0.6485768364146982, 0.6572829408846398, 0.6592418493215518, 0.6546832094103593, 0.6439845478578111, 0.6276487150273169, 0.6062796352239578, 0.5805569224374874, 0.5512101722136625, 0.51999827864153, 0.49864037410273643, 0.5149224200952934, 0.576466586417761, 0.6903986911308796, 0.9268796340159801, 1.3191445755658302, 1.8552842707293167, 2.5757391414939774, 3.6918906718783546, 5.484122699848861, 7.942877294286881, 11.100298402714847, 15.036798795345325, 19.741545340606535, 25.58930385036298, 32.65684476765952, 41.94004816837648, 55.319515584092066, 72.62633258883871, 94.64784929137902, 122.53344285738713, 158.49002815627063, 204.82301700881544, 263.6929419545061, 336.02824299807713, 418.8202289820085, 512.7620268974083, 619.5111881565747, 738.8870089720057, 873.0987401762159, 1025.9906952375673, 1198.457587298688, 1387.525642821048, 1587.8458304417136, 1797.0843773879278, 2014.0852132935745, 2239.4657433457623, 2472.6622219366336, 2709.7392495552826, 2944.849963623807, 3172.3731308795973, 3388.696424003177, 3594.089131747323, 3788.794766707128, 3969.768758528244, 4132.5365899478475, 4273.443309923518, 4390.886166872895, 4481.7711347726645, 4546.154158838693, 4587.661379488674, 4607.880891967654, 4607.943255094577, 4586.459144854511, 4544.528703661191, 4483.394882896777, 4404.93302731902, 4313.385298613443, 4211.275050281536, 4099.604707098909, 3979.400318399517, 3851.7663436420776, 3718.1850849044013, 3581.043045869775, 3442.71600275373, 3304.3161579489824, 3166.2450132963013, 3028.8610067460468, 2892.4055185169755, 2757.4601548907435, 2625.5652351637873, 2498.442907618762, 2376.840967063857, 2260.7134926525064, 2149.338663451903, 2042.5444410946704, 1940.5387604550724, 1843.5927256197006, 1751.7642713234204, 1664.4218819122802, 1581.7255830310992, 1503.4011829906276, 1429.0187582419687, 1358.7841772375796, 1293.8457621319903, 1233.4948943548623, 1177.394222773038, 1125.117573513189, 1075.8300173962004, 1029.1552900312668, 985.0668053589744, 943.7101815502615, 904.9144495437889, 869.1381640635224, 836.0670493574903, 804.7708628358198, 774.7579625414467, 745.7920087740866, 717.8237992115969, 690.4553668205951, 663.0624827932359, 635.3924097055237, 607.3039430274687, 578.7263480752656, 549.6462888532583, 520.1001366814511, 490.1676452237771, 459.96575995469806, 429.6421462500213, 399.36834797634486, 369.3326494810838, 339.7328020718237, 310.7688239427002, 282.63610293694774, 255.5190305884178, 229.58537734493777, 204.98158599291006, 181.8291164354254, 160.22192375407587, 140.22509672669815, 121.87462949668115, 105.17824846988466, 90.11717285021683, 76.64865293095487, 64.70910692909432, 54.21766548339632, 45.0799327477027, 37.191783310317014, 30.443033310674462, 24.72084998920206, 19.91279412165968, 15.909421938415472, 12.60640494753449, 9.906155615414537, 7.718972583104793, 5.963739971046258, 4.56823080983116, 3.469074655567298, 2.6114543288698164, 1.9485970850480347, 1.4411222114727935, 1.056300988497848, 0.7672770838519986, 0.5522866517046471, 0.3939084305934254, 0.2783655794707253, 0.19489329243442627, 0.1351796627263563, 0.0928819529039174, 0.06321637935234321, 0.042616653732450986, 0.028454699694278437, 0.01881600455520432, 0.012321786265238189, 0.00799037572578527, 0.005130771698956474, 0.0032620836967907963, 0.0020534288060540954, 0.001279710740648928, 0.0007895275907988737, 0.0004821943257411476, 0.00029150925965950594, 0.00017443535058797957, 0.00010331067054115313, 6.0556566556139535e-05, 3.512851314250535e-05, 2.01659199471275e-05, 1.1455487280424374e-05, 6.439083608711371e-06, 3.581190291394402e-06, 1.9706149638902083e-06, 1.0728163639820802e-06, 5.777994980841564e-07, 3.0784710058166336e-07, 1.6224827656211953e-07, 8.458397739256422e-08, 4.3615727918222547e-08, 2.224466394788275e-08, 1.122025423683226e-08, 5.597151660670837e-09, 2.76122591458261e-09, 1.3475073501467704e-09, 6.499855468670527e-10, 3.104408582051595e-10, 1.469743438065052e-10, 6.887906541426977e-11, 3.128661774098873e-11, 1.5036979069312412e-11, 7.033425693710645e-12, 3.1529149661461513e-12, 1.697723443309466e-12, 1.4551915228366853e-12, 9.701276818911234e-13, 1.4551915228366853e-12, 4.850638409455617e-13]}],\n",
              "                        {\"template\": {\"data\": {\"bar\": [{\"error_x\": {\"color\": \"#2a3f5f\"}, \"error_y\": {\"color\": \"#2a3f5f\"}, \"marker\": {\"line\": {\"color\": \"#E5ECF6\", \"width\": 0.5}}, \"type\": \"bar\"}], \"barpolar\": [{\"marker\": {\"line\": {\"color\": \"#E5ECF6\", \"width\": 0.5}}, \"type\": \"barpolar\"}], \"carpet\": [{\"aaxis\": {\"endlinecolor\": \"#2a3f5f\", \"gridcolor\": \"white\", \"linecolor\": \"white\", \"minorgridcolor\": \"white\", \"startlinecolor\": \"#2a3f5f\"}, \"baxis\": {\"endlinecolor\": \"#2a3f5f\", \"gridcolor\": \"white\", \"linecolor\": \"white\", \"minorgridcolor\": \"white\", \"startlinecolor\": \"#2a3f5f\"}, \"type\": \"carpet\"}], \"choropleth\": [{\"colorbar\": {\"outlinewidth\": 0, \"ticks\": \"\"}, \"type\": \"choropleth\"}], \"contour\": [{\"colorbar\": {\"outlinewidth\": 0, \"ticks\": \"\"}, \"colorscale\": [[0.0, \"#0d0887\"], [0.1111111111111111, \"#46039f\"], [0.2222222222222222, \"#7201a8\"], [0.3333333333333333, \"#9c179e\"], [0.4444444444444444, \"#bd3786\"], [0.5555555555555556, \"#d8576b\"], [0.6666666666666666, \"#ed7953\"], [0.7777777777777778, \"#fb9f3a\"], [0.8888888888888888, \"#fdca26\"], [1.0, \"#f0f921\"]], \"type\": \"contour\"}], \"contourcarpet\": [{\"colorbar\": {\"outlinewidth\": 0, \"ticks\": \"\"}, \"type\": \"contourcarpet\"}], \"heatmap\": [{\"colorbar\": {\"outlinewidth\": 0, \"ticks\": \"\"}, \"colorscale\": [[0.0, \"#0d0887\"], [0.1111111111111111, \"#46039f\"], [0.2222222222222222, \"#7201a8\"], [0.3333333333333333, \"#9c179e\"], [0.4444444444444444, \"#bd3786\"], [0.5555555555555556, \"#d8576b\"], [0.6666666666666666, \"#ed7953\"], [0.7777777777777778, \"#fb9f3a\"], [0.8888888888888888, \"#fdca26\"], [1.0, \"#f0f921\"]], \"type\": \"heatmap\"}], \"heatmapgl\": [{\"colorbar\": {\"outlinewidth\": 0, \"ticks\": \"\"}, \"colorscale\": [[0.0, \"#0d0887\"], [0.1111111111111111, \"#46039f\"], [0.2222222222222222, \"#7201a8\"], [0.3333333333333333, \"#9c179e\"], [0.4444444444444444, \"#bd3786\"], [0.5555555555555556, \"#d8576b\"], [0.6666666666666666, \"#ed7953\"], [0.7777777777777778, \"#fb9f3a\"], [0.8888888888888888, \"#fdca26\"], [1.0, \"#f0f921\"]], \"type\": \"heatmapgl\"}], \"histogram\": [{\"marker\": {\"colorbar\": {\"outlinewidth\": 0, \"ticks\": \"\"}}, \"type\": \"histogram\"}], \"histogram2d\": [{\"colorbar\": {\"outlinewidth\": 0, \"ticks\": \"\"}, \"colorscale\": [[0.0, \"#0d0887\"], [0.1111111111111111, \"#46039f\"], [0.2222222222222222, \"#7201a8\"], [0.3333333333333333, \"#9c179e\"], [0.4444444444444444, \"#bd3786\"], [0.5555555555555556, \"#d8576b\"], [0.6666666666666666, \"#ed7953\"], [0.7777777777777778, \"#fb9f3a\"], [0.8888888888888888, \"#fdca26\"], [1.0, \"#f0f921\"]], \"type\": \"histogram2d\"}], \"histogram2dcontour\": [{\"colorbar\": {\"outlinewidth\": 0, \"ticks\": \"\"}, \"colorscale\": [[0.0, \"#0d0887\"], [0.1111111111111111, \"#46039f\"], [0.2222222222222222, \"#7201a8\"], [0.3333333333333333, \"#9c179e\"], [0.4444444444444444, \"#bd3786\"], [0.5555555555555556, \"#d8576b\"], [0.6666666666666666, \"#ed7953\"], [0.7777777777777778, \"#fb9f3a\"], [0.8888888888888888, \"#fdca26\"], [1.0, \"#f0f921\"]], \"type\": \"histogram2dcontour\"}], \"mesh3d\": [{\"colorbar\": {\"outlinewidth\": 0, \"ticks\": \"\"}, \"type\": \"mesh3d\"}], \"parcoords\": [{\"line\": {\"colorbar\": {\"outlinewidth\": 0, \"ticks\": \"\"}}, \"type\": \"parcoords\"}], \"pie\": [{\"automargin\": true, \"type\": \"pie\"}], \"scatter\": [{\"marker\": {\"colorbar\": {\"outlinewidth\": 0, \"ticks\": \"\"}}, \"type\": \"scatter\"}], \"scatter3d\": [{\"line\": {\"colorbar\": {\"outlinewidth\": 0, \"ticks\": \"\"}}, \"marker\": {\"colorbar\": {\"outlinewidth\": 0, \"ticks\": \"\"}}, \"type\": \"scatter3d\"}], \"scattercarpet\": [{\"marker\": {\"colorbar\": {\"outlinewidth\": 0, \"ticks\": \"\"}}, \"type\": \"scattercarpet\"}], \"scattergeo\": [{\"marker\": {\"colorbar\": {\"outlinewidth\": 0, \"ticks\": \"\"}}, \"type\": \"scattergeo\"}], \"scattergl\": [{\"marker\": {\"colorbar\": {\"outlinewidth\": 0, \"ticks\": \"\"}}, \"type\": \"scattergl\"}], \"scattermapbox\": [{\"marker\": {\"colorbar\": {\"outlinewidth\": 0, \"ticks\": \"\"}}, \"type\": \"scattermapbox\"}], \"scatterpolar\": [{\"marker\": {\"colorbar\": {\"outlinewidth\": 0, \"ticks\": \"\"}}, \"type\": \"scatterpolar\"}], \"scatterpolargl\": [{\"marker\": {\"colorbar\": {\"outlinewidth\": 0, \"ticks\": \"\"}}, \"type\": \"scatterpolargl\"}], \"scatterternary\": [{\"marker\": {\"colorbar\": {\"outlinewidth\": 0, \"ticks\": \"\"}}, \"type\": \"scatterternary\"}], \"surface\": [{\"colorbar\": {\"outlinewidth\": 0, \"ticks\": \"\"}, \"colorscale\": [[0.0, \"#0d0887\"], [0.1111111111111111, \"#46039f\"], [0.2222222222222222, \"#7201a8\"], [0.3333333333333333, \"#9c179e\"], [0.4444444444444444, \"#bd3786\"], [0.5555555555555556, \"#d8576b\"], [0.6666666666666666, \"#ed7953\"], [0.7777777777777778, \"#fb9f3a\"], [0.8888888888888888, \"#fdca26\"], [1.0, \"#f0f921\"]], \"type\": \"surface\"}], \"table\": [{\"cells\": {\"fill\": {\"color\": \"#EBF0F8\"}, \"line\": {\"color\": \"white\"}}, \"header\": {\"fill\": {\"color\": \"#C8D4E3\"}, \"line\": {\"color\": \"white\"}}, \"type\": \"table\"}]}, \"layout\": {\"annotationdefaults\": {\"arrowcolor\": \"#2a3f5f\", \"arrowhead\": 0, \"arrowwidth\": 1}, \"coloraxis\": {\"colorbar\": {\"outlinewidth\": 0, \"ticks\": \"\"}}, \"colorscale\": {\"diverging\": [[0, \"#8e0152\"], [0.1, \"#c51b7d\"], [0.2, \"#de77ae\"], [0.3, \"#f1b6da\"], [0.4, \"#fde0ef\"], [0.5, \"#f7f7f7\"], [0.6, \"#e6f5d0\"], [0.7, \"#b8e186\"], [0.8, \"#7fbc41\"], [0.9, \"#4d9221\"], [1, \"#276419\"]], \"sequential\": [[0.0, \"#0d0887\"], [0.1111111111111111, \"#46039f\"], [0.2222222222222222, \"#7201a8\"], [0.3333333333333333, \"#9c179e\"], [0.4444444444444444, \"#bd3786\"], [0.5555555555555556, \"#d8576b\"], [0.6666666666666666, \"#ed7953\"], [0.7777777777777778, \"#fb9f3a\"], [0.8888888888888888, \"#fdca26\"], [1.0, \"#f0f921\"]], \"sequentialminus\": [[0.0, \"#0d0887\"], [0.1111111111111111, \"#46039f\"], [0.2222222222222222, \"#7201a8\"], [0.3333333333333333, \"#9c179e\"], [0.4444444444444444, \"#bd3786\"], [0.5555555555555556, \"#d8576b\"], [0.6666666666666666, \"#ed7953\"], [0.7777777777777778, \"#fb9f3a\"], [0.8888888888888888, \"#fdca26\"], [1.0, \"#f0f921\"]]}, \"colorway\": [\"#636efa\", \"#EF553B\", \"#00cc96\", \"#ab63fa\", \"#FFA15A\", \"#19d3f3\", \"#FF6692\", \"#B6E880\", \"#FF97FF\", \"#FECB52\"], \"font\": {\"color\": \"#2a3f5f\"}, \"geo\": {\"bgcolor\": \"white\", \"lakecolor\": \"white\", \"landcolor\": \"#E5ECF6\", \"showlakes\": true, \"showland\": true, \"subunitcolor\": \"white\"}, \"hoverlabel\": {\"align\": \"left\"}, \"hovermode\": \"closest\", \"mapbox\": {\"style\": \"light\"}, \"paper_bgcolor\": \"white\", \"plot_bgcolor\": \"#E5ECF6\", \"polar\": {\"angularaxis\": {\"gridcolor\": \"white\", \"linecolor\": \"white\", \"ticks\": \"\"}, \"bgcolor\": \"#E5ECF6\", \"radialaxis\": {\"gridcolor\": \"white\", \"linecolor\": \"white\", \"ticks\": \"\"}}, \"scene\": {\"xaxis\": {\"backgroundcolor\": \"#E5ECF6\", \"gridcolor\": \"white\", \"gridwidth\": 2, \"linecolor\": \"white\", \"showbackground\": true, \"ticks\": \"\", \"zerolinecolor\": \"white\"}, \"yaxis\": {\"backgroundcolor\": \"#E5ECF6\", \"gridcolor\": \"white\", \"gridwidth\": 2, \"linecolor\": \"white\", \"showbackground\": true, \"ticks\": \"\", \"zerolinecolor\": \"white\"}, \"zaxis\": {\"backgroundcolor\": \"#E5ECF6\", \"gridcolor\": \"white\", \"gridwidth\": 2, \"linecolor\": \"white\", \"showbackground\": true, \"ticks\": \"\", \"zerolinecolor\": \"white\"}}, \"shapedefaults\": {\"line\": {\"color\": \"#2a3f5f\"}}, \"ternary\": {\"aaxis\": {\"gridcolor\": \"white\", \"linecolor\": \"white\", \"ticks\": \"\"}, \"baxis\": {\"gridcolor\": \"white\", \"linecolor\": \"white\", \"ticks\": \"\"}, \"bgcolor\": \"#E5ECF6\", \"caxis\": {\"gridcolor\": \"white\", \"linecolor\": \"white\", \"ticks\": \"\"}}, \"title\": {\"x\": 0.05}, \"xaxis\": {\"automargin\": true, \"gridcolor\": \"white\", \"linecolor\": \"white\", \"ticks\": \"\", \"title\": {\"standoff\": 15}, \"zerolinecolor\": \"white\", \"zerolinewidth\": 2}, \"yaxis\": {\"automargin\": true, \"gridcolor\": \"white\", \"linecolor\": \"white\", \"ticks\": \"\", \"title\": {\"standoff\": 15}, \"zerolinecolor\": \"white\", \"zerolinewidth\": 2}}}, \"title\": {\"text\": \"$\\\\text{Germany: Actual } R_{pd} \\\\text{ vs. } h_I[j]\\\\circledast I_{pd}[j]$\", \"x\": 0.5, \"xanchor\": \"center\"}, \"xaxis\": {\"title\": {\"text\": \"Day\"}}, \"yaxis\": {\"title\": {\"text\": \"Count\"}}},\n",
              "                        {\"responsive\": true}\n",
              "                    ).then(function(){\n",
              "                            \n",
              "var gd = document.getElementById('968314b3-6a0f-4634-8d6b-9e799e64fad6');\n",
              "var x = new MutationObserver(function (mutations, observer) {{\n",
              "        var display = window.getComputedStyle(gd).display;\n",
              "        if (!display || display === 'none') {{\n",
              "            console.log([gd, 'removed!']);\n",
              "            Plotly.purge(gd);\n",
              "            observer.disconnect();\n",
              "        }}\n",
              "}});\n",
              "\n",
              "// Listen for the removal of the full notebook cells\n",
              "var notebookContainer = gd.closest('#notebook-container');\n",
              "if (notebookContainer) {{\n",
              "    x.observe(notebookContainer, {childList: true});\n",
              "}}\n",
              "\n",
              "// Listen for the clearing of the current output cell\n",
              "var outputEl = gd.closest('.output');\n",
              "if (outputEl) {{\n",
              "    x.observe(outputEl, {childList: true});\n",
              "}}\n",
              "\n",
              "                        })\n",
              "                };\n",
              "                \n",
              "            </script>\n",
              "        </div>\n",
              "</body>\n",
              "</html>"
            ]
          },
          "metadata": {
            "tags": []
          }
        }
      ]
    },
    {
      "cell_type": "markdown",
      "metadata": {
        "colab_type": "text",
        "id": "kryCYmWnlwka"
      },
      "source": [
        "We can see the actual $R_{pd}$ lags $h_I[j]\\circledast I_{pd}[j]$ by about 10 days.\n",
        "\n",
        "Although they are pretty close still."
      ]
    },
    {
      "cell_type": "markdown",
      "metadata": {
        "colab_type": "text",
        "id": "KPRN8QSklwkb"
      },
      "source": [
        "#### 2. Estimating $E_{pd}$ by deconvolution of $I_{pd}$"
      ]
    },
    {
      "cell_type": "code",
      "metadata": {
        "colab_type": "code",
        "outputId": "edab24ed-863f-45ef-b88a-3a6a3f0749e3",
        "id": "tpYB9csIlwkc",
        "colab": {
          "base_uri": "https://localhost:8080/",
          "height": 651
        }
      },
      "source": [
        "#collapse_hide\n",
        "\n",
        "#Settting up for deconvolution of Ipd\n",
        "\n",
        "#regularization parameter\n",
        "alpha=2\n",
        "\n",
        "# Setup up the resultant Ipd we want to compare our guess with\n",
        "Ipd=np.floor(lowpass(conf_df_pd.loc['Germany'])[0])\n",
        "Ipd[Ipd<0]=0\n",
        "\n",
        "\n",
        "# Pad with last value\n",
        "i=0\n",
        "while i < 100:\n",
        "  Ipd=np.append(Ipd, Ipd[-1])\n",
        "  i=i+1\n",
        "\n",
        "# Find delay caused by h_L\n",
        "delay=Ipd.argmax()-signal.fftconvolve(Ipd, h_L, mode='full').argmax()\n",
        "\n",
        "# We want initial guess to simply be the result of the convolution delayed\n",
        "initial_guess=np.roll(Ipd,delay)\n",
        "Enext = initial_guess\n",
        "\n",
        "# AN array to record MSE between result we want and our iterated guess\n",
        "mse=np.array([])\n",
        "mse=np.append(mse, 10000000)\n",
        "mse=np.append(mse, msecalc(Ipd[:len(conf_df_pd.loc['Germany'])], signal.fftconvolve(h_L, Enext, mode='full')[:len(conf_df_pd.loc['Germany'])]))\n",
        "\n",
        "itercount=0\n",
        "while mse[-1] < mse[-2]:\n",
        "  itercount=itercount+1\n",
        "  Enext=iter_deconv(alpha, h_L, Enext, delay, Ipd)\n",
        "  mse=np.append(mse, msecalc(Ipd[:len(conf_df_pd.loc['Germany'])], signal.fftconvolve(h_L, Enext, mode='full')[:len(conf_df_pd.loc['Germany'])]))\n",
        "  print(\"Iteration #\" + str(itercount) +\": MSE= \"+str(mse[itercount]))\n",
        "print(\"Iteration #\" + str(itercount+1) +\": MSE= \"+str(mse[-1])+\" so we use the result of the previous iteration.\")"
      ],
      "execution_count": 222,
      "outputs": [
        {
          "output_type": "stream",
          "text": [
            "Iteration #1: MSE= 32342.166054726593\n",
            "Iteration #2: MSE= 9520.818482545094\n",
            "Iteration #3: MSE= 5480.074863698488\n",
            "Iteration #4: MSE= 3736.4520218065554\n",
            "Iteration #5: MSE= 2918.142469998744\n",
            "Iteration #6: MSE= 2360.7817893148813\n",
            "Iteration #7: MSE= 1989.5578460711724\n",
            "Iteration #8: MSE= 1725.1502755073097\n",
            "Iteration #9: MSE= 1500.7619212142413\n",
            "Iteration #10: MSE= 1349.7618585161513\n",
            "Iteration #11: MSE= 1197.9409125553852\n",
            "Iteration #12: MSE= 1099.740851284486\n",
            "Iteration #13: MSE= 994.817986262571\n",
            "Iteration #14: MSE= 924.3422942105037\n",
            "Iteration #15: MSE= 844.8573516897526\n",
            "Iteration #16: MSE= 794.3268717988868\n",
            "Iteration #17: MSE= 739.8998411142202\n",
            "Iteration #18: MSE= 701.9484322568269\n",
            "Iteration #19: MSE= 662.5577082814119\n",
            "Iteration #20: MSE= 631.0944523504336\n",
            "Iteration #21: MSE= 602.5541705643316\n",
            "Iteration #22: MSE= 578.5943011308373\n",
            "Iteration #23: MSE= 557.771540913623\n",
            "Iteration #24: MSE= 538.213918985831\n",
            "Iteration #25: MSE= 523.5865826611572\n",
            "Iteration #26: MSE= 504.6500345303785\n",
            "Iteration #27: MSE= 495.0313679838475\n",
            "Iteration #28: MSE= 481.0470432814702\n",
            "Iteration #29: MSE= 473.9125369451784\n",
            "Iteration #30: MSE= 460.3596321809197\n",
            "Iteration #31: MSE= 456.15021339132414\n",
            "Iteration #32: MSE= 445.2086268455976\n",
            "Iteration #33: MSE= 441.99650238006024\n",
            "Iteration #34: MSE= 430.37214275681214\n",
            "Iteration #35: MSE= 429.54734158025946\n",
            "Iteration #36: MSE= 421.7644150213061\n",
            "Iteration #37: MSE= 420.9015137766196\n",
            "Iteration #38: MSE= 412.14371502030235\n",
            "Iteration #39: MSE= 412.2907082954131 so we use the result of the previous iteration.\n"
          ],
          "name": "stdout"
        }
      ]
    },
    {
      "cell_type": "code",
      "metadata": {
        "colab_type": "code",
        "outputId": "e404dc7f-9c50-4f5c-9fcf-f2d3ca9987fc",
        "id": "OxJ1kJqplwkf",
        "colab": {
          "base_uri": "https://localhost:8080/",
          "height": 180
        }
      },
      "source": [
        "#collapse_hide\n",
        "# We can keep going the iteration until lowest MSE\n",
        "\n",
        "#change alpha if you like\n",
        "alpha=2\n",
        "\n",
        "i=0\n",
        "while i < 10:\n",
        "  itercount=itercount+1\n",
        "  Enext=iter_deconv(alpha, h_L, Enext, delay, Ipd)\n",
        "  print(msecalc(Ipd[:len(conf_df_pd.loc['Germany'])], signal.fftconvolve(h_L, Enext, mode='full')[:len(conf_df_pd.loc['Germany'])]))\n",
        "  i=i+1"
      ],
      "execution_count": 232,
      "outputs": [
        {
          "output_type": "stream",
          "text": [
            "346.90109659914947\n",
            "348.7463987321059\n",
            "346.90109659914947\n",
            "348.7463987321059\n",
            "346.90109659914947\n",
            "348.7463987321059\n",
            "346.90109659914947\n",
            "348.7463987321059\n",
            "346.90109659914947\n",
            "348.7463987321059\n"
          ],
          "name": "stdout"
        }
      ]
    },
    {
      "cell_type": "code",
      "metadata": {
        "colab_type": "code",
        "outputId": "238971da-28f9-445c-d3a2-a93fdc3e75ba",
        "id": "hrJxYKOplwki",
        "colab": {
          "base_uri": "https://localhost:8080/",
          "height": 542
        }
      },
      "source": [
        "#collapse_hide\n",
        "fig = go.Figure(data=[    \n",
        "    go.Scatter(name='Epd=deconv(Ipd)', x=inf_df.loc['Germany'].index, y=Enext),\n",
        "    go.Scatter(name='Ipd=conv(deconv(Ipd))', x=inf_df.loc['Germany'].index, y=signal.fftconvolve(h_L, Enext, mode='full')),\n",
        "    go.Bar(name='Ipd', x=inf_df.loc['Germany'].index, y=conf_df_pd.loc['Germany']),\n",
        "    go.Scatter(name='Ipd=lowpass(Ipd)', x=inf_df.loc['Germany'].index, y=lowpass(conf_df_pd.loc['Germany'])[0])\n",
        "])\n",
        "\n",
        "fig.update_layout(\n",
        "    \n",
        "    xaxis_title = 'Day',\n",
        "    yaxis_title = 'Count',\n",
        "    title={\n",
        "        'text':r'$\\text{Germany: Actual } I_{pd} \\text{ vs. convolution of deconvolution of } I_{pd}$',\n",
        "        'x':0.5,\n",
        "        'xanchor':'center'\n",
        "    }\n",
        ")\n",
        "\n",
        "fig.show()"
      ],
      "execution_count": 233,
      "outputs": [
        {
          "output_type": "display_data",
          "data": {
            "text/html": [
              "<html>\n",
              "<head><meta charset=\"utf-8\" /></head>\n",
              "<body>\n",
              "    <div>\n",
              "            <script src=\"https://cdnjs.cloudflare.com/ajax/libs/mathjax/2.7.5/MathJax.js?config=TeX-AMS-MML_SVG\"></script><script type=\"text/javascript\">if (window.MathJax) {MathJax.Hub.Config({SVG: {font: \"STIX-Web\"}});}</script>\n",
              "                <script type=\"text/javascript\">window.PlotlyConfig = {MathJaxConfig: 'local'};</script>\n",
              "        <script src=\"https://cdn.plot.ly/plotly-latest.min.js\"></script>    \n",
              "            <div id=\"bb2456e2-4527-426d-831d-256ead739c40\" class=\"plotly-graph-div\" style=\"height:525px; width:100%;\"></div>\n",
              "            <script type=\"text/javascript\">\n",
              "                \n",
              "                    window.PLOTLYENV=window.PLOTLYENV || {};\n",
              "                    \n",
              "                if (document.getElementById(\"bb2456e2-4527-426d-831d-256ead739c40\")) {\n",
              "                    Plotly.newPlot(\n",
              "                        'bb2456e2-4527-426d-831d-256ead739c40',\n",
              "                        [{\"name\": \"Epd=deconv(Ipd)\", \"type\": \"scatter\", \"x\": [\"2020-01-22\", \"2020-01-23\", \"2020-01-24\", \"2020-01-25\", \"2020-01-26\", \"2020-01-27\", \"2020-01-28\", \"2020-01-29\", \"2020-01-30\", \"2020-01-31\", \"2020-02-01\", \"2020-02-02\", \"2020-02-03\", \"2020-02-04\", \"2020-02-05\", \"2020-02-06\", \"2020-02-07\", \"2020-02-08\", \"2020-02-09\", \"2020-02-10\", \"2020-02-11\", \"2020-02-12\", \"2020-02-13\", \"2020-02-14\", \"2020-02-15\", \"2020-02-16\", \"2020-02-17\", \"2020-02-18\", \"2020-02-19\", \"2020-02-20\", \"2020-02-21\", \"2020-02-22\", \"2020-02-23\", \"2020-02-24\", \"2020-02-25\", \"2020-02-26\", \"2020-02-27\", \"2020-02-28\", \"2020-02-29\", \"2020-03-01\", \"2020-03-02\", \"2020-03-03\", \"2020-03-04\", \"2020-03-05\", \"2020-03-06\", \"2020-03-07\", \"2020-03-08\", \"2020-03-09\", \"2020-03-10\", \"2020-03-11\", \"2020-03-12\", \"2020-03-13\", \"2020-03-14\", \"2020-03-15\", \"2020-03-16\", \"2020-03-17\", \"2020-03-18\", \"2020-03-19\", \"2020-03-20\", \"2020-03-21\", \"2020-03-22\", \"2020-03-23\", \"2020-03-24\", \"2020-03-25\", \"2020-03-26\", \"2020-03-27\", \"2020-03-28\", \"2020-03-29\", \"2020-03-30\", \"2020-03-31\", \"2020-04-01\", \"2020-04-02\", \"2020-04-03\", \"2020-04-04\", \"2020-04-05\", \"2020-04-06\", \"2020-04-07\", \"2020-04-08\", \"2020-04-09\", \"2020-04-10\", \"2020-04-11\", \"2020-04-12\", \"2020-04-13\", \"2020-04-14\", \"2020-04-15\", \"2020-04-16\", \"2020-04-17\", \"2020-04-18\", \"2020-04-19\", \"2020-04-20\", \"2020-04-21\", \"2020-04-22\", \"2020-04-23\", \"2020-04-24\", \"2020-04-25\", \"2020-04-26\", \"2020-04-27\", \"2020-04-28\", \"2020-04-29\", \"2020-04-30\", \"2020-05-01\", \"2020-05-02\", \"2020-05-03\", \"2020-05-04\", \"2020-05-05\", \"2020-05-06\", \"2020-05-07\", \"2020-05-08\", \"2020-05-09\", \"2020-05-10\", \"2020-05-11\", \"2020-05-12\", \"2020-05-13\", \"2020-05-14\", \"2020-05-15\", \"2020-05-16\", \"2020-05-17\", \"2020-05-18\", \"2020-05-19\", \"2020-05-20\", \"2020-05-21\", \"2020-05-22\", \"2020-05-23\", \"2020-05-24\", \"2020-05-25\", \"2020-05-26\", \"2020-05-27\", \"2020-05-28\", \"2020-05-29\", \"2020-05-30\", \"2020-05-31\", \"2020-06-01\", \"2020-06-02\", \"2020-06-03\"], \"y\": [0.0, 0.0, 1.0, 4.0, 7.0, 9.0, 10.0, 11.0, 10.0, 9.0, 6.0, 2.0, 0.0, 0.0, 0.0, 0.0, 0.0, 0.0, 0.0, 0.0, 0.0, 0.0, 0.0, 4.0, 18.0, 32.0, 45.0, 57.0, 65.0, 69.0, 68.0, 62.0, 51.0, 36.0, 19.0, 3.0, 0.0, 0.0, 3.0, 37.0, 97.0, 190.0, 321.0, 494.0, 714.0, 982.0, 1297.0, 1659.0, 2062.0, 2501.0, 2966.0, 3448.0, 3935.0, 4413.0, 4870.0, 5293.0, 5667.0, 5983.0, 6231.0, 6404.0, 6497.0, 6509.0, 6441.0, 6299.0, 6089.0, 5820.0, 5504.0, 5154.0, 4782.0, 4401.0, 4024.0, 3661.0, 3322.0, 3013.0, 2740.0, 2504.0, 2307.0, 2146.0, 2018.0, 1918.0, 1841.0, 1780.0, 1731.0, 1687.0, 1643.0, 1597.0, 1545.0, 1487.0, 1421.0, 1350.0, 1273.0, 1193.0, 1113.0, 1034.0, 959.0, 890.0, 829.0, 776.0, 732.0, 697.0, 670.0, 651.0, 638.0, 631.0, 627.0, 626.0, 626.0, 626.0, 625.0, 622.0, 616.0, 607.0, 594.0, 578.0, 557.0, 533.0, 505.0, 475.0, 442.0, 408.0, 374.0, 340.0, 308.0, 279.0, 252.0, 230.0, 212.0, 198.0, 189.0, 184.0, 183.0, 186.0, 190.0, 197.0, 204.0, 212.0, 220.0, 226.0, 232.0, 236.0, 239.0, 241.0, 241.0, 240.0, 239.0, 237.0, 235.0, 233.0, 231.0, 229.0, 228.0, 227.0, 227.0, 227.0, 227.0, 228.0, 228.0, 229.0, 230.0, 231.0, 232.0, 232.0, 232.0, 233.0, 233.0, 232.0, 232.0, 232.0, 232.0, 231.0, 231.0, 231.0, 231.0, 231.0, 231.0, 231.0, 231.0, 232.0, 232.0, 232.0, 233.0, 233.0, 233.0, 233.0, 233.0, 232.0, 232.0, 231.0, 231.0, 230.0, 230.0, 229.0, 229.0, 229.0, 230.0, 231.0, 232.0, 233.0, 234.0, 235.0, 236.0, 237.0, 237.0, 237.0, 236.0, 234.0, 232.0, 230.0, 227.0, 224.0, 222.0, 221.0, 220.0, 221.0, 223.0, 227.0, 232.0, 237.0, 243.0, 249.0, 254.0, 257.0, 258.0, 255.0, 248.0, 236.0, 220.0, 198.0, 172.0, 141.0, 107.0, 70.0, 32.0, 0.0]}, {\"name\": \"Ipd=conv(deconv(Ipd))\", \"type\": \"scatter\", \"x\": [\"2020-01-22\", \"2020-01-23\", \"2020-01-24\", \"2020-01-25\", \"2020-01-26\", \"2020-01-27\", \"2020-01-28\", \"2020-01-29\", \"2020-01-30\", \"2020-01-31\", \"2020-02-01\", \"2020-02-02\", \"2020-02-03\", \"2020-02-04\", \"2020-02-05\", \"2020-02-06\", \"2020-02-07\", \"2020-02-08\", \"2020-02-09\", \"2020-02-10\", \"2020-02-11\", \"2020-02-12\", \"2020-02-13\", \"2020-02-14\", \"2020-02-15\", \"2020-02-16\", \"2020-02-17\", \"2020-02-18\", \"2020-02-19\", \"2020-02-20\", \"2020-02-21\", \"2020-02-22\", \"2020-02-23\", \"2020-02-24\", \"2020-02-25\", \"2020-02-26\", \"2020-02-27\", \"2020-02-28\", \"2020-02-29\", \"2020-03-01\", \"2020-03-02\", \"2020-03-03\", \"2020-03-04\", \"2020-03-05\", \"2020-03-06\", \"2020-03-07\", \"2020-03-08\", \"2020-03-09\", \"2020-03-10\", \"2020-03-11\", \"2020-03-12\", \"2020-03-13\", \"2020-03-14\", \"2020-03-15\", \"2020-03-16\", \"2020-03-17\", \"2020-03-18\", \"2020-03-19\", \"2020-03-20\", \"2020-03-21\", \"2020-03-22\", \"2020-03-23\", \"2020-03-24\", \"2020-03-25\", \"2020-03-26\", \"2020-03-27\", \"2020-03-28\", \"2020-03-29\", \"2020-03-30\", \"2020-03-31\", \"2020-04-01\", \"2020-04-02\", \"2020-04-03\", \"2020-04-04\", \"2020-04-05\", \"2020-04-06\", \"2020-04-07\", \"2020-04-08\", \"2020-04-09\", \"2020-04-10\", \"2020-04-11\", \"2020-04-12\", \"2020-04-13\", \"2020-04-14\", \"2020-04-15\", \"2020-04-16\", \"2020-04-17\", \"2020-04-18\", \"2020-04-19\", \"2020-04-20\", \"2020-04-21\", \"2020-04-22\", \"2020-04-23\", \"2020-04-24\", \"2020-04-25\", \"2020-04-26\", \"2020-04-27\", \"2020-04-28\", \"2020-04-29\", \"2020-04-30\", \"2020-05-01\", \"2020-05-02\", \"2020-05-03\", \"2020-05-04\", \"2020-05-05\", \"2020-05-06\", \"2020-05-07\", \"2020-05-08\", \"2020-05-09\", \"2020-05-10\", \"2020-05-11\", \"2020-05-12\", \"2020-05-13\", \"2020-05-14\", \"2020-05-15\", \"2020-05-16\", \"2020-05-17\", \"2020-05-18\", \"2020-05-19\", \"2020-05-20\", \"2020-05-21\", \"2020-05-22\", \"2020-05-23\", \"2020-05-24\", \"2020-05-25\", \"2020-05-26\", \"2020-05-27\", \"2020-05-28\", \"2020-05-29\", \"2020-05-30\", \"2020-05-31\", \"2020-06-01\", \"2020-06-02\", \"2020-06-03\"], \"y\": [-3.2337589396370783e-13, 0.0, -6.467517879274157e-13, 0.0008495563537710243, 0.05636469212202226, 0.31038628470786433, 0.8540963282000222, 1.6599538324900398, 2.62896675910791, 3.683374784092626, 4.675472859975708, 5.498553789686735, 6.00678026232474, 6.0624458583088, 5.71557237263874, 5.155256376862639, 4.521920710036648, 3.8898261105236696, 3.2980801183785338, 2.765306059522522, 2.298063126044387, 1.8959558381393435, 1.55479091171995, 1.2685258934198322, 1.033851671391959, 1.0610561770534939, 2.0234803934815218, 4.361969326090912, 8.1459294238916, 13.24646501073031, 19.28739861475656, 25.73858741766453, 31.97662411943703, 37.353502486864535, 41.252572219064476, 43.16701260687494, 42.80238178290359, 40.19008137700027, 36.18646290739465, 31.691126094687167, 27.412080659022408, 25.374498262842362, 28.35282139654806, 39.56749082449108, 62.642154266632154, 101.45471854389208, 160.07632343704446, 242.53493667079343, 352.5258869005772, 493.3035998921865, 667.3632425814316, 876.273639034594, 1120.4185631741418, 1398.9070302376529, 1709.477146745275, 2048.3845775731647, 2410.5175517516986, 2789.5290848504583, 3177.869891677683, 3567.164902898548, 3948.515325094536, 4312.822706235319, 4651.12903601311, 4955.022618081606, 5216.983803836944, 5430.792257019394, 5591.73445647518, 5696.763656984019, 5744.678860897817, 5736.191274919853, 5673.793141095844, 5561.606040737904, 5405.209167649125, 5211.295708214705, 4987.367242046839, 4741.31737422074, 4481.118533576863, 4214.3998607441745, 3948.2149880341794, 3688.7221056035132, 3440.9908470772525, 3208.8763555906767, 2994.9987391918085, 2800.7150110705848, 2626.3079911787363, 2471.053326500276, 2333.374390553317, 2211.1706359120135, 2101.969111499031, 2003.1974474488104, 1912.3024624620207, 1827.0292035985656, 1745.4278493678537, 1665.9733857605397, 1587.6700306792602, 1509.9633143292583, 1432.7361759451924, 1356.2622175173847, 1281.134554787419, 1208.1063170117234, 1138.015639985789, 1071.707192096615, 1009.9215886883235, 953.2795457584444, 902.1968348673271, 856.9201791396699, 817.4392857997285, 783.5599520520753, 754.904408784222, 730.9383568530211, 711.0146401639284, 694.4020935631285, 680.307105857935, 667.9401676950373, 656.5164907186748, 645.3395251946976, 633.7207357007117, 621.09067601272, 606.9654613693257, 591.0218143762717, 573.0258091058341, 552.8915227343042, 530.702155779303, 506.6388925444078, 481.02551554150546, 454.3225711926986, 426.9957233335048, 399.6199310688309, 372.78768041844097, 347.04164836380295, 322.9153845527538, 300.86683891152427, 281.2663651531144, 264.41290694200006, 250.39445458850298, 239.235580881743, 230.80812230271027, 224.91152626220077, 221.2873463702639, 219.5439459041749, 219.3169206571742, 220.21241954964717, 221.8632536406814, 223.9585725198677, 226.1849728452041, 228.28514273420637, 230.11692525819188, 231.57131687276691, 232.59819973797536, 233.19969638317158, 233.403925420914, 233.25194897953614, 232.8401928485984, 232.25295784469242, 231.59608816848134, 230.94576907321058, 230.3410712879662, 229.85087534195267, 229.4692465984892, 229.22047456273356, 229.12646164020708, 229.18697996677415, 229.39090293242626, 229.67133733668436, 229.97328702742837, 230.319185542926, 230.68098200862588, 230.97410281621916, 231.19627565861285, 231.36859059050997, 231.50250127962974, 231.5553429644239, 231.5460117453689, 231.5061731167508, 231.4526324859038, 231.39498263910303, 231.33863136117395, 231.28645346390377, 231.2406308635916, 231.25283747624442, 231.3104334204917, 231.38705767359238, 231.52039226465135, 231.690685129501, 231.86746666038184, 232.036111748034, 232.18874543354198, 232.27130937065675, 232.2950706194804, 232.23647302966396, 232.12178650244468, 231.9350235291436, 231.7058462570918, 231.4192572069224, 231.10540456099423, 230.8003275980536, 230.5723723837596, 230.46804000820535, 230.50188133554232, 230.67258170054149, 230.9707202253886, 231.38314229949523, 231.89548521132295, 232.49276158338856, 233.10970989097223, 233.69408485725728, 234.16978868969346, 234.43644465608176, 234.44096658676693, 234.17353756218438, 233.5948518125085, 232.68949843738497, 231.52515642888704, 230.2218536449883, 228.86723159089942, 227.6131604156463, 226.6180057323702, 226.06470537741845, 226.1019925878333, 226.78259174442357, 228.14233662356224, 230.17093815315653, 232.7641844663436, 235.70942976614822, 238.73540824851452, 241.4561019754845, 243.41796875396787, 244.11433888091304, 243.07808400915465, 239.80905190550982, 233.8917847159615, 224.9677482405243, 212.8161709938542, 197.33825754911766, 178.61196541738497, 157.2189821474613, 135.39201480181336, 114.8248483420198, 96.2653016308307, 79.97741915436137, 65.95992145078661, 54.07024021719606, 44.09795135589573, 35.80832713195157, 28.96755655048259, 23.356577358849, 18.777854456125734, 15.05786012215552, 12.047018081803982, 9.618234923526042, 7.664727378058807, 6.097583163468779, 4.843316759814318, 3.8415675100284314, 3.0430147953296305, 2.4075397245982257, 1.9026354640438108, 1.5020527538787065, 1.1846591184546318, 0.9334869725881719, 0.7349454038892065, 0.5781716480776595, 0.4545003838216063, 0.3570314568716236, 0.28027919430531056, 0.21988891060662152, 0.17240844356050125, 0.13510454633168492, 0.10581569295447682, 0.08283433783199144, 0.0648129244824304, 0.05068899014404451, 0.0396255858053539, 0.030963952127624202, 0.024185982840572252, 0.01888448987709934, 0.014739676880263789, 0.011500545467727838, 0.00897021527824917, 0.006994344974029648, 0.005452007534626723, 0.004248505689065496, 0.0033097193041410518, 0.002577661532005651, 0.0020069876168741355, 0.001562253971375564, 0.0012157675536501402, 0.0009458996030945046, 0.0007357639551628381, 0.0005721819331584913, 0.0004448718316982397, 0.00034581481724874015, 0.00026875883243822807, 0.00020883085865837833, 0.00016223382554017007, 0.00012600991629167565, 9.785568432158066e-05, 7.597775968153858e-05, 5.898024828638882e-05, 4.5776906578491135e-05, 3.5522651160135865e-05, 2.7560167816571065e-05, 2.1378324082535176e-05, 1.6579710063524544e-05, 1.2855435812121464e-05, 9.965445335385287e-06, 7.723197793691523e-06, 5.983776160671065e-06, 4.634643038217393e-06, 3.588383292986287e-06, 2.7771093300543725e-06, 2.1481165377837087e-06, 1.6605180765812596e-06, 1.2825436392126398e-06, 9.895620880545014e-07, 7.62444445475315e-07, 5.863720111341941e-07, 4.4986631514297595e-07, 3.440115607291874e-07, 2.619082806631923e-07, 1.9822974637564686e-07, 1.488607570839425e-07, 1.1061476672896082e-07, 8.105521879365874e-08, 5.8296023376492995e-08, 4.089193276336624e-08, 2.770733165865143e-08, 1.78950964861239e-08, 1.0768174737070998e-08, 5.807063037840029e-09, 2.5775888287979696e-09, 7.403286872431636e-10, 1.6168794698185392e-13]}, {\"name\": \"Ipd\", \"type\": \"bar\", \"x\": [\"2020-01-22\", \"2020-01-23\", \"2020-01-24\", \"2020-01-25\", \"2020-01-26\", \"2020-01-27\", \"2020-01-28\", \"2020-01-29\", \"2020-01-30\", \"2020-01-31\", \"2020-02-01\", \"2020-02-02\", \"2020-02-03\", \"2020-02-04\", \"2020-02-05\", \"2020-02-06\", \"2020-02-07\", \"2020-02-08\", \"2020-02-09\", \"2020-02-10\", \"2020-02-11\", \"2020-02-12\", \"2020-02-13\", \"2020-02-14\", \"2020-02-15\", \"2020-02-16\", \"2020-02-17\", \"2020-02-18\", \"2020-02-19\", \"2020-02-20\", \"2020-02-21\", \"2020-02-22\", \"2020-02-23\", \"2020-02-24\", \"2020-02-25\", \"2020-02-26\", \"2020-02-27\", \"2020-02-28\", \"2020-02-29\", \"2020-03-01\", \"2020-03-02\", \"2020-03-03\", \"2020-03-04\", \"2020-03-05\", \"2020-03-06\", \"2020-03-07\", \"2020-03-08\", \"2020-03-09\", \"2020-03-10\", \"2020-03-11\", \"2020-03-12\", \"2020-03-13\", \"2020-03-14\", \"2020-03-15\", \"2020-03-16\", \"2020-03-17\", \"2020-03-18\", \"2020-03-19\", \"2020-03-20\", \"2020-03-21\", \"2020-03-22\", \"2020-03-23\", \"2020-03-24\", \"2020-03-25\", \"2020-03-26\", \"2020-03-27\", \"2020-03-28\", \"2020-03-29\", \"2020-03-30\", \"2020-03-31\", \"2020-04-01\", \"2020-04-02\", \"2020-04-03\", \"2020-04-04\", \"2020-04-05\", \"2020-04-06\", \"2020-04-07\", \"2020-04-08\", \"2020-04-09\", \"2020-04-10\", \"2020-04-11\", \"2020-04-12\", \"2020-04-13\", \"2020-04-14\", \"2020-04-15\", \"2020-04-16\", \"2020-04-17\", \"2020-04-18\", \"2020-04-19\", \"2020-04-20\", \"2020-04-21\", \"2020-04-22\", \"2020-04-23\", \"2020-04-24\", \"2020-04-25\", \"2020-04-26\", \"2020-04-27\", \"2020-04-28\", \"2020-04-29\", \"2020-04-30\", \"2020-05-01\", \"2020-05-02\", \"2020-05-03\", \"2020-05-04\", \"2020-05-05\", \"2020-05-06\", \"2020-05-07\", \"2020-05-08\", \"2020-05-09\", \"2020-05-10\", \"2020-05-11\", \"2020-05-12\", \"2020-05-13\", \"2020-05-14\", \"2020-05-15\", \"2020-05-16\", \"2020-05-17\", \"2020-05-18\", \"2020-05-19\", \"2020-05-20\", \"2020-05-21\", \"2020-05-22\", \"2020-05-23\", \"2020-05-24\", \"2020-05-25\", \"2020-05-26\", \"2020-05-27\", \"2020-05-28\", \"2020-05-29\", \"2020-05-30\", \"2020-05-31\", \"2020-06-01\", \"2020-06-02\", \"2020-06-03\"], \"y\": [0.0, 0.0, 0.0, 0.0, 0.0, 1.0, 3.0, 0.0, 0.0, 1.0, 3.0, 2.0, 2.0, 0.0, 0.0, 0.0, 1.0, 0.0, 1.0, 0.0, 2.0, 0.0, 0.0, 0.0, 0.0, 0.0, 0.0, 0.0, 0.0, 0.0, 0.0, 0.0, 0.0, 0.0, 1.0, 10.0, 19.0, 2.0, 31.0, 51.0, 29.0, 37.0, 66.0, 220.0, 188.0, 129.0, 241.0, 136.0, 281.0, 451.0, 170.0, 1597.0, 910.0, 1210.0, 1477.0, 1985.0, 3070.0, 2993.0, 4528.0, 2365.0, 2660.0, 4183.0, 3930.0, 4337.0, 6615.0, 6933.0, 6824.0, 4400.0, 4790.0, 4923.0, 6064.0, 6922.0, 6365.0, 4933.0, 4031.0, 3251.0, 4289.0, 5633.0, 4885.0, 3990.0, 2737.0, 2946.0, 2218.0, 1287.0, 3394.0, 2945.0, 3699.0, 1945.0, 1842.0, 1881.0, 1226.0, 2357.0, 2481.0, 1870.0, 1514.0, 1257.0, 988.0, 1154.0, 1627.0, 1470.0, 1068.0, 890.0, 697.0, 488.0, 855.0, 1155.0, 1268.0, 1158.0, 736.0, 555.0, 697.0, 595.0, 927.0, 380.0, 755.0, 519.0, 617.0, 182.0, 1227.0, 695.0, 548.0, 689.0, 276.0, 342.0, 272.0, 600.0, 324.0, 672.0, 726.0, 267.0, 221.0, 184.0, 285.0, 242.0]}, {\"name\": \"Ipd=lowpass(Ipd)\", \"type\": \"scatter\", \"x\": [\"2020-01-22\", \"2020-01-23\", \"2020-01-24\", \"2020-01-25\", \"2020-01-26\", \"2020-01-27\", \"2020-01-28\", \"2020-01-29\", \"2020-01-30\", \"2020-01-31\", \"2020-02-01\", \"2020-02-02\", \"2020-02-03\", \"2020-02-04\", \"2020-02-05\", \"2020-02-06\", \"2020-02-07\", \"2020-02-08\", \"2020-02-09\", \"2020-02-10\", \"2020-02-11\", \"2020-02-12\", \"2020-02-13\", \"2020-02-14\", \"2020-02-15\", \"2020-02-16\", \"2020-02-17\", \"2020-02-18\", \"2020-02-19\", \"2020-02-20\", \"2020-02-21\", \"2020-02-22\", \"2020-02-23\", \"2020-02-24\", \"2020-02-25\", \"2020-02-26\", \"2020-02-27\", \"2020-02-28\", \"2020-02-29\", \"2020-03-01\", \"2020-03-02\", \"2020-03-03\", \"2020-03-04\", \"2020-03-05\", \"2020-03-06\", \"2020-03-07\", \"2020-03-08\", \"2020-03-09\", \"2020-03-10\", \"2020-03-11\", \"2020-03-12\", \"2020-03-13\", \"2020-03-14\", \"2020-03-15\", \"2020-03-16\", \"2020-03-17\", \"2020-03-18\", \"2020-03-19\", \"2020-03-20\", \"2020-03-21\", \"2020-03-22\", \"2020-03-23\", \"2020-03-24\", \"2020-03-25\", \"2020-03-26\", \"2020-03-27\", \"2020-03-28\", \"2020-03-29\", \"2020-03-30\", \"2020-03-31\", \"2020-04-01\", \"2020-04-02\", \"2020-04-03\", \"2020-04-04\", \"2020-04-05\", \"2020-04-06\", \"2020-04-07\", \"2020-04-08\", \"2020-04-09\", \"2020-04-10\", \"2020-04-11\", \"2020-04-12\", \"2020-04-13\", \"2020-04-14\", \"2020-04-15\", \"2020-04-16\", \"2020-04-17\", \"2020-04-18\", \"2020-04-19\", \"2020-04-20\", \"2020-04-21\", \"2020-04-22\", \"2020-04-23\", \"2020-04-24\", \"2020-04-25\", \"2020-04-26\", \"2020-04-27\", \"2020-04-28\", \"2020-04-29\", \"2020-04-30\", \"2020-05-01\", \"2020-05-02\", \"2020-05-03\", \"2020-05-04\", \"2020-05-05\", \"2020-05-06\", \"2020-05-07\", \"2020-05-08\", \"2020-05-09\", \"2020-05-10\", \"2020-05-11\", \"2020-05-12\", \"2020-05-13\", \"2020-05-14\", \"2020-05-15\", \"2020-05-16\", \"2020-05-17\", \"2020-05-18\", \"2020-05-19\", \"2020-05-20\", \"2020-05-21\", \"2020-05-22\", \"2020-05-23\", \"2020-05-24\", \"2020-05-25\", \"2020-05-26\", \"2020-05-27\", \"2020-05-28\", \"2020-05-29\", \"2020-05-30\", \"2020-05-31\", \"2020-06-01\", \"2020-06-02\", \"2020-06-03\"], \"y\": [-0.7471785119638755, -0.8118609939312138, -0.8294402248213267, -0.7721946838346979, -0.6140553597452814, -0.3342322752376666, 0.07897107447364483, 0.6245411843395093, 1.285777218468274, 2.0284164478753586, 2.800304270330279, 3.532976997192446, 4.145397546757821, 4.549904956773354, 4.660215645497982, 4.401059061141547, 3.7187604654246784, 2.591825333093415, 1.0403673758699084, -0.8669065160371594, -3.009450162936462, -5.2165276072512246, -7.274611902646316, -8.940919216413565, -9.962850385122708, -10.102389361088079, -9.16373210077964, -7.021661823635889, -3.6475309698726983, 0.8707527966739438, 6.3185200390473195, 12.357516135809748, 18.545467734426122, 24.37400835265847, 29.325474389517918, 32.94727516865826, 34.94050896187453, 35.257417709820416, 34.200360590566824, 32.51347258452364, 31.457286438198892, 32.856534476755634, 39.11225474797957, 53.17127188925893, 78.4490871308603, 118.70605580380467, 177.88112663030998, 259.89179603483336, 368.41255750171797, 506.64631240363957, 677.1035548000915, 881.4026918905619, 1120.102120872239, 1392.5714601815362, 1696.9063865971452, 2029.8892597457843, 2386.996257678789, 2762.451366746093, 3149.328711713965, 3539.707341924176, 3924.885336193205, 4295.660221912808, 4642.677500439176, 4956.837914363974, 5229.739613194193, 5454.118584842201, 5624.244743820309, 5736.234690710954, 5788.254176049869, 5780.598767375712, 5715.654238086389, 5597.745693155747, 5432.887756685926, 5228.451025689023, 4992.764885601397, 4734.682624950966, 4463.138113660555, 4186.721535265468, 3913.2956432945284, 3649.6675973206684, 3401.328323431921, 3172.2719816483054, 2964.9093645711946, 2780.086689062653, 2617.2130377416397, 2474.486787815396, 2349.1976321822426, 2238.070969862561, 2137.618586067731, 2044.463452318915, 1955.6141875890955, 1868.6727942444834, 1781.965965263736, 1694.5959427905368, 1606.4129209018652, 1517.9179210396085, 1430.1119734304707, 1344.3124251497288, 1261.9588478286898, 1184.4293406116692, 1112.8842580193743, 1048.149986646273, 990.6510125607368, 940.3938593110431, 897.0009682847116, 859.786335325132, 827.8588561768422, 800.2356396054843, 775.9474464280613, 754.1220819446269, 734.0377370161615, 715.1448997931062, 697.0607936776329, 679.5435365590505, 662.4544378942483, 645.7165054667225, 629.2757647306156, 613.0697858435, 597.0053169986166, 580.9447239257449, 564.6996718773659, 548.030552608179, 530.6513424550795, 512.2410117975135, 492.4632218984323, 470.995196642769, 447.5644724431669, 421.98953367595504, 394.2182459287918, 364.35738762971664, 332.6877144013829, 299.6614114560135, 265.88157877194817, 232.0656987106877]}],\n",
              "                        {\"template\": {\"data\": {\"bar\": [{\"error_x\": {\"color\": \"#2a3f5f\"}, \"error_y\": {\"color\": \"#2a3f5f\"}, \"marker\": {\"line\": {\"color\": \"#E5ECF6\", \"width\": 0.5}}, \"type\": \"bar\"}], \"barpolar\": [{\"marker\": {\"line\": {\"color\": \"#E5ECF6\", \"width\": 0.5}}, \"type\": \"barpolar\"}], \"carpet\": [{\"aaxis\": {\"endlinecolor\": \"#2a3f5f\", \"gridcolor\": \"white\", \"linecolor\": \"white\", \"minorgridcolor\": \"white\", \"startlinecolor\": \"#2a3f5f\"}, \"baxis\": {\"endlinecolor\": \"#2a3f5f\", \"gridcolor\": \"white\", \"linecolor\": \"white\", \"minorgridcolor\": \"white\", \"startlinecolor\": \"#2a3f5f\"}, \"type\": \"carpet\"}], \"choropleth\": [{\"colorbar\": {\"outlinewidth\": 0, \"ticks\": \"\"}, \"type\": \"choropleth\"}], \"contour\": [{\"colorbar\": {\"outlinewidth\": 0, \"ticks\": \"\"}, \"colorscale\": [[0.0, \"#0d0887\"], [0.1111111111111111, \"#46039f\"], [0.2222222222222222, \"#7201a8\"], [0.3333333333333333, \"#9c179e\"], [0.4444444444444444, \"#bd3786\"], [0.5555555555555556, \"#d8576b\"], [0.6666666666666666, \"#ed7953\"], [0.7777777777777778, \"#fb9f3a\"], [0.8888888888888888, \"#fdca26\"], [1.0, \"#f0f921\"]], \"type\": \"contour\"}], \"contourcarpet\": [{\"colorbar\": {\"outlinewidth\": 0, \"ticks\": \"\"}, \"type\": \"contourcarpet\"}], \"heatmap\": [{\"colorbar\": {\"outlinewidth\": 0, \"ticks\": \"\"}, \"colorscale\": [[0.0, \"#0d0887\"], [0.1111111111111111, \"#46039f\"], [0.2222222222222222, \"#7201a8\"], [0.3333333333333333, \"#9c179e\"], [0.4444444444444444, \"#bd3786\"], [0.5555555555555556, \"#d8576b\"], [0.6666666666666666, \"#ed7953\"], [0.7777777777777778, \"#fb9f3a\"], [0.8888888888888888, \"#fdca26\"], [1.0, \"#f0f921\"]], \"type\": \"heatmap\"}], \"heatmapgl\": [{\"colorbar\": {\"outlinewidth\": 0, \"ticks\": \"\"}, \"colorscale\": [[0.0, \"#0d0887\"], [0.1111111111111111, \"#46039f\"], [0.2222222222222222, \"#7201a8\"], [0.3333333333333333, \"#9c179e\"], [0.4444444444444444, \"#bd3786\"], [0.5555555555555556, \"#d8576b\"], [0.6666666666666666, \"#ed7953\"], [0.7777777777777778, \"#fb9f3a\"], [0.8888888888888888, \"#fdca26\"], [1.0, \"#f0f921\"]], \"type\": \"heatmapgl\"}], \"histogram\": [{\"marker\": {\"colorbar\": {\"outlinewidth\": 0, \"ticks\": \"\"}}, \"type\": \"histogram\"}], \"histogram2d\": [{\"colorbar\": {\"outlinewidth\": 0, \"ticks\": \"\"}, \"colorscale\": [[0.0, \"#0d0887\"], [0.1111111111111111, \"#46039f\"], [0.2222222222222222, \"#7201a8\"], [0.3333333333333333, \"#9c179e\"], [0.4444444444444444, \"#bd3786\"], [0.5555555555555556, \"#d8576b\"], [0.6666666666666666, \"#ed7953\"], [0.7777777777777778, \"#fb9f3a\"], [0.8888888888888888, \"#fdca26\"], [1.0, \"#f0f921\"]], \"type\": \"histogram2d\"}], \"histogram2dcontour\": [{\"colorbar\": {\"outlinewidth\": 0, \"ticks\": \"\"}, \"colorscale\": [[0.0, \"#0d0887\"], [0.1111111111111111, \"#46039f\"], [0.2222222222222222, \"#7201a8\"], [0.3333333333333333, \"#9c179e\"], [0.4444444444444444, \"#bd3786\"], [0.5555555555555556, \"#d8576b\"], [0.6666666666666666, \"#ed7953\"], [0.7777777777777778, \"#fb9f3a\"], [0.8888888888888888, \"#fdca26\"], [1.0, \"#f0f921\"]], \"type\": \"histogram2dcontour\"}], \"mesh3d\": [{\"colorbar\": {\"outlinewidth\": 0, \"ticks\": \"\"}, \"type\": \"mesh3d\"}], \"parcoords\": [{\"line\": {\"colorbar\": {\"outlinewidth\": 0, \"ticks\": \"\"}}, \"type\": \"parcoords\"}], \"pie\": [{\"automargin\": true, \"type\": \"pie\"}], \"scatter\": [{\"marker\": {\"colorbar\": {\"outlinewidth\": 0, \"ticks\": \"\"}}, \"type\": \"scatter\"}], \"scatter3d\": [{\"line\": {\"colorbar\": {\"outlinewidth\": 0, \"ticks\": \"\"}}, \"marker\": {\"colorbar\": {\"outlinewidth\": 0, \"ticks\": \"\"}}, \"type\": \"scatter3d\"}], \"scattercarpet\": [{\"marker\": {\"colorbar\": {\"outlinewidth\": 0, \"ticks\": \"\"}}, \"type\": \"scattercarpet\"}], \"scattergeo\": [{\"marker\": {\"colorbar\": {\"outlinewidth\": 0, \"ticks\": \"\"}}, \"type\": \"scattergeo\"}], \"scattergl\": [{\"marker\": {\"colorbar\": {\"outlinewidth\": 0, \"ticks\": \"\"}}, \"type\": \"scattergl\"}], \"scattermapbox\": [{\"marker\": {\"colorbar\": {\"outlinewidth\": 0, \"ticks\": \"\"}}, \"type\": \"scattermapbox\"}], \"scatterpolar\": [{\"marker\": {\"colorbar\": {\"outlinewidth\": 0, \"ticks\": \"\"}}, \"type\": \"scatterpolar\"}], \"scatterpolargl\": [{\"marker\": {\"colorbar\": {\"outlinewidth\": 0, \"ticks\": \"\"}}, \"type\": \"scatterpolargl\"}], \"scatterternary\": [{\"marker\": {\"colorbar\": {\"outlinewidth\": 0, \"ticks\": \"\"}}, \"type\": \"scatterternary\"}], \"surface\": [{\"colorbar\": {\"outlinewidth\": 0, \"ticks\": \"\"}, \"colorscale\": [[0.0, \"#0d0887\"], [0.1111111111111111, \"#46039f\"], [0.2222222222222222, \"#7201a8\"], [0.3333333333333333, \"#9c179e\"], [0.4444444444444444, \"#bd3786\"], [0.5555555555555556, \"#d8576b\"], [0.6666666666666666, \"#ed7953\"], [0.7777777777777778, \"#fb9f3a\"], [0.8888888888888888, \"#fdca26\"], [1.0, \"#f0f921\"]], \"type\": \"surface\"}], \"table\": [{\"cells\": {\"fill\": {\"color\": \"#EBF0F8\"}, \"line\": {\"color\": \"white\"}}, \"header\": {\"fill\": {\"color\": \"#C8D4E3\"}, \"line\": {\"color\": \"white\"}}, \"type\": \"table\"}]}, \"layout\": {\"annotationdefaults\": {\"arrowcolor\": \"#2a3f5f\", \"arrowhead\": 0, \"arrowwidth\": 1}, \"coloraxis\": {\"colorbar\": {\"outlinewidth\": 0, \"ticks\": \"\"}}, \"colorscale\": {\"diverging\": [[0, \"#8e0152\"], [0.1, \"#c51b7d\"], [0.2, \"#de77ae\"], [0.3, \"#f1b6da\"], [0.4, \"#fde0ef\"], [0.5, \"#f7f7f7\"], [0.6, \"#e6f5d0\"], [0.7, \"#b8e186\"], [0.8, \"#7fbc41\"], [0.9, \"#4d9221\"], [1, \"#276419\"]], \"sequential\": [[0.0, \"#0d0887\"], [0.1111111111111111, \"#46039f\"], [0.2222222222222222, \"#7201a8\"], [0.3333333333333333, \"#9c179e\"], [0.4444444444444444, \"#bd3786\"], [0.5555555555555556, \"#d8576b\"], [0.6666666666666666, \"#ed7953\"], [0.7777777777777778, \"#fb9f3a\"], [0.8888888888888888, \"#fdca26\"], [1.0, \"#f0f921\"]], \"sequentialminus\": [[0.0, \"#0d0887\"], [0.1111111111111111, \"#46039f\"], [0.2222222222222222, \"#7201a8\"], [0.3333333333333333, \"#9c179e\"], [0.4444444444444444, \"#bd3786\"], [0.5555555555555556, \"#d8576b\"], [0.6666666666666666, \"#ed7953\"], [0.7777777777777778, \"#fb9f3a\"], [0.8888888888888888, \"#fdca26\"], [1.0, \"#f0f921\"]]}, \"colorway\": [\"#636efa\", \"#EF553B\", \"#00cc96\", \"#ab63fa\", \"#FFA15A\", \"#19d3f3\", \"#FF6692\", \"#B6E880\", \"#FF97FF\", \"#FECB52\"], \"font\": {\"color\": \"#2a3f5f\"}, \"geo\": {\"bgcolor\": \"white\", \"lakecolor\": \"white\", \"landcolor\": \"#E5ECF6\", \"showlakes\": true, \"showland\": true, \"subunitcolor\": \"white\"}, \"hoverlabel\": {\"align\": \"left\"}, \"hovermode\": \"closest\", \"mapbox\": {\"style\": \"light\"}, \"paper_bgcolor\": \"white\", \"plot_bgcolor\": \"#E5ECF6\", \"polar\": {\"angularaxis\": {\"gridcolor\": \"white\", \"linecolor\": \"white\", \"ticks\": \"\"}, \"bgcolor\": \"#E5ECF6\", \"radialaxis\": {\"gridcolor\": \"white\", \"linecolor\": \"white\", \"ticks\": \"\"}}, \"scene\": {\"xaxis\": {\"backgroundcolor\": \"#E5ECF6\", \"gridcolor\": \"white\", \"gridwidth\": 2, \"linecolor\": \"white\", \"showbackground\": true, \"ticks\": \"\", \"zerolinecolor\": \"white\"}, \"yaxis\": {\"backgroundcolor\": \"#E5ECF6\", \"gridcolor\": \"white\", \"gridwidth\": 2, \"linecolor\": \"white\", \"showbackground\": true, \"ticks\": \"\", \"zerolinecolor\": \"white\"}, \"zaxis\": {\"backgroundcolor\": \"#E5ECF6\", \"gridcolor\": \"white\", \"gridwidth\": 2, \"linecolor\": \"white\", \"showbackground\": true, \"ticks\": \"\", \"zerolinecolor\": \"white\"}}, \"shapedefaults\": {\"line\": {\"color\": \"#2a3f5f\"}}, \"ternary\": {\"aaxis\": {\"gridcolor\": \"white\", \"linecolor\": \"white\", \"ticks\": \"\"}, \"baxis\": {\"gridcolor\": \"white\", \"linecolor\": \"white\", \"ticks\": \"\"}, \"bgcolor\": \"#E5ECF6\", \"caxis\": {\"gridcolor\": \"white\", \"linecolor\": \"white\", \"ticks\": \"\"}}, \"title\": {\"x\": 0.05}, \"xaxis\": {\"automargin\": true, \"gridcolor\": \"white\", \"linecolor\": \"white\", \"ticks\": \"\", \"title\": {\"standoff\": 15}, \"zerolinecolor\": \"white\", \"zerolinewidth\": 2}, \"yaxis\": {\"automargin\": true, \"gridcolor\": \"white\", \"linecolor\": \"white\", \"ticks\": \"\", \"title\": {\"standoff\": 15}, \"zerolinecolor\": \"white\", \"zerolinewidth\": 2}}}, \"title\": {\"text\": \"$\\\\text{Germany: Actual } I_{pd} \\\\text{ vs. convolution of deconvolution of } I_{pd}$\", \"x\": 0.5, \"xanchor\": \"center\"}, \"xaxis\": {\"title\": {\"text\": \"Day\"}}, \"yaxis\": {\"title\": {\"text\": \"Count\"}}},\n",
              "                        {\"responsive\": true}\n",
              "                    ).then(function(){\n",
              "                            \n",
              "var gd = document.getElementById('bb2456e2-4527-426d-831d-256ead739c40');\n",
              "var x = new MutationObserver(function (mutations, observer) {{\n",
              "        var display = window.getComputedStyle(gd).display;\n",
              "        if (!display || display === 'none') {{\n",
              "            console.log([gd, 'removed!']);\n",
              "            Plotly.purge(gd);\n",
              "            observer.disconnect();\n",
              "        }}\n",
              "}});\n",
              "\n",
              "// Listen for the removal of the full notebook cells\n",
              "var notebookContainer = gd.closest('#notebook-container');\n",
              "if (notebookContainer) {{\n",
              "    x.observe(notebookContainer, {childList: true});\n",
              "}}\n",
              "\n",
              "// Listen for the clearing of the current output cell\n",
              "var outputEl = gd.closest('.output');\n",
              "if (outputEl) {{\n",
              "    x.observe(outputEl, {childList: true});\n",
              "}}\n",
              "\n",
              "                        })\n",
              "                };\n",
              "                \n",
              "            </script>\n",
              "        </div>\n",
              "</body>\n",
              "</html>"
            ]
          },
          "metadata": {
            "tags": []
          }
        }
      ]
    },
    {
      "cell_type": "markdown",
      "metadata": {
        "colab_type": "text",
        "id": "nrLu_wtjlwkk"
      },
      "source": [
        "We can see that our estimate for $\\hat{E}_{pd}$ must be close to the reality of $E_{pd}$ as $I_{pd}$ is almost identical to $\\hat{E}_{pd} \\circledast h_L$.\n",
        "\n",
        "Of course, this holds only as long as our estimate of $h_L$ is close to reality.\n",
        "\n"
      ]
    },
    {
      "cell_type": "markdown",
      "metadata": {
        "colab_type": "text",
        "id": "QgKjJm_Jlwkl"
      },
      "source": [
        "#### 3. $\\beta$ and $R$ from $E_{pd}$ and $I$\n",
        "\n",
        "As described above:\n",
        "$$\\beta = \\frac{N~E_{pd}}{S~I}$$ and if $S$~$N$, then $$\\beta = \\frac{E_{pd}}{I}$$\n",
        "It is easier to simply say :\n",
        "$$R = \\frac{E_{pd}}{\\gamma~I}$$"
      ]
    },
    {
      "cell_type": "code",
      "metadata": {
        "colab_type": "code",
        "outputId": "2f12f7a6-26d5-43a1-ce85-39c4fd8ed497",
        "id": "p7_-WVP5lwkl",
        "colab": {
          "base_uri": "https://localhost:8080/",
          "height": 542
        }
      },
      "source": [
        "#collapse_hide\n",
        "\n",
        "# Calculate R\n",
        "gam = 1/20.11 # As we say gamma is 1/20.11\n",
        "R = Enext[:len(inf_df.loc['Germany'])]*(1/gam)/inf_df.loc['Germany']\n",
        "\n",
        "fig = go.Figure(data=[    \n",
        "    go.Scatter(name='R', x=inf_df.loc['Germany'].index, y=R),\n",
        "    go.Scatter(name='Epd=deconv(Ipd)', x=inf_df.loc['Germany'].index, y=Enext),\n",
        "    go.Scatter(name='Inf', x=inf_df.loc['Germany'].index, y=inf_df.loc['Germany']),\n",
        "])\n",
        "\n",
        "fig.update_layout(\n",
        "    \n",
        "    xaxis_title = 'Day',\n",
        "    yaxis_title = 'R',\n",
        "    title={\n",
        "        'text':r'$\\text{Germany: R }$',\n",
        "        'x':0.5,\n",
        "        'xanchor':'center'\n",
        "    }\n",
        ")\n",
        "\n",
        "fig.show()"
      ],
      "execution_count": 234,
      "outputs": [
        {
          "output_type": "display_data",
          "data": {
            "text/html": [
              "<html>\n",
              "<head><meta charset=\"utf-8\" /></head>\n",
              "<body>\n",
              "    <div>\n",
              "            <script src=\"https://cdnjs.cloudflare.com/ajax/libs/mathjax/2.7.5/MathJax.js?config=TeX-AMS-MML_SVG\"></script><script type=\"text/javascript\">if (window.MathJax) {MathJax.Hub.Config({SVG: {font: \"STIX-Web\"}});}</script>\n",
              "                <script type=\"text/javascript\">window.PlotlyConfig = {MathJaxConfig: 'local'};</script>\n",
              "        <script src=\"https://cdn.plot.ly/plotly-latest.min.js\"></script>    \n",
              "            <div id=\"f49a2b49-e100-4a9b-a32e-6f2a9d58a8fd\" class=\"plotly-graph-div\" style=\"height:525px; width:100%;\"></div>\n",
              "            <script type=\"text/javascript\">\n",
              "                \n",
              "                    window.PLOTLYENV=window.PLOTLYENV || {};\n",
              "                    \n",
              "                if (document.getElementById(\"f49a2b49-e100-4a9b-a32e-6f2a9d58a8fd\")) {\n",
              "                    Plotly.newPlot(\n",
              "                        'f49a2b49-e100-4a9b-a32e-6f2a9d58a8fd',\n",
              "                        [{\"name\": \"R\", \"type\": \"scatter\", \"x\": [\"2020-01-22\", \"2020-01-23\", \"2020-01-24\", \"2020-01-25\", \"2020-01-26\", \"2020-01-27\", \"2020-01-28\", \"2020-01-29\", \"2020-01-30\", \"2020-01-31\", \"2020-02-01\", \"2020-02-02\", \"2020-02-03\", \"2020-02-04\", \"2020-02-05\", \"2020-02-06\", \"2020-02-07\", \"2020-02-08\", \"2020-02-09\", \"2020-02-10\", \"2020-02-11\", \"2020-02-12\", \"2020-02-13\", \"2020-02-14\", \"2020-02-15\", \"2020-02-16\", \"2020-02-17\", \"2020-02-18\", \"2020-02-19\", \"2020-02-20\", \"2020-02-21\", \"2020-02-22\", \"2020-02-23\", \"2020-02-24\", \"2020-02-25\", \"2020-02-26\", \"2020-02-27\", \"2020-02-28\", \"2020-02-29\", \"2020-03-01\", \"2020-03-02\", \"2020-03-03\", \"2020-03-04\", \"2020-03-05\", \"2020-03-06\", \"2020-03-07\", \"2020-03-08\", \"2020-03-09\", \"2020-03-10\", \"2020-03-11\", \"2020-03-12\", \"2020-03-13\", \"2020-03-14\", \"2020-03-15\", \"2020-03-16\", \"2020-03-17\", \"2020-03-18\", \"2020-03-19\", \"2020-03-20\", \"2020-03-21\", \"2020-03-22\", \"2020-03-23\", \"2020-03-24\", \"2020-03-25\", \"2020-03-26\", \"2020-03-27\", \"2020-03-28\", \"2020-03-29\", \"2020-03-30\", \"2020-03-31\", \"2020-04-01\", \"2020-04-02\", \"2020-04-03\", \"2020-04-04\", \"2020-04-05\", \"2020-04-06\", \"2020-04-07\", \"2020-04-08\", \"2020-04-09\", \"2020-04-10\", \"2020-04-11\", \"2020-04-12\", \"2020-04-13\", \"2020-04-14\", \"2020-04-15\", \"2020-04-16\", \"2020-04-17\", \"2020-04-18\", \"2020-04-19\", \"2020-04-20\", \"2020-04-21\", \"2020-04-22\", \"2020-04-23\", \"2020-04-24\", \"2020-04-25\", \"2020-04-26\", \"2020-04-27\", \"2020-04-28\", \"2020-04-29\", \"2020-04-30\", \"2020-05-01\", \"2020-05-02\", \"2020-05-03\", \"2020-05-04\", \"2020-05-05\", \"2020-05-06\", \"2020-05-07\", \"2020-05-08\", \"2020-05-09\", \"2020-05-10\", \"2020-05-11\", \"2020-05-12\", \"2020-05-13\", \"2020-05-14\", \"2020-05-15\", \"2020-05-16\", \"2020-05-17\", \"2020-05-18\", \"2020-05-19\", \"2020-05-20\", \"2020-05-21\", \"2020-05-22\", \"2020-05-23\", \"2020-05-24\", \"2020-05-25\", \"2020-05-26\", \"2020-05-27\", \"2020-05-28\", \"2020-05-29\", \"2020-05-30\", \"2020-05-31\", \"2020-06-01\", \"2020-06-02\", \"2020-06-03\"], \"y\": [null, null, null, null, null, 180.99, 50.275, 55.302499999999995, 50.275, 36.198, 15.0825, 4.022, 0.0, 0.0, 0.0, 0.0, 0.0, 0.0, 0.0, 0.0, 0.0, 0.0, 0.0, 5.362666666666667, 24.132, 42.90133333333333, 60.33, 286.5675, 326.78749999999997, 346.8975, 683.74, 623.41, 512.805, 361.98, 127.36333333333333, 5.0275, 0.0, 0.0, 0.9576190476190476, 6.526929824561403, 13.64104895104895, 21.227222222222224, 26.241097560975607, 21.31832618025751, 21.98857580398162, 25.285556978233036, 25.52120352250489, 28.860285467128026, 28.85652052887961, 26.752718085106384, 29.095736585365852, 19.14392048591938, 17.46862030905077, 15.466265249215754, 13.624888703394546, 11.6127241981235, 9.345856158766606, 7.934981863747279, 6.392806999642875, 5.881642309097552, 5.330015501978542, 4.566086092022186, 4.378033867369702, 3.7733955913017576, 3.2225325017106163, 2.6678261265984364, 2.2690276952092003, 1.9798464212718, 1.8233981797497156, 1.61112828354541, 1.3891821740026093, 1.2020623050924941, 1.0229129216493897, 0.88781253663111, 0.7889775054052893, 0.6910880544576196, 0.6669029410919126, 0.6675647748542082, 0.6424553960137412, 0.5889508482081507, 0.5715820107453838, 0.554698444182731, 0.5562723321295023, 0.5667012444667168, 0.5662604329123034, 0.5669538890654239, 0.5761055793513935, 0.55912289886506, 0.5432965131754058, 0.5354416898408378, 0.5326902908984976, 0.5219001936087363, 0.5057719076241696, 0.5272380131342072, 0.4722668723675188, 0.44976378348494744, 0.4371968425469422, 0.43111111111111106, 0.4245650669127827, 0.42621997202456974, 0.44261686541178014, 0.4490348139255702, 0.4550031917157245, 0.4795876639328773, 0.5060997832543951, 0.5998408538619144, 0.6189822008063722, 0.5888698662176068, 0.6138583638583639, 0.6282481165243596, 0.6419193698828894, 0.6694877420062524, 0.6811507099275816, 0.7133656560697189, 0.7116887985259547, 0.7045241225187326, 0.7054424840233398, 0.7072073739542459, 0.6341766552511415, 0.613999850333009, 0.5907737019872751, 0.5506039619906586, 0.5157698392872013, 0.4769372662359741, 0.4568806346916697, 0.42586318018598657, 0.4148812767613857, 0.38411923596372755, 0.37361545266882923, 0.37947287457696643, 0.38664950619878125, 0.3976251727437015, 0.4388308257723671, 0.4911567071658815]}, {\"name\": \"Epd=deconv(Ipd)\", \"type\": \"scatter\", \"x\": [\"2020-01-22\", \"2020-01-23\", \"2020-01-24\", \"2020-01-25\", \"2020-01-26\", \"2020-01-27\", \"2020-01-28\", \"2020-01-29\", \"2020-01-30\", \"2020-01-31\", \"2020-02-01\", \"2020-02-02\", \"2020-02-03\", \"2020-02-04\", \"2020-02-05\", \"2020-02-06\", \"2020-02-07\", \"2020-02-08\", \"2020-02-09\", \"2020-02-10\", \"2020-02-11\", \"2020-02-12\", \"2020-02-13\", \"2020-02-14\", \"2020-02-15\", \"2020-02-16\", \"2020-02-17\", \"2020-02-18\", \"2020-02-19\", \"2020-02-20\", \"2020-02-21\", \"2020-02-22\", \"2020-02-23\", \"2020-02-24\", \"2020-02-25\", \"2020-02-26\", \"2020-02-27\", \"2020-02-28\", \"2020-02-29\", \"2020-03-01\", \"2020-03-02\", \"2020-03-03\", \"2020-03-04\", \"2020-03-05\", \"2020-03-06\", \"2020-03-07\", \"2020-03-08\", \"2020-03-09\", \"2020-03-10\", \"2020-03-11\", \"2020-03-12\", \"2020-03-13\", \"2020-03-14\", \"2020-03-15\", \"2020-03-16\", \"2020-03-17\", \"2020-03-18\", \"2020-03-19\", \"2020-03-20\", \"2020-03-21\", \"2020-03-22\", \"2020-03-23\", \"2020-03-24\", \"2020-03-25\", \"2020-03-26\", \"2020-03-27\", \"2020-03-28\", \"2020-03-29\", \"2020-03-30\", \"2020-03-31\", \"2020-04-01\", \"2020-04-02\", \"2020-04-03\", \"2020-04-04\", \"2020-04-05\", \"2020-04-06\", \"2020-04-07\", \"2020-04-08\", \"2020-04-09\", \"2020-04-10\", \"2020-04-11\", \"2020-04-12\", \"2020-04-13\", \"2020-04-14\", \"2020-04-15\", \"2020-04-16\", \"2020-04-17\", \"2020-04-18\", \"2020-04-19\", \"2020-04-20\", \"2020-04-21\", \"2020-04-22\", \"2020-04-23\", \"2020-04-24\", \"2020-04-25\", \"2020-04-26\", \"2020-04-27\", \"2020-04-28\", \"2020-04-29\", \"2020-04-30\", \"2020-05-01\", \"2020-05-02\", \"2020-05-03\", \"2020-05-04\", \"2020-05-05\", \"2020-05-06\", \"2020-05-07\", \"2020-05-08\", \"2020-05-09\", \"2020-05-10\", \"2020-05-11\", \"2020-05-12\", \"2020-05-13\", \"2020-05-14\", \"2020-05-15\", \"2020-05-16\", \"2020-05-17\", \"2020-05-18\", \"2020-05-19\", \"2020-05-20\", \"2020-05-21\", \"2020-05-22\", \"2020-05-23\", \"2020-05-24\", \"2020-05-25\", \"2020-05-26\", \"2020-05-27\", \"2020-05-28\", \"2020-05-29\", \"2020-05-30\", \"2020-05-31\", \"2020-06-01\", \"2020-06-02\", \"2020-06-03\"], \"y\": [0.0, 0.0, 1.0, 4.0, 7.0, 9.0, 10.0, 11.0, 10.0, 9.0, 6.0, 2.0, 0.0, 0.0, 0.0, 0.0, 0.0, 0.0, 0.0, 0.0, 0.0, 0.0, 0.0, 4.0, 18.0, 32.0, 45.0, 57.0, 65.0, 69.0, 68.0, 62.0, 51.0, 36.0, 19.0, 3.0, 0.0, 0.0, 3.0, 37.0, 97.0, 190.0, 321.0, 494.0, 714.0, 982.0, 1297.0, 1659.0, 2062.0, 2501.0, 2966.0, 3448.0, 3935.0, 4413.0, 4870.0, 5293.0, 5667.0, 5983.0, 6231.0, 6404.0, 6497.0, 6509.0, 6441.0, 6299.0, 6089.0, 5820.0, 5504.0, 5154.0, 4782.0, 4401.0, 4024.0, 3661.0, 3322.0, 3013.0, 2740.0, 2504.0, 2307.0, 2146.0, 2018.0, 1918.0, 1841.0, 1780.0, 1731.0, 1687.0, 1643.0, 1597.0, 1545.0, 1487.0, 1421.0, 1350.0, 1273.0, 1193.0, 1113.0, 1034.0, 959.0, 890.0, 829.0, 776.0, 732.0, 697.0, 670.0, 651.0, 638.0, 631.0, 627.0, 626.0, 626.0, 626.0, 625.0, 622.0, 616.0, 607.0, 594.0, 578.0, 557.0, 533.0, 505.0, 475.0, 442.0, 408.0, 374.0, 340.0, 308.0, 279.0, 252.0, 230.0, 212.0, 198.0, 189.0, 184.0, 183.0, 186.0, 190.0, 197.0, 204.0, 212.0, 220.0, 226.0, 232.0, 236.0, 239.0, 241.0, 241.0, 240.0, 239.0, 237.0, 235.0, 233.0, 231.0, 229.0, 228.0, 227.0, 227.0, 227.0, 227.0, 228.0, 228.0, 229.0, 230.0, 231.0, 232.0, 232.0, 232.0, 233.0, 233.0, 232.0, 232.0, 232.0, 232.0, 231.0, 231.0, 231.0, 231.0, 231.0, 231.0, 231.0, 231.0, 232.0, 232.0, 232.0, 233.0, 233.0, 233.0, 233.0, 233.0, 232.0, 232.0, 231.0, 231.0, 230.0, 230.0, 229.0, 229.0, 229.0, 230.0, 231.0, 232.0, 233.0, 234.0, 235.0, 236.0, 237.0, 237.0, 237.0, 236.0, 234.0, 232.0, 230.0, 227.0, 224.0, 222.0, 221.0, 220.0, 221.0, 223.0, 227.0, 232.0, 237.0, 243.0, 249.0, 254.0, 257.0, 258.0, 255.0, 248.0, 236.0, 220.0, 198.0, 172.0, 141.0, 107.0, 70.0, 32.0, 0.0]}, {\"name\": \"Inf\", \"type\": \"scatter\", \"x\": [\"2020-01-22\", \"2020-01-23\", \"2020-01-24\", \"2020-01-25\", \"2020-01-26\", \"2020-01-27\", \"2020-01-28\", \"2020-01-29\", \"2020-01-30\", \"2020-01-31\", \"2020-02-01\", \"2020-02-02\", \"2020-02-03\", \"2020-02-04\", \"2020-02-05\", \"2020-02-06\", \"2020-02-07\", \"2020-02-08\", \"2020-02-09\", \"2020-02-10\", \"2020-02-11\", \"2020-02-12\", \"2020-02-13\", \"2020-02-14\", \"2020-02-15\", \"2020-02-16\", \"2020-02-17\", \"2020-02-18\", \"2020-02-19\", \"2020-02-20\", \"2020-02-21\", \"2020-02-22\", \"2020-02-23\", \"2020-02-24\", \"2020-02-25\", \"2020-02-26\", \"2020-02-27\", \"2020-02-28\", \"2020-02-29\", \"2020-03-01\", \"2020-03-02\", \"2020-03-03\", \"2020-03-04\", \"2020-03-05\", \"2020-03-06\", \"2020-03-07\", \"2020-03-08\", \"2020-03-09\", \"2020-03-10\", \"2020-03-11\", \"2020-03-12\", \"2020-03-13\", \"2020-03-14\", \"2020-03-15\", \"2020-03-16\", \"2020-03-17\", \"2020-03-18\", \"2020-03-19\", \"2020-03-20\", \"2020-03-21\", \"2020-03-22\", \"2020-03-23\", \"2020-03-24\", \"2020-03-25\", \"2020-03-26\", \"2020-03-27\", \"2020-03-28\", \"2020-03-29\", \"2020-03-30\", \"2020-03-31\", \"2020-04-01\", \"2020-04-02\", \"2020-04-03\", \"2020-04-04\", \"2020-04-05\", \"2020-04-06\", \"2020-04-07\", \"2020-04-08\", \"2020-04-09\", \"2020-04-10\", \"2020-04-11\", \"2020-04-12\", \"2020-04-13\", \"2020-04-14\", \"2020-04-15\", \"2020-04-16\", \"2020-04-17\", \"2020-04-18\", \"2020-04-19\", \"2020-04-20\", \"2020-04-21\", \"2020-04-22\", \"2020-04-23\", \"2020-04-24\", \"2020-04-25\", \"2020-04-26\", \"2020-04-27\", \"2020-04-28\", \"2020-04-29\", \"2020-04-30\", \"2020-05-01\", \"2020-05-02\", \"2020-05-03\", \"2020-05-04\", \"2020-05-05\", \"2020-05-06\", \"2020-05-07\", \"2020-05-08\", \"2020-05-09\", \"2020-05-10\", \"2020-05-11\", \"2020-05-12\", \"2020-05-13\", \"2020-05-14\", \"2020-05-15\", \"2020-05-16\", \"2020-05-17\", \"2020-05-18\", \"2020-05-19\", \"2020-05-20\", \"2020-05-21\", \"2020-05-22\", \"2020-05-23\", \"2020-05-24\", \"2020-05-25\", \"2020-05-26\", \"2020-05-27\", \"2020-05-28\", \"2020-05-29\", \"2020-05-30\", \"2020-05-31\", \"2020-06-01\", \"2020-06-02\", \"2020-06-03\"], \"y\": [0, 0, 0, 0, 0, 1, 4, 4, 4, 5, 8, 10, 12, 12, 12, 12, 13, 13, 14, 14, 16, 16, 15, 15, 15, 15, 15, 4, 4, 4, 2, 2, 2, 2, 3, 12, 30, 32, 63, 114, 143, 180, 246, 466, 653, 781, 1022, 1156, 1437, 1880, 2050, 3622, 4530, 5738, 7188, 9166, 12194, 15163, 19601, 21896, 24513, 28667, 29586, 33570, 37998, 43871, 48781, 52351, 52740, 54933, 58252, 61247, 65309, 68248, 69839, 72864, 69566, 64647, 63167, 65491, 64772, 64532, 62578, 59865, 58349, 56646, 53931, 53483, 52598, 50703, 48058, 45969, 44254, 39439, 40836, 39794, 38132, 36198, 34672, 32886, 30441, 29155, 28198, 26459, 24914, 20987, 20338, 21378, 20475, 19910, 19298, 18233, 17537, 16294, 15739, 15214, 14396, 13507, 14016, 13363, 12731, 12418, 12009, 11764, 11092, 10861, 10276, 10366, 10173, 9751, 9518, 9407, 8707, 8066]}],\n",
              "                        {\"template\": {\"data\": {\"bar\": [{\"error_x\": {\"color\": \"#2a3f5f\"}, \"error_y\": {\"color\": \"#2a3f5f\"}, \"marker\": {\"line\": {\"color\": \"#E5ECF6\", \"width\": 0.5}}, \"type\": \"bar\"}], \"barpolar\": [{\"marker\": {\"line\": {\"color\": \"#E5ECF6\", \"width\": 0.5}}, \"type\": \"barpolar\"}], \"carpet\": [{\"aaxis\": {\"endlinecolor\": \"#2a3f5f\", \"gridcolor\": \"white\", \"linecolor\": \"white\", \"minorgridcolor\": \"white\", \"startlinecolor\": \"#2a3f5f\"}, \"baxis\": {\"endlinecolor\": \"#2a3f5f\", \"gridcolor\": \"white\", \"linecolor\": \"white\", \"minorgridcolor\": \"white\", \"startlinecolor\": \"#2a3f5f\"}, \"type\": \"carpet\"}], \"choropleth\": [{\"colorbar\": {\"outlinewidth\": 0, \"ticks\": \"\"}, \"type\": \"choropleth\"}], \"contour\": [{\"colorbar\": {\"outlinewidth\": 0, \"ticks\": \"\"}, \"colorscale\": [[0.0, \"#0d0887\"], [0.1111111111111111, \"#46039f\"], [0.2222222222222222, \"#7201a8\"], [0.3333333333333333, \"#9c179e\"], [0.4444444444444444, \"#bd3786\"], [0.5555555555555556, \"#d8576b\"], [0.6666666666666666, \"#ed7953\"], [0.7777777777777778, \"#fb9f3a\"], [0.8888888888888888, \"#fdca26\"], [1.0, \"#f0f921\"]], \"type\": \"contour\"}], \"contourcarpet\": [{\"colorbar\": {\"outlinewidth\": 0, \"ticks\": \"\"}, \"type\": \"contourcarpet\"}], \"heatmap\": [{\"colorbar\": {\"outlinewidth\": 0, \"ticks\": \"\"}, \"colorscale\": [[0.0, \"#0d0887\"], [0.1111111111111111, \"#46039f\"], [0.2222222222222222, \"#7201a8\"], [0.3333333333333333, \"#9c179e\"], [0.4444444444444444, \"#bd3786\"], [0.5555555555555556, \"#d8576b\"], [0.6666666666666666, \"#ed7953\"], [0.7777777777777778, \"#fb9f3a\"], [0.8888888888888888, \"#fdca26\"], [1.0, \"#f0f921\"]], \"type\": \"heatmap\"}], \"heatmapgl\": [{\"colorbar\": {\"outlinewidth\": 0, \"ticks\": \"\"}, \"colorscale\": [[0.0, \"#0d0887\"], [0.1111111111111111, \"#46039f\"], [0.2222222222222222, \"#7201a8\"], [0.3333333333333333, \"#9c179e\"], [0.4444444444444444, \"#bd3786\"], [0.5555555555555556, \"#d8576b\"], [0.6666666666666666, \"#ed7953\"], [0.7777777777777778, \"#fb9f3a\"], [0.8888888888888888, \"#fdca26\"], [1.0, \"#f0f921\"]], \"type\": \"heatmapgl\"}], \"histogram\": [{\"marker\": {\"colorbar\": {\"outlinewidth\": 0, \"ticks\": \"\"}}, \"type\": \"histogram\"}], \"histogram2d\": [{\"colorbar\": {\"outlinewidth\": 0, \"ticks\": \"\"}, \"colorscale\": [[0.0, \"#0d0887\"], [0.1111111111111111, \"#46039f\"], [0.2222222222222222, \"#7201a8\"], [0.3333333333333333, \"#9c179e\"], [0.4444444444444444, \"#bd3786\"], [0.5555555555555556, \"#d8576b\"], [0.6666666666666666, \"#ed7953\"], [0.7777777777777778, \"#fb9f3a\"], [0.8888888888888888, \"#fdca26\"], [1.0, \"#f0f921\"]], \"type\": \"histogram2d\"}], \"histogram2dcontour\": [{\"colorbar\": {\"outlinewidth\": 0, \"ticks\": \"\"}, \"colorscale\": [[0.0, \"#0d0887\"], [0.1111111111111111, \"#46039f\"], [0.2222222222222222, \"#7201a8\"], [0.3333333333333333, \"#9c179e\"], [0.4444444444444444, \"#bd3786\"], [0.5555555555555556, \"#d8576b\"], [0.6666666666666666, \"#ed7953\"], [0.7777777777777778, \"#fb9f3a\"], [0.8888888888888888, \"#fdca26\"], [1.0, \"#f0f921\"]], \"type\": \"histogram2dcontour\"}], \"mesh3d\": [{\"colorbar\": {\"outlinewidth\": 0, \"ticks\": \"\"}, \"type\": \"mesh3d\"}], \"parcoords\": [{\"line\": {\"colorbar\": {\"outlinewidth\": 0, \"ticks\": \"\"}}, \"type\": \"parcoords\"}], \"pie\": [{\"automargin\": true, \"type\": \"pie\"}], \"scatter\": [{\"marker\": {\"colorbar\": {\"outlinewidth\": 0, \"ticks\": \"\"}}, \"type\": \"scatter\"}], \"scatter3d\": [{\"line\": {\"colorbar\": {\"outlinewidth\": 0, \"ticks\": \"\"}}, \"marker\": {\"colorbar\": {\"outlinewidth\": 0, \"ticks\": \"\"}}, \"type\": \"scatter3d\"}], \"scattercarpet\": [{\"marker\": {\"colorbar\": {\"outlinewidth\": 0, \"ticks\": \"\"}}, \"type\": \"scattercarpet\"}], \"scattergeo\": [{\"marker\": {\"colorbar\": {\"outlinewidth\": 0, \"ticks\": \"\"}}, \"type\": \"scattergeo\"}], \"scattergl\": [{\"marker\": {\"colorbar\": {\"outlinewidth\": 0, \"ticks\": \"\"}}, \"type\": \"scattergl\"}], \"scattermapbox\": [{\"marker\": {\"colorbar\": {\"outlinewidth\": 0, \"ticks\": \"\"}}, \"type\": \"scattermapbox\"}], \"scatterpolar\": [{\"marker\": {\"colorbar\": {\"outlinewidth\": 0, \"ticks\": \"\"}}, \"type\": \"scatterpolar\"}], \"scatterpolargl\": [{\"marker\": {\"colorbar\": {\"outlinewidth\": 0, \"ticks\": \"\"}}, \"type\": \"scatterpolargl\"}], \"scatterternary\": [{\"marker\": {\"colorbar\": {\"outlinewidth\": 0, \"ticks\": \"\"}}, \"type\": \"scatterternary\"}], \"surface\": [{\"colorbar\": {\"outlinewidth\": 0, \"ticks\": \"\"}, \"colorscale\": [[0.0, \"#0d0887\"], [0.1111111111111111, \"#46039f\"], [0.2222222222222222, \"#7201a8\"], [0.3333333333333333, \"#9c179e\"], [0.4444444444444444, \"#bd3786\"], [0.5555555555555556, \"#d8576b\"], [0.6666666666666666, \"#ed7953\"], [0.7777777777777778, \"#fb9f3a\"], [0.8888888888888888, \"#fdca26\"], [1.0, \"#f0f921\"]], \"type\": \"surface\"}], \"table\": [{\"cells\": {\"fill\": {\"color\": \"#EBF0F8\"}, \"line\": {\"color\": \"white\"}}, \"header\": {\"fill\": {\"color\": \"#C8D4E3\"}, \"line\": {\"color\": \"white\"}}, \"type\": \"table\"}]}, \"layout\": {\"annotationdefaults\": {\"arrowcolor\": \"#2a3f5f\", \"arrowhead\": 0, \"arrowwidth\": 1}, \"coloraxis\": {\"colorbar\": {\"outlinewidth\": 0, \"ticks\": \"\"}}, \"colorscale\": {\"diverging\": [[0, \"#8e0152\"], [0.1, \"#c51b7d\"], [0.2, \"#de77ae\"], [0.3, \"#f1b6da\"], [0.4, \"#fde0ef\"], [0.5, \"#f7f7f7\"], [0.6, \"#e6f5d0\"], [0.7, \"#b8e186\"], [0.8, \"#7fbc41\"], [0.9, \"#4d9221\"], [1, \"#276419\"]], \"sequential\": [[0.0, \"#0d0887\"], [0.1111111111111111, \"#46039f\"], [0.2222222222222222, \"#7201a8\"], [0.3333333333333333, \"#9c179e\"], [0.4444444444444444, \"#bd3786\"], [0.5555555555555556, \"#d8576b\"], [0.6666666666666666, \"#ed7953\"], [0.7777777777777778, \"#fb9f3a\"], [0.8888888888888888, \"#fdca26\"], [1.0, \"#f0f921\"]], \"sequentialminus\": [[0.0, \"#0d0887\"], [0.1111111111111111, \"#46039f\"], [0.2222222222222222, \"#7201a8\"], [0.3333333333333333, \"#9c179e\"], [0.4444444444444444, \"#bd3786\"], [0.5555555555555556, \"#d8576b\"], [0.6666666666666666, \"#ed7953\"], [0.7777777777777778, \"#fb9f3a\"], [0.8888888888888888, \"#fdca26\"], [1.0, \"#f0f921\"]]}, \"colorway\": [\"#636efa\", \"#EF553B\", \"#00cc96\", \"#ab63fa\", \"#FFA15A\", \"#19d3f3\", \"#FF6692\", \"#B6E880\", \"#FF97FF\", \"#FECB52\"], \"font\": {\"color\": \"#2a3f5f\"}, \"geo\": {\"bgcolor\": \"white\", \"lakecolor\": \"white\", \"landcolor\": \"#E5ECF6\", \"showlakes\": true, \"showland\": true, \"subunitcolor\": \"white\"}, \"hoverlabel\": {\"align\": \"left\"}, \"hovermode\": \"closest\", \"mapbox\": {\"style\": \"light\"}, \"paper_bgcolor\": \"white\", \"plot_bgcolor\": \"#E5ECF6\", \"polar\": {\"angularaxis\": {\"gridcolor\": \"white\", \"linecolor\": \"white\", \"ticks\": \"\"}, \"bgcolor\": \"#E5ECF6\", \"radialaxis\": {\"gridcolor\": \"white\", \"linecolor\": \"white\", \"ticks\": \"\"}}, \"scene\": {\"xaxis\": {\"backgroundcolor\": \"#E5ECF6\", \"gridcolor\": \"white\", \"gridwidth\": 2, \"linecolor\": \"white\", \"showbackground\": true, \"ticks\": \"\", \"zerolinecolor\": \"white\"}, \"yaxis\": {\"backgroundcolor\": \"#E5ECF6\", \"gridcolor\": \"white\", \"gridwidth\": 2, \"linecolor\": \"white\", \"showbackground\": true, \"ticks\": \"\", \"zerolinecolor\": \"white\"}, \"zaxis\": {\"backgroundcolor\": \"#E5ECF6\", \"gridcolor\": \"white\", \"gridwidth\": 2, \"linecolor\": \"white\", \"showbackground\": true, \"ticks\": \"\", \"zerolinecolor\": \"white\"}}, \"shapedefaults\": {\"line\": {\"color\": \"#2a3f5f\"}}, \"ternary\": {\"aaxis\": {\"gridcolor\": \"white\", \"linecolor\": \"white\", \"ticks\": \"\"}, \"baxis\": {\"gridcolor\": \"white\", \"linecolor\": \"white\", \"ticks\": \"\"}, \"bgcolor\": \"#E5ECF6\", \"caxis\": {\"gridcolor\": \"white\", \"linecolor\": \"white\", \"ticks\": \"\"}}, \"title\": {\"x\": 0.05}, \"xaxis\": {\"automargin\": true, \"gridcolor\": \"white\", \"linecolor\": \"white\", \"ticks\": \"\", \"title\": {\"standoff\": 15}, \"zerolinecolor\": \"white\", \"zerolinewidth\": 2}, \"yaxis\": {\"automargin\": true, \"gridcolor\": \"white\", \"linecolor\": \"white\", \"ticks\": \"\", \"title\": {\"standoff\": 15}, \"zerolinecolor\": \"white\", \"zerolinewidth\": 2}}}, \"title\": {\"text\": \"$\\\\text{Germany: R }$\", \"x\": 0.5, \"xanchor\": \"center\"}, \"xaxis\": {\"title\": {\"text\": \"Day\"}}, \"yaxis\": {\"title\": {\"text\": \"R\"}}},\n",
              "                        {\"responsive\": true}\n",
              "                    ).then(function(){\n",
              "                            \n",
              "var gd = document.getElementById('f49a2b49-e100-4a9b-a32e-6f2a9d58a8fd');\n",
              "var x = new MutationObserver(function (mutations, observer) {{\n",
              "        var display = window.getComputedStyle(gd).display;\n",
              "        if (!display || display === 'none') {{\n",
              "            console.log([gd, 'removed!']);\n",
              "            Plotly.purge(gd);\n",
              "            observer.disconnect();\n",
              "        }}\n",
              "}});\n",
              "\n",
              "// Listen for the removal of the full notebook cells\n",
              "var notebookContainer = gd.closest('#notebook-container');\n",
              "if (notebookContainer) {{\n",
              "    x.observe(notebookContainer, {childList: true});\n",
              "}}\n",
              "\n",
              "// Listen for the clearing of the current output cell\n",
              "var outputEl = gd.closest('.output');\n",
              "if (outputEl) {{\n",
              "    x.observe(outputEl, {childList: true});\n",
              "}}\n",
              "\n",
              "                        })\n",
              "                };\n",
              "                \n",
              "            </script>\n",
              "        </div>\n",
              "</body>\n",
              "</html>"
            ]
          },
          "metadata": {
            "tags": []
          }
        }
      ]
    },
    {
      "cell_type": "markdown",
      "metadata": {
        "colab_type": "text",
        "id": "8fUAbTNylwkp"
      },
      "source": [
        "We can see $R<1$ since April 3rd, however the peak $E_{pd}$ is slightly ahead of that March 23rd."
      ]
    },
    {
      "cell_type": "markdown",
      "metadata": {
        "colab_type": "text",
        "id": "MSGTYjMWlv5_"
      },
      "source": [
        "### Iceland\n",
        "\n",
        "* We have daily data $I_{pd}$ and $R_{pd}$ (where $R_{pd}$ is the sum of deaths and recoveries)\n",
        "* We have our assumed $T_L$ and $T_I$\n",
        "\n",
        "Analysis steps:\n",
        "1. The first thing we want to check is whether $h_I\\circledast I_{pd} [j]$ gives us something close to $R_{pd}$ If not, why not?\n",
        "2. Can we get an estimated $E_{pd}$ by deconvolution of $I_{pd}$ ?\n",
        "3. What can that tell us about $R$ and $\\beta$ ?"
      ]
    },
    {
      "cell_type": "markdown",
      "metadata": {
        "colab_type": "text",
        "id": "D9KFL4rKlv6A"
      },
      "source": [
        "#### 1. Checking $h_I$"
      ]
    },
    {
      "cell_type": "code",
      "metadata": {
        "colab_type": "code",
        "outputId": "1c4924e9-5150-4b53-f260-67ad6eacdc2a",
        "id": "6w7um7rDlv6B",
        "colab": {
          "base_uri": "https://localhost:8080/",
          "height": 542
        }
      },
      "source": [
        "#collapse_hide\n",
        "fig = go.Figure(data=[    \n",
        "    go.Bar(name='Ipd', x=conf_df_pd.loc['Iceland'].index, y=conf_df_pd.loc['Iceland']),\n",
        "    go.Scatter(name='Ipd=lowpass(Ipd)', x=conf_df_pd.loc['Iceland'].index, y=lowpass(conf_df_pd.loc['Iceland']+deaths_df_pd.loc['Iceland'])[0]),\n",
        "    go.Bar(name='Rpd', x=rec_df_pd.loc['Iceland'].index, y=rec_df_pd.loc['Iceland']),\n",
        "    go.Scatter(name='Rpd=lowpass(Rpd)', x=rec_df_pd.loc['Iceland'].index, y=lowpass(rec_df_pd.loc['Iceland'])[0]),\n",
        "    go.Scatter(name='Rpd=conv(Ipd)', x=conf_df_pd.loc['Iceland'].index, y=signal.fftconvolve(h_I, conf_df_pd.loc['Iceland']+deaths_df_pd.loc['Iceland'], mode='full'))\n",
        "])\n",
        "\n",
        "fig.update_layout(\n",
        "    xaxis_title = 'Day',\n",
        "    yaxis_title = 'Count',\n",
        "    title={\n",
        "        'text':r'$\\text{Iceland: Actual } R_{pd} \\text{ vs. } h_I[j]\\circledast I_{pd}[j]$',\n",
        "        'x':0.5,\n",
        "        'xanchor':'center'\n",
        "    }\n",
        ")\n",
        "\n",
        "fig.show()"
      ],
      "execution_count": 235,
      "outputs": [
        {
          "output_type": "display_data",
          "data": {
            "text/html": [
              "<html>\n",
              "<head><meta charset=\"utf-8\" /></head>\n",
              "<body>\n",
              "    <div>\n",
              "            <script src=\"https://cdnjs.cloudflare.com/ajax/libs/mathjax/2.7.5/MathJax.js?config=TeX-AMS-MML_SVG\"></script><script type=\"text/javascript\">if (window.MathJax) {MathJax.Hub.Config({SVG: {font: \"STIX-Web\"}});}</script>\n",
              "                <script type=\"text/javascript\">window.PlotlyConfig = {MathJaxConfig: 'local'};</script>\n",
              "        <script src=\"https://cdn.plot.ly/plotly-latest.min.js\"></script>    \n",
              "            <div id=\"4f694376-378d-41b3-bcf8-3368f2079d94\" class=\"plotly-graph-div\" style=\"height:525px; width:100%;\"></div>\n",
              "            <script type=\"text/javascript\">\n",
              "                \n",
              "                    window.PLOTLYENV=window.PLOTLYENV || {};\n",
              "                    \n",
              "                if (document.getElementById(\"4f694376-378d-41b3-bcf8-3368f2079d94\")) {\n",
              "                    Plotly.newPlot(\n",
              "                        '4f694376-378d-41b3-bcf8-3368f2079d94',\n",
              "                        [{\"name\": \"Ipd\", \"type\": \"bar\", \"x\": [\"2020-01-22\", \"2020-01-23\", \"2020-01-24\", \"2020-01-25\", \"2020-01-26\", \"2020-01-27\", \"2020-01-28\", \"2020-01-29\", \"2020-01-30\", \"2020-01-31\", \"2020-02-01\", \"2020-02-02\", \"2020-02-03\", \"2020-02-04\", \"2020-02-05\", \"2020-02-06\", \"2020-02-07\", \"2020-02-08\", \"2020-02-09\", \"2020-02-10\", \"2020-02-11\", \"2020-02-12\", \"2020-02-13\", \"2020-02-14\", \"2020-02-15\", \"2020-02-16\", \"2020-02-17\", \"2020-02-18\", \"2020-02-19\", \"2020-02-20\", \"2020-02-21\", \"2020-02-22\", \"2020-02-23\", \"2020-02-24\", \"2020-02-25\", \"2020-02-26\", \"2020-02-27\", \"2020-02-28\", \"2020-02-29\", \"2020-03-01\", \"2020-03-02\", \"2020-03-03\", \"2020-03-04\", \"2020-03-05\", \"2020-03-06\", \"2020-03-07\", \"2020-03-08\", \"2020-03-09\", \"2020-03-10\", \"2020-03-11\", \"2020-03-12\", \"2020-03-13\", \"2020-03-14\", \"2020-03-15\", \"2020-03-16\", \"2020-03-17\", \"2020-03-18\", \"2020-03-19\", \"2020-03-20\", \"2020-03-21\", \"2020-03-22\", \"2020-03-23\", \"2020-03-24\", \"2020-03-25\", \"2020-03-26\", \"2020-03-27\", \"2020-03-28\", \"2020-03-29\", \"2020-03-30\", \"2020-03-31\", \"2020-04-01\", \"2020-04-02\", \"2020-04-03\", \"2020-04-04\", \"2020-04-05\", \"2020-04-06\", \"2020-04-07\", \"2020-04-08\", \"2020-04-09\", \"2020-04-10\", \"2020-04-11\", \"2020-04-12\", \"2020-04-13\", \"2020-04-14\", \"2020-04-15\", \"2020-04-16\", \"2020-04-17\", \"2020-04-18\", \"2020-04-19\", \"2020-04-20\", \"2020-04-21\", \"2020-04-22\", \"2020-04-23\", \"2020-04-24\", \"2020-04-25\", \"2020-04-26\", \"2020-04-27\", \"2020-04-28\", \"2020-04-29\", \"2020-04-30\", \"2020-05-01\", \"2020-05-02\", \"2020-05-03\", \"2020-05-04\", \"2020-05-05\", \"2020-05-06\", \"2020-05-07\", \"2020-05-08\", \"2020-05-09\", \"2020-05-10\", \"2020-05-11\", \"2020-05-12\", \"2020-05-13\", \"2020-05-14\", \"2020-05-15\", \"2020-05-16\", \"2020-05-17\", \"2020-05-18\", \"2020-05-19\", \"2020-05-20\", \"2020-05-21\", \"2020-05-22\", \"2020-05-23\", \"2020-05-24\", \"2020-05-25\", \"2020-05-26\", \"2020-05-27\", \"2020-05-28\", \"2020-05-29\", \"2020-05-30\", \"2020-05-31\", \"2020-06-01\", \"2020-06-02\", \"2020-06-03\"], \"y\": [0.0, 0.0, 0.0, 0.0, 0.0, 0.0, 0.0, 0.0, 0.0, 0.0, 0.0, 0.0, 0.0, 0.0, 0.0, 0.0, 0.0, 0.0, 0.0, 0.0, 0.0, 0.0, 0.0, 0.0, 0.0, 0.0, 0.0, 0.0, 0.0, 0.0, 0.0, 0.0, 0.0, 0.0, 0.0, 0.0, 0.0, 1.0, 0.0, 2.0, 3.0, 5.0, 15.0, 8.0, 9.0, 7.0, 0.0, 8.0, 11.0, 16.0, 18.0, 31.0, 22.0, 15.0, 9.0, 40.0, 30.0, 80.0, 79.0, 64.0, 95.0, 20.0, 60.0, 89.0, 65.0, 88.0, 73.0, 57.0, 66.0, 49.0, 85.0, 99.0, 45.0, 53.0, 69.0, 76.0, 24.0, 30.0, 32.0, 27.0, 14.0, 12.0, 10.0, 9.0, 7.0, 12.0, 15.0, 6.0, 11.0, 2.0, 5.0, 7.0, 4.0, 0.0, 1.0, 2.0, 0.0, 3.0, 2.0, 0.0, 1.0, 0.0, 1.0, 0.0, 0.0, 0.0, 2.0, 0.0, 0.0, 0.0, 0.0, 0.0, 1.0, 0.0, 0.0, 0.0, 0.0, 0.0, 0.0, 1.0, 0.0, 0.0, 1.0, 0.0, 0.0, 0.0, 1.0, 0.0, 0.0, 1.0, 0.0, 0.0, 0.0, 0.0]}, {\"name\": \"Ipd=lowpass(Ipd)\", \"type\": \"scatter\", \"x\": [\"2020-01-22\", \"2020-01-23\", \"2020-01-24\", \"2020-01-25\", \"2020-01-26\", \"2020-01-27\", \"2020-01-28\", \"2020-01-29\", \"2020-01-30\", \"2020-01-31\", \"2020-02-01\", \"2020-02-02\", \"2020-02-03\", \"2020-02-04\", \"2020-02-05\", \"2020-02-06\", \"2020-02-07\", \"2020-02-08\", \"2020-02-09\", \"2020-02-10\", \"2020-02-11\", \"2020-02-12\", \"2020-02-13\", \"2020-02-14\", \"2020-02-15\", \"2020-02-16\", \"2020-02-17\", \"2020-02-18\", \"2020-02-19\", \"2020-02-20\", \"2020-02-21\", \"2020-02-22\", \"2020-02-23\", \"2020-02-24\", \"2020-02-25\", \"2020-02-26\", \"2020-02-27\", \"2020-02-28\", \"2020-02-29\", \"2020-03-01\", \"2020-03-02\", \"2020-03-03\", \"2020-03-04\", \"2020-03-05\", \"2020-03-06\", \"2020-03-07\", \"2020-03-08\", \"2020-03-09\", \"2020-03-10\", \"2020-03-11\", \"2020-03-12\", \"2020-03-13\", \"2020-03-14\", \"2020-03-15\", \"2020-03-16\", \"2020-03-17\", \"2020-03-18\", \"2020-03-19\", \"2020-03-20\", \"2020-03-21\", \"2020-03-22\", \"2020-03-23\", \"2020-03-24\", \"2020-03-25\", \"2020-03-26\", \"2020-03-27\", \"2020-03-28\", \"2020-03-29\", \"2020-03-30\", \"2020-03-31\", \"2020-04-01\", \"2020-04-02\", \"2020-04-03\", \"2020-04-04\", \"2020-04-05\", \"2020-04-06\", \"2020-04-07\", \"2020-04-08\", \"2020-04-09\", \"2020-04-10\", \"2020-04-11\", \"2020-04-12\", \"2020-04-13\", \"2020-04-14\", \"2020-04-15\", \"2020-04-16\", \"2020-04-17\", \"2020-04-18\", \"2020-04-19\", \"2020-04-20\", \"2020-04-21\", \"2020-04-22\", \"2020-04-23\", \"2020-04-24\", \"2020-04-25\", \"2020-04-26\", \"2020-04-27\", \"2020-04-28\", \"2020-04-29\", \"2020-04-30\", \"2020-05-01\", \"2020-05-02\", \"2020-05-03\", \"2020-05-04\", \"2020-05-05\", \"2020-05-06\", \"2020-05-07\", \"2020-05-08\", \"2020-05-09\", \"2020-05-10\", \"2020-05-11\", \"2020-05-12\", \"2020-05-13\", \"2020-05-14\", \"2020-05-15\", \"2020-05-16\", \"2020-05-17\", \"2020-05-18\", \"2020-05-19\", \"2020-05-20\", \"2020-05-21\", \"2020-05-22\", \"2020-05-23\", \"2020-05-24\", \"2020-05-25\", \"2020-05-26\", \"2020-05-27\", \"2020-05-28\", \"2020-05-29\", \"2020-05-30\", \"2020-05-31\", \"2020-06-01\", \"2020-06-02\", \"2020-06-03\"], \"y\": [-0.00583529452605365, -0.01731193059073488, -0.029330242029604686, -0.040700906218281985, -0.050052933751968065, -0.05594372157507402, -0.05700019200930917, -0.05208235211361946, -0.040456362108600555, -0.021960456036229654, 0.002855678487659302, 0.03263867520111141, 0.06520628942285228, 0.09760605862484184, 0.12626918237712337, 0.14726315129136786, 0.1566368344851708, 0.1508405816898591, 0.12719235264087106, 0.08435013976829941, 0.02274235333662558, -0.05509720292399767, -0.14434330712656307, -0.23789002385043845, -0.32659358828253726, -0.39976398758830123, -0.44589691179031665, -0.45360849849841034, -0.41270399428517757, -0.31528122021479044, -0.15674428376176847, 0.06341362097865266, 0.3412032277315289, 0.6682403192334156, 1.032455825258105, 1.4194646956654795, 1.8145739757906894, 2.205326906393581, 2.58438918837775, 2.952496117966372, 3.3211082475860296, 3.7143836693627477, 4.170082413267013, 4.739085378486338, 5.483340786838728, 6.472234561394592, 7.777589144691135, 9.467688919371541, 11.600873218169754, 14.219309728769812, 17.34356246160694, 20.968513803080885, 25.061104660760083, 29.560224958223426, 34.37890998218069, 39.40876310283975, 44.526235416140324, 49.600089713025426, 54.499142480566, 59.09930647209416, 63.28910155963385, 66.97314008430831, 70.07352613449959, 72.52950519973761, 74.29596042561266, 75.3414446041204, 75.64639631607136, 75.20206343500547, 74.0104735762796, 72.0855524572543, 69.45520694064231, 66.16390101812392, 62.275032754983464, 57.872340360740786, 53.059656386485834, 47.95856586168919, 42.70385219260497, 37.43697685425278, 32.298177487472074, 27.41802090117339, 22.909362173013168, 18.860623700938156, 15.331138236283103, 12.349033063692104, 9.911809256526896, 7.989436568197839, 6.5294909819361795, 5.463652882664347, 4.7147873437338, 4.20384810788224, 3.855963558264705, 3.6052415923804135, 3.398034104605705, 3.1946007407611483, 2.969284004399829, 2.7094384350658807, 2.4134365639255417, 2.0881031974658355, 1.7459154654699884, 1.4022621906723576, 1.0729955432640268, 0.7724402741411538, 0.5119571119067658, 0.299091355389335, 0.1372792440177481, 0.026037164346059377, -0.03847488812755734, -0.06264226160402263, -0.05446600327007291, -0.02263181040302337, 0.024327351783464967, 0.07870734939398862, 0.13410844471344432, 0.18569761373680185, 0.23026824183221364, 0.2661269202845591, 0.29285063988347143, 0.3109645497060893, 0.3215903428245243, 0.3261092833877099, 0.32587395199983377, 0.321991285512587, 0.3151882810931229, 0.3057618308738864, 0.2936058576709748, 0.27830222221854717, 0.2592567156366062, 0.23585795809670346, 0.2076356370819599, 0.17439577780096724, 0.1363147950161655, 0.09398046282159025, 0.048375708200080844, 0.0008090579108219503]}, {\"name\": \"Rpd\", \"type\": \"bar\", \"x\": [\"2020-01-22\", \"2020-01-23\", \"2020-01-24\", \"2020-01-25\", \"2020-01-26\", \"2020-01-27\", \"2020-01-28\", \"2020-01-29\", \"2020-01-30\", \"2020-01-31\", \"2020-02-01\", \"2020-02-02\", \"2020-02-03\", \"2020-02-04\", \"2020-02-05\", \"2020-02-06\", \"2020-02-07\", \"2020-02-08\", \"2020-02-09\", \"2020-02-10\", \"2020-02-11\", \"2020-02-12\", \"2020-02-13\", \"2020-02-14\", \"2020-02-15\", \"2020-02-16\", \"2020-02-17\", \"2020-02-18\", \"2020-02-19\", \"2020-02-20\", \"2020-02-21\", \"2020-02-22\", \"2020-02-23\", \"2020-02-24\", \"2020-02-25\", \"2020-02-26\", \"2020-02-27\", \"2020-02-28\", \"2020-02-29\", \"2020-03-01\", \"2020-03-02\", \"2020-03-03\", \"2020-03-04\", \"2020-03-05\", \"2020-03-06\", \"2020-03-07\", \"2020-03-08\", \"2020-03-09\", \"2020-03-10\", \"2020-03-11\", \"2020-03-12\", \"2020-03-13\", \"2020-03-14\", \"2020-03-15\", \"2020-03-16\", \"2020-03-17\", \"2020-03-18\", \"2020-03-19\", \"2020-03-20\", \"2020-03-21\", \"2020-03-22\", \"2020-03-23\", \"2020-03-24\", \"2020-03-25\", \"2020-03-26\", \"2020-03-27\", \"2020-03-28\", \"2020-03-29\", \"2020-03-30\", \"2020-03-31\", \"2020-04-01\", \"2020-04-02\", \"2020-04-03\", \"2020-04-04\", \"2020-04-05\", \"2020-04-06\", \"2020-04-07\", \"2020-04-08\", \"2020-04-09\", \"2020-04-10\", \"2020-04-11\", \"2020-04-12\", \"2020-04-13\", \"2020-04-14\", \"2020-04-15\", \"2020-04-16\", \"2020-04-17\", \"2020-04-18\", \"2020-04-19\", \"2020-04-20\", \"2020-04-21\", \"2020-04-22\", \"2020-04-23\", \"2020-04-24\", \"2020-04-25\", \"2020-04-26\", \"2020-04-27\", \"2020-04-28\", \"2020-04-29\", \"2020-04-30\", \"2020-05-01\", \"2020-05-02\", \"2020-05-03\", \"2020-05-04\", \"2020-05-05\", \"2020-05-06\", \"2020-05-07\", \"2020-05-08\", \"2020-05-09\", \"2020-05-10\", \"2020-05-11\", \"2020-05-12\", \"2020-05-13\", \"2020-05-14\", \"2020-05-15\", \"2020-05-16\", \"2020-05-17\", \"2020-05-18\", \"2020-05-19\", \"2020-05-20\", \"2020-05-21\", \"2020-05-22\", \"2020-05-23\", \"2020-05-24\", \"2020-05-25\", \"2020-05-26\", \"2020-05-27\", \"2020-05-28\", \"2020-05-29\", \"2020-05-30\", \"2020-05-31\", \"2020-06-01\", \"2020-06-02\", \"2020-06-03\"], \"y\": [0.0, 0.0, 0.0, 0.0, 0.0, 0.0, 0.0, 0.0, 0.0, 0.0, 0.0, 0.0, 0.0, 0.0, 0.0, 0.0, 0.0, 0.0, 0.0, 0.0, 0.0, 0.0, 0.0, 0.0, 0.0, 0.0, 0.0, 0.0, 0.0, 0.0, 0.0, 0.0, 0.0, 0.0, 0.0, 0.0, 0.0, 0.0, 0.0, 0.0, 0.0, 0.0, 0.0, 0.0, 0.0, 0.0, 0.0, 0.0, 1.0, 0.0, 0.0, 0.0, 0.0, 7.0, -8.0, 0.0, 5.0, 0.0, 0.0, 17.0, 14.0, 0.0, 15.0, 5.0, 26.0, 15.0, 17.0, 21.0, 22.0, 41.0, 27.0, 59.0, 25.0, 87.0, 32.0, 32.0, 99.0, 74.0, 55.0, 63.0, 90.0, 48.0, 44.0, 56.0, 88.0, 67.0, 80.0, 67.0, 0.0, 71.0, 55.0, 45.0, 47.0, 33.0, 28.0, 38.0, 16.0, 12.0, 20.0, 14.0, 19.0, 17.0, 11.0, 6.0, 10.0, 17.0, 5.0, 10.0, 8.0, 0.0, 0.0, 3.0, 4.0, 0.0, 2.0, 4.0, 0.0, 0.0, 3.0, 0.0, 1.0, 1.0, 0.0, 0.0, 0.0, 1.0, 0.0, 0.0, 2.0, 0.0, 0.0, 0.0, 0.0, 0.0]}, {\"name\": \"Rpd=lowpass(Rpd)\", \"type\": \"scatter\", \"x\": [\"2020-01-22\", \"2020-01-23\", \"2020-01-24\", \"2020-01-25\", \"2020-01-26\", \"2020-01-27\", \"2020-01-28\", \"2020-01-29\", \"2020-01-30\", \"2020-01-31\", \"2020-02-01\", \"2020-02-02\", \"2020-02-03\", \"2020-02-04\", \"2020-02-05\", \"2020-02-06\", \"2020-02-07\", \"2020-02-08\", \"2020-02-09\", \"2020-02-10\", \"2020-02-11\", \"2020-02-12\", \"2020-02-13\", \"2020-02-14\", \"2020-02-15\", \"2020-02-16\", \"2020-02-17\", \"2020-02-18\", \"2020-02-19\", \"2020-02-20\", \"2020-02-21\", \"2020-02-22\", \"2020-02-23\", \"2020-02-24\", \"2020-02-25\", \"2020-02-26\", \"2020-02-27\", \"2020-02-28\", \"2020-02-29\", \"2020-03-01\", \"2020-03-02\", \"2020-03-03\", \"2020-03-04\", \"2020-03-05\", \"2020-03-06\", \"2020-03-07\", \"2020-03-08\", \"2020-03-09\", \"2020-03-10\", \"2020-03-11\", \"2020-03-12\", \"2020-03-13\", \"2020-03-14\", \"2020-03-15\", \"2020-03-16\", \"2020-03-17\", \"2020-03-18\", \"2020-03-19\", \"2020-03-20\", \"2020-03-21\", \"2020-03-22\", \"2020-03-23\", \"2020-03-24\", \"2020-03-25\", \"2020-03-26\", \"2020-03-27\", \"2020-03-28\", \"2020-03-29\", \"2020-03-30\", \"2020-03-31\", \"2020-04-01\", \"2020-04-02\", \"2020-04-03\", \"2020-04-04\", \"2020-04-05\", \"2020-04-06\", \"2020-04-07\", \"2020-04-08\", \"2020-04-09\", \"2020-04-10\", \"2020-04-11\", \"2020-04-12\", \"2020-04-13\", \"2020-04-14\", \"2020-04-15\", \"2020-04-16\", \"2020-04-17\", \"2020-04-18\", \"2020-04-19\", \"2020-04-20\", \"2020-04-21\", \"2020-04-22\", \"2020-04-23\", \"2020-04-24\", \"2020-04-25\", \"2020-04-26\", \"2020-04-27\", \"2020-04-28\", \"2020-04-29\", \"2020-04-30\", \"2020-05-01\", \"2020-05-02\", \"2020-05-03\", \"2020-05-04\", \"2020-05-05\", \"2020-05-06\", \"2020-05-07\", \"2020-05-08\", \"2020-05-09\", \"2020-05-10\", \"2020-05-11\", \"2020-05-12\", \"2020-05-13\", \"2020-05-14\", \"2020-05-15\", \"2020-05-16\", \"2020-05-17\", \"2020-05-18\", \"2020-05-19\", \"2020-05-20\", \"2020-05-21\", \"2020-05-22\", \"2020-05-23\", \"2020-05-24\", \"2020-05-25\", \"2020-05-26\", \"2020-05-27\", \"2020-05-28\", \"2020-05-29\", \"2020-05-30\", \"2020-05-31\", \"2020-06-01\", \"2020-06-02\", \"2020-06-03\"], \"y\": [-5.939991339220759e-05, -0.0001651593816192603, -0.00027544012021386453, -0.00037928494574697956, -0.0004641231425447799, -0.0005167889667021131, -0.0005248184330493787, -0.00047794232075287356, -0.0003696546570169242, -0.00019870216200103136, 2.9684034937571373e-05, 0.0003030030028916132, 0.0006013250598652722, 0.0008979095230721729, 0.0011606968323685015, 0.0013546982418700835, 0.0014452132603066407, 0.0014016995323650706, 0.0012020105780187465, 0.0008366146799469816, 0.0003123257223180975, -0.0003449730121313369, -0.0010891358333738098, -0.0018545656585622714, -0.0025593898985022245, -0.0031111861932013613, -0.003415208109942969, -0.00338477831191771, -0.0029532043899232483, -0.0020862546020135025, -0.000793935737672767, 0.0008599261697446701, 0.002751959980027179, 0.004699086697386806, 0.0064655546640326675, 0.007778606234586819, 0.00835389173556178, 0.00793134070838844, 0.006321751841488114, 0.0034639315644791322, -0.0005081330765920912, -0.0051887661614182234, -0.0098154164168439, -0.013175131997459337, -0.013502419568462175, -0.008367307438572707, 0.005448708444401401, 0.03209245518960435, 0.07679958454939499, 0.14608200831957002, 0.24794921745389875, 0.39216967344246184, 0.590574688992448, 0.857398963779051, 1.2096384195415768, 1.6673867344716125, 2.254086438256568, 2.9965998290000178, 3.9249760594857444, 5.071776475145108, 6.4708353779566785, 8.15538767001455, 10.155586936102344, 12.49555123875009, 15.190182637603144, 18.242085784915105, 21.638947770207782, 25.3517313915522, 29.333974979601813, 33.52238426667522, 37.83875615572565, 42.19311443183126, 46.487793547333595, 50.62210360022604, 54.49716036180439, 58.020468194053755, 61.109890036616406, 63.69671511210976, 65.72763959217916, 67.16561333418551, 67.98966735358044, 68.1939850635857, 67.7865680779269, 66.7878421819308, 65.2294469626772, 63.15328482229532, 60.6107364060061, 57.66184974185333, 54.374309851068645, 50.822064874495425, 47.08356266299898, 43.23959749049642, 39.37078837402853, 35.55474502597478, 31.863045499354936, 28.358236549074977, 25.091139820375957, 22.09877489889698, 19.403179019146283, 17.01131216989507, 14.916099755240722, 13.098511742723002, 11.530442149224502, 10.178062055042227, 9.005282044810837, 7.976970892269201, 7.061627330797433, 6.233284254939674, 5.472532753281441, 4.766673465144181, 4.109114204132417, 3.4982143073095733, 2.93581412592455, 2.4256816372713925, 1.9720684437705327, 1.5785109119847145, 1.2469533400731598, 0.9772180213189474, 0.7668063128422145, 0.6109863784728766, 0.5031063627439755, 0.4350649840078531, 0.39787308301961505, 0.38224687543480296, 0.3791833943752047, 0.38047827588795885, 0.3791544218474095, 0.36977747160212926, 0.34864159764680813, 0.3138180008671179, 0.26506895745270376, 0.20364164745414573, 0.13196653290601695, 0.05329268072263365]}, {\"name\": \"Rpd=conv(Ipd)\", \"type\": \"scatter\", \"x\": [\"2020-01-22\", \"2020-01-23\", \"2020-01-24\", \"2020-01-25\", \"2020-01-26\", \"2020-01-27\", \"2020-01-28\", \"2020-01-29\", \"2020-01-30\", \"2020-01-31\", \"2020-02-01\", \"2020-02-02\", \"2020-02-03\", \"2020-02-04\", \"2020-02-05\", \"2020-02-06\", \"2020-02-07\", \"2020-02-08\", \"2020-02-09\", \"2020-02-10\", \"2020-02-11\", \"2020-02-12\", \"2020-02-13\", \"2020-02-14\", \"2020-02-15\", \"2020-02-16\", \"2020-02-17\", \"2020-02-18\", \"2020-02-19\", \"2020-02-20\", \"2020-02-21\", \"2020-02-22\", \"2020-02-23\", \"2020-02-24\", \"2020-02-25\", \"2020-02-26\", \"2020-02-27\", \"2020-02-28\", \"2020-02-29\", \"2020-03-01\", \"2020-03-02\", \"2020-03-03\", \"2020-03-04\", \"2020-03-05\", \"2020-03-06\", \"2020-03-07\", \"2020-03-08\", \"2020-03-09\", \"2020-03-10\", \"2020-03-11\", \"2020-03-12\", \"2020-03-13\", \"2020-03-14\", \"2020-03-15\", \"2020-03-16\", \"2020-03-17\", \"2020-03-18\", \"2020-03-19\", \"2020-03-20\", \"2020-03-21\", \"2020-03-22\", \"2020-03-23\", \"2020-03-24\", \"2020-03-25\", \"2020-03-26\", \"2020-03-27\", \"2020-03-28\", \"2020-03-29\", \"2020-03-30\", \"2020-03-31\", \"2020-04-01\", \"2020-04-02\", \"2020-04-03\", \"2020-04-04\", \"2020-04-05\", \"2020-04-06\", \"2020-04-07\", \"2020-04-08\", \"2020-04-09\", \"2020-04-10\", \"2020-04-11\", \"2020-04-12\", \"2020-04-13\", \"2020-04-14\", \"2020-04-15\", \"2020-04-16\", \"2020-04-17\", \"2020-04-18\", \"2020-04-19\", \"2020-04-20\", \"2020-04-21\", \"2020-04-22\", \"2020-04-23\", \"2020-04-24\", \"2020-04-25\", \"2020-04-26\", \"2020-04-27\", \"2020-04-28\", \"2020-04-29\", \"2020-04-30\", \"2020-05-01\", \"2020-05-02\", \"2020-05-03\", \"2020-05-04\", \"2020-05-05\", \"2020-05-06\", \"2020-05-07\", \"2020-05-08\", \"2020-05-09\", \"2020-05-10\", \"2020-05-11\", \"2020-05-12\", \"2020-05-13\", \"2020-05-14\", \"2020-05-15\", \"2020-05-16\", \"2020-05-17\", \"2020-05-18\", \"2020-05-19\", \"2020-05-20\", \"2020-05-21\", \"2020-05-22\", \"2020-05-23\", \"2020-05-24\", \"2020-05-25\", \"2020-05-26\", \"2020-05-27\", \"2020-05-28\", \"2020-05-29\", \"2020-05-30\", \"2020-05-31\", \"2020-06-01\", \"2020-06-02\", \"2020-06-03\"], \"y\": [3.789561257387201e-15, 5.684341886080802e-15, 2.3684757858670005e-15, 9.473903143468002e-16, 3.789561257387201e-15, 0.0, 0.0, -2.842170943040401e-15, -9.473903143468002e-16, -9.473903143468002e-16, 4.736951571734001e-16, -3.789561257387201e-15, -4.736951571734001e-16, 1.4210854715202005e-15, 1.4210854715202005e-15, -5.684341886080802e-15, -4.263256414560601e-15, -9.473903143468002e-16, -9.473903143468002e-16, -4.736951571734001e-15, 1.8947806286936005e-15, -5.684341886080802e-15, -2.842170943040401e-15, -5.684341886080802e-15, -3.789561257387201e-15, -3.789561257387201e-15, 1.8947806286936005e-15, -5.684341886080802e-15, -7.579122514774402e-15, -3.789561257387201e-15, 1.8947806286936005e-15, -7.579122514774402e-15, -3.789561257387201e-15, 0.0, 3.789561257387201e-15, 0.0, 3.789561257387201e-15, -7.579122514774402e-15, 3.789561257387201e-15, 0.0, 0.0010044631988876062, 0.003932353470645467, 0.009569036162501258, 0.022458518961074484, 0.04776211995934053, 0.10072120615466815, 0.1956550495564784, 0.32817326372326266, 0.49758032136939645, 0.6929318108104799, 0.906330984747062, 1.1485148041573727, 1.4298702299865231, 1.7619850594005844, 2.1634948032681915, 2.650922463896147, 3.212386801146448, 3.823539756964605, 4.484223027750666, 5.236165448413671, 6.120022649359698, 7.224491019669663, 8.560889215357406, 10.144295116148715, 11.948752594449328, 13.88047739430528, 15.989870704838786, 18.29283768601175, 20.764855484462736, 23.405023058640214, 26.15512113944472, 28.96186816791078, 31.783138142738768, 34.591059579110286, 37.428020245829416, 40.257674722906785, 42.9748957824394, 45.56070577660553, 48.0251714351666, 50.319091476496276, 52.3397568375822, 54.05835588239092, 55.45504400456921, 56.50035424007117, 57.16250433430693, 57.42922676967599, 57.30019711996254, 56.78396124051253, 55.90166667593679, 54.69250242469656, 53.189406786623756, 51.41946960710171, 49.419981283512485, 47.220766722327745, 44.86542892854154, 42.395868408382256, 39.8440409598883, 37.240671463871585, 34.62144880976188, 32.018113542283494, 29.459274383802295, 26.973950125424917, 24.581270123822662, 22.29620177357091, 20.1322117959672, 18.098469568611957, 16.201771807097643, 14.443938640968025, 12.825096026448803, 11.345251993433813, 10.002392765480094, 8.788726009248983, 7.697153312217857, 6.7200416498842594, 5.8493178977845774, 5.077689055190163, 4.397754954229636, 3.8001216637115793, 3.276595174257631, 2.8195025573555363, 2.4216613432615386, 2.0764032101712875, 1.7785947908896849, 1.5235512320873137, 1.3049710222891406, 1.1189818040909234, 0.9622464136736832, 0.8297759505152811, 0.7179363246394539, 0.6246336943651936, 0.5480884633936511, 0.48472500913288835, 0.43319781495925536, 0.3924909012798698, 0.3597324127353687, 0.3332079844187518, 0.3115519422375551, 0.29362353865776925, 0.27846703918979754, 0.2652882730631925, 0.2534371859230731, 0.24239318678035318, 0.23175194593524964, 0.22121296711337238, 0.2105675654533305, 0.1996870616536133, 0.1885111249694243, 0.17703628923266024, 0.165304735175503, 0.1533934814744422, 0.14140415660049258, 0.12945353417313185, 0.11766500717237705, 0.10616115311927009, 0.09505750617495892, 0.08445760674215422, 0.07444934871461821, 0.06510259321726626, 0.0564679694543571, 0.048576741508630526, 0.04144158718497882, 0.03505811290770471, 0.029406917911994887, 0.024456021233490333, 0.02016347519641594, 0.01648000749847777, 0.013351558444083386, 0.010721608057547863, 0.008533217409276497, 0.006730737426384792, 0.005261164997235805, 0.00407514902530058, 0.00312766742448692, 0.002378409523910818, 0.0017919070256908753, 0.001337460930609306, 0.0009889123493271275, 0.0007243026288790589, 0.0005254635763321857, 0.00037757255751576696, 0.00026870060940590673, 0.00018937502631975652, 0.0001321716186936328, 9.134630945955754e-05, 6.251110395870304e-05, 4.235581030324435e-05, 2.841417214085595e-05, 1.8871219097604808e-05, 1.240751536310351e-05, 8.075451363727855e-06, 5.202634790180128e-06, 3.317661567336927e-06, 2.0939722006119154e-06, 1.3080306776676782e-06, 8.086330112178075e-07, 4.947092828426018e-07, 2.9949699040798807e-07, 1.7941454899528253e-07, 1.0634690165526688e-07, 6.236966072492578e-08, 3.6189521779306236e-08, 2.0774618292307424e-08, 1.1797880006270134e-08, 6.62790474355764e-09, 3.6832356424080595e-09, 2.0246237871409297e-09, 1.1007870170942624e-09, 5.919531531617395e-10, 3.1483011753152824e-10, 1.6559530043499157e-10, 8.614146433198282e-11, 4.431512934388593e-11, 2.2538415578310378e-11, 1.1338367282102505e-11, 5.644551492878236e-12, 2.7834327435508992e-12, 1.3547681495159243e-12, 6.518045362705986e-13, 3.1832314562052486e-13, 1.5158245029548803e-13, 7.958078640513122e-14, 3.031649005909761e-14, 2.2737367544323207e-14, 1.8947806286936004e-14, 1.1368683772161604e-14, 3.789561257387201e-15, 3.789561257387201e-15, 7.579122514774402e-15, 3.789561257387201e-15, 1.1368683772161604e-14, 1.1368683772161604e-14, 0.0, 0.0]}],\n",
              "                        {\"template\": {\"data\": {\"bar\": [{\"error_x\": {\"color\": \"#2a3f5f\"}, \"error_y\": {\"color\": \"#2a3f5f\"}, \"marker\": {\"line\": {\"color\": \"#E5ECF6\", \"width\": 0.5}}, \"type\": \"bar\"}], \"barpolar\": [{\"marker\": {\"line\": {\"color\": \"#E5ECF6\", \"width\": 0.5}}, \"type\": \"barpolar\"}], \"carpet\": [{\"aaxis\": {\"endlinecolor\": \"#2a3f5f\", \"gridcolor\": \"white\", \"linecolor\": \"white\", \"minorgridcolor\": \"white\", \"startlinecolor\": \"#2a3f5f\"}, \"baxis\": {\"endlinecolor\": \"#2a3f5f\", \"gridcolor\": \"white\", \"linecolor\": \"white\", \"minorgridcolor\": \"white\", \"startlinecolor\": \"#2a3f5f\"}, \"type\": \"carpet\"}], \"choropleth\": [{\"colorbar\": {\"outlinewidth\": 0, \"ticks\": \"\"}, \"type\": \"choropleth\"}], \"contour\": [{\"colorbar\": {\"outlinewidth\": 0, \"ticks\": \"\"}, \"colorscale\": [[0.0, \"#0d0887\"], [0.1111111111111111, \"#46039f\"], [0.2222222222222222, \"#7201a8\"], [0.3333333333333333, \"#9c179e\"], [0.4444444444444444, \"#bd3786\"], [0.5555555555555556, \"#d8576b\"], [0.6666666666666666, \"#ed7953\"], [0.7777777777777778, \"#fb9f3a\"], [0.8888888888888888, \"#fdca26\"], [1.0, \"#f0f921\"]], \"type\": \"contour\"}], \"contourcarpet\": [{\"colorbar\": {\"outlinewidth\": 0, \"ticks\": \"\"}, \"type\": \"contourcarpet\"}], \"heatmap\": [{\"colorbar\": {\"outlinewidth\": 0, \"ticks\": \"\"}, \"colorscale\": [[0.0, \"#0d0887\"], [0.1111111111111111, \"#46039f\"], [0.2222222222222222, \"#7201a8\"], [0.3333333333333333, \"#9c179e\"], [0.4444444444444444, \"#bd3786\"], [0.5555555555555556, \"#d8576b\"], [0.6666666666666666, \"#ed7953\"], [0.7777777777777778, \"#fb9f3a\"], [0.8888888888888888, \"#fdca26\"], [1.0, \"#f0f921\"]], \"type\": \"heatmap\"}], \"heatmapgl\": [{\"colorbar\": {\"outlinewidth\": 0, \"ticks\": \"\"}, \"colorscale\": [[0.0, \"#0d0887\"], [0.1111111111111111, \"#46039f\"], [0.2222222222222222, \"#7201a8\"], [0.3333333333333333, \"#9c179e\"], [0.4444444444444444, \"#bd3786\"], [0.5555555555555556, \"#d8576b\"], [0.6666666666666666, \"#ed7953\"], [0.7777777777777778, \"#fb9f3a\"], [0.8888888888888888, \"#fdca26\"], [1.0, \"#f0f921\"]], \"type\": \"heatmapgl\"}], \"histogram\": [{\"marker\": {\"colorbar\": {\"outlinewidth\": 0, \"ticks\": \"\"}}, \"type\": \"histogram\"}], \"histogram2d\": [{\"colorbar\": {\"outlinewidth\": 0, \"ticks\": \"\"}, \"colorscale\": [[0.0, \"#0d0887\"], [0.1111111111111111, \"#46039f\"], [0.2222222222222222, \"#7201a8\"], [0.3333333333333333, \"#9c179e\"], [0.4444444444444444, \"#bd3786\"], [0.5555555555555556, \"#d8576b\"], [0.6666666666666666, \"#ed7953\"], [0.7777777777777778, \"#fb9f3a\"], [0.8888888888888888, \"#fdca26\"], [1.0, \"#f0f921\"]], \"type\": \"histogram2d\"}], \"histogram2dcontour\": [{\"colorbar\": {\"outlinewidth\": 0, \"ticks\": \"\"}, \"colorscale\": [[0.0, \"#0d0887\"], [0.1111111111111111, \"#46039f\"], [0.2222222222222222, \"#7201a8\"], [0.3333333333333333, \"#9c179e\"], [0.4444444444444444, \"#bd3786\"], [0.5555555555555556, \"#d8576b\"], [0.6666666666666666, \"#ed7953\"], [0.7777777777777778, \"#fb9f3a\"], [0.8888888888888888, \"#fdca26\"], [1.0, \"#f0f921\"]], \"type\": \"histogram2dcontour\"}], \"mesh3d\": [{\"colorbar\": {\"outlinewidth\": 0, \"ticks\": \"\"}, \"type\": \"mesh3d\"}], \"parcoords\": [{\"line\": {\"colorbar\": {\"outlinewidth\": 0, \"ticks\": \"\"}}, \"type\": \"parcoords\"}], \"pie\": [{\"automargin\": true, \"type\": \"pie\"}], \"scatter\": [{\"marker\": {\"colorbar\": {\"outlinewidth\": 0, \"ticks\": \"\"}}, \"type\": \"scatter\"}], \"scatter3d\": [{\"line\": {\"colorbar\": {\"outlinewidth\": 0, \"ticks\": \"\"}}, \"marker\": {\"colorbar\": {\"outlinewidth\": 0, \"ticks\": \"\"}}, \"type\": \"scatter3d\"}], \"scattercarpet\": [{\"marker\": {\"colorbar\": {\"outlinewidth\": 0, \"ticks\": \"\"}}, \"type\": \"scattercarpet\"}], \"scattergeo\": [{\"marker\": {\"colorbar\": {\"outlinewidth\": 0, \"ticks\": \"\"}}, \"type\": \"scattergeo\"}], \"scattergl\": [{\"marker\": {\"colorbar\": {\"outlinewidth\": 0, \"ticks\": \"\"}}, \"type\": \"scattergl\"}], \"scattermapbox\": [{\"marker\": {\"colorbar\": {\"outlinewidth\": 0, \"ticks\": \"\"}}, \"type\": \"scattermapbox\"}], \"scatterpolar\": [{\"marker\": {\"colorbar\": {\"outlinewidth\": 0, \"ticks\": \"\"}}, \"type\": \"scatterpolar\"}], \"scatterpolargl\": [{\"marker\": {\"colorbar\": {\"outlinewidth\": 0, \"ticks\": \"\"}}, \"type\": \"scatterpolargl\"}], \"scatterternary\": [{\"marker\": {\"colorbar\": {\"outlinewidth\": 0, \"ticks\": \"\"}}, \"type\": \"scatterternary\"}], \"surface\": [{\"colorbar\": {\"outlinewidth\": 0, \"ticks\": \"\"}, \"colorscale\": [[0.0, \"#0d0887\"], [0.1111111111111111, \"#46039f\"], [0.2222222222222222, \"#7201a8\"], [0.3333333333333333, \"#9c179e\"], [0.4444444444444444, \"#bd3786\"], [0.5555555555555556, \"#d8576b\"], [0.6666666666666666, \"#ed7953\"], [0.7777777777777778, \"#fb9f3a\"], [0.8888888888888888, \"#fdca26\"], [1.0, \"#f0f921\"]], \"type\": \"surface\"}], \"table\": [{\"cells\": {\"fill\": {\"color\": \"#EBF0F8\"}, \"line\": {\"color\": \"white\"}}, \"header\": {\"fill\": {\"color\": \"#C8D4E3\"}, \"line\": {\"color\": \"white\"}}, \"type\": \"table\"}]}, \"layout\": {\"annotationdefaults\": {\"arrowcolor\": \"#2a3f5f\", \"arrowhead\": 0, \"arrowwidth\": 1}, \"coloraxis\": {\"colorbar\": {\"outlinewidth\": 0, \"ticks\": \"\"}}, \"colorscale\": {\"diverging\": [[0, \"#8e0152\"], [0.1, \"#c51b7d\"], [0.2, \"#de77ae\"], [0.3, \"#f1b6da\"], [0.4, \"#fde0ef\"], [0.5, \"#f7f7f7\"], [0.6, \"#e6f5d0\"], [0.7, \"#b8e186\"], [0.8, \"#7fbc41\"], [0.9, \"#4d9221\"], [1, \"#276419\"]], \"sequential\": [[0.0, \"#0d0887\"], [0.1111111111111111, \"#46039f\"], [0.2222222222222222, \"#7201a8\"], [0.3333333333333333, \"#9c179e\"], [0.4444444444444444, \"#bd3786\"], [0.5555555555555556, \"#d8576b\"], [0.6666666666666666, \"#ed7953\"], [0.7777777777777778, \"#fb9f3a\"], [0.8888888888888888, \"#fdca26\"], [1.0, \"#f0f921\"]], \"sequentialminus\": [[0.0, \"#0d0887\"], [0.1111111111111111, \"#46039f\"], [0.2222222222222222, \"#7201a8\"], [0.3333333333333333, \"#9c179e\"], [0.4444444444444444, \"#bd3786\"], [0.5555555555555556, \"#d8576b\"], [0.6666666666666666, \"#ed7953\"], [0.7777777777777778, \"#fb9f3a\"], [0.8888888888888888, \"#fdca26\"], [1.0, \"#f0f921\"]]}, \"colorway\": [\"#636efa\", \"#EF553B\", \"#00cc96\", \"#ab63fa\", \"#FFA15A\", \"#19d3f3\", \"#FF6692\", \"#B6E880\", \"#FF97FF\", \"#FECB52\"], \"font\": {\"color\": \"#2a3f5f\"}, \"geo\": {\"bgcolor\": \"white\", \"lakecolor\": \"white\", \"landcolor\": \"#E5ECF6\", \"showlakes\": true, \"showland\": true, \"subunitcolor\": \"white\"}, \"hoverlabel\": {\"align\": \"left\"}, \"hovermode\": \"closest\", \"mapbox\": {\"style\": \"light\"}, \"paper_bgcolor\": \"white\", \"plot_bgcolor\": \"#E5ECF6\", \"polar\": {\"angularaxis\": {\"gridcolor\": \"white\", \"linecolor\": \"white\", \"ticks\": \"\"}, \"bgcolor\": \"#E5ECF6\", \"radialaxis\": {\"gridcolor\": \"white\", \"linecolor\": \"white\", \"ticks\": \"\"}}, \"scene\": {\"xaxis\": {\"backgroundcolor\": \"#E5ECF6\", \"gridcolor\": \"white\", \"gridwidth\": 2, \"linecolor\": \"white\", \"showbackground\": true, \"ticks\": \"\", \"zerolinecolor\": \"white\"}, \"yaxis\": {\"backgroundcolor\": \"#E5ECF6\", \"gridcolor\": \"white\", \"gridwidth\": 2, \"linecolor\": \"white\", \"showbackground\": true, \"ticks\": \"\", \"zerolinecolor\": \"white\"}, \"zaxis\": {\"backgroundcolor\": \"#E5ECF6\", \"gridcolor\": \"white\", \"gridwidth\": 2, \"linecolor\": \"white\", \"showbackground\": true, \"ticks\": \"\", \"zerolinecolor\": \"white\"}}, \"shapedefaults\": {\"line\": {\"color\": \"#2a3f5f\"}}, \"ternary\": {\"aaxis\": {\"gridcolor\": \"white\", \"linecolor\": \"white\", \"ticks\": \"\"}, \"baxis\": {\"gridcolor\": \"white\", \"linecolor\": \"white\", \"ticks\": \"\"}, \"bgcolor\": \"#E5ECF6\", \"caxis\": {\"gridcolor\": \"white\", \"linecolor\": \"white\", \"ticks\": \"\"}}, \"title\": {\"x\": 0.05}, \"xaxis\": {\"automargin\": true, \"gridcolor\": \"white\", \"linecolor\": \"white\", \"ticks\": \"\", \"title\": {\"standoff\": 15}, \"zerolinecolor\": \"white\", \"zerolinewidth\": 2}, \"yaxis\": {\"automargin\": true, \"gridcolor\": \"white\", \"linecolor\": \"white\", \"ticks\": \"\", \"title\": {\"standoff\": 15}, \"zerolinecolor\": \"white\", \"zerolinewidth\": 2}}}, \"title\": {\"text\": \"$\\\\text{Iceland: Actual } R_{pd} \\\\text{ vs. } h_I[j]\\\\circledast I_{pd}[j]$\", \"x\": 0.5, \"xanchor\": \"center\"}, \"xaxis\": {\"title\": {\"text\": \"Day\"}}, \"yaxis\": {\"title\": {\"text\": \"Count\"}}},\n",
              "                        {\"responsive\": true}\n",
              "                    ).then(function(){\n",
              "                            \n",
              "var gd = document.getElementById('4f694376-378d-41b3-bcf8-3368f2079d94');\n",
              "var x = new MutationObserver(function (mutations, observer) {{\n",
              "        var display = window.getComputedStyle(gd).display;\n",
              "        if (!display || display === 'none') {{\n",
              "            console.log([gd, 'removed!']);\n",
              "            Plotly.purge(gd);\n",
              "            observer.disconnect();\n",
              "        }}\n",
              "}});\n",
              "\n",
              "// Listen for the removal of the full notebook cells\n",
              "var notebookContainer = gd.closest('#notebook-container');\n",
              "if (notebookContainer) {{\n",
              "    x.observe(notebookContainer, {childList: true});\n",
              "}}\n",
              "\n",
              "// Listen for the clearing of the current output cell\n",
              "var outputEl = gd.closest('.output');\n",
              "if (outputEl) {{\n",
              "    x.observe(outputEl, {childList: true});\n",
              "}}\n",
              "\n",
              "                        })\n",
              "                };\n",
              "                \n",
              "            </script>\n",
              "        </div>\n",
              "</body>\n",
              "</html>"
            ]
          },
          "metadata": {
            "tags": []
          }
        }
      ]
    },
    {
      "cell_type": "markdown",
      "metadata": {
        "colab_type": "text",
        "id": "8VjcA2BKlv6F"
      },
      "source": [
        "We can see the actual $R_{pd}$ leads $h_I[j]\\circledast I_{pd}[j]$ by about 5 days."
      ]
    },
    {
      "cell_type": "markdown",
      "metadata": {
        "colab_type": "text",
        "id": "KlHqwV99lv6F"
      },
      "source": [
        "#### 2. Estimating $E_{pd}$ by deconvolution of $I_{pd}$"
      ]
    },
    {
      "cell_type": "code",
      "metadata": {
        "colab_type": "code",
        "outputId": "68392c7b-1aa6-4ab7-f4ed-1dcee5eba231",
        "id": "hSsy3wJMlv6G",
        "colab": {
          "base_uri": "https://localhost:8080/",
          "height": 131
        }
      },
      "source": [
        "#collapse_hide\n",
        "\n",
        "#Settting up for deconvolution of Ipd\n",
        "\n",
        "#regularization parameter\n",
        "alpha=2\n",
        "\n",
        "# Setup up the resultant Ipd we want to compare our guess with\n",
        "Ipd=np.floor(lowpass(conf_df_pd.loc['Iceland'])[0])\n",
        "Ipd[Ipd<0]=0\n",
        "\n",
        "\n",
        "# Pad with last value\n",
        "i=0\n",
        "while i < 100:\n",
        "  Ipd=np.append(Ipd, Ipd[-1])\n",
        "  i=i+1\n",
        "\n",
        "# Find delay caused by h_L\n",
        "delay=Ipd.argmax()-signal.fftconvolve(Ipd, h_L, mode='full').argmax()\n",
        "\n",
        "# We want initial guess to simply be the result of the convolution delayed\n",
        "initial_guess=np.roll(Ipd,delay)\n",
        "Enext = initial_guess\n",
        "\n",
        "# AN array to record MSE between result we want and our iterated guess\n",
        "mse=np.array([])\n",
        "mse=np.append(mse, 10000000)\n",
        "mse=np.append(mse, msecalc(Ipd[:len(conf_df_pd.loc['Iceland'])], signal.fftconvolve(h_L, Enext, mode='full')[:len(conf_df_pd.loc['Iceland'])]))\n",
        "\n",
        "itercount=0\n",
        "while mse[-1] < mse[-2]:\n",
        "  itercount=itercount+1\n",
        "  Enext=iter_deconv(alpha, h_L, Enext, delay, Ipd)\n",
        "  mse=np.append(mse, msecalc(Ipd[:len(conf_df_pd.loc['Iceland'])], signal.fftconvolve(h_L, Enext, mode='full')[:len(conf_df_pd.loc['Iceland'])]))\n",
        "  print(\"Iteration #\" + str(itercount) +\": MSE= \"+str(mse[itercount]))\n",
        "print(\"Iteration #\" + str(itercount+1) +\": MSE= \"+str(mse[-1])+\" so we use the result of the previous iteration.\")"
      ],
      "execution_count": 236,
      "outputs": [
        {
          "output_type": "stream",
          "text": [
            "Iteration #1: MSE= 7.549921432879913\n",
            "Iteration #2: MSE= 2.1777016171612535\n",
            "Iteration #3: MSE= 1.4032075531939128\n",
            "Iteration #4: MSE= 0.7097902831182038\n",
            "Iteration #5: MSE= 0.6538394434040017\n",
            "Iteration #6: MSE= 0.35241350030804025\n",
            "Iteration #7: MSE= 0.4814099480915245 so we use the result of the previous iteration.\n"
          ],
          "name": "stdout"
        }
      ]
    },
    {
      "cell_type": "code",
      "metadata": {
        "colab_type": "code",
        "outputId": "f0a98d8b-f1dd-4218-cd44-7320e46adda5",
        "id": "nFDwtHKHlv6J",
        "colab": {
          "base_uri": "https://localhost:8080/",
          "height": 180
        }
      },
      "source": [
        "#collapse_hide\n",
        "# We can keep going the iteration until lowest MSE\n",
        "\n",
        "#change alpha if you like\n",
        "alpha=2\n",
        "\n",
        "i=0\n",
        "while i < 10:\n",
        "  itercount=itercount+1\n",
        "  Enext=iter_deconv(alpha, h_L, Enext, delay, Ipd)\n",
        "  print(msecalc(Ipd[:len(conf_df_pd.loc['Iceland'])], signal.fftconvolve(h_L, Enext, mode='full')[:len(conf_df_pd.loc['Iceland'])]))\n",
        "  i=i+1"
      ],
      "execution_count": 237,
      "outputs": [
        {
          "output_type": "stream",
          "text": [
            "0.22104707759253456\n",
            "0.329023021163164\n",
            "0.17949206914108762\n",
            "0.24168412384812277\n",
            "0.16826563216815357\n",
            "0.2356731199869026\n",
            "0.16926773827689567\n",
            "0.2251716954513438\n",
            "0.17950404246036664\n",
            "0.22699309635497517\n"
          ],
          "name": "stdout"
        }
      ]
    },
    {
      "cell_type": "code",
      "metadata": {
        "colab_type": "code",
        "outputId": "ef89765c-525b-4f68-c4cb-df21936b9c29",
        "id": "IbPcR33Klv6N",
        "colab": {
          "base_uri": "https://localhost:8080/",
          "height": 542
        }
      },
      "source": [
        "#collapse_hide\n",
        "fig = go.Figure(data=[    \n",
        "    go.Scatter(name='Epd=deconv(Ipd)', x=inf_df.loc['Iceland'].index, y=Enext),\n",
        "    go.Scatter(name='Ipd=conv(deconv(Ipd))', x=inf_df.loc['Iceland'].index, y=signal.fftconvolve(h_L, Enext, mode='full')),\n",
        "    go.Bar(name='Ipd', x=inf_df.loc['Russia'].index, y=conf_df_pd.loc['Iceland']),\n",
        "    go.Scatter(name='Ipd=lowpass(Ipd)', x=inf_df.loc['Iceland'].index, y=lowpass(conf_df_pd.loc['Iceland'])[0])\n",
        "])\n",
        "\n",
        "fig.update_layout(\n",
        "    \n",
        "    xaxis_title = 'Day',\n",
        "    yaxis_title = 'Count',\n",
        "    title={\n",
        "        'text':r'$\\text{Iceland: Actual } I_{pd} \\text{ vs. convolution of deconvolution of } I_{pd}$',\n",
        "        'x':0.5,\n",
        "        'xanchor':'center'\n",
        "    }\n",
        ")\n",
        "\n",
        "fig.show()"
      ],
      "execution_count": 238,
      "outputs": [
        {
          "output_type": "display_data",
          "data": {
            "text/html": [
              "<html>\n",
              "<head><meta charset=\"utf-8\" /></head>\n",
              "<body>\n",
              "    <div>\n",
              "            <script src=\"https://cdnjs.cloudflare.com/ajax/libs/mathjax/2.7.5/MathJax.js?config=TeX-AMS-MML_SVG\"></script><script type=\"text/javascript\">if (window.MathJax) {MathJax.Hub.Config({SVG: {font: \"STIX-Web\"}});}</script>\n",
              "                <script type=\"text/javascript\">window.PlotlyConfig = {MathJaxConfig: 'local'};</script>\n",
              "        <script src=\"https://cdn.plot.ly/plotly-latest.min.js\"></script>    \n",
              "            <div id=\"9b53df7a-cdf1-45ba-876d-4e8e3d371cc4\" class=\"plotly-graph-div\" style=\"height:525px; width:100%;\"></div>\n",
              "            <script type=\"text/javascript\">\n",
              "                \n",
              "                    window.PLOTLYENV=window.PLOTLYENV || {};\n",
              "                    \n",
              "                if (document.getElementById(\"9b53df7a-cdf1-45ba-876d-4e8e3d371cc4\")) {\n",
              "                    Plotly.newPlot(\n",
              "                        '9b53df7a-cdf1-45ba-876d-4e8e3d371cc4',\n",
              "                        [{\"name\": \"Epd=deconv(Ipd)\", \"type\": \"scatter\", \"x\": [\"2020-01-22\", \"2020-01-23\", \"2020-01-24\", \"2020-01-25\", \"2020-01-26\", \"2020-01-27\", \"2020-01-28\", \"2020-01-29\", \"2020-01-30\", \"2020-01-31\", \"2020-02-01\", \"2020-02-02\", \"2020-02-03\", \"2020-02-04\", \"2020-02-05\", \"2020-02-06\", \"2020-02-07\", \"2020-02-08\", \"2020-02-09\", \"2020-02-10\", \"2020-02-11\", \"2020-02-12\", \"2020-02-13\", \"2020-02-14\", \"2020-02-15\", \"2020-02-16\", \"2020-02-17\", \"2020-02-18\", \"2020-02-19\", \"2020-02-20\", \"2020-02-21\", \"2020-02-22\", \"2020-02-23\", \"2020-02-24\", \"2020-02-25\", \"2020-02-26\", \"2020-02-27\", \"2020-02-28\", \"2020-02-29\", \"2020-03-01\", \"2020-03-02\", \"2020-03-03\", \"2020-03-04\", \"2020-03-05\", \"2020-03-06\", \"2020-03-07\", \"2020-03-08\", \"2020-03-09\", \"2020-03-10\", \"2020-03-11\", \"2020-03-12\", \"2020-03-13\", \"2020-03-14\", \"2020-03-15\", \"2020-03-16\", \"2020-03-17\", \"2020-03-18\", \"2020-03-19\", \"2020-03-20\", \"2020-03-21\", \"2020-03-22\", \"2020-03-23\", \"2020-03-24\", \"2020-03-25\", \"2020-03-26\", \"2020-03-27\", \"2020-03-28\", \"2020-03-29\", \"2020-03-30\", \"2020-03-31\", \"2020-04-01\", \"2020-04-02\", \"2020-04-03\", \"2020-04-04\", \"2020-04-05\", \"2020-04-06\", \"2020-04-07\", \"2020-04-08\", \"2020-04-09\", \"2020-04-10\", \"2020-04-11\", \"2020-04-12\", \"2020-04-13\", \"2020-04-14\", \"2020-04-15\", \"2020-04-16\", \"2020-04-17\", \"2020-04-18\", \"2020-04-19\", \"2020-04-20\", \"2020-04-21\", \"2020-04-22\", \"2020-04-23\", \"2020-04-24\", \"2020-04-25\", \"2020-04-26\", \"2020-04-27\", \"2020-04-28\", \"2020-04-29\", \"2020-04-30\", \"2020-05-01\", \"2020-05-02\", \"2020-05-03\", \"2020-05-04\", \"2020-05-05\", \"2020-05-06\", \"2020-05-07\", \"2020-05-08\", \"2020-05-09\", \"2020-05-10\", \"2020-05-11\", \"2020-05-12\", \"2020-05-13\", \"2020-05-14\", \"2020-05-15\", \"2020-05-16\", \"2020-05-17\", \"2020-05-18\", \"2020-05-19\", \"2020-05-20\", \"2020-05-21\", \"2020-05-22\", \"2020-05-23\", \"2020-05-24\", \"2020-05-25\", \"2020-05-26\", \"2020-05-27\", \"2020-05-28\", \"2020-05-29\", \"2020-05-30\", \"2020-05-31\", \"2020-06-01\", \"2020-06-02\", \"2020-06-03\"], \"y\": [0.0, 0.0, 0.0, 0.0, 0.0, 0.0, 0.0, 0.0, 0.0, 0.0, 0.0, 0.0, 0.0, 0.0, 0.0, 0.0, 0.0, 0.0, 0.0, 0.0, 0.0, 0.0, 0.0, 0.0, 0.0, 0.0, 1.0, 1.0, 1.0, 2.0, 2.0, 2.0, 2.0, 2.0, 2.0, 2.0, 2.0, 3.0, 4.0, 5.0, 7.0, 9.0, 12.0, 15.0, 19.0, 24.0, 29.0, 35.0, 41.0, 47.0, 53.0, 59.0, 65.0, 70.0, 75.0, 79.0, 82.0, 84.0, 85.0, 85.0, 84.0, 82.0, 78.0, 74.0, 69.0, 63.0, 57.0, 50.0, 43.0, 37.0, 30.0, 24.0, 18.0, 13.0, 9.0, 5.0, 2.0, 0.0, 0.0, 0.0, 0.0, 0.0, 0.0, 0.0, 0.0, 0.0, 1.0, 1.0, 1.0, 2.0, 2.0, 1.0, 1.0, 1.0, 0.0, 0.0, 0.0, 0.0, 0.0, 0.0, 0.0, 0.0, 0.0, 0.0, 0.0, 0.0, 0.0, 0.0, 0.0, 0.0, 0.0, 0.0, 0.0, 0.0, 0.0, 0.0, 0.0, 0.0, 0.0, 0.0, 0.0, 0.0, 0.0, 0.0, 0.0, 0.0, 0.0, 0.0, 0.0, 0.0, 0.0, 0.0, 0.0, 0.0, 0.0, 0.0, 0.0, 0.0, 0.0, 0.0, 0.0, 0.0, 0.0, 0.0, 0.0, 0.0, 0.0, 0.0, 0.0, 0.0, 0.0, 0.0, 0.0, 0.0, 0.0, 0.0, 0.0, 0.0, 0.0, 0.0, 0.0, 0.0, 0.0, 0.0, 0.0, 0.0, 0.0, 0.0, 0.0, 0.0, 0.0, 0.0, 0.0, 0.0, 0.0, 0.0, 0.0, 0.0, 0.0, 0.0, 0.0, 0.0, 0.0, 0.0, 0.0, 0.0, 0.0, 0.0, 0.0, 0.0, 0.0, 0.0, 0.0, 0.0, 0.0, 0.0, 0.0, 0.0, 0.0, 0.0, 0.0, 0.0, 0.0, 0.0, 0.0, 0.0, 0.0, 0.0, 0.0, 0.0, 0.0, 0.0, 0.0, 0.0, 0.0, 0.0, 0.0, 0.0, 0.0, 0.0, 0.0, 0.0, 0.0, 0.0, 0.0, 0.0, 0.0, 0.0, 0.0, 0.0, 0.0, 0.0, 0.0, 0.0]}, {\"name\": \"Ipd=conv(deconv(Ipd))\", \"type\": \"scatter\", \"x\": [\"2020-01-22\", \"2020-01-23\", \"2020-01-24\", \"2020-01-25\", \"2020-01-26\", \"2020-01-27\", \"2020-01-28\", \"2020-01-29\", \"2020-01-30\", \"2020-01-31\", \"2020-02-01\", \"2020-02-02\", \"2020-02-03\", \"2020-02-04\", \"2020-02-05\", \"2020-02-06\", \"2020-02-07\", \"2020-02-08\", \"2020-02-09\", \"2020-02-10\", \"2020-02-11\", \"2020-02-12\", \"2020-02-13\", \"2020-02-14\", \"2020-02-15\", \"2020-02-16\", \"2020-02-17\", \"2020-02-18\", \"2020-02-19\", \"2020-02-20\", \"2020-02-21\", \"2020-02-22\", \"2020-02-23\", \"2020-02-24\", \"2020-02-25\", \"2020-02-26\", \"2020-02-27\", \"2020-02-28\", \"2020-02-29\", \"2020-03-01\", \"2020-03-02\", \"2020-03-03\", \"2020-03-04\", \"2020-03-05\", \"2020-03-06\", \"2020-03-07\", \"2020-03-08\", \"2020-03-09\", \"2020-03-10\", \"2020-03-11\", \"2020-03-12\", \"2020-03-13\", \"2020-03-14\", \"2020-03-15\", \"2020-03-16\", \"2020-03-17\", \"2020-03-18\", \"2020-03-19\", \"2020-03-20\", \"2020-03-21\", \"2020-03-22\", \"2020-03-23\", \"2020-03-24\", \"2020-03-25\", \"2020-03-26\", \"2020-03-27\", \"2020-03-28\", \"2020-03-29\", \"2020-03-30\", \"2020-03-31\", \"2020-04-01\", \"2020-04-02\", \"2020-04-03\", \"2020-04-04\", \"2020-04-05\", \"2020-04-06\", \"2020-04-07\", \"2020-04-08\", \"2020-04-09\", \"2020-04-10\", \"2020-04-11\", \"2020-04-12\", \"2020-04-13\", \"2020-04-14\", \"2020-04-15\", \"2020-04-16\", \"2020-04-17\", \"2020-04-18\", \"2020-04-19\", \"2020-04-20\", \"2020-04-21\", \"2020-04-22\", \"2020-04-23\", \"2020-04-24\", \"2020-04-25\", \"2020-04-26\", \"2020-04-27\", \"2020-04-28\", \"2020-04-29\", \"2020-04-30\", \"2020-05-01\", \"2020-05-02\", \"2020-05-03\", \"2020-05-04\", \"2020-05-05\", \"2020-05-06\", \"2020-05-07\", \"2020-05-08\", \"2020-05-09\", \"2020-05-10\", \"2020-05-11\", \"2020-05-12\", \"2020-05-13\", \"2020-05-14\", \"2020-05-15\", \"2020-05-16\", \"2020-05-17\", \"2020-05-18\", \"2020-05-19\", \"2020-05-20\", \"2020-05-21\", \"2020-05-22\", \"2020-05-23\", \"2020-05-24\", \"2020-05-25\", \"2020-05-26\", \"2020-05-27\", \"2020-05-28\", \"2020-05-29\", \"2020-05-30\", \"2020-05-31\", \"2020-06-01\", \"2020-06-02\", \"2020-06-03\"], \"y\": [5.052748343182935e-15, 0.0, 5.052748343182935e-15, 7.579122514774402e-15, 5.052748343182935e-15, -2.5263741715914674e-15, 5.052748343182935e-15, 5.052748343182935e-15, 6.315935428978669e-15, 5.052748343182935e-15, 7.579122514774402e-15, 1.0737090229263736e-14, 3.789561257387201e-15, 6.315935428978669e-15, 8.842309600570136e-15, 1.2316074086508404e-14, 7.579122514774402e-15, 6.947528971876536e-15, 8.842309600570136e-15, 1.200027731505947e-14, 5.684341886080802e-15, 5.684341886080802e-15, 5.052748343182935e-15, 1.3263464400855204e-14, 8.289665250534503e-15, 1.1684480543610537e-14, 5.921189464667502e-15, 0.0008495563537594188, 0.0538160230608016, 0.14638954646446906, 0.2526300632709047, 0.41077809293081746, 0.6016839028674215, 0.7954689851849857, 0.9780578121263561, 1.1429184335103075, 1.2876922476717172, 1.4123581629789992, 1.519003239985058, 1.6615924506476278, 1.881804026669344, 2.1953735768511597, 2.656150186805673, 3.2994942071933973, 4.181943274758973, 5.334087451268133, 6.8051129655812765, 8.667397928430313, 10.948050852142483, 13.683642648749025, 16.87925029899082, 20.5055132579176, 24.51862354610643, 28.870093921433075, 33.511163753414216, 38.345127883422855, 43.29154270893639, 48.249654439258485, 53.097067829867036, 57.70980374627369, 61.971303142153204, 65.77651282844738, 69.03331129150251, 71.66161365702422, 73.542974164853, 74.63357718008504, 74.91340395921175, 74.3577126370826, 72.99359052275348, 70.83874424957182, 67.93986618701067, 64.42349361279454, 60.36207670417967, 55.86413979378544, 51.03448983576938, 46.001594796578495, 40.91444642308724, 35.87038621754242, 30.96913981867369, 26.32364389019071, 22.09449423137409, 18.36877610398486, 15.155855738241154, 12.427398775307527, 10.137257465261815, 8.232638010656565, 6.660416429493681, 5.371421398539415, 4.371691842574561, 3.608922390401433, 3.0228361103940715, 2.622479194937533, 2.363313142691058, 2.1437540142528837, 1.9453410415888028, 1.7736030854581348, 1.576599405045668, 1.3642325713454178, 1.1601428528829691, 0.9742171056393686, 0.8101984610832217, 0.6686120012141005, 0.5482948486496789, 0.4472644138735071, 0.3632213732257605, 0.2938375000264418, 0.23691325628060503, 0.1904560635794302, 0.15271074470067003, 0.1221618913870691, 0.09752058491045384, 0.07770323138453905, 0.06180727708232747, 0.049086640218103994, 0.038928459980088655, 0.030831980988910795, 0.02438990542725751, 0.019272252869083788, 0.015212601125741956, 0.01199649495642387, 0.009451773267676685, 0.007440559681484221, 0.005852673171223673, 0.00460023653493039, 0.003613285550886219, 0.002836207537188282, 0.0022248628301471353, 0.0017442655569323217, 0.0013667200271621914, 0.0010703270753361388, 0.0008377895792111975, 0.0006554589930419269, 0.0005125758103835232, 0.00040066543972417935, 0.00031305843784126635, 0.0002445100341961841, 0.00019089878552760087, 0.00014898816983219628, 0.0001162382505656233, 9.065695086637387e-05, 7.068276326299529e-05, 5.509238655820012e-05, 4.292793898480255e-05, 3.3439772109731236e-05, 2.604144669299381e-05, 2.027441909212434e-05, 1.5780319872267987e-05, 1.2279151770952821e-05, 9.552267823033214e-06, 7.428978545931386e-06, 5.77608075786884e-06, 4.489660604968372e-06, 3.4886800060955164e-06, 2.709978648833082e-06, 2.1043129963673993e-06, 1.6333330457819607e-06, 1.2671668762386111e-06, 9.825527102849365e-07, 7.613809404776677e-07, 5.895565413835711e-07, 4.561118146284571e-07, 3.5251448725009346e-07, 2.7214635491330027e-07, 2.0982525907382096e-07, 1.615404041249096e-07, 1.2417432743284787e-07, 9.52865033493961e-08, 7.299867448296027e-08, 5.583388260374831e-08, 4.262712383567507e-08, 3.250963847752549e-08, 2.4771063580588918e-08, 1.887793722824919e-08, 1.4398305925311661e-08, 1.099701883136264e-08, 8.431956188825751e-09, 6.497387299791374e-09, 5.033740505903476e-09, 3.899370021937582e-09, 3.020308506999451e-09, 2.3391738817540247e-09, 1.8114581045046584e-09, 1.4026521080426038e-09, 1.0859942673530693e-09, 8.407492850063629e-10, 6.508198424626244e-10, 4.858455255391587e-10, 3.581171840553547e-10, 2.5924684251184735e-10, 1.6480211454765008e-10, 9.171062859753616e-11, 5.3056634086168236e-11, 2.3144519325748706e-11, 1.2227873035107627e-15, -2.294460917558657e-15, -2.3488926852937514e-15, -2.970309183799221e-15, -2.1665539732633004e-15, -2.2875991224759043e-15, -4.179835490071406e-15, -2.5708987408082056e-15, 5.819033526637756e-16, -2.1329388872399277e-15, -2.110753701452713e-15, -8.858635275949607e-15, -4.4261083995442466e-15, -9.325150605402992e-15, -1.1773279110875261e-15, -2.7074359343965467e-15, 2.026990650944644e-15, -7.062454402159999e-15, -3.4092640940280245e-15, -9.267878227975985e-15, -6.776986379482727e-16, -4.405676007269217e-15, -8.25977981998448e-15, -6.315935428978669e-15, -6.315935428978669e-16, 6.315935428978669e-16, -3.789561257387201e-15, 1.2631870857957337e-15, 4.421154800285068e-15, 5.684341886080802e-15, -1.5789838572446672e-15, 3.1579677144893343e-16, 3.1579677144893344e-15, -4.105358028836135e-15, -1.736882242969134e-15, 2.684272557315934e-15, 3.1579677144893344e-15, 1.8947806286936005e-15, -3.947459643111668e-16, 1.2631870857957337e-15, 2.3684757858670006e-16, 1.8158314358313674e-15, 1.105288700071267e-15, -3.947459643111668e-16, 1.3026616822268504e-15, 1.5789838572446671e-16, 2.447424978729234e-15, -3.0592812234115426e-15, -1.105288700071267e-15, 1.5789838572446671e-16, -1.223712489364617e-15, 2.1612341546036383e-15, 9.86864910777917e-18, 7.401486830834377e-16, 2.189606520788503e-15, -2.565848768022584e-15, -1.4309541206279796e-15, -1.3322676295501878e-15, 3.710612064524968e-15, 1.687538997430238e-15, 8.092292268378919e-16, -4.352074256530614e-15, 2.7632217501781674e-16, -6.461498003318411e-15, -4.342205607422835e-16, -3.9560947110809744e-15, -6.803199978675265e-15, -4.3051981732686626e-16, -8.850944668539443e-16, -6.404136480379445e-15, -2.144889204518879e-15, -7.668865542598269e-15, -3.74916147510223e-15, -4.653068054317878e-15, -5.861823372378518e-15, -2.082439159383714e-15, -2.8861943699196345e-15, -1.501962134911297e-15, -8.729128531115294e-16, -6.27141085976193e-15, -5.819033526637756e-16, -7.972557799125942e-15, -4.1562047013875437e-16, -3.7732355820077304e-15, -6.266399436386886e-16, -5.833094424145813e-15, 3.703702082678993e-15, -7.398060751969323e-15, -2.026990650944644e-15, -8.095790627388806e-15, -9.222606763929313e-15, -8.416740973164287e-15, 6.776986379482727e-16, -1.0752569022279588e-14, -1.84571686638139e-15, 0.0, 0.0, -5.052748343182935e-15, -1.010549668636587e-14, -5.052748343182935e-15, 2.5263741715914674e-15, 0.0, -2.5263741715914674e-15, -5.052748343182935e-15, -1.2631870857957337e-15, -5.052748343182935e-15, -7.579122514774402e-15, -4.421154800285068e-15, -2.5263741715914674e-15, -8.21071605767227e-15, -9.473903143468002e-16, -6.000138657529735e-15, -8.21071605767227e-15, -8.21071605767227e-15, -8.526512829121202e-15, -2.0526790144180674e-15, -7.26332574332547e-15, -2.684272557315934e-15, -4.105358028836135e-15, -7.105427357601002e-15, -6.631732200427602e-15, -6.710681393289836e-15, -9.000207986294602e-15, -3.079018521627101e-15, -5.921189464667502e-15, -7.342274936187703e-15, -6.671206796858718e-15, -5.684341886080802e-15, -3.868510450249435e-15, -3.2961288019982427e-15, -7.0067408665232105e-15, 5.329070518200751e-16, -4.677739677087326e-15, -5.644867289649685e-15, -5.2945302463235244e-15, 2.4178190314058966e-15, -1.9589268478941652e-15, 3.7772254460024774e-15, 1.30759600678074e-15, 6.123496771376975e-15]}, {\"name\": \"Ipd\", \"type\": \"bar\", \"x\": [\"2020-01-22\", \"2020-01-23\", \"2020-01-24\", \"2020-01-25\", \"2020-01-26\", \"2020-01-27\", \"2020-01-28\", \"2020-01-29\", \"2020-01-30\", \"2020-01-31\", \"2020-02-01\", \"2020-02-02\", \"2020-02-03\", \"2020-02-04\", \"2020-02-05\", \"2020-02-06\", \"2020-02-07\", \"2020-02-08\", \"2020-02-09\", \"2020-02-10\", \"2020-02-11\", \"2020-02-12\", \"2020-02-13\", \"2020-02-14\", \"2020-02-15\", \"2020-02-16\", \"2020-02-17\", \"2020-02-18\", \"2020-02-19\", \"2020-02-20\", \"2020-02-21\", \"2020-02-22\", \"2020-02-23\", \"2020-02-24\", \"2020-02-25\", \"2020-02-26\", \"2020-02-27\", \"2020-02-28\", \"2020-02-29\", \"2020-03-01\", \"2020-03-02\", \"2020-03-03\", \"2020-03-04\", \"2020-03-05\", \"2020-03-06\", \"2020-03-07\", \"2020-03-08\", \"2020-03-09\", \"2020-03-10\", \"2020-03-11\", \"2020-03-12\", \"2020-03-13\", \"2020-03-14\", \"2020-03-15\", \"2020-03-16\", \"2020-03-17\", \"2020-03-18\", \"2020-03-19\", \"2020-03-20\", \"2020-03-21\", \"2020-03-22\", \"2020-03-23\", \"2020-03-24\", \"2020-03-25\", \"2020-03-26\", \"2020-03-27\", \"2020-03-28\", \"2020-03-29\", \"2020-03-30\", \"2020-03-31\", \"2020-04-01\", \"2020-04-02\", \"2020-04-03\", \"2020-04-04\", \"2020-04-05\", \"2020-04-06\", \"2020-04-07\", \"2020-04-08\", \"2020-04-09\", \"2020-04-10\", \"2020-04-11\", \"2020-04-12\", \"2020-04-13\", \"2020-04-14\", \"2020-04-15\", \"2020-04-16\", \"2020-04-17\", \"2020-04-18\", \"2020-04-19\", \"2020-04-20\", \"2020-04-21\", \"2020-04-22\", \"2020-04-23\", \"2020-04-24\", \"2020-04-25\", \"2020-04-26\", \"2020-04-27\", \"2020-04-28\", \"2020-04-29\", \"2020-04-30\", \"2020-05-01\", \"2020-05-02\", \"2020-05-03\", \"2020-05-04\", \"2020-05-05\", \"2020-05-06\", \"2020-05-07\", \"2020-05-08\", \"2020-05-09\", \"2020-05-10\", \"2020-05-11\", \"2020-05-12\", \"2020-05-13\", \"2020-05-14\", \"2020-05-15\", \"2020-05-16\", \"2020-05-17\", \"2020-05-18\", \"2020-05-19\", \"2020-05-20\", \"2020-05-21\", \"2020-05-22\", \"2020-05-23\", \"2020-05-24\", \"2020-05-25\", \"2020-05-26\", \"2020-05-27\", \"2020-05-28\", \"2020-05-29\", \"2020-05-30\", \"2020-05-31\", \"2020-06-01\", \"2020-06-02\", \"2020-06-03\"], \"y\": [0.0, 0.0, 0.0, 0.0, 0.0, 0.0, 0.0, 0.0, 0.0, 0.0, 0.0, 0.0, 0.0, 0.0, 0.0, 0.0, 0.0, 0.0, 0.0, 0.0, 0.0, 0.0, 0.0, 0.0, 0.0, 0.0, 0.0, 0.0, 0.0, 0.0, 0.0, 0.0, 0.0, 0.0, 0.0, 0.0, 0.0, 1.0, 0.0, 2.0, 3.0, 5.0, 15.0, 8.0, 9.0, 7.0, 0.0, 8.0, 11.0, 16.0, 18.0, 31.0, 22.0, 15.0, 9.0, 40.0, 30.0, 80.0, 79.0, 64.0, 95.0, 20.0, 60.0, 89.0, 65.0, 88.0, 73.0, 57.0, 66.0, 49.0, 85.0, 99.0, 45.0, 53.0, 69.0, 76.0, 24.0, 30.0, 32.0, 27.0, 14.0, 12.0, 10.0, 9.0, 7.0, 12.0, 15.0, 6.0, 11.0, 2.0, 5.0, 7.0, 4.0, 0.0, 1.0, 2.0, 0.0, 3.0, 2.0, 0.0, 1.0, 0.0, 1.0, 0.0, 0.0, 0.0, 2.0, 0.0, 0.0, 0.0, 0.0, 0.0, 1.0, 0.0, 0.0, 0.0, 0.0, 0.0, 0.0, 1.0, 0.0, 0.0, 1.0, 0.0, 0.0, 0.0, 1.0, 0.0, 0.0, 1.0, 0.0, 0.0, 0.0, 0.0]}, {\"name\": \"Ipd=lowpass(Ipd)\", \"type\": \"scatter\", \"x\": [\"2020-01-22\", \"2020-01-23\", \"2020-01-24\", \"2020-01-25\", \"2020-01-26\", \"2020-01-27\", \"2020-01-28\", \"2020-01-29\", \"2020-01-30\", \"2020-01-31\", \"2020-02-01\", \"2020-02-02\", \"2020-02-03\", \"2020-02-04\", \"2020-02-05\", \"2020-02-06\", \"2020-02-07\", \"2020-02-08\", \"2020-02-09\", \"2020-02-10\", \"2020-02-11\", \"2020-02-12\", \"2020-02-13\", \"2020-02-14\", \"2020-02-15\", \"2020-02-16\", \"2020-02-17\", \"2020-02-18\", \"2020-02-19\", \"2020-02-20\", \"2020-02-21\", \"2020-02-22\", \"2020-02-23\", \"2020-02-24\", \"2020-02-25\", \"2020-02-26\", \"2020-02-27\", \"2020-02-28\", \"2020-02-29\", \"2020-03-01\", \"2020-03-02\", \"2020-03-03\", \"2020-03-04\", \"2020-03-05\", \"2020-03-06\", \"2020-03-07\", \"2020-03-08\", \"2020-03-09\", \"2020-03-10\", \"2020-03-11\", \"2020-03-12\", \"2020-03-13\", \"2020-03-14\", \"2020-03-15\", \"2020-03-16\", \"2020-03-17\", \"2020-03-18\", \"2020-03-19\", \"2020-03-20\", \"2020-03-21\", \"2020-03-22\", \"2020-03-23\", \"2020-03-24\", \"2020-03-25\", \"2020-03-26\", \"2020-03-27\", \"2020-03-28\", \"2020-03-29\", \"2020-03-30\", \"2020-03-31\", \"2020-04-01\", \"2020-04-02\", \"2020-04-03\", \"2020-04-04\", \"2020-04-05\", \"2020-04-06\", \"2020-04-07\", \"2020-04-08\", \"2020-04-09\", \"2020-04-10\", \"2020-04-11\", \"2020-04-12\", \"2020-04-13\", \"2020-04-14\", \"2020-04-15\", \"2020-04-16\", \"2020-04-17\", \"2020-04-18\", \"2020-04-19\", \"2020-04-20\", \"2020-04-21\", \"2020-04-22\", \"2020-04-23\", \"2020-04-24\", \"2020-04-25\", \"2020-04-26\", \"2020-04-27\", \"2020-04-28\", \"2020-04-29\", \"2020-04-30\", \"2020-05-01\", \"2020-05-02\", \"2020-05-03\", \"2020-05-04\", \"2020-05-05\", \"2020-05-06\", \"2020-05-07\", \"2020-05-08\", \"2020-05-09\", \"2020-05-10\", \"2020-05-11\", \"2020-05-12\", \"2020-05-13\", \"2020-05-14\", \"2020-05-15\", \"2020-05-16\", \"2020-05-17\", \"2020-05-18\", \"2020-05-19\", \"2020-05-20\", \"2020-05-21\", \"2020-05-22\", \"2020-05-23\", \"2020-05-24\", \"2020-05-25\", \"2020-05-26\", \"2020-05-27\", \"2020-05-28\", \"2020-05-29\", \"2020-05-30\", \"2020-05-31\", \"2020-06-01\", \"2020-06-02\", \"2020-06-03\"], \"y\": [-0.005920480818272955, -0.01758402021451899, -0.029799245865912677, -0.04135764132250064, -0.05086596686719247, -0.05685807619402761, -0.057938331477552896, -0.0529478131478931, -0.041140205273938316, -0.022350429940630377, 0.0028636781663680666, 0.03312760779219348, 0.06622451490741715, 0.0991547877883191, 0.12829238257908215, 0.1496415216249447, 0.1591873655641135, 0.15332293219184, 0.12932279867900184, 0.08582319484944562, 0.02325934869440155, -0.05579418988468998, -0.14643470731065045, -0.24144258508996086, -0.33152876415085397, -0.40583529306904054, -0.4526805990332692, -0.4605114006060249, -0.4189913650839474, -0.32012586745301524, -0.15929631274240807, 0.06393944442741328, 0.3454279383902912, 0.6765168404433206, 1.0447704762656942, 1.4353552384587154, 1.8330757063770173, 2.2249575041780423, 2.6031809199002356, 2.968080516858218, 3.3308536796093025, 3.7155805277745713, 4.160164538689151, 4.715870284047363, 5.445266144911081, 6.418564990150975, 7.708566419370102, 9.384600995809139, 11.506023311313557, 14.115876157288493, 17.235352529621, 20.859629433783528, 24.955551799780952, 29.46151002621419, 34.28967141666817, 39.33048152666874, 44.45905220700916, 49.542744614820236, 54.449022577415604, 59.05258654579926, 63.240951666321166, 66.91797912944725, 70.00530726321105, 72.4420260429556, 74.18319512230886, 75.19789306276597, 75.46743958723482, 74.98430462426614, 73.75203492652223, 71.78629455315992, 69.11683784721421, 65.78995222821827, 61.870693727829, 57.444161088104266, 52.615144090778685, 47.50571467021292, 42.250651969185505, 36.990948862627405, 31.865980274119817, 27.005160436086715, 22.520027399273804, 18.497653963522502, 14.996113901867819, 12.042466165707042, 9.633399004105623, 7.738347530345982, 6.304611802641578, 5.26380094078622, 4.538838158054028, 4.050784287551416, 3.724853125267382, 3.495166617427881, 3.307996094164198, 3.123428859214812, 2.9155671612160847, 2.6714945014002147, 2.3893235645360806, 2.0756698260944706, 1.7428826261933137, 1.4063238475202018, 1.0819259286665057, 0.7841951543748024, 0.5247588707075457, 0.3114906118147213, 0.1481890576440897, 0.03473915553306583, -0.03235030997601904, -0.05915714818289038, -0.05343172890204851, -0.02367501277120809, 0.021696223360344512, 0.07502868732691194, 0.1299160440680899, 0.1814724785996875, 0.2264055134057719, 0.26291639881314, 0.29047014577419944, 0.309484403217797, 0.3209865816738011, 0.32628289312931036, 0.3266733342721764, 0.32323539014920394, 0.31668822039558314, 0.30733931146683385, 0.2951073407434366, 0.2796082959898052, 0.2602866843311434, 0.2365700824126302, 0.20802377908656225, 0.17448339916646985, 0.13614733456190195, 0.09361709042567341, 0.0478813373839531, 0.000247323083120859]}],\n",
              "                        {\"template\": {\"data\": {\"bar\": [{\"error_x\": {\"color\": \"#2a3f5f\"}, \"error_y\": {\"color\": \"#2a3f5f\"}, \"marker\": {\"line\": {\"color\": \"#E5ECF6\", \"width\": 0.5}}, \"type\": \"bar\"}], \"barpolar\": [{\"marker\": {\"line\": {\"color\": \"#E5ECF6\", \"width\": 0.5}}, \"type\": \"barpolar\"}], \"carpet\": [{\"aaxis\": {\"endlinecolor\": \"#2a3f5f\", \"gridcolor\": \"white\", \"linecolor\": \"white\", \"minorgridcolor\": \"white\", \"startlinecolor\": \"#2a3f5f\"}, \"baxis\": {\"endlinecolor\": \"#2a3f5f\", \"gridcolor\": \"white\", \"linecolor\": \"white\", \"minorgridcolor\": \"white\", \"startlinecolor\": \"#2a3f5f\"}, \"type\": \"carpet\"}], \"choropleth\": [{\"colorbar\": {\"outlinewidth\": 0, \"ticks\": \"\"}, \"type\": \"choropleth\"}], \"contour\": [{\"colorbar\": {\"outlinewidth\": 0, \"ticks\": \"\"}, \"colorscale\": [[0.0, \"#0d0887\"], [0.1111111111111111, \"#46039f\"], [0.2222222222222222, \"#7201a8\"], [0.3333333333333333, \"#9c179e\"], [0.4444444444444444, \"#bd3786\"], [0.5555555555555556, \"#d8576b\"], [0.6666666666666666, \"#ed7953\"], [0.7777777777777778, \"#fb9f3a\"], [0.8888888888888888, \"#fdca26\"], [1.0, \"#f0f921\"]], \"type\": \"contour\"}], \"contourcarpet\": [{\"colorbar\": {\"outlinewidth\": 0, \"ticks\": \"\"}, \"type\": \"contourcarpet\"}], \"heatmap\": [{\"colorbar\": {\"outlinewidth\": 0, \"ticks\": \"\"}, \"colorscale\": [[0.0, \"#0d0887\"], [0.1111111111111111, \"#46039f\"], [0.2222222222222222, \"#7201a8\"], [0.3333333333333333, \"#9c179e\"], [0.4444444444444444, \"#bd3786\"], [0.5555555555555556, \"#d8576b\"], [0.6666666666666666, \"#ed7953\"], [0.7777777777777778, \"#fb9f3a\"], [0.8888888888888888, \"#fdca26\"], [1.0, \"#f0f921\"]], \"type\": \"heatmap\"}], \"heatmapgl\": [{\"colorbar\": {\"outlinewidth\": 0, \"ticks\": \"\"}, \"colorscale\": [[0.0, \"#0d0887\"], [0.1111111111111111, \"#46039f\"], [0.2222222222222222, \"#7201a8\"], [0.3333333333333333, \"#9c179e\"], [0.4444444444444444, \"#bd3786\"], [0.5555555555555556, \"#d8576b\"], [0.6666666666666666, \"#ed7953\"], [0.7777777777777778, \"#fb9f3a\"], [0.8888888888888888, \"#fdca26\"], [1.0, \"#f0f921\"]], \"type\": \"heatmapgl\"}], \"histogram\": [{\"marker\": {\"colorbar\": {\"outlinewidth\": 0, \"ticks\": \"\"}}, \"type\": \"histogram\"}], \"histogram2d\": [{\"colorbar\": {\"outlinewidth\": 0, \"ticks\": \"\"}, \"colorscale\": [[0.0, \"#0d0887\"], [0.1111111111111111, \"#46039f\"], [0.2222222222222222, \"#7201a8\"], [0.3333333333333333, \"#9c179e\"], [0.4444444444444444, \"#bd3786\"], [0.5555555555555556, \"#d8576b\"], [0.6666666666666666, \"#ed7953\"], [0.7777777777777778, \"#fb9f3a\"], [0.8888888888888888, \"#fdca26\"], [1.0, \"#f0f921\"]], \"type\": \"histogram2d\"}], \"histogram2dcontour\": [{\"colorbar\": {\"outlinewidth\": 0, \"ticks\": \"\"}, \"colorscale\": [[0.0, \"#0d0887\"], [0.1111111111111111, \"#46039f\"], [0.2222222222222222, \"#7201a8\"], [0.3333333333333333, \"#9c179e\"], [0.4444444444444444, \"#bd3786\"], [0.5555555555555556, \"#d8576b\"], [0.6666666666666666, \"#ed7953\"], [0.7777777777777778, \"#fb9f3a\"], [0.8888888888888888, \"#fdca26\"], [1.0, \"#f0f921\"]], \"type\": \"histogram2dcontour\"}], \"mesh3d\": [{\"colorbar\": {\"outlinewidth\": 0, \"ticks\": \"\"}, \"type\": \"mesh3d\"}], \"parcoords\": [{\"line\": {\"colorbar\": {\"outlinewidth\": 0, \"ticks\": \"\"}}, \"type\": \"parcoords\"}], \"pie\": [{\"automargin\": true, \"type\": \"pie\"}], \"scatter\": [{\"marker\": {\"colorbar\": {\"outlinewidth\": 0, \"ticks\": \"\"}}, \"type\": \"scatter\"}], \"scatter3d\": [{\"line\": {\"colorbar\": {\"outlinewidth\": 0, \"ticks\": \"\"}}, \"marker\": {\"colorbar\": {\"outlinewidth\": 0, \"ticks\": \"\"}}, \"type\": \"scatter3d\"}], \"scattercarpet\": [{\"marker\": {\"colorbar\": {\"outlinewidth\": 0, \"ticks\": \"\"}}, \"type\": \"scattercarpet\"}], \"scattergeo\": [{\"marker\": {\"colorbar\": {\"outlinewidth\": 0, \"ticks\": \"\"}}, \"type\": \"scattergeo\"}], \"scattergl\": [{\"marker\": {\"colorbar\": {\"outlinewidth\": 0, \"ticks\": \"\"}}, \"type\": \"scattergl\"}], \"scattermapbox\": [{\"marker\": {\"colorbar\": {\"outlinewidth\": 0, \"ticks\": \"\"}}, \"type\": \"scattermapbox\"}], \"scatterpolar\": [{\"marker\": {\"colorbar\": {\"outlinewidth\": 0, \"ticks\": \"\"}}, \"type\": \"scatterpolar\"}], \"scatterpolargl\": [{\"marker\": {\"colorbar\": {\"outlinewidth\": 0, \"ticks\": \"\"}}, \"type\": \"scatterpolargl\"}], \"scatterternary\": [{\"marker\": {\"colorbar\": {\"outlinewidth\": 0, \"ticks\": \"\"}}, \"type\": \"scatterternary\"}], \"surface\": [{\"colorbar\": {\"outlinewidth\": 0, \"ticks\": \"\"}, \"colorscale\": [[0.0, \"#0d0887\"], [0.1111111111111111, \"#46039f\"], [0.2222222222222222, \"#7201a8\"], [0.3333333333333333, \"#9c179e\"], [0.4444444444444444, \"#bd3786\"], [0.5555555555555556, \"#d8576b\"], [0.6666666666666666, \"#ed7953\"], [0.7777777777777778, \"#fb9f3a\"], [0.8888888888888888, \"#fdca26\"], [1.0, \"#f0f921\"]], \"type\": \"surface\"}], \"table\": [{\"cells\": {\"fill\": {\"color\": \"#EBF0F8\"}, \"line\": {\"color\": \"white\"}}, \"header\": {\"fill\": {\"color\": \"#C8D4E3\"}, \"line\": {\"color\": \"white\"}}, \"type\": \"table\"}]}, \"layout\": {\"annotationdefaults\": {\"arrowcolor\": \"#2a3f5f\", \"arrowhead\": 0, \"arrowwidth\": 1}, \"coloraxis\": {\"colorbar\": {\"outlinewidth\": 0, \"ticks\": \"\"}}, \"colorscale\": {\"diverging\": [[0, \"#8e0152\"], [0.1, \"#c51b7d\"], [0.2, \"#de77ae\"], [0.3, \"#f1b6da\"], [0.4, \"#fde0ef\"], [0.5, \"#f7f7f7\"], [0.6, \"#e6f5d0\"], [0.7, \"#b8e186\"], [0.8, \"#7fbc41\"], [0.9, \"#4d9221\"], [1, \"#276419\"]], \"sequential\": [[0.0, \"#0d0887\"], [0.1111111111111111, \"#46039f\"], [0.2222222222222222, \"#7201a8\"], [0.3333333333333333, \"#9c179e\"], [0.4444444444444444, \"#bd3786\"], [0.5555555555555556, \"#d8576b\"], [0.6666666666666666, \"#ed7953\"], [0.7777777777777778, \"#fb9f3a\"], [0.8888888888888888, \"#fdca26\"], [1.0, \"#f0f921\"]], \"sequentialminus\": [[0.0, \"#0d0887\"], [0.1111111111111111, \"#46039f\"], [0.2222222222222222, \"#7201a8\"], [0.3333333333333333, \"#9c179e\"], [0.4444444444444444, \"#bd3786\"], [0.5555555555555556, \"#d8576b\"], [0.6666666666666666, \"#ed7953\"], [0.7777777777777778, \"#fb9f3a\"], [0.8888888888888888, \"#fdca26\"], [1.0, \"#f0f921\"]]}, \"colorway\": [\"#636efa\", \"#EF553B\", \"#00cc96\", \"#ab63fa\", \"#FFA15A\", \"#19d3f3\", \"#FF6692\", \"#B6E880\", \"#FF97FF\", \"#FECB52\"], \"font\": {\"color\": \"#2a3f5f\"}, \"geo\": {\"bgcolor\": \"white\", \"lakecolor\": \"white\", \"landcolor\": \"#E5ECF6\", \"showlakes\": true, \"showland\": true, \"subunitcolor\": \"white\"}, \"hoverlabel\": {\"align\": \"left\"}, \"hovermode\": \"closest\", \"mapbox\": {\"style\": \"light\"}, \"paper_bgcolor\": \"white\", \"plot_bgcolor\": \"#E5ECF6\", \"polar\": {\"angularaxis\": {\"gridcolor\": \"white\", \"linecolor\": \"white\", \"ticks\": \"\"}, \"bgcolor\": \"#E5ECF6\", \"radialaxis\": {\"gridcolor\": \"white\", \"linecolor\": \"white\", \"ticks\": \"\"}}, \"scene\": {\"xaxis\": {\"backgroundcolor\": \"#E5ECF6\", \"gridcolor\": \"white\", \"gridwidth\": 2, \"linecolor\": \"white\", \"showbackground\": true, \"ticks\": \"\", \"zerolinecolor\": \"white\"}, \"yaxis\": {\"backgroundcolor\": \"#E5ECF6\", \"gridcolor\": \"white\", \"gridwidth\": 2, \"linecolor\": \"white\", \"showbackground\": true, \"ticks\": \"\", \"zerolinecolor\": \"white\"}, \"zaxis\": {\"backgroundcolor\": \"#E5ECF6\", \"gridcolor\": \"white\", \"gridwidth\": 2, \"linecolor\": \"white\", \"showbackground\": true, \"ticks\": \"\", \"zerolinecolor\": \"white\"}}, \"shapedefaults\": {\"line\": {\"color\": \"#2a3f5f\"}}, \"ternary\": {\"aaxis\": {\"gridcolor\": \"white\", \"linecolor\": \"white\", \"ticks\": \"\"}, \"baxis\": {\"gridcolor\": \"white\", \"linecolor\": \"white\", \"ticks\": \"\"}, \"bgcolor\": \"#E5ECF6\", \"caxis\": {\"gridcolor\": \"white\", \"linecolor\": \"white\", \"ticks\": \"\"}}, \"title\": {\"x\": 0.05}, \"xaxis\": {\"automargin\": true, \"gridcolor\": \"white\", \"linecolor\": \"white\", \"ticks\": \"\", \"title\": {\"standoff\": 15}, \"zerolinecolor\": \"white\", \"zerolinewidth\": 2}, \"yaxis\": {\"automargin\": true, \"gridcolor\": \"white\", \"linecolor\": \"white\", \"ticks\": \"\", \"title\": {\"standoff\": 15}, \"zerolinecolor\": \"white\", \"zerolinewidth\": 2}}}, \"title\": {\"text\": \"$\\\\text{Iceland: Actual } I_{pd} \\\\text{ vs. convolution of deconvolution of } I_{pd}$\", \"x\": 0.5, \"xanchor\": \"center\"}, \"xaxis\": {\"title\": {\"text\": \"Day\"}}, \"yaxis\": {\"title\": {\"text\": \"Count\"}}},\n",
              "                        {\"responsive\": true}\n",
              "                    ).then(function(){\n",
              "                            \n",
              "var gd = document.getElementById('9b53df7a-cdf1-45ba-876d-4e8e3d371cc4');\n",
              "var x = new MutationObserver(function (mutations, observer) {{\n",
              "        var display = window.getComputedStyle(gd).display;\n",
              "        if (!display || display === 'none') {{\n",
              "            console.log([gd, 'removed!']);\n",
              "            Plotly.purge(gd);\n",
              "            observer.disconnect();\n",
              "        }}\n",
              "}});\n",
              "\n",
              "// Listen for the removal of the full notebook cells\n",
              "var notebookContainer = gd.closest('#notebook-container');\n",
              "if (notebookContainer) {{\n",
              "    x.observe(notebookContainer, {childList: true});\n",
              "}}\n",
              "\n",
              "// Listen for the clearing of the current output cell\n",
              "var outputEl = gd.closest('.output');\n",
              "if (outputEl) {{\n",
              "    x.observe(outputEl, {childList: true});\n",
              "}}\n",
              "\n",
              "                        })\n",
              "                };\n",
              "                \n",
              "            </script>\n",
              "        </div>\n",
              "</body>\n",
              "</html>"
            ]
          },
          "metadata": {
            "tags": []
          }
        }
      ]
    },
    {
      "cell_type": "markdown",
      "metadata": {
        "colab_type": "text",
        "id": "ZMhlqYGwlv6Q"
      },
      "source": [
        "We can see that our estimate for $\\hat{E}_{pd}$ must be close to the reality of $E_{pd}$ as $I_{pd}$ is almost identical to $\\hat{E}_{pd} \\circledast h_L$.\n",
        "\n",
        "Of course, this holds only as long as our estimate of $h_L$ is close to reality.\n",
        "\n"
      ]
    },
    {
      "cell_type": "markdown",
      "metadata": {
        "colab_type": "text",
        "id": "qB1WkmpVlv6R"
      },
      "source": [
        "#### 3. $\\beta$ and $R$ from $E_{pd}$ and $I$\n",
        "\n",
        "As described above:\n",
        "$$\\beta = \\frac{N~E_{pd}}{S~I}$$ and if $S$~$N$, then $$\\beta = \\frac{E_{pd}}{I}$$\n",
        "It is easier to simply say :\n",
        "$$R = \\frac{E_{pd}}{\\gamma~I}$$"
      ]
    },
    {
      "cell_type": "code",
      "metadata": {
        "colab_type": "code",
        "outputId": "214ba69d-25e8-443b-a3fd-29415d27cdda",
        "id": "m-tkJtnrlv6R",
        "colab": {
          "base_uri": "https://localhost:8080/",
          "height": 542
        }
      },
      "source": [
        "#collapse_hide\n",
        "\n",
        "# Calculate R\n",
        "gam = 1/20.11 # As we say gamma is 1/20.11\n",
        "R = Enext[:len(inf_df.loc['Iceland'])]*(1/gam)/inf_df.loc['Iceland']\n",
        "\n",
        "fig = go.Figure(data=[    \n",
        "    go.Scatter(name='R', x=inf_df.loc['Iceland'].index, y=R),\n",
        "    go.Scatter(name='Epd=deconv(Ipd)', x=inf_df.loc['Iceland'].index, y=Enext),\n",
        "    go.Scatter(name='Inf', x=inf_df.loc['Iceland'].index, y=inf_df.loc['Iceland']),\n",
        "])\n",
        "\n",
        "fig.update_layout(\n",
        "    \n",
        "    xaxis_title = 'Day',\n",
        "    yaxis_title = 'R',\n",
        "    title={\n",
        "        'text':r'$\\text{Iceland: R }$',\n",
        "        'x':0.5,\n",
        "        'xanchor':'center'\n",
        "    }\n",
        ")\n",
        "\n",
        "fig.show()"
      ],
      "execution_count": 239,
      "outputs": [
        {
          "output_type": "display_data",
          "data": {
            "text/html": [
              "<html>\n",
              "<head><meta charset=\"utf-8\" /></head>\n",
              "<body>\n",
              "    <div>\n",
              "            <script src=\"https://cdnjs.cloudflare.com/ajax/libs/mathjax/2.7.5/MathJax.js?config=TeX-AMS-MML_SVG\"></script><script type=\"text/javascript\">if (window.MathJax) {MathJax.Hub.Config({SVG: {font: \"STIX-Web\"}});}</script>\n",
              "                <script type=\"text/javascript\">window.PlotlyConfig = {MathJaxConfig: 'local'};</script>\n",
              "        <script src=\"https://cdn.plot.ly/plotly-latest.min.js\"></script>    \n",
              "            <div id=\"f8ec94d3-8265-4a80-a250-815ff73ca2e6\" class=\"plotly-graph-div\" style=\"height:525px; width:100%;\"></div>\n",
              "            <script type=\"text/javascript\">\n",
              "                \n",
              "                    window.PLOTLYENV=window.PLOTLYENV || {};\n",
              "                    \n",
              "                if (document.getElementById(\"f8ec94d3-8265-4a80-a250-815ff73ca2e6\")) {\n",
              "                    Plotly.newPlot(\n",
              "                        'f8ec94d3-8265-4a80-a250-815ff73ca2e6',\n",
              "                        [{\"name\": \"R\", \"type\": \"scatter\", \"x\": [\"2020-01-22\", \"2020-01-23\", \"2020-01-24\", \"2020-01-25\", \"2020-01-26\", \"2020-01-27\", \"2020-01-28\", \"2020-01-29\", \"2020-01-30\", \"2020-01-31\", \"2020-02-01\", \"2020-02-02\", \"2020-02-03\", \"2020-02-04\", \"2020-02-05\", \"2020-02-06\", \"2020-02-07\", \"2020-02-08\", \"2020-02-09\", \"2020-02-10\", \"2020-02-11\", \"2020-02-12\", \"2020-02-13\", \"2020-02-14\", \"2020-02-15\", \"2020-02-16\", \"2020-02-17\", \"2020-02-18\", \"2020-02-19\", \"2020-02-20\", \"2020-02-21\", \"2020-02-22\", \"2020-02-23\", \"2020-02-24\", \"2020-02-25\", \"2020-02-26\", \"2020-02-27\", \"2020-02-28\", \"2020-02-29\", \"2020-03-01\", \"2020-03-02\", \"2020-03-03\", \"2020-03-04\", \"2020-03-05\", \"2020-03-06\", \"2020-03-07\", \"2020-03-08\", \"2020-03-09\", \"2020-03-10\", \"2020-03-11\", \"2020-03-12\", \"2020-03-13\", \"2020-03-14\", \"2020-03-15\", \"2020-03-16\", \"2020-03-17\", \"2020-03-18\", \"2020-03-19\", \"2020-03-20\", \"2020-03-21\", \"2020-03-22\", \"2020-03-23\", \"2020-03-24\", \"2020-03-25\", \"2020-03-26\", \"2020-03-27\", \"2020-03-28\", \"2020-03-29\", \"2020-03-30\", \"2020-03-31\", \"2020-04-01\", \"2020-04-02\", \"2020-04-03\", \"2020-04-04\", \"2020-04-05\", \"2020-04-06\", \"2020-04-07\", \"2020-04-08\", \"2020-04-09\", \"2020-04-10\", \"2020-04-11\", \"2020-04-12\", \"2020-04-13\", \"2020-04-14\", \"2020-04-15\", \"2020-04-16\", \"2020-04-17\", \"2020-04-18\", \"2020-04-19\", \"2020-04-20\", \"2020-04-21\", \"2020-04-22\", \"2020-04-23\", \"2020-04-24\", \"2020-04-25\", \"2020-04-26\", \"2020-04-27\", \"2020-04-28\", \"2020-04-29\", \"2020-04-30\", \"2020-05-01\", \"2020-05-02\", \"2020-05-03\", \"2020-05-04\", \"2020-05-05\", \"2020-05-06\", \"2020-05-07\", \"2020-05-08\", \"2020-05-09\", \"2020-05-10\", \"2020-05-11\", \"2020-05-12\", \"2020-05-13\", \"2020-05-14\", \"2020-05-15\", \"2020-05-16\", \"2020-05-17\", \"2020-05-18\", \"2020-05-19\", \"2020-05-20\", \"2020-05-21\", \"2020-05-22\", \"2020-05-23\", \"2020-05-24\", \"2020-05-25\", \"2020-05-26\", \"2020-05-27\", \"2020-05-28\", \"2020-05-29\", \"2020-05-30\", \"2020-05-31\", \"2020-06-01\", \"2020-06-02\", \"2020-06-03\"], \"y\": [null, null, null, null, null, null, null, null, null, null, null, null, null, null, null, null, null, null, null, null, null, null, null, null, null, null, null, null, null, null, null, null, null, null, null, null, null, 60.33, 80.44, 33.516666666666666, 23.461666666666662, 16.453636363636363, 9.281538461538462, 8.87205882352941, 8.885813953488372, 9.6528, 11.663799999999998, 12.135344827586207, 12.12514705882353, 11.25202380952381, 10.449313725490196, 8.920977443609022, 8.433225806451611, 8.909493670886077, 8.379166666666666, 7.254292237442923, 6.75827868852459, 5.213703703703704, 4.231064356435644, 3.7985555555555552, 3.1812429378531073, 2.9927767695099816, 2.636268907563025, 2.1916642120765832, 1.932576601671309, 1.6016814159292037, 1.3533293978748524, 1.1387315968289922, 0.9328263214670982, 0.7957967914438502, 0.6075528700906344, 0.46812803103782735, 0.34441484300666036, 0.25705998033431665, 0.17171726755218217, 0.091742700729927, 0.03939275220372184, 0.0, 0.0, 0.0, 0.0, 0.0, 0.0, 0.0, 0.0, 0.0, 0.03859884836852207, 0.043717391304347826, 0.0426963906581741, 0.10029925187032418, 0.11458689458689458, 0.06424920127795528, 0.07448148148148148, 0.08485232067510548, 0.0, 0.0, 0.0, 0.0, 0.0, 0.0, 0.0, 0.0, 0.0, 0.0, 0.0, 0.0, 0.0, 0.0, 0.0, 0.0, 0.0, 0.0, 0.0, 0.0, 0.0, 0.0, 0.0, 0.0, 0.0, 0.0, 0.0, 0.0, 0.0, 0.0, 0.0, 0.0, 0.0, 0.0, 0.0, 0.0, 0.0, 0.0, 0.0, 0.0]}, {\"name\": \"Epd=deconv(Ipd)\", \"type\": \"scatter\", \"x\": [\"2020-01-22\", \"2020-01-23\", \"2020-01-24\", \"2020-01-25\", \"2020-01-26\", \"2020-01-27\", \"2020-01-28\", \"2020-01-29\", \"2020-01-30\", \"2020-01-31\", \"2020-02-01\", \"2020-02-02\", \"2020-02-03\", \"2020-02-04\", \"2020-02-05\", \"2020-02-06\", \"2020-02-07\", \"2020-02-08\", \"2020-02-09\", \"2020-02-10\", \"2020-02-11\", \"2020-02-12\", \"2020-02-13\", \"2020-02-14\", \"2020-02-15\", \"2020-02-16\", \"2020-02-17\", \"2020-02-18\", \"2020-02-19\", \"2020-02-20\", \"2020-02-21\", \"2020-02-22\", \"2020-02-23\", \"2020-02-24\", \"2020-02-25\", \"2020-02-26\", \"2020-02-27\", \"2020-02-28\", \"2020-02-29\", \"2020-03-01\", \"2020-03-02\", \"2020-03-03\", \"2020-03-04\", \"2020-03-05\", \"2020-03-06\", \"2020-03-07\", \"2020-03-08\", \"2020-03-09\", \"2020-03-10\", \"2020-03-11\", \"2020-03-12\", \"2020-03-13\", \"2020-03-14\", \"2020-03-15\", \"2020-03-16\", \"2020-03-17\", \"2020-03-18\", \"2020-03-19\", \"2020-03-20\", \"2020-03-21\", \"2020-03-22\", \"2020-03-23\", \"2020-03-24\", \"2020-03-25\", \"2020-03-26\", \"2020-03-27\", \"2020-03-28\", \"2020-03-29\", \"2020-03-30\", \"2020-03-31\", \"2020-04-01\", \"2020-04-02\", \"2020-04-03\", \"2020-04-04\", \"2020-04-05\", \"2020-04-06\", \"2020-04-07\", \"2020-04-08\", \"2020-04-09\", \"2020-04-10\", \"2020-04-11\", \"2020-04-12\", \"2020-04-13\", \"2020-04-14\", \"2020-04-15\", \"2020-04-16\", \"2020-04-17\", \"2020-04-18\", \"2020-04-19\", \"2020-04-20\", \"2020-04-21\", \"2020-04-22\", \"2020-04-23\", \"2020-04-24\", \"2020-04-25\", \"2020-04-26\", \"2020-04-27\", \"2020-04-28\", \"2020-04-29\", \"2020-04-30\", \"2020-05-01\", \"2020-05-02\", \"2020-05-03\", \"2020-05-04\", \"2020-05-05\", \"2020-05-06\", \"2020-05-07\", \"2020-05-08\", \"2020-05-09\", \"2020-05-10\", \"2020-05-11\", \"2020-05-12\", \"2020-05-13\", \"2020-05-14\", \"2020-05-15\", \"2020-05-16\", \"2020-05-17\", \"2020-05-18\", \"2020-05-19\", \"2020-05-20\", \"2020-05-21\", \"2020-05-22\", \"2020-05-23\", \"2020-05-24\", \"2020-05-25\", \"2020-05-26\", \"2020-05-27\", \"2020-05-28\", \"2020-05-29\", \"2020-05-30\", \"2020-05-31\", \"2020-06-01\", \"2020-06-02\", \"2020-06-03\"], \"y\": [0.0, 0.0, 0.0, 0.0, 0.0, 0.0, 0.0, 0.0, 0.0, 0.0, 0.0, 0.0, 0.0, 0.0, 0.0, 0.0, 0.0, 0.0, 0.0, 0.0, 0.0, 0.0, 0.0, 0.0, 0.0, 0.0, 1.0, 1.0, 1.0, 2.0, 2.0, 2.0, 2.0, 2.0, 2.0, 2.0, 2.0, 3.0, 4.0, 5.0, 7.0, 9.0, 12.0, 15.0, 19.0, 24.0, 29.0, 35.0, 41.0, 47.0, 53.0, 59.0, 65.0, 70.0, 75.0, 79.0, 82.0, 84.0, 85.0, 85.0, 84.0, 82.0, 78.0, 74.0, 69.0, 63.0, 57.0, 50.0, 43.0, 37.0, 30.0, 24.0, 18.0, 13.0, 9.0, 5.0, 2.0, 0.0, 0.0, 0.0, 0.0, 0.0, 0.0, 0.0, 0.0, 0.0, 1.0, 1.0, 1.0, 2.0, 2.0, 1.0, 1.0, 1.0, 0.0, 0.0, 0.0, 0.0, 0.0, 0.0, 0.0, 0.0, 0.0, 0.0, 0.0, 0.0, 0.0, 0.0, 0.0, 0.0, 0.0, 0.0, 0.0, 0.0, 0.0, 0.0, 0.0, 0.0, 0.0, 0.0, 0.0, 0.0, 0.0, 0.0, 0.0, 0.0, 0.0, 0.0, 0.0, 0.0, 0.0, 0.0, 0.0, 0.0, 0.0, 0.0, 0.0, 0.0, 0.0, 0.0, 0.0, 0.0, 0.0, 0.0, 0.0, 0.0, 0.0, 0.0, 0.0, 0.0, 0.0, 0.0, 0.0, 0.0, 0.0, 0.0, 0.0, 0.0, 0.0, 0.0, 0.0, 0.0, 0.0, 0.0, 0.0, 0.0, 0.0, 0.0, 0.0, 0.0, 0.0, 0.0, 0.0, 0.0, 0.0, 0.0, 0.0, 0.0, 0.0, 0.0, 0.0, 0.0, 0.0, 0.0, 0.0, 0.0, 0.0, 0.0, 0.0, 0.0, 0.0, 0.0, 0.0, 0.0, 0.0, 0.0, 0.0, 0.0, 0.0, 0.0, 0.0, 0.0, 0.0, 0.0, 0.0, 0.0, 0.0, 0.0, 0.0, 0.0, 0.0, 0.0, 0.0, 0.0, 0.0, 0.0, 0.0, 0.0, 0.0, 0.0, 0.0, 0.0, 0.0, 0.0, 0.0, 0.0, 0.0, 0.0, 0.0, 0.0, 0.0, 0.0, 0.0, 0.0]}, {\"name\": \"Inf\", \"type\": \"scatter\", \"x\": [\"2020-01-22\", \"2020-01-23\", \"2020-01-24\", \"2020-01-25\", \"2020-01-26\", \"2020-01-27\", \"2020-01-28\", \"2020-01-29\", \"2020-01-30\", \"2020-01-31\", \"2020-02-01\", \"2020-02-02\", \"2020-02-03\", \"2020-02-04\", \"2020-02-05\", \"2020-02-06\", \"2020-02-07\", \"2020-02-08\", \"2020-02-09\", \"2020-02-10\", \"2020-02-11\", \"2020-02-12\", \"2020-02-13\", \"2020-02-14\", \"2020-02-15\", \"2020-02-16\", \"2020-02-17\", \"2020-02-18\", \"2020-02-19\", \"2020-02-20\", \"2020-02-21\", \"2020-02-22\", \"2020-02-23\", \"2020-02-24\", \"2020-02-25\", \"2020-02-26\", \"2020-02-27\", \"2020-02-28\", \"2020-02-29\", \"2020-03-01\", \"2020-03-02\", \"2020-03-03\", \"2020-03-04\", \"2020-03-05\", \"2020-03-06\", \"2020-03-07\", \"2020-03-08\", \"2020-03-09\", \"2020-03-10\", \"2020-03-11\", \"2020-03-12\", \"2020-03-13\", \"2020-03-14\", \"2020-03-15\", \"2020-03-16\", \"2020-03-17\", \"2020-03-18\", \"2020-03-19\", \"2020-03-20\", \"2020-03-21\", \"2020-03-22\", \"2020-03-23\", \"2020-03-24\", \"2020-03-25\", \"2020-03-26\", \"2020-03-27\", \"2020-03-28\", \"2020-03-29\", \"2020-03-30\", \"2020-03-31\", \"2020-04-01\", \"2020-04-02\", \"2020-04-03\", \"2020-04-04\", \"2020-04-05\", \"2020-04-06\", \"2020-04-07\", \"2020-04-08\", \"2020-04-09\", \"2020-04-10\", \"2020-04-11\", \"2020-04-12\", \"2020-04-13\", \"2020-04-14\", \"2020-04-15\", \"2020-04-16\", \"2020-04-17\", \"2020-04-18\", \"2020-04-19\", \"2020-04-20\", \"2020-04-21\", \"2020-04-22\", \"2020-04-23\", \"2020-04-24\", \"2020-04-25\", \"2020-04-26\", \"2020-04-27\", \"2020-04-28\", \"2020-04-29\", \"2020-04-30\", \"2020-05-01\", \"2020-05-02\", \"2020-05-03\", \"2020-05-04\", \"2020-05-05\", \"2020-05-06\", \"2020-05-07\", \"2020-05-08\", \"2020-05-09\", \"2020-05-10\", \"2020-05-11\", \"2020-05-12\", \"2020-05-13\", \"2020-05-14\", \"2020-05-15\", \"2020-05-16\", \"2020-05-17\", \"2020-05-18\", \"2020-05-19\", \"2020-05-20\", \"2020-05-21\", \"2020-05-22\", \"2020-05-23\", \"2020-05-24\", \"2020-05-25\", \"2020-05-26\", \"2020-05-27\", \"2020-05-28\", \"2020-05-29\", \"2020-05-30\", \"2020-05-31\", \"2020-06-01\", \"2020-06-02\", \"2020-06-03\"], \"y\": [0, 0, 0, 0, 0, 0, 0, 0, 0, 0, 0, 0, 0, 0, 0, 0, 0, 0, 0, 0, 0, 0, 0, 0, 0, 0, 0, 0, 0, 0, 0, 0, 0, 0, 0, 0, 0, 1, 1, 3, 6, 11, 26, 34, 43, 50, 50, 58, 68, 84, 102, 133, 155, 158, 180, 219, 244, 324, 404, 450, 531, 551, 595, 679, 718, 791, 847, 883, 927, 935, 993, 1031, 1051, 1017, 1054, 1096, 1021, 977, 954, 917, 840, 804, 770, 723, 642, 587, 521, 460, 471, 401, 351, 313, 270, 237, 210, 174, 158, 149, 131, 117, 99, 82, 72, 66, 56, 39, 36, 26, 18, 18, 18, 15, 12, 12, 10, 6, 6, 6, 3, 4, 3, 2, 3, 3, 3, 2, 3, 3, 1, 2, 2, 2, 2, 2]}],\n",
              "                        {\"template\": {\"data\": {\"bar\": [{\"error_x\": {\"color\": \"#2a3f5f\"}, \"error_y\": {\"color\": \"#2a3f5f\"}, \"marker\": {\"line\": {\"color\": \"#E5ECF6\", \"width\": 0.5}}, \"type\": \"bar\"}], \"barpolar\": [{\"marker\": {\"line\": {\"color\": \"#E5ECF6\", \"width\": 0.5}}, \"type\": \"barpolar\"}], \"carpet\": [{\"aaxis\": {\"endlinecolor\": \"#2a3f5f\", \"gridcolor\": \"white\", \"linecolor\": \"white\", \"minorgridcolor\": \"white\", \"startlinecolor\": \"#2a3f5f\"}, \"baxis\": {\"endlinecolor\": \"#2a3f5f\", \"gridcolor\": \"white\", \"linecolor\": \"white\", \"minorgridcolor\": \"white\", \"startlinecolor\": \"#2a3f5f\"}, \"type\": \"carpet\"}], \"choropleth\": [{\"colorbar\": {\"outlinewidth\": 0, \"ticks\": \"\"}, \"type\": \"choropleth\"}], \"contour\": [{\"colorbar\": {\"outlinewidth\": 0, \"ticks\": \"\"}, \"colorscale\": [[0.0, \"#0d0887\"], [0.1111111111111111, \"#46039f\"], [0.2222222222222222, \"#7201a8\"], [0.3333333333333333, \"#9c179e\"], [0.4444444444444444, \"#bd3786\"], [0.5555555555555556, \"#d8576b\"], [0.6666666666666666, \"#ed7953\"], [0.7777777777777778, \"#fb9f3a\"], [0.8888888888888888, \"#fdca26\"], [1.0, \"#f0f921\"]], \"type\": \"contour\"}], \"contourcarpet\": [{\"colorbar\": {\"outlinewidth\": 0, \"ticks\": \"\"}, \"type\": \"contourcarpet\"}], \"heatmap\": [{\"colorbar\": {\"outlinewidth\": 0, \"ticks\": \"\"}, \"colorscale\": [[0.0, \"#0d0887\"], [0.1111111111111111, \"#46039f\"], [0.2222222222222222, \"#7201a8\"], [0.3333333333333333, \"#9c179e\"], [0.4444444444444444, \"#bd3786\"], [0.5555555555555556, \"#d8576b\"], [0.6666666666666666, \"#ed7953\"], [0.7777777777777778, \"#fb9f3a\"], [0.8888888888888888, \"#fdca26\"], [1.0, \"#f0f921\"]], \"type\": \"heatmap\"}], \"heatmapgl\": [{\"colorbar\": {\"outlinewidth\": 0, \"ticks\": \"\"}, \"colorscale\": [[0.0, \"#0d0887\"], [0.1111111111111111, \"#46039f\"], [0.2222222222222222, \"#7201a8\"], [0.3333333333333333, \"#9c179e\"], [0.4444444444444444, \"#bd3786\"], [0.5555555555555556, \"#d8576b\"], [0.6666666666666666, \"#ed7953\"], [0.7777777777777778, \"#fb9f3a\"], [0.8888888888888888, \"#fdca26\"], [1.0, \"#f0f921\"]], \"type\": \"heatmapgl\"}], \"histogram\": [{\"marker\": {\"colorbar\": {\"outlinewidth\": 0, \"ticks\": \"\"}}, \"type\": \"histogram\"}], \"histogram2d\": [{\"colorbar\": {\"outlinewidth\": 0, \"ticks\": \"\"}, \"colorscale\": [[0.0, \"#0d0887\"], [0.1111111111111111, \"#46039f\"], [0.2222222222222222, \"#7201a8\"], [0.3333333333333333, \"#9c179e\"], [0.4444444444444444, \"#bd3786\"], [0.5555555555555556, \"#d8576b\"], [0.6666666666666666, \"#ed7953\"], [0.7777777777777778, \"#fb9f3a\"], [0.8888888888888888, \"#fdca26\"], [1.0, \"#f0f921\"]], \"type\": \"histogram2d\"}], \"histogram2dcontour\": [{\"colorbar\": {\"outlinewidth\": 0, \"ticks\": \"\"}, \"colorscale\": [[0.0, \"#0d0887\"], [0.1111111111111111, \"#46039f\"], [0.2222222222222222, \"#7201a8\"], [0.3333333333333333, \"#9c179e\"], [0.4444444444444444, \"#bd3786\"], [0.5555555555555556, \"#d8576b\"], [0.6666666666666666, \"#ed7953\"], [0.7777777777777778, \"#fb9f3a\"], [0.8888888888888888, \"#fdca26\"], [1.0, \"#f0f921\"]], \"type\": \"histogram2dcontour\"}], \"mesh3d\": [{\"colorbar\": {\"outlinewidth\": 0, \"ticks\": \"\"}, \"type\": \"mesh3d\"}], \"parcoords\": [{\"line\": {\"colorbar\": {\"outlinewidth\": 0, \"ticks\": \"\"}}, \"type\": \"parcoords\"}], \"pie\": [{\"automargin\": true, \"type\": \"pie\"}], \"scatter\": [{\"marker\": {\"colorbar\": {\"outlinewidth\": 0, \"ticks\": \"\"}}, \"type\": \"scatter\"}], \"scatter3d\": [{\"line\": {\"colorbar\": {\"outlinewidth\": 0, \"ticks\": \"\"}}, \"marker\": {\"colorbar\": {\"outlinewidth\": 0, \"ticks\": \"\"}}, \"type\": \"scatter3d\"}], \"scattercarpet\": [{\"marker\": {\"colorbar\": {\"outlinewidth\": 0, \"ticks\": \"\"}}, \"type\": \"scattercarpet\"}], \"scattergeo\": [{\"marker\": {\"colorbar\": {\"outlinewidth\": 0, \"ticks\": \"\"}}, \"type\": \"scattergeo\"}], \"scattergl\": [{\"marker\": {\"colorbar\": {\"outlinewidth\": 0, \"ticks\": \"\"}}, \"type\": \"scattergl\"}], \"scattermapbox\": [{\"marker\": {\"colorbar\": {\"outlinewidth\": 0, \"ticks\": \"\"}}, \"type\": \"scattermapbox\"}], \"scatterpolar\": [{\"marker\": {\"colorbar\": {\"outlinewidth\": 0, \"ticks\": \"\"}}, \"type\": \"scatterpolar\"}], \"scatterpolargl\": [{\"marker\": {\"colorbar\": {\"outlinewidth\": 0, \"ticks\": \"\"}}, \"type\": \"scatterpolargl\"}], \"scatterternary\": [{\"marker\": {\"colorbar\": {\"outlinewidth\": 0, \"ticks\": \"\"}}, \"type\": \"scatterternary\"}], \"surface\": [{\"colorbar\": {\"outlinewidth\": 0, \"ticks\": \"\"}, \"colorscale\": [[0.0, \"#0d0887\"], [0.1111111111111111, \"#46039f\"], [0.2222222222222222, \"#7201a8\"], [0.3333333333333333, \"#9c179e\"], [0.4444444444444444, \"#bd3786\"], [0.5555555555555556, \"#d8576b\"], [0.6666666666666666, \"#ed7953\"], [0.7777777777777778, \"#fb9f3a\"], [0.8888888888888888, \"#fdca26\"], [1.0, \"#f0f921\"]], \"type\": \"surface\"}], \"table\": [{\"cells\": {\"fill\": {\"color\": \"#EBF0F8\"}, \"line\": {\"color\": \"white\"}}, \"header\": {\"fill\": {\"color\": \"#C8D4E3\"}, \"line\": {\"color\": \"white\"}}, \"type\": \"table\"}]}, \"layout\": {\"annotationdefaults\": {\"arrowcolor\": \"#2a3f5f\", \"arrowhead\": 0, \"arrowwidth\": 1}, \"coloraxis\": {\"colorbar\": {\"outlinewidth\": 0, \"ticks\": \"\"}}, \"colorscale\": {\"diverging\": [[0, \"#8e0152\"], [0.1, \"#c51b7d\"], [0.2, \"#de77ae\"], [0.3, \"#f1b6da\"], [0.4, \"#fde0ef\"], [0.5, \"#f7f7f7\"], [0.6, \"#e6f5d0\"], [0.7, \"#b8e186\"], [0.8, \"#7fbc41\"], [0.9, \"#4d9221\"], [1, \"#276419\"]], \"sequential\": [[0.0, \"#0d0887\"], [0.1111111111111111, \"#46039f\"], [0.2222222222222222, \"#7201a8\"], [0.3333333333333333, \"#9c179e\"], [0.4444444444444444, \"#bd3786\"], [0.5555555555555556, \"#d8576b\"], [0.6666666666666666, \"#ed7953\"], [0.7777777777777778, \"#fb9f3a\"], [0.8888888888888888, \"#fdca26\"], [1.0, \"#f0f921\"]], \"sequentialminus\": [[0.0, \"#0d0887\"], [0.1111111111111111, \"#46039f\"], [0.2222222222222222, \"#7201a8\"], [0.3333333333333333, \"#9c179e\"], [0.4444444444444444, \"#bd3786\"], [0.5555555555555556, \"#d8576b\"], [0.6666666666666666, \"#ed7953\"], [0.7777777777777778, \"#fb9f3a\"], [0.8888888888888888, \"#fdca26\"], [1.0, \"#f0f921\"]]}, \"colorway\": [\"#636efa\", \"#EF553B\", \"#00cc96\", \"#ab63fa\", \"#FFA15A\", \"#19d3f3\", \"#FF6692\", \"#B6E880\", \"#FF97FF\", \"#FECB52\"], \"font\": {\"color\": \"#2a3f5f\"}, \"geo\": {\"bgcolor\": \"white\", \"lakecolor\": \"white\", \"landcolor\": \"#E5ECF6\", \"showlakes\": true, \"showland\": true, \"subunitcolor\": \"white\"}, \"hoverlabel\": {\"align\": \"left\"}, \"hovermode\": \"closest\", \"mapbox\": {\"style\": \"light\"}, \"paper_bgcolor\": \"white\", \"plot_bgcolor\": \"#E5ECF6\", \"polar\": {\"angularaxis\": {\"gridcolor\": \"white\", \"linecolor\": \"white\", \"ticks\": \"\"}, \"bgcolor\": \"#E5ECF6\", \"radialaxis\": {\"gridcolor\": \"white\", \"linecolor\": \"white\", \"ticks\": \"\"}}, \"scene\": {\"xaxis\": {\"backgroundcolor\": \"#E5ECF6\", \"gridcolor\": \"white\", \"gridwidth\": 2, \"linecolor\": \"white\", \"showbackground\": true, \"ticks\": \"\", \"zerolinecolor\": \"white\"}, \"yaxis\": {\"backgroundcolor\": \"#E5ECF6\", \"gridcolor\": \"white\", \"gridwidth\": 2, \"linecolor\": \"white\", \"showbackground\": true, \"ticks\": \"\", \"zerolinecolor\": \"white\"}, \"zaxis\": {\"backgroundcolor\": \"#E5ECF6\", \"gridcolor\": \"white\", \"gridwidth\": 2, \"linecolor\": \"white\", \"showbackground\": true, \"ticks\": \"\", \"zerolinecolor\": \"white\"}}, \"shapedefaults\": {\"line\": {\"color\": \"#2a3f5f\"}}, \"ternary\": {\"aaxis\": {\"gridcolor\": \"white\", \"linecolor\": \"white\", \"ticks\": \"\"}, \"baxis\": {\"gridcolor\": \"white\", \"linecolor\": \"white\", \"ticks\": \"\"}, \"bgcolor\": \"#E5ECF6\", \"caxis\": {\"gridcolor\": \"white\", \"linecolor\": \"white\", \"ticks\": \"\"}}, \"title\": {\"x\": 0.05}, \"xaxis\": {\"automargin\": true, \"gridcolor\": \"white\", \"linecolor\": \"white\", \"ticks\": \"\", \"title\": {\"standoff\": 15}, \"zerolinecolor\": \"white\", \"zerolinewidth\": 2}, \"yaxis\": {\"automargin\": true, \"gridcolor\": \"white\", \"linecolor\": \"white\", \"ticks\": \"\", \"title\": {\"standoff\": 15}, \"zerolinecolor\": \"white\", \"zerolinewidth\": 2}}}, \"title\": {\"text\": \"$\\\\text{Iceland: R }$\", \"x\": 0.5, \"xanchor\": \"center\"}, \"xaxis\": {\"title\": {\"text\": \"Day\"}}, \"yaxis\": {\"title\": {\"text\": \"R\"}}},\n",
              "                        {\"responsive\": true}\n",
              "                    ).then(function(){\n",
              "                            \n",
              "var gd = document.getElementById('f8ec94d3-8265-4a80-a250-815ff73ca2e6');\n",
              "var x = new MutationObserver(function (mutations, observer) {{\n",
              "        var display = window.getComputedStyle(gd).display;\n",
              "        if (!display || display === 'none') {{\n",
              "            console.log([gd, 'removed!']);\n",
              "            Plotly.purge(gd);\n",
              "            observer.disconnect();\n",
              "        }}\n",
              "}});\n",
              "\n",
              "// Listen for the removal of the full notebook cells\n",
              "var notebookContainer = gd.closest('#notebook-container');\n",
              "if (notebookContainer) {{\n",
              "    x.observe(notebookContainer, {childList: true});\n",
              "}}\n",
              "\n",
              "// Listen for the clearing of the current output cell\n",
              "var outputEl = gd.closest('.output');\n",
              "if (outputEl) {{\n",
              "    x.observe(outputEl, {childList: true});\n",
              "}}\n",
              "\n",
              "                        })\n",
              "                };\n",
              "                \n",
              "            </script>\n",
              "        </div>\n",
              "</body>\n",
              "</html>"
            ]
          },
          "metadata": {
            "tags": []
          }
        }
      ]
    },
    {
      "cell_type": "markdown",
      "metadata": {
        "colab_type": "text",
        "id": "chz4TjQNlv6U"
      },
      "source": [
        "We can see $R<1$ since March 30th and dropped significantly within the last 2 weeks of March.\n"
      ]
    },
    {
      "cell_type": "markdown",
      "metadata": {
        "colab_type": "text",
        "id": "_hSE6fudluuZ"
      },
      "source": [
        "###Russia\n",
        "\n",
        "* We have daily data $I_{pd}$ and $R_{pd}$ (where $R_{pd}$ is the sum of deaths and recoveries)\n",
        "* We have our assumed $T_L$ and $T_I$\n",
        "\n",
        "Analysis steps:\n",
        "1. The first thing we want to check is whether $h_I\\circledast I_{pd} [j]$ gives us something close to $R_{pd}$ If not, why not?\n",
        "2. Can we get an estimated $E_{pd}$ by deconvolution of $I_{pd}$ ?\n",
        "3. What can that tell us about $R$ and $\\beta$ ?"
      ]
    },
    {
      "cell_type": "markdown",
      "metadata": {
        "colab_type": "text",
        "id": "o8Trm_c4luua"
      },
      "source": [
        "#### 1. Checking $h_I$"
      ]
    },
    {
      "cell_type": "code",
      "metadata": {
        "colab_type": "code",
        "outputId": "917a61dd-d9ca-49a2-a941-29a6621dced1",
        "id": "p3XOyFUjluub",
        "colab": {
          "base_uri": "https://localhost:8080/",
          "height": 542
        }
      },
      "source": [
        "#collapse_hide\n",
        "fig = go.Figure(data=[    \n",
        "    go.Bar(name='Ipd', x=conf_df_pd.loc['Russia'].index, y=conf_df_pd.loc['Russia']),\n",
        "    go.Scatter(name='Ipd=lowpass(Ipd)', x=conf_df_pd.loc['Russia'].index, y=lowpass(conf_df_pd.loc['Russia']+deaths_df_pd.loc['Russia'])[0]),\n",
        "    go.Bar(name='Rpd', x=rec_df_pd.loc['Russia'].index, y=rec_df_pd.loc['Russia']),\n",
        "    go.Scatter(name='Rpd=lowpass(Rpd)', x=rec_df_pd.loc['Russia'].index, y=lowpass(rec_df_pd.loc['Russia'])[0]),\n",
        "    go.Scatter(name='Rpd=conv(Ipd)', x=conf_df_pd.loc['Russia'].index, y=signal.fftconvolve(h_I, conf_df_pd.loc['Russia']+deaths_df_pd.loc['Russia'], mode='full'))\n",
        "])\n",
        "\n",
        "fig.update_layout(\n",
        "    xaxis_title = 'Day',\n",
        "    yaxis_title = 'Count',\n",
        "    title={\n",
        "        'text':r'$\\text{Russia: Actual } R_{pd} \\text{ vs. } h_I[j]\\circledast I_{pd}[j]$',\n",
        "        'x':0.5,\n",
        "        'xanchor':'center'\n",
        "    }\n",
        ")\n",
        "\n",
        "fig.show()"
      ],
      "execution_count": 0,
      "outputs": [
        {
          "output_type": "display_data",
          "data": {
            "text/html": [
              "<html>\n",
              "<head><meta charset=\"utf-8\" /></head>\n",
              "<body>\n",
              "    <div>\n",
              "            <script src=\"https://cdnjs.cloudflare.com/ajax/libs/mathjax/2.7.5/MathJax.js?config=TeX-AMS-MML_SVG\"></script><script type=\"text/javascript\">if (window.MathJax) {MathJax.Hub.Config({SVG: {font: \"STIX-Web\"}});}</script>\n",
              "                <script type=\"text/javascript\">window.PlotlyConfig = {MathJaxConfig: 'local'};</script>\n",
              "        <script src=\"https://cdn.plot.ly/plotly-latest.min.js\"></script>    \n",
              "            <div id=\"36e8cec9-467e-41f6-8917-7e23ab66ee74\" class=\"plotly-graph-div\" style=\"height:525px; width:100%;\"></div>\n",
              "            <script type=\"text/javascript\">\n",
              "                \n",
              "                    window.PLOTLYENV=window.PLOTLYENV || {};\n",
              "                    \n",
              "                if (document.getElementById(\"36e8cec9-467e-41f6-8917-7e23ab66ee74\")) {\n",
              "                    Plotly.newPlot(\n",
              "                        '36e8cec9-467e-41f6-8917-7e23ab66ee74',\n",
              "                        [{\"name\": \"Ipd\", \"type\": \"bar\", \"x\": [\"2020-01-22\", \"2020-01-23\", \"2020-01-24\", \"2020-01-25\", \"2020-01-26\", \"2020-01-27\", \"2020-01-28\", \"2020-01-29\", \"2020-01-30\", \"2020-01-31\", \"2020-02-01\", \"2020-02-02\", \"2020-02-03\", \"2020-02-04\", \"2020-02-05\", \"2020-02-06\", \"2020-02-07\", \"2020-02-08\", \"2020-02-09\", \"2020-02-10\", \"2020-02-11\", \"2020-02-12\", \"2020-02-13\", \"2020-02-14\", \"2020-02-15\", \"2020-02-16\", \"2020-02-17\", \"2020-02-18\", \"2020-02-19\", \"2020-02-20\", \"2020-02-21\", \"2020-02-22\", \"2020-02-23\", \"2020-02-24\", \"2020-02-25\", \"2020-02-26\", \"2020-02-27\", \"2020-02-28\", \"2020-02-29\", \"2020-03-01\", \"2020-03-02\", \"2020-03-03\", \"2020-03-04\", \"2020-03-05\", \"2020-03-06\", \"2020-03-07\", \"2020-03-08\", \"2020-03-09\", \"2020-03-10\", \"2020-03-11\", \"2020-03-12\", \"2020-03-13\", \"2020-03-14\", \"2020-03-15\", \"2020-03-16\", \"2020-03-17\", \"2020-03-18\", \"2020-03-19\", \"2020-03-20\", \"2020-03-21\", \"2020-03-22\", \"2020-03-23\", \"2020-03-24\", \"2020-03-25\", \"2020-03-26\", \"2020-03-27\", \"2020-03-28\", \"2020-03-29\", \"2020-03-30\", \"2020-03-31\", \"2020-04-01\", \"2020-04-02\", \"2020-04-03\", \"2020-04-04\", \"2020-04-05\", \"2020-04-06\", \"2020-04-07\", \"2020-04-08\", \"2020-04-09\", \"2020-04-10\", \"2020-04-11\", \"2020-04-12\", \"2020-04-13\", \"2020-04-14\", \"2020-04-15\", \"2020-04-16\", \"2020-04-17\", \"2020-04-18\", \"2020-04-19\", \"2020-04-20\", \"2020-04-21\", \"2020-04-22\", \"2020-04-23\", \"2020-04-24\", \"2020-04-25\", \"2020-04-26\", \"2020-04-27\", \"2020-04-28\", \"2020-04-29\", \"2020-04-30\", \"2020-05-01\", \"2020-05-02\", \"2020-05-03\", \"2020-05-04\", \"2020-05-05\", \"2020-05-06\", \"2020-05-07\", \"2020-05-08\", \"2020-05-09\", \"2020-05-10\", \"2020-05-11\", \"2020-05-12\", \"2020-05-13\", \"2020-05-14\", \"2020-05-15\", \"2020-05-16\", \"2020-05-17\", \"2020-05-18\", \"2020-05-19\", \"2020-05-20\", \"2020-05-21\", \"2020-05-22\", \"2020-05-23\", \"2020-05-24\", \"2020-05-25\", \"2020-05-26\", \"2020-05-27\", \"2020-05-28\", \"2020-05-29\", \"2020-05-30\", \"2020-05-31\", \"2020-06-01\", \"2020-06-02\", \"2020-06-03\"], \"y\": [0.0, 0.0, 0.0, 0.0, 0.0, 0.0, 0.0, 0.0, 0.0, 2.0, 0.0, 0.0, 0.0, 0.0, 0.0, 0.0, 0.0, 0.0, 0.0, 0.0, 0.0, 0.0, 0.0, 0.0, 0.0, 0.0, 0.0, 0.0, 0.0, 0.0, 0.0, 0.0, 0.0, 0.0, 0.0, 0.0, 0.0, 0.0, 0.0, 0.0, 1.0, 0.0, 0.0, 1.0, 9.0, 0.0, 4.0, 0.0, 3.0, 0.0, 8.0, 17.0, 14.0, 4.0, 27.0, 24.0, 33.0, 52.0, 54.0, 53.0, 61.0, 71.0, 57.0, 163.0, 182.0, 196.0, 228.0, 270.0, 302.0, 501.0, 440.0, 771.0, 601.0, 582.0, 658.0, 954.0, 1154.0, 1175.0, 1459.0, 1786.0, 1667.0, 2186.0, 2558.0, 2774.0, 3388.0, 3448.0, 4070.0, 4785.0, 6060.0, 4268.0, 5642.0, 5236.0, 4774.0, 5849.0, 5966.0, 6361.0, 6198.0, 6411.0, 5841.0, 7099.0, 7933.0, 9623.0, 10633.0, 10581.0, 10102.0, 10559.0, 11231.0, 10699.0, 10817.0, 11012.0, 11656.0, 10899.0, 10028.0, 9974.0, 10598.0, 9200.0, 9709.0, 8926.0, 9263.0, 8764.0, 8849.0, 8894.0, 9434.0, 8599.0, 8946.0, 8915.0, 8338.0, 8371.0, 8572.0, 8952.0, 9268.0, 8485.0, 8858.0, 8529.0]}, {\"name\": \"Ipd=lowpass(Ipd)\", \"type\": \"scatter\", \"x\": [\"2020-01-22\", \"2020-01-23\", \"2020-01-24\", \"2020-01-25\", \"2020-01-26\", \"2020-01-27\", \"2020-01-28\", \"2020-01-29\", \"2020-01-30\", \"2020-01-31\", \"2020-02-01\", \"2020-02-02\", \"2020-02-03\", \"2020-02-04\", \"2020-02-05\", \"2020-02-06\", \"2020-02-07\", \"2020-02-08\", \"2020-02-09\", \"2020-02-10\", \"2020-02-11\", \"2020-02-12\", \"2020-02-13\", \"2020-02-14\", \"2020-02-15\", \"2020-02-16\", \"2020-02-17\", \"2020-02-18\", \"2020-02-19\", \"2020-02-20\", \"2020-02-21\", \"2020-02-22\", \"2020-02-23\", \"2020-02-24\", \"2020-02-25\", \"2020-02-26\", \"2020-02-27\", \"2020-02-28\", \"2020-02-29\", \"2020-03-01\", \"2020-03-02\", \"2020-03-03\", \"2020-03-04\", \"2020-03-05\", \"2020-03-06\", \"2020-03-07\", \"2020-03-08\", \"2020-03-09\", \"2020-03-10\", \"2020-03-11\", \"2020-03-12\", \"2020-03-13\", \"2020-03-14\", \"2020-03-15\", \"2020-03-16\", \"2020-03-17\", \"2020-03-18\", \"2020-03-19\", \"2020-03-20\", \"2020-03-21\", \"2020-03-22\", \"2020-03-23\", \"2020-03-24\", \"2020-03-25\", \"2020-03-26\", \"2020-03-27\", \"2020-03-28\", \"2020-03-29\", \"2020-03-30\", \"2020-03-31\", \"2020-04-01\", \"2020-04-02\", \"2020-04-03\", \"2020-04-04\", \"2020-04-05\", \"2020-04-06\", \"2020-04-07\", \"2020-04-08\", \"2020-04-09\", \"2020-04-10\", \"2020-04-11\", \"2020-04-12\", \"2020-04-13\", \"2020-04-14\", \"2020-04-15\", \"2020-04-16\", \"2020-04-17\", \"2020-04-18\", \"2020-04-19\", \"2020-04-20\", \"2020-04-21\", \"2020-04-22\", \"2020-04-23\", \"2020-04-24\", \"2020-04-25\", \"2020-04-26\", \"2020-04-27\", \"2020-04-28\", \"2020-04-29\", \"2020-04-30\", \"2020-05-01\", \"2020-05-02\", \"2020-05-03\", \"2020-05-04\", \"2020-05-05\", \"2020-05-06\", \"2020-05-07\", \"2020-05-08\", \"2020-05-09\", \"2020-05-10\", \"2020-05-11\", \"2020-05-12\", \"2020-05-13\", \"2020-05-14\", \"2020-05-15\", \"2020-05-16\", \"2020-05-17\", \"2020-05-18\", \"2020-05-19\", \"2020-05-20\", \"2020-05-21\", \"2020-05-22\", \"2020-05-23\", \"2020-05-24\", \"2020-05-25\", \"2020-05-26\", \"2020-05-27\", \"2020-05-28\", \"2020-05-29\", \"2020-05-30\", \"2020-05-31\", \"2020-06-01\", \"2020-06-02\", \"2020-06-03\"], \"y\": [0.10988554728150217, 0.13550979411871006, 0.14601369830057434, 0.14028665712780836, 0.11880975010104317, 0.08382622492782646, 0.03937328602021999, -0.008857449777715283, -0.053855297235446076, -0.08783202487997172, -0.10295938062881953, -0.09226596262379788, -0.05062679107691301, 0.024249971199578425, 0.13095686616299987, 0.263769789724083, 0.4124036000012576, 0.5622451617060504, 0.6951334458693986, 0.7907078846019039, 0.8282870570952396, 0.7891741444596093, 0.6592189279335657, 0.43140501285950394, 0.1081827585902612, -0.2967594383659407, -0.7575934064817219, -1.2365946431106587, -1.685738261388599, -2.04975025617555, -2.270579865883706, -2.293097108225614, -2.0716453651533158, -1.5769082353780353, -0.8024018120726063, 0.2302012849499259, 1.467751061655654, 2.8250973922959814, 4.188026262531535, 5.420082891126058, 6.373382277749211, 6.903102272057729, 6.884898911839782, 6.234018205013096, 4.924452071709779, 3.0061545536998495, 0.6181538037088745, -2.004586255809788, -4.532451393759849, -6.552013047841542, -7.58708528832979, -7.129722617057622, -4.679752932820084, 0.20978941132659354, 7.885192869649921, 18.547508838222253, 32.21663925212253, 48.71014553361564, 67.64260740850487, 88.4504291220179, 110.44530840197967, 132.8971389118851, 155.14398187740107, 176.72310738597602, 197.51330368981755, 217.87514874696112, 238.77326607296214, 261.8632508980732, 289.52634699312466, 324.837340360923, 371.45564533671387, 433.4361614927782, 514.9648857097857, 620.0338011600658, 752.0791335828403, 913.615269255278, 1105.902107300993, 1328.6854024669144, 1580.0472973301723, 1856.3976847496078, 2152.626439888558, 2462.4223022915075, 2778.7470405314843, 3094.4348054156776, 3402.8681858598557, 3698.666810805427, 3978.3139289172764, 4240.643564437393, 4487.117378867867, 4721.837131576561, 4951.2649544932765, 5183.656754194185, 5428.249244073274, 5694.273034166894, 5989.888350820232, 6321.1535169435765, 6691.138175974667, 7099.283330563538, 7541.088955190446, 8008.178040960188, 8488.745549437988, 8968.356285157448, 9431.013867788542, 9860.391334389278, 10241.098175985264, 10559.860536786358, 10806.508236309026, 10974.688961489617, 11062.261033362962, 11071.347569583846, 11008.064135858018, 10881.957661250552, 10705.215608928233, 10491.720279242543, 10256.03247567361, 10012.390450629366, 9773.803834679278, 9551.30911031221, 9353.434831729937, 9185.903176984606, 9051.571675361149, 8950.597378924955, 8880.787598822075, 8838.088470515899, 8817.156146128433, 8811.955331456025, 8816.335033175803, 8824.53987852467, 8831.625316400283, 8833.755100639226, 8828.369295695049, 8814.220980707736, 8791.290251941624, 8760.594661865282]}, {\"name\": \"Rpd\", \"type\": \"bar\", \"x\": [\"2020-01-22\", \"2020-01-23\", \"2020-01-24\", \"2020-01-25\", \"2020-01-26\", \"2020-01-27\", \"2020-01-28\", \"2020-01-29\", \"2020-01-30\", \"2020-01-31\", \"2020-02-01\", \"2020-02-02\", \"2020-02-03\", \"2020-02-04\", \"2020-02-05\", \"2020-02-06\", \"2020-02-07\", \"2020-02-08\", \"2020-02-09\", \"2020-02-10\", \"2020-02-11\", \"2020-02-12\", \"2020-02-13\", \"2020-02-14\", \"2020-02-15\", \"2020-02-16\", \"2020-02-17\", \"2020-02-18\", \"2020-02-19\", \"2020-02-20\", \"2020-02-21\", \"2020-02-22\", \"2020-02-23\", \"2020-02-24\", \"2020-02-25\", \"2020-02-26\", \"2020-02-27\", \"2020-02-28\", \"2020-02-29\", \"2020-03-01\", \"2020-03-02\", \"2020-03-03\", \"2020-03-04\", \"2020-03-05\", \"2020-03-06\", \"2020-03-07\", \"2020-03-08\", \"2020-03-09\", \"2020-03-10\", \"2020-03-11\", \"2020-03-12\", \"2020-03-13\", \"2020-03-14\", \"2020-03-15\", \"2020-03-16\", \"2020-03-17\", \"2020-03-18\", \"2020-03-19\", \"2020-03-20\", \"2020-03-21\", \"2020-03-22\", \"2020-03-23\", \"2020-03-24\", \"2020-03-25\", \"2020-03-26\", \"2020-03-27\", \"2020-03-28\", \"2020-03-29\", \"2020-03-30\", \"2020-03-31\", \"2020-04-01\", \"2020-04-02\", \"2020-04-03\", \"2020-04-04\", \"2020-04-05\", \"2020-04-06\", \"2020-04-07\", \"2020-04-08\", \"2020-04-09\", \"2020-04-10\", \"2020-04-11\", \"2020-04-12\", \"2020-04-13\", \"2020-04-14\", \"2020-04-15\", \"2020-04-16\", \"2020-04-17\", \"2020-04-18\", \"2020-04-19\", \"2020-04-20\", \"2020-04-21\", \"2020-04-22\", \"2020-04-23\", \"2020-04-24\", \"2020-04-25\", \"2020-04-26\", \"2020-04-27\", \"2020-04-28\", \"2020-04-29\", \"2020-04-30\", \"2020-05-01\", \"2020-05-02\", \"2020-05-03\", \"2020-05-04\", \"2020-05-05\", \"2020-05-06\", \"2020-05-07\", \"2020-05-08\", \"2020-05-09\", \"2020-05-10\", \"2020-05-11\", \"2020-05-12\", \"2020-05-13\", \"2020-05-14\", \"2020-05-15\", \"2020-05-16\", \"2020-05-17\", \"2020-05-18\", \"2020-05-19\", \"2020-05-20\", \"2020-05-21\", \"2020-05-22\", \"2020-05-23\", \"2020-05-24\", \"2020-05-25\", \"2020-05-26\", \"2020-05-27\", \"2020-05-28\", \"2020-05-29\", \"2020-05-30\", \"2020-05-31\", \"2020-06-01\", \"2020-06-02\", \"2020-06-03\"], \"y\": [0.0, 0.0, 0.0, 0.0, 0.0, 0.0, 0.0, 0.0, 0.0, 0.0, 0.0, 0.0, 0.0, 0.0, 0.0, 0.0, 0.0, 0.0, 0.0, 0.0, 0.0, 2.0, 0.0, 0.0, 0.0, 0.0, 0.0, 0.0, 0.0, 0.0, 0.0, 0.0, 0.0, 0.0, 0.0, 0.0, 0.0, 0.0, 0.0, 0.0, 0.0, 0.0, 0.0, 0.0, 0.0, 0.0, 1.0, 0.0, 0.0, 0.0, 0.0, 0.0, 5.0, 0.0, 0.0, 0.0, 0.0, 1.0, 0.0, 3.0, 4.0, 0.0, 6.0, 7.0, 9.0, 7.0, 4.0, 15.0, 2.0, 55.0, 69.0, 45.0, 46.0, 52.0, 22.0, 51.0, 88.0, 86.0, 118.0, 97.0, 250.0, 246.0, 179.0, 224.0, 292.0, 318.0, 286.0, 467.0, 234.0, 155.0, 427.0, 547.0, 471.0, 677.0, 682.0, 517.0, 579.0, 1110.0, 1830.0, 1333.0, 1601.0, 1793.0, 1626.0, 1456.0, 1770.0, 1462.0, 2476.0, 2805.0, 5308.0, 2390.0, 5495.0, 3711.0, 4491.0, 5527.0, 4696.0, 4940.0, 4207.0, 2836.0, 5921.0, 9262.0, 7289.0, 7144.0, 8111.0, 5363.0, 5499.0, 12331.0, 11079.0, 8785.0, 8264.0, 8212.0, 4414.0, 3631.0, 11088.0, 8957.0]}, {\"name\": \"Rpd=lowpass(Rpd)\", \"type\": \"scatter\", \"x\": [\"2020-01-22\", \"2020-01-23\", \"2020-01-24\", \"2020-01-25\", \"2020-01-26\", \"2020-01-27\", \"2020-01-28\", \"2020-01-29\", \"2020-01-30\", \"2020-01-31\", \"2020-02-01\", \"2020-02-02\", \"2020-02-03\", \"2020-02-04\", \"2020-02-05\", \"2020-02-06\", \"2020-02-07\", \"2020-02-08\", \"2020-02-09\", \"2020-02-10\", \"2020-02-11\", \"2020-02-12\", \"2020-02-13\", \"2020-02-14\", \"2020-02-15\", \"2020-02-16\", \"2020-02-17\", \"2020-02-18\", \"2020-02-19\", \"2020-02-20\", \"2020-02-21\", \"2020-02-22\", \"2020-02-23\", \"2020-02-24\", \"2020-02-25\", \"2020-02-26\", \"2020-02-27\", \"2020-02-28\", \"2020-02-29\", \"2020-03-01\", \"2020-03-02\", \"2020-03-03\", \"2020-03-04\", \"2020-03-05\", \"2020-03-06\", \"2020-03-07\", \"2020-03-08\", \"2020-03-09\", \"2020-03-10\", \"2020-03-11\", \"2020-03-12\", \"2020-03-13\", \"2020-03-14\", \"2020-03-15\", \"2020-03-16\", \"2020-03-17\", \"2020-03-18\", \"2020-03-19\", \"2020-03-20\", \"2020-03-21\", \"2020-03-22\", \"2020-03-23\", \"2020-03-24\", \"2020-03-25\", \"2020-03-26\", \"2020-03-27\", \"2020-03-28\", \"2020-03-29\", \"2020-03-30\", \"2020-03-31\", \"2020-04-01\", \"2020-04-02\", \"2020-04-03\", \"2020-04-04\", \"2020-04-05\", \"2020-04-06\", \"2020-04-07\", \"2020-04-08\", \"2020-04-09\", \"2020-04-10\", \"2020-04-11\", \"2020-04-12\", \"2020-04-13\", \"2020-04-14\", \"2020-04-15\", \"2020-04-16\", \"2020-04-17\", \"2020-04-18\", \"2020-04-19\", \"2020-04-20\", \"2020-04-21\", \"2020-04-22\", \"2020-04-23\", \"2020-04-24\", \"2020-04-25\", \"2020-04-26\", \"2020-04-27\", \"2020-04-28\", \"2020-04-29\", \"2020-04-30\", \"2020-05-01\", \"2020-05-02\", \"2020-05-03\", \"2020-05-04\", \"2020-05-05\", \"2020-05-06\", \"2020-05-07\", \"2020-05-08\", \"2020-05-09\", \"2020-05-10\", \"2020-05-11\", \"2020-05-12\", \"2020-05-13\", \"2020-05-14\", \"2020-05-15\", \"2020-05-16\", \"2020-05-17\", \"2020-05-18\", \"2020-05-19\", \"2020-05-20\", \"2020-05-21\", \"2020-05-22\", \"2020-05-23\", \"2020-05-24\", \"2020-05-25\", \"2020-05-26\", \"2020-05-27\", \"2020-05-28\", \"2020-05-29\", \"2020-05-30\", \"2020-05-31\", \"2020-06-01\", \"2020-06-02\", \"2020-06-03\"], \"y\": [0.004133305197389855, -0.0025919048240791998, -0.010505711971459789, -0.01900127796782361, -0.027272356485192356, -0.034353716408101476, -0.039185690864745895, -0.04070064854491212, -0.03792636597283129, -0.030098452448027828, -0.016771464142774174, 0.0020835025922660982, 0.026007765508484187, 0.05402304882472925, 0.08464887588275694, 0.11597590065190588, 0.14579628007164203, 0.17178545320236738, 0.19172223779229358, 0.20372684834534127, 0.20649044200930733, 0.19946652479935664, 0.18299547482283748, 0.15833952020579853, 0.12761632281008226, 0.09363267383920855, 0.059632611952041545, 0.028984118963148706, 0.004834586240457259, -0.010232158153402908, -0.014504561367396255, -0.007387245160446341, 0.010446625243272507, 0.03701586171819698, 0.0691191635167796, 0.10255654895322722, 0.13248061455012589, 0.15386285484933615, 0.16204839676948984, 0.1533605327499413, 0.12570537451833647, 0.07911803564549173, 0.016186389681670778, -0.057711914555334615, -0.13441753583548074, -0.2032876313862663, -0.2518078335222473, -0.2665124278552993, -0.23417101168618956, -0.1431593470491494, 0.01510897847332029, 0.24485047195798848, 0.5448682686470825, 0.9080032520874154, 1.3212876622877034, 1.7669909774546622, 2.224702602044987, 2.674517286933635, 3.101276562022037, 3.499680177979964, 3.879929999201386, 4.273423204927703, 4.737891039527074, 5.361301213229687, 6.263821380755526, 7.597189755165594, 9.540963770691286, 12.295319061874547, 16.070344614820847, 21.07212360308372, 27.486307680380637, 35.46038814978551, 45.086413959384465, 56.386415474851894, 69.30311067522791, 83.69842422163252, 99.36182273654914, 116.02945771603623, 133.41373256890355, 151.24138734100416, 169.29677871442306, 187.46597536085082, 205.77680429490493, 224.43020010108438, 243.8191117321822, 264.532660059044, 287.34500278372303, 313.1902446703864, 343.12650908127637, 378.2936744505838, 419.8699384386834, 469.03204729926597, 526.9227347189968, 594.62700549451, 673.156881903047, 763.4424821656447, 866.3259524898251, 982.5538598482857, 1112.763393478001, 1257.4586860688755, 1416.9763857476119, 1591.4443031365652, 1780.7423994759956, 1984.479515204875, 2201.999880838273, 2432.4291569951506, 2674.7604533661083, 2927.9681907555328, 3191.125242803576, 3463.490900603502, 3744.5375562298955, 4033.893929046291, 4331.200399591716, 4635.893518349191, 4946.95720388484, 5262.693067868318, 5580.567969770737, 5897.190520567936, 6208.448775626475, 6509.811022254731, 6796.756954354931, 7065.27708384878, 7312.36198460802, 7536.402381721479, 7737.432955136139, 7917.171932881931, 8078.8325038470275, 8226.71178748012, 8365.599760610541, 8500.090213039002, 8633.907516692869, 8769.37314487403, 8907.115689631262, 9046.079093350138]}, {\"name\": \"Rpd=conv(Ipd)\", \"type\": \"scatter\", \"x\": [\"2020-01-22\", \"2020-01-23\", \"2020-01-24\", \"2020-01-25\", \"2020-01-26\", \"2020-01-27\", \"2020-01-28\", \"2020-01-29\", \"2020-01-30\", \"2020-01-31\", \"2020-02-01\", \"2020-02-02\", \"2020-02-03\", \"2020-02-04\", \"2020-02-05\", \"2020-02-06\", \"2020-02-07\", \"2020-02-08\", \"2020-02-09\", \"2020-02-10\", \"2020-02-11\", \"2020-02-12\", \"2020-02-13\", \"2020-02-14\", \"2020-02-15\", \"2020-02-16\", \"2020-02-17\", \"2020-02-18\", \"2020-02-19\", \"2020-02-20\", \"2020-02-21\", \"2020-02-22\", \"2020-02-23\", \"2020-02-24\", \"2020-02-25\", \"2020-02-26\", \"2020-02-27\", \"2020-02-28\", \"2020-02-29\", \"2020-03-01\", \"2020-03-02\", \"2020-03-03\", \"2020-03-04\", \"2020-03-05\", \"2020-03-06\", \"2020-03-07\", \"2020-03-08\", \"2020-03-09\", \"2020-03-10\", \"2020-03-11\", \"2020-03-12\", \"2020-03-13\", \"2020-03-14\", \"2020-03-15\", \"2020-03-16\", \"2020-03-17\", \"2020-03-18\", \"2020-03-19\", \"2020-03-20\", \"2020-03-21\", \"2020-03-22\", \"2020-03-23\", \"2020-03-24\", \"2020-03-25\", \"2020-03-26\", \"2020-03-27\", \"2020-03-28\", \"2020-03-29\", \"2020-03-30\", \"2020-03-31\", \"2020-04-01\", \"2020-04-02\", \"2020-04-03\", \"2020-04-04\", \"2020-04-05\", \"2020-04-06\", \"2020-04-07\", \"2020-04-08\", \"2020-04-09\", \"2020-04-10\", \"2020-04-11\", \"2020-04-12\", \"2020-04-13\", \"2020-04-14\", \"2020-04-15\", \"2020-04-16\", \"2020-04-17\", \"2020-04-18\", \"2020-04-19\", \"2020-04-20\", \"2020-04-21\", \"2020-04-22\", \"2020-04-23\", \"2020-04-24\", \"2020-04-25\", \"2020-04-26\", \"2020-04-27\", \"2020-04-28\", \"2020-04-29\", \"2020-04-30\", \"2020-05-01\", \"2020-05-02\", \"2020-05-03\", \"2020-05-04\", \"2020-05-05\", \"2020-05-06\", \"2020-05-07\", \"2020-05-08\", \"2020-05-09\", \"2020-05-10\", \"2020-05-11\", \"2020-05-12\", \"2020-05-13\", \"2020-05-14\", \"2020-05-15\", \"2020-05-16\", \"2020-05-17\", \"2020-05-18\", \"2020-05-19\", \"2020-05-20\", \"2020-05-21\", \"2020-05-22\", \"2020-05-23\", \"2020-05-24\", \"2020-05-25\", \"2020-05-26\", \"2020-05-27\", \"2020-05-28\", \"2020-05-29\", \"2020-05-30\", \"2020-05-31\", \"2020-06-01\", \"2020-06-02\", \"2020-06-03\"], \"y\": [2.4253192047278086e-13, 7.275957614183426e-13, -2.4253192047278086e-13, 1.2126596023639042e-12, 1.4551915228366853e-12, 9.701276818911234e-13, 4.850638409455617e-13, 1.4551915228366853e-12, -2.4253192047278086e-13, 4.850638409455617e-13, 9.701276818911234e-13, 1.4551915228366853e-12, 0.0020089263986543906, 0.007864706942928023, 0.015120219530217582, 0.02316084484749202, 0.0316450480484491, 0.04030263335747198, 0.048894355531956535, 0.057200606313199384, 0.06501951519106418, 0.07216877179889707, 0.07848890631272903, 0.08384689553058707, 0.08813942560736905, 0.09129537840926787, 0.09327725975417707, 0.09408140621065589, 0.0937369103822372, 0.09230329832619949, 0.08986707585621237, 0.08653733063765685, 0.08244063077339281, 0.07771549549797782, 0.07250672819912628, 0.06695989631771226, 0.06121621819596233, 0.05540807669106774, 0.04965532719967693, 0.044062508478600645, 0.03871700310737651, 0.03368813551569474, 0.02902714307080411, 0.02577237644509296, 0.024860702648341733, 0.025072317841113544, 0.02709613712443873, 0.04070259864626374, 0.07277842624474336, 0.11587205596176015, 0.1705794351134197, 0.23321187445556765, 0.3038356017368642, 0.38483295207479384, 0.4979821826610229, 0.6611090608576584, 0.8660321886619082, 1.1182398489201053, 1.4521054620623393, 1.8817978082036007, 2.4468679932585475, 3.192425072712164, 4.133834739879361, 5.282554315295904, 6.661862870099988, 8.275135966043429, 10.20200368961996, 12.64699769372346, 15.711172216392272, 19.483686716806673, 24.08395731046512, 29.641024252573335, 36.432937647455034, 44.79378148105667, 55.0452031096201, 67.62520858113942, 82.35736282058085, 99.1945872724996, 118.43248450841153, 140.72624101586612, 166.51887051901963, 196.17144157179936, 230.48040581195417, 269.9592083194399, 314.96097655882863, 366.6276654479274, 425.8964302093102, 493.8180402467577, 571.5230886666436, 659.8071605165222, 760.2896342478809, 875.4754522122604, 1005.9488759590527, 1149.9458184602058, 1308.0132382438785, 1478.2055266022685, 1659.1992745717905, 1851.1723564124734, 2053.4397434083867, 2264.960190705659, 2484.0443567074662, 2708.6487373182263, 2937.1264283573664, 3170.372632205072, 3410.313358320161, 3660.1400676616217, 3921.618060674008, 4194.150458924612, 4476.571284096411, 4768.981815308861, 5070.877040634283, 5380.274472507279, 5695.708717078767, 6016.267941174755, 6340.519093298029, 6664.511031261806, 6984.05638026378, 7296.736945082432, 7599.739672852802, 7888.944516246049, 8161.6703204377245, 8414.90725514288, 8646.793800578924, 8855.290626685395, 9039.50764517774, 9199.649146420335, 9335.993970063355, 9448.15124295227, 9537.299277291564, 9604.24819549974, 9649.538995906292, 9674.964844676513, 9683.182444544416, 9677.299275033662, 9659.534381311745, 9631.367714269285, 9595.053747432303, 9543.350565197097, 9461.215051315015, 9344.152172853655, 9190.177392543948, 8998.60619893303, 8769.73626960547, 8504.714873024397, 8205.462458839236, 7874.609601574302, 7515.429491154879, 7131.7581911534335, 6727.899993722711, 6308.518312066648, 5878.5146527841625, 5442.899658012687, 5006.6611329490115, 4574.63443156145, 4151.380596173497, 3741.0772746018442, 3347.4267262240014, 2973.584246941925, 2622.1091773767785, 2294.9394016752726, 1993.3889899710969, 1718.1674735926135, 1469.4182435663688, 1246.7727869186856, 1049.4169575108715, 876.1652318906563, 725.5389174187628, 595.8445322350541, 485.24902210358266, 391.84906567353073, 313.7323906942479, 249.02972351929057, 195.95667241367434, 152.8454600476524, 118.16694132238918, 90.5437503091826, 68.75570704742664, 51.73878387596633, 38.57899271218727, 28.502525924353783, 20.863384228404417, 15.129576534455797, 10.868799180925514, 7.734313529744395, 5.451556205224673, 3.805846388629288, 2.6314068522207283, 1.801793739828281, 1.2217355081646626, 0.8203127459108752, 0.5453650556630842, 0.3589851812105432, 0.23395008804521542, 0.15093981296934847, 0.0964039959074095, 0.060950029790425714, 0.038143257262102756, 0.02362676084934113, 0.014484749846936514, 0.008788531817845068, 0.005277139044301294, 0.003135712432655661, 0.0018437763616172256, 0.0010727379681611637, 0.0006175494668847628, 0.0003517402345702673, 0.00019820941148888474, 0.00011049899961411332, 6.0940273033338596e-05, 3.3246256377121125e-05, 1.794130087849529e-05, 9.576759111951105e-06, 5.0561234578102205e-06, 2.640171078382991e-06, 1.3634624338010326e-06, 6.963580138593291e-07, 3.5170657307996105e-07, 1.7565871530678122e-07, 8.675318288927277e-08, 4.236486953838418e-08, 2.0453929513071973e-08, 9.764698916114866e-09, 4.608591552823782e-09, 2.149924209030966e-09, 9.909854270517825e-10, 4.5183696784079076e-10, 2.026354195550084e-10, 9.058567229658365e-11, 3.92901711165905e-11, 1.6613436552385488e-11, 6.912159733474254e-12, 3.031649005909761e-12, -7.275957614183426e-13]}],\n",
              "                        {\"template\": {\"data\": {\"bar\": [{\"error_x\": {\"color\": \"#2a3f5f\"}, \"error_y\": {\"color\": \"#2a3f5f\"}, \"marker\": {\"line\": {\"color\": \"#E5ECF6\", \"width\": 0.5}}, \"type\": \"bar\"}], \"barpolar\": [{\"marker\": {\"line\": {\"color\": \"#E5ECF6\", \"width\": 0.5}}, \"type\": \"barpolar\"}], \"carpet\": [{\"aaxis\": {\"endlinecolor\": \"#2a3f5f\", \"gridcolor\": \"white\", \"linecolor\": \"white\", \"minorgridcolor\": \"white\", \"startlinecolor\": \"#2a3f5f\"}, \"baxis\": {\"endlinecolor\": \"#2a3f5f\", \"gridcolor\": \"white\", \"linecolor\": \"white\", \"minorgridcolor\": \"white\", \"startlinecolor\": \"#2a3f5f\"}, \"type\": \"carpet\"}], \"choropleth\": [{\"colorbar\": {\"outlinewidth\": 0, \"ticks\": \"\"}, \"type\": \"choropleth\"}], \"contour\": [{\"colorbar\": {\"outlinewidth\": 0, \"ticks\": \"\"}, \"colorscale\": [[0.0, \"#0d0887\"], [0.1111111111111111, \"#46039f\"], [0.2222222222222222, \"#7201a8\"], [0.3333333333333333, \"#9c179e\"], [0.4444444444444444, \"#bd3786\"], [0.5555555555555556, \"#d8576b\"], [0.6666666666666666, \"#ed7953\"], [0.7777777777777778, \"#fb9f3a\"], [0.8888888888888888, \"#fdca26\"], [1.0, \"#f0f921\"]], \"type\": \"contour\"}], \"contourcarpet\": [{\"colorbar\": {\"outlinewidth\": 0, \"ticks\": \"\"}, \"type\": \"contourcarpet\"}], \"heatmap\": [{\"colorbar\": {\"outlinewidth\": 0, \"ticks\": \"\"}, \"colorscale\": [[0.0, \"#0d0887\"], [0.1111111111111111, \"#46039f\"], [0.2222222222222222, \"#7201a8\"], [0.3333333333333333, \"#9c179e\"], [0.4444444444444444, \"#bd3786\"], [0.5555555555555556, \"#d8576b\"], [0.6666666666666666, \"#ed7953\"], [0.7777777777777778, \"#fb9f3a\"], [0.8888888888888888, \"#fdca26\"], [1.0, \"#f0f921\"]], \"type\": \"heatmap\"}], \"heatmapgl\": [{\"colorbar\": {\"outlinewidth\": 0, \"ticks\": \"\"}, \"colorscale\": [[0.0, \"#0d0887\"], [0.1111111111111111, \"#46039f\"], [0.2222222222222222, \"#7201a8\"], [0.3333333333333333, \"#9c179e\"], [0.4444444444444444, \"#bd3786\"], [0.5555555555555556, \"#d8576b\"], [0.6666666666666666, \"#ed7953\"], [0.7777777777777778, \"#fb9f3a\"], [0.8888888888888888, \"#fdca26\"], [1.0, \"#f0f921\"]], \"type\": \"heatmapgl\"}], \"histogram\": [{\"marker\": {\"colorbar\": {\"outlinewidth\": 0, \"ticks\": \"\"}}, \"type\": \"histogram\"}], \"histogram2d\": [{\"colorbar\": {\"outlinewidth\": 0, \"ticks\": \"\"}, \"colorscale\": [[0.0, \"#0d0887\"], [0.1111111111111111, \"#46039f\"], [0.2222222222222222, \"#7201a8\"], [0.3333333333333333, \"#9c179e\"], [0.4444444444444444, \"#bd3786\"], [0.5555555555555556, \"#d8576b\"], [0.6666666666666666, \"#ed7953\"], [0.7777777777777778, \"#fb9f3a\"], [0.8888888888888888, \"#fdca26\"], [1.0, \"#f0f921\"]], \"type\": \"histogram2d\"}], \"histogram2dcontour\": [{\"colorbar\": {\"outlinewidth\": 0, \"ticks\": \"\"}, \"colorscale\": [[0.0, \"#0d0887\"], [0.1111111111111111, \"#46039f\"], [0.2222222222222222, \"#7201a8\"], [0.3333333333333333, \"#9c179e\"], [0.4444444444444444, \"#bd3786\"], [0.5555555555555556, \"#d8576b\"], [0.6666666666666666, \"#ed7953\"], [0.7777777777777778, \"#fb9f3a\"], [0.8888888888888888, \"#fdca26\"], [1.0, \"#f0f921\"]], \"type\": \"histogram2dcontour\"}], \"mesh3d\": [{\"colorbar\": {\"outlinewidth\": 0, \"ticks\": \"\"}, \"type\": \"mesh3d\"}], \"parcoords\": [{\"line\": {\"colorbar\": {\"outlinewidth\": 0, \"ticks\": \"\"}}, \"type\": \"parcoords\"}], \"pie\": [{\"automargin\": true, \"type\": \"pie\"}], \"scatter\": [{\"marker\": {\"colorbar\": {\"outlinewidth\": 0, \"ticks\": \"\"}}, \"type\": \"scatter\"}], \"scatter3d\": [{\"line\": {\"colorbar\": {\"outlinewidth\": 0, \"ticks\": \"\"}}, \"marker\": {\"colorbar\": {\"outlinewidth\": 0, \"ticks\": \"\"}}, \"type\": \"scatter3d\"}], \"scattercarpet\": [{\"marker\": {\"colorbar\": {\"outlinewidth\": 0, \"ticks\": \"\"}}, \"type\": \"scattercarpet\"}], \"scattergeo\": [{\"marker\": {\"colorbar\": {\"outlinewidth\": 0, \"ticks\": \"\"}}, \"type\": \"scattergeo\"}], \"scattergl\": [{\"marker\": {\"colorbar\": {\"outlinewidth\": 0, \"ticks\": \"\"}}, \"type\": \"scattergl\"}], \"scattermapbox\": [{\"marker\": {\"colorbar\": {\"outlinewidth\": 0, \"ticks\": \"\"}}, \"type\": \"scattermapbox\"}], \"scatterpolar\": [{\"marker\": {\"colorbar\": {\"outlinewidth\": 0, \"ticks\": \"\"}}, \"type\": \"scatterpolar\"}], \"scatterpolargl\": [{\"marker\": {\"colorbar\": {\"outlinewidth\": 0, \"ticks\": \"\"}}, \"type\": \"scatterpolargl\"}], \"scatterternary\": [{\"marker\": {\"colorbar\": {\"outlinewidth\": 0, \"ticks\": \"\"}}, \"type\": \"scatterternary\"}], \"surface\": [{\"colorbar\": {\"outlinewidth\": 0, \"ticks\": \"\"}, \"colorscale\": [[0.0, \"#0d0887\"], [0.1111111111111111, \"#46039f\"], [0.2222222222222222, \"#7201a8\"], [0.3333333333333333, \"#9c179e\"], [0.4444444444444444, \"#bd3786\"], [0.5555555555555556, \"#d8576b\"], [0.6666666666666666, \"#ed7953\"], [0.7777777777777778, \"#fb9f3a\"], [0.8888888888888888, \"#fdca26\"], [1.0, \"#f0f921\"]], \"type\": \"surface\"}], \"table\": [{\"cells\": {\"fill\": {\"color\": \"#EBF0F8\"}, \"line\": {\"color\": \"white\"}}, \"header\": {\"fill\": {\"color\": \"#C8D4E3\"}, \"line\": {\"color\": \"white\"}}, \"type\": \"table\"}]}, \"layout\": {\"annotationdefaults\": {\"arrowcolor\": \"#2a3f5f\", \"arrowhead\": 0, \"arrowwidth\": 1}, \"coloraxis\": {\"colorbar\": {\"outlinewidth\": 0, \"ticks\": \"\"}}, \"colorscale\": {\"diverging\": [[0, \"#8e0152\"], [0.1, \"#c51b7d\"], [0.2, \"#de77ae\"], [0.3, \"#f1b6da\"], [0.4, \"#fde0ef\"], [0.5, \"#f7f7f7\"], [0.6, \"#e6f5d0\"], [0.7, \"#b8e186\"], [0.8, \"#7fbc41\"], [0.9, \"#4d9221\"], [1, \"#276419\"]], \"sequential\": [[0.0, \"#0d0887\"], [0.1111111111111111, \"#46039f\"], [0.2222222222222222, \"#7201a8\"], [0.3333333333333333, \"#9c179e\"], [0.4444444444444444, \"#bd3786\"], [0.5555555555555556, \"#d8576b\"], [0.6666666666666666, \"#ed7953\"], [0.7777777777777778, \"#fb9f3a\"], [0.8888888888888888, \"#fdca26\"], [1.0, \"#f0f921\"]], \"sequentialminus\": [[0.0, \"#0d0887\"], [0.1111111111111111, \"#46039f\"], [0.2222222222222222, \"#7201a8\"], [0.3333333333333333, \"#9c179e\"], [0.4444444444444444, \"#bd3786\"], [0.5555555555555556, \"#d8576b\"], [0.6666666666666666, \"#ed7953\"], [0.7777777777777778, \"#fb9f3a\"], [0.8888888888888888, \"#fdca26\"], [1.0, \"#f0f921\"]]}, \"colorway\": [\"#636efa\", \"#EF553B\", \"#00cc96\", \"#ab63fa\", \"#FFA15A\", \"#19d3f3\", \"#FF6692\", \"#B6E880\", \"#FF97FF\", \"#FECB52\"], \"font\": {\"color\": \"#2a3f5f\"}, \"geo\": {\"bgcolor\": \"white\", \"lakecolor\": \"white\", \"landcolor\": \"#E5ECF6\", \"showlakes\": true, \"showland\": true, \"subunitcolor\": \"white\"}, \"hoverlabel\": {\"align\": \"left\"}, \"hovermode\": \"closest\", \"mapbox\": {\"style\": \"light\"}, \"paper_bgcolor\": \"white\", \"plot_bgcolor\": \"#E5ECF6\", \"polar\": {\"angularaxis\": {\"gridcolor\": \"white\", \"linecolor\": \"white\", \"ticks\": \"\"}, \"bgcolor\": \"#E5ECF6\", \"radialaxis\": {\"gridcolor\": \"white\", \"linecolor\": \"white\", \"ticks\": \"\"}}, \"scene\": {\"xaxis\": {\"backgroundcolor\": \"#E5ECF6\", \"gridcolor\": \"white\", \"gridwidth\": 2, \"linecolor\": \"white\", \"showbackground\": true, \"ticks\": \"\", \"zerolinecolor\": \"white\"}, \"yaxis\": {\"backgroundcolor\": \"#E5ECF6\", \"gridcolor\": \"white\", \"gridwidth\": 2, \"linecolor\": \"white\", \"showbackground\": true, \"ticks\": \"\", \"zerolinecolor\": \"white\"}, \"zaxis\": {\"backgroundcolor\": \"#E5ECF6\", \"gridcolor\": \"white\", \"gridwidth\": 2, \"linecolor\": \"white\", \"showbackground\": true, \"ticks\": \"\", \"zerolinecolor\": \"white\"}}, \"shapedefaults\": {\"line\": {\"color\": \"#2a3f5f\"}}, \"ternary\": {\"aaxis\": {\"gridcolor\": \"white\", \"linecolor\": \"white\", \"ticks\": \"\"}, \"baxis\": {\"gridcolor\": \"white\", \"linecolor\": \"white\", \"ticks\": \"\"}, \"bgcolor\": \"#E5ECF6\", \"caxis\": {\"gridcolor\": \"white\", \"linecolor\": \"white\", \"ticks\": \"\"}}, \"title\": {\"x\": 0.05}, \"xaxis\": {\"automargin\": true, \"gridcolor\": \"white\", \"linecolor\": \"white\", \"ticks\": \"\", \"title\": {\"standoff\": 15}, \"zerolinecolor\": \"white\", \"zerolinewidth\": 2}, \"yaxis\": {\"automargin\": true, \"gridcolor\": \"white\", \"linecolor\": \"white\", \"ticks\": \"\", \"title\": {\"standoff\": 15}, \"zerolinecolor\": \"white\", \"zerolinewidth\": 2}}}, \"title\": {\"text\": \"$\\\\text{Russia: Actual } R_{pd} \\\\text{ vs. } h_I[j]\\\\circledast I_{pd}[j]$\", \"x\": 0.5, \"xanchor\": \"center\"}, \"xaxis\": {\"title\": {\"text\": \"Day\"}}, \"yaxis\": {\"title\": {\"text\": \"Count\"}}},\n",
              "                        {\"responsive\": true}\n",
              "                    ).then(function(){\n",
              "                            \n",
              "var gd = document.getElementById('36e8cec9-467e-41f6-8917-7e23ab66ee74');\n",
              "var x = new MutationObserver(function (mutations, observer) {{\n",
              "        var display = window.getComputedStyle(gd).display;\n",
              "        if (!display || display === 'none') {{\n",
              "            console.log([gd, 'removed!']);\n",
              "            Plotly.purge(gd);\n",
              "            observer.disconnect();\n",
              "        }}\n",
              "}});\n",
              "\n",
              "// Listen for the removal of the full notebook cells\n",
              "var notebookContainer = gd.closest('#notebook-container');\n",
              "if (notebookContainer) {{\n",
              "    x.observe(notebookContainer, {childList: true});\n",
              "}}\n",
              "\n",
              "// Listen for the clearing of the current output cell\n",
              "var outputEl = gd.closest('.output');\n",
              "if (outputEl) {{\n",
              "    x.observe(outputEl, {childList: true});\n",
              "}}\n",
              "\n",
              "                        })\n",
              "                };\n",
              "                \n",
              "            </script>\n",
              "        </div>\n",
              "</body>\n",
              "</html>"
            ]
          },
          "metadata": {
            "tags": []
          }
        }
      ]
    },
    {
      "cell_type": "markdown",
      "metadata": {
        "colab_type": "text",
        "id": "6hCTgDvgluug"
      },
      "source": [
        "We can see the actual $R_{pd}$ lags $h_I[j]\\circledast I_{pd}[j]$ by about 4 days.\n",
        "\n",
        "Again there are a few possibilites for why this is the case, including that maybe we haven't assumed the correct distribution for $T_I$.\n",
        "\n",
        "However, it can easily be assumed that deaths are vastly underestimated and are the reason for this."
      ]
    },
    {
      "cell_type": "markdown",
      "metadata": {
        "colab_type": "text",
        "id": "FU4IaEojluuh"
      },
      "source": [
        "#### 2. Estimating $E_{pd}$ by deconvolution of $I_{pd}$"
      ]
    },
    {
      "cell_type": "code",
      "metadata": {
        "colab_type": "code",
        "outputId": "89fe86bd-88e1-4a85-a04e-3eb050dd39fb",
        "id": "nCKZsbhTluui",
        "colab": {
          "base_uri": "https://localhost:8080/",
          "height": 196
        }
      },
      "source": [
        "#collapse_hide\n",
        "\n",
        "#Settting up for deconvolution of Ipd\n",
        "\n",
        "#regularization parameter\n",
        "alpha=2\n",
        "\n",
        "# Setup up the resultant Ipd we want to compare our guess with\n",
        "Ipd=np.floor(lowpass(conf_df_pd.loc['Russia'])[0])\n",
        "Ipd[Ipd<0]=0\n",
        "\n",
        "\n",
        "# Pad with last value\n",
        "i=0\n",
        "while i < 100:\n",
        "  Ipd=np.append(Ipd, Ipd[-1])\n",
        "  i=i+1\n",
        "\n",
        "# Find delay caused by h_L\n",
        "delay=Ipd.argmax()-signal.fftconvolve(Ipd, h_L, mode='full').argmax()\n",
        "\n",
        "# We want initial guess to simply be the result of the convolution delayed\n",
        "initial_guess=np.roll(Ipd,delay)\n",
        "Enext = initial_guess\n",
        "\n",
        "# AN array to record MSE between result we want and our iterated guess\n",
        "mse=np.array([])\n",
        "mse=np.append(mse, 10000000)\n",
        "mse=np.append(mse, msecalc(Ipd[:len(conf_df_pd.loc['Russia'])], signal.fftconvolve(h_L, Enext, mode='full')[:len(conf_df_pd.loc['Russia'])]))\n",
        "\n",
        "itercount=0\n",
        "while mse[-1] < mse[-2]:\n",
        "  itercount=itercount+1\n",
        "  Enext=iter_deconv(alpha, h_L, Enext, delay, Ipd)\n",
        "  mse=np.append(mse, msecalc(Ipd[:len(conf_df_pd.loc['Russia'])], signal.fftconvolve(h_L, Enext, mode='full')[:len(conf_df_pd.loc['Russia'])]))\n",
        "  print(\"Iteration #\" + str(itercount) +\": MSE= \"+str(mse[itercount]))\n",
        "print(\"Iteration #\" + str(itercount+1) +\": MSE= \"+str(mse[-1])+\" so we use the result of the previous iteration.\")"
      ],
      "execution_count": 0,
      "outputs": [
        {
          "output_type": "stream",
          "text": [
            "Iteration #1: MSE= 39099.91006982222\n",
            "Iteration #2: MSE= 16106.103319769038\n",
            "Iteration #3: MSE= 11017.503739943835\n",
            "Iteration #4: MSE= 9211.564403068674\n",
            "Iteration #5: MSE= 8031.942249915613\n",
            "Iteration #6: MSE= 7057.11955393414\n",
            "Iteration #7: MSE= 6659.220896111151\n",
            "Iteration #8: MSE= 6060.561604177258\n",
            "Iteration #9: MSE= 5976.364288743826\n",
            "Iteration #10: MSE= 5525.740411388326\n",
            "Iteration #11: MSE= 5588.427919549833 so we use the result of the previous iteration.\n"
          ],
          "name": "stdout"
        }
      ]
    },
    {
      "cell_type": "code",
      "metadata": {
        "colab_type": "code",
        "outputId": "2aef9019-b106-4a23-8002-75b73dc37a4a",
        "id": "pd51tDfqluum",
        "colab": {
          "base_uri": "https://localhost:8080/",
          "height": 180
        }
      },
      "source": [
        "#collapse_hide\n",
        "# We can keep going the iteration until lowest MSE\n",
        "\n",
        "#change alpha if you like\n",
        "alpha=2\n",
        "\n",
        "i=0\n",
        "while i < 10:\n",
        "  itercount=itercount+1\n",
        "  Enext=iter_deconv(alpha, h_L, Enext, delay, Ipd)\n",
        "  print(msecalc(Ipd[:len(conf_df_pd.loc['Russia'])], signal.fftconvolve(h_L, Enext, mode='full')[:len(conf_df_pd.loc['Russia'])]))\n",
        "  i=i+1"
      ],
      "execution_count": 0,
      "outputs": [
        {
          "output_type": "stream",
          "text": [
            "4386.5897924660985\n",
            "4471.91717180048\n",
            "4384.034207273343\n",
            "4470.893463246848\n",
            "4382.898268213621\n",
            "4471.548314093039\n",
            "4383.598844116114\n",
            "4468.01306793667\n",
            "4381.51864607549\n",
            "4464.993011420806\n"
          ],
          "name": "stdout"
        }
      ]
    },
    {
      "cell_type": "code",
      "metadata": {
        "colab_type": "code",
        "outputId": "419efccb-8425-4c7c-90ea-bd6aa81094b5",
        "id": "ur3lhO4Sluup",
        "colab": {
          "base_uri": "https://localhost:8080/",
          "height": 542
        }
      },
      "source": [
        "#collapse_hide\n",
        "fig = go.Figure(data=[    \n",
        "    go.Scatter(name='Epd=deconv(Ipd)', x=inf_df.loc['Russia'].index, y=Enext),\n",
        "    go.Scatter(name='Ipd=conv(deconv(Ipd))', x=inf_df.loc['Russia'].index, y=signal.fftconvolve(h_L, Enext, mode='full')),\n",
        "    go.Bar(name='Ipd', x=inf_df.loc['Russia'].index, y=conf_df_pd.loc['Russia']),\n",
        "    go.Scatter(name='Ipd=lowpass(Ipd)', x=inf_df.loc['Russia'].index, y=lowpass(conf_df_pd.loc['Russia'])[0])\n",
        "])\n",
        "\n",
        "fig.update_layout(\n",
        "    \n",
        "    xaxis_title = 'Day',\n",
        "    yaxis_title = 'Count',\n",
        "    title={\n",
        "        'text':r'$\\text{Russia: Actual } I_{pd} \\text{ vs. convolution of deconvolution of } I_{pd}$',\n",
        "        'x':0.5,\n",
        "        'xanchor':'center'\n",
        "    }\n",
        ")\n",
        "\n",
        "fig.show()"
      ],
      "execution_count": 0,
      "outputs": [
        {
          "output_type": "display_data",
          "data": {
            "text/html": [
              "<html>\n",
              "<head><meta charset=\"utf-8\" /></head>\n",
              "<body>\n",
              "    <div>\n",
              "            <script src=\"https://cdnjs.cloudflare.com/ajax/libs/mathjax/2.7.5/MathJax.js?config=TeX-AMS-MML_SVG\"></script><script type=\"text/javascript\">if (window.MathJax) {MathJax.Hub.Config({SVG: {font: \"STIX-Web\"}});}</script>\n",
              "                <script type=\"text/javascript\">window.PlotlyConfig = {MathJaxConfig: 'local'};</script>\n",
              "        <script src=\"https://cdn.plot.ly/plotly-latest.min.js\"></script>    \n",
              "            <div id=\"64688921-9fc7-4dc9-b979-9f332c90c330\" class=\"plotly-graph-div\" style=\"height:525px; width:100%;\"></div>\n",
              "            <script type=\"text/javascript\">\n",
              "                \n",
              "                    window.PLOTLYENV=window.PLOTLYENV || {};\n",
              "                    \n",
              "                if (document.getElementById(\"64688921-9fc7-4dc9-b979-9f332c90c330\")) {\n",
              "                    Plotly.newPlot(\n",
              "                        '64688921-9fc7-4dc9-b979-9f332c90c330',\n",
              "                        [{\"name\": \"Epd=deconv(Ipd)\", \"type\": \"scatter\", \"x\": [\"2020-01-22\", \"2020-01-23\", \"2020-01-24\", \"2020-01-25\", \"2020-01-26\", \"2020-01-27\", \"2020-01-28\", \"2020-01-29\", \"2020-01-30\", \"2020-01-31\", \"2020-02-01\", \"2020-02-02\", \"2020-02-03\", \"2020-02-04\", \"2020-02-05\", \"2020-02-06\", \"2020-02-07\", \"2020-02-08\", \"2020-02-09\", \"2020-02-10\", \"2020-02-11\", \"2020-02-12\", \"2020-02-13\", \"2020-02-14\", \"2020-02-15\", \"2020-02-16\", \"2020-02-17\", \"2020-02-18\", \"2020-02-19\", \"2020-02-20\", \"2020-02-21\", \"2020-02-22\", \"2020-02-23\", \"2020-02-24\", \"2020-02-25\", \"2020-02-26\", \"2020-02-27\", \"2020-02-28\", \"2020-02-29\", \"2020-03-01\", \"2020-03-02\", \"2020-03-03\", \"2020-03-04\", \"2020-03-05\", \"2020-03-06\", \"2020-03-07\", \"2020-03-08\", \"2020-03-09\", \"2020-03-10\", \"2020-03-11\", \"2020-03-12\", \"2020-03-13\", \"2020-03-14\", \"2020-03-15\", \"2020-03-16\", \"2020-03-17\", \"2020-03-18\", \"2020-03-19\", \"2020-03-20\", \"2020-03-21\", \"2020-03-22\", \"2020-03-23\", \"2020-03-24\", \"2020-03-25\", \"2020-03-26\", \"2020-03-27\", \"2020-03-28\", \"2020-03-29\", \"2020-03-30\", \"2020-03-31\", \"2020-04-01\", \"2020-04-02\", \"2020-04-03\", \"2020-04-04\", \"2020-04-05\", \"2020-04-06\", \"2020-04-07\", \"2020-04-08\", \"2020-04-09\", \"2020-04-10\", \"2020-04-11\", \"2020-04-12\", \"2020-04-13\", \"2020-04-14\", \"2020-04-15\", \"2020-04-16\", \"2020-04-17\", \"2020-04-18\", \"2020-04-19\", \"2020-04-20\", \"2020-04-21\", \"2020-04-22\", \"2020-04-23\", \"2020-04-24\", \"2020-04-25\", \"2020-04-26\", \"2020-04-27\", \"2020-04-28\", \"2020-04-29\", \"2020-04-30\", \"2020-05-01\", \"2020-05-02\", \"2020-05-03\", \"2020-05-04\", \"2020-05-05\", \"2020-05-06\", \"2020-05-07\", \"2020-05-08\", \"2020-05-09\", \"2020-05-10\", \"2020-05-11\", \"2020-05-12\", \"2020-05-13\", \"2020-05-14\", \"2020-05-15\", \"2020-05-16\", \"2020-05-17\", \"2020-05-18\", \"2020-05-19\", \"2020-05-20\", \"2020-05-21\", \"2020-05-22\", \"2020-05-23\", \"2020-05-24\", \"2020-05-25\", \"2020-05-26\", \"2020-05-27\", \"2020-05-28\", \"2020-05-29\", \"2020-05-30\", \"2020-05-31\", \"2020-06-01\", \"2020-06-02\", \"2020-06-03\"], \"y\": [0.0, 0.0, 0.0, 0.0, 0.0, 0.0, 0.0, 0.0, 1.0, 2.0, 2.0, 3.0, 2.0, 2.0, 1.0, 0.0, 0.0, 0.0, 0.0, 0.0, 0.0, 0.0, 0.0, 0.0, 0.0, 0.0, 0.0, 2.0, 7.0, 12.0, 17.0, 20.0, 22.0, 21.0, 17.0, 11.0, 2.0, 0.0, 0.0, 0.0, 0.0, 0.0, 0.0, 0.0, 0.0, 0.0, 0.0, 0.0, 19.0, 54.0, 91.0, 128.0, 162.0, 191.0, 211.0, 222.0, 223.0, 215.0, 200.0, 181.0, 164.0, 155.0, 160.0, 187.0, 242.0, 332.0, 460.0, 631.0, 843.0, 1096.0, 1385.0, 1704.0, 2043.0, 2394.0, 2746.0, 3089.0, 3416.0, 3719.0, 3995.0, 4244.0, 4468.0, 4673.0, 4868.0, 5064.0, 5272.0, 5504.0, 5772.0, 6085.0, 6447.0, 6861.0, 7325.0, 7830.0, 8367.0, 8918.0, 9468.0, 9996.0, 10483.0, 10909.0, 11260.0, 11520.0, 11683.0, 11745.0, 11706.0, 11575.0, 11361.0, 11080.0, 10749.0, 10386.0, 10012.0, 9644.0, 9298.0, 8988.0, 8724.0, 8513.0, 8355.0, 8252.0, 8198.0, 8187.0, 8211.0, 8260.0, 8326.0, 8400.0, 8473.0, 8541.0, 8598.0, 8641.0, 8669.0, 8683.0, 8684.0, 8674.0, 8656.0, 8633.0, 8608.0, 8584.0, 8561.0, 8543.0, 8530.0, 8522.0, 8519.0, 8520.0, 8525.0, 8532.0, 8541.0, 8550.0, 8558.0, 8566.0, 8571.0, 8575.0, 8577.0, 8577.0, 8576.0, 8573.0, 8571.0, 8568.0, 8565.0, 8564.0, 8563.0, 8563.0, 8563.0, 8564.0, 8565.0, 8567.0, 8567.0, 8568.0, 8567.0, 8565.0, 8562.0, 8559.0, 8555.0, 8551.0, 8548.0, 8546.0, 8546.0, 8547.0, 8551.0, 8557.0, 8565.0, 8574.0, 8584.0, 8594.0, 8601.0, 8606.0, 8608.0, 8604.0, 8596.0, 8583.0, 8566.0, 8546.0, 8524.0, 8504.0, 8487.0, 8476.0, 8473.0, 8480.0, 8497.0, 8525.0, 8562.0, 8606.0, 8652.0, 8697.0, 8735.0, 8760.0, 8769.0, 8757.0, 8722.0, 8664.0, 8587.0, 8495.0, 8397.0, 8301.0, 8221.0, 8166.0, 8148.0, 8176.0, 8254.0, 8383.0, 8557.0, 8765.0, 8990.0, 9208.0, 9391.0, 9510.0, 9534.0, 9433.0, 9181.0, 8760.0, 8159.0, 7375.0, 6417.0, 5301.0, 4055.0, 2712.0, 1310.0, 0.0]}, {\"name\": \"Ipd=conv(deconv(Ipd))\", \"type\": \"scatter\", \"x\": [\"2020-01-22\", \"2020-01-23\", \"2020-01-24\", \"2020-01-25\", \"2020-01-26\", \"2020-01-27\", \"2020-01-28\", \"2020-01-29\", \"2020-01-30\", \"2020-01-31\", \"2020-02-01\", \"2020-02-02\", \"2020-02-03\", \"2020-02-04\", \"2020-02-05\", \"2020-02-06\", \"2020-02-07\", \"2020-02-08\", \"2020-02-09\", \"2020-02-10\", \"2020-02-11\", \"2020-02-12\", \"2020-02-13\", \"2020-02-14\", \"2020-02-15\", \"2020-02-16\", \"2020-02-17\", \"2020-02-18\", \"2020-02-19\", \"2020-02-20\", \"2020-02-21\", \"2020-02-22\", \"2020-02-23\", \"2020-02-24\", \"2020-02-25\", \"2020-02-26\", \"2020-02-27\", \"2020-02-28\", \"2020-02-29\", \"2020-03-01\", \"2020-03-02\", \"2020-03-03\", \"2020-03-04\", \"2020-03-05\", \"2020-03-06\", \"2020-03-07\", \"2020-03-08\", \"2020-03-09\", \"2020-03-10\", \"2020-03-11\", \"2020-03-12\", \"2020-03-13\", \"2020-03-14\", \"2020-03-15\", \"2020-03-16\", \"2020-03-17\", \"2020-03-18\", \"2020-03-19\", \"2020-03-20\", \"2020-03-21\", \"2020-03-22\", \"2020-03-23\", \"2020-03-24\", \"2020-03-25\", \"2020-03-26\", \"2020-03-27\", \"2020-03-28\", \"2020-03-29\", \"2020-03-30\", \"2020-03-31\", \"2020-04-01\", \"2020-04-02\", \"2020-04-03\", \"2020-04-04\", \"2020-04-05\", \"2020-04-06\", \"2020-04-07\", \"2020-04-08\", \"2020-04-09\", \"2020-04-10\", \"2020-04-11\", \"2020-04-12\", \"2020-04-13\", \"2020-04-14\", \"2020-04-15\", \"2020-04-16\", \"2020-04-17\", \"2020-04-18\", \"2020-04-19\", \"2020-04-20\", \"2020-04-21\", \"2020-04-22\", \"2020-04-23\", \"2020-04-24\", \"2020-04-25\", \"2020-04-26\", \"2020-04-27\", \"2020-04-28\", \"2020-04-29\", \"2020-04-30\", \"2020-05-01\", \"2020-05-02\", \"2020-05-03\", \"2020-05-04\", \"2020-05-05\", \"2020-05-06\", \"2020-05-07\", \"2020-05-08\", \"2020-05-09\", \"2020-05-10\", \"2020-05-11\", \"2020-05-12\", \"2020-05-13\", \"2020-05-14\", \"2020-05-15\", \"2020-05-16\", \"2020-05-17\", \"2020-05-18\", \"2020-05-19\", \"2020-05-20\", \"2020-05-21\", \"2020-05-22\", \"2020-05-23\", \"2020-05-24\", \"2020-05-25\", \"2020-05-26\", \"2020-05-27\", \"2020-05-28\", \"2020-05-29\", \"2020-05-30\", \"2020-05-31\", \"2020-06-01\", \"2020-06-02\", \"2020-06-03\"], \"y\": [-1.2935035758548313e-12, -6.467517879274157e-13, -1.940255363782247e-12, -1.940255363782247e-12, -1.2935035758548313e-12, 6.467517879274157e-13, -6.467517879274157e-13, -1.2935035758548313e-12, -1.4551915228366853e-12, 0.0008495563531242726, 0.05466557941108477, 0.2002055695236777, 0.399019609733821, 0.6617090434941929, 0.9048299496758976, 1.103524238768053, 1.2153002040612693, 1.2068465363704795, 1.1218519149922537, 1.0039308773252238, 0.8760639358239133, 0.7508495659792971, 0.6348840126917317, 0.531192627679977, 0.44068823286636166, 0.3630719768302192, 0.29739400371844465, 0.24240004127786963, 0.19844049304115793, 0.2709772332739602, 0.6943494265132661, 1.6119142248550715, 3.0590443072892315, 4.915502697486146, 7.006284257421632, 9.054871017250763, 10.716785430341002, 11.688541179804856, 11.680401964798673, 10.923900066453562, 9.807650085405072, 8.57640641908834, 7.361333797620157, 6.231119610962277, 5.217753855170061, 4.3315987754098995, 3.570598994878108, 2.92598632345487, 2.385800384880147, 1.95316437742246, 2.6190652220163937, 5.959656549203727, 12.94567563495754, 23.845471706260774, 38.38248784073383, 55.86395747886919, 75.18945586674316, 95.05433655642362, 114.08672314797393, 131.0054341648631, 144.78305571294268, 154.78208993624625, 160.97046802538617, 164.0409736925128, 165.423009127058, 167.34261919688078, 172.73121833590818, 185.1446882497086, 208.49400186820196, 246.9131085310872, 304.3528339631917, 384.36443438782334, 489.79603114384133, 622.541163644669, 783.2562192043713, 971.332404951663, 1184.847638369173, 1420.630164511683, 1674.5489798972817, 1941.7274572840097, 2216.9445527835555, 2495.106321624086, 2771.631372548909, 3042.856165364276, 3306.4055539867118, 3561.447876726033, 3808.7558245891446, 4050.6825501237636, 4291.059715746243, 4534.886177753279, 4787.780966927322, 5055.5257229228, 5343.541830403076, 5656.198891404358, 5996.409796419418, 6365.061794426173, 6760.857033052079, 7180.12517498653, 7616.88205401538, 8063.006762511124, 8508.764221021116, 8943.186881586433, 9354.8335620189, 9732.48853969781, 10065.743990724115, 10345.779805166378, 10565.812456139276, 10721.54604911701, 10811.411044328523, 10836.570305572657, 10800.90980715957, 10710.69362171736, 10574.104556329476, 10400.760861657454, 10201.12786085628, 9985.930441746266, 9765.4244649928, 9549.034098848477, 9344.843489565854, 9159.283460422585, 8996.982110907753, 8860.66981979582, 8751.326839903732, 8668.358326474652, 8609.774246473296, 8572.634592296512, 8553.324619309302, 8547.861197453505, 8552.235604190771, 8562.727009881342, 8576.078519784864, 8589.609871071843, 8601.30800074386, 8609.846201898958, 8614.548138721788, 8615.324228406695, 8612.448195981015, 8606.572130075994, 8598.570825386769, 8589.374445972702, 8579.882567188586, 8570.869929204524, 8562.978522778403, 8556.637213632113, 8552.101412643273, 8549.417410036202, 8548.435482136916, 8548.948864202463, 8550.597561402856, 8553.017204667512, 8555.849488416356, 8558.743794397378, 8561.428670874571, 8563.658635087626, 8565.35388733758, 8566.473493493026, 8567.016370385281, 8567.123928437823, 8566.930854145721, 8566.57536027053, 8566.157356198972, 8565.783928952062, 8565.525646580609, 8565.46090514447, 8565.531857838625, 8565.71648800882, 8565.911345706732, 8565.975916125144, 8565.781137261516, 8565.261571238649, 8564.353963931151, 8563.035233115983, 8561.374263901631, 8559.498649715055, 8557.607449510791, 8555.890057608392, 8554.603678714717, 8554.00604894773, 8554.318161745683, 8555.677273983758, 8558.151284758578, 8561.714722878041, 8566.124512821869, 8571.04448287295, 8576.078454045995, 8580.653273763588, 8584.197025865193, 8586.161949648982, 8586.08184659769, 8583.63364572348, 8578.659810470124, 8571.321905141484, 8562.05425675768, 8551.571659997222, 8540.840433829737, 8531.026014831401, 8523.351367671059, 8519.036580726159, 8519.131402328621, 8524.38660687774, 8535.057650062461, 8550.887570133467, 8571.01292994524, 8593.905449089158, 8617.5434937254, 8639.480877955433, 8657.030427628864, 8667.534030534107, 8668.736063660102, 8659.01685179515, 8637.724634439988, 8605.31938030864, 8563.657671749574, 8515.891517631242, 8466.393934311329, 8420.537066015459, 8384.196759509454, 8363.22436772836, 8362.766262755295, 8386.583319301479, 8436.400659164532, 8511.24730241406, 8606.977346727215, 8716.1215942059, 8827.91510827883, 8928.551945751322, 9001.751030132142, 9029.697232948562, 8994.124861949109, 8877.4375966156, 8663.995377419824, 8341.212316395384, 7900.650082472537, 7338.762904381985, 6657.383102891167, 5870.447392219861, 5061.548652813397, 4296.488675007043, 3604.522039399313, 2996.3009023627133, 2472.265055451392, 2027.3919156773663, 1654.0074537563248, 1343.4550896917438, 1087.0646538482042, 876.6865281834907, 704.9562639981903, 565.3946924386255, 452.4106861149569, 361.2494176060246, 287.9131633280447, 229.0713930586612, 181.97017026758405, 144.3465453195088, 114.3508518178708, 90.47808448356422, 71.50848996791174, 56.45690193440468, 44.53003916648838, 35.09085387789657, 27.628996152974693, 21.736503101312945, 17.087897823348047, 13.423974604880076, 10.538641192857824, 8.268279704231018, 6.483171001055355, 5.0806015523286385, 3.9793364710666035, 3.115197871563982, 2.4375346491106837, 1.9064091427911385, 1.49035885856461, 1.1646184387189957, 0.9097092301332548, 0.710321906683061, 0.5544323202946948, 0.4326026796195139, 0.33742978248176064, 0.2631097790034902, 0.20509516504632, 0.15982469040318392, 0.12451085114411803, 0.0969728139119171, 0.07550515166884805, 0.058774783761085324, 0.045740110724647016, 0.0355876019056369, 0.027682097074729326, 0.021527876990472174, 0.016738185050134132, 0.013011376827489585, 0.010112264864599436, 0.007857533463134638, 0.006104340337171582, 0.0047414123155047295, 0.0036820921392063614, 0.0028589107574791546, 0.002219351984967943, 0.0017225486126133346, 0.0013367060765934488, 0.0010370940141405703, 0.0008044809552504578, 0.000623914889486817, 0.0004837733589940601, 0.00037502382312797837, 0.0002906478200909785, 0.00022519289535315087, 0.00017442384042725382, 0.00013505152471932687, 0.00010452185524627567, 8.085188261854152e-05, 6.250224606547918e-05, 4.8278131806809046e-05, 3.7252358419613706e-05, 2.870557364076376e-05, 2.20798686819358e-05, 1.6942718583676552e-05, 1.2959009553823206e-05, 9.869321689216628e-06, 7.473026764475637e-06, 5.615122305850188e-06, 4.176013559723894e-06, 3.063555858615372e-06, 2.206798591133621e-06, 1.5510951117095021e-06, 1.054298546579149e-06, 6.838223069078393e-07, 4.142484006782373e-07, 2.2561483395596345e-07, 1.0195395184887781e-07, 3.032037056982517e-08, 0.0]}, {\"name\": \"Ipd\", \"type\": \"bar\", \"x\": [\"2020-01-22\", \"2020-01-23\", \"2020-01-24\", \"2020-01-25\", \"2020-01-26\", \"2020-01-27\", \"2020-01-28\", \"2020-01-29\", \"2020-01-30\", \"2020-01-31\", \"2020-02-01\", \"2020-02-02\", \"2020-02-03\", \"2020-02-04\", \"2020-02-05\", \"2020-02-06\", \"2020-02-07\", \"2020-02-08\", \"2020-02-09\", \"2020-02-10\", \"2020-02-11\", \"2020-02-12\", \"2020-02-13\", \"2020-02-14\", \"2020-02-15\", \"2020-02-16\", \"2020-02-17\", \"2020-02-18\", \"2020-02-19\", \"2020-02-20\", \"2020-02-21\", \"2020-02-22\", \"2020-02-23\", \"2020-02-24\", \"2020-02-25\", \"2020-02-26\", \"2020-02-27\", \"2020-02-28\", \"2020-02-29\", \"2020-03-01\", \"2020-03-02\", \"2020-03-03\", \"2020-03-04\", \"2020-03-05\", \"2020-03-06\", \"2020-03-07\", \"2020-03-08\", \"2020-03-09\", \"2020-03-10\", \"2020-03-11\", \"2020-03-12\", \"2020-03-13\", \"2020-03-14\", \"2020-03-15\", \"2020-03-16\", \"2020-03-17\", \"2020-03-18\", \"2020-03-19\", \"2020-03-20\", \"2020-03-21\", \"2020-03-22\", \"2020-03-23\", \"2020-03-24\", \"2020-03-25\", \"2020-03-26\", \"2020-03-27\", \"2020-03-28\", \"2020-03-29\", \"2020-03-30\", \"2020-03-31\", \"2020-04-01\", \"2020-04-02\", \"2020-04-03\", \"2020-04-04\", \"2020-04-05\", \"2020-04-06\", \"2020-04-07\", \"2020-04-08\", \"2020-04-09\", \"2020-04-10\", \"2020-04-11\", \"2020-04-12\", \"2020-04-13\", \"2020-04-14\", \"2020-04-15\", \"2020-04-16\", \"2020-04-17\", \"2020-04-18\", \"2020-04-19\", \"2020-04-20\", \"2020-04-21\", \"2020-04-22\", \"2020-04-23\", \"2020-04-24\", \"2020-04-25\", \"2020-04-26\", \"2020-04-27\", \"2020-04-28\", \"2020-04-29\", \"2020-04-30\", \"2020-05-01\", \"2020-05-02\", \"2020-05-03\", \"2020-05-04\", \"2020-05-05\", \"2020-05-06\", \"2020-05-07\", \"2020-05-08\", \"2020-05-09\", \"2020-05-10\", \"2020-05-11\", \"2020-05-12\", \"2020-05-13\", \"2020-05-14\", \"2020-05-15\", \"2020-05-16\", \"2020-05-17\", \"2020-05-18\", \"2020-05-19\", \"2020-05-20\", \"2020-05-21\", \"2020-05-22\", \"2020-05-23\", \"2020-05-24\", \"2020-05-25\", \"2020-05-26\", \"2020-05-27\", \"2020-05-28\", \"2020-05-29\", \"2020-05-30\", \"2020-05-31\", \"2020-06-01\", \"2020-06-02\", \"2020-06-03\"], \"y\": [0.0, 0.0, 0.0, 0.0, 0.0, 0.0, 0.0, 0.0, 0.0, 2.0, 0.0, 0.0, 0.0, 0.0, 0.0, 0.0, 0.0, 0.0, 0.0, 0.0, 0.0, 0.0, 0.0, 0.0, 0.0, 0.0, 0.0, 0.0, 0.0, 0.0, 0.0, 0.0, 0.0, 0.0, 0.0, 0.0, 0.0, 0.0, 0.0, 0.0, 1.0, 0.0, 0.0, 1.0, 9.0, 0.0, 4.0, 0.0, 3.0, 0.0, 8.0, 17.0, 14.0, 4.0, 27.0, 24.0, 33.0, 52.0, 54.0, 53.0, 61.0, 71.0, 57.0, 163.0, 182.0, 196.0, 228.0, 270.0, 302.0, 501.0, 440.0, 771.0, 601.0, 582.0, 658.0, 954.0, 1154.0, 1175.0, 1459.0, 1786.0, 1667.0, 2186.0, 2558.0, 2774.0, 3388.0, 3448.0, 4070.0, 4785.0, 6060.0, 4268.0, 5642.0, 5236.0, 4774.0, 5849.0, 5966.0, 6361.0, 6198.0, 6411.0, 5841.0, 7099.0, 7933.0, 9623.0, 10633.0, 10581.0, 10102.0, 10559.0, 11231.0, 10699.0, 10817.0, 11012.0, 11656.0, 10899.0, 10028.0, 9974.0, 10598.0, 9200.0, 9709.0, 8926.0, 9263.0, 8764.0, 8849.0, 8894.0, 9434.0, 8599.0, 8946.0, 8915.0, 8338.0, 8371.0, 8572.0, 8952.0, 9268.0, 8485.0, 8858.0, 8529.0]}, {\"name\": \"Ipd=lowpass(Ipd)\", \"type\": \"scatter\", \"x\": [\"2020-01-22\", \"2020-01-23\", \"2020-01-24\", \"2020-01-25\", \"2020-01-26\", \"2020-01-27\", \"2020-01-28\", \"2020-01-29\", \"2020-01-30\", \"2020-01-31\", \"2020-02-01\", \"2020-02-02\", \"2020-02-03\", \"2020-02-04\", \"2020-02-05\", \"2020-02-06\", \"2020-02-07\", \"2020-02-08\", \"2020-02-09\", \"2020-02-10\", \"2020-02-11\", \"2020-02-12\", \"2020-02-13\", \"2020-02-14\", \"2020-02-15\", \"2020-02-16\", \"2020-02-17\", \"2020-02-18\", \"2020-02-19\", \"2020-02-20\", \"2020-02-21\", \"2020-02-22\", \"2020-02-23\", \"2020-02-24\", \"2020-02-25\", \"2020-02-26\", \"2020-02-27\", \"2020-02-28\", \"2020-02-29\", \"2020-03-01\", \"2020-03-02\", \"2020-03-03\", \"2020-03-04\", \"2020-03-05\", \"2020-03-06\", \"2020-03-07\", \"2020-03-08\", \"2020-03-09\", \"2020-03-10\", \"2020-03-11\", \"2020-03-12\", \"2020-03-13\", \"2020-03-14\", \"2020-03-15\", \"2020-03-16\", \"2020-03-17\", \"2020-03-18\", \"2020-03-19\", \"2020-03-20\", \"2020-03-21\", \"2020-03-22\", \"2020-03-23\", \"2020-03-24\", \"2020-03-25\", \"2020-03-26\", \"2020-03-27\", \"2020-03-28\", \"2020-03-29\", \"2020-03-30\", \"2020-03-31\", \"2020-04-01\", \"2020-04-02\", \"2020-04-03\", \"2020-04-04\", \"2020-04-05\", \"2020-04-06\", \"2020-04-07\", \"2020-04-08\", \"2020-04-09\", \"2020-04-10\", \"2020-04-11\", \"2020-04-12\", \"2020-04-13\", \"2020-04-14\", \"2020-04-15\", \"2020-04-16\", \"2020-04-17\", \"2020-04-18\", \"2020-04-19\", \"2020-04-20\", \"2020-04-21\", \"2020-04-22\", \"2020-04-23\", \"2020-04-24\", \"2020-04-25\", \"2020-04-26\", \"2020-04-27\", \"2020-04-28\", \"2020-04-29\", \"2020-04-30\", \"2020-05-01\", \"2020-05-02\", \"2020-05-03\", \"2020-05-04\", \"2020-05-05\", \"2020-05-06\", \"2020-05-07\", \"2020-05-08\", \"2020-05-09\", \"2020-05-10\", \"2020-05-11\", \"2020-05-12\", \"2020-05-13\", \"2020-05-14\", \"2020-05-15\", \"2020-05-16\", \"2020-05-17\", \"2020-05-18\", \"2020-05-19\", \"2020-05-20\", \"2020-05-21\", \"2020-05-22\", \"2020-05-23\", \"2020-05-24\", \"2020-05-25\", \"2020-05-26\", \"2020-05-27\", \"2020-05-28\", \"2020-05-29\", \"2020-05-30\", \"2020-05-31\", \"2020-06-01\", \"2020-06-02\", \"2020-06-03\"], \"y\": [0.10872711702247644, 0.13418294342311432, 0.144626460386207, 0.13897641248594284, 0.11773455613593853, 0.08315207733086152, 0.03925783146111285, -0.008283736332119469, -0.052508968960266134, -0.08569562278767273, -0.10009725551283931, -0.08883458471861941, -0.04687726818375035, 0.027979084285199386, 0.13425773804298127, 0.26619481369506653, 0.4135054250394525, 0.5616251430239123, 0.6924950480482536, 0.7859103021899093, 0.8213932942417239, 0.7804871791369498, 0.6492995303325949, 0.4210654160565121, 0.0984517692133912, -0.30470214052497596, -0.7625131689715942, -1.2373239293482352, -1.6813172289351628, -2.0395744939913443, -2.2545407855662423, -2.2716982089400077, -2.0460766523802842, -1.5490618547323847, -0.7748147420956625, 0.2544867284405442, 1.4854112003304902, 2.832829239433218, 4.182911398891859, 5.399986689365929, 6.337352445068279, 6.8517229384449, 6.8205517639568125, 6.161001576975472, 4.848913362971575, 2.9358014026012134, 0.5617251629993887, -2.03808715839902, -4.534735477910522, -6.5166416735770065, -7.510684585058405, -7.013173106446649, -4.529235407625585, 0.38201732659417026, 8.06040907551192, 18.70062715564495, 32.31686110639028, 48.72217540486681, 67.52838096214911, 88.17123059543177, 109.96407910243008, 132.1807106293998, 154.16491884502577, 175.46081980427155, 195.95411454142337, 216.01105947462332, 236.59927644738724, 259.37323927485517, 286.7076979489477, 321.6646984522866, 367.8843493989378, 429.39604107432604, 510.3551487616114, 614.7196892982877, 745.8908660007804, 906.3495580404347, 1097.326242756184, 1318.5436234591298, 1568.06892296634, 1842.3063215650852, 2136.1495071501786, 2443.3001344205695, 2756.7409171313816, 3069.3334095884657, 3374.4921847384885, 3666.8714728890845, 3942.9899208052693, 4201.716276091396, 4444.545275403725, 4675.609686556542, 4901.400665541245, 5130.201581758437, 5371.275579601132, 5633.879046427734, 5926.197339879493, 6254.312780931565, 6621.316903085236, 7026.669174543544, 7465.883210115278, 7930.58963669778, 8408.984343817367, 8886.626223767475, 9347.506456242625, 9775.279560273006, 10154.530666391329, 10471.955509479467, 10717.346807785683, 10884.307622286637, 10970.64351399837, 10978.416783483543, 10913.675282096123, 10785.893808273944, 10607.18710684562, 10391.369148201211, 10152.942509421478, 9906.10320065785, 9663.839963963952, 9437.193905933462, 9234.726038105418, 9062.21886037726, 8922.615642538596, 8816.179782503265, 8740.838737176482, 8692.664357709089, 8666.435115119848, 8656.225701545949, 8655.974706765632, 8659.989605789026, 8663.358189228, 8662.24544315275, 8654.064316789802, 8637.518222634564, 8612.523033535123, 8580.026551130533]}],\n",
              "                        {\"template\": {\"data\": {\"bar\": [{\"error_x\": {\"color\": \"#2a3f5f\"}, \"error_y\": {\"color\": \"#2a3f5f\"}, \"marker\": {\"line\": {\"color\": \"#E5ECF6\", \"width\": 0.5}}, \"type\": \"bar\"}], \"barpolar\": [{\"marker\": {\"line\": {\"color\": \"#E5ECF6\", \"width\": 0.5}}, \"type\": \"barpolar\"}], \"carpet\": [{\"aaxis\": {\"endlinecolor\": \"#2a3f5f\", \"gridcolor\": \"white\", \"linecolor\": \"white\", \"minorgridcolor\": \"white\", \"startlinecolor\": \"#2a3f5f\"}, \"baxis\": {\"endlinecolor\": \"#2a3f5f\", \"gridcolor\": \"white\", \"linecolor\": \"white\", \"minorgridcolor\": \"white\", \"startlinecolor\": \"#2a3f5f\"}, \"type\": \"carpet\"}], \"choropleth\": [{\"colorbar\": {\"outlinewidth\": 0, \"ticks\": \"\"}, \"type\": \"choropleth\"}], \"contour\": [{\"colorbar\": {\"outlinewidth\": 0, \"ticks\": \"\"}, \"colorscale\": [[0.0, \"#0d0887\"], [0.1111111111111111, \"#46039f\"], [0.2222222222222222, \"#7201a8\"], [0.3333333333333333, \"#9c179e\"], [0.4444444444444444, \"#bd3786\"], [0.5555555555555556, \"#d8576b\"], [0.6666666666666666, \"#ed7953\"], [0.7777777777777778, \"#fb9f3a\"], [0.8888888888888888, \"#fdca26\"], [1.0, \"#f0f921\"]], \"type\": \"contour\"}], \"contourcarpet\": [{\"colorbar\": {\"outlinewidth\": 0, \"ticks\": \"\"}, \"type\": \"contourcarpet\"}], \"heatmap\": [{\"colorbar\": {\"outlinewidth\": 0, \"ticks\": \"\"}, \"colorscale\": [[0.0, \"#0d0887\"], [0.1111111111111111, \"#46039f\"], [0.2222222222222222, \"#7201a8\"], [0.3333333333333333, \"#9c179e\"], [0.4444444444444444, \"#bd3786\"], [0.5555555555555556, \"#d8576b\"], [0.6666666666666666, \"#ed7953\"], [0.7777777777777778, \"#fb9f3a\"], [0.8888888888888888, \"#fdca26\"], [1.0, \"#f0f921\"]], \"type\": \"heatmap\"}], \"heatmapgl\": [{\"colorbar\": {\"outlinewidth\": 0, \"ticks\": \"\"}, \"colorscale\": [[0.0, \"#0d0887\"], [0.1111111111111111, \"#46039f\"], [0.2222222222222222, \"#7201a8\"], [0.3333333333333333, \"#9c179e\"], [0.4444444444444444, \"#bd3786\"], [0.5555555555555556, \"#d8576b\"], [0.6666666666666666, \"#ed7953\"], [0.7777777777777778, \"#fb9f3a\"], [0.8888888888888888, \"#fdca26\"], [1.0, \"#f0f921\"]], \"type\": \"heatmapgl\"}], \"histogram\": [{\"marker\": {\"colorbar\": {\"outlinewidth\": 0, \"ticks\": \"\"}}, \"type\": \"histogram\"}], \"histogram2d\": [{\"colorbar\": {\"outlinewidth\": 0, \"ticks\": \"\"}, \"colorscale\": [[0.0, \"#0d0887\"], [0.1111111111111111, \"#46039f\"], [0.2222222222222222, \"#7201a8\"], [0.3333333333333333, \"#9c179e\"], [0.4444444444444444, \"#bd3786\"], [0.5555555555555556, \"#d8576b\"], [0.6666666666666666, \"#ed7953\"], [0.7777777777777778, \"#fb9f3a\"], [0.8888888888888888, \"#fdca26\"], [1.0, \"#f0f921\"]], \"type\": \"histogram2d\"}], \"histogram2dcontour\": [{\"colorbar\": {\"outlinewidth\": 0, \"ticks\": \"\"}, \"colorscale\": [[0.0, \"#0d0887\"], [0.1111111111111111, \"#46039f\"], [0.2222222222222222, \"#7201a8\"], [0.3333333333333333, \"#9c179e\"], [0.4444444444444444, \"#bd3786\"], [0.5555555555555556, \"#d8576b\"], [0.6666666666666666, \"#ed7953\"], [0.7777777777777778, \"#fb9f3a\"], [0.8888888888888888, \"#fdca26\"], [1.0, \"#f0f921\"]], \"type\": \"histogram2dcontour\"}], \"mesh3d\": [{\"colorbar\": {\"outlinewidth\": 0, \"ticks\": \"\"}, \"type\": \"mesh3d\"}], \"parcoords\": [{\"line\": {\"colorbar\": {\"outlinewidth\": 0, \"ticks\": \"\"}}, \"type\": \"parcoords\"}], \"pie\": [{\"automargin\": true, \"type\": \"pie\"}], \"scatter\": [{\"marker\": {\"colorbar\": {\"outlinewidth\": 0, \"ticks\": \"\"}}, \"type\": \"scatter\"}], \"scatter3d\": [{\"line\": {\"colorbar\": {\"outlinewidth\": 0, \"ticks\": \"\"}}, \"marker\": {\"colorbar\": {\"outlinewidth\": 0, \"ticks\": \"\"}}, \"type\": \"scatter3d\"}], \"scattercarpet\": [{\"marker\": {\"colorbar\": {\"outlinewidth\": 0, \"ticks\": \"\"}}, \"type\": \"scattercarpet\"}], \"scattergeo\": [{\"marker\": {\"colorbar\": {\"outlinewidth\": 0, \"ticks\": \"\"}}, \"type\": \"scattergeo\"}], \"scattergl\": [{\"marker\": {\"colorbar\": {\"outlinewidth\": 0, \"ticks\": \"\"}}, \"type\": \"scattergl\"}], \"scattermapbox\": [{\"marker\": {\"colorbar\": {\"outlinewidth\": 0, \"ticks\": \"\"}}, \"type\": \"scattermapbox\"}], \"scatterpolar\": [{\"marker\": {\"colorbar\": {\"outlinewidth\": 0, \"ticks\": \"\"}}, \"type\": \"scatterpolar\"}], \"scatterpolargl\": [{\"marker\": {\"colorbar\": {\"outlinewidth\": 0, \"ticks\": \"\"}}, \"type\": \"scatterpolargl\"}], \"scatterternary\": [{\"marker\": {\"colorbar\": {\"outlinewidth\": 0, \"ticks\": \"\"}}, \"type\": \"scatterternary\"}], \"surface\": [{\"colorbar\": {\"outlinewidth\": 0, \"ticks\": \"\"}, \"colorscale\": [[0.0, \"#0d0887\"], [0.1111111111111111, \"#46039f\"], [0.2222222222222222, \"#7201a8\"], [0.3333333333333333, \"#9c179e\"], [0.4444444444444444, \"#bd3786\"], [0.5555555555555556, \"#d8576b\"], [0.6666666666666666, \"#ed7953\"], [0.7777777777777778, \"#fb9f3a\"], [0.8888888888888888, \"#fdca26\"], [1.0, \"#f0f921\"]], \"type\": \"surface\"}], \"table\": [{\"cells\": {\"fill\": {\"color\": \"#EBF0F8\"}, \"line\": {\"color\": \"white\"}}, \"header\": {\"fill\": {\"color\": \"#C8D4E3\"}, \"line\": {\"color\": \"white\"}}, \"type\": \"table\"}]}, \"layout\": {\"annotationdefaults\": {\"arrowcolor\": \"#2a3f5f\", \"arrowhead\": 0, \"arrowwidth\": 1}, \"coloraxis\": {\"colorbar\": {\"outlinewidth\": 0, \"ticks\": \"\"}}, \"colorscale\": {\"diverging\": [[0, \"#8e0152\"], [0.1, \"#c51b7d\"], [0.2, \"#de77ae\"], [0.3, \"#f1b6da\"], [0.4, \"#fde0ef\"], [0.5, \"#f7f7f7\"], [0.6, \"#e6f5d0\"], [0.7, \"#b8e186\"], [0.8, \"#7fbc41\"], [0.9, \"#4d9221\"], [1, \"#276419\"]], \"sequential\": [[0.0, \"#0d0887\"], [0.1111111111111111, \"#46039f\"], [0.2222222222222222, \"#7201a8\"], [0.3333333333333333, \"#9c179e\"], [0.4444444444444444, \"#bd3786\"], [0.5555555555555556, \"#d8576b\"], [0.6666666666666666, \"#ed7953\"], [0.7777777777777778, \"#fb9f3a\"], [0.8888888888888888, \"#fdca26\"], [1.0, \"#f0f921\"]], \"sequentialminus\": [[0.0, \"#0d0887\"], [0.1111111111111111, \"#46039f\"], [0.2222222222222222, \"#7201a8\"], [0.3333333333333333, \"#9c179e\"], [0.4444444444444444, \"#bd3786\"], [0.5555555555555556, \"#d8576b\"], [0.6666666666666666, \"#ed7953\"], [0.7777777777777778, \"#fb9f3a\"], [0.8888888888888888, \"#fdca26\"], [1.0, \"#f0f921\"]]}, \"colorway\": [\"#636efa\", \"#EF553B\", \"#00cc96\", \"#ab63fa\", \"#FFA15A\", \"#19d3f3\", \"#FF6692\", \"#B6E880\", \"#FF97FF\", \"#FECB52\"], \"font\": {\"color\": \"#2a3f5f\"}, \"geo\": {\"bgcolor\": \"white\", \"lakecolor\": \"white\", \"landcolor\": \"#E5ECF6\", \"showlakes\": true, \"showland\": true, \"subunitcolor\": \"white\"}, \"hoverlabel\": {\"align\": \"left\"}, \"hovermode\": \"closest\", \"mapbox\": {\"style\": \"light\"}, \"paper_bgcolor\": \"white\", \"plot_bgcolor\": \"#E5ECF6\", \"polar\": {\"angularaxis\": {\"gridcolor\": \"white\", \"linecolor\": \"white\", \"ticks\": \"\"}, \"bgcolor\": \"#E5ECF6\", \"radialaxis\": {\"gridcolor\": \"white\", \"linecolor\": \"white\", \"ticks\": \"\"}}, \"scene\": {\"xaxis\": {\"backgroundcolor\": \"#E5ECF6\", \"gridcolor\": \"white\", \"gridwidth\": 2, \"linecolor\": \"white\", \"showbackground\": true, \"ticks\": \"\", \"zerolinecolor\": \"white\"}, \"yaxis\": {\"backgroundcolor\": \"#E5ECF6\", \"gridcolor\": \"white\", \"gridwidth\": 2, \"linecolor\": \"white\", \"showbackground\": true, \"ticks\": \"\", \"zerolinecolor\": \"white\"}, \"zaxis\": {\"backgroundcolor\": \"#E5ECF6\", \"gridcolor\": \"white\", \"gridwidth\": 2, \"linecolor\": \"white\", \"showbackground\": true, \"ticks\": \"\", \"zerolinecolor\": \"white\"}}, \"shapedefaults\": {\"line\": {\"color\": \"#2a3f5f\"}}, \"ternary\": {\"aaxis\": {\"gridcolor\": \"white\", \"linecolor\": \"white\", \"ticks\": \"\"}, \"baxis\": {\"gridcolor\": \"white\", \"linecolor\": \"white\", \"ticks\": \"\"}, \"bgcolor\": \"#E5ECF6\", \"caxis\": {\"gridcolor\": \"white\", \"linecolor\": \"white\", \"ticks\": \"\"}}, \"title\": {\"x\": 0.05}, \"xaxis\": {\"automargin\": true, \"gridcolor\": \"white\", \"linecolor\": \"white\", \"ticks\": \"\", \"title\": {\"standoff\": 15}, \"zerolinecolor\": \"white\", \"zerolinewidth\": 2}, \"yaxis\": {\"automargin\": true, \"gridcolor\": \"white\", \"linecolor\": \"white\", \"ticks\": \"\", \"title\": {\"standoff\": 15}, \"zerolinecolor\": \"white\", \"zerolinewidth\": 2}}}, \"title\": {\"text\": \"$\\\\text{Russia: Actual } I_{pd} \\\\text{ vs. convolution of deconvolution of } I_{pd}$\", \"x\": 0.5, \"xanchor\": \"center\"}, \"xaxis\": {\"title\": {\"text\": \"Day\"}}, \"yaxis\": {\"title\": {\"text\": \"Count\"}}},\n",
              "                        {\"responsive\": true}\n",
              "                    ).then(function(){\n",
              "                            \n",
              "var gd = document.getElementById('64688921-9fc7-4dc9-b979-9f332c90c330');\n",
              "var x = new MutationObserver(function (mutations, observer) {{\n",
              "        var display = window.getComputedStyle(gd).display;\n",
              "        if (!display || display === 'none') {{\n",
              "            console.log([gd, 'removed!']);\n",
              "            Plotly.purge(gd);\n",
              "            observer.disconnect();\n",
              "        }}\n",
              "}});\n",
              "\n",
              "// Listen for the removal of the full notebook cells\n",
              "var notebookContainer = gd.closest('#notebook-container');\n",
              "if (notebookContainer) {{\n",
              "    x.observe(notebookContainer, {childList: true});\n",
              "}}\n",
              "\n",
              "// Listen for the clearing of the current output cell\n",
              "var outputEl = gd.closest('.output');\n",
              "if (outputEl) {{\n",
              "    x.observe(outputEl, {childList: true});\n",
              "}}\n",
              "\n",
              "                        })\n",
              "                };\n",
              "                \n",
              "            </script>\n",
              "        </div>\n",
              "</body>\n",
              "</html>"
            ]
          },
          "metadata": {
            "tags": []
          }
        }
      ]
    },
    {
      "cell_type": "markdown",
      "metadata": {
        "colab_type": "text",
        "id": "MeV6O2n9luuu"
      },
      "source": [
        "We can see that our estimate for $\\hat{E}_{pd}$ must be close to the reality of $E_{pd}$ as $I_{pd}$ is almost identical to $\\hat{E}_{pd} \\circledast h_L$.\n",
        "\n",
        "Of course, this holds only as long as our estimate of $h_L$ is close to reality.\n",
        "\n"
      ]
    },
    {
      "cell_type": "markdown",
      "metadata": {
        "colab_type": "text",
        "id": "gnwgTDvEluuv"
      },
      "source": [
        "#### 3. $\\beta$ and $R$ from $E_{pd}$ and $I$\n",
        "\n",
        "As described above:\n",
        "$$\\beta = \\frac{N~E_{pd}}{S~I}$$ and if $S$~$N$, then $$\\beta = \\frac{E_{pd}}{I}$$\n",
        "It is easier to simply say :\n",
        "$$R = \\frac{E_{pd}}{\\gamma~I}$$"
      ]
    },
    {
      "cell_type": "code",
      "metadata": {
        "colab_type": "code",
        "outputId": "3309a45d-e0c4-4fce-e704-087873ba99c0",
        "id": "B-Dnidn_luuv",
        "colab": {
          "base_uri": "https://localhost:8080/",
          "height": 542
        }
      },
      "source": [
        "#collapse_hide\n",
        "\n",
        "# Calculate R\n",
        "gam = 1/20.11 # As we say gamma is 1/20.11\n",
        "R = Enext[:len(inf_df.loc['Russia'])]*(1/gam)/inf_df.loc['Russia']\n",
        "\n",
        "fig = go.Figure(data=[    \n",
        "    go.Scatter(name='R', x=inf_df.loc['Russia'].index, y=R),\n",
        "    go.Scatter(name='Epd=deconv(Ipd)', x=inf_df.loc['Russia'].index, y=Enext),\n",
        "    go.Scatter(name='Inf', x=inf_df.loc['Russia'].index, y=inf_df.loc['Russia']),\n",
        "])\n",
        "\n",
        "fig.update_layout(\n",
        "    \n",
        "    xaxis_title = 'Day',\n",
        "    yaxis_title = 'R',\n",
        "    title={\n",
        "        'text':r'$\\text{Russia: R }$',\n",
        "        'x':0.5,\n",
        "        'xanchor':'center'\n",
        "    }\n",
        ")\n",
        "\n",
        "fig.show()"
      ],
      "execution_count": 0,
      "outputs": [
        {
          "output_type": "display_data",
          "data": {
            "text/html": [
              "<html>\n",
              "<head><meta charset=\"utf-8\" /></head>\n",
              "<body>\n",
              "    <div>\n",
              "            <script src=\"https://cdnjs.cloudflare.com/ajax/libs/mathjax/2.7.5/MathJax.js?config=TeX-AMS-MML_SVG\"></script><script type=\"text/javascript\">if (window.MathJax) {MathJax.Hub.Config({SVG: {font: \"STIX-Web\"}});}</script>\n",
              "                <script type=\"text/javascript\">window.PlotlyConfig = {MathJaxConfig: 'local'};</script>\n",
              "        <script src=\"https://cdn.plot.ly/plotly-latest.min.js\"></script>    \n",
              "            <div id=\"53e4bcd0-4d64-42bc-bcb2-1ae263d982ff\" class=\"plotly-graph-div\" style=\"height:525px; width:100%;\"></div>\n",
              "            <script type=\"text/javascript\">\n",
              "                \n",
              "                    window.PLOTLYENV=window.PLOTLYENV || {};\n",
              "                    \n",
              "                if (document.getElementById(\"53e4bcd0-4d64-42bc-bcb2-1ae263d982ff\")) {\n",
              "                    Plotly.newPlot(\n",
              "                        '53e4bcd0-4d64-42bc-bcb2-1ae263d982ff',\n",
              "                        [{\"name\": \"R\", \"type\": \"scatter\", \"x\": [\"2020-01-22\", \"2020-01-23\", \"2020-01-24\", \"2020-01-25\", \"2020-01-26\", \"2020-01-27\", \"2020-01-28\", \"2020-01-29\", \"2020-01-30\", \"2020-01-31\", \"2020-02-01\", \"2020-02-02\", \"2020-02-03\", \"2020-02-04\", \"2020-02-05\", \"2020-02-06\", \"2020-02-07\", \"2020-02-08\", \"2020-02-09\", \"2020-02-10\", \"2020-02-11\", \"2020-02-12\", \"2020-02-13\", \"2020-02-14\", \"2020-02-15\", \"2020-02-16\", \"2020-02-17\", \"2020-02-18\", \"2020-02-19\", \"2020-02-20\", \"2020-02-21\", \"2020-02-22\", \"2020-02-23\", \"2020-02-24\", \"2020-02-25\", \"2020-02-26\", \"2020-02-27\", \"2020-02-28\", \"2020-02-29\", \"2020-03-01\", \"2020-03-02\", \"2020-03-03\", \"2020-03-04\", \"2020-03-05\", \"2020-03-06\", \"2020-03-07\", \"2020-03-08\", \"2020-03-09\", \"2020-03-10\", \"2020-03-11\", \"2020-03-12\", \"2020-03-13\", \"2020-03-14\", \"2020-03-15\", \"2020-03-16\", \"2020-03-17\", \"2020-03-18\", \"2020-03-19\", \"2020-03-20\", \"2020-03-21\", \"2020-03-22\", \"2020-03-23\", \"2020-03-24\", \"2020-03-25\", \"2020-03-26\", \"2020-03-27\", \"2020-03-28\", \"2020-03-29\", \"2020-03-30\", \"2020-03-31\", \"2020-04-01\", \"2020-04-02\", \"2020-04-03\", \"2020-04-04\", \"2020-04-05\", \"2020-04-06\", \"2020-04-07\", \"2020-04-08\", \"2020-04-09\", \"2020-04-10\", \"2020-04-11\", \"2020-04-12\", \"2020-04-13\", \"2020-04-14\", \"2020-04-15\", \"2020-04-16\", \"2020-04-17\", \"2020-04-18\", \"2020-04-19\", \"2020-04-20\", \"2020-04-21\", \"2020-04-22\", \"2020-04-23\", \"2020-04-24\", \"2020-04-25\", \"2020-04-26\", \"2020-04-27\", \"2020-04-28\", \"2020-04-29\", \"2020-04-30\", \"2020-05-01\", \"2020-05-02\", \"2020-05-03\", \"2020-05-04\", \"2020-05-05\", \"2020-05-06\", \"2020-05-07\", \"2020-05-08\", \"2020-05-09\", \"2020-05-10\", \"2020-05-11\", \"2020-05-12\", \"2020-05-13\", \"2020-05-14\", \"2020-05-15\", \"2020-05-16\", \"2020-05-17\", \"2020-05-18\", \"2020-05-19\", \"2020-05-20\", \"2020-05-21\", \"2020-05-22\", \"2020-05-23\", \"2020-05-24\", \"2020-05-25\", \"2020-05-26\", \"2020-05-27\", \"2020-05-28\", \"2020-05-29\", \"2020-05-30\", \"2020-05-31\", \"2020-06-01\", \"2020-06-02\", \"2020-06-03\"], \"y\": [null, null, null, null, null, null, null, null, null, 20.11, 20.11, 30.165, 20.11, 20.11, 10.055, 0.0, 0.0, 0.0, 0.0, 0.0, 0.0, null, null, null, null, null, null, null, null, null, null, null, null, null, null, null, null, null, null, null, 0.0, 0.0, 0.0, 0.0, 0.0, 0.0, 0.0, 0.0, 22.475882352941174, 63.87882352941177, 73.2004, 61.287619047619046, 63.87882352941176, 69.83654545454544, 51.74646341463415, 42.11716981132076, 32.26280575539568, 22.876455026455023, 16.551440329218106, 12.422901023890784, 9.422971428571428, 7.403919239904988, 6.816949152542373, 6.0073003194888175, 6.090888610763455, 6.764457953394123, 7.638810900082577, 8.679487004103967, 9.626763202725725, 10.022992269213278, 10.86708934841982, 10.437843435881817, 10.715892018779341, 11.054727898966703, 11.06876327921427, 10.546653650254669, 9.891398128149747, 9.31486984680533, 8.586026504221438, 7.739104098657961, 7.226854339258425, 6.549169280089205, 5.85849670855775, 5.293535710572824, 4.752977674168385, 4.357351389654358, 3.982670097786927, 3.66123178649433, 3.307292416009796, 3.1886921654726135, 3.0413707313044553, 2.9672728300606788, 2.9350981213040974, 2.8722590047886736, 2.814217006370368, 2.7373808129638455, 2.668284202665587, 2.604380483172078, 2.5690495909962445, 2.4696416007504847, 2.3484649447232164, 2.1906338400467447, 2.016028877774733, 1.8500937870081149, 1.7043110239157353, 1.557465487715374, 1.424632839480136, 1.309252670377614, 1.2207461211522255, 1.1180272904932926, 1.0414895228758898, 0.9685645848404468, 0.9134816928395884, 0.8716278702713711, 0.8309588573632906, 0.8042440631966657, 0.7785753820579179, 0.7561094756758991, 0.7472517581253902, 0.7538705914922779, 0.7549841730770964, 0.7562384162883773, 0.7587885089820893, 0.7545192210542038, 0.748522831564183, 0.7641421510426286, 0.7765277678794141, 0.779824264456314, 0.7796494517661344, 0.7768130179780984, 0.7592551915452289, 0.7420324834911205, 0.7475907459631272, 0.7474593414967872]}, {\"name\": \"Epd=deconv(Ipd)\", \"type\": \"scatter\", \"x\": [\"2020-01-22\", \"2020-01-23\", \"2020-01-24\", \"2020-01-25\", \"2020-01-26\", \"2020-01-27\", \"2020-01-28\", \"2020-01-29\", \"2020-01-30\", \"2020-01-31\", \"2020-02-01\", \"2020-02-02\", \"2020-02-03\", \"2020-02-04\", \"2020-02-05\", \"2020-02-06\", \"2020-02-07\", \"2020-02-08\", \"2020-02-09\", \"2020-02-10\", \"2020-02-11\", \"2020-02-12\", \"2020-02-13\", \"2020-02-14\", \"2020-02-15\", \"2020-02-16\", \"2020-02-17\", \"2020-02-18\", \"2020-02-19\", \"2020-02-20\", \"2020-02-21\", \"2020-02-22\", \"2020-02-23\", \"2020-02-24\", \"2020-02-25\", \"2020-02-26\", \"2020-02-27\", \"2020-02-28\", \"2020-02-29\", \"2020-03-01\", \"2020-03-02\", \"2020-03-03\", \"2020-03-04\", \"2020-03-05\", \"2020-03-06\", \"2020-03-07\", \"2020-03-08\", \"2020-03-09\", \"2020-03-10\", \"2020-03-11\", \"2020-03-12\", \"2020-03-13\", \"2020-03-14\", \"2020-03-15\", \"2020-03-16\", \"2020-03-17\", \"2020-03-18\", \"2020-03-19\", \"2020-03-20\", \"2020-03-21\", \"2020-03-22\", \"2020-03-23\", \"2020-03-24\", \"2020-03-25\", \"2020-03-26\", \"2020-03-27\", \"2020-03-28\", \"2020-03-29\", \"2020-03-30\", \"2020-03-31\", \"2020-04-01\", \"2020-04-02\", \"2020-04-03\", \"2020-04-04\", \"2020-04-05\", \"2020-04-06\", \"2020-04-07\", \"2020-04-08\", \"2020-04-09\", \"2020-04-10\", \"2020-04-11\", \"2020-04-12\", \"2020-04-13\", \"2020-04-14\", \"2020-04-15\", \"2020-04-16\", \"2020-04-17\", \"2020-04-18\", \"2020-04-19\", \"2020-04-20\", \"2020-04-21\", \"2020-04-22\", \"2020-04-23\", \"2020-04-24\", \"2020-04-25\", \"2020-04-26\", \"2020-04-27\", \"2020-04-28\", \"2020-04-29\", \"2020-04-30\", \"2020-05-01\", \"2020-05-02\", \"2020-05-03\", \"2020-05-04\", \"2020-05-05\", \"2020-05-06\", \"2020-05-07\", \"2020-05-08\", \"2020-05-09\", \"2020-05-10\", \"2020-05-11\", \"2020-05-12\", \"2020-05-13\", \"2020-05-14\", \"2020-05-15\", \"2020-05-16\", \"2020-05-17\", \"2020-05-18\", \"2020-05-19\", \"2020-05-20\", \"2020-05-21\", \"2020-05-22\", \"2020-05-23\", \"2020-05-24\", \"2020-05-25\", \"2020-05-26\", \"2020-05-27\", \"2020-05-28\", \"2020-05-29\", \"2020-05-30\", \"2020-05-31\", \"2020-06-01\", \"2020-06-02\", \"2020-06-03\"], \"y\": [0.0, 0.0, 0.0, 0.0, 0.0, 0.0, 0.0, 0.0, 1.0, 2.0, 2.0, 3.0, 2.0, 2.0, 1.0, 0.0, 0.0, 0.0, 0.0, 0.0, 0.0, 0.0, 0.0, 0.0, 0.0, 0.0, 0.0, 2.0, 7.0, 12.0, 17.0, 20.0, 22.0, 21.0, 17.0, 11.0, 2.0, 0.0, 0.0, 0.0, 0.0, 0.0, 0.0, 0.0, 0.0, 0.0, 0.0, 0.0, 19.0, 54.0, 91.0, 128.0, 162.0, 191.0, 211.0, 222.0, 223.0, 215.0, 200.0, 181.0, 164.0, 155.0, 160.0, 187.0, 242.0, 332.0, 460.0, 631.0, 843.0, 1096.0, 1385.0, 1704.0, 2043.0, 2394.0, 2746.0, 3089.0, 3416.0, 3719.0, 3995.0, 4244.0, 4468.0, 4673.0, 4868.0, 5064.0, 5272.0, 5504.0, 5772.0, 6085.0, 6447.0, 6861.0, 7325.0, 7830.0, 8367.0, 8918.0, 9468.0, 9996.0, 10483.0, 10909.0, 11260.0, 11520.0, 11683.0, 11745.0, 11706.0, 11575.0, 11361.0, 11080.0, 10749.0, 10386.0, 10012.0, 9644.0, 9298.0, 8988.0, 8724.0, 8513.0, 8355.0, 8252.0, 8198.0, 8187.0, 8211.0, 8260.0, 8326.0, 8400.0, 8473.0, 8541.0, 8598.0, 8641.0, 8669.0, 8683.0, 8684.0, 8674.0, 8656.0, 8633.0, 8608.0, 8584.0, 8561.0, 8543.0, 8530.0, 8522.0, 8519.0, 8520.0, 8525.0, 8532.0, 8541.0, 8550.0, 8558.0, 8566.0, 8571.0, 8575.0, 8577.0, 8577.0, 8576.0, 8573.0, 8571.0, 8568.0, 8565.0, 8564.0, 8563.0, 8563.0, 8563.0, 8564.0, 8565.0, 8567.0, 8567.0, 8568.0, 8567.0, 8565.0, 8562.0, 8559.0, 8555.0, 8551.0, 8548.0, 8546.0, 8546.0, 8547.0, 8551.0, 8557.0, 8565.0, 8574.0, 8584.0, 8594.0, 8601.0, 8606.0, 8608.0, 8604.0, 8596.0, 8583.0, 8566.0, 8546.0, 8524.0, 8504.0, 8487.0, 8476.0, 8473.0, 8480.0, 8497.0, 8525.0, 8562.0, 8606.0, 8652.0, 8697.0, 8735.0, 8760.0, 8769.0, 8757.0, 8722.0, 8664.0, 8587.0, 8495.0, 8397.0, 8301.0, 8221.0, 8166.0, 8148.0, 8176.0, 8254.0, 8383.0, 8557.0, 8765.0, 8990.0, 9208.0, 9391.0, 9510.0, 9534.0, 9433.0, 9181.0, 8760.0, 8159.0, 7375.0, 6417.0, 5301.0, 4055.0, 2712.0, 1310.0, 0.0]}, {\"name\": \"Inf\", \"type\": \"scatter\", \"x\": [\"2020-01-22\", \"2020-01-23\", \"2020-01-24\", \"2020-01-25\", \"2020-01-26\", \"2020-01-27\", \"2020-01-28\", \"2020-01-29\", \"2020-01-30\", \"2020-01-31\", \"2020-02-01\", \"2020-02-02\", \"2020-02-03\", \"2020-02-04\", \"2020-02-05\", \"2020-02-06\", \"2020-02-07\", \"2020-02-08\", \"2020-02-09\", \"2020-02-10\", \"2020-02-11\", \"2020-02-12\", \"2020-02-13\", \"2020-02-14\", \"2020-02-15\", \"2020-02-16\", \"2020-02-17\", \"2020-02-18\", \"2020-02-19\", \"2020-02-20\", \"2020-02-21\", \"2020-02-22\", \"2020-02-23\", \"2020-02-24\", \"2020-02-25\", \"2020-02-26\", \"2020-02-27\", \"2020-02-28\", \"2020-02-29\", \"2020-03-01\", \"2020-03-02\", \"2020-03-03\", \"2020-03-04\", \"2020-03-05\", \"2020-03-06\", \"2020-03-07\", \"2020-03-08\", \"2020-03-09\", \"2020-03-10\", \"2020-03-11\", \"2020-03-12\", \"2020-03-13\", \"2020-03-14\", \"2020-03-15\", \"2020-03-16\", \"2020-03-17\", \"2020-03-18\", \"2020-03-19\", \"2020-03-20\", \"2020-03-21\", \"2020-03-22\", \"2020-03-23\", \"2020-03-24\", \"2020-03-25\", \"2020-03-26\", \"2020-03-27\", \"2020-03-28\", \"2020-03-29\", \"2020-03-30\", \"2020-03-31\", \"2020-04-01\", \"2020-04-02\", \"2020-04-03\", \"2020-04-04\", \"2020-04-05\", \"2020-04-06\", \"2020-04-07\", \"2020-04-08\", \"2020-04-09\", \"2020-04-10\", \"2020-04-11\", \"2020-04-12\", \"2020-04-13\", \"2020-04-14\", \"2020-04-15\", \"2020-04-16\", \"2020-04-17\", \"2020-04-18\", \"2020-04-19\", \"2020-04-20\", \"2020-04-21\", \"2020-04-22\", \"2020-04-23\", \"2020-04-24\", \"2020-04-25\", \"2020-04-26\", \"2020-04-27\", \"2020-04-28\", \"2020-04-29\", \"2020-04-30\", \"2020-05-01\", \"2020-05-02\", \"2020-05-03\", \"2020-05-04\", \"2020-05-05\", \"2020-05-06\", \"2020-05-07\", \"2020-05-08\", \"2020-05-09\", \"2020-05-10\", \"2020-05-11\", \"2020-05-12\", \"2020-05-13\", \"2020-05-14\", \"2020-05-15\", \"2020-05-16\", \"2020-05-17\", \"2020-05-18\", \"2020-05-19\", \"2020-05-20\", \"2020-05-21\", \"2020-05-22\", \"2020-05-23\", \"2020-05-24\", \"2020-05-25\", \"2020-05-26\", \"2020-05-27\", \"2020-05-28\", \"2020-05-29\", \"2020-05-30\", \"2020-05-31\", \"2020-06-01\", \"2020-06-02\", \"2020-06-03\"], \"y\": [0, 0, 0, 0, 0, 0, 0, 0, 0, 2, 2, 2, 2, 2, 2, 2, 2, 2, 2, 2, 2, 0, 0, 0, 0, 0, 0, 0, 0, 0, 0, 0, 0, 0, 0, 0, 0, 0, 0, 0, 1, 1, 1, 2, 11, 11, 14, 14, 17, 17, 25, 42, 51, 55, 82, 106, 139, 189, 243, 293, 350, 421, 472, 626, 799, 987, 1211, 1462, 1761, 2199, 2563, 3283, 3834, 4355, 4989, 5890, 6945, 8029, 9357, 11028, 12433, 14349, 16710, 19238, 22306, 25402, 29145, 33423, 39201, 43270, 48434, 53066, 57327, 62439, 67657, 73435, 79007, 84235, 88141, 93806, 100042, 107819, 116768, 125817, 134054, 143065, 151732, 159528, 164933, 173467, 179534, 186615, 192056, 196410, 202199, 206340, 211748, 217747, 220974, 220341, 221774, 223374, 224558, 227641, 230996, 227406, 224504, 223916, 223992, 224551, 229267, 233965, 231553, 230948]}],\n",
              "                        {\"template\": {\"data\": {\"bar\": [{\"error_x\": {\"color\": \"#2a3f5f\"}, \"error_y\": {\"color\": \"#2a3f5f\"}, \"marker\": {\"line\": {\"color\": \"#E5ECF6\", \"width\": 0.5}}, \"type\": \"bar\"}], \"barpolar\": [{\"marker\": {\"line\": {\"color\": \"#E5ECF6\", \"width\": 0.5}}, \"type\": \"barpolar\"}], \"carpet\": [{\"aaxis\": {\"endlinecolor\": \"#2a3f5f\", \"gridcolor\": \"white\", \"linecolor\": \"white\", \"minorgridcolor\": \"white\", \"startlinecolor\": \"#2a3f5f\"}, \"baxis\": {\"endlinecolor\": \"#2a3f5f\", \"gridcolor\": \"white\", \"linecolor\": \"white\", \"minorgridcolor\": \"white\", \"startlinecolor\": \"#2a3f5f\"}, \"type\": \"carpet\"}], \"choropleth\": [{\"colorbar\": {\"outlinewidth\": 0, \"ticks\": \"\"}, \"type\": \"choropleth\"}], \"contour\": [{\"colorbar\": {\"outlinewidth\": 0, \"ticks\": \"\"}, \"colorscale\": [[0.0, \"#0d0887\"], [0.1111111111111111, \"#46039f\"], [0.2222222222222222, \"#7201a8\"], [0.3333333333333333, \"#9c179e\"], [0.4444444444444444, \"#bd3786\"], [0.5555555555555556, \"#d8576b\"], [0.6666666666666666, \"#ed7953\"], [0.7777777777777778, \"#fb9f3a\"], [0.8888888888888888, \"#fdca26\"], [1.0, \"#f0f921\"]], \"type\": \"contour\"}], \"contourcarpet\": [{\"colorbar\": {\"outlinewidth\": 0, \"ticks\": \"\"}, \"type\": \"contourcarpet\"}], \"heatmap\": [{\"colorbar\": {\"outlinewidth\": 0, \"ticks\": \"\"}, \"colorscale\": [[0.0, \"#0d0887\"], [0.1111111111111111, \"#46039f\"], [0.2222222222222222, \"#7201a8\"], [0.3333333333333333, \"#9c179e\"], [0.4444444444444444, \"#bd3786\"], [0.5555555555555556, \"#d8576b\"], [0.6666666666666666, \"#ed7953\"], [0.7777777777777778, \"#fb9f3a\"], [0.8888888888888888, \"#fdca26\"], [1.0, \"#f0f921\"]], \"type\": \"heatmap\"}], \"heatmapgl\": [{\"colorbar\": {\"outlinewidth\": 0, \"ticks\": \"\"}, \"colorscale\": [[0.0, \"#0d0887\"], [0.1111111111111111, \"#46039f\"], [0.2222222222222222, \"#7201a8\"], [0.3333333333333333, \"#9c179e\"], [0.4444444444444444, \"#bd3786\"], [0.5555555555555556, \"#d8576b\"], [0.6666666666666666, \"#ed7953\"], [0.7777777777777778, \"#fb9f3a\"], [0.8888888888888888, \"#fdca26\"], [1.0, \"#f0f921\"]], \"type\": \"heatmapgl\"}], \"histogram\": [{\"marker\": {\"colorbar\": {\"outlinewidth\": 0, \"ticks\": \"\"}}, \"type\": \"histogram\"}], \"histogram2d\": [{\"colorbar\": {\"outlinewidth\": 0, \"ticks\": \"\"}, \"colorscale\": [[0.0, \"#0d0887\"], [0.1111111111111111, \"#46039f\"], [0.2222222222222222, \"#7201a8\"], [0.3333333333333333, \"#9c179e\"], [0.4444444444444444, \"#bd3786\"], [0.5555555555555556, \"#d8576b\"], [0.6666666666666666, \"#ed7953\"], [0.7777777777777778, \"#fb9f3a\"], [0.8888888888888888, \"#fdca26\"], [1.0, \"#f0f921\"]], \"type\": \"histogram2d\"}], \"histogram2dcontour\": [{\"colorbar\": {\"outlinewidth\": 0, \"ticks\": \"\"}, \"colorscale\": [[0.0, \"#0d0887\"], [0.1111111111111111, \"#46039f\"], [0.2222222222222222, \"#7201a8\"], [0.3333333333333333, \"#9c179e\"], [0.4444444444444444, \"#bd3786\"], [0.5555555555555556, \"#d8576b\"], [0.6666666666666666, \"#ed7953\"], [0.7777777777777778, \"#fb9f3a\"], [0.8888888888888888, \"#fdca26\"], [1.0, \"#f0f921\"]], \"type\": \"histogram2dcontour\"}], \"mesh3d\": [{\"colorbar\": {\"outlinewidth\": 0, \"ticks\": \"\"}, \"type\": \"mesh3d\"}], \"parcoords\": [{\"line\": {\"colorbar\": {\"outlinewidth\": 0, \"ticks\": \"\"}}, \"type\": \"parcoords\"}], \"pie\": [{\"automargin\": true, \"type\": \"pie\"}], \"scatter\": [{\"marker\": {\"colorbar\": {\"outlinewidth\": 0, \"ticks\": \"\"}}, \"type\": \"scatter\"}], \"scatter3d\": [{\"line\": {\"colorbar\": {\"outlinewidth\": 0, \"ticks\": \"\"}}, \"marker\": {\"colorbar\": {\"outlinewidth\": 0, \"ticks\": \"\"}}, \"type\": \"scatter3d\"}], \"scattercarpet\": [{\"marker\": {\"colorbar\": {\"outlinewidth\": 0, \"ticks\": \"\"}}, \"type\": \"scattercarpet\"}], \"scattergeo\": [{\"marker\": {\"colorbar\": {\"outlinewidth\": 0, \"ticks\": \"\"}}, \"type\": \"scattergeo\"}], \"scattergl\": [{\"marker\": {\"colorbar\": {\"outlinewidth\": 0, \"ticks\": \"\"}}, \"type\": \"scattergl\"}], \"scattermapbox\": [{\"marker\": {\"colorbar\": {\"outlinewidth\": 0, \"ticks\": \"\"}}, \"type\": \"scattermapbox\"}], \"scatterpolar\": [{\"marker\": {\"colorbar\": {\"outlinewidth\": 0, \"ticks\": \"\"}}, \"type\": \"scatterpolar\"}], \"scatterpolargl\": [{\"marker\": {\"colorbar\": {\"outlinewidth\": 0, \"ticks\": \"\"}}, \"type\": \"scatterpolargl\"}], \"scatterternary\": [{\"marker\": {\"colorbar\": {\"outlinewidth\": 0, \"ticks\": \"\"}}, \"type\": \"scatterternary\"}], \"surface\": [{\"colorbar\": {\"outlinewidth\": 0, \"ticks\": \"\"}, \"colorscale\": [[0.0, \"#0d0887\"], [0.1111111111111111, \"#46039f\"], [0.2222222222222222, \"#7201a8\"], [0.3333333333333333, \"#9c179e\"], [0.4444444444444444, \"#bd3786\"], [0.5555555555555556, \"#d8576b\"], [0.6666666666666666, \"#ed7953\"], [0.7777777777777778, \"#fb9f3a\"], [0.8888888888888888, \"#fdca26\"], [1.0, \"#f0f921\"]], \"type\": \"surface\"}], \"table\": [{\"cells\": {\"fill\": {\"color\": \"#EBF0F8\"}, \"line\": {\"color\": \"white\"}}, \"header\": {\"fill\": {\"color\": \"#C8D4E3\"}, \"line\": {\"color\": \"white\"}}, \"type\": \"table\"}]}, \"layout\": {\"annotationdefaults\": {\"arrowcolor\": \"#2a3f5f\", \"arrowhead\": 0, \"arrowwidth\": 1}, \"coloraxis\": {\"colorbar\": {\"outlinewidth\": 0, \"ticks\": \"\"}}, \"colorscale\": {\"diverging\": [[0, \"#8e0152\"], [0.1, \"#c51b7d\"], [0.2, \"#de77ae\"], [0.3, \"#f1b6da\"], [0.4, \"#fde0ef\"], [0.5, \"#f7f7f7\"], [0.6, \"#e6f5d0\"], [0.7, \"#b8e186\"], [0.8, \"#7fbc41\"], [0.9, \"#4d9221\"], [1, \"#276419\"]], \"sequential\": [[0.0, \"#0d0887\"], [0.1111111111111111, \"#46039f\"], [0.2222222222222222, \"#7201a8\"], [0.3333333333333333, \"#9c179e\"], [0.4444444444444444, \"#bd3786\"], [0.5555555555555556, \"#d8576b\"], [0.6666666666666666, \"#ed7953\"], [0.7777777777777778, \"#fb9f3a\"], [0.8888888888888888, \"#fdca26\"], [1.0, \"#f0f921\"]], \"sequentialminus\": [[0.0, \"#0d0887\"], [0.1111111111111111, \"#46039f\"], [0.2222222222222222, \"#7201a8\"], [0.3333333333333333, \"#9c179e\"], [0.4444444444444444, \"#bd3786\"], [0.5555555555555556, \"#d8576b\"], [0.6666666666666666, \"#ed7953\"], [0.7777777777777778, \"#fb9f3a\"], [0.8888888888888888, \"#fdca26\"], [1.0, \"#f0f921\"]]}, \"colorway\": [\"#636efa\", \"#EF553B\", \"#00cc96\", \"#ab63fa\", \"#FFA15A\", \"#19d3f3\", \"#FF6692\", \"#B6E880\", \"#FF97FF\", \"#FECB52\"], \"font\": {\"color\": \"#2a3f5f\"}, \"geo\": {\"bgcolor\": \"white\", \"lakecolor\": \"white\", \"landcolor\": \"#E5ECF6\", \"showlakes\": true, \"showland\": true, \"subunitcolor\": \"white\"}, \"hoverlabel\": {\"align\": \"left\"}, \"hovermode\": \"closest\", \"mapbox\": {\"style\": \"light\"}, \"paper_bgcolor\": \"white\", \"plot_bgcolor\": \"#E5ECF6\", \"polar\": {\"angularaxis\": {\"gridcolor\": \"white\", \"linecolor\": \"white\", \"ticks\": \"\"}, \"bgcolor\": \"#E5ECF6\", \"radialaxis\": {\"gridcolor\": \"white\", \"linecolor\": \"white\", \"ticks\": \"\"}}, \"scene\": {\"xaxis\": {\"backgroundcolor\": \"#E5ECF6\", \"gridcolor\": \"white\", \"gridwidth\": 2, \"linecolor\": \"white\", \"showbackground\": true, \"ticks\": \"\", \"zerolinecolor\": \"white\"}, \"yaxis\": {\"backgroundcolor\": \"#E5ECF6\", \"gridcolor\": \"white\", \"gridwidth\": 2, \"linecolor\": \"white\", \"showbackground\": true, \"ticks\": \"\", \"zerolinecolor\": \"white\"}, \"zaxis\": {\"backgroundcolor\": \"#E5ECF6\", \"gridcolor\": \"white\", \"gridwidth\": 2, \"linecolor\": \"white\", \"showbackground\": true, \"ticks\": \"\", \"zerolinecolor\": \"white\"}}, \"shapedefaults\": {\"line\": {\"color\": \"#2a3f5f\"}}, \"ternary\": {\"aaxis\": {\"gridcolor\": \"white\", \"linecolor\": \"white\", \"ticks\": \"\"}, \"baxis\": {\"gridcolor\": \"white\", \"linecolor\": \"white\", \"ticks\": \"\"}, \"bgcolor\": \"#E5ECF6\", \"caxis\": {\"gridcolor\": \"white\", \"linecolor\": \"white\", \"ticks\": \"\"}}, \"title\": {\"x\": 0.05}, \"xaxis\": {\"automargin\": true, \"gridcolor\": \"white\", \"linecolor\": \"white\", \"ticks\": \"\", \"title\": {\"standoff\": 15}, \"zerolinecolor\": \"white\", \"zerolinewidth\": 2}, \"yaxis\": {\"automargin\": true, \"gridcolor\": \"white\", \"linecolor\": \"white\", \"ticks\": \"\", \"title\": {\"standoff\": 15}, \"zerolinecolor\": \"white\", \"zerolinewidth\": 2}}}, \"title\": {\"text\": \"$\\\\text{Russia: R }$\", \"x\": 0.5, \"xanchor\": \"center\"}, \"xaxis\": {\"title\": {\"text\": \"Day\"}}, \"yaxis\": {\"title\": {\"text\": \"R\"}}},\n",
              "                        {\"responsive\": true}\n",
              "                    ).then(function(){\n",
              "                            \n",
              "var gd = document.getElementById('53e4bcd0-4d64-42bc-bcb2-1ae263d982ff');\n",
              "var x = new MutationObserver(function (mutations, observer) {{\n",
              "        var display = window.getComputedStyle(gd).display;\n",
              "        if (!display || display === 'none') {{\n",
              "            console.log([gd, 'removed!']);\n",
              "            Plotly.purge(gd);\n",
              "            observer.disconnect();\n",
              "        }}\n",
              "}});\n",
              "\n",
              "// Listen for the removal of the full notebook cells\n",
              "var notebookContainer = gd.closest('#notebook-container');\n",
              "if (notebookContainer) {{\n",
              "    x.observe(notebookContainer, {childList: true});\n",
              "}}\n",
              "\n",
              "// Listen for the clearing of the current output cell\n",
              "var outputEl = gd.closest('.output');\n",
              "if (outputEl) {{\n",
              "    x.observe(outputEl, {childList: true});\n",
              "}}\n",
              "\n",
              "                        })\n",
              "                };\n",
              "                \n",
              "            </script>\n",
              "        </div>\n",
              "</body>\n",
              "</html>"
            ]
          },
          "metadata": {
            "tags": []
          }
        }
      ]
    },
    {
      "cell_type": "markdown",
      "metadata": {
        "colab_type": "text",
        "id": "ewsSRQXFluuy"
      },
      "source": [
        "We can see $R<1$ since May 12th."
      ]
    },
    {
      "cell_type": "markdown",
      "metadata": {
        "colab_type": "text",
        "id": "7vK3Wz7JfYcE"
      },
      "source": [
        "### South Korea\n",
        "\n",
        "* We have daily data $I_{pd}$ and $R_{pd}$ (where $R_{pd}$ is the sum of deaths and recoveries)\n",
        "* We have our assumed $T_L$ and $T_I$\n",
        "\n",
        "Analysis steps:\n",
        "1. The first thing we want to check is whether $h_I\\circledast I_{pd} [j]$ gives us something close to $R_{pd}$ If not, why not?\n",
        "2. Can we get an estimated $E_{pd}$ by deconvolution of $I_{pd}$ ?\n",
        "3. What can that tell us about $R$ and $\\beta$ ?"
      ]
    },
    {
      "cell_type": "markdown",
      "metadata": {
        "colab_type": "text",
        "id": "v-tRqaO5fYcG"
      },
      "source": [
        "#### 1. Checking $h_I$"
      ]
    },
    {
      "cell_type": "code",
      "metadata": {
        "colab_type": "code",
        "outputId": "30d68197-137f-4ddc-ceee-386834608d1c",
        "id": "PTKg7STDfYcH",
        "colab": {
          "base_uri": "https://localhost:8080/",
          "height": 542
        }
      },
      "source": [
        "#collapse_hide\n",
        "fig = go.Figure(data=[    \n",
        "    go.Bar(name='Ipd', x=conf_df_pd.loc['Korea, Republic of'].index, y=conf_df_pd.loc['Korea, Republic of']),\n",
        "    go.Scatter(name='Ipd=lowpass(Ipd)', x=conf_df_pd.loc['Korea, Republic of'].index, y=lowpass(conf_df_pd.loc['Korea, Republic of']+deaths_df_pd.loc['Korea, Republic of'])[0]),\n",
        "    go.Bar(name='Rpd', x=rec_df_pd.loc['Korea, Republic of'].index, y=rec_df_pd.loc['Korea, Republic of']),\n",
        "    go.Scatter(name='Rpd=lowpass(Rpd)', x=rec_df_pd.loc['Korea, Republic of'].index, y=lowpass(rec_df_pd.loc['Korea, Republic of'])[0]),\n",
        "    go.Scatter(name='Rpd=conv(Ipd)', x=conf_df_pd.loc['Korea, Republic of'].index, y=signal.fftconvolve(h_I, conf_df_pd.loc['Korea, Republic of']+deaths_df_pd.loc['Korea, Republic of'], mode='full'))\n",
        "])\n",
        "\n",
        "fig.update_layout(\n",
        "    xaxis_title = 'Day',\n",
        "    yaxis_title = 'Count',\n",
        "    title={\n",
        "        'text':r'$\\text{Korea, Republic of: Actual } R_{pd} \\text{ vs. } h_I[j]\\circledast I_{pd}[j]$',\n",
        "        'x':0.5,\n",
        "        'xanchor':'center'\n",
        "    }\n",
        ")\n",
        "\n",
        "fig.show()"
      ],
      "execution_count": 240,
      "outputs": [
        {
          "output_type": "display_data",
          "data": {
            "text/html": [
              "<html>\n",
              "<head><meta charset=\"utf-8\" /></head>\n",
              "<body>\n",
              "    <div>\n",
              "            <script src=\"https://cdnjs.cloudflare.com/ajax/libs/mathjax/2.7.5/MathJax.js?config=TeX-AMS-MML_SVG\"></script><script type=\"text/javascript\">if (window.MathJax) {MathJax.Hub.Config({SVG: {font: \"STIX-Web\"}});}</script>\n",
              "                <script type=\"text/javascript\">window.PlotlyConfig = {MathJaxConfig: 'local'};</script>\n",
              "        <script src=\"https://cdn.plot.ly/plotly-latest.min.js\"></script>    \n",
              "            <div id=\"00c59966-3b4a-45bf-b4d6-e83612e3b567\" class=\"plotly-graph-div\" style=\"height:525px; width:100%;\"></div>\n",
              "            <script type=\"text/javascript\">\n",
              "                \n",
              "                    window.PLOTLYENV=window.PLOTLYENV || {};\n",
              "                    \n",
              "                if (document.getElementById(\"00c59966-3b4a-45bf-b4d6-e83612e3b567\")) {\n",
              "                    Plotly.newPlot(\n",
              "                        '00c59966-3b4a-45bf-b4d6-e83612e3b567',\n",
              "                        [{\"name\": \"Ipd\", \"type\": \"bar\", \"x\": [\"2020-01-22\", \"2020-01-23\", \"2020-01-24\", \"2020-01-25\", \"2020-01-26\", \"2020-01-27\", \"2020-01-28\", \"2020-01-29\", \"2020-01-30\", \"2020-01-31\", \"2020-02-01\", \"2020-02-02\", \"2020-02-03\", \"2020-02-04\", \"2020-02-05\", \"2020-02-06\", \"2020-02-07\", \"2020-02-08\", \"2020-02-09\", \"2020-02-10\", \"2020-02-11\", \"2020-02-12\", \"2020-02-13\", \"2020-02-14\", \"2020-02-15\", \"2020-02-16\", \"2020-02-17\", \"2020-02-18\", \"2020-02-19\", \"2020-02-20\", \"2020-02-21\", \"2020-02-22\", \"2020-02-23\", \"2020-02-24\", \"2020-02-25\", \"2020-02-26\", \"2020-02-27\", \"2020-02-28\", \"2020-02-29\", \"2020-03-01\", \"2020-03-02\", \"2020-03-03\", \"2020-03-04\", \"2020-03-05\", \"2020-03-06\", \"2020-03-07\", \"2020-03-08\", \"2020-03-09\", \"2020-03-10\", \"2020-03-11\", \"2020-03-12\", \"2020-03-13\", \"2020-03-14\", \"2020-03-15\", \"2020-03-16\", \"2020-03-17\", \"2020-03-18\", \"2020-03-19\", \"2020-03-20\", \"2020-03-21\", \"2020-03-22\", \"2020-03-23\", \"2020-03-24\", \"2020-03-25\", \"2020-03-26\", \"2020-03-27\", \"2020-03-28\", \"2020-03-29\", \"2020-03-30\", \"2020-03-31\", \"2020-04-01\", \"2020-04-02\", \"2020-04-03\", \"2020-04-04\", \"2020-04-05\", \"2020-04-06\", \"2020-04-07\", \"2020-04-08\", \"2020-04-09\", \"2020-04-10\", \"2020-04-11\", \"2020-04-12\", \"2020-04-13\", \"2020-04-14\", \"2020-04-15\", \"2020-04-16\", \"2020-04-17\", \"2020-04-18\", \"2020-04-19\", \"2020-04-20\", \"2020-04-21\", \"2020-04-22\", \"2020-04-23\", \"2020-04-24\", \"2020-04-25\", \"2020-04-26\", \"2020-04-27\", \"2020-04-28\", \"2020-04-29\", \"2020-04-30\", \"2020-05-01\", \"2020-05-02\", \"2020-05-03\", \"2020-05-04\", \"2020-05-05\", \"2020-05-06\", \"2020-05-07\", \"2020-05-08\", \"2020-05-09\", \"2020-05-10\", \"2020-05-11\", \"2020-05-12\", \"2020-05-13\", \"2020-05-14\", \"2020-05-15\", \"2020-05-16\", \"2020-05-17\", \"2020-05-18\", \"2020-05-19\", \"2020-05-20\", \"2020-05-21\", \"2020-05-22\", \"2020-05-23\", \"2020-05-24\", \"2020-05-25\", \"2020-05-26\", \"2020-05-27\", \"2020-05-28\", \"2020-05-29\", \"2020-05-30\", \"2020-05-31\", \"2020-06-01\", \"2020-06-02\", \"2020-06-03\"], \"y\": [0.0, 0.0, 1.0, 0.0, 1.0, 1.0, 0.0, 0.0, 0.0, 7.0, 1.0, 3.0, 0.0, 1.0, 3.0, 4.0, 1.0, 0.0, 1.0, 2.0, 1.0, 0.0, 0.0, 0.0, 0.0, 1.0, 1.0, 1.0, 0.0, 73.0, 100.0, 229.0, 169.0, 231.0, 144.0, 284.0, 505.0, 571.0, 813.0, 586.0, 599.0, 851.0, 435.0, 467.0, 505.0, 448.0, 273.0, 164.0, 35.0, 242.0, 114.0, 110.0, 107.0, 76.0, 74.0, 84.0, 93.0, 152.0, 87.0, 147.0, 162.0, 0.0, 76.0, 100.0, 104.0, 91.0, 146.0, 105.0, 78.0, 125.0, 101.0, 89.0, 86.0, 94.0, 81.0, 47.0, 47.0, 53.0, 39.0, 27.0, 30.0, 32.0, 25.0, 27.0, 27.0, 22.0, 22.0, 18.0, 8.0, 13.0, 9.0, 11.0, 14.0, 10.0, 10.0, 10.0, 14.0, 9.0, 4.0, 9.0, 6.0, 13.0, 8.0, 3.0, 2.0, 4.0, 12.0, 18.0, 34.0, 35.0, 27.0, 26.0, 29.0, 27.0, 19.0, 13.0, 15.0, 13.0, 32.0, 12.0, 20.0, 23.0, 25.0, 16.0, 19.0, 40.0, 79.0, 58.0, 39.0, 27.0, 35.0, 38.0, 49.0, 39.0]}, {\"name\": \"Ipd=lowpass(Ipd)\", \"type\": \"scatter\", \"x\": [\"2020-01-22\", \"2020-01-23\", \"2020-01-24\", \"2020-01-25\", \"2020-01-26\", \"2020-01-27\", \"2020-01-28\", \"2020-01-29\", \"2020-01-30\", \"2020-01-31\", \"2020-02-01\", \"2020-02-02\", \"2020-02-03\", \"2020-02-04\", \"2020-02-05\", \"2020-02-06\", \"2020-02-07\", \"2020-02-08\", \"2020-02-09\", \"2020-02-10\", \"2020-02-11\", \"2020-02-12\", \"2020-02-13\", \"2020-02-14\", \"2020-02-15\", \"2020-02-16\", \"2020-02-17\", \"2020-02-18\", \"2020-02-19\", \"2020-02-20\", \"2020-02-21\", \"2020-02-22\", \"2020-02-23\", \"2020-02-24\", \"2020-02-25\", \"2020-02-26\", \"2020-02-27\", \"2020-02-28\", \"2020-02-29\", \"2020-03-01\", \"2020-03-02\", \"2020-03-03\", \"2020-03-04\", \"2020-03-05\", \"2020-03-06\", \"2020-03-07\", \"2020-03-08\", \"2020-03-09\", \"2020-03-10\", \"2020-03-11\", \"2020-03-12\", \"2020-03-13\", \"2020-03-14\", \"2020-03-15\", \"2020-03-16\", \"2020-03-17\", \"2020-03-18\", \"2020-03-19\", \"2020-03-20\", \"2020-03-21\", \"2020-03-22\", \"2020-03-23\", \"2020-03-24\", \"2020-03-25\", \"2020-03-26\", \"2020-03-27\", \"2020-03-28\", \"2020-03-29\", \"2020-03-30\", \"2020-03-31\", \"2020-04-01\", \"2020-04-02\", \"2020-04-03\", \"2020-04-04\", \"2020-04-05\", \"2020-04-06\", \"2020-04-07\", \"2020-04-08\", \"2020-04-09\", \"2020-04-10\", \"2020-04-11\", \"2020-04-12\", \"2020-04-13\", \"2020-04-14\", \"2020-04-15\", \"2020-04-16\", \"2020-04-17\", \"2020-04-18\", \"2020-04-19\", \"2020-04-20\", \"2020-04-21\", \"2020-04-22\", \"2020-04-23\", \"2020-04-24\", \"2020-04-25\", \"2020-04-26\", \"2020-04-27\", \"2020-04-28\", \"2020-04-29\", \"2020-04-30\", \"2020-05-01\", \"2020-05-02\", \"2020-05-03\", \"2020-05-04\", \"2020-05-05\", \"2020-05-06\", \"2020-05-07\", \"2020-05-08\", \"2020-05-09\", \"2020-05-10\", \"2020-05-11\", \"2020-05-12\", \"2020-05-13\", \"2020-05-14\", \"2020-05-15\", \"2020-05-16\", \"2020-05-17\", \"2020-05-18\", \"2020-05-19\", \"2020-05-20\", \"2020-05-21\", \"2020-05-22\", \"2020-05-23\", \"2020-05-24\", \"2020-05-25\", \"2020-05-26\", \"2020-05-27\", \"2020-05-28\", \"2020-05-29\", \"2020-05-30\", \"2020-05-31\", \"2020-06-01\", \"2020-06-02\", \"2020-06-03\"], \"y\": [-3.6594374241157652, -4.3810092193173125, -4.805843381812647, -4.80299831001226, -4.260966403238043, -3.1043463936068294, -1.3100612159058567, 1.0787280062650204, 3.942999523160998, 7.084486183527962, 10.230223460483693, 13.046252146639612, 15.161007807098667, 16.19804827340489, 15.816746953319019, 13.758489010363496, 9.894852428671669, 4.273359250133339, -2.844227590556853, -10.95628976845131, -19.31334861085874, -26.931729496614686, -32.63150865924269, -35.099380479593805, -32.97470337007148, -24.954391226483402, -9.909768945083322, 12.99370201167705, 44.18449713863907, 83.59224220789812, 130.5849945768957, 183.94596858342126, 241.8964602741797, 302.16818717028985, 362.1239710689056, 418.9208486313362, 469.7046125558882, 511.82004518550025, 543.0175687496151, 561.6356326441829, 566.7395096550307, 558.2012937934558, 536.7121739923115, 503.72550618025286, 461.3367230090457, 412.11270347735694, 358.8881078794356, 304.5489111588998, 251.8237564417444, 203.10182618688106, 160.2919701405278, 124.73244889145997, 97.1547131034789, 77.69900167840473, 65.97483476013923, 61.15604333755636, 62.09795319608547, 67.46373948704885, 75.84771066038716, 85.88519179111937, 96.3414679260107, 106.17551627943585, 114.57752933610688, 120.98204603667436, 125.06052115857696, 126.69824655699199, 125.9607932459304, 123.05480410234907, 118.28727533346506, 112.02660250492569, 104.66775101521623, 96.60302071916908, 88.19907678962264, 79.78027149666806, 71.61781969254125, 63.924118925550786, 56.85139769980636, 50.49388191102439, 44.89272942593112, 40.04304909322535, 35.90237181433084, 32.39997471846579, 29.446480478772784, 26.943175568025087, 24.790533846189476, 22.895513000752487, 21.177315525003834, 19.571460570009855, 18.032172270311985, 16.533223343508965, 15.067455129492634, 13.64521726029149, 12.291941419393527, 11.045008862103776, 9.95002039315419, 9.05655464626988, 8.413518165718934, 8.064248805470626, 8.041621877520942, 8.36350724676031, 9.029009812967999, 10.015969512255907, 11.280180425449318, 12.756701058700628, 14.363464998317902, 16.00716374591488, 17.591073485957004, 19.024167787260666, 20.23055694361786, 21.15809530318636, 21.784966597761887, 22.123226801119866, 22.218638619634213, 22.14661132790189, 22.004581041440407, 21.901646006751147, 21.946638701141847, 22.23602140547934, 22.843011700977378, 23.80918811135629, 25.139528870841275, 26.80144392204525, 28.727914059873562, 30.824389091523713, 32.978657525850906, 35.07252846858985, 36.99391578805465, 38.64784501165085, 39.96506105360527, 40.90729567163738, 41.46877960290476, 41.674128167649926, 41.57317559381007, 41.233627327980706]}, {\"name\": \"Rpd\", \"type\": \"bar\", \"x\": [\"2020-01-22\", \"2020-01-23\", \"2020-01-24\", \"2020-01-25\", \"2020-01-26\", \"2020-01-27\", \"2020-01-28\", \"2020-01-29\", \"2020-01-30\", \"2020-01-31\", \"2020-02-01\", \"2020-02-02\", \"2020-02-03\", \"2020-02-04\", \"2020-02-05\", \"2020-02-06\", \"2020-02-07\", \"2020-02-08\", \"2020-02-09\", \"2020-02-10\", \"2020-02-11\", \"2020-02-12\", \"2020-02-13\", \"2020-02-14\", \"2020-02-15\", \"2020-02-16\", \"2020-02-17\", \"2020-02-18\", \"2020-02-19\", \"2020-02-20\", \"2020-02-21\", \"2020-02-22\", \"2020-02-23\", \"2020-02-24\", \"2020-02-25\", \"2020-02-26\", \"2020-02-27\", \"2020-02-28\", \"2020-02-29\", \"2020-03-01\", \"2020-03-02\", \"2020-03-03\", \"2020-03-04\", \"2020-03-05\", \"2020-03-06\", \"2020-03-07\", \"2020-03-08\", \"2020-03-09\", \"2020-03-10\", \"2020-03-11\", \"2020-03-12\", \"2020-03-13\", \"2020-03-14\", \"2020-03-15\", \"2020-03-16\", \"2020-03-17\", \"2020-03-18\", \"2020-03-19\", \"2020-03-20\", \"2020-03-21\", \"2020-03-22\", \"2020-03-23\", \"2020-03-24\", \"2020-03-25\", \"2020-03-26\", \"2020-03-27\", \"2020-03-28\", \"2020-03-29\", \"2020-03-30\", \"2020-03-31\", \"2020-04-01\", \"2020-04-02\", \"2020-04-03\", \"2020-04-04\", \"2020-04-05\", \"2020-04-06\", \"2020-04-07\", \"2020-04-08\", \"2020-04-09\", \"2020-04-10\", \"2020-04-11\", \"2020-04-12\", \"2020-04-13\", \"2020-04-14\", \"2020-04-15\", \"2020-04-16\", \"2020-04-17\", \"2020-04-18\", \"2020-04-19\", \"2020-04-20\", \"2020-04-21\", \"2020-04-22\", \"2020-04-23\", \"2020-04-24\", \"2020-04-25\", \"2020-04-26\", \"2020-04-27\", \"2020-04-28\", \"2020-04-29\", \"2020-04-30\", \"2020-05-01\", \"2020-05-02\", \"2020-05-03\", \"2020-05-04\", \"2020-05-05\", \"2020-05-06\", \"2020-05-07\", \"2020-05-08\", \"2020-05-09\", \"2020-05-10\", \"2020-05-11\", \"2020-05-12\", \"2020-05-13\", \"2020-05-14\", \"2020-05-15\", \"2020-05-16\", \"2020-05-17\", \"2020-05-18\", \"2020-05-19\", \"2020-05-20\", \"2020-05-21\", \"2020-05-22\", \"2020-05-23\", \"2020-05-24\", \"2020-05-25\", \"2020-05-26\", \"2020-05-27\", \"2020-05-28\", \"2020-05-29\", \"2020-05-30\", \"2020-05-31\", \"2020-06-01\", \"2020-06-02\", \"2020-06-03\"], \"y\": [0.0, 0.0, 0.0, 0.0, 0.0, 0.0, 0.0, 0.0, 0.0, 0.0, 0.0, 0.0, 0.0, 0.0, 0.0, 0.0, 1.0, 0.0, 2.0, 0.0, 0.0, 4.0, 0.0, 0.0, 2.0, 0.0, 1.0, 2.0, 0.0, 4.0, 0.0, 0.0, 2.0, 0.0, 4.0, 0.0, 0.0, 0.0, 5.0, 3.0, 0.0, 0.0, 11.0, 0.0, 94.0, 0.0, -17.0, 0.0, 129.0, 41.0, 45.0, 177.0, 0.0, 0.0, 627.0, 270.0, 133.0, 0.0, 0.0, 0.0, 1369.0, 0.0, 598.0, 223.0, 414.0, 384.0, 283.0, 222.0, 195.0, 180.0, 159.0, 261.0, 193.0, 304.0, 138.0, 135.0, 96.0, 82.0, 197.0, 144.0, 126.0, 125.0, 79.0, 87.0, 82.0, 141.0, 72.0, 108.0, 105.0, 72.0, 99.0, 64.0, 224.0, 134.0, 82.0, 47.0, 90.0, 68.0, 137.0, 13.0, 51.0, 60.0, 34.0, 66.0, 50.0, 86.0, 65.0, 84.0, 42.0, 22.0, 38.0, 25.0, 67.0, 59.0, 30.0, 37.0, 16.0, 34.0, 128.0, 69.0, 27.0, 32.0, 19.0, 13.0, 49.0, 20.0, 45.0, 23.0, 35.0, 7.0, 17.0, 24.0, 21.0, 32.0]}, {\"name\": \"Rpd=lowpass(Rpd)\", \"type\": \"scatter\", \"x\": [\"2020-01-22\", \"2020-01-23\", \"2020-01-24\", \"2020-01-25\", \"2020-01-26\", \"2020-01-27\", \"2020-01-28\", \"2020-01-29\", \"2020-01-30\", \"2020-01-31\", \"2020-02-01\", \"2020-02-02\", \"2020-02-03\", \"2020-02-04\", \"2020-02-05\", \"2020-02-06\", \"2020-02-07\", \"2020-02-08\", \"2020-02-09\", \"2020-02-10\", \"2020-02-11\", \"2020-02-12\", \"2020-02-13\", \"2020-02-14\", \"2020-02-15\", \"2020-02-16\", \"2020-02-17\", \"2020-02-18\", \"2020-02-19\", \"2020-02-20\", \"2020-02-21\", \"2020-02-22\", \"2020-02-23\", \"2020-02-24\", \"2020-02-25\", \"2020-02-26\", \"2020-02-27\", \"2020-02-28\", \"2020-02-29\", \"2020-03-01\", \"2020-03-02\", \"2020-03-03\", \"2020-03-04\", \"2020-03-05\", \"2020-03-06\", \"2020-03-07\", \"2020-03-08\", \"2020-03-09\", \"2020-03-10\", \"2020-03-11\", \"2020-03-12\", \"2020-03-13\", \"2020-03-14\", \"2020-03-15\", \"2020-03-16\", \"2020-03-17\", \"2020-03-18\", \"2020-03-19\", \"2020-03-20\", \"2020-03-21\", \"2020-03-22\", \"2020-03-23\", \"2020-03-24\", \"2020-03-25\", \"2020-03-26\", \"2020-03-27\", \"2020-03-28\", \"2020-03-29\", \"2020-03-30\", \"2020-03-31\", \"2020-04-01\", \"2020-04-02\", \"2020-04-03\", \"2020-04-04\", \"2020-04-05\", \"2020-04-06\", \"2020-04-07\", \"2020-04-08\", \"2020-04-09\", \"2020-04-10\", \"2020-04-11\", \"2020-04-12\", \"2020-04-13\", \"2020-04-14\", \"2020-04-15\", \"2020-04-16\", \"2020-04-17\", \"2020-04-18\", \"2020-04-19\", \"2020-04-20\", \"2020-04-21\", \"2020-04-22\", \"2020-04-23\", \"2020-04-24\", \"2020-04-25\", \"2020-04-26\", \"2020-04-27\", \"2020-04-28\", \"2020-04-29\", \"2020-04-30\", \"2020-05-01\", \"2020-05-02\", \"2020-05-03\", \"2020-05-04\", \"2020-05-05\", \"2020-05-06\", \"2020-05-07\", \"2020-05-08\", \"2020-05-09\", \"2020-05-10\", \"2020-05-11\", \"2020-05-12\", \"2020-05-13\", \"2020-05-14\", \"2020-05-15\", \"2020-05-16\", \"2020-05-17\", \"2020-05-18\", \"2020-05-19\", \"2020-05-20\", \"2020-05-21\", \"2020-05-22\", \"2020-05-23\", \"2020-05-24\", \"2020-05-25\", \"2020-05-26\", \"2020-05-27\", \"2020-05-28\", \"2020-05-29\", \"2020-05-30\", \"2020-05-31\", \"2020-06-01\", \"2020-06-02\", \"2020-06-03\"], \"y\": [-0.11993734950591092, -0.1761268505020696, -0.2194187175940615, -0.24499084366251705, -0.24864669292084568, -0.22718406705304064, -0.17879731049047923, -0.10347157462605629, -0.003315332283502978, 0.11723016354425735, 0.2513663688544549, 0.3901519633506872, 0.5229935018157713, 0.6384234055547455, 0.7251430006489193, 0.7732698301777735, 0.7756888832071969, 0.7293716949815736, 0.6365011519125665, 0.5052287941493473, 0.34989977804789824, 0.190610816945691, 0.052018570142340056, -0.03861186527058942, -0.054041025710401765, 0.029801302513898755, 0.230430024643156, 0.5555259167566399, 1.0001757290354518, 1.5450760845382479, 2.1561426988827304, 2.7859195290048144, 3.3770862776976944, 3.8682144864386205, 4.201724920558568, 4.33376208055276, 4.245442349890958, 3.9546720386231358, 3.527494873853398, 3.0877426984455125, 2.8236580124002653, 2.990161174252846, 3.905571505103894, 5.941876066056334, 9.508082737909037, 15.026795341777467, 22.90487756017113, 33.49984381477653, 47.0842959290364, 63.811194374811585, 83.68296697856991, 106.52743422358654, 131.98328441067332, 159.49735159685008, 188.33524623933957, 217.6060662170405, 246.30113825480802, 273.34603898979594, 297.66423353148423, 318.249092560218, 334.2387196359308, 344.985641550423, 350.1122350919005, 349.5437297974616, 343.5136763993703, 332.5409392561174, 317.3814012306473, 298.96086254084, 278.29766942504995, 256.424247730112, 234.31593794860703, 212.833562886732, 192.68348243111416, 174.39610947973736, 158.32153028641585, 144.63931913987847, 133.37888958078162, 124.44657626094275, 117.65582665366354, 112.75724241424248, 109.4657439537889, 107.48289636951766, 106.51341057989545, 106.27587007084566, 106.50861488576703, 106.9722689867696, 107.4505667106318, 107.7509676728787, 107.70614703799913, 107.1769059345134, 106.05644270059804, 104.27533728358031, 101.80612791758423, 98.66612440818702, 94.91721680735586, 90.66192359005221, 86.03565169902853, 81.19587547546195, 76.30947179111983, 71.53969346808687, 67.03425219415566, 62.91576761227025, 59.27544982746356, 56.1703545096631, 53.62396872118945, 51.629379254042796, 50.15396736695679, 49.14453973580542, 48.53204570354219, 48.23546364002102, 48.16491905118492, 48.224465651470794, 48.31511119483894, 48.338588555520225, 48.202126757695865, 47.82416026588337, 47.14059562751995, 46.11096583833245, 44.72357898353946, 42.998678083669034, 40.988759787983405, 38.77558228190791, 36.46394496260426, 34.172871952666405, 32.02521616358337, 30.136853339981705, 28.60659067473084, 27.5077538194402, 26.88220949174928, 26.737358063668008, 27.0463849335342, 27.75177186303674, 28.771735192922943, 30.008905112203124]}, {\"name\": \"Rpd=conv(Ipd)\", \"type\": \"scatter\", \"x\": [\"2020-01-22\", \"2020-01-23\", \"2020-01-24\", \"2020-01-25\", \"2020-01-26\", \"2020-01-27\", \"2020-01-28\", \"2020-01-29\", \"2020-01-30\", \"2020-01-31\", \"2020-02-01\", \"2020-02-02\", \"2020-02-03\", \"2020-02-04\", \"2020-02-05\", \"2020-02-06\", \"2020-02-07\", \"2020-02-08\", \"2020-02-09\", \"2020-02-10\", \"2020-02-11\", \"2020-02-12\", \"2020-02-13\", \"2020-02-14\", \"2020-02-15\", \"2020-02-16\", \"2020-02-17\", \"2020-02-18\", \"2020-02-19\", \"2020-02-20\", \"2020-02-21\", \"2020-02-22\", \"2020-02-23\", \"2020-02-24\", \"2020-02-25\", \"2020-02-26\", \"2020-02-27\", \"2020-02-28\", \"2020-02-29\", \"2020-03-01\", \"2020-03-02\", \"2020-03-03\", \"2020-03-04\", \"2020-03-05\", \"2020-03-06\", \"2020-03-07\", \"2020-03-08\", \"2020-03-09\", \"2020-03-10\", \"2020-03-11\", \"2020-03-12\", \"2020-03-13\", \"2020-03-14\", \"2020-03-15\", \"2020-03-16\", \"2020-03-17\", \"2020-03-18\", \"2020-03-19\", \"2020-03-20\", \"2020-03-21\", \"2020-03-22\", \"2020-03-23\", \"2020-03-24\", \"2020-03-25\", \"2020-03-26\", \"2020-03-27\", \"2020-03-28\", \"2020-03-29\", \"2020-03-30\", \"2020-03-31\", \"2020-04-01\", \"2020-04-02\", \"2020-04-03\", \"2020-04-04\", \"2020-04-05\", \"2020-04-06\", \"2020-04-07\", \"2020-04-08\", \"2020-04-09\", \"2020-04-10\", \"2020-04-11\", \"2020-04-12\", \"2020-04-13\", \"2020-04-14\", \"2020-04-15\", \"2020-04-16\", \"2020-04-17\", \"2020-04-18\", \"2020-04-19\", \"2020-04-20\", \"2020-04-21\", \"2020-04-22\", \"2020-04-23\", \"2020-04-24\", \"2020-04-25\", \"2020-04-26\", \"2020-04-27\", \"2020-04-28\", \"2020-04-29\", \"2020-04-30\", \"2020-05-01\", \"2020-05-02\", \"2020-05-03\", \"2020-05-04\", \"2020-05-05\", \"2020-05-06\", \"2020-05-07\", \"2020-05-08\", \"2020-05-09\", \"2020-05-10\", \"2020-05-11\", \"2020-05-12\", \"2020-05-13\", \"2020-05-14\", \"2020-05-15\", \"2020-05-16\", \"2020-05-17\", \"2020-05-18\", \"2020-05-19\", \"2020-05-20\", \"2020-05-21\", \"2020-05-22\", \"2020-05-23\", \"2020-05-24\", \"2020-05-25\", \"2020-05-26\", \"2020-05-27\", \"2020-05-28\", \"2020-05-29\", \"2020-05-30\", \"2020-05-31\", \"2020-06-01\", \"2020-06-02\", \"2020-06-03\"], \"y\": [-1.5158245029548804e-14, 0.0, 7.579122514774402e-15, 1.5158245029548804e-14, 0.0, 0.001004463198872448, 0.003932353470660625, 0.0085645729636326, 0.016517239092672754, 0.027314987258887414, 0.03929184886557474, 0.05185012421237237, 0.07160538624918142, 0.10563918953137848, 0.14899837824024567, 0.20077464104498782, 0.25654047433837757, 0.31796730296211234, 0.38893974620465693, 0.4687296691322293, 0.5510048285490181, 0.632561294026497, 0.713868739103312, 0.7946033485161251, 0.871317256751657, 0.9406849107042414, 1.0009009192798204, 1.0506854075892458, 1.0901464835418588, 1.1206607597528622, 1.142714257970139, 1.1557977940564796, 1.2329377346036607, 1.5436394706322365, 2.3206677141889105, 3.802639845141914, 6.059609987223098, 9.14408593731603, 13.078770913008809, 18.3049727249696, 25.35847665349295, 34.75858263273849, 46.838054742584426, 61.35673602039912, 78.47769741809563, 98.11970641112688, 119.50657850842256, 142.31280378899342, 166.20869006179248, 190.58089405377495, 214.60966011159726, 237.4683843217498, 258.6317511798107, 277.89005298433915, 294.7612400370896, 308.94481104431713, 320.2171947825295, 328.4026867056573, 333.4604125556367, 335.46421093437914, 334.61570117898395, 331.1614174285329, 325.32625107512035, 317.51947871150895, 307.956039234508, 296.76241356358116, 284.36678486302145, 271.1540972364385, 257.4564464037216, 243.61653894339895, 229.9661622774929, 216.67609002480202, 203.92877025510188, 191.92226784378113, 180.7352656289955, 170.41795487979897, 161.00676130755534, 152.5095242549633, 144.85695979338428, 137.93967947911523, 131.69138958905359, 126.03310398046517, 120.84706709979339, 116.02834169767654, 111.49952911241725, 107.18822531716701, 103.02853168449134, 98.97604874696253, 94.98936903468025, 91.03404684346275, 87.0860452409837, 83.12327243595283, 79.13305073262383, 75.12311508109984, 71.10186018883341, 67.09420871746019, 63.1249706344291, 59.21240738101602, 55.38228286957024, 51.661532494558024, 48.076206696814516, 44.63563976079884, 41.349530355031995, 38.234840053178935, 35.30416995523845, 32.57024605714295, 30.02914829360395, 27.66974686064995, 25.484759934508087, 23.477394072289673, 21.66028569504808, 20.057799127914627, 18.69970697916268, 17.58758976383488, 16.70721684881283, 16.048254503547895, 15.600850420768964, 15.341338862985468, 15.233806363944192, 15.24449461258874, 15.350134283871341, 15.542948958967028, 15.818120938494504, 16.139352877364797, 16.501261763790374, 16.899279090915257, 17.31556588170979, 17.728999825252274, 18.151955015842518, 18.652219497503157, 19.29051810770423, 20.037324989247722, 20.84670678237181, 21.692635602203943, 22.576118059214885, 23.506010898276795, 24.48576145487831, 25.454864676545498, 26.326380381604114, 27.062162868583144, 27.63624293937664, 28.029517651929343, 28.228544411213186, 28.225174016192486, 28.016410865859935, 27.604290869440042, 26.9956865604069, 26.201998387323925, 25.238717969679943, 24.124866704292398, 22.882325861536504, 21.53508366401163, 20.10843122288494, 18.628142736456233, 17.119676122652987, 15.607428446209568, 14.114076428894903, 12.660026443056449, 11.262991230438084, 9.937702761014675, 8.695762757576635, 7.5456250246729, 6.4926973127697165, 5.5395453792890335, 4.686178399467307, 3.930393011443353, 3.268152997443106, 2.6939827377530112, 2.201354870831767, 1.7830557410128411, 1.4315158824808085, 1.1390966507672318, 0.8983278811058957, 0.702094889424823, 0.54377606306489, 0.4173346083471377, 0.3173696890423325, 0.2391332179513256, 0.1785190119670176, 0.13203097898084667, 0.09673658014288927, 0.07021111576044821, 0.050477524946626315, 0.03594546282242466, 0.02535250209665302, 0.01770945616633905, 0.012251077077794055, 0.008392764712539247, 0.005693439596594393, 0.003824375619819875, 0.002543547672941789, 0.001674905135867751, 0.0010919157481718382, 0.0007047163438680097, 0.00045023961361039254, 0.0002847443988381807, 0.0001782489287355323, 0.00011044274418357721, 6.772739828496318e-05, 4.1104286568346043e-05, 2.468789652994019e-05, 1.4673516670882236e-05, 8.630114037562937e-06, 5.0223882984331185e-06, 2.8919771466462407e-06, 1.6475925500950932e-06, 9.286559967828604e-07, 5.178332382153409e-07, 2.856505792199944e-07, 1.5587290060163164e-07, 8.413499017478898e-08, 4.491941278198889e-08, 2.3720501000449683e-08, 1.238875787142509e-08, 6.399159246939234e-09, 3.26886038237717e-09, 1.6513392135190468e-09, 8.249116945080459e-10, 4.074687846393014e-10, 1.990277572379758e-10, 9.610327348733942e-11, 4.589916594947378e-11, 2.166113214722524e-11, 1.0095391189679503e-11, 4.638422979041934e-12, 2.15247079419593e-12, 9.473903143468003e-13, 4.168517383125921e-13, 1.5916157281026243e-13, 7.579122514774402e-14, 1.5158245029548804e-14, 0.0, -1.5158245029548804e-14]}],\n",
              "                        {\"template\": {\"data\": {\"bar\": [{\"error_x\": {\"color\": \"#2a3f5f\"}, \"error_y\": {\"color\": \"#2a3f5f\"}, \"marker\": {\"line\": {\"color\": \"#E5ECF6\", \"width\": 0.5}}, \"type\": \"bar\"}], \"barpolar\": [{\"marker\": {\"line\": {\"color\": \"#E5ECF6\", \"width\": 0.5}}, \"type\": \"barpolar\"}], \"carpet\": [{\"aaxis\": {\"endlinecolor\": \"#2a3f5f\", \"gridcolor\": \"white\", \"linecolor\": \"white\", \"minorgridcolor\": \"white\", \"startlinecolor\": \"#2a3f5f\"}, \"baxis\": {\"endlinecolor\": \"#2a3f5f\", \"gridcolor\": \"white\", \"linecolor\": \"white\", \"minorgridcolor\": \"white\", \"startlinecolor\": \"#2a3f5f\"}, \"type\": \"carpet\"}], \"choropleth\": [{\"colorbar\": {\"outlinewidth\": 0, \"ticks\": \"\"}, \"type\": \"choropleth\"}], \"contour\": [{\"colorbar\": {\"outlinewidth\": 0, \"ticks\": \"\"}, \"colorscale\": [[0.0, \"#0d0887\"], [0.1111111111111111, \"#46039f\"], [0.2222222222222222, \"#7201a8\"], [0.3333333333333333, \"#9c179e\"], [0.4444444444444444, \"#bd3786\"], [0.5555555555555556, \"#d8576b\"], [0.6666666666666666, \"#ed7953\"], [0.7777777777777778, \"#fb9f3a\"], [0.8888888888888888, \"#fdca26\"], [1.0, \"#f0f921\"]], \"type\": \"contour\"}], \"contourcarpet\": [{\"colorbar\": {\"outlinewidth\": 0, \"ticks\": \"\"}, \"type\": \"contourcarpet\"}], \"heatmap\": [{\"colorbar\": {\"outlinewidth\": 0, \"ticks\": \"\"}, \"colorscale\": [[0.0, \"#0d0887\"], [0.1111111111111111, \"#46039f\"], [0.2222222222222222, \"#7201a8\"], [0.3333333333333333, \"#9c179e\"], [0.4444444444444444, \"#bd3786\"], [0.5555555555555556, \"#d8576b\"], [0.6666666666666666, \"#ed7953\"], [0.7777777777777778, \"#fb9f3a\"], [0.8888888888888888, \"#fdca26\"], [1.0, \"#f0f921\"]], \"type\": \"heatmap\"}], \"heatmapgl\": [{\"colorbar\": {\"outlinewidth\": 0, \"ticks\": \"\"}, \"colorscale\": [[0.0, \"#0d0887\"], [0.1111111111111111, \"#46039f\"], [0.2222222222222222, \"#7201a8\"], [0.3333333333333333, \"#9c179e\"], [0.4444444444444444, \"#bd3786\"], [0.5555555555555556, \"#d8576b\"], [0.6666666666666666, \"#ed7953\"], [0.7777777777777778, \"#fb9f3a\"], [0.8888888888888888, \"#fdca26\"], [1.0, \"#f0f921\"]], \"type\": \"heatmapgl\"}], \"histogram\": [{\"marker\": {\"colorbar\": {\"outlinewidth\": 0, \"ticks\": \"\"}}, \"type\": \"histogram\"}], \"histogram2d\": [{\"colorbar\": {\"outlinewidth\": 0, \"ticks\": \"\"}, \"colorscale\": [[0.0, \"#0d0887\"], [0.1111111111111111, \"#46039f\"], [0.2222222222222222, \"#7201a8\"], [0.3333333333333333, \"#9c179e\"], [0.4444444444444444, \"#bd3786\"], [0.5555555555555556, \"#d8576b\"], [0.6666666666666666, \"#ed7953\"], [0.7777777777777778, \"#fb9f3a\"], [0.8888888888888888, \"#fdca26\"], [1.0, \"#f0f921\"]], \"type\": \"histogram2d\"}], \"histogram2dcontour\": [{\"colorbar\": {\"outlinewidth\": 0, \"ticks\": \"\"}, \"colorscale\": [[0.0, \"#0d0887\"], [0.1111111111111111, \"#46039f\"], [0.2222222222222222, \"#7201a8\"], [0.3333333333333333, \"#9c179e\"], [0.4444444444444444, \"#bd3786\"], [0.5555555555555556, \"#d8576b\"], [0.6666666666666666, \"#ed7953\"], [0.7777777777777778, \"#fb9f3a\"], [0.8888888888888888, \"#fdca26\"], [1.0, \"#f0f921\"]], \"type\": \"histogram2dcontour\"}], \"mesh3d\": [{\"colorbar\": {\"outlinewidth\": 0, \"ticks\": \"\"}, \"type\": \"mesh3d\"}], \"parcoords\": [{\"line\": {\"colorbar\": {\"outlinewidth\": 0, \"ticks\": \"\"}}, \"type\": \"parcoords\"}], \"pie\": [{\"automargin\": true, \"type\": \"pie\"}], \"scatter\": [{\"marker\": {\"colorbar\": {\"outlinewidth\": 0, \"ticks\": \"\"}}, \"type\": \"scatter\"}], \"scatter3d\": [{\"line\": {\"colorbar\": {\"outlinewidth\": 0, \"ticks\": \"\"}}, \"marker\": {\"colorbar\": {\"outlinewidth\": 0, \"ticks\": \"\"}}, \"type\": \"scatter3d\"}], \"scattercarpet\": [{\"marker\": {\"colorbar\": {\"outlinewidth\": 0, \"ticks\": \"\"}}, \"type\": \"scattercarpet\"}], \"scattergeo\": [{\"marker\": {\"colorbar\": {\"outlinewidth\": 0, \"ticks\": \"\"}}, \"type\": \"scattergeo\"}], \"scattergl\": [{\"marker\": {\"colorbar\": {\"outlinewidth\": 0, \"ticks\": \"\"}}, \"type\": \"scattergl\"}], \"scattermapbox\": [{\"marker\": {\"colorbar\": {\"outlinewidth\": 0, \"ticks\": \"\"}}, \"type\": \"scattermapbox\"}], \"scatterpolar\": [{\"marker\": {\"colorbar\": {\"outlinewidth\": 0, \"ticks\": \"\"}}, \"type\": \"scatterpolar\"}], \"scatterpolargl\": [{\"marker\": {\"colorbar\": {\"outlinewidth\": 0, \"ticks\": \"\"}}, \"type\": \"scatterpolargl\"}], \"scatterternary\": [{\"marker\": {\"colorbar\": {\"outlinewidth\": 0, \"ticks\": \"\"}}, \"type\": \"scatterternary\"}], \"surface\": [{\"colorbar\": {\"outlinewidth\": 0, \"ticks\": \"\"}, \"colorscale\": [[0.0, \"#0d0887\"], [0.1111111111111111, \"#46039f\"], [0.2222222222222222, \"#7201a8\"], [0.3333333333333333, \"#9c179e\"], [0.4444444444444444, \"#bd3786\"], [0.5555555555555556, \"#d8576b\"], [0.6666666666666666, \"#ed7953\"], [0.7777777777777778, \"#fb9f3a\"], [0.8888888888888888, \"#fdca26\"], [1.0, \"#f0f921\"]], \"type\": \"surface\"}], \"table\": [{\"cells\": {\"fill\": {\"color\": \"#EBF0F8\"}, \"line\": {\"color\": \"white\"}}, \"header\": {\"fill\": {\"color\": \"#C8D4E3\"}, \"line\": {\"color\": \"white\"}}, \"type\": \"table\"}]}, \"layout\": {\"annotationdefaults\": {\"arrowcolor\": \"#2a3f5f\", \"arrowhead\": 0, \"arrowwidth\": 1}, \"coloraxis\": {\"colorbar\": {\"outlinewidth\": 0, \"ticks\": \"\"}}, \"colorscale\": {\"diverging\": [[0, \"#8e0152\"], [0.1, \"#c51b7d\"], [0.2, \"#de77ae\"], [0.3, \"#f1b6da\"], [0.4, \"#fde0ef\"], [0.5, \"#f7f7f7\"], [0.6, \"#e6f5d0\"], [0.7, \"#b8e186\"], [0.8, \"#7fbc41\"], [0.9, \"#4d9221\"], [1, \"#276419\"]], \"sequential\": [[0.0, \"#0d0887\"], [0.1111111111111111, \"#46039f\"], [0.2222222222222222, \"#7201a8\"], [0.3333333333333333, \"#9c179e\"], [0.4444444444444444, \"#bd3786\"], [0.5555555555555556, \"#d8576b\"], [0.6666666666666666, \"#ed7953\"], [0.7777777777777778, \"#fb9f3a\"], [0.8888888888888888, \"#fdca26\"], [1.0, \"#f0f921\"]], \"sequentialminus\": [[0.0, \"#0d0887\"], [0.1111111111111111, \"#46039f\"], [0.2222222222222222, \"#7201a8\"], [0.3333333333333333, \"#9c179e\"], [0.4444444444444444, \"#bd3786\"], [0.5555555555555556, \"#d8576b\"], [0.6666666666666666, \"#ed7953\"], [0.7777777777777778, \"#fb9f3a\"], [0.8888888888888888, \"#fdca26\"], [1.0, \"#f0f921\"]]}, \"colorway\": [\"#636efa\", \"#EF553B\", \"#00cc96\", \"#ab63fa\", \"#FFA15A\", \"#19d3f3\", \"#FF6692\", \"#B6E880\", \"#FF97FF\", \"#FECB52\"], \"font\": {\"color\": \"#2a3f5f\"}, \"geo\": {\"bgcolor\": \"white\", \"lakecolor\": \"white\", \"landcolor\": \"#E5ECF6\", \"showlakes\": true, \"showland\": true, \"subunitcolor\": \"white\"}, \"hoverlabel\": {\"align\": \"left\"}, \"hovermode\": \"closest\", \"mapbox\": {\"style\": \"light\"}, \"paper_bgcolor\": \"white\", \"plot_bgcolor\": \"#E5ECF6\", \"polar\": {\"angularaxis\": {\"gridcolor\": \"white\", \"linecolor\": \"white\", \"ticks\": \"\"}, \"bgcolor\": \"#E5ECF6\", \"radialaxis\": {\"gridcolor\": \"white\", \"linecolor\": \"white\", \"ticks\": \"\"}}, \"scene\": {\"xaxis\": {\"backgroundcolor\": \"#E5ECF6\", \"gridcolor\": \"white\", \"gridwidth\": 2, \"linecolor\": \"white\", \"showbackground\": true, \"ticks\": \"\", \"zerolinecolor\": \"white\"}, \"yaxis\": {\"backgroundcolor\": \"#E5ECF6\", \"gridcolor\": \"white\", \"gridwidth\": 2, \"linecolor\": \"white\", \"showbackground\": true, \"ticks\": \"\", \"zerolinecolor\": \"white\"}, \"zaxis\": {\"backgroundcolor\": \"#E5ECF6\", \"gridcolor\": \"white\", \"gridwidth\": 2, \"linecolor\": \"white\", \"showbackground\": true, \"ticks\": \"\", \"zerolinecolor\": \"white\"}}, \"shapedefaults\": {\"line\": {\"color\": \"#2a3f5f\"}}, \"ternary\": {\"aaxis\": {\"gridcolor\": \"white\", \"linecolor\": \"white\", \"ticks\": \"\"}, \"baxis\": {\"gridcolor\": \"white\", \"linecolor\": \"white\", \"ticks\": \"\"}, \"bgcolor\": \"#E5ECF6\", \"caxis\": {\"gridcolor\": \"white\", \"linecolor\": \"white\", \"ticks\": \"\"}}, \"title\": {\"x\": 0.05}, \"xaxis\": {\"automargin\": true, \"gridcolor\": \"white\", \"linecolor\": \"white\", \"ticks\": \"\", \"title\": {\"standoff\": 15}, \"zerolinecolor\": \"white\", \"zerolinewidth\": 2}, \"yaxis\": {\"automargin\": true, \"gridcolor\": \"white\", \"linecolor\": \"white\", \"ticks\": \"\", \"title\": {\"standoff\": 15}, \"zerolinecolor\": \"white\", \"zerolinewidth\": 2}}}, \"title\": {\"text\": \"$\\\\text{Korea, Republic of: Actual } R_{pd} \\\\text{ vs. } h_I[j]\\\\circledast I_{pd}[j]$\", \"x\": 0.5, \"xanchor\": \"center\"}, \"xaxis\": {\"title\": {\"text\": \"Day\"}}, \"yaxis\": {\"title\": {\"text\": \"Count\"}}},\n",
              "                        {\"responsive\": true}\n",
              "                    ).then(function(){\n",
              "                            \n",
              "var gd = document.getElementById('00c59966-3b4a-45bf-b4d6-e83612e3b567');\n",
              "var x = new MutationObserver(function (mutations, observer) {{\n",
              "        var display = window.getComputedStyle(gd).display;\n",
              "        if (!display || display === 'none') {{\n",
              "            console.log([gd, 'removed!']);\n",
              "            Plotly.purge(gd);\n",
              "            observer.disconnect();\n",
              "        }}\n",
              "}});\n",
              "\n",
              "// Listen for the removal of the full notebook cells\n",
              "var notebookContainer = gd.closest('#notebook-container');\n",
              "if (notebookContainer) {{\n",
              "    x.observe(notebookContainer, {childList: true});\n",
              "}}\n",
              "\n",
              "// Listen for the clearing of the current output cell\n",
              "var outputEl = gd.closest('.output');\n",
              "if (outputEl) {{\n",
              "    x.observe(outputEl, {childList: true});\n",
              "}}\n",
              "\n",
              "                        })\n",
              "                };\n",
              "                \n",
              "            </script>\n",
              "        </div>\n",
              "</body>\n",
              "</html>"
            ]
          },
          "metadata": {
            "tags": []
          }
        }
      ]
    },
    {
      "cell_type": "markdown",
      "metadata": {
        "colab_type": "text",
        "id": "cH1kk2PsfYcM"
      },
      "source": [
        "We can see the actual $R_{pd}$ lags $h_I[j]\\circledast I_{pd}[j]$ by about 2 days."
      ]
    },
    {
      "cell_type": "markdown",
      "metadata": {
        "colab_type": "text",
        "id": "ngIzR_VTfYcN"
      },
      "source": [
        "#### 2. Estimating $E_{pd}$ by deconvolution of $I_{pd}$"
      ]
    },
    {
      "cell_type": "code",
      "metadata": {
        "colab_type": "code",
        "outputId": "8a701246-d5b9-4d89-9d90-67b7a0274d5c",
        "id": "-q57o1FMfYcP",
        "colab": {
          "base_uri": "https://localhost:8080/",
          "height": 115
        }
      },
      "source": [
        "#collapse_hide\n",
        "\n",
        "#Settting up for deconvolution of Ipd\n",
        "\n",
        "#regularization parameter\n",
        "alpha=2\n",
        "\n",
        "# Setup up the resultant Ipd we want to compare our guess with\n",
        "Ipd=np.floor(lowpass(conf_df_pd.loc['Korea, Republic of'])[0])\n",
        "Ipd[Ipd<0]=0\n",
        "\n",
        "\n",
        "# Pad with last value\n",
        "i=0\n",
        "while i < 100:\n",
        "  Ipd=np.append(Ipd, Ipd[-1])\n",
        "  i=i+1\n",
        "\n",
        "# Find delay caused by h_L\n",
        "delay=Ipd.argmax()-signal.fftconvolve(Ipd, h_L, mode='full').argmax()\n",
        "\n",
        "# We want initial guess to simply be the result of the convolution delayed\n",
        "initial_guess=np.roll(Ipd,delay)\n",
        "Enext = initial_guess\n",
        "\n",
        "# AN array to record MSE between result we want and our iterated guess\n",
        "mse=np.array([])\n",
        "mse=np.append(mse, 10000000)\n",
        "mse=np.append(mse, msecalc(Ipd[:len(conf_df_pd.loc['Korea, Republic of'])], signal.fftconvolve(h_L, Enext, mode='full')[:len(conf_df_pd.loc['Korea, Republic of'])]))\n",
        "\n",
        "itercount=0\n",
        "while mse[-1] < mse[-2]:\n",
        "  itercount=itercount+1\n",
        "  Enext=iter_deconv(alpha, h_L, Enext, delay, Ipd)\n",
        "  mse=np.append(mse, msecalc(Ipd[:len(conf_df_pd.loc['Korea, Republic of'])], signal.fftconvolve(h_L, Enext, mode='full')[:len(conf_df_pd.loc['Korea, Republic of'])]))\n",
        "  print(\"Iteration #\" + str(itercount) +\": MSE= \"+str(mse[itercount]))\n",
        "print(\"Iteration #\" + str(itercount+1) +\": MSE= \"+str(mse[-1])+\" so we use the result of the previous iteration.\")"
      ],
      "execution_count": 241,
      "outputs": [
        {
          "output_type": "stream",
          "text": [
            "Iteration #1: MSE= 1002.4468501850523\n",
            "Iteration #2: MSE= 322.3563402426279\n",
            "Iteration #3: MSE= 232.31445613577606\n",
            "Iteration #4: MSE= 225.86390268488017\n",
            "Iteration #5: MSE= 179.66814661742652\n",
            "Iteration #6: MSE= 182.39958075753384 so we use the result of the previous iteration.\n"
          ],
          "name": "stdout"
        }
      ]
    },
    {
      "cell_type": "code",
      "metadata": {
        "colab_type": "code",
        "outputId": "f72c149e-1c9f-42ef-b4df-f74ee837eab6",
        "id": "IA4ljaycfYcS",
        "colab": {
          "base_uri": "https://localhost:8080/",
          "height": 180
        }
      },
      "source": [
        "#collapse_hide\n",
        "# We can keep going the iteration until lowest MSE\n",
        "\n",
        "#change alpha if you like\n",
        "alpha=2\n",
        "\n",
        "i=0\n",
        "while i < 10:\n",
        "  itercount=itercount+1\n",
        "  Enext=iter_deconv(alpha, h_L, Enext, delay, Ipd)\n",
        "  print(msecalc(Ipd[:len(conf_df_pd.loc['Korea, Republic of'])], signal.fftconvolve(h_L, Enext, mode='full')[:len(conf_df_pd.loc['Korea, Republic of'])]))\n",
        "  i=i+1"
      ],
      "execution_count": 245,
      "outputs": [
        {
          "output_type": "stream",
          "text": [
            "149.3491402956683\n",
            "149.80157409402977\n",
            "149.3549551002663\n",
            "149.80157409402977\n",
            "149.3549551002661\n",
            "149.80157409402977\n",
            "149.3549551002663\n",
            "149.80157409402977\n",
            "149.3549551002661\n",
            "149.80157409402977\n"
          ],
          "name": "stdout"
        }
      ]
    },
    {
      "cell_type": "code",
      "metadata": {
        "colab_type": "code",
        "outputId": "ed912e6f-c73a-48ec-fd80-1a4f7820a750",
        "id": "bI0Du3sGfYcV",
        "colab": {
          "base_uri": "https://localhost:8080/",
          "height": 542
        }
      },
      "source": [
        "#collapse_hide\n",
        "fig = go.Figure(data=[    \n",
        "    go.Scatter(name='Epd=deconv(Ipd)', x=inf_df.loc['Korea, Republic of'].index, y=Enext),\n",
        "    go.Scatter(name='Ipd=conv(deconv(Ipd))', x=inf_df.loc['Korea, Republic of'].index, y=signal.fftconvolve(h_L, Enext, mode='full')),\n",
        "    go.Bar(name='Ipd', x=inf_df.loc['Korea, Republic of'].index, y=conf_df_pd.loc['Korea, Republic of']),\n",
        "    go.Scatter(name='Ipd=lowpass(Ipd)', x=inf_df.loc['Korea, Republic of'].index, y=lowpass(conf_df_pd.loc['Korea, Republic of'])[0])\n",
        "])\n",
        "\n",
        "fig.update_layout(\n",
        "    \n",
        "    xaxis_title = 'Day',\n",
        "    yaxis_title = 'Count',\n",
        "    title={\n",
        "        'text':r'$\\text{Korea, Republic of: Actual } I_{pd} \\text{ vs. convolution of deconvolution of } I_{pd}$',\n",
        "        'x':0.5,\n",
        "        'xanchor':'center'\n",
        "    }\n",
        ")\n",
        "\n",
        "fig.show()"
      ],
      "execution_count": 246,
      "outputs": [
        {
          "output_type": "display_data",
          "data": {
            "text/html": [
              "<html>\n",
              "<head><meta charset=\"utf-8\" /></head>\n",
              "<body>\n",
              "    <div>\n",
              "            <script src=\"https://cdnjs.cloudflare.com/ajax/libs/mathjax/2.7.5/MathJax.js?config=TeX-AMS-MML_SVG\"></script><script type=\"text/javascript\">if (window.MathJax) {MathJax.Hub.Config({SVG: {font: \"STIX-Web\"}});}</script>\n",
              "                <script type=\"text/javascript\">window.PlotlyConfig = {MathJaxConfig: 'local'};</script>\n",
              "        <script src=\"https://cdn.plot.ly/plotly-latest.min.js\"></script>    \n",
              "            <div id=\"d9145ffd-d9e6-42dd-8737-c350c6881d05\" class=\"plotly-graph-div\" style=\"height:525px; width:100%;\"></div>\n",
              "            <script type=\"text/javascript\">\n",
              "                \n",
              "                    window.PLOTLYENV=window.PLOTLYENV || {};\n",
              "                    \n",
              "                if (document.getElementById(\"d9145ffd-d9e6-42dd-8737-c350c6881d05\")) {\n",
              "                    Plotly.newPlot(\n",
              "                        'd9145ffd-d9e6-42dd-8737-c350c6881d05',\n",
              "                        [{\"name\": \"Epd=deconv(Ipd)\", \"type\": \"scatter\", \"x\": [\"2020-01-22\", \"2020-01-23\", \"2020-01-24\", \"2020-01-25\", \"2020-01-26\", \"2020-01-27\", \"2020-01-28\", \"2020-01-29\", \"2020-01-30\", \"2020-01-31\", \"2020-02-01\", \"2020-02-02\", \"2020-02-03\", \"2020-02-04\", \"2020-02-05\", \"2020-02-06\", \"2020-02-07\", \"2020-02-08\", \"2020-02-09\", \"2020-02-10\", \"2020-02-11\", \"2020-02-12\", \"2020-02-13\", \"2020-02-14\", \"2020-02-15\", \"2020-02-16\", \"2020-02-17\", \"2020-02-18\", \"2020-02-19\", \"2020-02-20\", \"2020-02-21\", \"2020-02-22\", \"2020-02-23\", \"2020-02-24\", \"2020-02-25\", \"2020-02-26\", \"2020-02-27\", \"2020-02-28\", \"2020-02-29\", \"2020-03-01\", \"2020-03-02\", \"2020-03-03\", \"2020-03-04\", \"2020-03-05\", \"2020-03-06\", \"2020-03-07\", \"2020-03-08\", \"2020-03-09\", \"2020-03-10\", \"2020-03-11\", \"2020-03-12\", \"2020-03-13\", \"2020-03-14\", \"2020-03-15\", \"2020-03-16\", \"2020-03-17\", \"2020-03-18\", \"2020-03-19\", \"2020-03-20\", \"2020-03-21\", \"2020-03-22\", \"2020-03-23\", \"2020-03-24\", \"2020-03-25\", \"2020-03-26\", \"2020-03-27\", \"2020-03-28\", \"2020-03-29\", \"2020-03-30\", \"2020-03-31\", \"2020-04-01\", \"2020-04-02\", \"2020-04-03\", \"2020-04-04\", \"2020-04-05\", \"2020-04-06\", \"2020-04-07\", \"2020-04-08\", \"2020-04-09\", \"2020-04-10\", \"2020-04-11\", \"2020-04-12\", \"2020-04-13\", \"2020-04-14\", \"2020-04-15\", \"2020-04-16\", \"2020-04-17\", \"2020-04-18\", \"2020-04-19\", \"2020-04-20\", \"2020-04-21\", \"2020-04-22\", \"2020-04-23\", \"2020-04-24\", \"2020-04-25\", \"2020-04-26\", \"2020-04-27\", \"2020-04-28\", \"2020-04-29\", \"2020-04-30\", \"2020-05-01\", \"2020-05-02\", \"2020-05-03\", \"2020-05-04\", \"2020-05-05\", \"2020-05-06\", \"2020-05-07\", \"2020-05-08\", \"2020-05-09\", \"2020-05-10\", \"2020-05-11\", \"2020-05-12\", \"2020-05-13\", \"2020-05-14\", \"2020-05-15\", \"2020-05-16\", \"2020-05-17\", \"2020-05-18\", \"2020-05-19\", \"2020-05-20\", \"2020-05-21\", \"2020-05-22\", \"2020-05-23\", \"2020-05-24\", \"2020-05-25\", \"2020-05-26\", \"2020-05-27\", \"2020-05-28\", \"2020-05-29\", \"2020-05-30\", \"2020-05-31\", \"2020-06-01\", \"2020-06-02\", \"2020-06-03\"], \"y\": [0.0, 0.0, 8.0, 17.0, 25.0, 31.0, 34.0, 34.0, 30.0, 22.0, 11.0, 0.0, 0.0, 0.0, 0.0, 0.0, 0.0, 0.0, 0.0, 0.0, 0.0, 9.0, 58.0, 118.0, 186.0, 260.0, 338.0, 415.0, 488.0, 553.0, 606.0, 646.0, 669.0, 675.0, 663.0, 633.0, 587.0, 528.0, 459.0, 383.0, 304.0, 227.0, 154.0, 89.0, 35.0, 0.0, 0.0, 0.0, 0.0, 0.0, 0.0, 0.0, 14.0, 43.0, 72.0, 99.0, 122.0, 140.0, 152.0, 157.0, 157.0, 152.0, 142.0, 129.0, 113.0, 96.0, 79.0, 62.0, 47.0, 34.0, 24.0, 16.0, 10.0, 7.0, 6.0, 6.0, 7.0, 9.0, 11.0, 13.0, 14.0, 15.0, 15.0, 15.0, 14.0, 12.0, 10.0, 8.0, 6.0, 5.0, 4.0, 3.0, 3.0, 4.0, 5.0, 7.0, 9.0, 12.0, 14.0, 16.0, 18.0, 20.0, 21.0, 22.0, 23.0, 23.0, 23.0, 22.0, 22.0, 22.0, 22.0, 22.0, 23.0, 24.0, 25.0, 27.0, 29.0, 31.0, 33.0, 36.0, 38.0, 40.0, 41.0, 42.0, 43.0, 44.0, 44.0, 44.0, 43.0, 43.0, 42.0, 41.0, 41.0, 40.0, 40.0, 39.0, 39.0, 39.0, 39.0, 39.0, 39.0, 39.0, 39.0, 40.0, 40.0, 40.0, 40.0, 40.0, 40.0, 40.0, 40.0, 40.0, 40.0, 40.0, 40.0, 40.0, 40.0, 40.0, 40.0, 40.0, 40.0, 40.0, 40.0, 40.0, 40.0, 40.0, 40.0, 40.0, 40.0, 40.0, 40.0, 40.0, 40.0, 40.0, 41.0, 41.0, 41.0, 41.0, 41.0, 41.0, 41.0, 41.0, 41.0, 41.0, 41.0, 40.0, 40.0, 40.0, 40.0, 40.0, 40.0, 40.0, 40.0, 40.0, 40.0, 40.0, 40.0, 41.0, 41.0, 41.0, 41.0, 41.0, 41.0, 41.0, 41.0, 41.0, 40.0, 40.0, 39.0, 39.0, 39.0, 38.0, 38.0, 39.0, 39.0, 40.0, 41.0, 42.0, 43.0, 44.0, 45.0, 46.0, 46.0, 45.0, 43.0, 41.0, 38.0, 33.0, 28.0, 22.0, 15.0, 7.0, 0.0, 0.0]}, {\"name\": \"Ipd=conv(deconv(Ipd))\", \"type\": \"scatter\", \"x\": [\"2020-01-22\", \"2020-01-23\", \"2020-01-24\", \"2020-01-25\", \"2020-01-26\", \"2020-01-27\", \"2020-01-28\", \"2020-01-29\", \"2020-01-30\", \"2020-01-31\", \"2020-02-01\", \"2020-02-02\", \"2020-02-03\", \"2020-02-04\", \"2020-02-05\", \"2020-02-06\", \"2020-02-07\", \"2020-02-08\", \"2020-02-09\", \"2020-02-10\", \"2020-02-11\", \"2020-02-12\", \"2020-02-13\", \"2020-02-14\", \"2020-02-15\", \"2020-02-16\", \"2020-02-17\", \"2020-02-18\", \"2020-02-19\", \"2020-02-20\", \"2020-02-21\", \"2020-02-22\", \"2020-02-23\", \"2020-02-24\", \"2020-02-25\", \"2020-02-26\", \"2020-02-27\", \"2020-02-28\", \"2020-02-29\", \"2020-03-01\", \"2020-03-02\", \"2020-03-03\", \"2020-03-04\", \"2020-03-05\", \"2020-03-06\", \"2020-03-07\", \"2020-03-08\", \"2020-03-09\", \"2020-03-10\", \"2020-03-11\", \"2020-03-12\", \"2020-03-13\", \"2020-03-14\", \"2020-03-15\", \"2020-03-16\", \"2020-03-17\", \"2020-03-18\", \"2020-03-19\", \"2020-03-20\", \"2020-03-21\", \"2020-03-22\", \"2020-03-23\", \"2020-03-24\", \"2020-03-25\", \"2020-03-26\", \"2020-03-27\", \"2020-03-28\", \"2020-03-29\", \"2020-03-30\", \"2020-03-31\", \"2020-04-01\", \"2020-04-02\", \"2020-04-03\", \"2020-04-04\", \"2020-04-05\", \"2020-04-06\", \"2020-04-07\", \"2020-04-08\", \"2020-04-09\", \"2020-04-10\", \"2020-04-11\", \"2020-04-12\", \"2020-04-13\", \"2020-04-14\", \"2020-04-15\", \"2020-04-16\", \"2020-04-17\", \"2020-04-18\", \"2020-04-19\", \"2020-04-20\", \"2020-04-21\", \"2020-04-22\", \"2020-04-23\", \"2020-04-24\", \"2020-04-25\", \"2020-04-26\", \"2020-04-27\", \"2020-04-28\", \"2020-04-29\", \"2020-04-30\", \"2020-05-01\", \"2020-05-02\", \"2020-05-03\", \"2020-05-04\", \"2020-05-05\", \"2020-05-06\", \"2020-05-07\", \"2020-05-08\", \"2020-05-09\", \"2020-05-10\", \"2020-05-11\", \"2020-05-12\", \"2020-05-13\", \"2020-05-14\", \"2020-05-15\", \"2020-05-16\", \"2020-05-17\", \"2020-05-18\", \"2020-05-19\", \"2020-05-20\", \"2020-05-21\", \"2020-05-22\", \"2020-05-23\", \"2020-05-24\", \"2020-05-25\", \"2020-05-26\", \"2020-05-27\", \"2020-05-28\", \"2020-05-29\", \"2020-05-30\", \"2020-05-31\", \"2020-06-01\", \"2020-06-02\", \"2020-06-03\"], \"y\": [2.7790115887506143e-14, 4.2948360917054943e-14, 4.042198674546348e-14, 0.006796450830024191, 0.43817419167013444, 1.6622570300928703, 3.7673754961262325, 6.618282300356171, 9.909042883360064, 13.24930704821058, 16.179370490583143, 18.217582981100787, 18.957866953119506, 18.240412196021392, 16.64991591157006, 14.721868377922041, 12.737310957572795, 10.846924858114006, 9.125924604610116, 7.604922696842434, 6.28851927161923, 5.1667742639445855, 4.229957466776806, 3.96064106723265, 6.788356425192765, 14.972855080876732, 29.86444023217887, 52.150896733278294, 82.00029909183424, 119.00707502374024, 162.2547726397057, 210.36779170035388, 261.5521510899444, 313.7988874061065, 364.90090090730195, 412.62846780117076, 454.84101339463484, 489.5711092575657, 515.1793862689653, 530.4965074343214, 534.8792700692194, 528.2048680819466, 510.88682461545767, 483.91347545328546, 448.69086951410986, 406.98619508753814, 360.86380808318637, 312.87791748532715, 266.5916938253545, 224.2910466114223, 186.86087961217888, 154.459372378515, 126.85567397964087, 103.63619536277123, 85.03790766309577, 71.878632321751, 64.43621799663553, 62.34200863418372, 64.80638994058377, 70.79217416245481, 79.13404081653555, 88.61000346973462, 98.13654680554565, 106.80642572543569, 113.86212678055585, 118.77806797638979, 121.219078213373, 121.07367528708276, 118.43948054910621, 113.53257126727053, 106.7197800799166, 98.45655962538613, 89.26315687561325, 79.62431986877264, 69.95822401708018, 60.67370035957312, 52.1111486258133, 44.48305593751591, 37.906516267801855, 32.44160118458641, 28.06226256015418, 24.681686419476975, 22.137302242135902, 20.272189462685816, 18.90897981058494, 17.90418056998767, 17.107056059394946, 16.356219053172982, 15.54883432526268, 14.635489263725725, 13.597063475420313, 12.482529116118904, 11.33767349886789, 10.187095747419807, 9.09645741810771, 8.163858598995372, 7.4452445322557725, 7.005860002374779, 6.878420895376432, 7.1089244450803095, 7.66216396116504, 8.481021639606372, 9.519961326393576, 10.739825731986125, 12.056165675483323, 13.402224648642717, 14.741690037490102, 16.00388825785133, 17.13975269192157, 18.082468273988486, 18.84540763989069, 19.464694058110567, 19.96664626977673, 20.373379116351853, 20.754557834584407, 21.164320731371788, 21.628343913475227, 22.208422746776318, 22.94542259078244, 23.848843525541927, 24.913724949014153, 26.177972353200566, 27.61251749564328, 29.172456388737384, 30.776059783320246, 32.36189034813573, 33.90055621218894, 35.37865621636738, 36.74102239457643, 37.949420797467326, 38.944724248636454, 39.744961980221504, 40.33810682221138, 40.7145883425215, 40.936201340836234, 41.01055361474011, 40.98460159430006, 40.85640438782605, 40.66610553120762, 40.456605926448454, 40.25011160445681, 40.05816301854173, 39.88611272929873, 39.73567803663666, 39.607340049651384, 39.55087024975209, 39.551727041550365, 39.58091209591701, 39.62322316907944, 39.66999388147773, 39.71631379229822, 39.75953697954271, 39.798396092312345, 39.83245359253604, 39.861756224503374, 39.88661699968023, 39.90747884399795, 39.92483100066016, 39.9391595340283, 39.95091973862626, 39.96052243257087, 39.968328858366405, 39.974650733646655, 39.979753207587066, 39.98385928781604, 39.987154840428495, 39.989793621575274, 39.99190203143345, 39.99358343112797, 39.994921957643534, 39.995985828861, 39.996830164229934, 39.9974993637296, 39.99802909538857, 39.9984479429325, 39.99962831908662, 40.05285581826813, 40.1456351173059, 40.25118815267743, 40.356497266596435, 40.454929857375205, 40.54340280025539, 40.6208719612869, 40.68744887185968, 40.743866662438386, 40.79115517736669, 40.829596202868686, 40.80904155116299, 40.74304574372366, 40.65933830038622, 40.5717705292041, 40.4876922801828, 40.41079527180288, 40.34263442992258, 40.283523171576356, 40.23307934477234, 40.19056123586665, 40.15507282344706, 40.126535839369595, 40.15532795432916, 40.228124527770724, 40.317412165703914, 40.40953489722477, 40.497314748283266, 40.57720832941058, 40.64778686170054, 40.70884298975045, 40.759997668843596, 40.75079831924466, 40.69386129252066, 40.565685745816346, 40.39273797276164, 40.20844505630387, 39.97840526969635, 39.72431677099039, 39.527772483455486, 39.39092538635939, 39.344998023105674, 39.41812355676045, 39.61564950994912, 39.932214810961824, 40.357312247805076, 40.87836093442034, 41.4815933781501, 42.10174185056488, 42.6350304353117, 42.96701252559174, 43.036046420827546, 42.775245127358026, 42.05160534957748, 40.79488168695261, 38.95423243494219, 36.47286811375672, 33.29802059279513, 29.491333127256283, 25.50642206194153, 21.701426359144655, 18.239416577659966, 15.183915874658748, 12.54343687139558, 10.29669933041845, 8.40758653438604, 6.834064067594831, 5.533396606555597, 4.465061065669185, 3.5922275183544596, 2.8823617489975453, 2.3073040666932, 1.843051112379981, 1.4693842623913598, 1.1694339386807617, 0.9292337129340771, 0.7372951285282195, 0.5842194599983083, 0.46235339757400756, 0.365490022243057, 0.28861317606362413, 0.227681595718698, 0.1794484046164295, 0.14131137795881032, 0.11118956099964332, 0.08742217398481292, 0.068686176679239, 0.05392932823503493, 0.04231602739965234, 0.03318363333559723, 0.026007339000395608, 0.02037199413249103, 0.015949554416586884, 0.012481070584052152, 0.009762330337813789, 0.007632431752272674, 0.005964703799736526, 0.0046595022065503144, 0.003638500817750254, 0.002840173619541828, 0.0022162229593454363, 0.001728758928319015, 0.0013480740399220141, 0.0010508891874906113, 0.0008189722576515933, 0.0006380511025655425, 0.0004969587918417852, 0.0003869619887331687, 0.00030123357185958517, 0.0002344388029844898, 0.00018241070365547786, 0.00014189571919460934, 0.00011035440231555387, 8.580536904345435e-05, 6.670317786504004e-05, 5.1842801869699746e-05, 4.028493613077444e-05, 3.1297620868523764e-05, 2.4310634722092396e-05, 1.887987849234681e-05, 1.4659571330513347e-05, 1.138053536983029e-05, 8.833326992569508e-06, 6.8549741298637755e-06, 5.318708315371623e-06, 4.125944327723927e-06, 3.200030888213708e-06, 2.4813833824231956e-06, 1.9236929637776888e-06, 1.4909759316752672e-06, 1.1552947676641957e-06, 8.949131205958515e-07, 6.929863679437808e-07, 5.363991104129834e-07, 4.1498732596462814e-07, 3.2087947122110767e-07, 2.479305730200091e-07, 1.913724670683021e-07, 1.4754152238715e-07, 1.1355985331344224e-07, 8.721325710010003e-08, 6.678459638149233e-08, 5.0942302702120894e-08, 3.86540187315e-08, 2.9119408079875738e-08, 2.171822188756778e-08, 1.5987596826663424e-08, 1.1568698078513585e-08, 8.183669958978297e-09, 5.599234656175314e-09, 3.65257872342934e-09, 2.2355316610224287e-09, 1.2283534387178306e-09, 5.564995970214821e-10, 1.619582690182142e-10, -6.315935428978669e-14, -1.8947806286936007e-14]}, {\"name\": \"Ipd\", \"type\": \"bar\", \"x\": [\"2020-01-22\", \"2020-01-23\", \"2020-01-24\", \"2020-01-25\", \"2020-01-26\", \"2020-01-27\", \"2020-01-28\", \"2020-01-29\", \"2020-01-30\", \"2020-01-31\", \"2020-02-01\", \"2020-02-02\", \"2020-02-03\", \"2020-02-04\", \"2020-02-05\", \"2020-02-06\", \"2020-02-07\", \"2020-02-08\", \"2020-02-09\", \"2020-02-10\", \"2020-02-11\", \"2020-02-12\", \"2020-02-13\", \"2020-02-14\", \"2020-02-15\", \"2020-02-16\", \"2020-02-17\", \"2020-02-18\", \"2020-02-19\", \"2020-02-20\", \"2020-02-21\", \"2020-02-22\", \"2020-02-23\", \"2020-02-24\", \"2020-02-25\", \"2020-02-26\", \"2020-02-27\", \"2020-02-28\", \"2020-02-29\", \"2020-03-01\", \"2020-03-02\", \"2020-03-03\", \"2020-03-04\", \"2020-03-05\", \"2020-03-06\", \"2020-03-07\", \"2020-03-08\", \"2020-03-09\", \"2020-03-10\", \"2020-03-11\", \"2020-03-12\", \"2020-03-13\", \"2020-03-14\", \"2020-03-15\", \"2020-03-16\", \"2020-03-17\", \"2020-03-18\", \"2020-03-19\", \"2020-03-20\", \"2020-03-21\", \"2020-03-22\", \"2020-03-23\", \"2020-03-24\", \"2020-03-25\", \"2020-03-26\", \"2020-03-27\", \"2020-03-28\", \"2020-03-29\", \"2020-03-30\", \"2020-03-31\", \"2020-04-01\", \"2020-04-02\", \"2020-04-03\", \"2020-04-04\", \"2020-04-05\", \"2020-04-06\", \"2020-04-07\", \"2020-04-08\", \"2020-04-09\", \"2020-04-10\", \"2020-04-11\", \"2020-04-12\", \"2020-04-13\", \"2020-04-14\", \"2020-04-15\", \"2020-04-16\", \"2020-04-17\", \"2020-04-18\", \"2020-04-19\", \"2020-04-20\", \"2020-04-21\", \"2020-04-22\", \"2020-04-23\", \"2020-04-24\", \"2020-04-25\", \"2020-04-26\", \"2020-04-27\", \"2020-04-28\", \"2020-04-29\", \"2020-04-30\", \"2020-05-01\", \"2020-05-02\", \"2020-05-03\", \"2020-05-04\", \"2020-05-05\", \"2020-05-06\", \"2020-05-07\", \"2020-05-08\", \"2020-05-09\", \"2020-05-10\", \"2020-05-11\", \"2020-05-12\", \"2020-05-13\", \"2020-05-14\", \"2020-05-15\", \"2020-05-16\", \"2020-05-17\", \"2020-05-18\", \"2020-05-19\", \"2020-05-20\", \"2020-05-21\", \"2020-05-22\", \"2020-05-23\", \"2020-05-24\", \"2020-05-25\", \"2020-05-26\", \"2020-05-27\", \"2020-05-28\", \"2020-05-29\", \"2020-05-30\", \"2020-05-31\", \"2020-06-01\", \"2020-06-02\", \"2020-06-03\"], \"y\": [0.0, 0.0, 1.0, 0.0, 1.0, 1.0, 0.0, 0.0, 0.0, 7.0, 1.0, 3.0, 0.0, 1.0, 3.0, 4.0, 1.0, 0.0, 1.0, 2.0, 1.0, 0.0, 0.0, 0.0, 0.0, 1.0, 1.0, 1.0, 0.0, 73.0, 100.0, 229.0, 169.0, 231.0, 144.0, 284.0, 505.0, 571.0, 813.0, 586.0, 599.0, 851.0, 435.0, 467.0, 505.0, 448.0, 273.0, 164.0, 35.0, 242.0, 114.0, 110.0, 107.0, 76.0, 74.0, 84.0, 93.0, 152.0, 87.0, 147.0, 162.0, 0.0, 76.0, 100.0, 104.0, 91.0, 146.0, 105.0, 78.0, 125.0, 101.0, 89.0, 86.0, 94.0, 81.0, 47.0, 47.0, 53.0, 39.0, 27.0, 30.0, 32.0, 25.0, 27.0, 27.0, 22.0, 22.0, 18.0, 8.0, 13.0, 9.0, 11.0, 14.0, 10.0, 10.0, 10.0, 14.0, 9.0, 4.0, 9.0, 6.0, 13.0, 8.0, 3.0, 2.0, 4.0, 12.0, 18.0, 34.0, 35.0, 27.0, 26.0, 29.0, 27.0, 19.0, 13.0, 15.0, 13.0, 32.0, 12.0, 20.0, 23.0, 25.0, 16.0, 19.0, 40.0, 79.0, 58.0, 39.0, 27.0, 35.0, 38.0, 49.0, 39.0]}, {\"name\": \"Ipd=lowpass(Ipd)\", \"type\": \"scatter\", \"x\": [\"2020-01-22\", \"2020-01-23\", \"2020-01-24\", \"2020-01-25\", \"2020-01-26\", \"2020-01-27\", \"2020-01-28\", \"2020-01-29\", \"2020-01-30\", \"2020-01-31\", \"2020-02-01\", \"2020-02-02\", \"2020-02-03\", \"2020-02-04\", \"2020-02-05\", \"2020-02-06\", \"2020-02-07\", \"2020-02-08\", \"2020-02-09\", \"2020-02-10\", \"2020-02-11\", \"2020-02-12\", \"2020-02-13\", \"2020-02-14\", \"2020-02-15\", \"2020-02-16\", \"2020-02-17\", \"2020-02-18\", \"2020-02-19\", \"2020-02-20\", \"2020-02-21\", \"2020-02-22\", \"2020-02-23\", \"2020-02-24\", \"2020-02-25\", \"2020-02-26\", \"2020-02-27\", \"2020-02-28\", \"2020-02-29\", \"2020-03-01\", \"2020-03-02\", \"2020-03-03\", \"2020-03-04\", \"2020-03-05\", \"2020-03-06\", \"2020-03-07\", \"2020-03-08\", \"2020-03-09\", \"2020-03-10\", \"2020-03-11\", \"2020-03-12\", \"2020-03-13\", \"2020-03-14\", \"2020-03-15\", \"2020-03-16\", \"2020-03-17\", \"2020-03-18\", \"2020-03-19\", \"2020-03-20\", \"2020-03-21\", \"2020-03-22\", \"2020-03-23\", \"2020-03-24\", \"2020-03-25\", \"2020-03-26\", \"2020-03-27\", \"2020-03-28\", \"2020-03-29\", \"2020-03-30\", \"2020-03-31\", \"2020-04-01\", \"2020-04-02\", \"2020-04-03\", \"2020-04-04\", \"2020-04-05\", \"2020-04-06\", \"2020-04-07\", \"2020-04-08\", \"2020-04-09\", \"2020-04-10\", \"2020-04-11\", \"2020-04-12\", \"2020-04-13\", \"2020-04-14\", \"2020-04-15\", \"2020-04-16\", \"2020-04-17\", \"2020-04-18\", \"2020-04-19\", \"2020-04-20\", \"2020-04-21\", \"2020-04-22\", \"2020-04-23\", \"2020-04-24\", \"2020-04-25\", \"2020-04-26\", \"2020-04-27\", \"2020-04-28\", \"2020-04-29\", \"2020-04-30\", \"2020-05-01\", \"2020-05-02\", \"2020-05-03\", \"2020-05-04\", \"2020-05-05\", \"2020-05-06\", \"2020-05-07\", \"2020-05-08\", \"2020-05-09\", \"2020-05-10\", \"2020-05-11\", \"2020-05-12\", \"2020-05-13\", \"2020-05-14\", \"2020-05-15\", \"2020-05-16\", \"2020-05-17\", \"2020-05-18\", \"2020-05-19\", \"2020-05-20\", \"2020-05-21\", \"2020-05-22\", \"2020-05-23\", \"2020-05-24\", \"2020-05-25\", \"2020-05-26\", \"2020-05-27\", \"2020-05-28\", \"2020-05-29\", \"2020-05-30\", \"2020-05-31\", \"2020-06-01\", \"2020-06-02\", \"2020-06-03\"], \"y\": [-3.6481516973741925, -4.368786975366834, -4.793815349861928, -4.7925081671315315, -4.2534672536969405, -3.101262619640268, -1.312623276847497, 1.0696636210709993, 3.927128630134652, 7.062213400607431, 10.202774465378063, 13.015718819324166, 15.13030507599677, 16.170765595737482, 15.79688390860418, 13.750073243218706, 9.901448639620334, 4.297489329391476, -2.8017218620808086, -10.896899919145593, -19.24151936030823, -26.855391936751666, -32.56247356352656, -35.05354359721524, -32.97202430461458, -25.018621225175174, -10.06791928063575, 12.71214225495297, 43.74856922889739, 82.9707145045274, 129.74770176806038, 182.86524216993482, 240.54859531778703, 300.534884837363, 360.19368595045216, 416.6899525121993, 467.17826436886054, 509.0126377157001, 539.9526178235225, 558.3449956713151, 563.2618734851483, 554.5799528554975, 532.9922143160065, 499.9505998173143, 457.5458037956914, 408.33682977674306, 355.1478188712121, 300.8523523029618, 248.1657905362083, 199.46426417957798, 156.64495763586933, 121.03693822889728, 93.36584500197107, 73.77012314130013, 61.861801377683335, 56.821406135826386, 57.514623642684214, 62.61776724025169, 70.73989523682378, 80.53137099804655, 90.77146587381556, 100.43087309689143, 108.70825631034089, 115.04274175595147, 119.10624022817032, 120.78053058327806, 120.12425359842453, 117.3345878211751, 112.70765176261676, 106.60078477375491, 99.39892448953826, 91.48640690335799, 83.22473689339687, 74.93626944997975, 66.89333388959922, 59.312119286247345, 52.35058309366739, 46.109687530361676, 40.637343976861295, 35.93450600367747, 31.962878953991634, 28.65371347089803, 25.917136968100593, 23.651470352114295, 21.751998487391283, 20.11872710692173, 18.662767934371757, 17.311135022014785, 16.009885373054477, 14.72566816739657, 13.445835807354273, 12.177305906285092, 10.944353501080629, 9.785479539993148, 8.74947283660714, 7.890780381093649, 7.264335453621537, 6.920062487716895, 6.897370501749889, 7.220043829772209, 7.892015095266119, 8.894536208821128, 10.185230631979543, 11.699405060347589, 13.353817922352121, 15.052847689920192, 16.696689672478687, 18.1908714411176, 19.456075281464326, 20.437065765364796, 21.10950599493205, 21.48363564371697, 21.604156155488106, 21.54615889462073, 21.40745591772845, 21.298148196868798, 21.328625212843033, 21.597385857506726, 22.180083346517943, 23.12103726623431, 24.42815965159443, 26.071853593211628, 27.98800246529233, 30.08471053137701, 32.252018469015184, 34.373444918169284, 36.33795217835894, 38.05086213356922, 39.44240540279126, 40.472969306179365, 41.1346393543608, 41.44917407282664, 41.46299576477451, 41.24006410440036]}],\n",
              "                        {\"template\": {\"data\": {\"bar\": [{\"error_x\": {\"color\": \"#2a3f5f\"}, \"error_y\": {\"color\": \"#2a3f5f\"}, \"marker\": {\"line\": {\"color\": \"#E5ECF6\", \"width\": 0.5}}, \"type\": \"bar\"}], \"barpolar\": [{\"marker\": {\"line\": {\"color\": \"#E5ECF6\", \"width\": 0.5}}, \"type\": \"barpolar\"}], \"carpet\": [{\"aaxis\": {\"endlinecolor\": \"#2a3f5f\", \"gridcolor\": \"white\", \"linecolor\": \"white\", \"minorgridcolor\": \"white\", \"startlinecolor\": \"#2a3f5f\"}, \"baxis\": {\"endlinecolor\": \"#2a3f5f\", \"gridcolor\": \"white\", \"linecolor\": \"white\", \"minorgridcolor\": \"white\", \"startlinecolor\": \"#2a3f5f\"}, \"type\": \"carpet\"}], \"choropleth\": [{\"colorbar\": {\"outlinewidth\": 0, \"ticks\": \"\"}, \"type\": \"choropleth\"}], \"contour\": [{\"colorbar\": {\"outlinewidth\": 0, \"ticks\": \"\"}, \"colorscale\": [[0.0, \"#0d0887\"], [0.1111111111111111, \"#46039f\"], [0.2222222222222222, \"#7201a8\"], [0.3333333333333333, \"#9c179e\"], [0.4444444444444444, \"#bd3786\"], [0.5555555555555556, \"#d8576b\"], [0.6666666666666666, \"#ed7953\"], [0.7777777777777778, \"#fb9f3a\"], [0.8888888888888888, \"#fdca26\"], [1.0, \"#f0f921\"]], \"type\": \"contour\"}], \"contourcarpet\": [{\"colorbar\": {\"outlinewidth\": 0, \"ticks\": \"\"}, \"type\": \"contourcarpet\"}], \"heatmap\": [{\"colorbar\": {\"outlinewidth\": 0, \"ticks\": \"\"}, \"colorscale\": [[0.0, \"#0d0887\"], [0.1111111111111111, \"#46039f\"], [0.2222222222222222, \"#7201a8\"], [0.3333333333333333, \"#9c179e\"], [0.4444444444444444, \"#bd3786\"], [0.5555555555555556, \"#d8576b\"], [0.6666666666666666, \"#ed7953\"], [0.7777777777777778, \"#fb9f3a\"], [0.8888888888888888, \"#fdca26\"], [1.0, \"#f0f921\"]], \"type\": \"heatmap\"}], \"heatmapgl\": [{\"colorbar\": {\"outlinewidth\": 0, \"ticks\": \"\"}, \"colorscale\": [[0.0, \"#0d0887\"], [0.1111111111111111, \"#46039f\"], [0.2222222222222222, \"#7201a8\"], [0.3333333333333333, \"#9c179e\"], [0.4444444444444444, \"#bd3786\"], [0.5555555555555556, \"#d8576b\"], [0.6666666666666666, \"#ed7953\"], [0.7777777777777778, \"#fb9f3a\"], [0.8888888888888888, \"#fdca26\"], [1.0, \"#f0f921\"]], \"type\": \"heatmapgl\"}], \"histogram\": [{\"marker\": {\"colorbar\": {\"outlinewidth\": 0, \"ticks\": \"\"}}, \"type\": \"histogram\"}], \"histogram2d\": [{\"colorbar\": {\"outlinewidth\": 0, \"ticks\": \"\"}, \"colorscale\": [[0.0, \"#0d0887\"], [0.1111111111111111, \"#46039f\"], [0.2222222222222222, \"#7201a8\"], [0.3333333333333333, \"#9c179e\"], [0.4444444444444444, \"#bd3786\"], [0.5555555555555556, \"#d8576b\"], [0.6666666666666666, \"#ed7953\"], [0.7777777777777778, \"#fb9f3a\"], [0.8888888888888888, \"#fdca26\"], [1.0, \"#f0f921\"]], \"type\": \"histogram2d\"}], \"histogram2dcontour\": [{\"colorbar\": {\"outlinewidth\": 0, \"ticks\": \"\"}, \"colorscale\": [[0.0, \"#0d0887\"], [0.1111111111111111, \"#46039f\"], [0.2222222222222222, \"#7201a8\"], [0.3333333333333333, \"#9c179e\"], [0.4444444444444444, \"#bd3786\"], [0.5555555555555556, \"#d8576b\"], [0.6666666666666666, \"#ed7953\"], [0.7777777777777778, \"#fb9f3a\"], [0.8888888888888888, \"#fdca26\"], [1.0, \"#f0f921\"]], \"type\": \"histogram2dcontour\"}], \"mesh3d\": [{\"colorbar\": {\"outlinewidth\": 0, \"ticks\": \"\"}, \"type\": \"mesh3d\"}], \"parcoords\": [{\"line\": {\"colorbar\": {\"outlinewidth\": 0, \"ticks\": \"\"}}, \"type\": \"parcoords\"}], \"pie\": [{\"automargin\": true, \"type\": \"pie\"}], \"scatter\": [{\"marker\": {\"colorbar\": {\"outlinewidth\": 0, \"ticks\": \"\"}}, \"type\": \"scatter\"}], \"scatter3d\": [{\"line\": {\"colorbar\": {\"outlinewidth\": 0, \"ticks\": \"\"}}, \"marker\": {\"colorbar\": {\"outlinewidth\": 0, \"ticks\": \"\"}}, \"type\": \"scatter3d\"}], \"scattercarpet\": [{\"marker\": {\"colorbar\": {\"outlinewidth\": 0, \"ticks\": \"\"}}, \"type\": \"scattercarpet\"}], \"scattergeo\": [{\"marker\": {\"colorbar\": {\"outlinewidth\": 0, \"ticks\": \"\"}}, \"type\": \"scattergeo\"}], \"scattergl\": [{\"marker\": {\"colorbar\": {\"outlinewidth\": 0, \"ticks\": \"\"}}, \"type\": \"scattergl\"}], \"scattermapbox\": [{\"marker\": {\"colorbar\": {\"outlinewidth\": 0, \"ticks\": \"\"}}, \"type\": \"scattermapbox\"}], \"scatterpolar\": [{\"marker\": {\"colorbar\": {\"outlinewidth\": 0, \"ticks\": \"\"}}, \"type\": \"scatterpolar\"}], \"scatterpolargl\": [{\"marker\": {\"colorbar\": {\"outlinewidth\": 0, \"ticks\": \"\"}}, \"type\": \"scatterpolargl\"}], \"scatterternary\": [{\"marker\": {\"colorbar\": {\"outlinewidth\": 0, \"ticks\": \"\"}}, \"type\": \"scatterternary\"}], \"surface\": [{\"colorbar\": {\"outlinewidth\": 0, \"ticks\": \"\"}, \"colorscale\": [[0.0, \"#0d0887\"], [0.1111111111111111, \"#46039f\"], [0.2222222222222222, \"#7201a8\"], [0.3333333333333333, \"#9c179e\"], [0.4444444444444444, \"#bd3786\"], [0.5555555555555556, \"#d8576b\"], [0.6666666666666666, \"#ed7953\"], [0.7777777777777778, \"#fb9f3a\"], [0.8888888888888888, \"#fdca26\"], [1.0, \"#f0f921\"]], \"type\": \"surface\"}], \"table\": [{\"cells\": {\"fill\": {\"color\": \"#EBF0F8\"}, \"line\": {\"color\": \"white\"}}, \"header\": {\"fill\": {\"color\": \"#C8D4E3\"}, \"line\": {\"color\": \"white\"}}, \"type\": \"table\"}]}, \"layout\": {\"annotationdefaults\": {\"arrowcolor\": \"#2a3f5f\", \"arrowhead\": 0, \"arrowwidth\": 1}, \"coloraxis\": {\"colorbar\": {\"outlinewidth\": 0, \"ticks\": \"\"}}, \"colorscale\": {\"diverging\": [[0, \"#8e0152\"], [0.1, \"#c51b7d\"], [0.2, \"#de77ae\"], [0.3, \"#f1b6da\"], [0.4, \"#fde0ef\"], [0.5, \"#f7f7f7\"], [0.6, \"#e6f5d0\"], [0.7, \"#b8e186\"], [0.8, \"#7fbc41\"], [0.9, \"#4d9221\"], [1, \"#276419\"]], \"sequential\": [[0.0, \"#0d0887\"], [0.1111111111111111, \"#46039f\"], [0.2222222222222222, \"#7201a8\"], [0.3333333333333333, \"#9c179e\"], [0.4444444444444444, \"#bd3786\"], [0.5555555555555556, \"#d8576b\"], [0.6666666666666666, \"#ed7953\"], [0.7777777777777778, \"#fb9f3a\"], [0.8888888888888888, \"#fdca26\"], [1.0, \"#f0f921\"]], \"sequentialminus\": [[0.0, \"#0d0887\"], [0.1111111111111111, \"#46039f\"], [0.2222222222222222, \"#7201a8\"], [0.3333333333333333, \"#9c179e\"], [0.4444444444444444, \"#bd3786\"], [0.5555555555555556, \"#d8576b\"], [0.6666666666666666, \"#ed7953\"], [0.7777777777777778, \"#fb9f3a\"], [0.8888888888888888, \"#fdca26\"], [1.0, \"#f0f921\"]]}, \"colorway\": [\"#636efa\", \"#EF553B\", \"#00cc96\", \"#ab63fa\", \"#FFA15A\", \"#19d3f3\", \"#FF6692\", \"#B6E880\", \"#FF97FF\", \"#FECB52\"], \"font\": {\"color\": \"#2a3f5f\"}, \"geo\": {\"bgcolor\": \"white\", \"lakecolor\": \"white\", \"landcolor\": \"#E5ECF6\", \"showlakes\": true, \"showland\": true, \"subunitcolor\": \"white\"}, \"hoverlabel\": {\"align\": \"left\"}, \"hovermode\": \"closest\", \"mapbox\": {\"style\": \"light\"}, \"paper_bgcolor\": \"white\", \"plot_bgcolor\": \"#E5ECF6\", \"polar\": {\"angularaxis\": {\"gridcolor\": \"white\", \"linecolor\": \"white\", \"ticks\": \"\"}, \"bgcolor\": \"#E5ECF6\", \"radialaxis\": {\"gridcolor\": \"white\", \"linecolor\": \"white\", \"ticks\": \"\"}}, \"scene\": {\"xaxis\": {\"backgroundcolor\": \"#E5ECF6\", \"gridcolor\": \"white\", \"gridwidth\": 2, \"linecolor\": \"white\", \"showbackground\": true, \"ticks\": \"\", \"zerolinecolor\": \"white\"}, \"yaxis\": {\"backgroundcolor\": \"#E5ECF6\", \"gridcolor\": \"white\", \"gridwidth\": 2, \"linecolor\": \"white\", \"showbackground\": true, \"ticks\": \"\", \"zerolinecolor\": \"white\"}, \"zaxis\": {\"backgroundcolor\": \"#E5ECF6\", \"gridcolor\": \"white\", \"gridwidth\": 2, \"linecolor\": \"white\", \"showbackground\": true, \"ticks\": \"\", \"zerolinecolor\": \"white\"}}, \"shapedefaults\": {\"line\": {\"color\": \"#2a3f5f\"}}, \"ternary\": {\"aaxis\": {\"gridcolor\": \"white\", \"linecolor\": \"white\", \"ticks\": \"\"}, \"baxis\": {\"gridcolor\": \"white\", \"linecolor\": \"white\", \"ticks\": \"\"}, \"bgcolor\": \"#E5ECF6\", \"caxis\": {\"gridcolor\": \"white\", \"linecolor\": \"white\", \"ticks\": \"\"}}, \"title\": {\"x\": 0.05}, \"xaxis\": {\"automargin\": true, \"gridcolor\": \"white\", \"linecolor\": \"white\", \"ticks\": \"\", \"title\": {\"standoff\": 15}, \"zerolinecolor\": \"white\", \"zerolinewidth\": 2}, \"yaxis\": {\"automargin\": true, \"gridcolor\": \"white\", \"linecolor\": \"white\", \"ticks\": \"\", \"title\": {\"standoff\": 15}, \"zerolinecolor\": \"white\", \"zerolinewidth\": 2}}}, \"title\": {\"text\": \"$\\\\text{Korea, Republic of: Actual } I_{pd} \\\\text{ vs. convolution of deconvolution of } I_{pd}$\", \"x\": 0.5, \"xanchor\": \"center\"}, \"xaxis\": {\"title\": {\"text\": \"Day\"}}, \"yaxis\": {\"title\": {\"text\": \"Count\"}}},\n",
              "                        {\"responsive\": true}\n",
              "                    ).then(function(){\n",
              "                            \n",
              "var gd = document.getElementById('d9145ffd-d9e6-42dd-8737-c350c6881d05');\n",
              "var x = new MutationObserver(function (mutations, observer) {{\n",
              "        var display = window.getComputedStyle(gd).display;\n",
              "        if (!display || display === 'none') {{\n",
              "            console.log([gd, 'removed!']);\n",
              "            Plotly.purge(gd);\n",
              "            observer.disconnect();\n",
              "        }}\n",
              "}});\n",
              "\n",
              "// Listen for the removal of the full notebook cells\n",
              "var notebookContainer = gd.closest('#notebook-container');\n",
              "if (notebookContainer) {{\n",
              "    x.observe(notebookContainer, {childList: true});\n",
              "}}\n",
              "\n",
              "// Listen for the clearing of the current output cell\n",
              "var outputEl = gd.closest('.output');\n",
              "if (outputEl) {{\n",
              "    x.observe(outputEl, {childList: true});\n",
              "}}\n",
              "\n",
              "                        })\n",
              "                };\n",
              "                \n",
              "            </script>\n",
              "        </div>\n",
              "</body>\n",
              "</html>"
            ]
          },
          "metadata": {
            "tags": []
          }
        }
      ]
    },
    {
      "cell_type": "markdown",
      "metadata": {
        "colab_type": "text",
        "id": "styPtQ1RfYcY"
      },
      "source": [
        "We can see that our estimate for $\\hat{E}_{pd}$ must be close to the reality of $E_{pd}$ as $I_{pd}$ is almost identical to $\\hat{E}_{pd} \\circledast h_L$.\n",
        "\n",
        "Of course, this holds only as long as our estimate of $h_L$ is close to reality.\n",
        "\n"
      ]
    },
    {
      "cell_type": "markdown",
      "metadata": {
        "colab_type": "text",
        "id": "sh1lmeSgfYca"
      },
      "source": [
        "#### 3. $\\beta$ and $R$ from $E_{pd}$ and $I$\n",
        "\n",
        "As described above:\n",
        "$$\\beta = \\frac{N~E_{pd}}{S~I}$$ and if $S$~$N$, then $$\\beta = \\frac{E_{pd}}{I}$$\n",
        "It is easier to simply say :\n",
        "$$R = \\frac{E_{pd}}{\\gamma~I}$$"
      ]
    },
    {
      "cell_type": "code",
      "metadata": {
        "colab_type": "code",
        "outputId": "b83e2074-9b44-49ef-e0f0-e348ee4df070",
        "id": "UayBpLtDfYcb",
        "colab": {
          "base_uri": "https://localhost:8080/",
          "height": 542
        }
      },
      "source": [
        "#collapse_hide\n",
        "\n",
        "# Calculate R\n",
        "gam = 1/20.11 # As we say gamma is 1/20.11\n",
        "R = Enext[:len(inf_df.loc['Korea, Republic of'])]*(1/gam)/inf_df.loc['Korea, Republic of']\n",
        "\n",
        "fig = go.Figure(data=[    \n",
        "    go.Scatter(name='R', x=inf_df.loc['Korea, Republic of'].index, y=R),\n",
        "    go.Scatter(name='Epd=deconv(Ipd)', x=inf_df.loc['Korea, Republic of'].index, y=Enext),\n",
        "    go.Scatter(name='Inf', x=inf_df.loc['Korea, Republic of'].index, y=inf_df.loc['Korea, Republic of']),\n",
        "])\n",
        "\n",
        "fig.update_layout(\n",
        "    \n",
        "    xaxis_title = 'Day',\n",
        "    yaxis_title = 'R',\n",
        "    title={\n",
        "        'text':r'$\\text{Korea, Republic of: R }$',\n",
        "        'x':0.5,\n",
        "        'xanchor':'center'\n",
        "    }\n",
        ")\n",
        "\n",
        "fig.show()"
      ],
      "execution_count": 247,
      "outputs": [
        {
          "output_type": "display_data",
          "data": {
            "text/html": [
              "<html>\n",
              "<head><meta charset=\"utf-8\" /></head>\n",
              "<body>\n",
              "    <div>\n",
              "            <script src=\"https://cdnjs.cloudflare.com/ajax/libs/mathjax/2.7.5/MathJax.js?config=TeX-AMS-MML_SVG\"></script><script type=\"text/javascript\">if (window.MathJax) {MathJax.Hub.Config({SVG: {font: \"STIX-Web\"}});}</script>\n",
              "                <script type=\"text/javascript\">window.PlotlyConfig = {MathJaxConfig: 'local'};</script>\n",
              "        <script src=\"https://cdn.plot.ly/plotly-latest.min.js\"></script>    \n",
              "            <div id=\"bb3f37a3-3381-4adf-aa23-a2c15aed3a6c\" class=\"plotly-graph-div\" style=\"height:525px; width:100%;\"></div>\n",
              "            <script type=\"text/javascript\">\n",
              "                \n",
              "                    window.PLOTLYENV=window.PLOTLYENV || {};\n",
              "                    \n",
              "                if (document.getElementById(\"bb3f37a3-3381-4adf-aa23-a2c15aed3a6c\")) {\n",
              "                    Plotly.newPlot(\n",
              "                        'bb3f37a3-3381-4adf-aa23-a2c15aed3a6c',\n",
              "                        [{\"name\": \"R\", \"type\": \"scatter\", \"x\": [\"2020-01-22\", \"2020-01-23\", \"2020-01-24\", \"2020-01-25\", \"2020-01-26\", \"2020-01-27\", \"2020-01-28\", \"2020-01-29\", \"2020-01-30\", \"2020-01-31\", \"2020-02-01\", \"2020-02-02\", \"2020-02-03\", \"2020-02-04\", \"2020-02-05\", \"2020-02-06\", \"2020-02-07\", \"2020-02-08\", \"2020-02-09\", \"2020-02-10\", \"2020-02-11\", \"2020-02-12\", \"2020-02-13\", \"2020-02-14\", \"2020-02-15\", \"2020-02-16\", \"2020-02-17\", \"2020-02-18\", \"2020-02-19\", \"2020-02-20\", \"2020-02-21\", \"2020-02-22\", \"2020-02-23\", \"2020-02-24\", \"2020-02-25\", \"2020-02-26\", \"2020-02-27\", \"2020-02-28\", \"2020-02-29\", \"2020-03-01\", \"2020-03-02\", \"2020-03-03\", \"2020-03-04\", \"2020-03-05\", \"2020-03-06\", \"2020-03-07\", \"2020-03-08\", \"2020-03-09\", \"2020-03-10\", \"2020-03-11\", \"2020-03-12\", \"2020-03-13\", \"2020-03-14\", \"2020-03-15\", \"2020-03-16\", \"2020-03-17\", \"2020-03-18\", \"2020-03-19\", \"2020-03-20\", \"2020-03-21\", \"2020-03-22\", \"2020-03-23\", \"2020-03-24\", \"2020-03-25\", \"2020-03-26\", \"2020-03-27\", \"2020-03-28\", \"2020-03-29\", \"2020-03-30\", \"2020-03-31\", \"2020-04-01\", \"2020-04-02\", \"2020-04-03\", \"2020-04-04\", \"2020-04-05\", \"2020-04-06\", \"2020-04-07\", \"2020-04-08\", \"2020-04-09\", \"2020-04-10\", \"2020-04-11\", \"2020-04-12\", \"2020-04-13\", \"2020-04-14\", \"2020-04-15\", \"2020-04-16\", \"2020-04-17\", \"2020-04-18\", \"2020-04-19\", \"2020-04-20\", \"2020-04-21\", \"2020-04-22\", \"2020-04-23\", \"2020-04-24\", \"2020-04-25\", \"2020-04-26\", \"2020-04-27\", \"2020-04-28\", \"2020-04-29\", \"2020-04-30\", \"2020-05-01\", \"2020-05-02\", \"2020-05-03\", \"2020-05-04\", \"2020-05-05\", \"2020-05-06\", \"2020-05-07\", \"2020-05-08\", \"2020-05-09\", \"2020-05-10\", \"2020-05-11\", \"2020-05-12\", \"2020-05-13\", \"2020-05-14\", \"2020-05-15\", \"2020-05-16\", \"2020-05-17\", \"2020-05-18\", \"2020-05-19\", \"2020-05-20\", \"2020-05-21\", \"2020-05-22\", \"2020-05-23\", \"2020-05-24\", \"2020-05-25\", \"2020-05-26\", \"2020-05-27\", \"2020-05-28\", \"2020-05-29\", \"2020-05-30\", \"2020-05-31\", \"2020-06-01\", \"2020-06-02\", \"2020-06-03\"], \"y\": [null, 0.0, 80.44, 170.935, 167.58333333333334, 155.8525, 170.935, 170.935, 150.825, 40.22, 18.434166666666666, 0.0, 0.0, 0.0, 0.0, 0.0, 0.0, 0.0, 0.0, 0.0, 0.0, 8.618571428571428, 55.54190476190475, 112.99904761904762, 196.86631578947367, 261.42999999999995, 339.859, 439.2447368421052, 516.5094736842105, 127.82563218390804, 65.51967741935484, 31.303759036144577, 23.276107266435986, 16.820631970260223, 14.108920634920635, 10.374596577017114, 6.81950895436164, 4.61254561251086, 2.9708690054715157, 2.087863919761453, 1.4293757306523263, 0.8902047581903276, 0.5585103697024346, 0.29770292747837657, 0.10970230673316708, 0.0, 0.0, 0.0, 0.0, 0.0, 0.0, 0.0, 0.03751865671641791, 0.1141256433944833, 0.20613895216400913, 0.2914066159250585, 0.36138164678155843, 0.4060282665128353, 0.43555428897121684, 0.4411443342182479, 0.5314374684396567, 0.5145127082982662, 0.5278410351201479, 0.4912308274947927, 0.4575976641159887, 0.4138392282958199, 0.35124695998231265, 0.2834970441109595, 0.2210923976608187, 0.1621774193548387, 0.11615884476534295, 0.08086453882885147, 0.05200413757434704, 0.03852490421455938, 0.03360066833751044, 0.034474285714285714, 0.0408621190130624, 0.053107394366197186, 0.06814849044978434, 0.0836576, 0.09304031725049569, 0.10295221843003412, 0.10499477897667941, 0.10742521367521367, 0.1023781818181818, 0.09186143890369242, 0.0780667701863354, 0.06476650563607085, 0.05059119496855346, 0.04326592082616179, 0.03602328705776982, 0.027687012391005048, 0.03067107269954245, 0.0436462289744981, 0.056840022611644996, 0.08132293471981512, 0.10942563482466748, 0.15148775894538605, 0.1929677861549006, 0.221292984869326, 0.25727078891258, 0.29573529411764704, 0.31704954954954956, 0.34918705603788475, 0.3797454844006568, 0.40751541850220263, 0.42747689463955635, 0.43545275590551175, 0.4389087301587301, 0.4333202742409402, 0.4389087301587301, 0.4389087301587301, 0.4773271413828689, 0.5150907150480256, 0.5441017316017316, 0.6033000000000001, 0.6494320712694877, 0.7108437856328392, 0.849718309859155, 1.0013278008298756, 1.067290502793296, 1.1409929078014185, 1.159648382559775, 1.1846002805049087, 1.2697944199706315, 1.2622539229671896, 1.2038639455782312, 1.149142857142857, 1.1172222222222223, 1.090453972257251, 1.0427407407407407, 1.0018347509113001, 0.9700117647058824, 0.9386231038506417]}, {\"name\": \"Epd=deconv(Ipd)\", \"type\": \"scatter\", \"x\": [\"2020-01-22\", \"2020-01-23\", \"2020-01-24\", \"2020-01-25\", \"2020-01-26\", \"2020-01-27\", \"2020-01-28\", \"2020-01-29\", \"2020-01-30\", \"2020-01-31\", \"2020-02-01\", \"2020-02-02\", \"2020-02-03\", \"2020-02-04\", \"2020-02-05\", \"2020-02-06\", \"2020-02-07\", \"2020-02-08\", \"2020-02-09\", \"2020-02-10\", \"2020-02-11\", \"2020-02-12\", \"2020-02-13\", \"2020-02-14\", \"2020-02-15\", \"2020-02-16\", \"2020-02-17\", \"2020-02-18\", \"2020-02-19\", \"2020-02-20\", \"2020-02-21\", \"2020-02-22\", \"2020-02-23\", \"2020-02-24\", \"2020-02-25\", \"2020-02-26\", \"2020-02-27\", \"2020-02-28\", \"2020-02-29\", \"2020-03-01\", \"2020-03-02\", \"2020-03-03\", \"2020-03-04\", \"2020-03-05\", \"2020-03-06\", \"2020-03-07\", \"2020-03-08\", \"2020-03-09\", \"2020-03-10\", \"2020-03-11\", \"2020-03-12\", \"2020-03-13\", \"2020-03-14\", \"2020-03-15\", \"2020-03-16\", \"2020-03-17\", \"2020-03-18\", \"2020-03-19\", \"2020-03-20\", \"2020-03-21\", \"2020-03-22\", \"2020-03-23\", \"2020-03-24\", \"2020-03-25\", \"2020-03-26\", \"2020-03-27\", \"2020-03-28\", \"2020-03-29\", \"2020-03-30\", \"2020-03-31\", \"2020-04-01\", \"2020-04-02\", \"2020-04-03\", \"2020-04-04\", \"2020-04-05\", \"2020-04-06\", \"2020-04-07\", \"2020-04-08\", \"2020-04-09\", \"2020-04-10\", \"2020-04-11\", \"2020-04-12\", \"2020-04-13\", \"2020-04-14\", \"2020-04-15\", \"2020-04-16\", \"2020-04-17\", \"2020-04-18\", \"2020-04-19\", \"2020-04-20\", \"2020-04-21\", \"2020-04-22\", \"2020-04-23\", \"2020-04-24\", \"2020-04-25\", \"2020-04-26\", \"2020-04-27\", \"2020-04-28\", \"2020-04-29\", \"2020-04-30\", \"2020-05-01\", \"2020-05-02\", \"2020-05-03\", \"2020-05-04\", \"2020-05-05\", \"2020-05-06\", \"2020-05-07\", \"2020-05-08\", \"2020-05-09\", \"2020-05-10\", \"2020-05-11\", \"2020-05-12\", \"2020-05-13\", \"2020-05-14\", \"2020-05-15\", \"2020-05-16\", \"2020-05-17\", \"2020-05-18\", \"2020-05-19\", \"2020-05-20\", \"2020-05-21\", \"2020-05-22\", \"2020-05-23\", \"2020-05-24\", \"2020-05-25\", \"2020-05-26\", \"2020-05-27\", \"2020-05-28\", \"2020-05-29\", \"2020-05-30\", \"2020-05-31\", \"2020-06-01\", \"2020-06-02\", \"2020-06-03\"], \"y\": [0.0, 0.0, 8.0, 17.0, 25.0, 31.0, 34.0, 34.0, 30.0, 22.0, 11.0, 0.0, 0.0, 0.0, 0.0, 0.0, 0.0, 0.0, 0.0, 0.0, 0.0, 9.0, 58.0, 118.0, 186.0, 260.0, 338.0, 415.0, 488.0, 553.0, 606.0, 646.0, 669.0, 675.0, 663.0, 633.0, 587.0, 528.0, 459.0, 383.0, 304.0, 227.0, 154.0, 89.0, 35.0, 0.0, 0.0, 0.0, 0.0, 0.0, 0.0, 0.0, 14.0, 43.0, 72.0, 99.0, 122.0, 140.0, 152.0, 157.0, 157.0, 152.0, 142.0, 129.0, 113.0, 96.0, 79.0, 62.0, 47.0, 34.0, 24.0, 16.0, 10.0, 7.0, 6.0, 6.0, 7.0, 9.0, 11.0, 13.0, 14.0, 15.0, 15.0, 15.0, 14.0, 12.0, 10.0, 8.0, 6.0, 5.0, 4.0, 3.0, 3.0, 4.0, 5.0, 7.0, 9.0, 12.0, 14.0, 16.0, 18.0, 20.0, 21.0, 22.0, 23.0, 23.0, 23.0, 22.0, 22.0, 22.0, 22.0, 22.0, 23.0, 24.0, 25.0, 27.0, 29.0, 31.0, 33.0, 36.0, 38.0, 40.0, 41.0, 42.0, 43.0, 44.0, 44.0, 44.0, 43.0, 43.0, 42.0, 41.0, 41.0, 40.0, 40.0, 39.0, 39.0, 39.0, 39.0, 39.0, 39.0, 39.0, 39.0, 40.0, 40.0, 40.0, 40.0, 40.0, 40.0, 40.0, 40.0, 40.0, 40.0, 40.0, 40.0, 40.0, 40.0, 40.0, 40.0, 40.0, 40.0, 40.0, 40.0, 40.0, 40.0, 40.0, 40.0, 40.0, 40.0, 40.0, 40.0, 40.0, 40.0, 40.0, 41.0, 41.0, 41.0, 41.0, 41.0, 41.0, 41.0, 41.0, 41.0, 41.0, 41.0, 40.0, 40.0, 40.0, 40.0, 40.0, 40.0, 40.0, 40.0, 40.0, 40.0, 40.0, 40.0, 41.0, 41.0, 41.0, 41.0, 41.0, 41.0, 41.0, 41.0, 41.0, 40.0, 40.0, 39.0, 39.0, 39.0, 38.0, 38.0, 39.0, 39.0, 40.0, 41.0, 42.0, 43.0, 44.0, 45.0, 46.0, 46.0, 45.0, 43.0, 41.0, 38.0, 33.0, 28.0, 22.0, 15.0, 7.0, 0.0, 0.0]}, {\"name\": \"Inf\", \"type\": \"scatter\", \"x\": [\"2020-01-22\", \"2020-01-23\", \"2020-01-24\", \"2020-01-25\", \"2020-01-26\", \"2020-01-27\", \"2020-01-28\", \"2020-01-29\", \"2020-01-30\", \"2020-01-31\", \"2020-02-01\", \"2020-02-02\", \"2020-02-03\", \"2020-02-04\", \"2020-02-05\", \"2020-02-06\", \"2020-02-07\", \"2020-02-08\", \"2020-02-09\", \"2020-02-10\", \"2020-02-11\", \"2020-02-12\", \"2020-02-13\", \"2020-02-14\", \"2020-02-15\", \"2020-02-16\", \"2020-02-17\", \"2020-02-18\", \"2020-02-19\", \"2020-02-20\", \"2020-02-21\", \"2020-02-22\", \"2020-02-23\", \"2020-02-24\", \"2020-02-25\", \"2020-02-26\", \"2020-02-27\", \"2020-02-28\", \"2020-02-29\", \"2020-03-01\", \"2020-03-02\", \"2020-03-03\", \"2020-03-04\", \"2020-03-05\", \"2020-03-06\", \"2020-03-07\", \"2020-03-08\", \"2020-03-09\", \"2020-03-10\", \"2020-03-11\", \"2020-03-12\", \"2020-03-13\", \"2020-03-14\", \"2020-03-15\", \"2020-03-16\", \"2020-03-17\", \"2020-03-18\", \"2020-03-19\", \"2020-03-20\", \"2020-03-21\", \"2020-03-22\", \"2020-03-23\", \"2020-03-24\", \"2020-03-25\", \"2020-03-26\", \"2020-03-27\", \"2020-03-28\", \"2020-03-29\", \"2020-03-30\", \"2020-03-31\", \"2020-04-01\", \"2020-04-02\", \"2020-04-03\", \"2020-04-04\", \"2020-04-05\", \"2020-04-06\", \"2020-04-07\", \"2020-04-08\", \"2020-04-09\", \"2020-04-10\", \"2020-04-11\", \"2020-04-12\", \"2020-04-13\", \"2020-04-14\", \"2020-04-15\", \"2020-04-16\", \"2020-04-17\", \"2020-04-18\", \"2020-04-19\", \"2020-04-20\", \"2020-04-21\", \"2020-04-22\", \"2020-04-23\", \"2020-04-24\", \"2020-04-25\", \"2020-04-26\", \"2020-04-27\", \"2020-04-28\", \"2020-04-29\", \"2020-04-30\", \"2020-05-01\", \"2020-05-02\", \"2020-05-03\", \"2020-05-04\", \"2020-05-05\", \"2020-05-06\", \"2020-05-07\", \"2020-05-08\", \"2020-05-09\", \"2020-05-10\", \"2020-05-11\", \"2020-05-12\", \"2020-05-13\", \"2020-05-14\", \"2020-05-15\", \"2020-05-16\", \"2020-05-17\", \"2020-05-18\", \"2020-05-19\", \"2020-05-20\", \"2020-05-21\", \"2020-05-22\", \"2020-05-23\", \"2020-05-24\", \"2020-05-25\", \"2020-05-26\", \"2020-05-27\", \"2020-05-28\", \"2020-05-29\", \"2020-05-30\", \"2020-05-31\", \"2020-06-01\", \"2020-06-02\", \"2020-06-03\"], \"y\": [0, 1, 2, 2, 3, 4, 4, 4, 4, 11, 12, 15, 15, 16, 19, 23, 23, 23, 22, 24, 25, 21, 21, 21, 19, 20, 20, 19, 19, 87, 186, 415, 578, 807, 945, 1227, 1731, 2302, 3107, 3689, 4277, 5128, 5545, 6012, 6416, 6862, 7146, 7307, 7212, 7407, 7470, 7403, 7504, 7577, 7024, 6832, 6789, 6934, 7018, 7157, 5941, 5941, 5410, 5281, 4966, 4665, 4523, 4398, 4275, 4216, 4155, 3979, 3867, 3654, 3591, 3500, 3445, 3408, 3246, 3125, 3026, 2930, 2873, 2808, 2750, 2627, 2576, 2484, 2385, 2324, 2233, 2179, 1967, 1843, 1769, 1731, 1654, 1593, 1459, 1454, 1407, 1360, 1332, 1267, 1218, 1135, 1082, 1016, 1008, 1021, 1008, 1008, 969, 937, 924, 900, 898, 877, 781, 723, 716, 705, 711, 713, 681, 701, 735, 770, 774, 793, 810, 823, 850, 857]}],\n",
              "                        {\"template\": {\"data\": {\"bar\": [{\"error_x\": {\"color\": \"#2a3f5f\"}, \"error_y\": {\"color\": \"#2a3f5f\"}, \"marker\": {\"line\": {\"color\": \"#E5ECF6\", \"width\": 0.5}}, \"type\": \"bar\"}], \"barpolar\": [{\"marker\": {\"line\": {\"color\": \"#E5ECF6\", \"width\": 0.5}}, \"type\": \"barpolar\"}], \"carpet\": [{\"aaxis\": {\"endlinecolor\": \"#2a3f5f\", \"gridcolor\": \"white\", \"linecolor\": \"white\", \"minorgridcolor\": \"white\", \"startlinecolor\": \"#2a3f5f\"}, \"baxis\": {\"endlinecolor\": \"#2a3f5f\", \"gridcolor\": \"white\", \"linecolor\": \"white\", \"minorgridcolor\": \"white\", \"startlinecolor\": \"#2a3f5f\"}, \"type\": \"carpet\"}], \"choropleth\": [{\"colorbar\": {\"outlinewidth\": 0, \"ticks\": \"\"}, \"type\": \"choropleth\"}], \"contour\": [{\"colorbar\": {\"outlinewidth\": 0, \"ticks\": \"\"}, \"colorscale\": [[0.0, \"#0d0887\"], [0.1111111111111111, \"#46039f\"], [0.2222222222222222, \"#7201a8\"], [0.3333333333333333, \"#9c179e\"], [0.4444444444444444, \"#bd3786\"], [0.5555555555555556, \"#d8576b\"], [0.6666666666666666, \"#ed7953\"], [0.7777777777777778, \"#fb9f3a\"], [0.8888888888888888, \"#fdca26\"], [1.0, \"#f0f921\"]], \"type\": \"contour\"}], \"contourcarpet\": [{\"colorbar\": {\"outlinewidth\": 0, \"ticks\": \"\"}, \"type\": \"contourcarpet\"}], \"heatmap\": [{\"colorbar\": {\"outlinewidth\": 0, \"ticks\": \"\"}, \"colorscale\": [[0.0, \"#0d0887\"], [0.1111111111111111, \"#46039f\"], [0.2222222222222222, \"#7201a8\"], [0.3333333333333333, \"#9c179e\"], [0.4444444444444444, \"#bd3786\"], [0.5555555555555556, \"#d8576b\"], [0.6666666666666666, \"#ed7953\"], [0.7777777777777778, \"#fb9f3a\"], [0.8888888888888888, \"#fdca26\"], [1.0, \"#f0f921\"]], \"type\": \"heatmap\"}], \"heatmapgl\": [{\"colorbar\": {\"outlinewidth\": 0, \"ticks\": \"\"}, \"colorscale\": [[0.0, \"#0d0887\"], [0.1111111111111111, \"#46039f\"], [0.2222222222222222, \"#7201a8\"], [0.3333333333333333, \"#9c179e\"], [0.4444444444444444, \"#bd3786\"], [0.5555555555555556, \"#d8576b\"], [0.6666666666666666, \"#ed7953\"], [0.7777777777777778, \"#fb9f3a\"], [0.8888888888888888, \"#fdca26\"], [1.0, \"#f0f921\"]], \"type\": \"heatmapgl\"}], \"histogram\": [{\"marker\": {\"colorbar\": {\"outlinewidth\": 0, \"ticks\": \"\"}}, \"type\": \"histogram\"}], \"histogram2d\": [{\"colorbar\": {\"outlinewidth\": 0, \"ticks\": \"\"}, \"colorscale\": [[0.0, \"#0d0887\"], [0.1111111111111111, \"#46039f\"], [0.2222222222222222, \"#7201a8\"], [0.3333333333333333, \"#9c179e\"], [0.4444444444444444, \"#bd3786\"], [0.5555555555555556, \"#d8576b\"], [0.6666666666666666, \"#ed7953\"], [0.7777777777777778, \"#fb9f3a\"], [0.8888888888888888, \"#fdca26\"], [1.0, \"#f0f921\"]], \"type\": \"histogram2d\"}], \"histogram2dcontour\": [{\"colorbar\": {\"outlinewidth\": 0, \"ticks\": \"\"}, \"colorscale\": [[0.0, \"#0d0887\"], [0.1111111111111111, \"#46039f\"], [0.2222222222222222, \"#7201a8\"], [0.3333333333333333, \"#9c179e\"], [0.4444444444444444, \"#bd3786\"], [0.5555555555555556, \"#d8576b\"], [0.6666666666666666, \"#ed7953\"], [0.7777777777777778, \"#fb9f3a\"], [0.8888888888888888, \"#fdca26\"], [1.0, \"#f0f921\"]], \"type\": \"histogram2dcontour\"}], \"mesh3d\": [{\"colorbar\": {\"outlinewidth\": 0, \"ticks\": \"\"}, \"type\": \"mesh3d\"}], \"parcoords\": [{\"line\": {\"colorbar\": {\"outlinewidth\": 0, \"ticks\": \"\"}}, \"type\": \"parcoords\"}], \"pie\": [{\"automargin\": true, \"type\": \"pie\"}], \"scatter\": [{\"marker\": {\"colorbar\": {\"outlinewidth\": 0, \"ticks\": \"\"}}, \"type\": \"scatter\"}], \"scatter3d\": [{\"line\": {\"colorbar\": {\"outlinewidth\": 0, \"ticks\": \"\"}}, \"marker\": {\"colorbar\": {\"outlinewidth\": 0, \"ticks\": \"\"}}, \"type\": \"scatter3d\"}], \"scattercarpet\": [{\"marker\": {\"colorbar\": {\"outlinewidth\": 0, \"ticks\": \"\"}}, \"type\": \"scattercarpet\"}], \"scattergeo\": [{\"marker\": {\"colorbar\": {\"outlinewidth\": 0, \"ticks\": \"\"}}, \"type\": \"scattergeo\"}], \"scattergl\": [{\"marker\": {\"colorbar\": {\"outlinewidth\": 0, \"ticks\": \"\"}}, \"type\": \"scattergl\"}], \"scattermapbox\": [{\"marker\": {\"colorbar\": {\"outlinewidth\": 0, \"ticks\": \"\"}}, \"type\": \"scattermapbox\"}], \"scatterpolar\": [{\"marker\": {\"colorbar\": {\"outlinewidth\": 0, \"ticks\": \"\"}}, \"type\": \"scatterpolar\"}], \"scatterpolargl\": [{\"marker\": {\"colorbar\": {\"outlinewidth\": 0, \"ticks\": \"\"}}, \"type\": \"scatterpolargl\"}], \"scatterternary\": [{\"marker\": {\"colorbar\": {\"outlinewidth\": 0, \"ticks\": \"\"}}, \"type\": \"scatterternary\"}], \"surface\": [{\"colorbar\": {\"outlinewidth\": 0, \"ticks\": \"\"}, \"colorscale\": [[0.0, \"#0d0887\"], [0.1111111111111111, \"#46039f\"], [0.2222222222222222, \"#7201a8\"], [0.3333333333333333, \"#9c179e\"], [0.4444444444444444, \"#bd3786\"], [0.5555555555555556, \"#d8576b\"], [0.6666666666666666, \"#ed7953\"], [0.7777777777777778, \"#fb9f3a\"], [0.8888888888888888, \"#fdca26\"], [1.0, \"#f0f921\"]], \"type\": \"surface\"}], \"table\": [{\"cells\": {\"fill\": {\"color\": \"#EBF0F8\"}, \"line\": {\"color\": \"white\"}}, \"header\": {\"fill\": {\"color\": \"#C8D4E3\"}, \"line\": {\"color\": \"white\"}}, \"type\": \"table\"}]}, \"layout\": {\"annotationdefaults\": {\"arrowcolor\": \"#2a3f5f\", \"arrowhead\": 0, \"arrowwidth\": 1}, \"coloraxis\": {\"colorbar\": {\"outlinewidth\": 0, \"ticks\": \"\"}}, \"colorscale\": {\"diverging\": [[0, \"#8e0152\"], [0.1, \"#c51b7d\"], [0.2, \"#de77ae\"], [0.3, \"#f1b6da\"], [0.4, \"#fde0ef\"], [0.5, \"#f7f7f7\"], [0.6, \"#e6f5d0\"], [0.7, \"#b8e186\"], [0.8, \"#7fbc41\"], [0.9, \"#4d9221\"], [1, \"#276419\"]], \"sequential\": [[0.0, \"#0d0887\"], [0.1111111111111111, \"#46039f\"], [0.2222222222222222, \"#7201a8\"], [0.3333333333333333, \"#9c179e\"], [0.4444444444444444, \"#bd3786\"], [0.5555555555555556, \"#d8576b\"], [0.6666666666666666, \"#ed7953\"], [0.7777777777777778, \"#fb9f3a\"], [0.8888888888888888, \"#fdca26\"], [1.0, \"#f0f921\"]], \"sequentialminus\": [[0.0, \"#0d0887\"], [0.1111111111111111, \"#46039f\"], [0.2222222222222222, \"#7201a8\"], [0.3333333333333333, \"#9c179e\"], [0.4444444444444444, \"#bd3786\"], [0.5555555555555556, \"#d8576b\"], [0.6666666666666666, \"#ed7953\"], [0.7777777777777778, \"#fb9f3a\"], [0.8888888888888888, \"#fdca26\"], [1.0, \"#f0f921\"]]}, \"colorway\": [\"#636efa\", \"#EF553B\", \"#00cc96\", \"#ab63fa\", \"#FFA15A\", \"#19d3f3\", \"#FF6692\", \"#B6E880\", \"#FF97FF\", \"#FECB52\"], \"font\": {\"color\": \"#2a3f5f\"}, \"geo\": {\"bgcolor\": \"white\", \"lakecolor\": \"white\", \"landcolor\": \"#E5ECF6\", \"showlakes\": true, \"showland\": true, \"subunitcolor\": \"white\"}, \"hoverlabel\": {\"align\": \"left\"}, \"hovermode\": \"closest\", \"mapbox\": {\"style\": \"light\"}, \"paper_bgcolor\": \"white\", \"plot_bgcolor\": \"#E5ECF6\", \"polar\": {\"angularaxis\": {\"gridcolor\": \"white\", \"linecolor\": \"white\", \"ticks\": \"\"}, \"bgcolor\": \"#E5ECF6\", \"radialaxis\": {\"gridcolor\": \"white\", \"linecolor\": \"white\", \"ticks\": \"\"}}, \"scene\": {\"xaxis\": {\"backgroundcolor\": \"#E5ECF6\", \"gridcolor\": \"white\", \"gridwidth\": 2, \"linecolor\": \"white\", \"showbackground\": true, \"ticks\": \"\", \"zerolinecolor\": \"white\"}, \"yaxis\": {\"backgroundcolor\": \"#E5ECF6\", \"gridcolor\": \"white\", \"gridwidth\": 2, \"linecolor\": \"white\", \"showbackground\": true, \"ticks\": \"\", \"zerolinecolor\": \"white\"}, \"zaxis\": {\"backgroundcolor\": \"#E5ECF6\", \"gridcolor\": \"white\", \"gridwidth\": 2, \"linecolor\": \"white\", \"showbackground\": true, \"ticks\": \"\", \"zerolinecolor\": \"white\"}}, \"shapedefaults\": {\"line\": {\"color\": \"#2a3f5f\"}}, \"ternary\": {\"aaxis\": {\"gridcolor\": \"white\", \"linecolor\": \"white\", \"ticks\": \"\"}, \"baxis\": {\"gridcolor\": \"white\", \"linecolor\": \"white\", \"ticks\": \"\"}, \"bgcolor\": \"#E5ECF6\", \"caxis\": {\"gridcolor\": \"white\", \"linecolor\": \"white\", \"ticks\": \"\"}}, \"title\": {\"x\": 0.05}, \"xaxis\": {\"automargin\": true, \"gridcolor\": \"white\", \"linecolor\": \"white\", \"ticks\": \"\", \"title\": {\"standoff\": 15}, \"zerolinecolor\": \"white\", \"zerolinewidth\": 2}, \"yaxis\": {\"automargin\": true, \"gridcolor\": \"white\", \"linecolor\": \"white\", \"ticks\": \"\", \"title\": {\"standoff\": 15}, \"zerolinecolor\": \"white\", \"zerolinewidth\": 2}}}, \"title\": {\"text\": \"$\\\\text{Korea, Republic of: R }$\", \"x\": 0.5, \"xanchor\": \"center\"}, \"xaxis\": {\"title\": {\"text\": \"Day\"}}, \"yaxis\": {\"title\": {\"text\": \"R\"}}},\n",
              "                        {\"responsive\": true}\n",
              "                    ).then(function(){\n",
              "                            \n",
              "var gd = document.getElementById('bb3f37a3-3381-4adf-aa23-a2c15aed3a6c');\n",
              "var x = new MutationObserver(function (mutations, observer) {{\n",
              "        var display = window.getComputedStyle(gd).display;\n",
              "        if (!display || display === 'none') {{\n",
              "            console.log([gd, 'removed!']);\n",
              "            Plotly.purge(gd);\n",
              "            observer.disconnect();\n",
              "        }}\n",
              "}});\n",
              "\n",
              "// Listen for the removal of the full notebook cells\n",
              "var notebookContainer = gd.closest('#notebook-container');\n",
              "if (notebookContainer) {{\n",
              "    x.observe(notebookContainer, {childList: true});\n",
              "}}\n",
              "\n",
              "// Listen for the clearing of the current output cell\n",
              "var outputEl = gd.closest('.output');\n",
              "if (outputEl) {{\n",
              "    x.observe(outputEl, {childList: true});\n",
              "}}\n",
              "\n",
              "                        })\n",
              "                };\n",
              "                \n",
              "            </script>\n",
              "        </div>\n",
              "</body>\n",
              "</html>"
            ]
          },
          "metadata": {
            "tags": []
          }
        }
      ]
    },
    {
      "cell_type": "markdown",
      "metadata": {
        "id": "LvuZ6myPlYrk",
        "colab_type": "text"
      },
      "source": [
        "We can see $R<1$ since early March, but has snce climbed back up to 1 and even slightly above that."
      ]
    },
    {
      "cell_type": "markdown",
      "metadata": {
        "colab_type": "text",
        "id": "_MmakW3jmFlj"
      },
      "source": [
        "### Switzerland\n",
        "\n",
        "* We have daily data $I_{pd}$ and $R_{pd}$ (where $R_{pd}$ is the sum of deaths and recoveries)\n",
        "* We have our assumed $T_L$ and $T_I$\n",
        "\n",
        "Analysis steps:\n",
        "1. The first thing we want to check is whether $h_I\\circledast I_{pd} [j]$ gives us something close to $R_{pd}$ If not, why not?\n",
        "2. Can we get an estimated $E_{pd}$ by deconvolution of $I_{pd}$ ?\n",
        "3. What can that tell us about $R$ and $\\beta$ ?"
      ]
    },
    {
      "cell_type": "markdown",
      "metadata": {
        "colab_type": "text",
        "id": "hYLmBwKsmFll"
      },
      "source": [
        "#### 1. Checking $h_I$"
      ]
    },
    {
      "cell_type": "code",
      "metadata": {
        "colab_type": "code",
        "outputId": "00f58ac4-8275-4ef9-ecf1-aedc23fcc154",
        "id": "fVyUreUymFll",
        "colab": {
          "base_uri": "https://localhost:8080/",
          "height": 542
        }
      },
      "source": [
        "#collapse_hide\n",
        "fig = go.Figure(data=[    \n",
        "    go.Bar(name='Ipd', x=conf_df_pd.loc['Switzerland'].index, y=conf_df_pd.loc['Switzerland']),\n",
        "    go.Scatter(name='Ipd=lowpass(Ipd)', x=conf_df_pd.loc['Switzerland'].index, y=lowpass(conf_df_pd.loc['Switzerland']+deaths_df_pd.loc['Switzerland'])[0]),\n",
        "    go.Bar(name='Rpd', x=rec_df_pd.loc['Switzerland'].index, y=rec_df_pd.loc['Switzerland']),\n",
        "    go.Scatter(name='Rpd=lowpass(Rpd)', x=rec_df_pd.loc['Switzerland'].index, y=lowpass(rec_df_pd.loc['Switzerland'])[0]),\n",
        "    go.Scatter(name='Rpd=conv(Ipd)', x=conf_df_pd.loc['Switzerland'].index, y=signal.fftconvolve(h_I, conf_df_pd.loc['Switzerland']+deaths_df_pd.loc['Switzerland'], mode='full'))\n",
        "])\n",
        "\n",
        "fig.update_layout(\n",
        "    xaxis_title = 'Day',\n",
        "    yaxis_title = 'Count',\n",
        "    title={\n",
        "        'text':r'$\\text{Switzerland: Actual } R_{pd} \\text{ vs. } h_I[j]\\circledast I_{pd}[j]$',\n",
        "        'x':0.5,\n",
        "        'xanchor':'center'\n",
        "    }\n",
        ")\n",
        "\n",
        "fig.show()"
      ],
      "execution_count": 248,
      "outputs": [
        {
          "output_type": "display_data",
          "data": {
            "text/html": [
              "<html>\n",
              "<head><meta charset=\"utf-8\" /></head>\n",
              "<body>\n",
              "    <div>\n",
              "            <script src=\"https://cdnjs.cloudflare.com/ajax/libs/mathjax/2.7.5/MathJax.js?config=TeX-AMS-MML_SVG\"></script><script type=\"text/javascript\">if (window.MathJax) {MathJax.Hub.Config({SVG: {font: \"STIX-Web\"}});}</script>\n",
              "                <script type=\"text/javascript\">window.PlotlyConfig = {MathJaxConfig: 'local'};</script>\n",
              "        <script src=\"https://cdn.plot.ly/plotly-latest.min.js\"></script>    \n",
              "            <div id=\"e05ad65f-8d49-4f5b-9659-f46d9b9edc2c\" class=\"plotly-graph-div\" style=\"height:525px; width:100%;\"></div>\n",
              "            <script type=\"text/javascript\">\n",
              "                \n",
              "                    window.PLOTLYENV=window.PLOTLYENV || {};\n",
              "                    \n",
              "                if (document.getElementById(\"e05ad65f-8d49-4f5b-9659-f46d9b9edc2c\")) {\n",
              "                    Plotly.newPlot(\n",
              "                        'e05ad65f-8d49-4f5b-9659-f46d9b9edc2c',\n",
              "                        [{\"name\": \"Ipd\", \"type\": \"bar\", \"x\": [\"2020-01-22\", \"2020-01-23\", \"2020-01-24\", \"2020-01-25\", \"2020-01-26\", \"2020-01-27\", \"2020-01-28\", \"2020-01-29\", \"2020-01-30\", \"2020-01-31\", \"2020-02-01\", \"2020-02-02\", \"2020-02-03\", \"2020-02-04\", \"2020-02-05\", \"2020-02-06\", \"2020-02-07\", \"2020-02-08\", \"2020-02-09\", \"2020-02-10\", \"2020-02-11\", \"2020-02-12\", \"2020-02-13\", \"2020-02-14\", \"2020-02-15\", \"2020-02-16\", \"2020-02-17\", \"2020-02-18\", \"2020-02-19\", \"2020-02-20\", \"2020-02-21\", \"2020-02-22\", \"2020-02-23\", \"2020-02-24\", \"2020-02-25\", \"2020-02-26\", \"2020-02-27\", \"2020-02-28\", \"2020-02-29\", \"2020-03-01\", \"2020-03-02\", \"2020-03-03\", \"2020-03-04\", \"2020-03-05\", \"2020-03-06\", \"2020-03-07\", \"2020-03-08\", \"2020-03-09\", \"2020-03-10\", \"2020-03-11\", \"2020-03-12\", \"2020-03-13\", \"2020-03-14\", \"2020-03-15\", \"2020-03-16\", \"2020-03-17\", \"2020-03-18\", \"2020-03-19\", \"2020-03-20\", \"2020-03-21\", \"2020-03-22\", \"2020-03-23\", \"2020-03-24\", \"2020-03-25\", \"2020-03-26\", \"2020-03-27\", \"2020-03-28\", \"2020-03-29\", \"2020-03-30\", \"2020-03-31\", \"2020-04-01\", \"2020-04-02\", \"2020-04-03\", \"2020-04-04\", \"2020-04-05\", \"2020-04-06\", \"2020-04-07\", \"2020-04-08\", \"2020-04-09\", \"2020-04-10\", \"2020-04-11\", \"2020-04-12\", \"2020-04-13\", \"2020-04-14\", \"2020-04-15\", \"2020-04-16\", \"2020-04-17\", \"2020-04-18\", \"2020-04-19\", \"2020-04-20\", \"2020-04-21\", \"2020-04-22\", \"2020-04-23\", \"2020-04-24\", \"2020-04-25\", \"2020-04-26\", \"2020-04-27\", \"2020-04-28\", \"2020-04-29\", \"2020-04-30\", \"2020-05-01\", \"2020-05-02\", \"2020-05-03\", \"2020-05-04\", \"2020-05-05\", \"2020-05-06\", \"2020-05-07\", \"2020-05-08\", \"2020-05-09\", \"2020-05-10\", \"2020-05-11\", \"2020-05-12\", \"2020-05-13\", \"2020-05-14\", \"2020-05-15\", \"2020-05-16\", \"2020-05-17\", \"2020-05-18\", \"2020-05-19\", \"2020-05-20\", \"2020-05-21\", \"2020-05-22\", \"2020-05-23\", \"2020-05-24\", \"2020-05-25\", \"2020-05-26\", \"2020-05-27\", \"2020-05-28\", \"2020-05-29\", \"2020-05-30\", \"2020-05-31\", \"2020-06-01\", \"2020-06-02\", \"2020-06-03\"], \"y\": [0.0, 0.0, 0.0, 0.0, 0.0, 0.0, 0.0, 0.0, 0.0, 0.0, 0.0, 0.0, 0.0, 0.0, 0.0, 0.0, 0.0, 0.0, 0.0, 0.0, 0.0, 0.0, 0.0, 0.0, 0.0, 0.0, 0.0, 0.0, 0.0, 0.0, 0.0, 0.0, 0.0, 0.0, 1.0, 0.0, 7.0, 0.0, 10.0, 9.0, 15.0, 14.0, 34.0, 24.0, 100.0, 54.0, 69.0, 37.0, 117.0, 161.0, 0.0, 487.0, 220.0, 841.0, 0.0, 500.0, 328.0, 1047.0, 1219.0, 1281.0, 899.0, 1321.0, 1082.0, 1020.0, 914.0, 1117.0, 1148.0, 753.0, 1093.0, 683.0, 1163.0, 1059.0, 779.0, 899.0, 595.0, 557.0, 596.0, 1027.0, 771.0, 500.0, 556.0, 308.0, 273.0, 248.0, 400.0, 396.0, 346.0, 326.0, 336.0, 204.0, 119.0, 205.0, 228.0, 181.0, 217.0, 167.0, 103.0, 100.0, 143.0, 179.0, 119.0, 112.0, 88.0, 76.0, 28.0, 51.0, 66.0, 81.0, 44.0, 54.0, 39.0, 36.0, 33.0, 50.0, 51.0, 58.0, 15.0, 10.0, 21.0, 40.0, 36.0, 13.0, 18.0, 11.0, 10.0, 15.0, 15.0, 20.0, 32.0, 17.0, 17.0, 9.0, 3.0, 19.0]}, {\"name\": \"Ipd=lowpass(Ipd)\", \"type\": \"scatter\", \"x\": [\"2020-01-22\", \"2020-01-23\", \"2020-01-24\", \"2020-01-25\", \"2020-01-26\", \"2020-01-27\", \"2020-01-28\", \"2020-01-29\", \"2020-01-30\", \"2020-01-31\", \"2020-02-01\", \"2020-02-02\", \"2020-02-03\", \"2020-02-04\", \"2020-02-05\", \"2020-02-06\", \"2020-02-07\", \"2020-02-08\", \"2020-02-09\", \"2020-02-10\", \"2020-02-11\", \"2020-02-12\", \"2020-02-13\", \"2020-02-14\", \"2020-02-15\", \"2020-02-16\", \"2020-02-17\", \"2020-02-18\", \"2020-02-19\", \"2020-02-20\", \"2020-02-21\", \"2020-02-22\", \"2020-02-23\", \"2020-02-24\", \"2020-02-25\", \"2020-02-26\", \"2020-02-27\", \"2020-02-28\", \"2020-02-29\", \"2020-03-01\", \"2020-03-02\", \"2020-03-03\", \"2020-03-04\", \"2020-03-05\", \"2020-03-06\", \"2020-03-07\", \"2020-03-08\", \"2020-03-09\", \"2020-03-10\", \"2020-03-11\", \"2020-03-12\", \"2020-03-13\", \"2020-03-14\", \"2020-03-15\", \"2020-03-16\", \"2020-03-17\", \"2020-03-18\", \"2020-03-19\", \"2020-03-20\", \"2020-03-21\", \"2020-03-22\", \"2020-03-23\", \"2020-03-24\", \"2020-03-25\", \"2020-03-26\", \"2020-03-27\", \"2020-03-28\", \"2020-03-29\", \"2020-03-30\", \"2020-03-31\", \"2020-04-01\", \"2020-04-02\", \"2020-04-03\", \"2020-04-04\", \"2020-04-05\", \"2020-04-06\", \"2020-04-07\", \"2020-04-08\", \"2020-04-09\", \"2020-04-10\", \"2020-04-11\", \"2020-04-12\", \"2020-04-13\", \"2020-04-14\", \"2020-04-15\", \"2020-04-16\", \"2020-04-17\", \"2020-04-18\", \"2020-04-19\", \"2020-04-20\", \"2020-04-21\", \"2020-04-22\", \"2020-04-23\", \"2020-04-24\", \"2020-04-25\", \"2020-04-26\", \"2020-04-27\", \"2020-04-28\", \"2020-04-29\", \"2020-04-30\", \"2020-05-01\", \"2020-05-02\", \"2020-05-03\", \"2020-05-04\", \"2020-05-05\", \"2020-05-06\", \"2020-05-07\", \"2020-05-08\", \"2020-05-09\", \"2020-05-10\", \"2020-05-11\", \"2020-05-12\", \"2020-05-13\", \"2020-05-14\", \"2020-05-15\", \"2020-05-16\", \"2020-05-17\", \"2020-05-18\", \"2020-05-19\", \"2020-05-20\", \"2020-05-21\", \"2020-05-22\", \"2020-05-23\", \"2020-05-24\", \"2020-05-25\", \"2020-05-26\", \"2020-05-27\", \"2020-05-28\", \"2020-05-29\", \"2020-05-30\", \"2020-05-31\", \"2020-06-01\", \"2020-06-02\", \"2020-06-03\"], \"y\": [-0.4510684531080513, -0.5775325759783794, -0.6681742060213356, -0.7056058670743299, -0.6745222794203702, -0.5637954530836935, -0.36856019263857803, -0.09206245457702078, 0.25297932031736714, 0.6437497548457847, 1.0476717441883467, 1.423867204483785, 1.7258223834482473, 1.9052230384479651, 1.9167908752282292, 1.7238088037368353, 1.3038823364763379, 0.6543638474201987, -0.20321727280605195, -1.2204052990645256, -2.3213975074136624, -3.405481881348077, -4.3526614459380255, -5.032512594677382, -5.315977775080006, -5.089403075830472, -4.26973145013038, -2.819393406916084, -0.7591452562173417, 1.8230618079079335, 4.769095847695397, 7.855247712958125, 10.805695657850357, 13.31544016479841, 15.08245018315157, 15.847738613899649, 15.440983527368939, 13.828234748433736, 11.15731405725761, 7.795860656856333, 4.356716719518277, 1.7055973348614397, 0.9468185579455628, 3.384292725388581, 10.45700847076441, 23.650689419151483, 44.39007991387626, 73.91904937969143, 113.17806566067337, 162.69016885718705, 222.46706688603558, 291.94621663752963, 369.96778212682307, 454.7973723429644, 544.1967332350471, 635.5403037715836, 725.9708121236466, 812.5820317784714, 892.6120676224922, 963.6273426596528, 1023.6771846711569, 1071.402241918914, 1106.0863563729813, 1127.649501210449, 1136.5871991664083, 1133.8680659374256, 1120.80494179494, 1098.916274033606, 1069.793276077742, 1034.985462768982, 995.9130805332345, 953.8104198489013, 909.6997748873887, 864.3925322301014, 818.5117724274903, 772.5296537892939, 726.81231766517, 681.6648895935675, 637.36953081474, 594.2108593366504, 552.4856495839099, 512.4971505968336, 474.5376631693955, 438.86514131853806, 405.6799687812456, 375.10684135004436, 347.1845478910873, 321.8642617292098, 299.0153929414936, 278.43733386515584, 259.87537671568197, 243.03932525519576, 227.62352892370606, 213.32709129187964, 199.87291232651847, 187.02418733636392, 174.5971226128408, 162.46893002646462, 150.5805437312736, 138.93389206927623, 127.58395537071496, 116.62628627318342, 106.18117043030368, 96.37608176333403, 87.32839405631996, 79.13032337263203, 71.83775286793743, 65.46399571232836, 59.9788229936789, 55.312384914109614, 51.363108871824686, 48.00831607500757, 45.11614869038856, 42.55741227940696, 40.21608838138862, 37.99753909060293, 35.833782621653135, 33.68562139074689, 31.541785891456378, 29.415550743267648, 27.339450724457826, 25.358793304142853, 23.524674805391506, 21.88718611227597, 20.489432561117972, 19.362871427158566, 18.52428873034893, 17.97452314746966, 17.698842095105075, 17.668722353252022, 17.8447041275226, 18.179965875794515, 18.62427800983473, 19.12800270032967]}, {\"name\": \"Rpd\", \"type\": \"bar\", \"x\": [\"2020-01-22\", \"2020-01-23\", \"2020-01-24\", \"2020-01-25\", \"2020-01-26\", \"2020-01-27\", \"2020-01-28\", \"2020-01-29\", \"2020-01-30\", \"2020-01-31\", \"2020-02-01\", \"2020-02-02\", \"2020-02-03\", \"2020-02-04\", \"2020-02-05\", \"2020-02-06\", \"2020-02-07\", \"2020-02-08\", \"2020-02-09\", \"2020-02-10\", \"2020-02-11\", \"2020-02-12\", \"2020-02-13\", \"2020-02-14\", \"2020-02-15\", \"2020-02-16\", \"2020-02-17\", \"2020-02-18\", \"2020-02-19\", \"2020-02-20\", \"2020-02-21\", \"2020-02-22\", \"2020-02-23\", \"2020-02-24\", \"2020-02-25\", \"2020-02-26\", \"2020-02-27\", \"2020-02-28\", \"2020-02-29\", \"2020-03-01\", \"2020-03-02\", \"2020-03-03\", \"2020-03-04\", \"2020-03-05\", \"2020-03-06\", \"2020-03-07\", \"2020-03-08\", \"2020-03-09\", \"2020-03-10\", \"2020-03-11\", \"2020-03-12\", \"2020-03-13\", \"2020-03-14\", \"2020-03-15\", \"2020-03-16\", \"2020-03-17\", \"2020-03-18\", \"2020-03-19\", \"2020-03-20\", \"2020-03-21\", \"2020-03-22\", \"2020-03-23\", \"2020-03-24\", \"2020-03-25\", \"2020-03-26\", \"2020-03-27\", \"2020-03-28\", \"2020-03-29\", \"2020-03-30\", \"2020-03-31\", \"2020-04-01\", \"2020-04-02\", \"2020-04-03\", \"2020-04-04\", \"2020-04-05\", \"2020-04-06\", \"2020-04-07\", \"2020-04-08\", \"2020-04-09\", \"2020-04-10\", \"2020-04-11\", \"2020-04-12\", \"2020-04-13\", \"2020-04-14\", \"2020-04-15\", \"2020-04-16\", \"2020-04-17\", \"2020-04-18\", \"2020-04-19\", \"2020-04-20\", \"2020-04-21\", \"2020-04-22\", \"2020-04-23\", \"2020-04-24\", \"2020-04-25\", \"2020-04-26\", \"2020-04-27\", \"2020-04-28\", \"2020-04-29\", \"2020-04-30\", \"2020-05-01\", \"2020-05-02\", \"2020-05-03\", \"2020-05-04\", \"2020-05-05\", \"2020-05-06\", \"2020-05-07\", \"2020-05-08\", \"2020-05-09\", \"2020-05-10\", \"2020-05-11\", \"2020-05-12\", \"2020-05-13\", \"2020-05-14\", \"2020-05-15\", \"2020-05-16\", \"2020-05-17\", \"2020-05-18\", \"2020-05-19\", \"2020-05-20\", \"2020-05-21\", \"2020-05-22\", \"2020-05-23\", \"2020-05-24\", \"2020-05-25\", \"2020-05-26\", \"2020-05-27\", \"2020-05-28\", \"2020-05-29\", \"2020-05-30\", \"2020-05-31\", \"2020-06-01\", \"2020-06-02\", \"2020-06-03\"], \"y\": [0.0, 0.0, 0.0, 0.0, 0.0, 0.0, 0.0, 0.0, 0.0, 0.0, 0.0, 0.0, 0.0, 0.0, 0.0, 0.0, 0.0, 0.0, 0.0, 0.0, 0.0, 0.0, 0.0, 0.0, 0.0, 0.0, 0.0, 0.0, 0.0, 0.0, 0.0, 0.0, 0.0, 0.0, 0.0, 0.0, 0.0, 0.0, 0.0, 0.0, 0.0, 2.0, 1.0, 0.0, 0.0, 0.0, 0.0, 0.0, 0.0, 1.0, 0.0, 0.0, 0.0, 0.0, 0.0, 0.0, 11.0, 0.0, 0.0, 0.0, 116.0, 0.0, 0.0, 0.0, 0.0, 1399.0, 0.0, 65.0, 228.0, 0.0, 1144.0, 1046.0, 833.0, 1569.0, 0.0, 1641.0, 648.0, 1096.0, 800.0, 500.0, 1000.0, 600.0, 1000.0, 0.0, 1700.0, 500.0, 500.0, 700.0, 700.0, 800.0, 800.0, 500.0, 700.0, 400.0, 300.0, 500.0, 400.0, 400.0, 0.0, 800.0, 500.0, 300.0, 300.0, 700.0, 200.0, 300.0, 200.0, 200.0, 300.0, 200.0, 200.0, 0.0, 300.0, 0.0, 0.0, 300.0, 100.0, 100.0, 100.0, 100.0, 100.0, 0.0, 100.0, 100.0, 100.0, 0.0, 100.0, 0.0, 0.0, 100.0, 100.0, 0.0, 0.0, 100.0]}, {\"name\": \"Rpd=lowpass(Rpd)\", \"type\": \"scatter\", \"x\": [\"2020-01-22\", \"2020-01-23\", \"2020-01-24\", \"2020-01-25\", \"2020-01-26\", \"2020-01-27\", \"2020-01-28\", \"2020-01-29\", \"2020-01-30\", \"2020-01-31\", \"2020-02-01\", \"2020-02-02\", \"2020-02-03\", \"2020-02-04\", \"2020-02-05\", \"2020-02-06\", \"2020-02-07\", \"2020-02-08\", \"2020-02-09\", \"2020-02-10\", \"2020-02-11\", \"2020-02-12\", \"2020-02-13\", \"2020-02-14\", \"2020-02-15\", \"2020-02-16\", \"2020-02-17\", \"2020-02-18\", \"2020-02-19\", \"2020-02-20\", \"2020-02-21\", \"2020-02-22\", \"2020-02-23\", \"2020-02-24\", \"2020-02-25\", \"2020-02-26\", \"2020-02-27\", \"2020-02-28\", \"2020-02-29\", \"2020-03-01\", \"2020-03-02\", \"2020-03-03\", \"2020-03-04\", \"2020-03-05\", \"2020-03-06\", \"2020-03-07\", \"2020-03-08\", \"2020-03-09\", \"2020-03-10\", \"2020-03-11\", \"2020-03-12\", \"2020-03-13\", \"2020-03-14\", \"2020-03-15\", \"2020-03-16\", \"2020-03-17\", \"2020-03-18\", \"2020-03-19\", \"2020-03-20\", \"2020-03-21\", \"2020-03-22\", \"2020-03-23\", \"2020-03-24\", \"2020-03-25\", \"2020-03-26\", \"2020-03-27\", \"2020-03-28\", \"2020-03-29\", \"2020-03-30\", \"2020-03-31\", \"2020-04-01\", \"2020-04-02\", \"2020-04-03\", \"2020-04-04\", \"2020-04-05\", \"2020-04-06\", \"2020-04-07\", \"2020-04-08\", \"2020-04-09\", \"2020-04-10\", \"2020-04-11\", \"2020-04-12\", \"2020-04-13\", \"2020-04-14\", \"2020-04-15\", \"2020-04-16\", \"2020-04-17\", \"2020-04-18\", \"2020-04-19\", \"2020-04-20\", \"2020-04-21\", \"2020-04-22\", \"2020-04-23\", \"2020-04-24\", \"2020-04-25\", \"2020-04-26\", \"2020-04-27\", \"2020-04-28\", \"2020-04-29\", \"2020-04-30\", \"2020-05-01\", \"2020-05-02\", \"2020-05-03\", \"2020-05-04\", \"2020-05-05\", \"2020-05-06\", \"2020-05-07\", \"2020-05-08\", \"2020-05-09\", \"2020-05-10\", \"2020-05-11\", \"2020-05-12\", \"2020-05-13\", \"2020-05-14\", \"2020-05-15\", \"2020-05-16\", \"2020-05-17\", \"2020-05-18\", \"2020-05-19\", \"2020-05-20\", \"2020-05-21\", \"2020-05-22\", \"2020-05-23\", \"2020-05-24\", \"2020-05-25\", \"2020-05-26\", \"2020-05-27\", \"2020-05-28\", \"2020-05-29\", \"2020-05-30\", \"2020-05-31\", \"2020-06-01\", \"2020-06-02\", \"2020-06-03\"], \"y\": [0.07882795000215748, 0.1274274950958525, 0.17249914565990998, 0.2084202800129391, 0.22937124552863875, 0.2299235060449739, 0.20570963084933253, 0.154119898162872, 0.07495574671535188, -0.029039748931763865, -0.15185774511885186, -0.2841844690720221, -0.41371141711927084, -0.5258350712569393, -0.6047526049505665, -0.6349185426951514, -0.6027808556541798, -0.49866749774588004, -0.31865084171119473, -0.06618340779106135, 0.2467206202675758, 0.5989820733711388, 0.960829551704828, 1.295193089958997, 1.560183609140008, 1.7126191193573224, 1.7124369432493038, 1.527701147350994, 1.139788185037306, 0.548225930121765, -0.22541265241981812, -1.135184835767875, -2.1106088616162406, -3.0591279740017416, -3.8715024849578246, -4.430170622887523, -4.62030638037427, -4.342952513771651, -3.529248591282542, -2.154443716582534, -0.2501217534769644, 2.08708519017363, 4.692023749351536, 7.334342286750719, 9.729796089237231, 11.560152736148645, 12.501565546727964, 12.26039236130751, 10.61447245446682, 7.456925788394027, 2.8387118380932743, -2.994408116844438, -9.57511465166046, -16.20241485047829, -21.94794493644482, -25.683313382018955, -26.129495921800462, -21.927324326429723, -11.725940135526377, 5.7160773075503295, 31.42410916947802, 66.10403474323152, 110.05121365632687, 163.08101035237027, 224.4887653069689, 293.04506439132507, 367.0296511147712, 444.3048335665682, 522.4267926227507, 598.7901900766819, 670.7972580595945, 736.0374480270784, 792.4593284689616, 838.514775972074, 873.2577874562008, 896.3861207376445, 908.2219332981006, 909.6358319625177, 901.9258701656926, 886.6681563455257, 865.5583033614697, 840.2626547050116, 812.2952102052265, 782.9311080619532, 753.161401248504, 723.6877569704421, 694.9505621561688, 667.1804117107586, 640.4612983231737, 614.7938267427957, 590.1482187794877, 566.4996751154965, 543.8426264399377, 522.1849469253352, 501.5273764792498, 481.83625579547663, 463.0186087688891, 444.9075126586563, 427.26295970637125, 409.7897108950483, 392.1697646498382, 374.10382900880126, 355.3543039186516, 335.78209478544574, 315.37093872437373, 294.23535178452744, 272.6112232801297, 250.8309081765211, 229.2868801911706, 208.38931072216013, 188.5233361965197, 170.0114456794885, 153.08552218242318, 137.87169249105, 124.38937660067451, 112.56396500688699, 102.25067085802829, 93.26562703499289, 85.41949815982811, 78.54886016215036, 72.54125882317042, 67.3509622183379, 63.003740490921594, 59.59037052871784, 57.2498663887562, 56.14461784846042, 56.4306185246259, 58.226671731028524, 61.58672870398371, 66.47922875901223, 72.77646987647185, 80.25575516651841, 88.61251914415952, 97.48402418188425]}, {\"name\": \"Rpd=conv(Ipd)\", \"type\": \"scatter\", \"x\": [\"2020-01-22\", \"2020-01-23\", \"2020-01-24\", \"2020-01-25\", \"2020-01-26\", \"2020-01-27\", \"2020-01-28\", \"2020-01-29\", \"2020-01-30\", \"2020-01-31\", \"2020-02-01\", \"2020-02-02\", \"2020-02-03\", \"2020-02-04\", \"2020-02-05\", \"2020-02-06\", \"2020-02-07\", \"2020-02-08\", \"2020-02-09\", \"2020-02-10\", \"2020-02-11\", \"2020-02-12\", \"2020-02-13\", \"2020-02-14\", \"2020-02-15\", \"2020-02-16\", \"2020-02-17\", \"2020-02-18\", \"2020-02-19\", \"2020-02-20\", \"2020-02-21\", \"2020-02-22\", \"2020-02-23\", \"2020-02-24\", \"2020-02-25\", \"2020-02-26\", \"2020-02-27\", \"2020-02-28\", \"2020-02-29\", \"2020-03-01\", \"2020-03-02\", \"2020-03-03\", \"2020-03-04\", \"2020-03-05\", \"2020-03-06\", \"2020-03-07\", \"2020-03-08\", \"2020-03-09\", \"2020-03-10\", \"2020-03-11\", \"2020-03-12\", \"2020-03-13\", \"2020-03-14\", \"2020-03-15\", \"2020-03-16\", \"2020-03-17\", \"2020-03-18\", \"2020-03-19\", \"2020-03-20\", \"2020-03-21\", \"2020-03-22\", \"2020-03-23\", \"2020-03-24\", \"2020-03-25\", \"2020-03-26\", \"2020-03-27\", \"2020-03-28\", \"2020-03-29\", \"2020-03-30\", \"2020-03-31\", \"2020-04-01\", \"2020-04-02\", \"2020-04-03\", \"2020-04-04\", \"2020-04-05\", \"2020-04-06\", \"2020-04-07\", \"2020-04-08\", \"2020-04-09\", \"2020-04-10\", \"2020-04-11\", \"2020-04-12\", \"2020-04-13\", \"2020-04-14\", \"2020-04-15\", \"2020-04-16\", \"2020-04-17\", \"2020-04-18\", \"2020-04-19\", \"2020-04-20\", \"2020-04-21\", \"2020-04-22\", \"2020-04-23\", \"2020-04-24\", \"2020-04-25\", \"2020-04-26\", \"2020-04-27\", \"2020-04-28\", \"2020-04-29\", \"2020-04-30\", \"2020-05-01\", \"2020-05-02\", \"2020-05-03\", \"2020-05-04\", \"2020-05-05\", \"2020-05-06\", \"2020-05-07\", \"2020-05-08\", \"2020-05-09\", \"2020-05-10\", \"2020-05-11\", \"2020-05-12\", \"2020-05-13\", \"2020-05-14\", \"2020-05-15\", \"2020-05-16\", \"2020-05-17\", \"2020-05-18\", \"2020-05-19\", \"2020-05-20\", \"2020-05-21\", \"2020-05-22\", \"2020-05-23\", \"2020-05-24\", \"2020-05-25\", \"2020-05-26\", \"2020-05-27\", \"2020-05-28\", \"2020-05-29\", \"2020-05-30\", \"2020-05-31\", \"2020-06-01\", \"2020-06-02\", \"2020-06-03\"], \"y\": [1.5158245029548804e-14, 6.063298011819522e-14, -1.5158245029548804e-14, 6.063298011819522e-14, 0.0, 6.821210263296962e-14, 0.0, 0.0, 3.031649005909761e-14, 3.031649005909761e-14, 3.031649005909761e-14, -1.5158245029548804e-14, 0.0, 4.5474735088646414e-14, 0.0, 6.063298011819522e-14, 4.168517383125921e-14, -2.2737367544323207e-14, -2.2737367544323207e-14, 3.789561257387201e-14, -6.063298011819522e-14, -3.031649005909761e-14, -1.0610771520684163e-13, 1.5158245029548804e-14, 1.0610771520684163e-13, 3.031649005909761e-14, 3.031649005909761e-14, 3.031649005909761e-14, -3.031649005909761e-14, 3.031649005909761e-14, 0.0, 6.063298011819522e-14, 3.031649005909761e-14, 3.031649005909761e-14, -3.031649005909761e-14, 1.5158245029548803e-13, 0.0, 0.0010044631988421315, 0.00393235347061515, 0.014591352156943078, 0.039106896717688265, 0.07878792436543638, 0.1495779771360503, 0.26126407279674213, 0.42655251885747325, 0.6686953878199043, 1.0185618620044503, 1.5479090470067907, 2.3545403333059007, 3.4162541544037897, 4.723234455487924, 6.296194825838006, 8.30564357352946, 10.703609962220185, 13.71006391852073, 17.895576243899875, 23.629756045275098, 31.199200834875423, 39.88106116082466, 50.066302252088015, 62.22198816636428, 77.77413368807277, 97.4803450863936, 121.33235831221467, 149.12046138514106, 181.06914077796506, 216.60765491008036, 255.17952732217887, 296.3484432079188, 339.97445459585714, 385.2920370540185, 431.4424181284987, 477.9455914023808, 524.0834150623391, 569.8909887155406, 614.5923285210308, 657.3900572283167, 697.6664666113288, 734.4283819093387, 767.1587186357281, 796.0525507291558, 821.5260035085594, 843.0285334177416, 860.1017396673276, 872.5402110521643, 879.9790876585463, 882.3142405044379, 879.8299866246305, 873.0899341251442, 862.454125506614, 848.2592799445366, 830.8968217024764, 810.6914655832104, 787.8113443627869, 762.5800533400892, 735.5337446538532, 707.1329221497186, 677.7436834785628, 647.7159548053509, 617.310727488235, 586.7781372335671, 556.379471073224, 526.4485930477852, 497.24023315837536, 468.8519084977151, 441.36885075363375, 414.85862825093074, 389.35863424253597, 364.85002580293, 341.39763617391395, 319.0727009523452, 297.9000599347295, 277.83045221055426, 258.8502167939506, 240.94154550266123, 224.07449029722756, 208.2051576161275, 193.33269543449683, 179.44764781810852, 166.49100026333824, 154.3576560262005, 143.0004296969636, 132.4104083765949, 122.58555780997874, 113.48261865660581, 105.03347129860815, 97.19124193622758, 89.91025011572957, 83.16139415649852, 76.91356298199211, 71.14189520452123, 65.83767967621311, 60.981725997951784, 56.52978553623837, 52.445374799833324, 48.680126029474785, 45.20989238961183, 42.01753114078245, 39.051304526663685, 36.28205320460908, 33.68674521875455, 31.246087536616642, 28.943864227127246, 26.766590998741428, 24.703259121568166, 22.745101300915668, 20.885355215393854, 19.119016363378673, 17.442579136334462, 15.853768926243658, 14.351270365607554, 12.934458160553003, 11.603137669381825, 10.357302504042066, 9.196916042947912, 8.121722888936922, 7.131095051528064, 6.22391606775315, 5.398504512591353, 4.65257651524671, 3.9832451222715157, 3.3870527564732735, 2.8600317167316764, 2.397786725903461, 1.995593006186876, 1.6485032525841992, 1.3514571604919183, 1.0993877891144923, 0.8873199327153392, 0.7104567381890168, 0.5642519576130098, 0.44446637048818805, 0.34720797600468056, 0.2689564811325757, 0.20657335520497022, 0.15729926531583563, 0.1187410471645156, 0.08885051636854466, 0.06589741091885723, 0.04843860910200419, 0.03528552499384811, 0.02547128142574972, 0.018218930945613464, 0.012911666332714351, 0.009065655117440959, 0.006305862091251887, 0.004344998601663974, 0.0029655607025839952, 0.0020047888885528662, 0.0013422959195092214, 0.0008900600132164981, 0.0005844612657559385, 0.00038004237341435025, 0.00024469378498300404, 0.00015599246248712006, 9.845765656943209e-05, 6.152283381197777e-05, 3.8057491133258735e-05, 2.3304364700985993e-05, 1.4125513007456901e-05, 8.474573163160433e-06, 5.032167867587607e-06, 2.95728622935106e-06, 1.7199270056759512e-06, 9.898804819385988e-07, 5.637538076067965e-07, 3.176936009670802e-07, 1.771404716540322e-07, 9.772284101927652e-08, 5.33361496006061e-08, 2.879880109200409e-08, 1.5382678005456304e-08, 8.127911617824187e-09, 4.248037536550934e-09, 2.1961265398810306e-09, 1.1229227917889755e-09, 5.678581752969573e-10, 2.840048788736264e-10, 1.406078808940947e-10, 6.881843243415157e-11, 3.3408772045125565e-11, 1.6007106751203538e-11, 7.639755494892598e-12, 3.698611787209908e-12, 1.7583564234276613e-12, 7.882287415365378e-13, 4.850638409455617e-13, 1.8189894035458566e-13, 0.0, 1.2126596023639043e-13, 1.2126596023639043e-13, 1.8189894035458566e-13, -6.063298011819522e-14]}],\n",
              "                        {\"template\": {\"data\": {\"bar\": [{\"error_x\": {\"color\": \"#2a3f5f\"}, \"error_y\": {\"color\": \"#2a3f5f\"}, \"marker\": {\"line\": {\"color\": \"#E5ECF6\", \"width\": 0.5}}, \"type\": \"bar\"}], \"barpolar\": [{\"marker\": {\"line\": {\"color\": \"#E5ECF6\", \"width\": 0.5}}, \"type\": \"barpolar\"}], \"carpet\": [{\"aaxis\": {\"endlinecolor\": \"#2a3f5f\", \"gridcolor\": \"white\", \"linecolor\": \"white\", \"minorgridcolor\": \"white\", \"startlinecolor\": \"#2a3f5f\"}, \"baxis\": {\"endlinecolor\": \"#2a3f5f\", \"gridcolor\": \"white\", \"linecolor\": \"white\", \"minorgridcolor\": \"white\", \"startlinecolor\": \"#2a3f5f\"}, \"type\": \"carpet\"}], \"choropleth\": [{\"colorbar\": {\"outlinewidth\": 0, \"ticks\": \"\"}, \"type\": \"choropleth\"}], \"contour\": [{\"colorbar\": {\"outlinewidth\": 0, \"ticks\": \"\"}, \"colorscale\": [[0.0, \"#0d0887\"], [0.1111111111111111, \"#46039f\"], [0.2222222222222222, \"#7201a8\"], [0.3333333333333333, \"#9c179e\"], [0.4444444444444444, \"#bd3786\"], [0.5555555555555556, \"#d8576b\"], [0.6666666666666666, \"#ed7953\"], [0.7777777777777778, \"#fb9f3a\"], [0.8888888888888888, \"#fdca26\"], [1.0, \"#f0f921\"]], \"type\": \"contour\"}], \"contourcarpet\": [{\"colorbar\": {\"outlinewidth\": 0, \"ticks\": \"\"}, \"type\": \"contourcarpet\"}], \"heatmap\": [{\"colorbar\": {\"outlinewidth\": 0, \"ticks\": \"\"}, \"colorscale\": [[0.0, \"#0d0887\"], [0.1111111111111111, \"#46039f\"], [0.2222222222222222, \"#7201a8\"], [0.3333333333333333, \"#9c179e\"], [0.4444444444444444, \"#bd3786\"], [0.5555555555555556, \"#d8576b\"], [0.6666666666666666, \"#ed7953\"], [0.7777777777777778, \"#fb9f3a\"], [0.8888888888888888, \"#fdca26\"], [1.0, \"#f0f921\"]], \"type\": \"heatmap\"}], \"heatmapgl\": [{\"colorbar\": {\"outlinewidth\": 0, \"ticks\": \"\"}, \"colorscale\": [[0.0, \"#0d0887\"], [0.1111111111111111, \"#46039f\"], [0.2222222222222222, \"#7201a8\"], [0.3333333333333333, \"#9c179e\"], [0.4444444444444444, \"#bd3786\"], [0.5555555555555556, \"#d8576b\"], [0.6666666666666666, \"#ed7953\"], [0.7777777777777778, \"#fb9f3a\"], [0.8888888888888888, \"#fdca26\"], [1.0, \"#f0f921\"]], \"type\": \"heatmapgl\"}], \"histogram\": [{\"marker\": {\"colorbar\": {\"outlinewidth\": 0, \"ticks\": \"\"}}, \"type\": \"histogram\"}], \"histogram2d\": [{\"colorbar\": {\"outlinewidth\": 0, \"ticks\": \"\"}, \"colorscale\": [[0.0, \"#0d0887\"], [0.1111111111111111, \"#46039f\"], [0.2222222222222222, \"#7201a8\"], [0.3333333333333333, \"#9c179e\"], [0.4444444444444444, \"#bd3786\"], [0.5555555555555556, \"#d8576b\"], [0.6666666666666666, \"#ed7953\"], [0.7777777777777778, \"#fb9f3a\"], [0.8888888888888888, \"#fdca26\"], [1.0, \"#f0f921\"]], \"type\": \"histogram2d\"}], \"histogram2dcontour\": [{\"colorbar\": {\"outlinewidth\": 0, \"ticks\": \"\"}, \"colorscale\": [[0.0, \"#0d0887\"], [0.1111111111111111, \"#46039f\"], [0.2222222222222222, \"#7201a8\"], [0.3333333333333333, \"#9c179e\"], [0.4444444444444444, \"#bd3786\"], [0.5555555555555556, \"#d8576b\"], [0.6666666666666666, \"#ed7953\"], [0.7777777777777778, \"#fb9f3a\"], [0.8888888888888888, \"#fdca26\"], [1.0, \"#f0f921\"]], \"type\": \"histogram2dcontour\"}], \"mesh3d\": [{\"colorbar\": {\"outlinewidth\": 0, \"ticks\": \"\"}, \"type\": \"mesh3d\"}], \"parcoords\": [{\"line\": {\"colorbar\": {\"outlinewidth\": 0, \"ticks\": \"\"}}, \"type\": \"parcoords\"}], \"pie\": [{\"automargin\": true, \"type\": \"pie\"}], \"scatter\": [{\"marker\": {\"colorbar\": {\"outlinewidth\": 0, \"ticks\": \"\"}}, \"type\": \"scatter\"}], \"scatter3d\": [{\"line\": {\"colorbar\": {\"outlinewidth\": 0, \"ticks\": \"\"}}, \"marker\": {\"colorbar\": {\"outlinewidth\": 0, \"ticks\": \"\"}}, \"type\": \"scatter3d\"}], \"scattercarpet\": [{\"marker\": {\"colorbar\": {\"outlinewidth\": 0, \"ticks\": \"\"}}, \"type\": \"scattercarpet\"}], \"scattergeo\": [{\"marker\": {\"colorbar\": {\"outlinewidth\": 0, \"ticks\": \"\"}}, \"type\": \"scattergeo\"}], \"scattergl\": [{\"marker\": {\"colorbar\": {\"outlinewidth\": 0, \"ticks\": \"\"}}, \"type\": \"scattergl\"}], \"scattermapbox\": [{\"marker\": {\"colorbar\": {\"outlinewidth\": 0, \"ticks\": \"\"}}, \"type\": \"scattermapbox\"}], \"scatterpolar\": [{\"marker\": {\"colorbar\": {\"outlinewidth\": 0, \"ticks\": \"\"}}, \"type\": \"scatterpolar\"}], \"scatterpolargl\": [{\"marker\": {\"colorbar\": {\"outlinewidth\": 0, \"ticks\": \"\"}}, \"type\": \"scatterpolargl\"}], \"scatterternary\": [{\"marker\": {\"colorbar\": {\"outlinewidth\": 0, \"ticks\": \"\"}}, \"type\": \"scatterternary\"}], \"surface\": [{\"colorbar\": {\"outlinewidth\": 0, \"ticks\": \"\"}, \"colorscale\": [[0.0, \"#0d0887\"], [0.1111111111111111, \"#46039f\"], [0.2222222222222222, \"#7201a8\"], [0.3333333333333333, \"#9c179e\"], [0.4444444444444444, \"#bd3786\"], [0.5555555555555556, \"#d8576b\"], [0.6666666666666666, \"#ed7953\"], [0.7777777777777778, \"#fb9f3a\"], [0.8888888888888888, \"#fdca26\"], [1.0, \"#f0f921\"]], \"type\": \"surface\"}], \"table\": [{\"cells\": {\"fill\": {\"color\": \"#EBF0F8\"}, \"line\": {\"color\": \"white\"}}, \"header\": {\"fill\": {\"color\": \"#C8D4E3\"}, \"line\": {\"color\": \"white\"}}, \"type\": \"table\"}]}, \"layout\": {\"annotationdefaults\": {\"arrowcolor\": \"#2a3f5f\", \"arrowhead\": 0, \"arrowwidth\": 1}, \"coloraxis\": {\"colorbar\": {\"outlinewidth\": 0, \"ticks\": \"\"}}, \"colorscale\": {\"diverging\": [[0, \"#8e0152\"], [0.1, \"#c51b7d\"], [0.2, \"#de77ae\"], [0.3, \"#f1b6da\"], [0.4, \"#fde0ef\"], [0.5, \"#f7f7f7\"], [0.6, \"#e6f5d0\"], [0.7, \"#b8e186\"], [0.8, \"#7fbc41\"], [0.9, \"#4d9221\"], [1, \"#276419\"]], \"sequential\": [[0.0, \"#0d0887\"], [0.1111111111111111, \"#46039f\"], [0.2222222222222222, \"#7201a8\"], [0.3333333333333333, \"#9c179e\"], [0.4444444444444444, \"#bd3786\"], [0.5555555555555556, \"#d8576b\"], [0.6666666666666666, \"#ed7953\"], [0.7777777777777778, \"#fb9f3a\"], [0.8888888888888888, \"#fdca26\"], [1.0, \"#f0f921\"]], \"sequentialminus\": [[0.0, \"#0d0887\"], [0.1111111111111111, \"#46039f\"], [0.2222222222222222, \"#7201a8\"], [0.3333333333333333, \"#9c179e\"], [0.4444444444444444, \"#bd3786\"], [0.5555555555555556, \"#d8576b\"], [0.6666666666666666, \"#ed7953\"], [0.7777777777777778, \"#fb9f3a\"], [0.8888888888888888, \"#fdca26\"], [1.0, \"#f0f921\"]]}, \"colorway\": [\"#636efa\", \"#EF553B\", \"#00cc96\", \"#ab63fa\", \"#FFA15A\", \"#19d3f3\", \"#FF6692\", \"#B6E880\", \"#FF97FF\", \"#FECB52\"], \"font\": {\"color\": \"#2a3f5f\"}, \"geo\": {\"bgcolor\": \"white\", \"lakecolor\": \"white\", \"landcolor\": \"#E5ECF6\", \"showlakes\": true, \"showland\": true, \"subunitcolor\": \"white\"}, \"hoverlabel\": {\"align\": \"left\"}, \"hovermode\": \"closest\", \"mapbox\": {\"style\": \"light\"}, \"paper_bgcolor\": \"white\", \"plot_bgcolor\": \"#E5ECF6\", \"polar\": {\"angularaxis\": {\"gridcolor\": \"white\", \"linecolor\": \"white\", \"ticks\": \"\"}, \"bgcolor\": \"#E5ECF6\", \"radialaxis\": {\"gridcolor\": \"white\", \"linecolor\": \"white\", \"ticks\": \"\"}}, \"scene\": {\"xaxis\": {\"backgroundcolor\": \"#E5ECF6\", \"gridcolor\": \"white\", \"gridwidth\": 2, \"linecolor\": \"white\", \"showbackground\": true, \"ticks\": \"\", \"zerolinecolor\": \"white\"}, \"yaxis\": {\"backgroundcolor\": \"#E5ECF6\", \"gridcolor\": \"white\", \"gridwidth\": 2, \"linecolor\": \"white\", \"showbackground\": true, \"ticks\": \"\", \"zerolinecolor\": \"white\"}, \"zaxis\": {\"backgroundcolor\": \"#E5ECF6\", \"gridcolor\": \"white\", \"gridwidth\": 2, \"linecolor\": \"white\", \"showbackground\": true, \"ticks\": \"\", \"zerolinecolor\": \"white\"}}, \"shapedefaults\": {\"line\": {\"color\": \"#2a3f5f\"}}, \"ternary\": {\"aaxis\": {\"gridcolor\": \"white\", \"linecolor\": \"white\", \"ticks\": \"\"}, \"baxis\": {\"gridcolor\": \"white\", \"linecolor\": \"white\", \"ticks\": \"\"}, \"bgcolor\": \"#E5ECF6\", \"caxis\": {\"gridcolor\": \"white\", \"linecolor\": \"white\", \"ticks\": \"\"}}, \"title\": {\"x\": 0.05}, \"xaxis\": {\"automargin\": true, \"gridcolor\": \"white\", \"linecolor\": \"white\", \"ticks\": \"\", \"title\": {\"standoff\": 15}, \"zerolinecolor\": \"white\", \"zerolinewidth\": 2}, \"yaxis\": {\"automargin\": true, \"gridcolor\": \"white\", \"linecolor\": \"white\", \"ticks\": \"\", \"title\": {\"standoff\": 15}, \"zerolinecolor\": \"white\", \"zerolinewidth\": 2}}}, \"title\": {\"text\": \"$\\\\text{Switzerland: Actual } R_{pd} \\\\text{ vs. } h_I[j]\\\\circledast I_{pd}[j]$\", \"x\": 0.5, \"xanchor\": \"center\"}, \"xaxis\": {\"title\": {\"text\": \"Day\"}}, \"yaxis\": {\"title\": {\"text\": \"Count\"}}},\n",
              "                        {\"responsive\": true}\n",
              "                    ).then(function(){\n",
              "                            \n",
              "var gd = document.getElementById('e05ad65f-8d49-4f5b-9659-f46d9b9edc2c');\n",
              "var x = new MutationObserver(function (mutations, observer) {{\n",
              "        var display = window.getComputedStyle(gd).display;\n",
              "        if (!display || display === 'none') {{\n",
              "            console.log([gd, 'removed!']);\n",
              "            Plotly.purge(gd);\n",
              "            observer.disconnect();\n",
              "        }}\n",
              "}});\n",
              "\n",
              "// Listen for the removal of the full notebook cells\n",
              "var notebookContainer = gd.closest('#notebook-container');\n",
              "if (notebookContainer) {{\n",
              "    x.observe(notebookContainer, {childList: true});\n",
              "}}\n",
              "\n",
              "// Listen for the clearing of the current output cell\n",
              "var outputEl = gd.closest('.output');\n",
              "if (outputEl) {{\n",
              "    x.observe(outputEl, {childList: true});\n",
              "}}\n",
              "\n",
              "                        })\n",
              "                };\n",
              "                \n",
              "            </script>\n",
              "        </div>\n",
              "</body>\n",
              "</html>"
            ]
          },
          "metadata": {
            "tags": []
          }
        }
      ]
    },
    {
      "cell_type": "markdown",
      "metadata": {
        "colab_type": "text",
        "id": "ONMxfuA_mFlq"
      },
      "source": [
        "We can see the actual $R_{pd}$ leads $h_I[j]\\circledast I_{pd}[j]$ by about 7 days."
      ]
    },
    {
      "cell_type": "markdown",
      "metadata": {
        "colab_type": "text",
        "id": "HJPqvAr4mFlr"
      },
      "source": [
        "#### 2. Estimating $E_{pd}$ by deconvolution of $I_{pd}$"
      ]
    },
    {
      "cell_type": "code",
      "metadata": {
        "colab_type": "code",
        "outputId": "60553d84-53e7-4ede-e6b8-21101bbd5b4a",
        "id": "rXNBJzhymFls",
        "colab": {
          "base_uri": "https://localhost:8080/",
          "height": 180
        }
      },
      "source": [
        "#collapse_hide\n",
        "\n",
        "#Settting up for deconvolution of Ipd\n",
        "\n",
        "#regularization parameter\n",
        "alpha=2\n",
        "\n",
        "# Setup up the resultant Ipd we want to compare our guess with\n",
        "Ipd=np.floor(lowpass(conf_df_pd.loc['Switzerland'])[0])\n",
        "Ipd[Ipd<0]=0\n",
        "\n",
        "\n",
        "# Pad with last value\n",
        "i=0\n",
        "while i < 100:\n",
        "  Ipd=np.append(Ipd, Ipd[-1])\n",
        "  i=i+1\n",
        "\n",
        "# Find delay caused by h_L\n",
        "delay=Ipd.argmax()-signal.fftconvolve(Ipd, h_L, mode='full').argmax()\n",
        "\n",
        "# We want initial guess to simply be the result of the convolution delayed\n",
        "initial_guess=np.roll(Ipd,delay)\n",
        "Enext = initial_guess\n",
        "\n",
        "# AN array to record MSE between result we want and our iterated guess\n",
        "mse=np.array([])\n",
        "mse=np.append(mse, 10000000)\n",
        "mse=np.append(mse, msecalc(Ipd[:len(conf_df_pd.loc['Switzerland'])], signal.fftconvolve(h_L, Enext, mode='full')[:len(conf_df_pd.loc['Switzerland'])]))\n",
        "\n",
        "itercount=0\n",
        "while mse[-1] < mse[-2]:\n",
        "  itercount=itercount+1\n",
        "  Enext=iter_deconv(alpha, h_L, Enext, delay, Ipd)\n",
        "  mse=np.append(mse, msecalc(Ipd[:len(conf_df_pd.loc['Russia'])], signal.fftconvolve(h_L, Enext, mode='full')[:len(conf_df_pd.loc['Switzerland'])]))\n",
        "  print(\"Iteration #\" + str(itercount) +\": MSE= \"+str(mse[itercount]))\n",
        "print(\"Iteration #\" + str(itercount+1) +\": MSE= \"+str(mse[-1])+\" so we use the result of the previous iteration.\")"
      ],
      "execution_count": 249,
      "outputs": [
        {
          "output_type": "stream",
          "text": [
            "Iteration #1: MSE= 1470.6459337193169\n",
            "Iteration #2: MSE= 394.3484792946301\n",
            "Iteration #3: MSE= 293.667188764407\n",
            "Iteration #4: MSE= 241.69003136951196\n",
            "Iteration #5: MSE= 173.82451248640552\n",
            "Iteration #6: MSE= 163.79909744743827\n",
            "Iteration #7: MSE= 122.78528193323216\n",
            "Iteration #8: MSE= 122.56820945779762\n",
            "Iteration #9: MSE= 96.98263162163703\n",
            "Iteration #10: MSE= 99.46363623766511 so we use the result of the previous iteration.\n"
          ],
          "name": "stdout"
        }
      ]
    },
    {
      "cell_type": "code",
      "metadata": {
        "colab_type": "code",
        "outputId": "6958beef-11bb-49af-8681-00a640e0f5b8",
        "id": "TOfQ46IomFlx",
        "colab": {
          "base_uri": "https://localhost:8080/",
          "height": 180
        }
      },
      "source": [
        "#collapse_hide\n",
        "# We can keep going the iteration until lowest MSE\n",
        "\n",
        "#change alpha if you like\n",
        "alpha=2\n",
        "\n",
        "i=0\n",
        "while i < 10:\n",
        "  itercount=itercount+1\n",
        "  Enext=iter_deconv(alpha, h_L, Enext, delay, Ipd)\n",
        "  print(msecalc(Ipd[:len(conf_df_pd.loc['Switzerland'])], signal.fftconvolve(h_L, Enext, mode='full')[:len(conf_df_pd.loc['Switzerland'])]))\n",
        "  i=i+1"
      ],
      "execution_count": 255,
      "outputs": [
        {
          "output_type": "stream",
          "text": [
            "58.62220454752213\n",
            "58.748515359200475\n",
            "58.62220454752213\n",
            "58.748515359200475\n",
            "58.62220454752213\n",
            "58.748515359200475\n",
            "58.62220454752213\n",
            "58.748515359200475\n",
            "58.62220454752213\n",
            "58.748515359200475\n"
          ],
          "name": "stdout"
        }
      ]
    },
    {
      "cell_type": "code",
      "metadata": {
        "colab_type": "code",
        "outputId": "0cbf57ae-d112-41a1-c772-7cac763bae98",
        "id": "aemSvLsjmFl0",
        "colab": {
          "base_uri": "https://localhost:8080/",
          "height": 542
        }
      },
      "source": [
        "#collapse_hide\n",
        "fig = go.Figure(data=[    \n",
        "    go.Scatter(name='Epd=deconv(Ipd)', x=inf_df.loc['Switzerland'].index, y=Enext),\n",
        "    go.Scatter(name='Ipd=conv(deconv(Ipd))', x=inf_df.loc['Switzerland'].index, y=signal.fftconvolve(h_L, Enext, mode='full')),\n",
        "    go.Bar(name='Ipd', x=inf_df.loc['Switzerland'].index, y=conf_df_pd.loc['Switzerland']),\n",
        "    go.Scatter(name='Ipd=lowpass(Ipd)', x=inf_df.loc['Switzerland'].index, y=lowpass(conf_df_pd.loc['Switzerland'])[0])\n",
        "])\n",
        "\n",
        "fig.update_layout(\n",
        "    \n",
        "    xaxis_title = 'Day',\n",
        "    yaxis_title = 'Count',\n",
        "    title={\n",
        "        'text':r'$\\text{Switzerland: Actual } I_{pd} \\text{ vs. convolution of deconvolution of } I_{pd}$',\n",
        "        'x':0.5,\n",
        "        'xanchor':'center'\n",
        "    }\n",
        ")\n",
        "\n",
        "fig.show()"
      ],
      "execution_count": 256,
      "outputs": [
        {
          "output_type": "display_data",
          "data": {
            "text/html": [
              "<html>\n",
              "<head><meta charset=\"utf-8\" /></head>\n",
              "<body>\n",
              "    <div>\n",
              "            <script src=\"https://cdnjs.cloudflare.com/ajax/libs/mathjax/2.7.5/MathJax.js?config=TeX-AMS-MML_SVG\"></script><script type=\"text/javascript\">if (window.MathJax) {MathJax.Hub.Config({SVG: {font: \"STIX-Web\"}});}</script>\n",
              "                <script type=\"text/javascript\">window.PlotlyConfig = {MathJaxConfig: 'local'};</script>\n",
              "        <script src=\"https://cdn.plot.ly/plotly-latest.min.js\"></script>    \n",
              "            <div id=\"222f4657-e7eb-4e3e-803c-5dad5a861fd3\" class=\"plotly-graph-div\" style=\"height:525px; width:100%;\"></div>\n",
              "            <script type=\"text/javascript\">\n",
              "                \n",
              "                    window.PLOTLYENV=window.PLOTLYENV || {};\n",
              "                    \n",
              "                if (document.getElementById(\"222f4657-e7eb-4e3e-803c-5dad5a861fd3\")) {\n",
              "                    Plotly.newPlot(\n",
              "                        '222f4657-e7eb-4e3e-803c-5dad5a861fd3',\n",
              "                        [{\"name\": \"Epd=deconv(Ipd)\", \"type\": \"scatter\", \"x\": [\"2020-01-22\", \"2020-01-23\", \"2020-01-24\", \"2020-01-25\", \"2020-01-26\", \"2020-01-27\", \"2020-01-28\", \"2020-01-29\", \"2020-01-30\", \"2020-01-31\", \"2020-02-01\", \"2020-02-02\", \"2020-02-03\", \"2020-02-04\", \"2020-02-05\", \"2020-02-06\", \"2020-02-07\", \"2020-02-08\", \"2020-02-09\", \"2020-02-10\", \"2020-02-11\", \"2020-02-12\", \"2020-02-13\", \"2020-02-14\", \"2020-02-15\", \"2020-02-16\", \"2020-02-17\", \"2020-02-18\", \"2020-02-19\", \"2020-02-20\", \"2020-02-21\", \"2020-02-22\", \"2020-02-23\", \"2020-02-24\", \"2020-02-25\", \"2020-02-26\", \"2020-02-27\", \"2020-02-28\", \"2020-02-29\", \"2020-03-01\", \"2020-03-02\", \"2020-03-03\", \"2020-03-04\", \"2020-03-05\", \"2020-03-06\", \"2020-03-07\", \"2020-03-08\", \"2020-03-09\", \"2020-03-10\", \"2020-03-11\", \"2020-03-12\", \"2020-03-13\", \"2020-03-14\", \"2020-03-15\", \"2020-03-16\", \"2020-03-17\", \"2020-03-18\", \"2020-03-19\", \"2020-03-20\", \"2020-03-21\", \"2020-03-22\", \"2020-03-23\", \"2020-03-24\", \"2020-03-25\", \"2020-03-26\", \"2020-03-27\", \"2020-03-28\", \"2020-03-29\", \"2020-03-30\", \"2020-03-31\", \"2020-04-01\", \"2020-04-02\", \"2020-04-03\", \"2020-04-04\", \"2020-04-05\", \"2020-04-06\", \"2020-04-07\", \"2020-04-08\", \"2020-04-09\", \"2020-04-10\", \"2020-04-11\", \"2020-04-12\", \"2020-04-13\", \"2020-04-14\", \"2020-04-15\", \"2020-04-16\", \"2020-04-17\", \"2020-04-18\", \"2020-04-19\", \"2020-04-20\", \"2020-04-21\", \"2020-04-22\", \"2020-04-23\", \"2020-04-24\", \"2020-04-25\", \"2020-04-26\", \"2020-04-27\", \"2020-04-28\", \"2020-04-29\", \"2020-04-30\", \"2020-05-01\", \"2020-05-02\", \"2020-05-03\", \"2020-05-04\", \"2020-05-05\", \"2020-05-06\", \"2020-05-07\", \"2020-05-08\", \"2020-05-09\", \"2020-05-10\", \"2020-05-11\", \"2020-05-12\", \"2020-05-13\", \"2020-05-14\", \"2020-05-15\", \"2020-05-16\", \"2020-05-17\", \"2020-05-18\", \"2020-05-19\", \"2020-05-20\", \"2020-05-21\", \"2020-05-22\", \"2020-05-23\", \"2020-05-24\", \"2020-05-25\", \"2020-05-26\", \"2020-05-27\", \"2020-05-28\", \"2020-05-29\", \"2020-05-30\", \"2020-05-31\", \"2020-06-01\", \"2020-06-02\", \"2020-06-03\"], \"y\": [0.0, 0.0, 1.0, 3.0, 4.0, 5.0, 4.0, 4.0, 2.0, 0.0, 0.0, 0.0, 0.0, 0.0, 0.0, 0.0, 0.0, 0.0, 0.0, 0.0, 0.0, 3.0, 10.0, 16.0, 23.0, 27.0, 30.0, 30.0, 27.0, 21.0, 12.0, 0.0, 0.0, 0.0, 0.0, 0.0, 0.0, 0.0, 0.0, 0.0, 14.0, 62.0, 123.0, 197.0, 284.0, 381.0, 485.0, 594.0, 704.0, 812.0, 914.0, 1007.0, 1088.0, 1155.0, 1206.0, 1239.0, 1255.0, 1255.0, 1238.0, 1207.0, 1164.0, 1111.0, 1050.0, 984.0, 916.0, 847.0, 779.0, 714.0, 652.0, 594.0, 541.0, 493.0, 450.0, 411.0, 376.0, 345.0, 317.0, 293.0, 270.0, 251.0, 233.0, 216.0, 202.0, 188.0, 176.0, 164.0, 154.0, 144.0, 134.0, 125.0, 116.0, 108.0, 100.0, 92.0, 84.0, 76.0, 69.0, 63.0, 57.0, 51.0, 46.0, 42.0, 38.0, 35.0, 32.0, 30.0, 28.0, 27.0, 25.0, 24.0, 23.0, 22.0, 21.0, 20.0, 19.0, 18.0, 17.0, 16.0, 15.0, 15.0, 15.0, 14.0, 14.0, 15.0, 15.0, 15.0, 16.0, 16.0, 17.0, 17.0, 18.0, 18.0, 18.0, 18.0, 18.0, 18.0, 18.0, 18.0, 18.0, 18.0, 17.0, 17.0, 17.0, 17.0, 17.0, 17.0, 17.0, 17.0, 17.0, 17.0, 17.0, 17.0, 17.0, 18.0, 18.0, 18.0, 18.0, 18.0, 18.0, 18.0, 18.0, 18.0, 18.0, 17.0, 17.0, 17.0, 17.0, 17.0, 17.0, 17.0, 17.0, 17.0, 17.0, 17.0, 18.0, 18.0, 18.0, 18.0, 18.0, 18.0, 18.0, 18.0, 18.0, 18.0, 18.0, 17.0, 17.0, 17.0, 17.0, 17.0, 17.0, 17.0, 17.0, 17.0, 17.0, 18.0, 18.0, 18.0, 18.0, 18.0, 18.0, 18.0, 18.0, 18.0, 18.0, 18.0, 18.0, 17.0, 17.0, 17.0, 17.0, 17.0, 17.0, 17.0, 17.0, 17.0, 18.0, 18.0, 19.0, 19.0, 20.0, 20.0, 20.0, 20.0, 19.0, 18.0, 16.0, 14.0, 12.0, 10.0, 7.0, 4.0, 0.0, 0.0]}, {\"name\": \"Ipd=conv(deconv(Ipd))\", \"type\": \"scatter\", \"x\": [\"2020-01-22\", \"2020-01-23\", \"2020-01-24\", \"2020-01-25\", \"2020-01-26\", \"2020-01-27\", \"2020-01-28\", \"2020-01-29\", \"2020-01-30\", \"2020-01-31\", \"2020-02-01\", \"2020-02-02\", \"2020-02-03\", \"2020-02-04\", \"2020-02-05\", \"2020-02-06\", \"2020-02-07\", \"2020-02-08\", \"2020-02-09\", \"2020-02-10\", \"2020-02-11\", \"2020-02-12\", \"2020-02-13\", \"2020-02-14\", \"2020-02-15\", \"2020-02-16\", \"2020-02-17\", \"2020-02-18\", \"2020-02-19\", \"2020-02-20\", \"2020-02-21\", \"2020-02-22\", \"2020-02-23\", \"2020-02-24\", \"2020-02-25\", \"2020-02-26\", \"2020-02-27\", \"2020-02-28\", \"2020-02-29\", \"2020-03-01\", \"2020-03-02\", \"2020-03-03\", \"2020-03-04\", \"2020-03-05\", \"2020-03-06\", \"2020-03-07\", \"2020-03-08\", \"2020-03-09\", \"2020-03-10\", \"2020-03-11\", \"2020-03-12\", \"2020-03-13\", \"2020-03-14\", \"2020-03-15\", \"2020-03-16\", \"2020-03-17\", \"2020-03-18\", \"2020-03-19\", \"2020-03-20\", \"2020-03-21\", \"2020-03-22\", \"2020-03-23\", \"2020-03-24\", \"2020-03-25\", \"2020-03-26\", \"2020-03-27\", \"2020-03-28\", \"2020-03-29\", \"2020-03-30\", \"2020-03-31\", \"2020-04-01\", \"2020-04-02\", \"2020-04-03\", \"2020-04-04\", \"2020-04-05\", \"2020-04-06\", \"2020-04-07\", \"2020-04-08\", \"2020-04-09\", \"2020-04-10\", \"2020-04-11\", \"2020-04-12\", \"2020-04-13\", \"2020-04-14\", \"2020-04-15\", \"2020-04-16\", \"2020-04-17\", \"2020-04-18\", \"2020-04-19\", \"2020-04-20\", \"2020-04-21\", \"2020-04-22\", \"2020-04-23\", \"2020-04-24\", \"2020-04-25\", \"2020-04-26\", \"2020-04-27\", \"2020-04-28\", \"2020-04-29\", \"2020-04-30\", \"2020-05-01\", \"2020-05-02\", \"2020-05-03\", \"2020-05-04\", \"2020-05-05\", \"2020-05-06\", \"2020-05-07\", \"2020-05-08\", \"2020-05-09\", \"2020-05-10\", \"2020-05-11\", \"2020-05-12\", \"2020-05-13\", \"2020-05-14\", \"2020-05-15\", \"2020-05-16\", \"2020-05-17\", \"2020-05-18\", \"2020-05-19\", \"2020-05-20\", \"2020-05-21\", \"2020-05-22\", \"2020-05-23\", \"2020-05-24\", \"2020-05-25\", \"2020-05-26\", \"2020-05-27\", \"2020-05-28\", \"2020-05-29\", \"2020-05-30\", \"2020-05-31\", \"2020-06-01\", \"2020-06-02\", \"2020-06-03\"], \"y\": [0.0, -4.042198674546348e-14, 4.042198674546348e-14, 0.0008495563537306023, 0.055515135768251234, 0.2548711489397344, 0.5992251792606719, 1.0598790968758194, 1.5135725264637585, 1.914931108688931, 2.159617459318785, 2.1714251873703487, 2.032401680976606, 1.8268161470520177, 1.5990736996783097, 1.3736587585547972, 1.1635525005204828, 0.974882390215862, 0.8097056476009231, 0.6677283707781902, 0.5473767651939954, 0.44646106278430836, 0.36512819541320723, 0.460750887100696, 1.0575488997988538, 2.2991369524906635, 4.244363368881316, 6.739920173540587, 9.566851238477936, 12.421044998330606, 14.938197355416719, 16.749236563990447, 17.50660552895386, 16.909261623916493, 15.465927916312985, 13.692268988279256, 11.856816488580035, 10.103534972218906, 8.504613027995548, 7.089878414617457, 5.86444372734491, 4.831469798621631, 4.73362650448844, 7.889581365483273, 16.494593763201284, 32.166456029455894, 56.152764471117365, 89.27240613002098, 131.86062907948673, 183.8263302093389, 244.6231527481316, 313.28143764014135, 388.4213628104448, 468.3212678837878, 550.9945477581346, 634.2976687186671, 716.0131958535337, 793.8994145891342, 865.8736616443572, 930.1442308673585, 985.1552757729061, 1029.7173097033244, 1063.067363657974, 1084.8497753331474, 1095.0818860685986, 1094.1636803739298, 1082.871773330167, 1062.2268260946119, 1033.427852654361, 997.8236233335103, 956.7830684811813, 911.6454909754063, 863.7145934816048, 814.2037456918382, 764.1959716329454, 714.5822251979711, 666.0774672272339, 619.2571958170588, 574.5337369544856, 532.2386263314045, 492.5028001550734, 455.4456339871216, 421.06904816999645, 389.26124090985905, 359.9634436313011, 333.02623560539934, 308.3124944557195, 285.63537917252495, 264.86082147593794, 245.82263373498856, 228.31440120124455, 212.17661038731987, 197.2499892839874, 183.4190571167012, 170.56477443636595, 158.55669534855267, 147.26892794684497, 136.58738329990388, 126.46347776187925, 116.90116729200363, 107.87821604381558, 99.3453325396609, 91.29618408292501, 83.76254733076586, 76.74133845303668, 70.24648154090804, 64.26682486857655, 58.81219849819289, 53.869441018630056, 49.446689618319276, 45.478480835459756, 41.93437011888342, 38.78770305186016, 35.99617116332841, 33.51363159915874, 31.295119688123357, 29.299234643738828, 27.489151906292946, 25.8328741937799, 24.30306494904752, 22.877516523480235, 21.589092780271272, 20.4606045825777, 19.44048192082955, 18.531140538429398, 17.795047565772926, 17.21569378420066, 16.757064685095617, 16.444997161191846, 16.24838504546428, 16.176418543548674, 16.19226573668039, 16.30407655290655, 16.475487016129563, 16.66583777589694, 16.85418706969427, 17.029642149167213, 17.187115872082476, 17.324926411149484, 17.443346270892516, 17.543706940260744, 17.62699724341737, 17.643960173982645, 17.60909148708663, 17.551033982599712, 17.484482127735312, 17.417539199860435, 17.35455484093886, 17.29764877027699, 17.247612908845106, 17.20446628869914, 17.167800711605125, 17.1369954755782, 17.111348695142443, 17.09100472706815, 17.12656612021183, 17.204920718467616, 17.29874782085382, 17.394561417599718, 17.485330481084805, 17.56763677378627, 17.640156865017854, 17.70277124970968, 17.756023138251503, 17.799937525772574, 17.784252000088912, 17.7224931035271, 17.64241232881656, 17.557909722621233, 17.476396068383675, 17.401627299249473, 17.33522061603049, 17.277546933427615, 17.228275493508555, 17.186709479178717, 17.152840982255594, 17.17704221117525, 17.24594103759364, 17.331955848429082, 17.421354856897104, 17.506884498517827, 17.584930409199234, 17.653999656242398, 17.71382839569686, 17.76483834184533, 17.80780272441715, 17.842793073285396, 17.819489763053703, 17.751308114618563, 17.66586503513657, 17.576921022075155, 17.491752904427642, 17.413993833473352, 17.34515186774271, 17.28550299669764, 17.234635235032208, 17.192632685859312, 17.209847820613938, 17.27282799728567, 17.35388205671042, 17.439158994877435, 17.521287741896515, 17.59654441669114, 17.66333761092642, 17.72131711088525, 17.770830250024968, 17.812587089589798, 17.847455656118278, 17.875489947229077, 17.846291566779907, 17.77316766612835, 17.68361702124786, 17.59128348031059, 17.50333502958369, 17.423306875279454, 17.35262112341052, 17.291479710466238, 17.240257296477335, 17.249402924565253, 17.30629739868104, 17.43443927967514, 17.608210003681286, 17.844598826272282, 18.114229103189217, 18.38197154081455, 18.63041306274463, 18.80000985371461, 18.8479605758765, 18.709817769605717, 18.348170143522765, 17.759734452046466, 16.956715077867027, 15.907683726662022, 14.595650331675689, 12.982589915711992, 11.259651154097503, 9.599220861110227, 8.080225834526571, 6.734756698029858, 5.569054610736801, 4.575271930122507, 3.7384257863751653, 3.040547584185381, 2.463119810683544, 1.9884483585669046, 1.6003725662070225, 1.2845680552981764, 1.0286055829043486, 0.8218703126322895, 0.6554077406662322, 0.5217375960086694, 0.414660772620093, 0.3290737977818329, 0.26079856967105064, 0.20643083223207112, 0.163208244723003, 0.12889737709572022, 0.10169813638662188, 0.08016374860844483, 0.06313431421091309, 0.04968201081174407, 0.03906616141251663, 0.030696572991512818, 0.02410375018691866, 0.018914784319314197, 0.014833900148897152, 0.01162680574606788, 0.009108134481265198, 0.007131391487231061, 0.005580921917287975, 0.004365506555940455, 0.0034132638587278863, 0.0026675983219888624, 0.002083985091465163, 0.0016274215975701938, 0.0012704104187984437, 0.000991364294057146, 0.000773346431683169, 0.000603076538738555, 0.0004701472588004031, 0.0003664070088436549, 0.00028547427873490964, 0.00022235567377922255, 0.00017314576518603846, 0.0001347913785328577, 0.00010490662892708416, 8.162777586827967e-05, 6.349955699786531e-05, 4.9386062083714124e-05, 3.840096558431267e-05, 2.985291810344077e-05, 2.3202831814867548e-05, 1.8030475621344523e-05, 1.4008368574044048e-05, 1.0881382129607826e-05, 8.450792463716224e-06, 6.561900631317662e-06, 5.09426552323728e-06, 3.95415372622665e-06, 3.0686358513776215e-06, 2.380981459282339e-06, 1.8470709619577974e-06, 1.4325999978205396e-06, 1.110901474829815e-06, 8.612492213918207e-07, 6.675377638506082e-07, 5.17254617686073e-07, 4.0069842523533025e-07, 3.1029897703168296e-07, 2.4019609554670753e-07, 1.8583994258531473e-07, 1.4369913211946065e-07, 1.1103247743449174e-07, 8.571336770223247e-08, 6.609129235989208e-08, 5.0886329619162204e-08, 3.908762664650567e-08, 2.994698257276064e-08, 2.284844716389974e-08, 1.735035968724535e-08, 1.3074319819376494e-08, 9.763152775121853e-09, 7.19924173608888e-09, 5.214224074734375e-09, 3.6954336085020463e-09, 2.537576114668304e-09, 1.6773254982480367e-09, 1.0472629380981542e-09, 5.954487076249077e-10, 2.8171093112582136e-10, 9.262698262722956e-11, -2.7790115887506143e-14, -3.536923840228054e-14]}, {\"name\": \"Ipd\", \"type\": \"bar\", \"x\": [\"2020-01-22\", \"2020-01-23\", \"2020-01-24\", \"2020-01-25\", \"2020-01-26\", \"2020-01-27\", \"2020-01-28\", \"2020-01-29\", \"2020-01-30\", \"2020-01-31\", \"2020-02-01\", \"2020-02-02\", \"2020-02-03\", \"2020-02-04\", \"2020-02-05\", \"2020-02-06\", \"2020-02-07\", \"2020-02-08\", \"2020-02-09\", \"2020-02-10\", \"2020-02-11\", \"2020-02-12\", \"2020-02-13\", \"2020-02-14\", \"2020-02-15\", \"2020-02-16\", \"2020-02-17\", \"2020-02-18\", \"2020-02-19\", \"2020-02-20\", \"2020-02-21\", \"2020-02-22\", \"2020-02-23\", \"2020-02-24\", \"2020-02-25\", \"2020-02-26\", \"2020-02-27\", \"2020-02-28\", \"2020-02-29\", \"2020-03-01\", \"2020-03-02\", \"2020-03-03\", \"2020-03-04\", \"2020-03-05\", \"2020-03-06\", \"2020-03-07\", \"2020-03-08\", \"2020-03-09\", \"2020-03-10\", \"2020-03-11\", \"2020-03-12\", \"2020-03-13\", \"2020-03-14\", \"2020-03-15\", \"2020-03-16\", \"2020-03-17\", \"2020-03-18\", \"2020-03-19\", \"2020-03-20\", \"2020-03-21\", \"2020-03-22\", \"2020-03-23\", \"2020-03-24\", \"2020-03-25\", \"2020-03-26\", \"2020-03-27\", \"2020-03-28\", \"2020-03-29\", \"2020-03-30\", \"2020-03-31\", \"2020-04-01\", \"2020-04-02\", \"2020-04-03\", \"2020-04-04\", \"2020-04-05\", \"2020-04-06\", \"2020-04-07\", \"2020-04-08\", \"2020-04-09\", \"2020-04-10\", \"2020-04-11\", \"2020-04-12\", \"2020-04-13\", \"2020-04-14\", \"2020-04-15\", \"2020-04-16\", \"2020-04-17\", \"2020-04-18\", \"2020-04-19\", \"2020-04-20\", \"2020-04-21\", \"2020-04-22\", \"2020-04-23\", \"2020-04-24\", \"2020-04-25\", \"2020-04-26\", \"2020-04-27\", \"2020-04-28\", \"2020-04-29\", \"2020-04-30\", \"2020-05-01\", \"2020-05-02\", \"2020-05-03\", \"2020-05-04\", \"2020-05-05\", \"2020-05-06\", \"2020-05-07\", \"2020-05-08\", \"2020-05-09\", \"2020-05-10\", \"2020-05-11\", \"2020-05-12\", \"2020-05-13\", \"2020-05-14\", \"2020-05-15\", \"2020-05-16\", \"2020-05-17\", \"2020-05-18\", \"2020-05-19\", \"2020-05-20\", \"2020-05-21\", \"2020-05-22\", \"2020-05-23\", \"2020-05-24\", \"2020-05-25\", \"2020-05-26\", \"2020-05-27\", \"2020-05-28\", \"2020-05-29\", \"2020-05-30\", \"2020-05-31\", \"2020-06-01\", \"2020-06-02\", \"2020-06-03\"], \"y\": [0.0, 0.0, 0.0, 0.0, 0.0, 0.0, 0.0, 0.0, 0.0, 0.0, 0.0, 0.0, 0.0, 0.0, 0.0, 0.0, 0.0, 0.0, 0.0, 0.0, 0.0, 0.0, 0.0, 0.0, 0.0, 0.0, 0.0, 0.0, 0.0, 0.0, 0.0, 0.0, 0.0, 0.0, 1.0, 0.0, 7.0, 0.0, 10.0, 9.0, 15.0, 14.0, 34.0, 24.0, 100.0, 54.0, 69.0, 37.0, 117.0, 161.0, 0.0, 487.0, 220.0, 841.0, 0.0, 500.0, 328.0, 1047.0, 1219.0, 1281.0, 899.0, 1321.0, 1082.0, 1020.0, 914.0, 1117.0, 1148.0, 753.0, 1093.0, 683.0, 1163.0, 1059.0, 779.0, 899.0, 595.0, 557.0, 596.0, 1027.0, 771.0, 500.0, 556.0, 308.0, 273.0, 248.0, 400.0, 396.0, 346.0, 326.0, 336.0, 204.0, 119.0, 205.0, 228.0, 181.0, 217.0, 167.0, 103.0, 100.0, 143.0, 179.0, 119.0, 112.0, 88.0, 76.0, 28.0, 51.0, 66.0, 81.0, 44.0, 54.0, 39.0, 36.0, 33.0, 50.0, 51.0, 58.0, 15.0, 10.0, 21.0, 40.0, 36.0, 13.0, 18.0, 11.0, 10.0, 15.0, 15.0, 20.0, 32.0, 17.0, 17.0, 9.0, 3.0, 19.0]}, {\"name\": \"Ipd=lowpass(Ipd)\", \"type\": \"scatter\", \"x\": [\"2020-01-22\", \"2020-01-23\", \"2020-01-24\", \"2020-01-25\", \"2020-01-26\", \"2020-01-27\", \"2020-01-28\", \"2020-01-29\", \"2020-01-30\", \"2020-01-31\", \"2020-02-01\", \"2020-02-02\", \"2020-02-03\", \"2020-02-04\", \"2020-02-05\", \"2020-02-06\", \"2020-02-07\", \"2020-02-08\", \"2020-02-09\", \"2020-02-10\", \"2020-02-11\", \"2020-02-12\", \"2020-02-13\", \"2020-02-14\", \"2020-02-15\", \"2020-02-16\", \"2020-02-17\", \"2020-02-18\", \"2020-02-19\", \"2020-02-20\", \"2020-02-21\", \"2020-02-22\", \"2020-02-23\", \"2020-02-24\", \"2020-02-25\", \"2020-02-26\", \"2020-02-27\", \"2020-02-28\", \"2020-02-29\", \"2020-03-01\", \"2020-03-02\", \"2020-03-03\", \"2020-03-04\", \"2020-03-05\", \"2020-03-06\", \"2020-03-07\", \"2020-03-08\", \"2020-03-09\", \"2020-03-10\", \"2020-03-11\", \"2020-03-12\", \"2020-03-13\", \"2020-03-14\", \"2020-03-15\", \"2020-03-16\", \"2020-03-17\", \"2020-03-18\", \"2020-03-19\", \"2020-03-20\", \"2020-03-21\", \"2020-03-22\", \"2020-03-23\", \"2020-03-24\", \"2020-03-25\", \"2020-03-26\", \"2020-03-27\", \"2020-03-28\", \"2020-03-29\", \"2020-03-30\", \"2020-03-31\", \"2020-04-01\", \"2020-04-02\", \"2020-04-03\", \"2020-04-04\", \"2020-04-05\", \"2020-04-06\", \"2020-04-07\", \"2020-04-08\", \"2020-04-09\", \"2020-04-10\", \"2020-04-11\", \"2020-04-12\", \"2020-04-13\", \"2020-04-14\", \"2020-04-15\", \"2020-04-16\", \"2020-04-17\", \"2020-04-18\", \"2020-04-19\", \"2020-04-20\", \"2020-04-21\", \"2020-04-22\", \"2020-04-23\", \"2020-04-24\", \"2020-04-25\", \"2020-04-26\", \"2020-04-27\", \"2020-04-28\", \"2020-04-29\", \"2020-04-30\", \"2020-05-01\", \"2020-05-02\", \"2020-05-03\", \"2020-05-04\", \"2020-05-05\", \"2020-05-06\", \"2020-05-07\", \"2020-05-08\", \"2020-05-09\", \"2020-05-10\", \"2020-05-11\", \"2020-05-12\", \"2020-05-13\", \"2020-05-14\", \"2020-05-15\", \"2020-05-16\", \"2020-05-17\", \"2020-05-18\", \"2020-05-19\", \"2020-05-20\", \"2020-05-21\", \"2020-05-22\", \"2020-05-23\", \"2020-05-24\", \"2020-05-25\", \"2020-05-26\", \"2020-05-27\", \"2020-05-28\", \"2020-05-29\", \"2020-05-30\", \"2020-05-31\", \"2020-06-01\", \"2020-06-02\", \"2020-06-03\"], \"y\": [-0.4558035215939653, -0.582375202521034, -0.6726229018539387, -0.7090959118494389, -0.6764735157575386, -0.563671857490168, -0.3659372663099823, -0.08669679620766657, 0.2610853241428144, 0.6542961498449387, 1.0600304664631706, 1.4370805659393584, 1.7386368809761255, 1.916162295418812, 1.9242681006855546, 1.7262749696170205, 1.3000016184928873, 0.6432031555260986, -0.22200213661039925, -1.2464076203052254, -2.3533442943174308, -3.441187365159493, -4.389068888832508, -5.065838411185851, -5.341963903982183, -5.103673172587179, -4.2682344648749515, -2.7989054534142976, -0.717788633736804, 1.8853335230326635, 4.850103991908831, 7.950344422534023, 10.907722433767056, 13.414929283254878, 15.168088655608747, 15.907086776731935, 15.4614069264512, 13.79797106758809, 11.066559583458703, 7.637727060236039, 4.12788308297464, 1.4064687917800673, 0.5810055557939868, 2.957246799354698, 9.973692906013524, 23.11222584432606, 43.78939244000756, 73.23562263427603, 112.37203688090145, 161.69608047156373, 221.18770632644166, 290.2470543313455, 367.67257524923497, 451.6855195505343, 540.0029358322496, 629.9570093505455, 718.6537917288177, 803.159277275286, 880.695995866871, 948.8300576448065, 1005.6282783593532, 1049.7683149998854, 1080.5911319811155, 1098.0931301429391, 1102.8631772096933, 1095.97616688314, 1078.8587521178238, 1053.144294351017, 1020.5330921884188, 982.6711240250669, 941.0564759804761, 896.9780196816354, 851.4865195466325, 805.3948531795421, 759.3017155595783, 713.6318825960093, 668.6854470466093, 624.6881922217111, 581.835610020259, 540.3244257803821, 500.36809149301695, 462.19616869805395, 426.0408843561456, 392.1163697641297, 360.59661067403783, 331.5970584544174, 305.1628382626669, 281.26439487677914, 259.7998987476204, 240.60303198736977, 223.4547300472936, 208.0977099696604, 194.25282592721916, 181.6362921694559, 169.97666288164802, 159.030341914223, 148.5944522361844, 138.51612677609546, 128.69758996337984, 119.0966912059632, 109.72282530132561, 100.62850428537209, 91.89728473591391, 83.62925408901275, 75.9256944043135, 68.87471792934502, 62.53952480835748, 56.950496971388525, 52.101734489780206, 47.952018590702274, 44.42967061432129, 41.440415292558605, 38.87713865074502, 36.630331134656856, 34.598017990961445, 32.69411169351292, 30.8543808804882, 29.039590253122977, 27.235758026538083, 25.451817877070724, 23.715207607162046, 22.066038473681786, 20.550560368000394, 19.214649344623368, 18.09799628255841, 17.229551347524318, 16.624581936352225, 16.28346479774671, 16.192105605055982, 16.32370789380616, 16.64152397711607, 17.10220874795312, 17.65943137950231, 18.267439569534314]}],\n",
              "                        {\"template\": {\"data\": {\"bar\": [{\"error_x\": {\"color\": \"#2a3f5f\"}, \"error_y\": {\"color\": \"#2a3f5f\"}, \"marker\": {\"line\": {\"color\": \"#E5ECF6\", \"width\": 0.5}}, \"type\": \"bar\"}], \"barpolar\": [{\"marker\": {\"line\": {\"color\": \"#E5ECF6\", \"width\": 0.5}}, \"type\": \"barpolar\"}], \"carpet\": [{\"aaxis\": {\"endlinecolor\": \"#2a3f5f\", \"gridcolor\": \"white\", \"linecolor\": \"white\", \"minorgridcolor\": \"white\", \"startlinecolor\": \"#2a3f5f\"}, \"baxis\": {\"endlinecolor\": \"#2a3f5f\", \"gridcolor\": \"white\", \"linecolor\": \"white\", \"minorgridcolor\": \"white\", \"startlinecolor\": \"#2a3f5f\"}, \"type\": \"carpet\"}], \"choropleth\": [{\"colorbar\": {\"outlinewidth\": 0, \"ticks\": \"\"}, \"type\": \"choropleth\"}], \"contour\": [{\"colorbar\": {\"outlinewidth\": 0, \"ticks\": \"\"}, \"colorscale\": [[0.0, \"#0d0887\"], [0.1111111111111111, \"#46039f\"], [0.2222222222222222, \"#7201a8\"], [0.3333333333333333, \"#9c179e\"], [0.4444444444444444, \"#bd3786\"], [0.5555555555555556, \"#d8576b\"], [0.6666666666666666, \"#ed7953\"], [0.7777777777777778, \"#fb9f3a\"], [0.8888888888888888, \"#fdca26\"], [1.0, \"#f0f921\"]], \"type\": \"contour\"}], \"contourcarpet\": [{\"colorbar\": {\"outlinewidth\": 0, \"ticks\": \"\"}, \"type\": \"contourcarpet\"}], \"heatmap\": [{\"colorbar\": {\"outlinewidth\": 0, \"ticks\": \"\"}, \"colorscale\": [[0.0, \"#0d0887\"], [0.1111111111111111, \"#46039f\"], [0.2222222222222222, \"#7201a8\"], [0.3333333333333333, \"#9c179e\"], [0.4444444444444444, \"#bd3786\"], [0.5555555555555556, \"#d8576b\"], [0.6666666666666666, \"#ed7953\"], [0.7777777777777778, \"#fb9f3a\"], [0.8888888888888888, \"#fdca26\"], [1.0, \"#f0f921\"]], \"type\": \"heatmap\"}], \"heatmapgl\": [{\"colorbar\": {\"outlinewidth\": 0, \"ticks\": \"\"}, \"colorscale\": [[0.0, \"#0d0887\"], [0.1111111111111111, \"#46039f\"], [0.2222222222222222, \"#7201a8\"], [0.3333333333333333, \"#9c179e\"], [0.4444444444444444, \"#bd3786\"], [0.5555555555555556, \"#d8576b\"], [0.6666666666666666, \"#ed7953\"], [0.7777777777777778, \"#fb9f3a\"], [0.8888888888888888, \"#fdca26\"], [1.0, \"#f0f921\"]], \"type\": \"heatmapgl\"}], \"histogram\": [{\"marker\": {\"colorbar\": {\"outlinewidth\": 0, \"ticks\": \"\"}}, \"type\": \"histogram\"}], \"histogram2d\": [{\"colorbar\": {\"outlinewidth\": 0, \"ticks\": \"\"}, \"colorscale\": [[0.0, \"#0d0887\"], [0.1111111111111111, \"#46039f\"], [0.2222222222222222, \"#7201a8\"], [0.3333333333333333, \"#9c179e\"], [0.4444444444444444, \"#bd3786\"], [0.5555555555555556, \"#d8576b\"], [0.6666666666666666, \"#ed7953\"], [0.7777777777777778, \"#fb9f3a\"], [0.8888888888888888, \"#fdca26\"], [1.0, \"#f0f921\"]], \"type\": \"histogram2d\"}], \"histogram2dcontour\": [{\"colorbar\": {\"outlinewidth\": 0, \"ticks\": \"\"}, \"colorscale\": [[0.0, \"#0d0887\"], [0.1111111111111111, \"#46039f\"], [0.2222222222222222, \"#7201a8\"], [0.3333333333333333, \"#9c179e\"], [0.4444444444444444, \"#bd3786\"], [0.5555555555555556, \"#d8576b\"], [0.6666666666666666, \"#ed7953\"], [0.7777777777777778, \"#fb9f3a\"], [0.8888888888888888, \"#fdca26\"], [1.0, \"#f0f921\"]], \"type\": \"histogram2dcontour\"}], \"mesh3d\": [{\"colorbar\": {\"outlinewidth\": 0, \"ticks\": \"\"}, \"type\": \"mesh3d\"}], \"parcoords\": [{\"line\": {\"colorbar\": {\"outlinewidth\": 0, \"ticks\": \"\"}}, \"type\": \"parcoords\"}], \"pie\": [{\"automargin\": true, \"type\": \"pie\"}], \"scatter\": [{\"marker\": {\"colorbar\": {\"outlinewidth\": 0, \"ticks\": \"\"}}, \"type\": \"scatter\"}], \"scatter3d\": [{\"line\": {\"colorbar\": {\"outlinewidth\": 0, \"ticks\": \"\"}}, \"marker\": {\"colorbar\": {\"outlinewidth\": 0, \"ticks\": \"\"}}, \"type\": \"scatter3d\"}], \"scattercarpet\": [{\"marker\": {\"colorbar\": {\"outlinewidth\": 0, \"ticks\": \"\"}}, \"type\": \"scattercarpet\"}], \"scattergeo\": [{\"marker\": {\"colorbar\": {\"outlinewidth\": 0, \"ticks\": \"\"}}, \"type\": \"scattergeo\"}], \"scattergl\": [{\"marker\": {\"colorbar\": {\"outlinewidth\": 0, \"ticks\": \"\"}}, \"type\": \"scattergl\"}], \"scattermapbox\": [{\"marker\": {\"colorbar\": {\"outlinewidth\": 0, \"ticks\": \"\"}}, \"type\": \"scattermapbox\"}], \"scatterpolar\": [{\"marker\": {\"colorbar\": {\"outlinewidth\": 0, \"ticks\": \"\"}}, \"type\": \"scatterpolar\"}], \"scatterpolargl\": [{\"marker\": {\"colorbar\": {\"outlinewidth\": 0, \"ticks\": \"\"}}, \"type\": \"scatterpolargl\"}], \"scatterternary\": [{\"marker\": {\"colorbar\": {\"outlinewidth\": 0, \"ticks\": \"\"}}, \"type\": \"scatterternary\"}], \"surface\": [{\"colorbar\": {\"outlinewidth\": 0, \"ticks\": \"\"}, \"colorscale\": [[0.0, \"#0d0887\"], [0.1111111111111111, \"#46039f\"], [0.2222222222222222, \"#7201a8\"], [0.3333333333333333, \"#9c179e\"], [0.4444444444444444, \"#bd3786\"], [0.5555555555555556, \"#d8576b\"], [0.6666666666666666, \"#ed7953\"], [0.7777777777777778, \"#fb9f3a\"], [0.8888888888888888, \"#fdca26\"], [1.0, \"#f0f921\"]], \"type\": \"surface\"}], \"table\": [{\"cells\": {\"fill\": {\"color\": \"#EBF0F8\"}, \"line\": {\"color\": \"white\"}}, \"header\": {\"fill\": {\"color\": \"#C8D4E3\"}, \"line\": {\"color\": \"white\"}}, \"type\": \"table\"}]}, \"layout\": {\"annotationdefaults\": {\"arrowcolor\": \"#2a3f5f\", \"arrowhead\": 0, \"arrowwidth\": 1}, \"coloraxis\": {\"colorbar\": {\"outlinewidth\": 0, \"ticks\": \"\"}}, \"colorscale\": {\"diverging\": [[0, \"#8e0152\"], [0.1, \"#c51b7d\"], [0.2, \"#de77ae\"], [0.3, \"#f1b6da\"], [0.4, \"#fde0ef\"], [0.5, \"#f7f7f7\"], [0.6, \"#e6f5d0\"], [0.7, \"#b8e186\"], [0.8, \"#7fbc41\"], [0.9, \"#4d9221\"], [1, \"#276419\"]], \"sequential\": [[0.0, \"#0d0887\"], [0.1111111111111111, \"#46039f\"], [0.2222222222222222, \"#7201a8\"], [0.3333333333333333, \"#9c179e\"], [0.4444444444444444, \"#bd3786\"], [0.5555555555555556, \"#d8576b\"], [0.6666666666666666, \"#ed7953\"], [0.7777777777777778, \"#fb9f3a\"], [0.8888888888888888, \"#fdca26\"], [1.0, \"#f0f921\"]], \"sequentialminus\": [[0.0, \"#0d0887\"], [0.1111111111111111, \"#46039f\"], [0.2222222222222222, \"#7201a8\"], [0.3333333333333333, \"#9c179e\"], [0.4444444444444444, \"#bd3786\"], [0.5555555555555556, \"#d8576b\"], [0.6666666666666666, \"#ed7953\"], [0.7777777777777778, \"#fb9f3a\"], [0.8888888888888888, \"#fdca26\"], [1.0, \"#f0f921\"]]}, \"colorway\": [\"#636efa\", \"#EF553B\", \"#00cc96\", \"#ab63fa\", \"#FFA15A\", \"#19d3f3\", \"#FF6692\", \"#B6E880\", \"#FF97FF\", \"#FECB52\"], \"font\": {\"color\": \"#2a3f5f\"}, \"geo\": {\"bgcolor\": \"white\", \"lakecolor\": \"white\", \"landcolor\": \"#E5ECF6\", \"showlakes\": true, \"showland\": true, \"subunitcolor\": \"white\"}, \"hoverlabel\": {\"align\": \"left\"}, \"hovermode\": \"closest\", \"mapbox\": {\"style\": \"light\"}, \"paper_bgcolor\": \"white\", \"plot_bgcolor\": \"#E5ECF6\", \"polar\": {\"angularaxis\": {\"gridcolor\": \"white\", \"linecolor\": \"white\", \"ticks\": \"\"}, \"bgcolor\": \"#E5ECF6\", \"radialaxis\": {\"gridcolor\": \"white\", \"linecolor\": \"white\", \"ticks\": \"\"}}, \"scene\": {\"xaxis\": {\"backgroundcolor\": \"#E5ECF6\", \"gridcolor\": \"white\", \"gridwidth\": 2, \"linecolor\": \"white\", \"showbackground\": true, \"ticks\": \"\", \"zerolinecolor\": \"white\"}, \"yaxis\": {\"backgroundcolor\": \"#E5ECF6\", \"gridcolor\": \"white\", \"gridwidth\": 2, \"linecolor\": \"white\", \"showbackground\": true, \"ticks\": \"\", \"zerolinecolor\": \"white\"}, \"zaxis\": {\"backgroundcolor\": \"#E5ECF6\", \"gridcolor\": \"white\", \"gridwidth\": 2, \"linecolor\": \"white\", \"showbackground\": true, \"ticks\": \"\", \"zerolinecolor\": \"white\"}}, \"shapedefaults\": {\"line\": {\"color\": \"#2a3f5f\"}}, \"ternary\": {\"aaxis\": {\"gridcolor\": \"white\", \"linecolor\": \"white\", \"ticks\": \"\"}, \"baxis\": {\"gridcolor\": \"white\", \"linecolor\": \"white\", \"ticks\": \"\"}, \"bgcolor\": \"#E5ECF6\", \"caxis\": {\"gridcolor\": \"white\", \"linecolor\": \"white\", \"ticks\": \"\"}}, \"title\": {\"x\": 0.05}, \"xaxis\": {\"automargin\": true, \"gridcolor\": \"white\", \"linecolor\": \"white\", \"ticks\": \"\", \"title\": {\"standoff\": 15}, \"zerolinecolor\": \"white\", \"zerolinewidth\": 2}, \"yaxis\": {\"automargin\": true, \"gridcolor\": \"white\", \"linecolor\": \"white\", \"ticks\": \"\", \"title\": {\"standoff\": 15}, \"zerolinecolor\": \"white\", \"zerolinewidth\": 2}}}, \"title\": {\"text\": \"$\\\\text{Switzerland: Actual } I_{pd} \\\\text{ vs. convolution of deconvolution of } I_{pd}$\", \"x\": 0.5, \"xanchor\": \"center\"}, \"xaxis\": {\"title\": {\"text\": \"Day\"}}, \"yaxis\": {\"title\": {\"text\": \"Count\"}}},\n",
              "                        {\"responsive\": true}\n",
              "                    ).then(function(){\n",
              "                            \n",
              "var gd = document.getElementById('222f4657-e7eb-4e3e-803c-5dad5a861fd3');\n",
              "var x = new MutationObserver(function (mutations, observer) {{\n",
              "        var display = window.getComputedStyle(gd).display;\n",
              "        if (!display || display === 'none') {{\n",
              "            console.log([gd, 'removed!']);\n",
              "            Plotly.purge(gd);\n",
              "            observer.disconnect();\n",
              "        }}\n",
              "}});\n",
              "\n",
              "// Listen for the removal of the full notebook cells\n",
              "var notebookContainer = gd.closest('#notebook-container');\n",
              "if (notebookContainer) {{\n",
              "    x.observe(notebookContainer, {childList: true});\n",
              "}}\n",
              "\n",
              "// Listen for the clearing of the current output cell\n",
              "var outputEl = gd.closest('.output');\n",
              "if (outputEl) {{\n",
              "    x.observe(outputEl, {childList: true});\n",
              "}}\n",
              "\n",
              "                        })\n",
              "                };\n",
              "                \n",
              "            </script>\n",
              "        </div>\n",
              "</body>\n",
              "</html>"
            ]
          },
          "metadata": {
            "tags": []
          }
        }
      ]
    },
    {
      "cell_type": "markdown",
      "metadata": {
        "colab_type": "text",
        "id": "pBiGSN7omFl3"
      },
      "source": [
        "We can see that our estimate for $\\hat{E}_{pd}$ must be close to the reality of $E_{pd}$ as $I_{pd}$ is almost identical to $\\hat{E}_{pd} \\circledast h_L$.\n",
        "\n",
        "Of course, this holds only as long as our estimate of $h_L$ is close to reality.\n",
        "\n"
      ]
    },
    {
      "cell_type": "markdown",
      "metadata": {
        "colab_type": "text",
        "id": "7qqNTTuZmFl4"
      },
      "source": [
        "#### 3. $\\beta$ and $R$ from $E_{pd}$ and $I$\n",
        "\n",
        "As described above:\n",
        "$$\\beta = \\frac{N~E_{pd}}{S~I}$$ and if $S$~$N$, then $$\\beta = \\frac{E_{pd}}{I}$$\n",
        "It is easier to simply say :\n",
        "$$R = \\frac{E_{pd}}{\\gamma~I}$$"
      ]
    },
    {
      "cell_type": "code",
      "metadata": {
        "colab_type": "code",
        "outputId": "b6e74083-9626-43d4-a307-b43953ddf187",
        "id": "7avT3Ym1mFl4",
        "colab": {
          "base_uri": "https://localhost:8080/",
          "height": 542
        }
      },
      "source": [
        "#collapse_hide\n",
        "\n",
        "# Calculate R\n",
        "gam = 1/20.11 # As we say gamma is 1/20.11\n",
        "R = Enext[:len(inf_df.loc['Switzerland'])]*(1/gam)/inf_df.loc['Switzerland']\n",
        "\n",
        "fig = go.Figure(data=[    \n",
        "    go.Scatter(name='R', x=inf_df.loc['Switzerland'].index, y=R),\n",
        "    go.Scatter(name='Epd=deconv(Ipd)', x=inf_df.loc['Switzerland'].index, y=Enext),\n",
        "    go.Scatter(name='Inf', x=inf_df.loc['Switzerland'].index, y=inf_df.loc['Switzerland']),\n",
        "])\n",
        "\n",
        "fig.update_layout(\n",
        "    \n",
        "    xaxis_title = 'Day',\n",
        "    yaxis_title = 'R',\n",
        "    title={\n",
        "        'text':r'$\\text{Switzerland: R }$',\n",
        "        'x':0.5,\n",
        "        'xanchor':'center'\n",
        "    }\n",
        ")\n",
        "\n",
        "fig.show()"
      ],
      "execution_count": 257,
      "outputs": [
        {
          "output_type": "display_data",
          "data": {
            "text/html": [
              "<html>\n",
              "<head><meta charset=\"utf-8\" /></head>\n",
              "<body>\n",
              "    <div>\n",
              "            <script src=\"https://cdnjs.cloudflare.com/ajax/libs/mathjax/2.7.5/MathJax.js?config=TeX-AMS-MML_SVG\"></script><script type=\"text/javascript\">if (window.MathJax) {MathJax.Hub.Config({SVG: {font: \"STIX-Web\"}});}</script>\n",
              "                <script type=\"text/javascript\">window.PlotlyConfig = {MathJaxConfig: 'local'};</script>\n",
              "        <script src=\"https://cdn.plot.ly/plotly-latest.min.js\"></script>    \n",
              "            <div id=\"6497646c-51fe-4cca-9756-b7907760b862\" class=\"plotly-graph-div\" style=\"height:525px; width:100%;\"></div>\n",
              "            <script type=\"text/javascript\">\n",
              "                \n",
              "                    window.PLOTLYENV=window.PLOTLYENV || {};\n",
              "                    \n",
              "                if (document.getElementById(\"6497646c-51fe-4cca-9756-b7907760b862\")) {\n",
              "                    Plotly.newPlot(\n",
              "                        '6497646c-51fe-4cca-9756-b7907760b862',\n",
              "                        [{\"name\": \"R\", \"type\": \"scatter\", \"x\": [\"2020-01-22\", \"2020-01-23\", \"2020-01-24\", \"2020-01-25\", \"2020-01-26\", \"2020-01-27\", \"2020-01-28\", \"2020-01-29\", \"2020-01-30\", \"2020-01-31\", \"2020-02-01\", \"2020-02-02\", \"2020-02-03\", \"2020-02-04\", \"2020-02-05\", \"2020-02-06\", \"2020-02-07\", \"2020-02-08\", \"2020-02-09\", \"2020-02-10\", \"2020-02-11\", \"2020-02-12\", \"2020-02-13\", \"2020-02-14\", \"2020-02-15\", \"2020-02-16\", \"2020-02-17\", \"2020-02-18\", \"2020-02-19\", \"2020-02-20\", \"2020-02-21\", \"2020-02-22\", \"2020-02-23\", \"2020-02-24\", \"2020-02-25\", \"2020-02-26\", \"2020-02-27\", \"2020-02-28\", \"2020-02-29\", \"2020-03-01\", \"2020-03-02\", \"2020-03-03\", \"2020-03-04\", \"2020-03-05\", \"2020-03-06\", \"2020-03-07\", \"2020-03-08\", \"2020-03-09\", \"2020-03-10\", \"2020-03-11\", \"2020-03-12\", \"2020-03-13\", \"2020-03-14\", \"2020-03-15\", \"2020-03-16\", \"2020-03-17\", \"2020-03-18\", \"2020-03-19\", \"2020-03-20\", \"2020-03-21\", \"2020-03-22\", \"2020-03-23\", \"2020-03-24\", \"2020-03-25\", \"2020-03-26\", \"2020-03-27\", \"2020-03-28\", \"2020-03-29\", \"2020-03-30\", \"2020-03-31\", \"2020-04-01\", \"2020-04-02\", \"2020-04-03\", \"2020-04-04\", \"2020-04-05\", \"2020-04-06\", \"2020-04-07\", \"2020-04-08\", \"2020-04-09\", \"2020-04-10\", \"2020-04-11\", \"2020-04-12\", \"2020-04-13\", \"2020-04-14\", \"2020-04-15\", \"2020-04-16\", \"2020-04-17\", \"2020-04-18\", \"2020-04-19\", \"2020-04-20\", \"2020-04-21\", \"2020-04-22\", \"2020-04-23\", \"2020-04-24\", \"2020-04-25\", \"2020-04-26\", \"2020-04-27\", \"2020-04-28\", \"2020-04-29\", \"2020-04-30\", \"2020-05-01\", \"2020-05-02\", \"2020-05-03\", \"2020-05-04\", \"2020-05-05\", \"2020-05-06\", \"2020-05-07\", \"2020-05-08\", \"2020-05-09\", \"2020-05-10\", \"2020-05-11\", \"2020-05-12\", \"2020-05-13\", \"2020-05-14\", \"2020-05-15\", \"2020-05-16\", \"2020-05-17\", \"2020-05-18\", \"2020-05-19\", \"2020-05-20\", \"2020-05-21\", \"2020-05-22\", \"2020-05-23\", \"2020-05-24\", \"2020-05-25\", \"2020-05-26\", \"2020-05-27\", \"2020-05-28\", \"2020-05-29\", \"2020-05-30\", \"2020-05-31\", \"2020-06-01\", \"2020-06-02\", \"2020-06-03\"], \"y\": [null, null, null, null, null, null, null, null, null, null, null, null, null, null, null, null, null, null, null, null, null, null, null, null, null, null, null, null, null, null, null, null, null, null, 0.0, 0.0, 0.0, 0.0, 0.0, 0.0, 6.703333333333332, 23.089259259259258, 28.431379310344823, 36.015181818181816, 27.196380952380952, 29.022386363636365, 29.377560240963856, 32.37219512195122, 29.19059793814433, 25.35608695652174, 28.541211180124225, 18.016699288256227, 16.303785394932937, 10.644844179651695, 11.114876260311641, 9.335440239790184, 8.454958123953098, 6.279684000995272, 4.764819138755981, 3.742909791827294, 3.2309233954451346, 2.614959035580524, 2.1940461346633415, 1.864528408555545, 1.6033388458525544, 1.5253129757320676, 1.2754999185800358, 1.1101391680841193, 0.95427365356623, 0.832485887518294, 0.7601138824844547, 0.6943710603726012, 0.638683040440398, 0.6157039630512514, 0.5412569792412312, 0.540507167341851, 0.5008540226272784, 0.46819467620182753, 0.4342717747740542, 0.40546308940477144, 0.39141508645894246, 0.37417176328710483, 0.37439815668202764, 0.3417718314952088, 0.3649953593895019, 0.3453083446759502, 0.3311881082237194, 0.32406445837063563, 0.3152848952848953, 0.317593177511055, 0.3246708420320111, 0.3166467415075084, 0.31684260280447457, 0.3038961892247043, 0.2817748123436197, 0.2704583259600071, 0.26185884129080955, 0.25517220543806646, 0.22515615792575133, 0.23052596089008764, 0.22835349296470006, 0.21909727626459144, 0.20976667581663463, 0.23485151818485153, 0.22868514570007106, 0.2361252446183953, 0.23306291390728473, 0.2377276707530648, 0.2487629886194953, 0.2578205128205128, 0.27223660977045316, 0.25827203736135435, 0.29266112266112265, 0.2697518443997317, 0.24875651041666666, 0.27995359628770305, 0.2834742951907131, 0.2896129612961296, 0.2937195715676728, 0.3122670807453416, 0.3366629464285714, 0.31143805309734507, 0.3433414634146341, 0.4132191780821918, 0.4765402843601895, 0.4669504643962848, 0.5755992844364938, 0.5576429809358752, 0.5613628899835796, 0.6499429657794676, 0.8189592760180996, 0.8026164079822616, 0.7973127753303965, 0.9730645161290323]}, {\"name\": \"Epd=deconv(Ipd)\", \"type\": \"scatter\", \"x\": [\"2020-01-22\", \"2020-01-23\", \"2020-01-24\", \"2020-01-25\", \"2020-01-26\", \"2020-01-27\", \"2020-01-28\", \"2020-01-29\", \"2020-01-30\", \"2020-01-31\", \"2020-02-01\", \"2020-02-02\", \"2020-02-03\", \"2020-02-04\", \"2020-02-05\", \"2020-02-06\", \"2020-02-07\", \"2020-02-08\", \"2020-02-09\", \"2020-02-10\", \"2020-02-11\", \"2020-02-12\", \"2020-02-13\", \"2020-02-14\", \"2020-02-15\", \"2020-02-16\", \"2020-02-17\", \"2020-02-18\", \"2020-02-19\", \"2020-02-20\", \"2020-02-21\", \"2020-02-22\", \"2020-02-23\", \"2020-02-24\", \"2020-02-25\", \"2020-02-26\", \"2020-02-27\", \"2020-02-28\", \"2020-02-29\", \"2020-03-01\", \"2020-03-02\", \"2020-03-03\", \"2020-03-04\", \"2020-03-05\", \"2020-03-06\", \"2020-03-07\", \"2020-03-08\", \"2020-03-09\", \"2020-03-10\", \"2020-03-11\", \"2020-03-12\", \"2020-03-13\", \"2020-03-14\", \"2020-03-15\", \"2020-03-16\", \"2020-03-17\", \"2020-03-18\", \"2020-03-19\", \"2020-03-20\", \"2020-03-21\", \"2020-03-22\", \"2020-03-23\", \"2020-03-24\", \"2020-03-25\", \"2020-03-26\", \"2020-03-27\", \"2020-03-28\", \"2020-03-29\", \"2020-03-30\", \"2020-03-31\", \"2020-04-01\", \"2020-04-02\", \"2020-04-03\", \"2020-04-04\", \"2020-04-05\", \"2020-04-06\", \"2020-04-07\", \"2020-04-08\", \"2020-04-09\", \"2020-04-10\", \"2020-04-11\", \"2020-04-12\", \"2020-04-13\", \"2020-04-14\", \"2020-04-15\", \"2020-04-16\", \"2020-04-17\", \"2020-04-18\", \"2020-04-19\", \"2020-04-20\", \"2020-04-21\", \"2020-04-22\", \"2020-04-23\", \"2020-04-24\", \"2020-04-25\", \"2020-04-26\", \"2020-04-27\", \"2020-04-28\", \"2020-04-29\", \"2020-04-30\", \"2020-05-01\", \"2020-05-02\", \"2020-05-03\", \"2020-05-04\", \"2020-05-05\", \"2020-05-06\", \"2020-05-07\", \"2020-05-08\", \"2020-05-09\", \"2020-05-10\", \"2020-05-11\", \"2020-05-12\", \"2020-05-13\", \"2020-05-14\", \"2020-05-15\", \"2020-05-16\", \"2020-05-17\", \"2020-05-18\", \"2020-05-19\", \"2020-05-20\", \"2020-05-21\", \"2020-05-22\", \"2020-05-23\", \"2020-05-24\", \"2020-05-25\", \"2020-05-26\", \"2020-05-27\", \"2020-05-28\", \"2020-05-29\", \"2020-05-30\", \"2020-05-31\", \"2020-06-01\", \"2020-06-02\", \"2020-06-03\"], \"y\": [0.0, 0.0, 1.0, 3.0, 4.0, 5.0, 4.0, 4.0, 2.0, 0.0, 0.0, 0.0, 0.0, 0.0, 0.0, 0.0, 0.0, 0.0, 0.0, 0.0, 0.0, 3.0, 10.0, 16.0, 23.0, 27.0, 30.0, 30.0, 27.0, 21.0, 12.0, 0.0, 0.0, 0.0, 0.0, 0.0, 0.0, 0.0, 0.0, 0.0, 14.0, 62.0, 123.0, 197.0, 284.0, 381.0, 485.0, 594.0, 704.0, 812.0, 914.0, 1007.0, 1088.0, 1155.0, 1206.0, 1239.0, 1255.0, 1255.0, 1238.0, 1207.0, 1164.0, 1111.0, 1050.0, 984.0, 916.0, 847.0, 779.0, 714.0, 652.0, 594.0, 541.0, 493.0, 450.0, 411.0, 376.0, 345.0, 317.0, 293.0, 270.0, 251.0, 233.0, 216.0, 202.0, 188.0, 176.0, 164.0, 154.0, 144.0, 134.0, 125.0, 116.0, 108.0, 100.0, 92.0, 84.0, 76.0, 69.0, 63.0, 57.0, 51.0, 46.0, 42.0, 38.0, 35.0, 32.0, 30.0, 28.0, 27.0, 25.0, 24.0, 23.0, 22.0, 21.0, 20.0, 19.0, 18.0, 17.0, 16.0, 15.0, 15.0, 15.0, 14.0, 14.0, 15.0, 15.0, 15.0, 16.0, 16.0, 17.0, 17.0, 18.0, 18.0, 18.0, 18.0, 18.0, 18.0, 18.0, 18.0, 18.0, 18.0, 17.0, 17.0, 17.0, 17.0, 17.0, 17.0, 17.0, 17.0, 17.0, 17.0, 17.0, 17.0, 17.0, 18.0, 18.0, 18.0, 18.0, 18.0, 18.0, 18.0, 18.0, 18.0, 18.0, 17.0, 17.0, 17.0, 17.0, 17.0, 17.0, 17.0, 17.0, 17.0, 17.0, 17.0, 18.0, 18.0, 18.0, 18.0, 18.0, 18.0, 18.0, 18.0, 18.0, 18.0, 18.0, 17.0, 17.0, 17.0, 17.0, 17.0, 17.0, 17.0, 17.0, 17.0, 17.0, 18.0, 18.0, 18.0, 18.0, 18.0, 18.0, 18.0, 18.0, 18.0, 18.0, 18.0, 18.0, 17.0, 17.0, 17.0, 17.0, 17.0, 17.0, 17.0, 17.0, 17.0, 18.0, 18.0, 19.0, 19.0, 20.0, 20.0, 20.0, 20.0, 19.0, 18.0, 16.0, 14.0, 12.0, 10.0, 7.0, 4.0, 0.0, 0.0]}, {\"name\": \"Inf\", \"type\": \"scatter\", \"x\": [\"2020-01-22\", \"2020-01-23\", \"2020-01-24\", \"2020-01-25\", \"2020-01-26\", \"2020-01-27\", \"2020-01-28\", \"2020-01-29\", \"2020-01-30\", \"2020-01-31\", \"2020-02-01\", \"2020-02-02\", \"2020-02-03\", \"2020-02-04\", \"2020-02-05\", \"2020-02-06\", \"2020-02-07\", \"2020-02-08\", \"2020-02-09\", \"2020-02-10\", \"2020-02-11\", \"2020-02-12\", \"2020-02-13\", \"2020-02-14\", \"2020-02-15\", \"2020-02-16\", \"2020-02-17\", \"2020-02-18\", \"2020-02-19\", \"2020-02-20\", \"2020-02-21\", \"2020-02-22\", \"2020-02-23\", \"2020-02-24\", \"2020-02-25\", \"2020-02-26\", \"2020-02-27\", \"2020-02-28\", \"2020-02-29\", \"2020-03-01\", \"2020-03-02\", \"2020-03-03\", \"2020-03-04\", \"2020-03-05\", \"2020-03-06\", \"2020-03-07\", \"2020-03-08\", \"2020-03-09\", \"2020-03-10\", \"2020-03-11\", \"2020-03-12\", \"2020-03-13\", \"2020-03-14\", \"2020-03-15\", \"2020-03-16\", \"2020-03-17\", \"2020-03-18\", \"2020-03-19\", \"2020-03-20\", \"2020-03-21\", \"2020-03-22\", \"2020-03-23\", \"2020-03-24\", \"2020-03-25\", \"2020-03-26\", \"2020-03-27\", \"2020-03-28\", \"2020-03-29\", \"2020-03-30\", \"2020-03-31\", \"2020-04-01\", \"2020-04-02\", \"2020-04-03\", \"2020-04-04\", \"2020-04-05\", \"2020-04-06\", \"2020-04-07\", \"2020-04-08\", \"2020-04-09\", \"2020-04-10\", \"2020-04-11\", \"2020-04-12\", \"2020-04-13\", \"2020-04-14\", \"2020-04-15\", \"2020-04-16\", \"2020-04-17\", \"2020-04-18\", \"2020-04-19\", \"2020-04-20\", \"2020-04-21\", \"2020-04-22\", \"2020-04-23\", \"2020-04-24\", \"2020-04-25\", \"2020-04-26\", \"2020-04-27\", \"2020-04-28\", \"2020-04-29\", \"2020-04-30\", \"2020-05-01\", \"2020-05-02\", \"2020-05-03\", \"2020-05-04\", \"2020-05-05\", \"2020-05-06\", \"2020-05-07\", \"2020-05-08\", \"2020-05-09\", \"2020-05-10\", \"2020-05-11\", \"2020-05-12\", \"2020-05-13\", \"2020-05-14\", \"2020-05-15\", \"2020-05-16\", \"2020-05-17\", \"2020-05-18\", \"2020-05-19\", \"2020-05-20\", \"2020-05-21\", \"2020-05-22\", \"2020-05-23\", \"2020-05-24\", \"2020-05-25\", \"2020-05-26\", \"2020-05-27\", \"2020-05-28\", \"2020-05-29\", \"2020-05-30\", \"2020-05-31\", \"2020-06-01\", \"2020-06-02\", \"2020-06-03\"], \"y\": [0, 0, 0, 0, 0, 0, 0, 0, 0, 0, 0, 0, 0, 0, 0, 0, 0, 0, 0, 0, 0, 0, 0, 0, 0, 0, 0, 0, 0, 0, 0, 0, 0, 0, 1, 1, 8, 8, 18, 27, 42, 54, 87, 110, 210, 264, 332, 369, 485, 644, 644, 1124, 1342, 2182, 2182, 2669, 2985, 4019, 5225, 6485, 7245, 8544, 9624, 10613, 11489, 11167, 12282, 12934, 13740, 14349, 14313, 14278, 14169, 13424, 13970, 12836, 12728, 12585, 12503, 12449, 11971, 11609, 10850, 11062, 9697, 9551, 9351, 8936, 8547, 7915, 7185, 6859, 6347, 6088, 5995, 5651, 5299, 4965, 5091, 4449, 4051, 3855, 3643, 2997, 2814, 2555, 2416, 2284, 2021, 1872, 1699, 1713, 1443, 1491, 1536, 1293, 1206, 1111, 1027, 966, 896, 904, 820, 730, 633, 646, 559, 577, 609, 526, 442, 451, 454, 372]}],\n",
              "                        {\"template\": {\"data\": {\"bar\": [{\"error_x\": {\"color\": \"#2a3f5f\"}, \"error_y\": {\"color\": \"#2a3f5f\"}, \"marker\": {\"line\": {\"color\": \"#E5ECF6\", \"width\": 0.5}}, \"type\": \"bar\"}], \"barpolar\": [{\"marker\": {\"line\": {\"color\": \"#E5ECF6\", \"width\": 0.5}}, \"type\": \"barpolar\"}], \"carpet\": [{\"aaxis\": {\"endlinecolor\": \"#2a3f5f\", \"gridcolor\": \"white\", \"linecolor\": \"white\", \"minorgridcolor\": \"white\", \"startlinecolor\": \"#2a3f5f\"}, \"baxis\": {\"endlinecolor\": \"#2a3f5f\", \"gridcolor\": \"white\", \"linecolor\": \"white\", \"minorgridcolor\": \"white\", \"startlinecolor\": \"#2a3f5f\"}, \"type\": \"carpet\"}], \"choropleth\": [{\"colorbar\": {\"outlinewidth\": 0, \"ticks\": \"\"}, \"type\": \"choropleth\"}], \"contour\": [{\"colorbar\": {\"outlinewidth\": 0, \"ticks\": \"\"}, \"colorscale\": [[0.0, \"#0d0887\"], [0.1111111111111111, \"#46039f\"], [0.2222222222222222, \"#7201a8\"], [0.3333333333333333, \"#9c179e\"], [0.4444444444444444, \"#bd3786\"], [0.5555555555555556, \"#d8576b\"], [0.6666666666666666, \"#ed7953\"], [0.7777777777777778, \"#fb9f3a\"], [0.8888888888888888, \"#fdca26\"], [1.0, \"#f0f921\"]], \"type\": \"contour\"}], \"contourcarpet\": [{\"colorbar\": {\"outlinewidth\": 0, \"ticks\": \"\"}, \"type\": \"contourcarpet\"}], \"heatmap\": [{\"colorbar\": {\"outlinewidth\": 0, \"ticks\": \"\"}, \"colorscale\": [[0.0, \"#0d0887\"], [0.1111111111111111, \"#46039f\"], [0.2222222222222222, \"#7201a8\"], [0.3333333333333333, \"#9c179e\"], [0.4444444444444444, \"#bd3786\"], [0.5555555555555556, \"#d8576b\"], [0.6666666666666666, \"#ed7953\"], [0.7777777777777778, \"#fb9f3a\"], [0.8888888888888888, \"#fdca26\"], [1.0, \"#f0f921\"]], \"type\": \"heatmap\"}], \"heatmapgl\": [{\"colorbar\": {\"outlinewidth\": 0, \"ticks\": \"\"}, \"colorscale\": [[0.0, \"#0d0887\"], [0.1111111111111111, \"#46039f\"], [0.2222222222222222, \"#7201a8\"], [0.3333333333333333, \"#9c179e\"], [0.4444444444444444, \"#bd3786\"], [0.5555555555555556, \"#d8576b\"], [0.6666666666666666, \"#ed7953\"], [0.7777777777777778, \"#fb9f3a\"], [0.8888888888888888, \"#fdca26\"], [1.0, \"#f0f921\"]], \"type\": \"heatmapgl\"}], \"histogram\": [{\"marker\": {\"colorbar\": {\"outlinewidth\": 0, \"ticks\": \"\"}}, \"type\": \"histogram\"}], \"histogram2d\": [{\"colorbar\": {\"outlinewidth\": 0, \"ticks\": \"\"}, \"colorscale\": [[0.0, \"#0d0887\"], [0.1111111111111111, \"#46039f\"], [0.2222222222222222, \"#7201a8\"], [0.3333333333333333, \"#9c179e\"], [0.4444444444444444, \"#bd3786\"], [0.5555555555555556, \"#d8576b\"], [0.6666666666666666, \"#ed7953\"], [0.7777777777777778, \"#fb9f3a\"], [0.8888888888888888, \"#fdca26\"], [1.0, \"#f0f921\"]], \"type\": \"histogram2d\"}], \"histogram2dcontour\": [{\"colorbar\": {\"outlinewidth\": 0, \"ticks\": \"\"}, \"colorscale\": [[0.0, \"#0d0887\"], [0.1111111111111111, \"#46039f\"], [0.2222222222222222, \"#7201a8\"], [0.3333333333333333, \"#9c179e\"], [0.4444444444444444, \"#bd3786\"], [0.5555555555555556, \"#d8576b\"], [0.6666666666666666, \"#ed7953\"], [0.7777777777777778, \"#fb9f3a\"], [0.8888888888888888, \"#fdca26\"], [1.0, \"#f0f921\"]], \"type\": \"histogram2dcontour\"}], \"mesh3d\": [{\"colorbar\": {\"outlinewidth\": 0, \"ticks\": \"\"}, \"type\": \"mesh3d\"}], \"parcoords\": [{\"line\": {\"colorbar\": {\"outlinewidth\": 0, \"ticks\": \"\"}}, \"type\": \"parcoords\"}], \"pie\": [{\"automargin\": true, \"type\": \"pie\"}], \"scatter\": [{\"marker\": {\"colorbar\": {\"outlinewidth\": 0, \"ticks\": \"\"}}, \"type\": \"scatter\"}], \"scatter3d\": [{\"line\": {\"colorbar\": {\"outlinewidth\": 0, \"ticks\": \"\"}}, \"marker\": {\"colorbar\": {\"outlinewidth\": 0, \"ticks\": \"\"}}, \"type\": \"scatter3d\"}], \"scattercarpet\": [{\"marker\": {\"colorbar\": {\"outlinewidth\": 0, \"ticks\": \"\"}}, \"type\": \"scattercarpet\"}], \"scattergeo\": [{\"marker\": {\"colorbar\": {\"outlinewidth\": 0, \"ticks\": \"\"}}, \"type\": \"scattergeo\"}], \"scattergl\": [{\"marker\": {\"colorbar\": {\"outlinewidth\": 0, \"ticks\": \"\"}}, \"type\": \"scattergl\"}], \"scattermapbox\": [{\"marker\": {\"colorbar\": {\"outlinewidth\": 0, \"ticks\": \"\"}}, \"type\": \"scattermapbox\"}], \"scatterpolar\": [{\"marker\": {\"colorbar\": {\"outlinewidth\": 0, \"ticks\": \"\"}}, \"type\": \"scatterpolar\"}], \"scatterpolargl\": [{\"marker\": {\"colorbar\": {\"outlinewidth\": 0, \"ticks\": \"\"}}, \"type\": \"scatterpolargl\"}], \"scatterternary\": [{\"marker\": {\"colorbar\": {\"outlinewidth\": 0, \"ticks\": \"\"}}, \"type\": \"scatterternary\"}], \"surface\": [{\"colorbar\": {\"outlinewidth\": 0, \"ticks\": \"\"}, \"colorscale\": [[0.0, \"#0d0887\"], [0.1111111111111111, \"#46039f\"], [0.2222222222222222, \"#7201a8\"], [0.3333333333333333, \"#9c179e\"], [0.4444444444444444, \"#bd3786\"], [0.5555555555555556, \"#d8576b\"], [0.6666666666666666, \"#ed7953\"], [0.7777777777777778, \"#fb9f3a\"], [0.8888888888888888, \"#fdca26\"], [1.0, \"#f0f921\"]], \"type\": \"surface\"}], \"table\": [{\"cells\": {\"fill\": {\"color\": \"#EBF0F8\"}, \"line\": {\"color\": \"white\"}}, \"header\": {\"fill\": {\"color\": \"#C8D4E3\"}, \"line\": {\"color\": \"white\"}}, \"type\": \"table\"}]}, \"layout\": {\"annotationdefaults\": {\"arrowcolor\": \"#2a3f5f\", \"arrowhead\": 0, \"arrowwidth\": 1}, \"coloraxis\": {\"colorbar\": {\"outlinewidth\": 0, \"ticks\": \"\"}}, \"colorscale\": {\"diverging\": [[0, \"#8e0152\"], [0.1, \"#c51b7d\"], [0.2, \"#de77ae\"], [0.3, \"#f1b6da\"], [0.4, \"#fde0ef\"], [0.5, \"#f7f7f7\"], [0.6, \"#e6f5d0\"], [0.7, \"#b8e186\"], [0.8, \"#7fbc41\"], [0.9, \"#4d9221\"], [1, \"#276419\"]], \"sequential\": [[0.0, \"#0d0887\"], [0.1111111111111111, \"#46039f\"], [0.2222222222222222, \"#7201a8\"], [0.3333333333333333, \"#9c179e\"], [0.4444444444444444, \"#bd3786\"], [0.5555555555555556, \"#d8576b\"], [0.6666666666666666, \"#ed7953\"], [0.7777777777777778, \"#fb9f3a\"], [0.8888888888888888, \"#fdca26\"], [1.0, \"#f0f921\"]], \"sequentialminus\": [[0.0, \"#0d0887\"], [0.1111111111111111, \"#46039f\"], [0.2222222222222222, \"#7201a8\"], [0.3333333333333333, \"#9c179e\"], [0.4444444444444444, \"#bd3786\"], [0.5555555555555556, \"#d8576b\"], [0.6666666666666666, \"#ed7953\"], [0.7777777777777778, \"#fb9f3a\"], [0.8888888888888888, \"#fdca26\"], [1.0, \"#f0f921\"]]}, \"colorway\": [\"#636efa\", \"#EF553B\", \"#00cc96\", \"#ab63fa\", \"#FFA15A\", \"#19d3f3\", \"#FF6692\", \"#B6E880\", \"#FF97FF\", \"#FECB52\"], \"font\": {\"color\": \"#2a3f5f\"}, \"geo\": {\"bgcolor\": \"white\", \"lakecolor\": \"white\", \"landcolor\": \"#E5ECF6\", \"showlakes\": true, \"showland\": true, \"subunitcolor\": \"white\"}, \"hoverlabel\": {\"align\": \"left\"}, \"hovermode\": \"closest\", \"mapbox\": {\"style\": \"light\"}, \"paper_bgcolor\": \"white\", \"plot_bgcolor\": \"#E5ECF6\", \"polar\": {\"angularaxis\": {\"gridcolor\": \"white\", \"linecolor\": \"white\", \"ticks\": \"\"}, \"bgcolor\": \"#E5ECF6\", \"radialaxis\": {\"gridcolor\": \"white\", \"linecolor\": \"white\", \"ticks\": \"\"}}, \"scene\": {\"xaxis\": {\"backgroundcolor\": \"#E5ECF6\", \"gridcolor\": \"white\", \"gridwidth\": 2, \"linecolor\": \"white\", \"showbackground\": true, \"ticks\": \"\", \"zerolinecolor\": \"white\"}, \"yaxis\": {\"backgroundcolor\": \"#E5ECF6\", \"gridcolor\": \"white\", \"gridwidth\": 2, \"linecolor\": \"white\", \"showbackground\": true, \"ticks\": \"\", \"zerolinecolor\": \"white\"}, \"zaxis\": {\"backgroundcolor\": \"#E5ECF6\", \"gridcolor\": \"white\", \"gridwidth\": 2, \"linecolor\": \"white\", \"showbackground\": true, \"ticks\": \"\", \"zerolinecolor\": \"white\"}}, \"shapedefaults\": {\"line\": {\"color\": \"#2a3f5f\"}}, \"ternary\": {\"aaxis\": {\"gridcolor\": \"white\", \"linecolor\": \"white\", \"ticks\": \"\"}, \"baxis\": {\"gridcolor\": \"white\", \"linecolor\": \"white\", \"ticks\": \"\"}, \"bgcolor\": \"#E5ECF6\", \"caxis\": {\"gridcolor\": \"white\", \"linecolor\": \"white\", \"ticks\": \"\"}}, \"title\": {\"x\": 0.05}, \"xaxis\": {\"automargin\": true, \"gridcolor\": \"white\", \"linecolor\": \"white\", \"ticks\": \"\", \"title\": {\"standoff\": 15}, \"zerolinecolor\": \"white\", \"zerolinewidth\": 2}, \"yaxis\": {\"automargin\": true, \"gridcolor\": \"white\", \"linecolor\": \"white\", \"ticks\": \"\", \"title\": {\"standoff\": 15}, \"zerolinecolor\": \"white\", \"zerolinewidth\": 2}}}, \"title\": {\"text\": \"$\\\\text{Switzerland: R }$\", \"x\": 0.5, \"xanchor\": \"center\"}, \"xaxis\": {\"title\": {\"text\": \"Day\"}}, \"yaxis\": {\"title\": {\"text\": \"R\"}}},\n",
              "                        {\"responsive\": true}\n",
              "                    ).then(function(){\n",
              "                            \n",
              "var gd = document.getElementById('6497646c-51fe-4cca-9756-b7907760b862');\n",
              "var x = new MutationObserver(function (mutations, observer) {{\n",
              "        var display = window.getComputedStyle(gd).display;\n",
              "        if (!display || display === 'none') {{\n",
              "            console.log([gd, 'removed!']);\n",
              "            Plotly.purge(gd);\n",
              "            observer.disconnect();\n",
              "        }}\n",
              "}});\n",
              "\n",
              "// Listen for the removal of the full notebook cells\n",
              "var notebookContainer = gd.closest('#notebook-container');\n",
              "if (notebookContainer) {{\n",
              "    x.observe(notebookContainer, {childList: true});\n",
              "}}\n",
              "\n",
              "// Listen for the clearing of the current output cell\n",
              "var outputEl = gd.closest('.output');\n",
              "if (outputEl) {{\n",
              "    x.observe(outputEl, {childList: true});\n",
              "}}\n",
              "\n",
              "                        })\n",
              "                };\n",
              "                \n",
              "            </script>\n",
              "        </div>\n",
              "</body>\n",
              "</html>"
            ]
          },
          "metadata": {
            "tags": []
          }
        }
      ]
    },
    {
      "cell_type": "markdown",
      "metadata": {
        "colab_type": "text",
        "id": "iYlHkugVmFl7"
      },
      "source": [
        "We can see $R$ declined rapidly after March 12th to $R<1$ on May 30th, but has since grown back to close to 1."
      ]
    }
  ]
}