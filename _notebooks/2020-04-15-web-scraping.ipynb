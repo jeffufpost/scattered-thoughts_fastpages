{
  "nbformat": 4,
  "nbformat_minor": 0,
  "metadata": {
    "colab": {
      "name": "2020-04-15-web-scraping.ipynb",
      "provenance": []
    },
    "kernelspec": {
      "name": "python3",
      "display_name": "Python 3"
    }
  },
  "cells": [
    {
      "cell_type": "markdown",
      "metadata": {
        "id": "XH-V7Je89jPr",
        "colab_type": "text"
      },
      "source": [
        "# \"Scraping COVID-19 data from data.gouv.fr\"\n",
        "> \"A quick and very simple rundown on how to scrape hospitalization and testing data from the French open data site\"\n",
        "\n",
        "- toc: true \n",
        "- badges: true\n",
        "- comments: true\n",
        "- categories: [scraping, COVID-19]\n",
        "- image: images/scraping.png"
      ]
    },
    {
      "cell_type": "markdown",
      "metadata": {
        "id": "YOk1fVFd-3Qn",
        "colab_type": "text"
      },
      "source": [
        "![](my_icons/scraping.png)"
      ]
    },
    {
      "cell_type": "markdown",
      "metadata": {
        "id": "SGfJonU_-_IK",
        "colab_type": "text"
      },
      "source": [
        "## Introduction"
      ]
    },
    {
      "cell_type": "markdown",
      "metadata": {
        "id": "EdH5PpTn_B8h",
        "colab_type": "text"
      },
      "source": [
        "As the summary explains, this blog post will very quickly explain how to automatically download French government data on hospitalization and testing pertaining to COVID⁻19."
      ]
    },
    {
      "cell_type": "markdown",
      "metadata": {
        "id": "iokZEFm0_Zda",
        "colab_type": "text"
      },
      "source": [
        "## Data sources"
      ]
    },
    {
      "cell_type": "markdown",
      "metadata": {
        "id": "lpf37U8-_8q8",
        "colab_type": "text"
      },
      "source": [
        "* Hospitalization data"
      ]
    },
    {
      "cell_type": "markdown",
      "metadata": {
        "id": "gQnpbmI7_biS",
        "colab_type": "text"
      },
      "source": [
        "The various datasets concerning hospitalization data are found [here](https://www.data.gouv.fr/fr/datasets/donnees-hospitalieres-relatives-a-lepidemie-de-covid-19/).\n",
        "\n",
        "If you follow the link you will find 4 csv datasets concerning hospitalization data along with 5 other csv files with metadata and documentation."
      ]
    },
    {
      "cell_type": "markdown",
      "metadata": {
        "id": "1uxjhkoY_-9S",
        "colab_type": "text"
      },
      "source": [
        "* Testing data"
      ]
    },
    {
      "cell_type": "markdown",
      "metadata": {
        "id": "jkg82u4PAD8B",
        "colab_type": "text"
      },
      "source": [
        "The various datasets concerning testing data are found [here](https://www.data.gouv.fr/fr/datasets/donnees-relatives-aux-tests-de-depistage-de-covid-19-realises-en-laboratoire-de-ville/).\n",
        "\n",
        "If you follow the link you will find 2 csv datasets concerning testing data along with 2 other csv files with metadata and documentation."
      ]
    },
    {
      "cell_type": "markdown",
      "metadata": {
        "id": "H6dVZZ3r_bda",
        "colab_type": "text"
      },
      "source": [
        "In both cases we want to download the first of the links since they contain the pertinent daily updated data (do have a look manually at the metadata and documentation files to make sure this is what you want)."
      ]
    },
    {
      "cell_type": "markdown",
      "metadata": {
        "id": "_A3AJDZZ_bap",
        "colab_type": "text"
      },
      "source": [
        "## Code"
      ]
    },
    {
      "cell_type": "code",
      "metadata": {
        "id": "R7tzYbS39gMc",
        "colab_type": "code",
        "colab": {}
      },
      "source": [
        "#collapse_show\n",
        "# Import libraries used below\n",
        "import requests\n",
        "import urllib.request\n",
        "import urllib.parse\n",
        "import time\n",
        "import io\n",
        "from bs4 import BeautifulSoup\n",
        "import pandas as pd\n",
        "import datetime\n",
        "import os"
      ],
      "execution_count": 0,
      "outputs": []
    },
    {
      "cell_type": "markdown",
      "metadata": {
        "id": "N46RiukZ_bIQ",
        "colab_type": "text"
      },
      "source": [
        "### Getting the main page"
      ]
    },
    {
      "cell_type": "markdown",
      "metadata": {
        "id": "YWiJ9f-7Bfy9",
        "colab_type": "text"
      },
      "source": [
        "Let's first have a look ath the main landing page that I provided above."
      ]
    },
    {
      "cell_type": "code",
      "metadata": {
        "id": "rE8hMatCBJWI",
        "colab_type": "code",
        "colab": {}
      },
      "source": [
        "# Store URL for each page\n",
        "url_cases = 'https://www.data.gouv.fr/fr/datasets/donnees-hospitalieres-relatives-a-lepidemie-de-covid-19/'\n",
        "url_tests = 'https://www.data.gouv.fr/fr/datasets/donnees-relatives-aux-tests-de-depistage-de-covid-19-realises-en-laboratoire-de-ville/'"
      ],
      "execution_count": 0,
      "outputs": []
    },
    {
      "cell_type": "code",
      "metadata": {
        "id": "LTFJtJfjBpxk",
        "colab_type": "code",
        "colab": {}
      },
      "source": [
        "# Get response for each URL\n",
        "response_cases = requests.get(url_cases)\n",
        "response_tests = requests.get(url_tests)"
      ],
      "execution_count": 0,
      "outputs": []
    },
    {
      "cell_type": "markdown",
      "metadata": {
        "id": "6RSr1b0KCIBq",
        "colab_type": "text"
      },
      "source": [
        "The response here should be 200 (see life of codes [here](https://en.wikipedia.org/wiki/List_of_HTTP_status_codes#2xx_Success))."
      ]
    },
    {
      "cell_type": "code",
      "metadata": {
        "id": "D-hzMNqwB9fK",
        "colab_type": "code",
        "outputId": "61789a5f-77a4-47d4-8db0-1622b4df017b",
        "colab": {
          "base_uri": "https://localhost:8080/",
          "height": 33
        }
      },
      "source": [
        "print(response_cases, response_tests)"
      ],
      "execution_count": 0,
      "outputs": [
        {
          "output_type": "stream",
          "text": [
            "<Response [200]> <Response [200]>\n"
          ],
          "name": "stdout"
        }
      ]
    },
    {
      "cell_type": "code",
      "metadata": {
        "id": "sAp7gTz7BrHR",
        "colab_type": "code",
        "colab": {}
      },
      "source": [
        "# Save the actual content of the page returned with BeautifulSoup\n",
        "soupcases = BeautifulSoup(response_cases.text, \"html.parser\")\n",
        "souptests = BeautifulSoup(response_tests.text, \"html.parser\")"
      ],
      "execution_count": 0,
      "outputs": []
    },
    {
      "cell_type": "code",
      "metadata": {
        "id": "0mCfogFbBrKH",
        "colab_type": "code",
        "outputId": "dfa8acd0-51fc-47a3-80f1-0480537ec73a",
        "colab": {
          "base_uri": "https://localhost:8080/",
          "height": 196
        }
      },
      "source": [
        "# Let's look at the links in the main page (for testing data - if you want cases, replace souptests with soupcases below)\n",
        "for i in range(len(souptests.find_all('a', class_=\"btn btn-sm btn-primary\"))):\n",
        "    print(souptests.find_all('a', class_=\"btn btn-sm btn-primary\")[i].get('href'))"
      ],
      "execution_count": 0,
      "outputs": [
        {
          "output_type": "stream",
          "text": [
            "None\n",
            "https://www.data.gouv.fr/fr/datasets/r/b4ea7b4b-b7d1-4885-a099-71852291ff20\n",
            "None\n",
            "https://www.data.gouv.fr/fr/datasets/r/72050bc8-9959-4bb1-88a0-684ff8db5fb5\n",
            "None\n",
            "https://www.data.gouv.fr/fr/datasets/r/971c5cbd-cd80-4492-b2b3-c3deff8c1f5e\n",
            "None\n",
            "https://www.data.gouv.fr/fr/datasets/r/db378f2a-83a1-40fd-a16c-06c4c8c3535d\n",
            "https://www.data.gouv.fr/fr/datasets/r/49ba79e6-0153-40b1-b050-821e102959eb\n",
            "None\n",
            "https://www.data.gouv.fr/fr/datasets/r/59e82d52-e07a-4ae8-9a49-2d1fd2d2ec21\n"
          ],
          "name": "stdout"
        }
      ]
    },
    {
      "cell_type": "markdown",
      "metadata": {
        "id": "zQxd6A7YDGTV",
        "colab_type": "text"
      },
      "source": [
        "We see that the petrtinent file in each cases (testing or hospitalization data) are the first links in their page. So we save only this one as donw below:"
      ]
    },
    {
      "cell_type": "code",
      "metadata": {
        "id": "VbY-bxdbBrMt",
        "colab_type": "code",
        "colab": {}
      },
      "source": [
        "# If we want to save that first URL we can do as follows\n",
        "casescsvurl = soupcases.find_all('a', class_=\"btn btn-sm btn-primary\")[1].get('href')\n",
        "testscsvurl = souptests.find_all('a', class_=\"btn btn-sm btn-primary\")[1].get('href')"
      ],
      "execution_count": 0,
      "outputs": []
    },
    {
      "cell_type": "markdown",
      "metadata": {
        "id": "C30TllQgDfrb",
        "colab_type": "text"
      },
      "source": [
        "### Getting the CSV data"
      ]
    },
    {
      "cell_type": "markdown",
      "metadata": {
        "id": "PrFTDPliDkYd",
        "colab_type": "text"
      },
      "source": [
        "We now have the URL for the CSV files we want so we'll do similar steps as above to download these files."
      ]
    },
    {
      "cell_type": "code",
      "metadata": {
        "id": "F5gmQCe5BrRD",
        "colab_type": "code",
        "colab": {}
      },
      "source": [
        "# Similaraly as above, requests.get the CSV URL:\n",
        "rectests = requests.get(testscsvurl)\n",
        "reccases = requests.get(casescsvurl)"
      ],
      "execution_count": 0,
      "outputs": []
    },
    {
      "cell_type": "markdown",
      "metadata": {
        "id": "giCuslAiFUv9",
        "colab_type": "text"
      },
      "source": [
        "## What to do with the CSV data"
      ]
    },
    {
      "cell_type": "markdown",
      "metadata": {
        "id": "YdugG922FYMH",
        "colab_type": "text"
      },
      "source": [
        "Now that you have the data, what to do with it?\n",
        "\n",
        "It depends on your purpose I guess:\n",
        "* First write the data to a CSV file which you then read\n",
        "* Directly read the data"
      ]
    },
    {
      "cell_type": "markdown",
      "metadata": {
        "id": "M4df3BpLFYJl",
        "colab_type": "text"
      },
      "source": [
        "### By first writing the CSV file to drive"
      ]
    },
    {
      "cell_type": "code",
      "metadata": {
        "id": "qZ0wfhqeF45p",
        "colab_type": "code",
        "colab": {}
      },
      "source": [
        "# This will write the data into cases.csv file\n",
        "# Of course you need to replace the actual path to the folder you want in the code below:\n",
        "with open(os.path.join(\"/path/to/folder\", \"cases.csv\"), 'wb') as f:\n",
        "    f.write(reccases.content)"
      ],
      "execution_count": 0,
      "outputs": []
    },
    {
      "cell_type": "code",
      "metadata": {
        "id": "5YOr4KKOF5qp",
        "colab_type": "code",
        "colab": {}
      },
      "source": [
        "# Same thing for testing data\n",
        "# This will write the data into tests.csv file\n",
        "# Of course you need to replace the actual path to the folder you want in the code below:\n",
        "with open(os.path.join(\"/path/to/folder\", \"tests.csv\"), 'wb') as f:\n",
        "    f.write(rectests.content)"
      ],
      "execution_count": 0,
      "outputs": []
    },
    {
      "cell_type": "code",
      "metadata": {
        "id": "lG2i8tXeGGW1",
        "colab_type": "code",
        "colab": {}
      },
      "source": [
        "# You can then read that csv file to use in your data analysis:\n",
        "tests = pd.read_csv('tests.csv', sep=';', dtype={'dep': str, 'jour': str, 'clage_covid': str, 'nb_test': int, 'nb_pos': int, 'nb_test_h': int, 'nb_pos_h': int, 'nb_test_f': int, 'nb_pos_f': int}, parse_dates = ['jour'])\n",
        "cases = pd.read_csv('cases.csv', sep=';', dtype={'dep': str, 'jour': str, 'hosp': int, 'rea': int, 'rad': int, 'dc': int}, parse_dates = ['jour'])"
      ],
      "execution_count": 0,
      "outputs": []
    },
    {
      "cell_type": "markdown",
      "metadata": {
        "id": "NT7K4JFHFYEh",
        "colab_type": "text"
      },
      "source": [
        "Note in the code above I had previously looked through the raw csv data to underdstand how to parse it."
      ]
    },
    {
      "cell_type": "markdown",
      "metadata": {
        "id": "9t0PsLkhFYB7",
        "colab_type": "text"
      },
      "source": [
        "### Directly reading the data (bypassing the writing CSV file step)"
      ]
    },
    {
      "cell_type": "code",
      "metadata": {
        "id": "b0aatx06HA-X",
        "colab_type": "code",
        "colab": {}
      },
      "source": [
        "cases = pd.read_csv(io.StringIO(requests.get(casescsvurl).content.decode('utf-8')), sep=';', dtype={'dep': str, 'jour': str, 'hosp': int, 'rea': int, 'rad': int, 'dc': int}, parse_dates = ['jour'])\n",
        "tests = pd.read_csv(io.StringIO(requests.get(testscsvurl).content.decode('utf-8')), sep=';', dtype={'dep': str, 'jour': str, 'hosp': int, 'rea': int, 'rad': int, 'dc': int}, parse_dates = ['jour'])"
      ],
      "execution_count": 0,
      "outputs": []
    },
    {
      "cell_type": "markdown",
      "metadata": {
        "id": "2_PelY9SIBWn",
        "colab_type": "text"
      },
      "source": [
        "## Other stuff"
      ]
    },
    {
      "cell_type": "markdown",
      "metadata": {
        "id": "l107bjb9IIp_",
        "colab_type": "text"
      },
      "source": [
        "### Parsing/Converting URI into readable format\n",
        "\n",
        "It sometimes happends that links are provided in URI (URL symbols encoded into % symbols...)\n",
        "\n",
        "You generally need to convert those back to correct URLs, example below:"
      ]
    },
    {
      "cell_type": "code",
      "metadata": {
        "id": "nuqROC5gID7F",
        "colab_type": "code",
        "colab": {}
      },
      "source": [
        "# Example URI\n",
        "testurl = 'https%3A%2F%2Fstatic.data.gouv.fr%2Fresources%2Fdonnees-hospitalieres-relatives-a-lepidemie-de-covid-19%2F20200505-190040%2Fdonnees-hospitalieres-covid19-2020-05-05-19h00.csv'"
      ],
      "execution_count": 0,
      "outputs": []
    },
    {
      "cell_type": "code",
      "metadata": {
        "id": "qMrTU88JId8k",
        "colab_type": "code",
        "outputId": "19216be8-e40b-4123-9a42-19172e0973ea",
        "colab": {
          "base_uri": "https://localhost:8080/",
          "height": 53
        }
      },
      "source": [
        "# Convert with following line:\n",
        "urllib.parse.unquote(testurl)"
      ],
      "execution_count": 0,
      "outputs": [
        {
          "output_type": "execute_result",
          "data": {
            "text/plain": [
              "'https://static.data.gouv.fr/resources/donnees-hospitalieres-relatives-a-lepidemie-de-covid-19/20200505-190040/donnees-hospitalieres-covid19-2020-05-05-19h00.csv'"
            ]
          },
          "metadata": {
            "tags": []
          },
          "execution_count": 33
        }
      ]
    },
    {
      "cell_type": "markdown",
      "metadata": {
        "id": "GR2Iq1fFIn3z",
        "colab_type": "text"
      },
      "source": [
        "### A quick look at French testing data from scratch\n",
        "\n",
        "Let's quickly see how, from scratch, we can use code above to scrape testing data and plot it quickly.\n",
        "\n",
        "Note the data only includes city testing centers and does not include hospital testing."
      ]
    },
    {
      "cell_type": "code",
      "metadata": {
        "id": "Hrj4Y9klIxn0",
        "colab_type": "code",
        "colab": {}
      },
      "source": [
        "# Use main page URL\n",
        "url_tests = 'https://www.data.gouv.fr/fr/datasets/donnees-relatives-aux-tests-de-depistage-de-covid-19-realises-en-laboratoire-de-ville/'\n",
        "response_tests = requests.get(url_tests)"
      ],
      "execution_count": 0,
      "outputs": []
    },
    {
      "cell_type": "code",
      "metadata": {
        "id": "tH9IVNLlJXM6",
        "colab_type": "code",
        "colab": {}
      },
      "source": [
        "# Find correct CSV file URL\n",
        "souptests = BeautifulSoup(response_tests.text, \"html.parser\")\n",
        "testscsvurl = souptests.find_all('a', class_=\"btn btn-sm btn-primary\")[1].get('href')"
      ],
      "execution_count": 0,
      "outputs": []
    },
    {
      "cell_type": "code",
      "metadata": {
        "id": "7omfS5NVJYYq",
        "colab_type": "code",
        "colab": {}
      },
      "source": [
        "# Read CSV file into tests variable\n",
        "rectests = requests.get(testscsvurl)\n",
        "tests = pd.read_csv(io.StringIO(requests.get(testscsvurl).content.decode('utf-8')), sep=';', dtype={'dep': str, 'jour': str, 'hosp': int, 'rea': int, 'rad': int, 'dc': int}, parse_dates = ['jour'])"
      ],
      "execution_count": 0,
      "outputs": []
    },
    {
      "cell_type": "code",
      "metadata": {
        "id": "U_dtLTRuJZBR",
        "colab_type": "code",
        "outputId": "004a48ab-d82d-4a45-d08d-c7c6235cdd82",
        "colab": {
          "base_uri": "https://localhost:8080/",
          "height": 200
        }
      },
      "source": [
        "#hide\n",
        "!pip install plotly==4.6.0"
      ],
      "execution_count": 0,
      "outputs": [
        {
          "output_type": "stream",
          "text": [
            "Collecting plotly==4.6.0\n",
            "\u001b[?25l  Downloading https://files.pythonhosted.org/packages/15/90/918bccb0ca60dc6d126d921e2c67126d75949f5da777e6b18c51fb12603d/plotly-4.6.0-py2.py3-none-any.whl (7.1MB)\n",
            "\u001b[K     |████████████████████████████████| 7.2MB 2.4MB/s \n",
            "\u001b[?25hRequirement already satisfied: retrying>=1.3.3 in /usr/local/lib/python3.6/dist-packages (from plotly==4.6.0) (1.3.3)\n",
            "Requirement already satisfied: six in /usr/local/lib/python3.6/dist-packages (from plotly==4.6.0) (1.12.0)\n",
            "Installing collected packages: plotly\n",
            "  Found existing installation: plotly 4.4.1\n",
            "    Uninstalling plotly-4.4.1:\n",
            "      Successfully uninstalled plotly-4.4.1\n",
            "Successfully installed plotly-4.6.0\n"
          ],
          "name": "stdout"
        }
      ]
    },
    {
      "cell_type": "code",
      "metadata": {
        "id": "owNlhsRcJwmd",
        "colab_type": "code",
        "outputId": "b7423333-901f-4dd1-85f4-ad88636eda21",
        "colab": {
          "base_uri": "https://localhost:8080/",
          "height": 17
        }
      },
      "source": [
        "#collapse_hide\n",
        "import plotly.express as px\n",
        "import plotly.graph_objects as go\n",
        "\n",
        "# We want overall testing for France, se we groupby Day and sum: (filtering for clage_covid = 0 means not differentiated between age groups)\n",
        "df = tests[tests.clage_covid=='0'].groupby(['jour']).sum()\n",
        "\n",
        "fig = go.Figure(data=[\n",
        "    go.Bar(name='Positive tests', x=df.index, y=df.nb_pos, marker_color='red'),\n",
        "    go.Bar(name='Total tests', x=df.index, y=df.nb_test, marker_color='blue')\n",
        "])\n",
        "\n",
        "fig.update_layout(\n",
        "    title= 'Daily positive and total testing data in France',\n",
        "    xaxis_title = 'Date',\n",
        "    yaxis_title = 'Number of tests (total and positive)',\n",
        "    barmode='group'\n",
        ")\n",
        "\n",
        "fig.show()"
      ],
      "execution_count": 0,
      "outputs": [
        {
          "output_type": "display_data",
          "data": {
            "text/html": [
              "<html>\n",
              "<head><meta charset=\"utf-8\" /></head>\n",
              "<body>\n",
              "    <div>\n",
              "            <script src=\"https://cdnjs.cloudflare.com/ajax/libs/mathjax/2.7.5/MathJax.js?config=TeX-AMS-MML_SVG\"></script><script type=\"text/javascript\">if (window.MathJax) {MathJax.Hub.Config({SVG: {font: \"STIX-Web\"}});}</script>\n",
              "                <script type=\"text/javascript\">window.PlotlyConfig = {MathJaxConfig: 'local'};</script>\n",
              "        <script src=\"https://cdn.plot.ly/plotly-latest.min.js\"></script>    \n",
              "            <div id=\"d8d1f0c1-ecf4-472e-aec0-c542c9cd2f79\" class=\"plotly-graph-div\" style=\"height:525px; width:100%;\"></div>\n",
              "            <script type=\"text/javascript\">\n",
              "                \n",
              "                    window.PLOTLYENV=window.PLOTLYENV || {};\n",
              "                    \n",
              "                if (document.getElementById(\"d8d1f0c1-ecf4-472e-aec0-c542c9cd2f79\")) {\n",
              "                    Plotly.newPlot(\n",
              "                        'd8d1f0c1-ecf4-472e-aec0-c542c9cd2f79',\n",
              "                        [{\"marker\": {\"color\": \"red\"}, \"name\": \"Positive tests\", \"type\": \"bar\", \"x\": [\"2020-03-10T00:00:00\", \"2020-03-11T00:00:00\", \"2020-03-12T00:00:00\", \"2020-03-13T00:00:00\", \"2020-03-14T00:00:00\", \"2020-03-15T00:00:00\", \"2020-03-16T00:00:00\", \"2020-03-17T00:00:00\", \"2020-03-18T00:00:00\", \"2020-03-19T00:00:00\", \"2020-03-20T00:00:00\", \"2020-03-21T00:00:00\", \"2020-03-22T00:00:00\", \"2020-03-23T00:00:00\", \"2020-03-24T00:00:00\", \"2020-03-25T00:00:00\", \"2020-03-26T00:00:00\", \"2020-03-27T00:00:00\", \"2020-03-28T00:00:00\", \"2020-03-29T00:00:00\", \"2020-03-30T00:00:00\", \"2020-03-31T00:00:00\", \"2020-04-01T00:00:00\", \"2020-04-02T00:00:00\", \"2020-04-03T00:00:00\", \"2020-04-04T00:00:00\", \"2020-04-05T00:00:00\", \"2020-04-06T00:00:00\", \"2020-04-07T00:00:00\", \"2020-04-08T00:00:00\", \"2020-04-09T00:00:00\", \"2020-04-10T00:00:00\", \"2020-04-11T00:00:00\", \"2020-04-12T00:00:00\", \"2020-04-13T00:00:00\", \"2020-04-14T00:00:00\", \"2020-04-15T00:00:00\", \"2020-04-16T00:00:00\", \"2020-04-17T00:00:00\", \"2020-04-18T00:00:00\", \"2020-04-19T00:00:00\", \"2020-04-20T00:00:00\", \"2020-04-21T00:00:00\", \"2020-04-22T00:00:00\", \"2020-04-23T00:00:00\", \"2020-04-24T00:00:00\", \"2020-04-25T00:00:00\", \"2020-04-26T00:00:00\", \"2020-04-27T00:00:00\", \"2020-04-28T00:00:00\", \"2020-04-29T00:00:00\", \"2020-04-30T00:00:00\", \"2020-05-01T00:00:00\", \"2020-05-02T00:00:00\", \"2020-05-03T00:00:00\", \"2020-05-04T00:00:00\", \"2020-05-05T00:00:00\", \"2020-05-06T00:00:00\", \"2020-05-07T00:00:00\", \"2020-05-08T00:00:00\", \"2020-05-09T00:00:00\", \"2020-05-10T00:00:00\", \"2020-05-11T00:00:00\", \"2020-05-12T00:00:00\", \"2020-05-13T00:00:00\", \"2020-05-14T00:00:00\", \"2020-05-15T00:00:00\", \"2020-05-16T00:00:00\", \"2020-05-17T00:00:00\", \"2020-05-18T00:00:00\", \"2020-05-19T00:00:00\"], \"y\": [8, 16, 33, 61, 54, 49, 198, 223, 394, 528, 705, 264, 250, 1285, 1385, 1363, 1570, 1587, 523, 228, 1913, 1789, 1467, 1576, 1668, 345, 120, 1502, 1429, 1691, 1587, 1931, 242, 71, 206, 1423, 1211, 1082, 959, 186, 32, 660, 697, 602, 585, 471, 66, 13, 291, 336, 363, 265, 2, 49, 11, 302, 278, 206, 166, 15, 33, 17, 210, 177, 148, 151, 144, 19, 4, 154, 93]}, {\"marker\": {\"color\": \"blue\"}, \"name\": \"Total tests\", \"type\": \"bar\", \"x\": [\"2020-03-10T00:00:00\", \"2020-03-11T00:00:00\", \"2020-03-12T00:00:00\", \"2020-03-13T00:00:00\", \"2020-03-14T00:00:00\", \"2020-03-15T00:00:00\", \"2020-03-16T00:00:00\", \"2020-03-17T00:00:00\", \"2020-03-18T00:00:00\", \"2020-03-19T00:00:00\", \"2020-03-20T00:00:00\", \"2020-03-21T00:00:00\", \"2020-03-22T00:00:00\", \"2020-03-23T00:00:00\", \"2020-03-24T00:00:00\", \"2020-03-25T00:00:00\", \"2020-03-26T00:00:00\", \"2020-03-27T00:00:00\", \"2020-03-28T00:00:00\", \"2020-03-29T00:00:00\", \"2020-03-30T00:00:00\", \"2020-03-31T00:00:00\", \"2020-04-01T00:00:00\", \"2020-04-02T00:00:00\", \"2020-04-03T00:00:00\", \"2020-04-04T00:00:00\", \"2020-04-05T00:00:00\", \"2020-04-06T00:00:00\", \"2020-04-07T00:00:00\", \"2020-04-08T00:00:00\", \"2020-04-09T00:00:00\", \"2020-04-10T00:00:00\", \"2020-04-11T00:00:00\", \"2020-04-12T00:00:00\", \"2020-04-13T00:00:00\", \"2020-04-14T00:00:00\", \"2020-04-15T00:00:00\", \"2020-04-16T00:00:00\", \"2020-04-17T00:00:00\", \"2020-04-18T00:00:00\", \"2020-04-19T00:00:00\", \"2020-04-20T00:00:00\", \"2020-04-21T00:00:00\", \"2020-04-22T00:00:00\", \"2020-04-23T00:00:00\", \"2020-04-24T00:00:00\", \"2020-04-25T00:00:00\", \"2020-04-26T00:00:00\", \"2020-04-27T00:00:00\", \"2020-04-28T00:00:00\", \"2020-04-29T00:00:00\", \"2020-04-30T00:00:00\", \"2020-05-01T00:00:00\", \"2020-05-02T00:00:00\", \"2020-05-03T00:00:00\", \"2020-05-04T00:00:00\", \"2020-05-05T00:00:00\", \"2020-05-06T00:00:00\", \"2020-05-07T00:00:00\", \"2020-05-08T00:00:00\", \"2020-05-09T00:00:00\", \"2020-05-10T00:00:00\", \"2020-05-11T00:00:00\", \"2020-05-12T00:00:00\", \"2020-05-13T00:00:00\", \"2020-05-14T00:00:00\", \"2020-05-15T00:00:00\", \"2020-05-16T00:00:00\", \"2020-05-17T00:00:00\", \"2020-05-18T00:00:00\", \"2020-05-19T00:00:00\"], \"y\": [79, 108, 157, 350, 167, 174, 819, 1011, 1571, 2098, 2454, 783, 555, 4368, 4959, 5160, 5706, 6513, 1894, 604, 8127, 8029, 7305, 7349, 8230, 1675, 377, 7604, 7790, 10057, 10601, 11526, 1636, 389, 1156, 11886, 12608, 11950, 11464, 2361, 502, 9223, 11557, 11045, 9872, 9076, 1397, 306, 7430, 8103, 9850, 8793, 229, 1368, 197, 10093, 10759, 9382, 8582, 446, 1529, 293, 10350, 10602, 9930, 9545, 9853, 1980, 303, 10504, 8535]}],\n",
              "                        {\"barmode\": \"group\", \"template\": {\"data\": {\"bar\": [{\"error_x\": {\"color\": \"#2a3f5f\"}, \"error_y\": {\"color\": \"#2a3f5f\"}, \"marker\": {\"line\": {\"color\": \"#E5ECF6\", \"width\": 0.5}}, \"type\": \"bar\"}], \"barpolar\": [{\"marker\": {\"line\": {\"color\": \"#E5ECF6\", \"width\": 0.5}}, \"type\": \"barpolar\"}], \"carpet\": [{\"aaxis\": {\"endlinecolor\": \"#2a3f5f\", \"gridcolor\": \"white\", \"linecolor\": \"white\", \"minorgridcolor\": \"white\", \"startlinecolor\": \"#2a3f5f\"}, \"baxis\": {\"endlinecolor\": \"#2a3f5f\", \"gridcolor\": \"white\", \"linecolor\": \"white\", \"minorgridcolor\": \"white\", \"startlinecolor\": \"#2a3f5f\"}, \"type\": \"carpet\"}], \"choropleth\": [{\"colorbar\": {\"outlinewidth\": 0, \"ticks\": \"\"}, \"type\": \"choropleth\"}], \"contour\": [{\"colorbar\": {\"outlinewidth\": 0, \"ticks\": \"\"}, \"colorscale\": [[0.0, \"#0d0887\"], [0.1111111111111111, \"#46039f\"], [0.2222222222222222, \"#7201a8\"], [0.3333333333333333, \"#9c179e\"], [0.4444444444444444, \"#bd3786\"], [0.5555555555555556, \"#d8576b\"], [0.6666666666666666, \"#ed7953\"], [0.7777777777777778, \"#fb9f3a\"], [0.8888888888888888, \"#fdca26\"], [1.0, \"#f0f921\"]], \"type\": \"contour\"}], \"contourcarpet\": [{\"colorbar\": {\"outlinewidth\": 0, \"ticks\": \"\"}, \"type\": \"contourcarpet\"}], \"heatmap\": [{\"colorbar\": {\"outlinewidth\": 0, \"ticks\": \"\"}, \"colorscale\": [[0.0, \"#0d0887\"], [0.1111111111111111, \"#46039f\"], [0.2222222222222222, \"#7201a8\"], [0.3333333333333333, \"#9c179e\"], [0.4444444444444444, \"#bd3786\"], [0.5555555555555556, \"#d8576b\"], [0.6666666666666666, \"#ed7953\"], [0.7777777777777778, \"#fb9f3a\"], [0.8888888888888888, \"#fdca26\"], [1.0, \"#f0f921\"]], \"type\": \"heatmap\"}], \"heatmapgl\": [{\"colorbar\": {\"outlinewidth\": 0, \"ticks\": \"\"}, \"colorscale\": [[0.0, \"#0d0887\"], [0.1111111111111111, \"#46039f\"], [0.2222222222222222, \"#7201a8\"], [0.3333333333333333, \"#9c179e\"], [0.4444444444444444, \"#bd3786\"], [0.5555555555555556, \"#d8576b\"], [0.6666666666666666, \"#ed7953\"], [0.7777777777777778, \"#fb9f3a\"], [0.8888888888888888, \"#fdca26\"], [1.0, \"#f0f921\"]], \"type\": \"heatmapgl\"}], \"histogram\": [{\"marker\": {\"colorbar\": {\"outlinewidth\": 0, \"ticks\": \"\"}}, \"type\": \"histogram\"}], \"histogram2d\": [{\"colorbar\": {\"outlinewidth\": 0, \"ticks\": \"\"}, \"colorscale\": [[0.0, \"#0d0887\"], [0.1111111111111111, \"#46039f\"], [0.2222222222222222, \"#7201a8\"], [0.3333333333333333, \"#9c179e\"], [0.4444444444444444, \"#bd3786\"], [0.5555555555555556, \"#d8576b\"], [0.6666666666666666, \"#ed7953\"], [0.7777777777777778, \"#fb9f3a\"], [0.8888888888888888, \"#fdca26\"], [1.0, \"#f0f921\"]], \"type\": \"histogram2d\"}], \"histogram2dcontour\": [{\"colorbar\": {\"outlinewidth\": 0, \"ticks\": \"\"}, \"colorscale\": [[0.0, \"#0d0887\"], [0.1111111111111111, \"#46039f\"], [0.2222222222222222, \"#7201a8\"], [0.3333333333333333, \"#9c179e\"], [0.4444444444444444, \"#bd3786\"], [0.5555555555555556, \"#d8576b\"], [0.6666666666666666, \"#ed7953\"], [0.7777777777777778, \"#fb9f3a\"], [0.8888888888888888, \"#fdca26\"], [1.0, \"#f0f921\"]], \"type\": \"histogram2dcontour\"}], \"mesh3d\": [{\"colorbar\": {\"outlinewidth\": 0, \"ticks\": \"\"}, \"type\": \"mesh3d\"}], \"parcoords\": [{\"line\": {\"colorbar\": {\"outlinewidth\": 0, \"ticks\": \"\"}}, \"type\": \"parcoords\"}], \"pie\": [{\"automargin\": true, \"type\": \"pie\"}], \"scatter\": [{\"marker\": {\"colorbar\": {\"outlinewidth\": 0, \"ticks\": \"\"}}, \"type\": \"scatter\"}], \"scatter3d\": [{\"line\": {\"colorbar\": {\"outlinewidth\": 0, \"ticks\": \"\"}}, \"marker\": {\"colorbar\": {\"outlinewidth\": 0, \"ticks\": \"\"}}, \"type\": \"scatter3d\"}], \"scattercarpet\": [{\"marker\": {\"colorbar\": {\"outlinewidth\": 0, \"ticks\": \"\"}}, \"type\": \"scattercarpet\"}], \"scattergeo\": [{\"marker\": {\"colorbar\": {\"outlinewidth\": 0, \"ticks\": \"\"}}, \"type\": \"scattergeo\"}], \"scattergl\": [{\"marker\": {\"colorbar\": {\"outlinewidth\": 0, \"ticks\": \"\"}}, \"type\": \"scattergl\"}], \"scattermapbox\": [{\"marker\": {\"colorbar\": {\"outlinewidth\": 0, \"ticks\": \"\"}}, \"type\": \"scattermapbox\"}], \"scatterpolar\": [{\"marker\": {\"colorbar\": {\"outlinewidth\": 0, \"ticks\": \"\"}}, \"type\": \"scatterpolar\"}], \"scatterpolargl\": [{\"marker\": {\"colorbar\": {\"outlinewidth\": 0, \"ticks\": \"\"}}, \"type\": \"scatterpolargl\"}], \"scatterternary\": [{\"marker\": {\"colorbar\": {\"outlinewidth\": 0, \"ticks\": \"\"}}, \"type\": \"scatterternary\"}], \"surface\": [{\"colorbar\": {\"outlinewidth\": 0, \"ticks\": \"\"}, \"colorscale\": [[0.0, \"#0d0887\"], [0.1111111111111111, \"#46039f\"], [0.2222222222222222, \"#7201a8\"], [0.3333333333333333, \"#9c179e\"], [0.4444444444444444, \"#bd3786\"], [0.5555555555555556, \"#d8576b\"], [0.6666666666666666, \"#ed7953\"], [0.7777777777777778, \"#fb9f3a\"], [0.8888888888888888, \"#fdca26\"], [1.0, \"#f0f921\"]], \"type\": \"surface\"}], \"table\": [{\"cells\": {\"fill\": {\"color\": \"#EBF0F8\"}, \"line\": {\"color\": \"white\"}}, \"header\": {\"fill\": {\"color\": \"#C8D4E3\"}, \"line\": {\"color\": \"white\"}}, \"type\": \"table\"}]}, \"layout\": {\"annotationdefaults\": {\"arrowcolor\": \"#2a3f5f\", \"arrowhead\": 0, \"arrowwidth\": 1}, \"coloraxis\": {\"colorbar\": {\"outlinewidth\": 0, \"ticks\": \"\"}}, \"colorscale\": {\"diverging\": [[0, \"#8e0152\"], [0.1, \"#c51b7d\"], [0.2, \"#de77ae\"], [0.3, \"#f1b6da\"], [0.4, \"#fde0ef\"], [0.5, \"#f7f7f7\"], [0.6, \"#e6f5d0\"], [0.7, \"#b8e186\"], [0.8, \"#7fbc41\"], [0.9, \"#4d9221\"], [1, \"#276419\"]], \"sequential\": [[0.0, \"#0d0887\"], [0.1111111111111111, \"#46039f\"], [0.2222222222222222, \"#7201a8\"], [0.3333333333333333, \"#9c179e\"], [0.4444444444444444, \"#bd3786\"], [0.5555555555555556, \"#d8576b\"], [0.6666666666666666, \"#ed7953\"], [0.7777777777777778, \"#fb9f3a\"], [0.8888888888888888, \"#fdca26\"], [1.0, \"#f0f921\"]], \"sequentialminus\": [[0.0, \"#0d0887\"], [0.1111111111111111, \"#46039f\"], [0.2222222222222222, \"#7201a8\"], [0.3333333333333333, \"#9c179e\"], [0.4444444444444444, \"#bd3786\"], [0.5555555555555556, \"#d8576b\"], [0.6666666666666666, \"#ed7953\"], [0.7777777777777778, \"#fb9f3a\"], [0.8888888888888888, \"#fdca26\"], [1.0, \"#f0f921\"]]}, \"colorway\": [\"#636efa\", \"#EF553B\", \"#00cc96\", \"#ab63fa\", \"#FFA15A\", \"#19d3f3\", \"#FF6692\", \"#B6E880\", \"#FF97FF\", \"#FECB52\"], \"font\": {\"color\": \"#2a3f5f\"}, \"geo\": {\"bgcolor\": \"white\", \"lakecolor\": \"white\", \"landcolor\": \"#E5ECF6\", \"showlakes\": true, \"showland\": true, \"subunitcolor\": \"white\"}, \"hoverlabel\": {\"align\": \"left\"}, \"hovermode\": \"closest\", \"mapbox\": {\"style\": \"light\"}, \"paper_bgcolor\": \"white\", \"plot_bgcolor\": \"#E5ECF6\", \"polar\": {\"angularaxis\": {\"gridcolor\": \"white\", \"linecolor\": \"white\", \"ticks\": \"\"}, \"bgcolor\": \"#E5ECF6\", \"radialaxis\": {\"gridcolor\": \"white\", \"linecolor\": \"white\", \"ticks\": \"\"}}, \"scene\": {\"xaxis\": {\"backgroundcolor\": \"#E5ECF6\", \"gridcolor\": \"white\", \"gridwidth\": 2, \"linecolor\": \"white\", \"showbackground\": true, \"ticks\": \"\", \"zerolinecolor\": \"white\"}, \"yaxis\": {\"backgroundcolor\": \"#E5ECF6\", \"gridcolor\": \"white\", \"gridwidth\": 2, \"linecolor\": \"white\", \"showbackground\": true, \"ticks\": \"\", \"zerolinecolor\": \"white\"}, \"zaxis\": {\"backgroundcolor\": \"#E5ECF6\", \"gridcolor\": \"white\", \"gridwidth\": 2, \"linecolor\": \"white\", \"showbackground\": true, \"ticks\": \"\", \"zerolinecolor\": \"white\"}}, \"shapedefaults\": {\"line\": {\"color\": \"#2a3f5f\"}}, \"ternary\": {\"aaxis\": {\"gridcolor\": \"white\", \"linecolor\": \"white\", \"ticks\": \"\"}, \"baxis\": {\"gridcolor\": \"white\", \"linecolor\": \"white\", \"ticks\": \"\"}, \"bgcolor\": \"#E5ECF6\", \"caxis\": {\"gridcolor\": \"white\", \"linecolor\": \"white\", \"ticks\": \"\"}}, \"title\": {\"x\": 0.05}, \"xaxis\": {\"automargin\": true, \"gridcolor\": \"white\", \"linecolor\": \"white\", \"ticks\": \"\", \"title\": {\"standoff\": 15}, \"zerolinecolor\": \"white\", \"zerolinewidth\": 2}, \"yaxis\": {\"automargin\": true, \"gridcolor\": \"white\", \"linecolor\": \"white\", \"ticks\": \"\", \"title\": {\"standoff\": 15}, \"zerolinecolor\": \"white\", \"zerolinewidth\": 2}}}, \"title\": {\"text\": \"Daily positive and total testing data in France\"}, \"xaxis\": {\"title\": {\"text\": \"Date\"}}, \"yaxis\": {\"title\": {\"text\": \"Number of tests (total and positive)\"}}},\n",
              "                        {\"responsive\": true}\n",
              "                    ).then(function(){\n",
              "                            \n",
              "var gd = document.getElementById('d8d1f0c1-ecf4-472e-aec0-c542c9cd2f79');\n",
              "var x = new MutationObserver(function (mutations, observer) {{\n",
              "        var display = window.getComputedStyle(gd).display;\n",
              "        if (!display || display === 'none') {{\n",
              "            console.log([gd, 'removed!']);\n",
              "            Plotly.purge(gd);\n",
              "            observer.disconnect();\n",
              "        }}\n",
              "}});\n",
              "\n",
              "// Listen for the removal of the full notebook cells\n",
              "var notebookContainer = gd.closest('#notebook-container');\n",
              "if (notebookContainer) {{\n",
              "    x.observe(notebookContainer, {childList: true});\n",
              "}}\n",
              "\n",
              "// Listen for the clearing of the current output cell\n",
              "var outputEl = gd.closest('.output');\n",
              "if (outputEl) {{\n",
              "    x.observe(outputEl, {childList: true});\n",
              "}}\n",
              "\n",
              "                        })\n",
              "                };\n",
              "                \n",
              "            </script>\n",
              "        </div>\n",
              "</body>\n",
              "</html>"
            ]
          },
          "metadata": {
            "tags": []
          }
        }
      ]
    },
    {
      "cell_type": "markdown",
      "metadata": {
        "id": "Bmz1LsflHW4h",
        "colab_type": "text"
      },
      "source": [
        "## Conclusion"
      ]
    },
    {
      "cell_type": "markdown",
      "metadata": {
        "id": "DfXjJeyNHYY4",
        "colab_type": "text"
      },
      "source": [
        "Very easy to incorporate this into a python script to automate.\n",
        "\n",
        "This is only the very basic of scraping, a lot more could be done, maybe in another blog post."
      ]
    }
  ]
}