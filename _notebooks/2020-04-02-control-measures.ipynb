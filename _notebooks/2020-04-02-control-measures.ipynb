{
  "nbformat": 4,
  "nbformat_minor": 0,
  "metadata": {
    "colab": {
      "name": "2020-04-02-control-measures.ipynb",
      "provenance": [],
      "authorship_tag": "ABX9TyPp4uIR6JH430cFW5ufdB59",
      "include_colab_link": true
    },
    "kernelspec": {
      "name": "python3",
      "display_name": "Python 3"
    }
  },
  "cells": [
    {
      "cell_type": "markdown",
      "metadata": {
        "id": "view-in-github",
        "colab_type": "text"
      },
      "source": [
        "<a href=\"https://colab.research.google.com/github/jeffufpost/scattered-thoughts/blob/master/_notebooks/2020-04-02-control-measures.ipynb\" target=\"_parent\"><img src=\"https://colab.research.google.com/assets/colab-badge.svg\" alt=\"Open In Colab\"/></a>"
      ]
    },
    {
      "cell_type": "markdown",
      "metadata": {
        "id": "wHHObIt0qxfp",
        "colab_type": "text"
      },
      "source": [
        "# \"Epidemic modeling - Part 6\"\n",
        "> \"A quick overview of control measures in times of pandemic/epidemic\"\n",
        "\n",
        "- toc: true \n",
        "- badges: true\n",
        "- comments: true\n",
        "- categories: [modeling, SEIR, epidemiology, stochastic, COVID-19, real-world]\n",
        "- image: images/control_measures.png"
      ]
    },
    {
      "cell_type": "markdown",
      "metadata": {
        "id": "AbrUxmQuq-S9",
        "colab_type": "text"
      },
      "source": [
        "![](https://github.com/jeffufpost/scattered-thoughts/blob/master/_notebooks/my_icons/control_measures.png?raw=1)"
      ]
    },
    {
      "cell_type": "markdown",
      "metadata": {
        "id": "BPKgWnCvBk9p",
        "colab_type": "text"
      },
      "source": [
        "## Motivation for write-up"
      ]
    },
    {
      "cell_type": "markdown",
      "metadata": {
        "id": "QxlznadEpqsF",
        "colab_type": "text"
      },
      "source": [
        "This is the 6th part of a multi-part series blog post on modeling in epidemiology.\n",
        "\n",
        "The COVID-19 pandemic has brought a lot of attention to the study of epidemiology and more specifically to the various mathematical models that are used to inform public health policies. Everyone has been trying to understand the growth or slowing of new cases and trying to predict the necessary sanitary resources. This blog post attempts to explain the foundations for some of the most used models and enlighten the reader on two key points.\n",
        "\n",
        "Following the first 5 parts of this blog series, we are left wondering what possible measures can be put in place to control the epidemic. \n",
        "\n",
        "This 6th installment focuses on this and attempts to elucidate the subject."
      ]
    },
    {
      "cell_type": "markdown",
      "metadata": {
        "id": "5NI68N8Hq_yv",
        "colab_type": "text"
      },
      "source": [
        "## Why do we need control measures during an epidemic?"
      ]
    },
    {
      "cell_type": "markdown",
      "metadata": {
        "id": "zyOFPEiYYTU-",
        "colab_type": "text"
      },
      "source": [
        "In the previous sections we have seen that without control measures in place i.e. when injecting an exposed person into the simulation, depending on the values of $\\beta$ and $\\gamma$, the virus will spread until it has infected everyone.\n",
        "\n",
        "There are many reasons why this is bad with a virus as virulent as SARS-CoV-2:\n",
        "* Even with a low Case Fatality Rate (CFR), the total death toll will be unacceptable\n",
        "* The strain on sanitary resources of peak sick people will lead to an increase in all-cause deaths\n",
        "* The strain on sanitary resources will lead to increased long-term morbidity\n",
        "* Many economic implications\n",
        "* Many many others..."
      ]
    },
    {
      "cell_type": "markdown",
      "metadata": {
        "id": "hay-ktYkdiyp",
        "colab_type": "text"
      },
      "source": [
        "## Control measures: the basics"
      ]
    },
    {
      "cell_type": "markdown",
      "metadata": {
        "id": "qTZguglfq_xF",
        "colab_type": "text"
      },
      "source": [
        "While the previous sections might have left us wondering what we can possibly do to control the pread of the epidemic, the evidence left from those studies in fact leave us with a lot of clues as to where to begin."
      ]
    },
    {
      "cell_type": "markdown",
      "metadata": {
        "id": "_0NPmXsHPq6A",
        "colab_type": "text"
      },
      "source": [
        "### Only one way to stop an epidemic\n",
        "\n",
        "We have seen there is only one way to stop an epidemic, and that is by having:\n",
        "$$R \\leq 1$$\n",
        "$$\\leftrightarrow R_0~s(t) \\leq 1$$\n",
        "$$\\leftrightarrow \\frac{\\beta}{\\gamma}~s(t) \\leq 1$$"
      ]
    },
    {
      "cell_type": "markdown",
      "metadata": {
        "id": "AD6-yCTXQCNh",
        "colab_type": "text"
      },
      "source": [
        "### Two methods to save lives\n",
        "\n",
        "From the equation above, we see an epidemic will either continue until herd immunity is reached:\n",
        "$$s(t) \\leq \\frac{1}{R_0}$$\n",
        "$$\\leftrightarrow Immune(t) \\geq 1-\\frac{1}{R_0}$$\n",
        "\n",
        "Or until measures are in place so that:\n",
        "$$R_0 \\leq \\frac{1}{s(t)}$$\n",
        "\n",
        "In the worst case scenario where $s(t) = 1$ (completely susceptible population), we need:\n",
        "$$R_0 \\leq 1$$\n",
        "$$\\leftrightarrow \\beta \\leq \\gamma$$"
      ]
    },
    {
      "cell_type": "markdown",
      "metadata": {
        "id": "rcecF9dvQSuO",
        "colab_type": "text"
      },
      "source": [
        "\n",
        "From this results two main ideas of control:\n",
        "\n",
        "1. Reaching herd immunity all while controlling peak infectious individuals to within hospital and sanitary resources so as to limit morbidity and mortality\n",
        "\n",
        "2. Reducing $\\beta$ to smaller than $\\gamma$ to stop the epidemic even before herd immunity\n",
        "\n",
        "While the difference between the two is noted here, in practice they are effectively the same. \n",
        "\n",
        "\n",
        "Option 1 is the same as option 2, with the difference that in 1 we don't quite have $$R\\leq 1$$ and so the difference between the two results from different levels of imlementation."
      ]
    },
    {
      "cell_type": "markdown",
      "metadata": {
        "id": "fxF8kwvpQt1t",
        "colab_type": "text"
      },
      "source": [
        "### Control measures in practice"
      ]
    },
    {
      "cell_type": "markdown",
      "metadata": {
        "id": "-QQlWOPaQxT8",
        "colab_type": "text"
      },
      "source": [
        "We have seen three things influence the total number of people that end up infected with the virus:\n",
        "* Proportion of Susceptible in population $s(t)$\n",
        "* Value $\\beta$\n",
        "* Value of $\\gamma$ ($T_{Infectious}$)\n",
        "\n",
        "We have also seen that the peak of infectious individuals could be affected by:\n",
        "* Value of $\\sigma$ ($T_{Latent}$)\n",
        "\n",
        "And indeed, reducing the peak of infectious at any point comes down to either:\n",
        "* **Reducing the number of S:**\n",
        " * vaccination\n",
        " * prophylactic treatment when potentially exposed \n",
        "* **Reducing $\\beta = r * \\rho$ by:**\n",
        " 1. reducing $r$ i.e. reducing the average number of contacts a person has per day:\n",
        "   * lockdown measures\n",
        "   * work from home\n",
        "   * closing places where people gather (restaurants, bars, places of worship, etc)\n",
        " 2. reducing $\\rho$ - reducing the pobability of transmitting infection from an infectious to a susceptible via:\n",
        "   * physical distancing\n",
        "   * hygiene measures\n",
        "   * wearing personal protective equipment (PPE i.e. masks, gloves, etc) \n",
        "* **Reducing $\\gamma$ by:**\n",
        " * Isolation of the sick (mass testing of symptomatic and immediate isolation of positive cases)\n",
        " * Contact-tracing: tracing and quarantining all contacts from infectious people as to quarantine potential exposed before they become infectious\n",
        " * Chemotherapy: treatment to shorten duration of sickness and infectious period\n",
        "* **Increasing $\\sigma$ by:**\n",
        " * prophylactic treatment when potentially exposed\n",
        "\n",
        "All these are the same requirements to reduce $R \\leq 1$.\n",
        "\n",
        "Let's try to quantify the impact of each measure below."
      ]
    },
    {
      "cell_type": "code",
      "metadata": {
        "id": "ulPIE9YgyRii",
        "colab_type": "code",
        "colab": {
          "base_uri": "https://localhost:8080/",
          "height": 207
        },
        "outputId": "ca06296c-6a01-4fb0-f81a-96d0759e841b"
      },
      "source": [
        "#collapse_hide\n",
        "!pip install plotly==4.8.2\n",
        "import pandas as pd\n",
        "import numpy as np\n",
        "import plotly.graph_objects as go\n",
        "import plotly.express as px\n",
        "from scipy.stats import expon\n",
        "from scipy.stats import gamma\n",
        "from scipy.stats import weibull_min\n",
        "from numpy.random import default_rng\n",
        "rng = default_rng()"
      ],
      "execution_count": 1,
      "outputs": [
        {
          "output_type": "stream",
          "text": [
            "Collecting plotly==4.8.2\n",
            "\u001b[?25l  Downloading https://files.pythonhosted.org/packages/27/99/9794bcd22fae2e12b689759d53fe26939a4d11b8b44b0b7056e035c64529/plotly-4.8.2-py2.py3-none-any.whl (11.5MB)\n",
            "\u001b[K     |████████████████████████████████| 11.5MB 3.3MB/s \n",
            "\u001b[?25hRequirement already satisfied: six in /usr/local/lib/python3.6/dist-packages (from plotly==4.8.2) (1.12.0)\n",
            "Requirement already satisfied: retrying>=1.3.3 in /usr/local/lib/python3.6/dist-packages (from plotly==4.8.2) (1.3.3)\n",
            "Installing collected packages: plotly\n",
            "  Found existing installation: plotly 4.4.1\n",
            "    Uninstalling plotly-4.4.1:\n",
            "      Successfully uninstalled plotly-4.4.1\n",
            "Successfully installed plotly-4.8.2\n"
          ],
          "name": "stdout"
        }
      ]
    },
    {
      "cell_type": "code",
      "metadata": {
        "id": "K76YyCYexsRr",
        "colab_type": "code",
        "colab": {}
      },
      "source": [
        "#collapse_hide\n",
        "# Need this new function for model below:\n",
        "def make_df(p,num_E, num_I, num_R):\n",
        "  df = pd.DataFrame(np.full((p,1), 'S').T[0], columns=['State'])\n",
        "  df['Day'] = 0\n",
        "  tochange=df.loc[rng.choice(p, size=num_E+num_I+num_R, replace=False),'State'].index\n",
        "  df.loc[tochange[0:num_E],'State'] = 'E'\n",
        "  df.loc[tochange[num_E:num_I+num_E],'State'] = 'I'\n",
        "  df.loc[tochange[num_E+num_I:num_E+num_I+num_R],'State'] = 'R'\n",
        "  return df"
      ],
      "execution_count": 2,
      "outputs": []
    },
    {
      "cell_type": "code",
      "metadata": {
        "id": "pqaZ2bKt1Tcd",
        "colab_type": "code",
        "colab": {}
      },
      "source": [
        "#collapse_hide\n",
        "# regular Stoachastic SEIR model below:\n",
        "def seir_model_stoch_ctrl(beta, p, num_E, num_I, num_R, days, isolation, iso_n, contact_tracing, lockdown):\n",
        "\n",
        "    # Initialize population dataframe with data given by user\n",
        "    df = make_df(p,num_E, num_I, num_R)\n",
        "    \n",
        "    # This variable is used to track daily value of beta\n",
        "    xxbeta=np.array([],dtype=float)\n",
        "\n",
        "    # Initialize the arrays to return\n",
        "    # Below are numbers of S, E, I, R total\n",
        "    S=np.array([],dtype=int)\n",
        "    E=np.array([],dtype=int)\n",
        "    I=np.array([],dtype=int)\n",
        "    R=np.array([],dtype=int)\n",
        "    # Below are the daily additions in S, E, I, R\n",
        "    Spd=np.array([],dtype=int)\n",
        "    Epd=np.array([],dtype=int)\n",
        "    Ipd=np.array([],dtype=int)\n",
        "    Rpd=np.array([],dtype=int)\n",
        "\n",
        "    b=beta\n",
        "    beta2=b/10\n",
        "    beta3=b/10\n",
        "\n",
        "    lockdown_date=0\n",
        "    \n",
        "    # Stochastic model so use random values to decide on progression\n",
        "    rand = np.random.random(size=(p,days))\n",
        "\n",
        "    # Depending if you want exponential or gamma distribution for sigma\n",
        "    EtoI = gamma.rvs(1.8,loc=0.9,scale=(5.2-1.8)/0.9,size=p)\n",
        "\n",
        "    # Depending if you want exponential or gamma distribution for gamma and if you have isolation or not\n",
        "    # Uses distributiosn found on blog part 3\n",
        "    if isolation is True:\n",
        "      ItoR = iso_n*np.ones(p)\n",
        "    else:\n",
        "      ItoR = weibull_min.rvs(2.3, loc=2, scale=20.11, size=p)   \n",
        "\n",
        "\n",
        "    # Iterate over every day the simulation is run\n",
        "    for j in range(0,days):\n",
        "\n",
        "        # Record daily beta values\n",
        "        xxbeta=np.append(xxbeta, b[j])\n",
        "\n",
        "        # First we get the index of the individuals that will change state today:\n",
        "\n",
        "        # Random number tells you which 'S' have been exposed on this day \n",
        "        StoE_index = df.loc[(df.State == 'S') & (rand[:,j] < b[j]*len(np.where(df.State=='I')[0])/p)].index\n",
        "\n",
        "        # For each row, if a person has been a certain number of days in E, they will go to I\n",
        "        # This follows EtoI variable which is either exponential or gamma distributed according to above\n",
        "        EtoI_index = df.loc[(df.State == 'E') & (j-df.Day >= EtoI)].index\n",
        "        \n",
        "        # Similaraly as above\n",
        "        # For each row, if a person has been a certain number of days in I, they will go to R\n",
        "        # This follows EtoI variable which is either exponential or gamma distributed according to above\n",
        "        ItoR_index = df.loc[(df.State == 'I') & (j-df.Day >= ItoR)].index\n",
        "\n",
        "        # Use indexes collected above to populate per day values\n",
        "        Epd = np.append(Epd,len(StoE_index))\n",
        "        Ipd = np.append(Ipd,len(EtoI_index))\n",
        "        Rpd = np.append(Rpd,len(ItoR_index))\n",
        "\n",
        "        # Append the S, E, I, and R arrays\n",
        "        S=np.append(S,len(np.where(df.State=='S')[0]))\n",
        "        E=np.append(E,len(np.where(df.State=='E')[0]))\n",
        "        I=np.append(I,len(np.where(df.State=='I')[0]))\n",
        "        R=np.append(R,len(np.where(df.State=='R')[0]))\n",
        "\n",
        "        # Now we use the indexes collected above randomly to change the actual population dataframe to the new states\n",
        "        df.iloc[ItoR_index] = ['R', j]\n",
        "        df.iloc[EtoI_index] = ['I', j]\n",
        "        df.iloc[StoE_index] = ['E', j]\n",
        "\n",
        "        # Code below for control measures to reduce beta values\n",
        "        if lockdown is True:\n",
        "          if ((I[-1] > 100) & (Ipd[-1] > 39)):\n",
        "            if lockdown_date == 0:\n",
        "              lockdown_date = j+1\n",
        "            b = beta2\n",
        "          elif ((I[-1] > 100) & (Ipd[-1] < 40)): \n",
        "            b = beta3\n",
        "        \n",
        "    Epd[0]+=num_E\n",
        "    Ipd[0]+=num_I\n",
        "    Rpd[0]+=num_R\n",
        "\n",
        "    return S,E,I,R, Epd, Ipd, Rpd, xxbeta, lockdown_date"
      ],
      "execution_count": 3,
      "outputs": []
    },
    {
      "cell_type": "markdown",
      "metadata": {
        "id": "vy8ZpEF9Ft0c",
        "colab_type": "text"
      },
      "source": [
        "## Reducing the proportion of Susceptible in the population"
      ]
    },
    {
      "cell_type": "markdown",
      "metadata": {
        "id": "_ALkgvn7FyD6",
        "colab_type": "text"
      },
      "source": [
        "As we have seen, reducing the proportion of susceptible in the population helps reduce the impact of the epidemic.\n",
        "\n",
        "In the first blog post of the series, we derived the threshold for herd immunity as being $1-\\frac{1}{R_0}$.\n",
        "\n",
        "In our simulations we have $R_0 = \\frac{\\beta}{\\gamma} = \\frac{0.5}{\\frac{1}{20.62}} = 10.31$\n",
        "\n",
        "And so, the herd immunity threshold in our simulation should be:\n",
        "$$HIT = \\frac{9.31}{10.31}~100\\% = 90.3\\%$$\n",
        "\n",
        "Let's run the model with the initial condition that 92% are in the R state already."
      ]
    },
    {
      "cell_type": "code",
      "metadata": {
        "colab_type": "code",
        "id": "hUJ4pKFqG0Wu",
        "colab": {
          "base_uri": "https://localhost:8080/",
          "height": 266
        },
        "outputId": "dac7fd32-76d1-4f64-d958-0b8b05db0cb5"
      },
      "source": [
        "#collapse_hide\n",
        "# Define parameters for stochastic model\n",
        "days = 300\n",
        "p = 10000\n",
        "num_E = 1\n",
        "num_I = 0\n",
        "\n",
        "# Run 2 simulations, one above HIT, and one below:\n",
        "num_R1 = 8000 \n",
        "num_R2 = 9200\n",
        "beta_stoch = 0.5*np.ones(days)\n",
        "\n",
        "# Run 4 stochastic simulations, 2 with exponential sigma, 2 with gamma sigmalation, iso_n, contact_tracing, lockdown\n",
        "results_stoch0 = seir_model_stoch_ctrl(beta_stoch, p, num_E, num_I, num_R1, days, isolation=False, iso_n=iso_n, contact_tracing=False, lockdown=False)\n",
        "results_stoch1 = seir_model_stoch_ctrl(beta_stoch, p, num_E, num_I, num_R2, days, isolation=False, iso_n=iso_n1, contact_tracing=False, lockdown=False)"
      ],
      "execution_count": 4,
      "outputs": [
        {
          "output_type": "error",
          "ename": "NameError",
          "evalue": "ignored",
          "traceback": [
            "\u001b[0;31m---------------------------------------------------------------------------\u001b[0m",
            "\u001b[0;31mNameError\u001b[0m                                 Traceback (most recent call last)",
            "\u001b[0;32m<ipython-input-4-b1cb4735df63>\u001b[0m in \u001b[0;36m<module>\u001b[0;34m()\u001b[0m\n\u001b[1;32m     12\u001b[0m \u001b[0;34m\u001b[0m\u001b[0m\n\u001b[1;32m     13\u001b[0m \u001b[0;31m# Run 4 stochastic simulations, 2 with exponential sigma, 2 with gamma sigmalation, iso_n, contact_tracing, lockdown\u001b[0m\u001b[0;34m\u001b[0m\u001b[0;34m\u001b[0m\u001b[0;34m\u001b[0m\u001b[0m\n\u001b[0;32m---> 14\u001b[0;31m \u001b[0mresults_stoch0\u001b[0m \u001b[0;34m=\u001b[0m \u001b[0mseir_model_stoch_ctrl\u001b[0m\u001b[0;34m(\u001b[0m\u001b[0mbeta_stoch\u001b[0m\u001b[0;34m,\u001b[0m \u001b[0mp\u001b[0m\u001b[0;34m,\u001b[0m \u001b[0mnum_E\u001b[0m\u001b[0;34m,\u001b[0m \u001b[0mnum_I\u001b[0m\u001b[0;34m,\u001b[0m \u001b[0mnum_R1\u001b[0m\u001b[0;34m,\u001b[0m \u001b[0mdays\u001b[0m\u001b[0;34m,\u001b[0m \u001b[0misolation\u001b[0m\u001b[0;34m=\u001b[0m\u001b[0;32mFalse\u001b[0m\u001b[0;34m,\u001b[0m \u001b[0miso_n\u001b[0m\u001b[0;34m=\u001b[0m\u001b[0miso_n\u001b[0m\u001b[0;34m,\u001b[0m \u001b[0mcontact_tracing\u001b[0m\u001b[0;34m=\u001b[0m\u001b[0;32mFalse\u001b[0m\u001b[0;34m,\u001b[0m \u001b[0mlockdown\u001b[0m\u001b[0;34m=\u001b[0m\u001b[0;32mFalse\u001b[0m\u001b[0;34m)\u001b[0m\u001b[0;34m\u001b[0m\u001b[0;34m\u001b[0m\u001b[0m\n\u001b[0m\u001b[1;32m     15\u001b[0m \u001b[0mresults_stoch1\u001b[0m \u001b[0;34m=\u001b[0m \u001b[0mseir_model_stoch_ctrl\u001b[0m\u001b[0;34m(\u001b[0m\u001b[0mbeta_stoch\u001b[0m\u001b[0;34m,\u001b[0m \u001b[0mp\u001b[0m\u001b[0;34m,\u001b[0m \u001b[0mnum_E\u001b[0m\u001b[0;34m,\u001b[0m \u001b[0mnum_I\u001b[0m\u001b[0;34m,\u001b[0m \u001b[0mnum_R2\u001b[0m\u001b[0;34m,\u001b[0m \u001b[0mdays\u001b[0m\u001b[0;34m,\u001b[0m \u001b[0misolation\u001b[0m\u001b[0;34m=\u001b[0m\u001b[0;32mFalse\u001b[0m\u001b[0;34m,\u001b[0m \u001b[0miso_n\u001b[0m\u001b[0;34m=\u001b[0m\u001b[0miso_n1\u001b[0m\u001b[0;34m,\u001b[0m \u001b[0mcontact_tracing\u001b[0m\u001b[0;34m=\u001b[0m\u001b[0;32mFalse\u001b[0m\u001b[0;34m,\u001b[0m \u001b[0mlockdown\u001b[0m\u001b[0;34m=\u001b[0m\u001b[0;32mFalse\u001b[0m\u001b[0;34m)\u001b[0m\u001b[0;34m\u001b[0m\u001b[0;34m\u001b[0m\u001b[0m\n",
            "\u001b[0;31mNameError\u001b[0m: name 'iso_n' is not defined"
          ]
        }
      ]
    },
    {
      "cell_type": "code",
      "metadata": {
        "colab_type": "code",
        "id": "Z7Q-7j_6G0Wz",
        "colab": {}
      },
      "source": [
        "#collapse_hide\n",
        "fig = go.Figure(data=[    \n",
        "    go.Scatter(name='I_below_HIT', x=np.arange(len(results_stoch0[0])), y=results_stoch0[2]/p),\n",
        "    go.Scatter(name='I_above_HIT', x=np.arange(len(results_stoch1[0])), y=results_stoch1[2]/p),\n",
        "])\n",
        "\n",
        "fig.update_layout(\n",
        "    xaxis_title = 'Day',\n",
        "    yaxis_title = 'Proportion of population',\n",
        "    title={\n",
        "        'text':r'$\\text{Effect of herd immunity on SEIR model}$',\n",
        "        'x':0.5,\n",
        "        'xanchor':'center'\n",
        "    }\n",
        ")\n",
        "\n",
        "fig.show()"
      ],
      "execution_count": null,
      "outputs": []
    },
    {
      "cell_type": "markdown",
      "metadata": {
        "id": "O5NLkJuxHyPW",
        "colab_type": "text"
      },
      "source": [
        "## Reducing $\\beta$"
      ]
    },
    {
      "cell_type": "markdown",
      "metadata": {
        "id": "ZDEmJw7xH0zl",
        "colab_type": "text"
      },
      "source": [
        "See blog post 2 for effect of $\\beta$ on the SEIR model."
      ]
    },
    {
      "cell_type": "markdown",
      "metadata": {
        "id": "msoQ3Lc3Ht4K",
        "colab_type": "text"
      },
      "source": [
        "## Reducing $\\gamma$"
      ]
    },
    {
      "cell_type": "markdown",
      "metadata": {
        "id": "8XWoS4AHxyyk",
        "colab_type": "text"
      },
      "source": [
        "### Isolating positive tests"
      ]
    },
    {
      "cell_type": "markdown",
      "metadata": {
        "id": "QMQb1tx4x3T_",
        "colab_type": "text"
      },
      "source": [
        "Say you isolate positive tests and are able to test everyone.\n",
        "\n",
        "What if tests are positive $n$ days after people are infectious ?\n",
        "\n",
        "You can isolate people after $n$ days and this effectively reduces $T_{Infectious}$ to $n$ days. \n",
        "\n",
        "Let's plot the total infectious individuals with:\n",
        "* n = 10 days\n",
        "* n = 7 days\n",
        "* n = 5 days\n",
        "* n = 2 days"
      ]
    },
    {
      "cell_type": "code",
      "metadata": {
        "id": "ps4JAaMu1b2N",
        "colab_type": "code",
        "colab": {}
      },
      "source": [
        "#collapse_hide\n",
        "# Define parameters for stochastic model\n",
        "days = 200\n",
        "p = 10000\n",
        "num_E = 1\n",
        "num_I = 0\n",
        "num_R = 0\n",
        "beta_stoch = 0.5*np.ones(days)\n",
        "\n",
        "# Isolate after iso_n days\n",
        "iso_n1 = 10 # Test and isolate all infectious after 10 days\n",
        "iso_n2 = 7\n",
        "iso_n3 = 5\n",
        "iso_n4 = 2\n",
        "\n",
        "# Run 4 stochastic simulations, 2 with exponential sigma, 2 with gamma sigmalation, iso_n, contact_tracing, lockdown\n",
        "results_stoch0 = seir_model_stoch_ctrl(beta_stoch, p, num_E, num_I, num_R, days, isolation=False, iso_n=iso_n, contact_tracing=False, lockdown=False)\n",
        "results_stoch1 = seir_model_stoch_ctrl(beta_stoch, p, num_E, num_I, num_R, days, isolation=True, iso_n=iso_n1, contact_tracing=False, lockdown=False)\n",
        "results_stoch2 = seir_model_stoch_ctrl(beta_stoch, p, num_E, num_I, num_R, days, isolation=True, iso_n=iso_n2, contact_tracing=False, lockdown=False)\n",
        "results_stoch3 = seir_model_stoch_ctrl(beta_stoch, p, num_E, num_I, num_R, days, isolation=True, iso_n=iso_n3, contact_tracing=False, lockdown=False)\n",
        "results_stoch4 = seir_model_stoch_ctrl(beta_stoch, p, num_E, num_I, num_R, days, isolation=True, iso_n=iso_n4, contact_tracing=False, lockdown=False)"
      ],
      "execution_count": null,
      "outputs": []
    },
    {
      "cell_type": "code",
      "metadata": {
        "id": "eAe3k4C81dta",
        "colab_type": "code",
        "colab": {}
      },
      "source": [
        "#collapse_hide\n",
        "fig = go.Figure(data=[    \n",
        "    go.Scatter(name='I_no_isolation', x=np.arange(len(results_stoch0[0])), y=results_stoch0[2]/p),\n",
        "    go.Scatter(name='I_iso10', x=np.arange(len(results_stoch1[0])), y=results_stoch1[2]/p),\n",
        "    go.Scatter(name='I_iso7', x=np.arange(len(results_stoch2[0])), y=results_stoch2[2]/p),\n",
        "    go.Scatter(name='I_iso5', x=np.arange(len(results_stoch3[0])), y=results_stoch3[2]/p),\n",
        "    go.Scatter(name='I_iso2', x=np.arange(len(results_stoch4[0])), y=results_stoch4[2]/p),\n",
        "])\n",
        "\n",
        "fig.update_layout(\n",
        "    xaxis_title = 'Day',\n",
        "    yaxis_title = 'Proportion of population',\n",
        "    title={\n",
        "        'text':r'$\\text{Effect of early testing and isolation on SEIR model}$',\n",
        "        'x':0.5,\n",
        "        'xanchor':'center'\n",
        "    }\n",
        ")\n",
        "\n",
        "fig.show()"
      ],
      "execution_count": null,
      "outputs": []
    },
    {
      "cell_type": "markdown",
      "metadata": {
        "id": "FOSxANOJFCZs",
        "colab_type": "text"
      },
      "source": [
        "Clearly, early testing and isolation of cases reduces transmission and this the peak of infectious individuals. The faster we do this the better.\n",
        "\n",
        "If we catch infectious individuals early enough, we can completely control the epidemic (see I_iso_2 above)."
      ]
    },
    {
      "cell_type": "markdown",
      "metadata": {
        "id": "YAIma1E4S9cw",
        "colab_type": "text"
      },
      "source": [
        "## Discussion"
      ]
    },
    {
      "cell_type": "markdown",
      "metadata": {
        "id": "eKjo0FCFS9Sj",
        "colab_type": "text"
      },
      "source": [
        "This was a quick introduction to the basics of control measures and their impact on the SEIR model.\n",
        "\n",
        "While there are many different possible approaches, the accumulation of the different solutions is the way to achieve control over an epidemic."
      ]
    },
    {
      "cell_type": "markdown",
      "metadata": {
        "id": "83NBuwy-TC8N",
        "colab_type": "text"
      },
      "source": [
        "Maybe I will make an interactive app to see the effect of each effect."
      ]
    }
  ]
}