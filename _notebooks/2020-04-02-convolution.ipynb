{
  "nbformat": 4,
  "nbformat_minor": 0,
  "metadata": {
    "colab": {
      "name": "2020_04_02_control_measures.ipynb",
      "provenance": [],
      "toc_visible": true
    },
    "kernelspec": {
      "name": "python3",
      "display_name": "Python 3"
    }
  },
  "cells": [
    {
      "cell_type": "markdown",
      "metadata": {
        "id": "wHHObIt0qxfp",
        "colab_type": "text"
      },
      "source": [
        "# \"Epidemic modeling - Part 7\"\n",
        "> \"Convolution, deconvolution, and daily data\"\n",
        "\n",
        "- toc: true \n",
        "- badges: true\n",
        "- comments: true\n",
        "- categories: [modeling, SEIR, epidemiology, stochastic, COVID-19]\n",
        "- image: images/kalman_filter.jpg"
      ]
    },
    {
      "cell_type": "markdown",
      "metadata": {
        "id": "AbrUxmQuq-S9",
        "colab_type": "text"
      },
      "source": [
        "![](my_icons/kalman_filter.jpg \"https://fr.mathworks.com/videos/understanding-kalman-filters-part-3-optimal-state-estimator--1490710645421.html\")"
      ]
    },
    {
      "cell_type": "code",
      "metadata": {
        "id": "j2BZt4QZaznJ",
        "colab_type": "code",
        "colab": {
          "base_uri": "https://localhost:8080/",
          "height": 86
        },
        "outputId": "eed1f5bb-6af6-4877-a701-4090f50dff41"
      },
      "source": [
        "#collapse_hide\n",
        "!pip install plotly==4.6.0\n",
        "import pandas as pd\n",
        "import numpy as np\n",
        "\n",
        "import math\n",
        "\n",
        "from scipy import signal\n",
        "\n",
        "import plotly.graph_objects as go\n",
        "import plotly.express as px\n",
        "\n",
        "from scipy.stats import expon\n",
        "from scipy.stats import gamma\n",
        "from scipy.stats import weibull_min\n",
        "\n",
        "from numpy.random import default_rng\n",
        "rng = default_rng()\n",
        "\n",
        "# Let's build a numerical solution\n",
        "def seir_model(init, parms, days):\n",
        "    S_0, E_0, I_0, R_0 = init\n",
        "    Epd, Ipd, Rpd = [0], [0], [0]\n",
        "    S, E, I, R = [S_0], [E_0], [I_0], [R_0]\n",
        "    dt=0.1\n",
        "    t = np.linspace(0,days,int(days/dt))\n",
        "    sigma, beta, gam = parms\n",
        "    for _ in t[1:]:\n",
        "        next_S = S[-1] - beta*S[-1]*I[-1]*dt\n",
        "        Epd.append(beta*S[-1]*I[-1]*dt)\n",
        "        next_E = E[-1] + (beta*S[-1]*I[-1] - sigma*E[-1])*dt\n",
        "        Ipd.append(sigma*E[-1]*dt)\n",
        "        next_I = I[-1] + (sigma*E[-1] - gam*I[-1])*dt\n",
        "        Rpd.append(gam*I[-1]*dt)\n",
        "        next_R = R[-1] + (gam*I[-1])*dt\n",
        "        S.append(next_S)\n",
        "        E.append(next_E)\n",
        "        I.append(next_I)\n",
        "        R.append(next_R)\n",
        "    return np.stack([S, E, I, R, Epd, Ipd, Rpd]).T"
      ],
      "execution_count": 201,
      "outputs": [
        {
          "output_type": "stream",
          "text": [
            "Requirement already satisfied: plotly==4.6.0 in /usr/local/lib/python3.6/dist-packages (4.6.0)\n",
            "Requirement already satisfied: retrying>=1.3.3 in /usr/local/lib/python3.6/dist-packages (from plotly==4.6.0) (1.3.3)\n",
            "Requirement already satisfied: six in /usr/local/lib/python3.6/dist-packages (from plotly==4.6.0) (1.12.0)\n"
          ],
          "name": "stdout"
        }
      ]
    },
    {
      "cell_type": "code",
      "metadata": {
        "id": "OyOhPj4MbxWw",
        "colab_type": "code",
        "colab": {}
      },
      "source": [
        "#collapse_hide\n",
        "# Need this new function for model below:\n",
        "def make_df(p,num_E, num_I, num_R):\n",
        "  df = pd.DataFrame(np.full((p,1), 'S').T[0], columns=['State'])\n",
        "  df['Day'] = 0\n",
        "  tochange=df.loc[rng.choice(p, size=num_E+num_I+num_R, replace=False),'State'].index\n",
        "  df.loc[tochange[0:num_E],'State'] = 'E'\n",
        "  df.loc[tochange[num_E:num_I+num_E],'State'] = 'I'\n",
        "  df.loc[tochange[num_E+num_I:num_E+num_I+num_R],'State'] = 'R'\n",
        "  return df"
      ],
      "execution_count": 0,
      "outputs": []
    },
    {
      "cell_type": "code",
      "metadata": {
        "id": "9lcgRxQTb0Gg",
        "colab_type": "code",
        "colab": {}
      },
      "source": [
        "#collapse_hide\n",
        "def seir_model_stoch(beta, p, num_E, num_I, num_R, days):\n",
        "\n",
        "    # Initialize population dataframe with data given by user\n",
        "    df = make_df(p,num_E, num_I, num_R)\n",
        "    \n",
        "    # This variable is used to track daily value of beta if it varies over time\n",
        "    xxbeta=np.array([],dtype=float)\n",
        "\n",
        "    # Initialize the arrays to return\n",
        "    # Below are numbers of S, E, I, R total\n",
        "    S=np.array([],dtype=int)\n",
        "    E=np.array([],dtype=int)\n",
        "    I=np.array([],dtype=int)\n",
        "    R=np.array([],dtype=int)\n",
        "    # Below are the daily additions in S, E, I, R\n",
        "    Spd=np.array([],dtype=int)\n",
        "    Epd=np.array([],dtype=int)\n",
        "    Ipd=np.array([],dtype=int)\n",
        "    Rpd=np.array([],dtype=int)\n",
        "\n",
        "    b=beta\n",
        "    \n",
        "    # Stochastic model so use random values to decide on progression\n",
        "    rand = np.random.random(size=(p,days))\n",
        "\n",
        "    # Depending if you want exponential or gamma distribution for T_Latent\n",
        "    EtoI = gamma.rvs(1.8,loc=0.9,scale=(5.2-1.8)/0.9,size=p)\n",
        "\n",
        "    # Depending if you want exponential, gamma, or Weibull distribution for T_Infectious\n",
        "    # Uses distributions found on blog part 3\n",
        "    ItoR = weibull_min.rvs(2.3, loc=2, scale=20.11, size=p)\n",
        "\n",
        "    # Iterate over every day the simulation is run\n",
        "    for j in range(0,days-1):\n",
        "\n",
        "        # Record daily beta values\n",
        "        xxbeta=np.append(beta, b)\n",
        "\n",
        "        # First we get the index of the individuals that will change state today:\n",
        "\n",
        "        # Random number tells you which 'S' have been exposed on this day \n",
        "        StoE_index = df.loc[(df.State == 'S') & (rand[:,j] < b[j]*len(np.where(df.State=='I')[0])/p)].index\n",
        "\n",
        "        # For each row, if a person has been a certain number of days in E, they will go to I\n",
        "        # This follows EtoI variable which is either exponential or gamma distributed according to above\n",
        "        EtoI_index = df.loc[(df.State == 'E') & (j-df.Day >= EtoI)].index\n",
        "        \n",
        "        # Similaraly as above\n",
        "        # For each row, if a person has been a certain number of days in I, they will go to R\n",
        "        # This follows EtoI variable which is either exponential or gamma distributed according to above\n",
        "        ItoR_index = df.loc[(df.State == 'I') & (j-df.Day >= ItoR)].index\n",
        "\n",
        "        # Use indexes collected above to populate per day values\n",
        "        Epd = np.append(Epd,len(StoE_index))\n",
        "        Ipd = np.append(Ipd,len(EtoI_index))\n",
        "        Rpd = np.append(Rpd,len(ItoR_index))\n",
        "\n",
        "        # Now we use the indexes collected above randomly to change the actual population dataframe to the new states\n",
        "        df.loc[ItoR_index, 'State'] = 'R'\n",
        "        df.loc[EtoI_index, 'State'] = 'I'\n",
        "        df.loc[StoE_index, 'State'] = 'E'\n",
        "        df.loc[ItoR_index, 'Day'] = j\n",
        "        df.loc[EtoI_index, 'Day'] = j\n",
        "        df.loc[StoE_index, 'Day'] = j\n",
        "        df.loc[ItoR_index, 'DayR'] = j\n",
        "        df.loc[EtoI_index, 'DayI'] = j\n",
        "        df.loc[StoE_index, 'DayE'] = j\n",
        "        \n",
        "        # Append the S, E, I, and R arrays\n",
        "        S=np.append(S,len(np.where(df.State=='S')[0]))\n",
        "        E=np.append(E,len(np.where(df.State=='E')[0]))\n",
        "        I=np.append(I,len(np.where(df.State=='I')[0]))\n",
        "        R=np.append(R,len(np.where(df.State=='R')[0]))\n",
        "\n",
        "        # Code below for control measures to reduce beta values\n",
        "#        if ((I[-1] > 1000) & (Ipd[-1] > 399)): \n",
        "#            b = beta2\n",
        "#        elif ((I[-1] > 1000) & (Ipd[-1] < 400)): \n",
        "#            b = beta3\n",
        "                \n",
        "    Epd[0]+=num_E\n",
        "    Ipd[0]+=num_I\n",
        "    Rpd[0]+=num_R\n",
        "\n",
        "    return S,E,I,R, Epd, Ipd, Rpd, xxbeta, df"
      ],
      "execution_count": 0,
      "outputs": []
    },
    {
      "cell_type": "markdown",
      "metadata": {
        "id": "BPKgWnCvBk9p",
        "colab_type": "text"
      },
      "source": [
        "## Motivation for write-up"
      ]
    },
    {
      "cell_type": "markdown",
      "metadata": {
        "id": "QxlznadEpqsF",
        "colab_type": "text"
      },
      "source": [
        "This is the 7th part of a multi-part series blog post on modeling in epidemiology.\n",
        "\n",
        "The COVID-19 pandemic has brought a lot of attention to the study of epidemiology and more specifically to the various mathematical models that are used to inform public health policies. Everyone has been trying to understand the growth or slowing of new cases and trying to predict the necessary sanitary resources. This blog post attempts to explain the foundations for some of the most used models and enlighten the reader on two key points.\n",
        "\n",
        "Although we have seen the SEIR model in the first few log posts, we have not compared this to actual real-world data. \n",
        "\n",
        "The goal of this 7th installment is to see how we can estimate the various parameters from the various data we have. "
      ]
    },
    {
      "cell_type": "markdown",
      "metadata": {
        "id": "Gzkik6L_Zax_",
        "colab_type": "text"
      },
      "source": [
        "## Available data"
      ]
    },
    {
      "cell_type": "markdown",
      "metadata": {
        "id": "XbGh2QyEZdDB",
        "colab_type": "text"
      },
      "source": [
        "If you look at the the COVID-19 trackers around the web, or even [mine](https://sars-cov-2-world-tracker.herokuapp.com/), you can get a sense of what data is available for study.\n",
        "\n",
        "Generally speaking we have the following:\n",
        "* Total number of positive individuals\n",
        "* Daily number of newly diagnosed individuals\n",
        "* Daily number of recovered individuals\n",
        "* Daily number of deaths\n",
        "\n",
        "Research has also shown some vague numbers on both $T_{Latent}$ and $T_{Infectious}$.\n",
        "\n",
        "**About the data:**\n",
        "\n",
        "* We don't have data for exposure\n",
        "* The data for some regions can be very sparse"
      ]
    },
    {
      "cell_type": "markdown",
      "metadata": {
        "id": "IboOLqTR0s8y",
        "colab_type": "text"
      },
      "source": [
        "## Convolution"
      ]
    },
    {
      "cell_type": "markdown",
      "metadata": {
        "id": "T8N3qLjscMG2",
        "colab_type": "text"
      },
      "source": [
        "### Convolution to get $I_{pd}$\n",
        "\n",
        "We have seen that daily new infectious individuals is given by:\n",
        "\n",
        "$$I_{pd}[j] = \\sum_{n_L=0}^{M_L-1}h_L[n_L]~E_{pd}[j-n_L]= h_L[j]\\circledast E_{pd}[j]$$\n",
        "\n",
        "Where $h_L[j]$ describes the distribution of $T_{Latent}$."
      ]
    },
    {
      "cell_type": "markdown",
      "metadata": {
        "id": "iyspnE7zc2B0",
        "colab_type": "text"
      },
      "source": [
        "### Convolution to get $R_{pd}$\n",
        "\n",
        "Similarly, we have seen that daily new recovered individuals (deaths + recoveries in fact) is given by:\n",
        "\n",
        "$$R_{pd}[j] = \\sum_{n_I=0}^{M_I-1}h_I[n_I]~I_{pd}[j-n_I]= h_I[j]\\circledast I_{pd}[j]$$\n",
        "\n",
        "Where $h_I[j]$ describes the distribution of $T_{Infectious}$. "
      ]
    },
    {
      "cell_type": "markdown",
      "metadata": {
        "id": "OAyJa0j0efUg",
        "colab_type": "text"
      },
      "source": [
        "## Finding $h_L[j]$ and $h_I[j]$"
      ]
    },
    {
      "cell_type": "markdown",
      "metadata": {
        "id": "Wf1_bnX_em4e",
        "colab_type": "text"
      },
      "source": [
        "* $h_L[j]$ is simply the probability of an individual having a latent period of j days\n",
        "* $h_I[j]$ is similarly the probability of an individual having an infectious period of j days  "
      ]
    },
    {
      "cell_type": "code",
      "metadata": {
        "id": "fO0E1kDQfEBV",
        "colab_type": "code",
        "colab": {}
      },
      "source": [
        "#collapse_show\n",
        "days = np.arange(100)\n",
        "cdf = pd.DataFrame({\n",
        "    'T_Latent': gamma.cdf(days, 1.8,loc=0.9,scale=(5.2-1.8)/0.9), \n",
        "    'T_Infectious': weibull_min.cdf(days, 2.3,loc=2,scale=20.11)\n",
        "    })\n",
        "h_L = cdf.diff().T_Latent\n",
        "h_I = cdf.diff().T_Infectious\n",
        "h_L[0] = 0\n",
        "h_I[0] = 0"
      ],
      "execution_count": 0,
      "outputs": []
    },
    {
      "cell_type": "markdown",
      "metadata": {
        "id": "tKZGUL9MdIn8",
        "colab_type": "text"
      },
      "source": [
        "## Convolution in practice"
      ]
    },
    {
      "cell_type": "markdown",
      "metadata": {
        "id": "pPRq5juvp_qr",
        "colab_type": "text"
      },
      "source": [
        "### Comparing $I_{pd}$ from the model to $I_{pd}$ obtained by convolving $R_{pd}$"
      ]
    },
    {
      "cell_type": "markdown",
      "metadata": {
        "id": "rNeyU1jDh_IN",
        "colab_type": "text"
      },
      "source": [
        "First run the SEIR model to obtain the actual $I_{pd}$:"
      ]
    },
    {
      "cell_type": "code",
      "metadata": {
        "id": "955FQjYUcLe_",
        "colab_type": "code",
        "colab": {}
      },
      "source": [
        "#collapse_hide\n",
        "# Define parameters for stochastic model\n",
        "days = 300\n",
        "p = 10000\n",
        "num_E = 1\n",
        "num_I = 0\n",
        "num_R = 0\n",
        "beta_stoch = 0.5*np.ones(days)\n",
        "\n",
        "# Run 2 stochastic simulations\n",
        "results_stoch0 = seir_model_stoch(beta_stoch, p, num_E, num_I, num_R, days)"
      ],
      "execution_count": 0,
      "outputs": []
    },
    {
      "cell_type": "markdown",
      "metadata": {
        "id": "7OTYey__iFxp",
        "colab_type": "text"
      },
      "source": [
        "Now obtain $h_L[j]\\circledast E_{pd}[j]$:"
      ]
    },
    {
      "cell_type": "code",
      "metadata": {
        "id": "ibr7s53HwUSQ",
        "colab_type": "code",
        "colab": {}
      },
      "source": [
        "#collapse_hide\n",
        "Ipd=signal.fftconvolve(h_L, results_stoch0[4], mode='full')"
      ],
      "execution_count": 0,
      "outputs": []
    },
    {
      "cell_type": "code",
      "metadata": {
        "id": "mrdTlZrrcLVB",
        "colab_type": "code",
        "colab": {
          "base_uri": "https://localhost:8080/",
          "height": 542
        },
        "outputId": "af07cb1b-6436-43ff-8ed3-664ab7e9ddf3"
      },
      "source": [
        "#collapse_hide\n",
        "fig = go.Figure(data=[    \n",
        "    go.Scatter(name='Ipd_Actual', x=np.arange(len(results_stoch0[5])), y=results_stoch0[5]),\n",
        "    go.Scatter(name='Ipd_convolved', x=np.arange(len(Ipd)), y=Ipd)\n",
        "])\n",
        "\n",
        "fig.update_layout(\n",
        "    xaxis_title = 'Day',\n",
        "    yaxis_title = 'Count',\n",
        "    title={\n",
        "        'text':r'$\\text{Actual } I_{pd} \\text{ vs. } h_L[j]\\circledast E_{pd}[j]$',\n",
        "        'x':0.5,\n",
        "        'xanchor':'center'\n",
        "    }\n",
        ")\n",
        "\n",
        "fig.show()"
      ],
      "execution_count": 207,
      "outputs": [
        {
          "output_type": "display_data",
          "data": {
            "text/html": [
              "<html>\n",
              "<head><meta charset=\"utf-8\" /></head>\n",
              "<body>\n",
              "    <div>\n",
              "            <script src=\"https://cdnjs.cloudflare.com/ajax/libs/mathjax/2.7.5/MathJax.js?config=TeX-AMS-MML_SVG\"></script><script type=\"text/javascript\">if (window.MathJax) {MathJax.Hub.Config({SVG: {font: \"STIX-Web\"}});}</script>\n",
              "                <script type=\"text/javascript\">window.PlotlyConfig = {MathJaxConfig: 'local'};</script>\n",
              "        <script src=\"https://cdn.plot.ly/plotly-latest.min.js\"></script>    \n",
              "            <div id=\"1e471b8f-3cad-4206-8474-94913abb4978\" class=\"plotly-graph-div\" style=\"height:525px; width:100%;\"></div>\n",
              "            <script type=\"text/javascript\">\n",
              "                \n",
              "                    window.PLOTLYENV=window.PLOTLYENV || {};\n",
              "                    \n",
              "                if (document.getElementById(\"1e471b8f-3cad-4206-8474-94913abb4978\")) {\n",
              "                    Plotly.newPlot(\n",
              "                        '1e471b8f-3cad-4206-8474-94913abb4978',\n",
              "                        [{\"name\": \"Ipd_Actual\", \"type\": \"scatter\", \"x\": [0, 1, 2, 3, 4, 5, 6, 7, 8, 9, 10, 11, 12, 13, 14, 15, 16, 17, 18, 19, 20, 21, 22, 23, 24, 25, 26, 27, 28, 29, 30, 31, 32, 33, 34, 35, 36, 37, 38, 39, 40, 41, 42, 43, 44, 45, 46, 47, 48, 49, 50, 51, 52, 53, 54, 55, 56, 57, 58, 59, 60, 61, 62, 63, 64, 65, 66, 67, 68, 69, 70, 71, 72, 73, 74, 75, 76, 77, 78, 79, 80, 81, 82, 83, 84, 85, 86, 87, 88, 89, 90, 91, 92, 93, 94, 95, 96, 97, 98, 99, 100, 101, 102, 103, 104, 105, 106, 107, 108, 109, 110, 111, 112, 113, 114, 115, 116, 117, 118, 119, 120, 121, 122, 123, 124, 125, 126, 127, 128, 129, 130, 131, 132, 133, 134, 135, 136, 137, 138, 139, 140, 141, 142, 143, 144, 145, 146, 147, 148, 149, 150, 151, 152, 153, 154, 155, 156, 157, 158, 159, 160, 161, 162, 163, 164, 165, 166, 167, 168, 169, 170, 171, 172, 173, 174, 175, 176, 177, 178, 179, 180, 181, 182, 183, 184, 185, 186, 187, 188, 189, 190, 191, 192, 193, 194, 195, 196, 197, 198, 199, 200, 201, 202, 203, 204, 205, 206, 207, 208, 209, 210, 211, 212, 213, 214, 215, 216, 217, 218, 219, 220, 221, 222, 223, 224, 225, 226, 227, 228, 229, 230, 231, 232, 233, 234, 235, 236, 237, 238, 239, 240, 241, 242, 243, 244, 245, 246, 247, 248, 249, 250, 251, 252, 253, 254, 255, 256, 257, 258, 259, 260, 261, 262, 263, 264, 265, 266, 267, 268, 269, 270, 271, 272, 273, 274, 275, 276, 277, 278, 279, 280, 281, 282, 283, 284, 285, 286, 287, 288, 289, 290, 291, 292, 293, 294, 295, 296, 297, 298], \"y\": [0, 0, 0, 0, 0, 0, 1, 0, 0, 0, 0, 0, 0, 0, 0, 0, 0, 1, 0, 0, 1, 1, 0, 0, 1, 1, 2, 1, 0, 2, 2, 4, 4, 3, 5, 5, 6, 5, 3, 6, 10, 14, 15, 9, 11, 19, 19, 20, 28, 26, 37, 56, 57, 52, 65, 75, 84, 97, 120, 121, 157, 172, 171, 242, 251, 284, 299, 292, 330, 355, 371, 413, 433, 428, 443, 446, 387, 398, 391, 362, 323, 290, 256, 225, 210, 198, 148, 126, 94, 99, 77, 54, 66, 43, 31, 26, 21, 18, 14, 10, 11, 17, 6, 3, 7, 2, 2, 1, 1, 1, 0, 1, 1, 1, 0, 2, 0, 0, 0, 1, 0, 0, 0, 0, 0, 0, 0, 0, 0, 0, 0, 0, 0, 0, 0, 0, 0, 0, 0, 0, 0, 0, 0, 0, 0, 0, 0, 0, 0, 0, 0, 0, 0, 0, 0, 0, 0, 0, 0, 0, 0, 0, 0, 0, 0, 0, 0, 0, 0, 0, 0, 0, 0, 0, 0, 0, 0, 0, 0, 0, 0, 0, 0, 0, 0, 0, 0, 0, 0, 0, 0, 0, 0, 0, 0, 0, 0, 0, 0, 0, 0, 0, 0, 0, 0, 0, 0, 0, 0, 0, 0, 0, 0, 0, 0, 0, 0, 0, 0, 0, 0, 0, 0, 0, 0, 0, 0, 0, 0, 0, 0, 0, 0, 0, 0, 0, 0, 0, 0, 0, 0, 0, 0, 0, 0, 0, 0, 0, 0, 0, 0, 0, 0, 0, 0, 0, 0, 0, 0, 0, 0, 0, 0, 0, 0, 0, 0, 0, 0, 0, 0, 0, 0, 0, 0, 0, 0, 0, 0, 0, 0, 0, 0, 0, 0, 0, 0, 0, 0, 0, 0, 0, 0, 0, 0, 0, 0, 0, 0]}, {\"name\": \"Ipd_convolved\", \"type\": \"scatter\", \"x\": [0, 1, 2, 3, 4, 5, 6, 7, 8, 9, 10, 11, 12, 13, 14, 15, 16, 17, 18, 19, 20, 21, 22, 23, 24, 25, 26, 27, 28, 29, 30, 31, 32, 33, 34, 35, 36, 37, 38, 39, 40, 41, 42, 43, 44, 45, 46, 47, 48, 49, 50, 51, 52, 53, 54, 55, 56, 57, 58, 59, 60, 61, 62, 63, 64, 65, 66, 67, 68, 69, 70, 71, 72, 73, 74, 75, 76, 77, 78, 79, 80, 81, 82, 83, 84, 85, 86, 87, 88, 89, 90, 91, 92, 93, 94, 95, 96, 97, 98, 99, 100, 101, 102, 103, 104, 105, 106, 107, 108, 109, 110, 111, 112, 113, 114, 115, 116, 117, 118, 119, 120, 121, 122, 123, 124, 125, 126, 127, 128, 129, 130, 131, 132, 133, 134, 135, 136, 137, 138, 139, 140, 141, 142, 143, 144, 145, 146, 147, 148, 149, 150, 151, 152, 153, 154, 155, 156, 157, 158, 159, 160, 161, 162, 163, 164, 165, 166, 167, 168, 169, 170, 171, 172, 173, 174, 175, 176, 177, 178, 179, 180, 181, 182, 183, 184, 185, 186, 187, 188, 189, 190, 191, 192, 193, 194, 195, 196, 197, 198, 199, 200, 201, 202, 203, 204, 205, 206, 207, 208, 209, 210, 211, 212, 213, 214, 215, 216, 217, 218, 219, 220, 221, 222, 223, 224, 225, 226, 227, 228, 229, 230, 231, 232, 233, 234, 235, 236, 237, 238, 239, 240, 241, 242, 243, 244, 245, 246, 247, 248, 249, 250, 251, 252, 253, 254, 255, 256, 257, 258, 259, 260, 261, 262, 263, 264, 265, 266, 267, 268, 269, 270, 271, 272, 273, 274, 275, 276, 277, 278, 279, 280, 281, 282, 283, 284, 285, 286, 287, 288, 289, 290, 291, 292, 293, 294, 295, 296, 297, 298, 299, 300, 301, 302, 303, 304, 305, 306, 307, 308, 309, 310, 311, 312, 313, 314, 315, 316, 317, 318, 319, 320, 321, 322, 323, 324, 325, 326, 327, 328, 329, 330, 331, 332, 333, 334, 335, 336, 337, 338, 339, 340, 341, 342, 343, 344, 345, 346, 347, 348, 349, 350, 351, 352, 353, 354, 355, 356, 357, 358, 359, 360, 361, 362, 363, 364, 365, 366, 367, 368, 369, 370, 371, 372, 373, 374, 375, 376, 377, 378, 379, 380, 381, 382, 383, 384, 385, 386, 387, 388, 389, 390, 391, 392, 393, 394, 395, 396, 397], \"y\": [0.0, 0.0008495563537690033, 0.052966466707075596, 0.09257352340366197, 0.10539096045268707, 0.10518156295289373, 0.09833228653295009, 0.08839412186486698, 0.07740726398852985, 0.06652833485104111, 0.05637969229655027, 0.04725865131878436, 0.03926718580130682, 0.03324305165900342, 0.07952984494552993, 0.11424582451328434, 0.12299598217117363, 0.12027830223473303, 0.16279051145018855, 0.1919089978222081, 0.2978440821058871, 0.4695727519509566, 0.6100450807054608, 0.7607806128364059, 0.9248779485861404, 1.0835053084315183, 1.22784732953416, 1.3077178711554955, 1.5879527322114921, 1.8310279633237696, 2.12130643470515, 2.4699504552842666, 2.719529166740056, 2.974075037454644, 3.3558627154705807, 3.9588585633157187, 4.480291661544275, 5.221371961705968, 6.358031304336223, 7.928914342933151, 9.233705931181913, 10.416917220608452, 11.307454910492211, 12.579866365925342, 14.69885854116064, 17.259113610531042, 20.12553319192048, 23.36556923424124, 27.404873496110238, 32.11809944181009, 36.96882962651653, 43.11576932118983, 50.18258254742571, 58.205091010645546, 67.4170794921178, 77.44606917692485, 89.18842892040546, 102.23194524593747, 116.55606973196849, 133.38347800796925, 152.60621662655748, 172.8152569081776, 192.64624926580427, 213.6463523317928, 236.388859637093, 260.543010730416, 285.5793865010275, 312.0785052427133, 337.6320319196358, 363.57923233319076, 387.15277525955975, 406.65658510629186, 422.3630124281664, 433.2349105799679, 437.36752015596954, 433.5368887907811, 421.99063486586954, 404.64998061000296, 383.7660837651101, 358.8260145664439, 329.91316155017745, 298.18081036514735, 266.09841304693197, 234.47758679722074, 204.53922635903865, 176.40033227878405, 150.34699223525914, 126.97990220025841, 106.63033232936088, 88.98535391303176, 73.76229133466232, 60.76617861992209, 49.80965900556427, 40.62199369255099, 33.026645573444604, 26.75552574161614, 21.64509434198836, 17.463297645256592, 14.041697114034182, 11.259046903956014, 9.006032276828282, 7.188480640686048, 5.726781452316152, 4.554445953947909, 3.6164378949157707, 2.867518990333909, 2.2707164393246475, 1.7959567390422182, 1.4188775668557088, 1.1198124409513321, 0.8829342994529512, 0.6963899867602578, 0.6004267354218193, 0.5231417413940107, 0.44377606739256203, 0.3709352631363102, 0.3069078671037039, 0.2519926747448229, 0.2056526671638833, 0.16700468486393016, 0.13505852205505692, 0.10883803063108766, 0.0874405120256744, 0.07006228389962509, 0.05600552424922184, 0.044674986166025936, 0.03556958948028593, 0.028271818140922066, 0.022436609191671827, 0.017780671310408284, 0.01407271007019324, 0.011124765137598018, 0.00878470222086333, 0.006929811011537068, 0.005461414633216017, 0.004300374535016378, 0.0033833734726175352, 0.0026598602505837725, 0.0020895536613926174, 0.0016404111379450938, 0.0012869849013340347, 0.001009093052321041, 0.0007907519405994076, 0.0006193181427065481, 0.00048480136079277265, 0.00037931624130634864, 0.0002966447435347474, 0.0002318884333358242, 0.00018119144095881407, 0.00014152036016155324, 0.00011049212990638435, 8.623435088070261e-05, 6.727769639761091e-05, 5.246979079185715e-05, 4.090666771951092e-05, 3.188094677881245e-05, 2.4838049568157947e-05, 1.9343779179984332e-05, 1.5059145649226752e-05, 1.1719072999078288e-05, 9.11619433281885e-06, 7.087565259098483e-06, 5.507046948878269e-06, 4.2759116604429435e-06, 3.3171477389259965e-06, 2.5702279617689785e-06, 1.989348415918357e-06, 1.5365185208793264e-06, 1.1849846805489506e-06, 9.11886627363856e-07, 6.996719025664788e-07, 5.353360882054403e-07, 4.086453725449246e-07, 3.113469023219295e-07, 2.3675079205531801e-07, 1.794034045587978e-07, 1.3526225814075588e-07, 1.020980357679946e-07, 7.720782946307736e-08, 5.856371501522517e-08, 4.423246267037939e-08, 3.35912241666847e-08, 2.540268404516155e-08, 1.9405361371127582e-08, 1.489376693086797e-08, 1.141016500838532e-08, 8.688958184066565e-09, 6.667203518162524e-09, 5.134454488242568e-09, 3.9632450921089915e-09, 3.0547618834475544e-09, 2.3680141758575246e-09, 1.8175751748117363e-09, 1.4086493571596747e-09, 1.073725055533714e-09, 8.319676148005328e-10, 6.44590443243942e-10, 4.993428959210178e-10, 3.867976694493791e-10, 2.995889536450136e-10, 2.320379000053663e-10, 1.7967044740885285e-10, 1.3913221685868394e-10, 1.0770645930691103e-10, 8.339194668138816e-11, 6.454643153297469e-11, 4.998606639716741e-11, 3.865101350086775e-11, 2.992940895119034e-11, 2.314816116566476e-11, 2.1662671656486055e-14, -6.226130722097878e-15, 8.844036614163997e-15, -1.0130785099704553e-15, 1.2352202594101414e-14, -8.840428389333965e-15, 1.3966744427662547e-14, -1.5612580672730304e-14, -1.4739459652801655e-14, -5.4004717364719565e-15, -2.9023450309750844e-14, -2.6677410280839808e-14, -2.3261878534519552e-14, -4.4419433409270683e-14, -1.446320493925235e-14, -2.89142494669381e-14, -7.019506503835871e-15, -5.448013568054577e-14, 1.2307863062055446e-14, -4.965093006875643e-14, -1.6417422976644502e-16, -6.20007582601001e-14, 3.5433288247954667e-15, -2.0361043580330308e-14, -3.1205566559597274e-14, -4.55468106806689e-14, -5.0506257162630245e-15, -1.58941002720292e-15, -1.3535927478706967e-14, -2.84977255552224e-14, -2.7284841053187846e-14, -4.547473508864641e-15, 1.3642420526593923e-14, -9.094947017729283e-15, -9.094947017729283e-15, 0.0, -1.3642420526593923e-14, -9.094947017729283e-15, 4.547473508864641e-15, 1.8189894035458565e-14, 1.1368683772161604e-14, 1.7053025658242404e-14, 3.4106051316484808e-15, 1.7621459846850484e-14, -1.0231815394945442e-14, -2.1032064978498965e-14, -1.6484591469634323e-14, 6.8212102632969615e-15, -1.1368683772161603e-15, -2.842170943040401e-15, 2.415845301584341e-15, -2.842170943040401e-16, -6.608047442568932e-15, -2.6005864128819668e-14, 1.6981971384666395e-14, 2.533084852984757e-14, 2.1396218130576017e-14, 2.3430146711689303e-14, 5.32018873400375e-15, 3.9790393202565614e-15, 3.1867841698840496e-14, 1.7355006320940446e-14, 3.1974423109204507e-16, 2.2364332608049153e-14, 1.3020695632803836e-14, 1.554312234475219e-14, 5.4001247917767615e-15, 2.1991297671775102e-14, 2.2932766796657234e-14, -1.3904433160405462e-14, -3.461231301571388e-14, 1.6431300764452317e-14, -2.3296919948734285e-14, 2.546185484675334e-14, -2.084110661826344e-14, 1.2913003999415196e-14, -1.2743139876647547e-14, 7.058797990566745e-15, -7.033262861000367e-15, 5.3002047195604975e-15, -4.60964599824365e-15, 6.226130722097878e-15, -1.1117773368596318e-14, 1.4655499036564378e-14, -7.804729085236772e-15, 2.0192181260370035e-15, -1.8514217936527187e-14, -2.0767207398186826e-14, -3.4504343826569083e-15, 5.4004717364719565e-15, -1.1903811270030928e-14, -6.074307723480388e-16, 5.071984499060989e-15, -1.0150248697105014e-14, -1.2821636113935497e-14, -2.5655432639437593e-14, 2.5209400539294435e-14, -8.954642582992279e-17, 2.4071925008861684e-14, -4.1298540108536396e-14, 1.835406826522501e-14, -2.8948711917192726e-14, -2.1733222860254032e-14, -1.6018744490586822e-14, 1.301567252413871e-14, -2.7212765461165355e-14, 5.0506257162630245e-15, -3.4790378043714213e-14, -4.6539665567515986e-15, -2.6071956551153298e-14, 0.0, -1.8189894035458565e-14, 3.637978807091713e-14, 0.0, 0.0, -1.8189894035458565e-14, 9.094947017729283e-15, -9.094947017729283e-15, 1.8189894035458565e-14, -2.7284841053187846e-14, 3.183231456205249e-14, 2.2737367544323207e-14, -9.094947017729283e-15, -2.7284841053187846e-14, 2.7284841053187846e-14, -2.2737367544323206e-15, 1.5916157281026246e-14, 6.8212102632969615e-15, 2.2737367544323207e-14, -1.1368683772161603e-15, 1.1937117960769683e-14, 1.7053025658242404e-15, 1.9326762412674726e-14, 1.9326762412674726e-14, 3.268496584496461e-14, 8.526512829121202e-15, 2.8279600883251987e-14, 2.3447910280083308e-14, 2.4442670110147446e-14, 4.263256414560601e-15, 5.009326287108706e-14, 1.5418777365994174e-14, 1.6626700016786343e-14, 5.3645976549887564e-15, 3.275602011854062e-14, 6.643574579356937e-15, -3.375077994860476e-15, 6.608047442568932e-15, 2.2968293933445238e-14, -7.638334409421077e-15, 2.0303758674344862e-14, -6.8833827526759706e-15, 1.4850343177386093e-14, 2.486899575160351e-15, 1.3509193763638906e-14, -9.063860773039778e-15, 2.886579864025407e-14, -1.3429257705865894e-14, -3.68816088780477e-15, -1.851852005074761e-15, 1.102562485755243e-14, -1.0089706847793422e-14, -1.7173484856414234e-14, -2.289279876777073e-14, -1.5469847625126932e-14, -2.02965422246848e-14, -2.896183293188415e-14, 3.598787934322445e-15, 1.5372980666228386e-14, -3.538280779480374e-15, 1.0077910728156781e-14, 4.583763923982076e-15, 2.229584572521759e-14, 1.9567125697506072e-14, 6.1105981385978225e-15, -5.614606002346534e-16, 4.0850725580021674e-14, 4.560761490690624e-16, 1.1182547943189292e-14, 3.212773797001134e-14, -8.918430230431262e-15, 1.1779717826176928e-14, 3.7146757024542064e-14, 3.39959744383167e-14, 2.6219451956799312e-14, 2.927472283684174e-14, 7.761339314293903e-15, -1.230006981683962e-14]}],\n",
              "                        {\"template\": {\"data\": {\"bar\": [{\"error_x\": {\"color\": \"#2a3f5f\"}, \"error_y\": {\"color\": \"#2a3f5f\"}, \"marker\": {\"line\": {\"color\": \"#E5ECF6\", \"width\": 0.5}}, \"type\": \"bar\"}], \"barpolar\": [{\"marker\": {\"line\": {\"color\": \"#E5ECF6\", \"width\": 0.5}}, \"type\": \"barpolar\"}], \"carpet\": [{\"aaxis\": {\"endlinecolor\": \"#2a3f5f\", \"gridcolor\": \"white\", \"linecolor\": \"white\", \"minorgridcolor\": \"white\", \"startlinecolor\": \"#2a3f5f\"}, \"baxis\": {\"endlinecolor\": \"#2a3f5f\", \"gridcolor\": \"white\", \"linecolor\": \"white\", \"minorgridcolor\": \"white\", \"startlinecolor\": \"#2a3f5f\"}, \"type\": \"carpet\"}], \"choropleth\": [{\"colorbar\": {\"outlinewidth\": 0, \"ticks\": \"\"}, \"type\": \"choropleth\"}], \"contour\": [{\"colorbar\": {\"outlinewidth\": 0, \"ticks\": \"\"}, \"colorscale\": [[0.0, \"#0d0887\"], [0.1111111111111111, \"#46039f\"], [0.2222222222222222, \"#7201a8\"], [0.3333333333333333, \"#9c179e\"], [0.4444444444444444, \"#bd3786\"], [0.5555555555555556, \"#d8576b\"], [0.6666666666666666, \"#ed7953\"], [0.7777777777777778, \"#fb9f3a\"], [0.8888888888888888, \"#fdca26\"], [1.0, \"#f0f921\"]], \"type\": \"contour\"}], \"contourcarpet\": [{\"colorbar\": {\"outlinewidth\": 0, \"ticks\": \"\"}, \"type\": \"contourcarpet\"}], \"heatmap\": [{\"colorbar\": {\"outlinewidth\": 0, \"ticks\": \"\"}, \"colorscale\": [[0.0, \"#0d0887\"], [0.1111111111111111, \"#46039f\"], [0.2222222222222222, \"#7201a8\"], [0.3333333333333333, \"#9c179e\"], [0.4444444444444444, \"#bd3786\"], [0.5555555555555556, \"#d8576b\"], [0.6666666666666666, \"#ed7953\"], [0.7777777777777778, \"#fb9f3a\"], [0.8888888888888888, \"#fdca26\"], [1.0, \"#f0f921\"]], \"type\": \"heatmap\"}], \"heatmapgl\": [{\"colorbar\": {\"outlinewidth\": 0, \"ticks\": \"\"}, \"colorscale\": [[0.0, \"#0d0887\"], [0.1111111111111111, \"#46039f\"], [0.2222222222222222, \"#7201a8\"], [0.3333333333333333, \"#9c179e\"], [0.4444444444444444, \"#bd3786\"], [0.5555555555555556, \"#d8576b\"], [0.6666666666666666, \"#ed7953\"], [0.7777777777777778, \"#fb9f3a\"], [0.8888888888888888, \"#fdca26\"], [1.0, \"#f0f921\"]], \"type\": \"heatmapgl\"}], \"histogram\": [{\"marker\": {\"colorbar\": {\"outlinewidth\": 0, \"ticks\": \"\"}}, \"type\": \"histogram\"}], \"histogram2d\": [{\"colorbar\": {\"outlinewidth\": 0, \"ticks\": \"\"}, \"colorscale\": [[0.0, \"#0d0887\"], [0.1111111111111111, \"#46039f\"], [0.2222222222222222, \"#7201a8\"], [0.3333333333333333, \"#9c179e\"], [0.4444444444444444, \"#bd3786\"], [0.5555555555555556, \"#d8576b\"], [0.6666666666666666, \"#ed7953\"], [0.7777777777777778, \"#fb9f3a\"], [0.8888888888888888, \"#fdca26\"], [1.0, \"#f0f921\"]], \"type\": \"histogram2d\"}], \"histogram2dcontour\": [{\"colorbar\": {\"outlinewidth\": 0, \"ticks\": \"\"}, \"colorscale\": [[0.0, \"#0d0887\"], [0.1111111111111111, \"#46039f\"], [0.2222222222222222, \"#7201a8\"], [0.3333333333333333, \"#9c179e\"], [0.4444444444444444, \"#bd3786\"], [0.5555555555555556, \"#d8576b\"], [0.6666666666666666, \"#ed7953\"], [0.7777777777777778, \"#fb9f3a\"], [0.8888888888888888, \"#fdca26\"], [1.0, \"#f0f921\"]], \"type\": \"histogram2dcontour\"}], \"mesh3d\": [{\"colorbar\": {\"outlinewidth\": 0, \"ticks\": \"\"}, \"type\": \"mesh3d\"}], \"parcoords\": [{\"line\": {\"colorbar\": {\"outlinewidth\": 0, \"ticks\": \"\"}}, \"type\": \"parcoords\"}], \"pie\": [{\"automargin\": true, \"type\": \"pie\"}], \"scatter\": [{\"marker\": {\"colorbar\": {\"outlinewidth\": 0, \"ticks\": \"\"}}, \"type\": \"scatter\"}], \"scatter3d\": [{\"line\": {\"colorbar\": {\"outlinewidth\": 0, \"ticks\": \"\"}}, \"marker\": {\"colorbar\": {\"outlinewidth\": 0, \"ticks\": \"\"}}, \"type\": \"scatter3d\"}], \"scattercarpet\": [{\"marker\": {\"colorbar\": {\"outlinewidth\": 0, \"ticks\": \"\"}}, \"type\": \"scattercarpet\"}], \"scattergeo\": [{\"marker\": {\"colorbar\": {\"outlinewidth\": 0, \"ticks\": \"\"}}, \"type\": \"scattergeo\"}], \"scattergl\": [{\"marker\": {\"colorbar\": {\"outlinewidth\": 0, \"ticks\": \"\"}}, \"type\": \"scattergl\"}], \"scattermapbox\": [{\"marker\": {\"colorbar\": {\"outlinewidth\": 0, \"ticks\": \"\"}}, \"type\": \"scattermapbox\"}], \"scatterpolar\": [{\"marker\": {\"colorbar\": {\"outlinewidth\": 0, \"ticks\": \"\"}}, \"type\": \"scatterpolar\"}], \"scatterpolargl\": [{\"marker\": {\"colorbar\": {\"outlinewidth\": 0, \"ticks\": \"\"}}, \"type\": \"scatterpolargl\"}], \"scatterternary\": [{\"marker\": {\"colorbar\": {\"outlinewidth\": 0, \"ticks\": \"\"}}, \"type\": \"scatterternary\"}], \"surface\": [{\"colorbar\": {\"outlinewidth\": 0, \"ticks\": \"\"}, \"colorscale\": [[0.0, \"#0d0887\"], [0.1111111111111111, \"#46039f\"], [0.2222222222222222, \"#7201a8\"], [0.3333333333333333, \"#9c179e\"], [0.4444444444444444, \"#bd3786\"], [0.5555555555555556, \"#d8576b\"], [0.6666666666666666, \"#ed7953\"], [0.7777777777777778, \"#fb9f3a\"], [0.8888888888888888, \"#fdca26\"], [1.0, \"#f0f921\"]], \"type\": \"surface\"}], \"table\": [{\"cells\": {\"fill\": {\"color\": \"#EBF0F8\"}, \"line\": {\"color\": \"white\"}}, \"header\": {\"fill\": {\"color\": \"#C8D4E3\"}, \"line\": {\"color\": \"white\"}}, \"type\": \"table\"}]}, \"layout\": {\"annotationdefaults\": {\"arrowcolor\": \"#2a3f5f\", \"arrowhead\": 0, \"arrowwidth\": 1}, \"coloraxis\": {\"colorbar\": {\"outlinewidth\": 0, \"ticks\": \"\"}}, \"colorscale\": {\"diverging\": [[0, \"#8e0152\"], [0.1, \"#c51b7d\"], [0.2, \"#de77ae\"], [0.3, \"#f1b6da\"], [0.4, \"#fde0ef\"], [0.5, \"#f7f7f7\"], [0.6, \"#e6f5d0\"], [0.7, \"#b8e186\"], [0.8, \"#7fbc41\"], [0.9, \"#4d9221\"], [1, \"#276419\"]], \"sequential\": [[0.0, \"#0d0887\"], [0.1111111111111111, \"#46039f\"], [0.2222222222222222, \"#7201a8\"], [0.3333333333333333, \"#9c179e\"], [0.4444444444444444, \"#bd3786\"], [0.5555555555555556, \"#d8576b\"], [0.6666666666666666, \"#ed7953\"], [0.7777777777777778, \"#fb9f3a\"], [0.8888888888888888, \"#fdca26\"], [1.0, \"#f0f921\"]], \"sequentialminus\": [[0.0, \"#0d0887\"], [0.1111111111111111, \"#46039f\"], [0.2222222222222222, \"#7201a8\"], [0.3333333333333333, \"#9c179e\"], [0.4444444444444444, \"#bd3786\"], [0.5555555555555556, \"#d8576b\"], [0.6666666666666666, \"#ed7953\"], [0.7777777777777778, \"#fb9f3a\"], [0.8888888888888888, \"#fdca26\"], [1.0, \"#f0f921\"]]}, \"colorway\": [\"#636efa\", \"#EF553B\", \"#00cc96\", \"#ab63fa\", \"#FFA15A\", \"#19d3f3\", \"#FF6692\", \"#B6E880\", \"#FF97FF\", \"#FECB52\"], \"font\": {\"color\": \"#2a3f5f\"}, \"geo\": {\"bgcolor\": \"white\", \"lakecolor\": \"white\", \"landcolor\": \"#E5ECF6\", \"showlakes\": true, \"showland\": true, \"subunitcolor\": \"white\"}, \"hoverlabel\": {\"align\": \"left\"}, \"hovermode\": \"closest\", \"mapbox\": {\"style\": \"light\"}, \"paper_bgcolor\": \"white\", \"plot_bgcolor\": \"#E5ECF6\", \"polar\": {\"angularaxis\": {\"gridcolor\": \"white\", \"linecolor\": \"white\", \"ticks\": \"\"}, \"bgcolor\": \"#E5ECF6\", \"radialaxis\": {\"gridcolor\": \"white\", \"linecolor\": \"white\", \"ticks\": \"\"}}, \"scene\": {\"xaxis\": {\"backgroundcolor\": \"#E5ECF6\", \"gridcolor\": \"white\", \"gridwidth\": 2, \"linecolor\": \"white\", \"showbackground\": true, \"ticks\": \"\", \"zerolinecolor\": \"white\"}, \"yaxis\": {\"backgroundcolor\": \"#E5ECF6\", \"gridcolor\": \"white\", \"gridwidth\": 2, \"linecolor\": \"white\", \"showbackground\": true, \"ticks\": \"\", \"zerolinecolor\": \"white\"}, \"zaxis\": {\"backgroundcolor\": \"#E5ECF6\", \"gridcolor\": \"white\", \"gridwidth\": 2, \"linecolor\": \"white\", \"showbackground\": true, \"ticks\": \"\", \"zerolinecolor\": \"white\"}}, \"shapedefaults\": {\"line\": {\"color\": \"#2a3f5f\"}}, \"ternary\": {\"aaxis\": {\"gridcolor\": \"white\", \"linecolor\": \"white\", \"ticks\": \"\"}, \"baxis\": {\"gridcolor\": \"white\", \"linecolor\": \"white\", \"ticks\": \"\"}, \"bgcolor\": \"#E5ECF6\", \"caxis\": {\"gridcolor\": \"white\", \"linecolor\": \"white\", \"ticks\": \"\"}}, \"title\": {\"x\": 0.05}, \"xaxis\": {\"automargin\": true, \"gridcolor\": \"white\", \"linecolor\": \"white\", \"ticks\": \"\", \"title\": {\"standoff\": 15}, \"zerolinecolor\": \"white\", \"zerolinewidth\": 2}, \"yaxis\": {\"automargin\": true, \"gridcolor\": \"white\", \"linecolor\": \"white\", \"ticks\": \"\", \"title\": {\"standoff\": 15}, \"zerolinecolor\": \"white\", \"zerolinewidth\": 2}}}, \"title\": {\"text\": \"$\\\\text{Actual } I_{pd} \\\\text{ vs. } h_L[j]\\\\circledast E_{pd}[j]$\", \"x\": 0.5, \"xanchor\": \"center\"}, \"xaxis\": {\"title\": {\"text\": \"Day\"}}, \"yaxis\": {\"title\": {\"text\": \"Count\"}}},\n",
              "                        {\"responsive\": true}\n",
              "                    ).then(function(){\n",
              "                            \n",
              "var gd = document.getElementById('1e471b8f-3cad-4206-8474-94913abb4978');\n",
              "var x = new MutationObserver(function (mutations, observer) {{\n",
              "        var display = window.getComputedStyle(gd).display;\n",
              "        if (!display || display === 'none') {{\n",
              "            console.log([gd, 'removed!']);\n",
              "            Plotly.purge(gd);\n",
              "            observer.disconnect();\n",
              "        }}\n",
              "}});\n",
              "\n",
              "// Listen for the removal of the full notebook cells\n",
              "var notebookContainer = gd.closest('#notebook-container');\n",
              "if (notebookContainer) {{\n",
              "    x.observe(notebookContainer, {childList: true});\n",
              "}}\n",
              "\n",
              "// Listen for the clearing of the current output cell\n",
              "var outputEl = gd.closest('.output');\n",
              "if (outputEl) {{\n",
              "    x.observe(outputEl, {childList: true});\n",
              "}}\n",
              "\n",
              "                        })\n",
              "                };\n",
              "                \n",
              "            </script>\n",
              "        </div>\n",
              "</body>\n",
              "</html>"
            ]
          },
          "metadata": {
            "tags": []
          }
        }
      ]
    },
    {
      "cell_type": "markdown",
      "metadata": {
        "colab_type": "text",
        "id": "kZy3j1IepAFl"
      },
      "source": [
        "### Comparing $R_{pd}$ from the model to $R_{pd}$ obtained by convolving $I_{pd}$"
      ]
    },
    {
      "cell_type": "markdown",
      "metadata": {
        "colab_type": "text",
        "id": "ZfEWBw4-pAFn"
      },
      "source": [
        "We can use the actual $R_{pd}$ from the SEIR model above."
      ]
    },
    {
      "cell_type": "markdown",
      "metadata": {
        "colab_type": "text",
        "id": "khRU8NaWpAFs"
      },
      "source": [
        "Now obtain $h_I[j]\\circledast I_{pd}[j]$:"
      ]
    },
    {
      "cell_type": "code",
      "metadata": {
        "colab_type": "code",
        "id": "Kfz3a0RmpAFt",
        "colab": {}
      },
      "source": [
        "#collapse_hide\n",
        "Rpd=signal.fftconvolve(h_I, results_stoch0[5], mode='full')"
      ],
      "execution_count": 0,
      "outputs": []
    },
    {
      "cell_type": "code",
      "metadata": {
        "colab_type": "code",
        "outputId": "9bbba948-698b-4065-92ba-090271c9038f",
        "id": "6jlMLv6zpAFv",
        "colab": {
          "base_uri": "https://localhost:8080/",
          "height": 542
        }
      },
      "source": [
        "#collapse_hide\n",
        "fig = go.Figure(data=[    \n",
        "    go.Scatter(name='Rpd_Actual', x=np.arange(len(results_stoch0[6])), y=results_stoch0[6]),\n",
        "    go.Scatter(name='Rpd_convolved', x=np.arange(len(Rpd)), y=Rpd)\n",
        "])\n",
        "\n",
        "fig.update_layout(\n",
        "    xaxis_title = 'Day',\n",
        "    yaxis_title = 'Count',\n",
        "    title={\n",
        "        'text':r'$\\text{Actual } R_{pd} \\text{ vs. } h_I[j]\\circledast I_{pd}[j]$',\n",
        "        'x':0.5,\n",
        "        'xanchor':'center'\n",
        "    }\n",
        ")\n",
        "\n",
        "fig.show()"
      ],
      "execution_count": 209,
      "outputs": [
        {
          "output_type": "display_data",
          "data": {
            "text/html": [
              "<html>\n",
              "<head><meta charset=\"utf-8\" /></head>\n",
              "<body>\n",
              "    <div>\n",
              "            <script src=\"https://cdnjs.cloudflare.com/ajax/libs/mathjax/2.7.5/MathJax.js?config=TeX-AMS-MML_SVG\"></script><script type=\"text/javascript\">if (window.MathJax) {MathJax.Hub.Config({SVG: {font: \"STIX-Web\"}});}</script>\n",
              "                <script type=\"text/javascript\">window.PlotlyConfig = {MathJaxConfig: 'local'};</script>\n",
              "        <script src=\"https://cdn.plot.ly/plotly-latest.min.js\"></script>    \n",
              "            <div id=\"e7078015-cf43-4ab2-b3c7-1ced15bd50ec\" class=\"plotly-graph-div\" style=\"height:525px; width:100%;\"></div>\n",
              "            <script type=\"text/javascript\">\n",
              "                \n",
              "                    window.PLOTLYENV=window.PLOTLYENV || {};\n",
              "                    \n",
              "                if (document.getElementById(\"e7078015-cf43-4ab2-b3c7-1ced15bd50ec\")) {\n",
              "                    Plotly.newPlot(\n",
              "                        'e7078015-cf43-4ab2-b3c7-1ced15bd50ec',\n",
              "                        [{\"name\": \"Rpd_Actual\", \"type\": \"scatter\", \"x\": [0, 1, 2, 3, 4, 5, 6, 7, 8, 9, 10, 11, 12, 13, 14, 15, 16, 17, 18, 19, 20, 21, 22, 23, 24, 25, 26, 27, 28, 29, 30, 31, 32, 33, 34, 35, 36, 37, 38, 39, 40, 41, 42, 43, 44, 45, 46, 47, 48, 49, 50, 51, 52, 53, 54, 55, 56, 57, 58, 59, 60, 61, 62, 63, 64, 65, 66, 67, 68, 69, 70, 71, 72, 73, 74, 75, 76, 77, 78, 79, 80, 81, 82, 83, 84, 85, 86, 87, 88, 89, 90, 91, 92, 93, 94, 95, 96, 97, 98, 99, 100, 101, 102, 103, 104, 105, 106, 107, 108, 109, 110, 111, 112, 113, 114, 115, 116, 117, 118, 119, 120, 121, 122, 123, 124, 125, 126, 127, 128, 129, 130, 131, 132, 133, 134, 135, 136, 137, 138, 139, 140, 141, 142, 143, 144, 145, 146, 147, 148, 149, 150, 151, 152, 153, 154, 155, 156, 157, 158, 159, 160, 161, 162, 163, 164, 165, 166, 167, 168, 169, 170, 171, 172, 173, 174, 175, 176, 177, 178, 179, 180, 181, 182, 183, 184, 185, 186, 187, 188, 189, 190, 191, 192, 193, 194, 195, 196, 197, 198, 199, 200, 201, 202, 203, 204, 205, 206, 207, 208, 209, 210, 211, 212, 213, 214, 215, 216, 217, 218, 219, 220, 221, 222, 223, 224, 225, 226, 227, 228, 229, 230, 231, 232, 233, 234, 235, 236, 237, 238, 239, 240, 241, 242, 243, 244, 245, 246, 247, 248, 249, 250, 251, 252, 253, 254, 255, 256, 257, 258, 259, 260, 261, 262, 263, 264, 265, 266, 267, 268, 269, 270, 271, 272, 273, 274, 275, 276, 277, 278, 279, 280, 281, 282, 283, 284, 285, 286, 287, 288, 289, 290, 291, 292, 293, 294, 295, 296, 297, 298], \"y\": [0, 0, 0, 0, 0, 0, 0, 0, 0, 0, 0, 0, 0, 0, 0, 0, 0, 0, 0, 0, 0, 0, 0, 0, 1, 0, 0, 1, 0, 0, 0, 0, 1, 1, 0, 0, 0, 3, 0, 1, 1, 1, 0, 1, 0, 2, 3, 1, 3, 3, 4, 3, 1, 5, 6, 11, 9, 17, 11, 21, 16, 25, 22, 15, 19, 23, 34, 32, 43, 59, 61, 68, 87, 93, 106, 124, 111, 121, 169, 146, 167, 214, 215, 237, 240, 285, 283, 268, 281, 307, 335, 298, 355, 305, 275, 316, 322, 270, 264, 265, 276, 260, 242, 239, 197, 177, 171, 150, 148, 137, 113, 100, 101, 80, 85, 66, 71, 68, 54, 33, 43, 33, 26, 23, 31, 16, 7, 14, 13, 3, 9, 6, 4, 4, 1, 2, 3, 1, 1, 0, 3, 0, 0, 0, 1, 0, 0, 0, 0, 0, 0, 0, 1, 0, 0, 0, 0, 0, 0, 0, 0, 0, 0, 0, 0, 0, 0, 0, 0, 0, 0, 0, 0, 0, 0, 0, 0, 0, 0, 0, 0, 0, 0, 0, 0, 0, 0, 0, 0, 0, 0, 0, 0, 0, 0, 0, 0, 0, 0, 0, 0, 0, 0, 0, 0, 0, 0, 0, 0, 0, 0, 0, 0, 0, 0, 0, 0, 0, 0, 0, 0, 0, 0, 0, 0, 0, 0, 0, 0, 0, 0, 0, 0, 0, 0, 0, 0, 0, 0, 0, 0, 0, 0, 0, 0, 0, 0, 0, 0, 0, 0, 0, 0, 0, 0, 0, 0, 0, 0, 0, 0, 0, 0, 0, 0, 0, 0, 0, 0, 0, 0, 0, 0, 0, 0, 0, 0, 0, 0, 0, 0, 0, 0, 0, 0, 0, 0, 0, 0, 0, 0, 0, 0, 0, 0, 0, 0, 0, 0]}, {\"name\": \"Rpd_convolved\", \"type\": \"scatter\", \"x\": [0, 1, 2, 3, 4, 5, 6, 7, 8, 9, 10, 11, 12, 13, 14, 15, 16, 17, 18, 19, 20, 21, 22, 23, 24, 25, 26, 27, 28, 29, 30, 31, 32, 33, 34, 35, 36, 37, 38, 39, 40, 41, 42, 43, 44, 45, 46, 47, 48, 49, 50, 51, 52, 53, 54, 55, 56, 57, 58, 59, 60, 61, 62, 63, 64, 65, 66, 67, 68, 69, 70, 71, 72, 73, 74, 75, 76, 77, 78, 79, 80, 81, 82, 83, 84, 85, 86, 87, 88, 89, 90, 91, 92, 93, 94, 95, 96, 97, 98, 99, 100, 101, 102, 103, 104, 105, 106, 107, 108, 109, 110, 111, 112, 113, 114, 115, 116, 117, 118, 119, 120, 121, 122, 123, 124, 125, 126, 127, 128, 129, 130, 131, 132, 133, 134, 135, 136, 137, 138, 139, 140, 141, 142, 143, 144, 145, 146, 147, 148, 149, 150, 151, 152, 153, 154, 155, 156, 157, 158, 159, 160, 161, 162, 163, 164, 165, 166, 167, 168, 169, 170, 171, 172, 173, 174, 175, 176, 177, 178, 179, 180, 181, 182, 183, 184, 185, 186, 187, 188, 189, 190, 191, 192, 193, 194, 195, 196, 197, 198, 199, 200, 201, 202, 203, 204, 205, 206, 207, 208, 209, 210, 211, 212, 213, 214, 215, 216, 217, 218, 219, 220, 221, 222, 223, 224, 225, 226, 227, 228, 229, 230, 231, 232, 233, 234, 235, 236, 237, 238, 239, 240, 241, 242, 243, 244, 245, 246, 247, 248, 249, 250, 251, 252, 253, 254, 255, 256, 257, 258, 259, 260, 261, 262, 263, 264, 265, 266, 267, 268, 269, 270, 271, 272, 273, 274, 275, 276, 277, 278, 279, 280, 281, 282, 283, 284, 285, 286, 287, 288, 289, 290, 291, 292, 293, 294, 295, 296, 297, 298, 299, 300, 301, 302, 303, 304, 305, 306, 307, 308, 309, 310, 311, 312, 313, 314, 315, 316, 317, 318, 319, 320, 321, 322, 323, 324, 325, 326, 327, 328, 329, 330, 331, 332, 333, 334, 335, 336, 337, 338, 339, 340, 341, 342, 343, 344, 345, 346, 347, 348, 349, 350, 351, 352, 353, 354, 355, 356, 357, 358, 359, 360, 361, 362, 363, 364, 365, 366, 367, 368, 369, 370, 371, 372, 373, 374, 375, 376, 377, 378, 379, 380, 381, 382, 383, 384, 385, 386, 387, 388, 389, 390, 391, 392, 393, 394, 395, 396, 397], \"y\": [-9.094947017729283e-15, -1.8189894035458565e-14, -9.094947017729283e-15, 1.8189894035458565e-14, -1.8189894035458565e-14, 0.0, -3.637978807091713e-14, 0.0, 0.0, 0.0010044631988785112, 0.003932353470645467, 0.007560109764726803, 0.011580422423121491, 0.015822524023533333, 0.020151316677711292, 0.02444717776568723, 0.028600303155726578, 0.03250975759458015, 0.036084385898466284, 0.039244453156152305, 0.04292791096324436, 0.048002066273957096, 0.0532077989685331, 0.05922351549896121, 0.06780004379752427, 0.07851223510311683, 0.08973935911576518, 0.10194125072860516, 0.11668908028345869, 0.13540458536114783, 0.15915938415392247, 0.1857423920608426, 0.2148475261650492, 0.24928223560862534, 0.2916859867088533, 0.34604559128509665, 0.41264817443788615, 0.49207431375633404, 0.5874765562935522, 0.7004785352136855, 0.8318338961555333, 0.977639010354676, 1.135671676456509, 1.3127207577270066, 1.519956909128332, 1.7675364800045896, 2.0539751312550436, 2.3708740976584317, 2.7253345399934865, 3.129906645240694, 3.5876716063729295, 4.107733722644362, 4.701597611976855, 5.3785668276877105, 6.175882739010192, 7.13403004807769, 8.261214435429624, 9.563865792566649, 11.07043312361716, 12.808371603903693, 14.806931051812338, 17.11118684856675, 19.763771848178703, 22.805897587548017, 26.311220062386656, 30.311888234882773, 34.87285739226798, 40.11709605733843, 46.109549560498834, 52.91738851683702, 60.550780313816816, 69.00528189445257, 78.32014985357215, 88.51031802710843, 99.5911005760973, 111.59137550802748, 124.47923571248073, 138.1797872511392, 152.61601768387914, 167.62060985774994, 182.96365395862972, 198.47990827725894, 213.96739445479878, 229.17168893024655, 243.81483642104803, 257.62283879847587, 270.33075607096094, 281.7086215630185, 291.581221272899, 299.7770049154772, 306.1161237897146, 310.47156250432954, 312.77355579256465, 313.0250343680424, 311.2316917754121, 307.4573901888897, 301.82297083005955, 294.44014589963473, 285.4574771618392, 275.05441688495375, 263.4287029474759, 250.78977954718624, 237.34932045242036, 223.3214189478002, 208.92736291727667, 194.37281151146323, 179.82906175116918, 165.46312584657062, 151.42710419241968, 137.84439124482063, 124.82149056595956, 112.44369972730242, 100.77708844390864, 89.86740493085141, 79.74237581931449, 70.41542704746118, 61.88454197198212, 54.13409005407451, 47.139119028405986, 40.86740088057371, 35.27637423578324, 30.320948971405024, 25.954558374575086, 22.1292931804288, 18.795024074446356, 15.903458151703422, 13.408161022437397, 11.26506905843293, 9.43290912607822, 7.873479336368846, 6.551802594385056, 5.436172149367138, 4.498109403241965, 3.7122533633732973, 3.0561994001366606, 2.5103028317217513, 2.0574605595595576, 1.6828816855563486, 1.3738558708475155, 1.1195262184398396, 0.9106717200739495, 0.7395028169443922, 0.5994723819145124, 0.48510342210894863, 0.3918340020521254, 0.3158792719793199, 0.25411002612742345, 0.20394688572439065, 0.16326897771418422, 0.1303358427949313, 0.10372123805037177, 0.08225748604980675, 0.06498905181973409, 0.051134091423743505, 0.04005280230080896, 0.031221508400618936, 0.024211525842158306, 0.01867197150039012, 0.014315792655298809, 0.01090840657597671, 0.008258441550831322, 0.006210163243572424, 0.004637251084177479, 0.0034376582416325617, 0.0025293458145461047, 0.001846728005393743, 0.0013377013802482907, 0.0009611592585952167, 0.0006849132882007325, 0.00048395978374628614, 0.00033903974348504563, 0.0002354497420583357, 0.00016206704568503483, 0.00011055702294470394, 7.473474865946628e-05, 5.005596956834779e-05, 3.321553896512341e-05, 2.1834149943060766e-05, 1.4216751769708936e-05, 9.168431079160655e-06, 5.855761210113997e-06, 3.7036509638710416e-06, 2.31953601087298e-06, 1.4383474854184898e-06, 8.83052498465986e-07, 5.36708591880597e-07, 3.229164576623589e-07, 1.9231467831559713e-07, 1.1336454008414876e-07, 6.613888899664745e-08, 3.8187808968359607e-08, 2.1819971607328625e-08, 1.2337306998233544e-08, 6.902346285642125e-09, 3.820855454250704e-09, 2.0926029264956014e-09, 1.1338238437019753e-09, 6.077516445657239e-10, 3.2225841550825865e-10, 1.6901822164072656e-10, 8.770712156547234e-11, 4.501259809330804e-11, 2.2844801605970132e-11, 1.1478391570562963e-11, 5.694573701475747e-12, 2.8117597139498686e-12, 1.3606893389805919e-12, 6.51994014333468e-13, 3.156941374982125e-13, 1.6115109247039072e-13, 6.984635092521785e-14, 5.125677660089423e-14, 1.1208811656615581e-14, 1.836752971939859e-14, 1.2718714970105794e-14, 1.4424017535930036e-14, 1.1723955140041654e-14, 1.1795009413617664e-14, 7.425171588693046e-15, 1.2043699371133699e-14, -1.0054179711005418e-14, 5.329070518200751e-16, -7.691625114603085e-15, -1.3518075547835907e-14, -1.3784529073745943e-14, 8.260059303211165e-16, -5.5333515547317806e-15, -3.3661962106634747e-15, 4.920508445138694e-15, 3.1086244689504386e-16, -7.283063041541027e-16, -2.298161660974074e-15, -3.3639757646142244e-15, -1.7763568394002505e-15, -6.3693494922745236e-15, 1.941780070069399e-15, -1.0291767438275201e-14, -2.35622632516197e-14, -1.441013974812222e-14, -1.6990298057351083e-14, -2.0463630789890885e-14, -2.2737367544323207e-14, -2.7284841053187846e-14, -4.547473508864641e-15, 0.0, -9.094947017729283e-15, -2.2737367544323207e-14, -9.094947017729283e-15, -2.2737367544323207e-14, -3.183231456205249e-14, -1.8189894035458565e-14, -9.094947017729283e-15, -2.7284841053187846e-14, -1.8189894035458565e-14, -9.094947017729283e-15, -1.8189894035458565e-14, -4.547473508864641e-15, -1.3642420526593923e-14, 0.0, -1.8189894035458565e-14, -1.8189894035458565e-14, -1.8189894035458565e-14, -4.547473508864641e-15, -1.3642420526593923e-14, 9.094947017729283e-15, -2.0463630789890885e-14, -9.094947017729283e-15, -1.3642420526593923e-14, -9.094947017729283e-15, -1.1368683772161604e-14, 9.094947017729283e-15, -2.5011104298755527e-14, 2.2737367544323206e-15, -2.7284841053187846e-14, 0.0, -1.7053025658242404e-14, -2.5011104298755527e-14, -2.2737367544323207e-14, -2.1032064978498965e-14, -1.8189894035458565e-14, 2.2737367544323206e-15, -2.5579538487363607e-14, -1.7053025658242404e-15, -2.2168933355715127e-14, -2.1600499167107046e-14, 1.4210854715202005e-15, -1.7195134205394424e-14, -1.1368683772161603e-15, -7.176481631177012e-15, -2.6432189770275728e-14, 5.044853423896711e-15, -2.320810210676427e-14, -1.1812772982011666e-14, -3.232969447708456e-15, -2.536637566663558e-14, -1.1581846592889634e-14, -6.323830348264892e-15, -2.7995383788947947e-14, 5.080380560684716e-15, -1.8864909634430662e-14, -4.7251091928046665e-15, 8.562039965909208e-15, -8.79296635503124e-15, -2.3980817331903383e-15, 5.826450433232822e-15, -1.56052948341312e-14, 7.807088309164102e-15, -3.4550140526334873e-15, 1.0995648835887551e-14, -3.1086244689504386e-16, -6.092903959142859e-15, -1.361799562005217e-14, 1.0185186027911186e-14, -2.5508484213787596e-14, -1.6368018052048684e-14, -1.941780070069399e-15, 5.74429392941056e-15, -8.27005131043279e-15, 1.441013974812222e-14, -1.9389490013566048e-14, 0.0, -1.8189894035458565e-14, 0.0, 0.0, 0.0, 0.0, 0.0, -3.637978807091713e-14, -1.8189894035458565e-14, 0.0, 1.8189894035458565e-14, 3.637978807091713e-14, 1.8189894035458565e-14, -1.8189894035458565e-14, 0.0, 1.8189894035458565e-14, 3.637978807091713e-14, 3.637978807091713e-14, 3.637978807091713e-14, -1.8189894035458565e-14, 3.637978807091713e-14, 3.637978807091713e-14, 1.8189894035458565e-14, 0.0, 3.637978807091713e-14, 1.8189894035458565e-14, 3.637978807091713e-14, 1.8189894035458565e-14, 0.0, 0.0, 1.8189894035458565e-14, 9.094947017729283e-15, 1.8189894035458565e-14, -9.094947017729283e-15, 2.7284841053187846e-14, 4.547473508864641e-15, 9.094947017729283e-15, 2.2737367544323207e-14, 2.2737367544323207e-14, 2.0463630789890885e-14, 2.2737367544323207e-14, 2.0463630789890885e-14, 1.3642420526593923e-14, 4.547473508864641e-15, 1.1368683772161603e-15, 4.547473508864641e-15, 5.684341886080802e-15, 6.8212102632969615e-15, 8.526512829121202e-15, 2.842170943040401e-15, 5.115907697472721e-15, -1.1368683772161603e-15, 7.389644451905042e-15, 1.4779288903810084e-14, 1.7621459846850484e-14, 1.7479351299698464e-14, 1.7905676941154525e-14, 1.6626700016786343e-14, 2.842170943040401e-15, 8.526512829121202e-16, 5.258016244624741e-15, 1.4921397450962105e-14, 1.0125233984581428e-14, 3.943512183468556e-15, -8.562039965909208e-15, -2.1671553440683055e-15, 4.316547119742609e-15, 3.9790393202565614e-15, -1.0658141036401502e-15, -1.580957587066223e-15, 1.2505552149377763e-14, -4.209965709378594e-15, 4.867217739956687e-15, 1.1803891197814665e-14, 6.572520305780927e-15, 3.1086244689504383e-15, 2.531308496145357e-14, 1.7261747586871933e-14]}],\n",
              "                        {\"template\": {\"data\": {\"bar\": [{\"error_x\": {\"color\": \"#2a3f5f\"}, \"error_y\": {\"color\": \"#2a3f5f\"}, \"marker\": {\"line\": {\"color\": \"#E5ECF6\", \"width\": 0.5}}, \"type\": \"bar\"}], \"barpolar\": [{\"marker\": {\"line\": {\"color\": \"#E5ECF6\", \"width\": 0.5}}, \"type\": \"barpolar\"}], \"carpet\": [{\"aaxis\": {\"endlinecolor\": \"#2a3f5f\", \"gridcolor\": \"white\", \"linecolor\": \"white\", \"minorgridcolor\": \"white\", \"startlinecolor\": \"#2a3f5f\"}, \"baxis\": {\"endlinecolor\": \"#2a3f5f\", \"gridcolor\": \"white\", \"linecolor\": \"white\", \"minorgridcolor\": \"white\", \"startlinecolor\": \"#2a3f5f\"}, \"type\": \"carpet\"}], \"choropleth\": [{\"colorbar\": {\"outlinewidth\": 0, \"ticks\": \"\"}, \"type\": \"choropleth\"}], \"contour\": [{\"colorbar\": {\"outlinewidth\": 0, \"ticks\": \"\"}, \"colorscale\": [[0.0, \"#0d0887\"], [0.1111111111111111, \"#46039f\"], [0.2222222222222222, \"#7201a8\"], [0.3333333333333333, \"#9c179e\"], [0.4444444444444444, \"#bd3786\"], [0.5555555555555556, \"#d8576b\"], [0.6666666666666666, \"#ed7953\"], [0.7777777777777778, \"#fb9f3a\"], [0.8888888888888888, \"#fdca26\"], [1.0, \"#f0f921\"]], \"type\": \"contour\"}], \"contourcarpet\": [{\"colorbar\": {\"outlinewidth\": 0, \"ticks\": \"\"}, \"type\": \"contourcarpet\"}], \"heatmap\": [{\"colorbar\": {\"outlinewidth\": 0, \"ticks\": \"\"}, \"colorscale\": [[0.0, \"#0d0887\"], [0.1111111111111111, \"#46039f\"], [0.2222222222222222, \"#7201a8\"], [0.3333333333333333, \"#9c179e\"], [0.4444444444444444, \"#bd3786\"], [0.5555555555555556, \"#d8576b\"], [0.6666666666666666, \"#ed7953\"], [0.7777777777777778, \"#fb9f3a\"], [0.8888888888888888, \"#fdca26\"], [1.0, \"#f0f921\"]], \"type\": \"heatmap\"}], \"heatmapgl\": [{\"colorbar\": {\"outlinewidth\": 0, \"ticks\": \"\"}, \"colorscale\": [[0.0, \"#0d0887\"], [0.1111111111111111, \"#46039f\"], [0.2222222222222222, \"#7201a8\"], [0.3333333333333333, \"#9c179e\"], [0.4444444444444444, \"#bd3786\"], [0.5555555555555556, \"#d8576b\"], [0.6666666666666666, \"#ed7953\"], [0.7777777777777778, \"#fb9f3a\"], [0.8888888888888888, \"#fdca26\"], [1.0, \"#f0f921\"]], \"type\": \"heatmapgl\"}], \"histogram\": [{\"marker\": {\"colorbar\": {\"outlinewidth\": 0, \"ticks\": \"\"}}, \"type\": \"histogram\"}], \"histogram2d\": [{\"colorbar\": {\"outlinewidth\": 0, \"ticks\": \"\"}, \"colorscale\": [[0.0, \"#0d0887\"], [0.1111111111111111, \"#46039f\"], [0.2222222222222222, \"#7201a8\"], [0.3333333333333333, \"#9c179e\"], [0.4444444444444444, \"#bd3786\"], [0.5555555555555556, \"#d8576b\"], [0.6666666666666666, \"#ed7953\"], [0.7777777777777778, \"#fb9f3a\"], [0.8888888888888888, \"#fdca26\"], [1.0, \"#f0f921\"]], \"type\": \"histogram2d\"}], \"histogram2dcontour\": [{\"colorbar\": {\"outlinewidth\": 0, \"ticks\": \"\"}, \"colorscale\": [[0.0, \"#0d0887\"], [0.1111111111111111, \"#46039f\"], [0.2222222222222222, \"#7201a8\"], [0.3333333333333333, \"#9c179e\"], [0.4444444444444444, \"#bd3786\"], [0.5555555555555556, \"#d8576b\"], [0.6666666666666666, \"#ed7953\"], [0.7777777777777778, \"#fb9f3a\"], [0.8888888888888888, \"#fdca26\"], [1.0, \"#f0f921\"]], \"type\": \"histogram2dcontour\"}], \"mesh3d\": [{\"colorbar\": {\"outlinewidth\": 0, \"ticks\": \"\"}, \"type\": \"mesh3d\"}], \"parcoords\": [{\"line\": {\"colorbar\": {\"outlinewidth\": 0, \"ticks\": \"\"}}, \"type\": \"parcoords\"}], \"pie\": [{\"automargin\": true, \"type\": \"pie\"}], \"scatter\": [{\"marker\": {\"colorbar\": {\"outlinewidth\": 0, \"ticks\": \"\"}}, \"type\": \"scatter\"}], \"scatter3d\": [{\"line\": {\"colorbar\": {\"outlinewidth\": 0, \"ticks\": \"\"}}, \"marker\": {\"colorbar\": {\"outlinewidth\": 0, \"ticks\": \"\"}}, \"type\": \"scatter3d\"}], \"scattercarpet\": [{\"marker\": {\"colorbar\": {\"outlinewidth\": 0, \"ticks\": \"\"}}, \"type\": \"scattercarpet\"}], \"scattergeo\": [{\"marker\": {\"colorbar\": {\"outlinewidth\": 0, \"ticks\": \"\"}}, \"type\": \"scattergeo\"}], \"scattergl\": [{\"marker\": {\"colorbar\": {\"outlinewidth\": 0, \"ticks\": \"\"}}, \"type\": \"scattergl\"}], \"scattermapbox\": [{\"marker\": {\"colorbar\": {\"outlinewidth\": 0, \"ticks\": \"\"}}, \"type\": \"scattermapbox\"}], \"scatterpolar\": [{\"marker\": {\"colorbar\": {\"outlinewidth\": 0, \"ticks\": \"\"}}, \"type\": \"scatterpolar\"}], \"scatterpolargl\": [{\"marker\": {\"colorbar\": {\"outlinewidth\": 0, \"ticks\": \"\"}}, \"type\": \"scatterpolargl\"}], \"scatterternary\": [{\"marker\": {\"colorbar\": {\"outlinewidth\": 0, \"ticks\": \"\"}}, \"type\": \"scatterternary\"}], \"surface\": [{\"colorbar\": {\"outlinewidth\": 0, \"ticks\": \"\"}, \"colorscale\": [[0.0, \"#0d0887\"], [0.1111111111111111, \"#46039f\"], [0.2222222222222222, \"#7201a8\"], [0.3333333333333333, \"#9c179e\"], [0.4444444444444444, \"#bd3786\"], [0.5555555555555556, \"#d8576b\"], [0.6666666666666666, \"#ed7953\"], [0.7777777777777778, \"#fb9f3a\"], [0.8888888888888888, \"#fdca26\"], [1.0, \"#f0f921\"]], \"type\": \"surface\"}], \"table\": [{\"cells\": {\"fill\": {\"color\": \"#EBF0F8\"}, \"line\": {\"color\": \"white\"}}, \"header\": {\"fill\": {\"color\": \"#C8D4E3\"}, \"line\": {\"color\": \"white\"}}, \"type\": \"table\"}]}, \"layout\": {\"annotationdefaults\": {\"arrowcolor\": \"#2a3f5f\", \"arrowhead\": 0, \"arrowwidth\": 1}, \"coloraxis\": {\"colorbar\": {\"outlinewidth\": 0, \"ticks\": \"\"}}, \"colorscale\": {\"diverging\": [[0, \"#8e0152\"], [0.1, \"#c51b7d\"], [0.2, \"#de77ae\"], [0.3, \"#f1b6da\"], [0.4, \"#fde0ef\"], [0.5, \"#f7f7f7\"], [0.6, \"#e6f5d0\"], [0.7, \"#b8e186\"], [0.8, \"#7fbc41\"], [0.9, \"#4d9221\"], [1, \"#276419\"]], \"sequential\": [[0.0, \"#0d0887\"], [0.1111111111111111, \"#46039f\"], [0.2222222222222222, \"#7201a8\"], [0.3333333333333333, \"#9c179e\"], [0.4444444444444444, \"#bd3786\"], [0.5555555555555556, \"#d8576b\"], [0.6666666666666666, \"#ed7953\"], [0.7777777777777778, \"#fb9f3a\"], [0.8888888888888888, \"#fdca26\"], [1.0, \"#f0f921\"]], \"sequentialminus\": [[0.0, \"#0d0887\"], [0.1111111111111111, \"#46039f\"], [0.2222222222222222, \"#7201a8\"], [0.3333333333333333, \"#9c179e\"], [0.4444444444444444, \"#bd3786\"], [0.5555555555555556, \"#d8576b\"], [0.6666666666666666, \"#ed7953\"], [0.7777777777777778, \"#fb9f3a\"], [0.8888888888888888, \"#fdca26\"], [1.0, \"#f0f921\"]]}, \"colorway\": [\"#636efa\", \"#EF553B\", \"#00cc96\", \"#ab63fa\", \"#FFA15A\", \"#19d3f3\", \"#FF6692\", \"#B6E880\", \"#FF97FF\", \"#FECB52\"], \"font\": {\"color\": \"#2a3f5f\"}, \"geo\": {\"bgcolor\": \"white\", \"lakecolor\": \"white\", \"landcolor\": \"#E5ECF6\", \"showlakes\": true, \"showland\": true, \"subunitcolor\": \"white\"}, \"hoverlabel\": {\"align\": \"left\"}, \"hovermode\": \"closest\", \"mapbox\": {\"style\": \"light\"}, \"paper_bgcolor\": \"white\", \"plot_bgcolor\": \"#E5ECF6\", \"polar\": {\"angularaxis\": {\"gridcolor\": \"white\", \"linecolor\": \"white\", \"ticks\": \"\"}, \"bgcolor\": \"#E5ECF6\", \"radialaxis\": {\"gridcolor\": \"white\", \"linecolor\": \"white\", \"ticks\": \"\"}}, \"scene\": {\"xaxis\": {\"backgroundcolor\": \"#E5ECF6\", \"gridcolor\": \"white\", \"gridwidth\": 2, \"linecolor\": \"white\", \"showbackground\": true, \"ticks\": \"\", \"zerolinecolor\": \"white\"}, \"yaxis\": {\"backgroundcolor\": \"#E5ECF6\", \"gridcolor\": \"white\", \"gridwidth\": 2, \"linecolor\": \"white\", \"showbackground\": true, \"ticks\": \"\", \"zerolinecolor\": \"white\"}, \"zaxis\": {\"backgroundcolor\": \"#E5ECF6\", \"gridcolor\": \"white\", \"gridwidth\": 2, \"linecolor\": \"white\", \"showbackground\": true, \"ticks\": \"\", \"zerolinecolor\": \"white\"}}, \"shapedefaults\": {\"line\": {\"color\": \"#2a3f5f\"}}, \"ternary\": {\"aaxis\": {\"gridcolor\": \"white\", \"linecolor\": \"white\", \"ticks\": \"\"}, \"baxis\": {\"gridcolor\": \"white\", \"linecolor\": \"white\", \"ticks\": \"\"}, \"bgcolor\": \"#E5ECF6\", \"caxis\": {\"gridcolor\": \"white\", \"linecolor\": \"white\", \"ticks\": \"\"}}, \"title\": {\"x\": 0.05}, \"xaxis\": {\"automargin\": true, \"gridcolor\": \"white\", \"linecolor\": \"white\", \"ticks\": \"\", \"title\": {\"standoff\": 15}, \"zerolinecolor\": \"white\", \"zerolinewidth\": 2}, \"yaxis\": {\"automargin\": true, \"gridcolor\": \"white\", \"linecolor\": \"white\", \"ticks\": \"\", \"title\": {\"standoff\": 15}, \"zerolinecolor\": \"white\", \"zerolinewidth\": 2}}}, \"title\": {\"text\": \"$\\\\text{Actual } R_{pd} \\\\text{ vs. } h_I[j]\\\\circledast I_{pd}[j]$\", \"x\": 0.5, \"xanchor\": \"center\"}, \"xaxis\": {\"title\": {\"text\": \"Day\"}}, \"yaxis\": {\"title\": {\"text\": \"Count\"}}},\n",
              "                        {\"responsive\": true}\n",
              "                    ).then(function(){\n",
              "                            \n",
              "var gd = document.getElementById('e7078015-cf43-4ab2-b3c7-1ced15bd50ec');\n",
              "var x = new MutationObserver(function (mutations, observer) {{\n",
              "        var display = window.getComputedStyle(gd).display;\n",
              "        if (!display || display === 'none') {{\n",
              "            console.log([gd, 'removed!']);\n",
              "            Plotly.purge(gd);\n",
              "            observer.disconnect();\n",
              "        }}\n",
              "}});\n",
              "\n",
              "// Listen for the removal of the full notebook cells\n",
              "var notebookContainer = gd.closest('#notebook-container');\n",
              "if (notebookContainer) {{\n",
              "    x.observe(notebookContainer, {childList: true});\n",
              "}}\n",
              "\n",
              "// Listen for the clearing of the current output cell\n",
              "var outputEl = gd.closest('.output');\n",
              "if (outputEl) {{\n",
              "    x.observe(outputEl, {childList: true});\n",
              "}}\n",
              "\n",
              "                        })\n",
              "                };\n",
              "                \n",
              "            </script>\n",
              "        </div>\n",
              "</body>\n",
              "</html>"
            ]
          },
          "metadata": {
            "tags": []
          }
        }
      ]
    },
    {
      "cell_type": "markdown",
      "metadata": {
        "id": "qAQf1SugpivG",
        "colab_type": "text"
      },
      "source": [
        "## De-convolution\n",
        "\n",
        "We get very close matches when convlving, can we obtain similar results by deconvolving?"
      ]
    },
    {
      "cell_type": "markdown",
      "metadata": {
        "id": "8qoovq78rj9n",
        "colab_type": "text"
      },
      "source": [
        "### Problems with de-convolution\n",
        "\n",
        "**Illl-posed**\n",
        "\n",
        "Unfortunately de-convolution is not as straightforward as the convolution.\n",
        "\n",
        "A quick recap of the math, in the frequency domain we have (Fourier or z transform)\n",
        "$$F \\{ f ∗ g \\} = F \\{ f \\} ~ F \\{ g \\}$$\n",
        "And so if we have:\n",
        "$$y=\\ f ∗ g$$\n",
        "Then:\n",
        "$$F \\{ y \\} = F \\{ f \\} ~ F \\{ g \\}$$\n",
        "And:\n",
        "$$g = F^{-1} \\left(\\frac{F\\{y\\}}{F\\{f\\}} \\right) $$\n",
        "\n",
        "But this last equation is often ill-posed.\n",
        "\n",
        "**Noise in data**\n",
        "\n",
        "We can see above that daily new data varies a lot from day to day due to the stochasticity of the model. This results in high-frequency decomposition in the frequency domain."
      ]
    },
    {
      "cell_type": "markdown",
      "metadata": {
        "id": "zbZarAN6vCx6",
        "colab_type": "text"
      },
      "source": [
        "### Solutions to these problems"
      ]
    },
    {
      "cell_type": "markdown",
      "metadata": {
        "id": "53N7Kj2EvO6i",
        "colab_type": "text"
      },
      "source": [
        "####Iterative deconvoluton\n",
        "\n",
        "Multiple iterative deconvolution algorithms exist: Lucy_Richardson, gold, or Van Cittert among others.\n",
        "\n",
        "LR has been used alreadz to get daily incidence of the Spanish flu based on death records in Philadelphia at the time for example.\n",
        "\n",
        "Let's use the equation for $I_{pd}$ as an example:\n",
        "$$I_{pd}[j] = \\sum_{n_L=0}^{M_L-1}h_L[n_L]~E_{pd}[j-n_L]= h_L[j]\\circledast E_{pd}[j]$$\n",
        "\n",
        "The idea is that after an initial guess for $E_{pd}$ we can iteraively find a better one.\n",
        "\n",
        "We know the mean $T_{Latent}$ is 5.2 days, so it is probably a good initial guess to say $E_{pd,0}[j] = I_{pd}[j-5]$"
      ]
    },
    {
      "cell_type": "markdown",
      "metadata": {
        "id": "KaRziTnNvO1V",
        "colab_type": "text"
      },
      "source": [
        "With the $n^{th}$ guess for $E_{pd}$ written as $E_{pd, n}$  we have:\n",
        "$$I_{pd}[j]= h_L[j]\\circledast E_{pd, n}[j]$$\n",
        "$$\\leftrightarrow 0 = I_{pd}[j] - h_L[j]\\circledast E_{pd, n}[j]$$\n",
        "$$\\leftrightarrow E_{pd,n+1} = E_{pd,n} + I_{pd}[j] - h_L[j]\\circledast E_{pd, n}[j]$$\n",
        "\n",
        "Where $O[j] = I_{pd}[j] - h_L[j]\\circledast E_{pd, n}[j]$ is the error term."
      ]
    },
    {
      "cell_type": "markdown",
      "metadata": {
        "id": "p8NZPaL7vOxE",
        "colab_type": "text"
      },
      "source": [
        "Hence we want to minimze O[j]."
      ]
    },
    {
      "cell_type": "markdown",
      "metadata": {
        "id": "w8Vfq1Cw2dHP",
        "colab_type": "text"
      },
      "source": [
        "#### Low-pass filter"
      ]
    },
    {
      "cell_type": "markdown",
      "metadata": {
        "id": "BL8Uyld72gTU",
        "colab_type": "text"
      },
      "source": [
        "To go around those high-frequency notes in the data, we can siply use a lowpass filter implemented as a butterworth filter below:\n",
        "\n",
        "The basic effect is that it smoothes the daily values as we have when convolving from the previous state daily values."
      ]
    },
    {
      "cell_type": "code",
      "metadata": {
        "id": "b8E8n-VJ2qLn",
        "colab_type": "code",
        "colab": {}
      },
      "source": [
        "#collapse_show\n",
        "def lowpass(x, fc=0.05):\n",
        "  fs = 1  # Sampling frequency\n",
        "  t = np.arange(len(x)) #select number of days done in SEIR model\n",
        "  signala = x\n",
        "\n",
        "  #fc = 0.05  # Cut-off frequency of the filter\n",
        "  w = fc / (fs / 2) # Normalize the frequency\n",
        "  b, a = signal.butter(5, w, 'low')\n",
        "  return signal.filtfilt(b, a, signala)"
      ],
      "execution_count": 0,
      "outputs": []
    },
    {
      "cell_type": "markdown",
      "metadata": {
        "id": "Gs2tOFPNuoXM",
        "colab_type": "text"
      },
      "source": [
        "## Deconvolution in practice"
      ]
    },
    {
      "cell_type": "markdown",
      "metadata": {
        "id": "nJXY8O1au8Uy",
        "colab_type": "text"
      },
      "source": [
        "### Coding the iterative deconvolution"
      ]
    },
    {
      "cell_type": "code",
      "metadata": {
        "id": "Y-Mk4LRon9AR",
        "colab_type": "code",
        "colab": {}
      },
      "source": [
        "#collapse_show\n",
        "# Let's define an iteration function:\n",
        "def iter_deconv(alpha, impulse_response, input_signal, delay, comparator):\n",
        "  conv=signal.fftconvolve(impulse_response, input_signal, mode='full')\n",
        "  correction=np.roll(comparator-conv[:len(comparator)], delay)\n",
        "  input_signal=np.floor(lowpass(alpha*correction+input_signal))\n",
        "  input_signal[input_signal<0]=0\n",
        "  return input_signal\n",
        "\n",
        "# Define a function to return MSE between two signals as a measure of goodness of fit\n",
        "def msecalc(A, B):\n",
        "  return ((A - B)**2).mean(axis=0)"
      ],
      "execution_count": 0,
      "outputs": []
    },
    {
      "cell_type": "markdown",
      "metadata": {
        "id": "AE-CUEtgpkQn",
        "colab_type": "text"
      },
      "source": [
        "### Comparing $E_{pd}$ from the model to $E_{pd}$ obtained by de-convolving $I_{pd}$"
      ]
    },
    {
      "cell_type": "code",
      "metadata": {
        "id": "0Tb6eYiM7lXs",
        "colab_type": "code",
        "colab": {
          "base_uri": "https://localhost:8080/",
          "height": 310
        },
        "outputId": "21cf2d6e-c1f2-45e9-b0d9-430e26d56335"
      },
      "source": [
        "#collapse_show\n",
        "#regularization parameter\n",
        "alpha=2\n",
        "\n",
        "# Setup up the resultant Ipd we want to compare our guess with\n",
        "Ipd=np.floor(lowpass(results_stoch0[5]))\n",
        "Ipd[Ipd<0]=0\n",
        "\n",
        "# Find delay caused by h_L\n",
        "delay=Ipd.argmax()-signal.fftconvolve(Ipd, h_L, mode='full').argmax()\n",
        "\n",
        "# We want initial guess to simply be the result of the convolution delayed\n",
        "initial_guess=np.roll(Ipd,delay)\n",
        "Enext = initial_guess\n",
        "\n",
        "# AN array to record MSE between result we want and our iterated guess\n",
        "mse=np.array([])\n",
        "mse=np.append(mse, 100000)\n",
        "mse=np.append(mse, msecalc(Ipd, signal.fftconvolve(h_L, Enext, mode='full')[:len(Ipd)]))\n",
        "\n",
        "itercount=0\n",
        "while mse[-1] < mse[-2]:\n",
        "  itercount=itercount+1\n",
        "  Enext=iter_deconv(alpha, h_L, Enext, delay, Ipd)\n",
        "  mse=np.append(mse, msecalc(Ipd, signal.fftconvolve(h_L, Enext, mode='full')[:len(Ipd)]))\n",
        "  print(\"Iteration #\" + str(itercount) +\": MSE= \"+str(mse[itercount]))\n",
        "print(\"Iteration #\" + str(itercount+1) +\": MSE= \"+str(mse[-1])+\" so we use the result of the previous iteration.\")"
      ],
      "execution_count": 288,
      "outputs": [
        {
          "output_type": "stream",
          "text": [
            "Iteration #1: MSE= 124.70436073477953\n",
            "Iteration #2: MSE= 28.488767375180895\n",
            "Iteration #3: MSE= 20.271433865373183\n",
            "Iteration #4: MSE= 14.899187374634403\n",
            "Iteration #5: MSE= 11.75347758471812\n",
            "Iteration #6: MSE= 9.817335154350257\n",
            "Iteration #7: MSE= 7.422882693926738\n",
            "Iteration #8: MSE= 6.698704915354241\n",
            "Iteration #9: MSE= 4.973567833967474\n",
            "Iteration #10: MSE= 4.5277801716486845\n",
            "Iteration #11: MSE= 3.3320587000022965\n",
            "Iteration #12: MSE= 3.1350961283671444\n",
            "Iteration #13: MSE= 2.399904839322378\n",
            "Iteration #14: MSE= 2.3554415669434725\n",
            "Iteration #15: MSE= 1.874980379559698\n",
            "Iteration #16: MSE= 1.8239524695356977\n",
            "Iteration #17: MSE= 1.5215607574430468\n",
            "Iteration #18: MSE= 1.5426871512633813 so we use the result of the previous iteration.\n"
          ],
          "name": "stdout"
        }
      ]
    },
    {
      "cell_type": "code",
      "metadata": {
        "id": "VRmxzerODBt5",
        "colab_type": "code",
        "colab": {
          "base_uri": "https://localhost:8080/",
          "height": 542
        },
        "outputId": "7f146d71-e6a2-4432-b752-cd2a47285842"
      },
      "source": [
        "#collapse_hide\n",
        "fig = go.Figure(data=[    \n",
        "    go.Scatter(name='E_pd', x=np.arange(150), y=results_stoch0[4]),\n",
        "    go.Scatter(name='Epd=lowpass(E_pd)', x=np.arange(150), y=lowpass(results_stoch0[4])),\n",
        "    go.Scatter(name='Epd=deconv(I_pd)', x=np.arange(150), y=Enext),\n",
        "    go.Scatter(name='I_pd', x=np.arange(150), y=results_stoch0[5]),\n",
        "    go.Scatter(name='Ipd=lowpass(I_pd)', x=np.arange(150), y=lowpass(results_stoch0[5])),\n",
        "    go.Scatter(name='Ipd=conv(E_pd)', x=np.arange(150), y=signal.fftconvolve(h_L, lowpass(results_stoch0[4]), mode='full')),\n",
        "    go.Scatter(name='Ipd=conv(deconv(Ipd))', x=np.arange(150), y=signal.fftconvolve(h_L, Enext, mode='full')[:len(Ipd)])\n",
        "])\n",
        "\n",
        "fig.update_layout(\n",
        "    \n",
        "    xaxis_title = 'Day',\n",
        "    yaxis_title = 'Count',\n",
        "    title={\n",
        "        'text':r'$\\text{Actual } E_{pd} \\text{ vs. deconvolution of } I_{pd}$',\n",
        "        'x':0.5,\n",
        "        'xanchor':'center'\n",
        "    }\n",
        ")\n",
        "\n",
        "fig.show()"
      ],
      "execution_count": 290,
      "outputs": [
        {
          "output_type": "display_data",
          "data": {
            "text/html": [
              "<html>\n",
              "<head><meta charset=\"utf-8\" /></head>\n",
              "<body>\n",
              "    <div>\n",
              "            <script src=\"https://cdnjs.cloudflare.com/ajax/libs/mathjax/2.7.5/MathJax.js?config=TeX-AMS-MML_SVG\"></script><script type=\"text/javascript\">if (window.MathJax) {MathJax.Hub.Config({SVG: {font: \"STIX-Web\"}});}</script>\n",
              "                <script type=\"text/javascript\">window.PlotlyConfig = {MathJaxConfig: 'local'};</script>\n",
              "        <script src=\"https://cdn.plot.ly/plotly-latest.min.js\"></script>    \n",
              "            <div id=\"e9fc1c98-764b-4c66-bed6-0ff564a53a48\" class=\"plotly-graph-div\" style=\"height:525px; width:100%;\"></div>\n",
              "            <script type=\"text/javascript\">\n",
              "                \n",
              "                    window.PLOTLYENV=window.PLOTLYENV || {};\n",
              "                    \n",
              "                if (document.getElementById(\"e9fc1c98-764b-4c66-bed6-0ff564a53a48\")) {\n",
              "                    Plotly.newPlot(\n",
              "                        'e9fc1c98-764b-4c66-bed6-0ff564a53a48',\n",
              "                        [{\"name\": \"E_pd\", \"type\": \"scatter\", \"x\": [0, 1, 2, 3, 4, 5, 6, 7, 8, 9, 10, 11, 12, 13, 14, 15, 16, 17, 18, 19, 20, 21, 22, 23, 24, 25, 26, 27, 28, 29, 30, 31, 32, 33, 34, 35, 36, 37, 38, 39, 40, 41, 42, 43, 44, 45, 46, 47, 48, 49, 50, 51, 52, 53, 54, 55, 56, 57, 58, 59, 60, 61, 62, 63, 64, 65, 66, 67, 68, 69, 70, 71, 72, 73, 74, 75, 76, 77, 78, 79, 80, 81, 82, 83, 84, 85, 86, 87, 88, 89, 90, 91, 92, 93, 94, 95, 96, 97, 98, 99, 100, 101, 102, 103, 104, 105, 106, 107, 108, 109, 110, 111, 112, 113, 114, 115, 116, 117, 118, 119, 120, 121, 122, 123, 124, 125, 126, 127, 128, 129, 130, 131, 132, 133, 134, 135, 136, 137, 138, 139, 140, 141, 142, 143, 144, 145, 146, 147, 148, 149], \"y\": [1, 0, 0, 0, 0, 0, 0, 0, 0, 0, 0, 0, 1, 0, 0, 0, 1, 0, 2, 2, 1, 2, 2, 2, 2, 1, 6, 2, 5, 5, 3, 5, 7, 10, 6, 13, 17, 22, 13, 18, 13, 26, 36, 36, 41, 47, 61, 67, 67, 97, 100, 118, 136, 146, 181, 193, 218, 264, 293, 305, 310, 360, 393, 423, 448, 493, 480, 536, 502, 490, 486, 453, 397, 334, 279, 246, 224, 162, 114, 76, 68, 41, 37, 17, 9, 8, 9, 4, 2, 1, 1, 0, 1, 0, 1, 0, 0, 0, 0, 0, 0, 0, 0, 0, 0, 0, 0, 0, 0, 0, 1, 0, 0, 0, 0, 0, 0, 0, 0, 0, 0, 0, 0, 0, 0, 0, 0, 0, 0, 0, 0, 0, 0, 0, 0, 0, 0, 0, 0, 0, 0, 0, 0, 0, 0, 0, 0, 0, 0, 0, 0, 0, 0, 0, 0, 0, 0, 0, 0, 0, 0, 0, 0, 0, 0, 0, 0, 0, 0, 0, 0, 0, 0, 0, 0, 0, 0, 0, 0, 0, 0, 0, 0, 0, 0, 0, 0, 0, 0, 0, 0, 0, 0, 0, 0, 0, 0, 0, 0, 0, 0, 0, 0, 0, 0, 0, 0, 0, 0, 0, 0, 0, 0, 0, 0, 0, 0, 0, 0, 0, 0, 0, 0, 0, 0, 0, 0, 0, 0, 0, 0, 0, 0, 0, 0, 0, 0, 0, 0, 0, 0, 0, 0, 0, 0, 0, 0, 0, 0, 0, 0, 0, 0, 0, 0, 0, 0, 0, 0, 0, 0, 0, 0, 0, 0, 0, 0, 0, 0, 0, 0, 0, 0, 0, 0, 0, 0, 0, 0, 0, 0, 0, 0, 0, 0, 0, 0, 0, 0, 0, 0, 0, 0, 0, 0, 0, 0, 0, 0]}, {\"name\": \"Epd=lowpass(E_pd)\", \"type\": \"scatter\", \"x\": [0, 1, 2, 3, 4, 5, 6, 7, 8, 9, 10, 11, 12, 13, 14, 15, 16, 17, 18, 19, 20, 21, 22, 23, 24, 25, 26, 27, 28, 29, 30, 31, 32, 33, 34, 35, 36, 37, 38, 39, 40, 41, 42, 43, 44, 45, 46, 47, 48, 49, 50, 51, 52, 53, 54, 55, 56, 57, 58, 59, 60, 61, 62, 63, 64, 65, 66, 67, 68, 69, 70, 71, 72, 73, 74, 75, 76, 77, 78, 79, 80, 81, 82, 83, 84, 85, 86, 87, 88, 89, 90, 91, 92, 93, 94, 95, 96, 97, 98, 99, 100, 101, 102, 103, 104, 105, 106, 107, 108, 109, 110, 111, 112, 113, 114, 115, 116, 117, 118, 119, 120, 121, 122, 123, 124, 125, 126, 127, 128, 129, 130, 131, 132, 133, 134, 135, 136, 137, 138, 139, 140, 141, 142, 143, 144, 145, 146, 147, 148, 149], \"y\": [1.0230291898777015, 0.7900575159880349, 0.5638694651470687, 0.35312728140188215, 0.16583303674313077, 0.009011051398183223, -0.11153951336048905, -0.19142093766146434, -0.22775057112362407, -0.21922496503736993, -0.16614708645852957, -0.0704239697712518, 0.06446628927708066, 0.2335491149833815, 0.4304896010103308, 0.6478161964230502, 0.8772584514988953, 1.1102189578850983, 1.338386456355275, 1.5544791820189428, 1.7530879775861343, 1.9315705006493973, 2.0909329021940684, 2.236624457973166, 2.3791641910927357, 2.5345173151675984, 2.7241447958529164, 2.9746635190675175, 3.317079689067808, 3.7855953023184856, 4.416035278790518, 5.243996274886028, 6.3028706727009824, 7.621944550808419, 9.224802624008452, 11.1282942410025, 13.3423209090331, 15.870694846988728, 18.713285441299277, 21.869608311809266, 25.34390704532823, 29.151617187352915, 33.32688412661202, 37.93055162825643, 43.057787005309955, 48.84430940106718, 55.470077323060316, 63.15929397382964, 72.17571672691211, 82.81251487568716, 95.37630273367066, 110.16546765161159, 127.44348762648549, 147.40855086334867, 170.16139556902164, 195.67381819214052, 223.76068729000866, 254.05849074342373, 286.01339116265774, 318.88143697865917, 351.74295484281646, 383.53222086462887, 413.0822825971692, 439.18334070066646, 460.651535777228, 476.4035246153565, 485.5310947458328, 487.36945281915814, 481.55286534596394, 468.0520819541902, 447.18938923849197, 419.6290914534749, 386.3434806197498, 348.5566831413504, 307.6708743748426, 265.1809752970182, 222.58489173463516, 181.29654483227216, 142.56841048394787, 107.42915589093096, 76.64038597917812, 50.67465619758413, 29.714955414563796, 13.674014322500987, 2.2302396885839797, -5.124047906931108, -9.027014815194878, -10.189405523213582, -9.339020769300543, -7.171541454805209, -4.3106512390877425, -1.2792662767928955, 1.5174742067203488, 3.797857994866883, 5.399165314670595, 6.2650635754062804, 6.427128227908257, 5.982917091460243, 5.072929614086377, 3.8585025600419516, 2.5022822112655985, 1.1524269809408214, -0.06881201510478381, -1.07196375189377, -1.8029088086950948, -2.2417187757449777, -2.3985531754822733, -2.307518742365062, -2.019413559274838, -1.594213446896571, -1.094029523960457, -0.5770954532173832, -0.09315203382237165, 0.31959449819982205, 0.6359385162803739, 0.8437076175856464, 0.9426096371935289, 0.9422059848077153, 0.8593474564686105, 0.7153981059218925, 0.5335346450086709, 0.33635155155760343, 0.14393416166630685, -0.027508512189753614, -0.166425872814868, -0.2661543764511787, -0.32466852103107646, -0.3439596185769812, -0.32916277642927605, -0.28755408632748003, -0.22753038694481167, -0.1576659479896649, -0.08591710148125815, -0.01902023298488075, 0.03789666521760826, 0.08149130006182763, 0.11019412653560395, 0.12403939991955842, 0.1243824732708235, 0.11354839506832545, 0.0944551563924235, 0.07024965315006443, 0.04398666289812436, 0.01837201470026009, -0.004418294257347688, -0.02284011451992943, -0.03600892676560421, -0.043663849125913486, -0.046082202634018576, -0.04396088687998517, -0.038280950288655795, -0.030170384792477228, -0.020777713271914387, -0.01116578282700604, -0.0022317306155945687, 0.005344289687385826, 0.011122053689506398, 0.014898772843184178, 0.016685819720275614, 0.016670374730893667, 0.015168050113071877, 0.012572297458469009, 0.009305680182236223, 0.005777039819553072, 0.0023473560067021203, -0.0006941649323653406, -0.0031434194353717926, -0.004884807974723467, -0.00588613508714088, -0.006186945948287922, -0.005882485926069087, -0.005105479476642862, -0.004007736691945287, -0.002743261086159743, -0.00145410629903038, -0.0002597662503842463, 0.0007495692222352752, 0.001515964494403381, 0.0020132919157172867, 0.0022440211818406434, 0.0022340131325074555, 0.002026131072014502, 0.0016734466167697823, 0.0012327178458078156, 0.000758675038326284, 0.00029948380183531155, -0.00010641428041769209, -0.00043204133103067843, -0.0006622952397212125, -0.000793228736004339, -0.0008304574113021563, -0.0007869907956360403, -0.0006807808737162421, -0.0005322563515743699, -0.00036206548199960354, -0.00018919277802332564, -2.955271241615118e-05, 0.00010489709325747924, 0.000206534515024598, 0.0002719981657082894, 0.0003017449520975779, 0.00029934358429845433, 0.00027061319819460635, 0.00022271106114979947, 0.0001632597550400755, 9.958494433782909e-05, 3.8112559114333496e-05, -1.604853437090106e-05, -5.93334223446072e-05, -8.977051853259326e-05, -0.0001068799605616905, -0.00011145642740209918, -0.00010527593357384294, -9.076605288543426e-05, -7.067541418831552e-05, -4.777212806367511e-05, -2.4593047652003464e-05, -3.2574060761955375e-06, 1.4649740351121519e-05, 2.812601789862831e-05, 3.673971966814312e-05, 4.05688930335923e-05, 4.0105497519717206e-05, 3.613928649525776e-05, 2.9635323218802136e-05, 2.1617185474091882e-05, 1.3065303250370212e-05, 4.8368752159758995e-06, -2.389242148922155e-06, -8.1421019824511e-06, -1.2164502181202156e-05, -1.4398704234916303e-05, -1.4956818826303483e-05, -1.4081177499937728e-05, -1.2099977149856993e-05, -9.382984802220142e-06, -6.301250155008258e-06, -3.193727043481345e-06, -3.4258188050290017e-07, 2.0421190758803113e-06, 3.828610429590092e-06, 4.961550817565487e-06, 5.453644449941544e-06, 5.3726431386495095e-06, 4.825695588160284e-06, 3.942904878236155e-06, 2.8617013945103965e-06, 1.7132853972976955e-06, 6.119898375389371e-07, -3.519952003388501e-07, -1.116472374629015e-06, -1.6479144961330615e-06, -1.9394620180074843e-06, -2.006886749108893e-06, -1.8832370180835656e-06, -1.612872646506686e-06, -1.2455291223943234e-06, -8.309362884594875e-07, -4.143757298188551e-07, -3.341019006647445e-08, 2.841270621531081e-07, 5.209229088959314e-07, 6.698971364151092e-07, 7.330508641798575e-07, 7.197042481055303e-07, 6.443874234365138e-07, 5.246336244441693e-07, 3.7888876400111797e-07, 2.247039933039998e-07, 7.73234429705662e-08, -5.1275532373445205e-08, -1.5288272183519667e-07, -2.2313141794998357e-07, -2.612178853830342e-07, -2.693512646292775e-07, -2.520301194099556e-07, -2.1524057161634294e-07, -1.6566143495591512e-07, -1.0994624869730083e-07, -5.413305184396649e-08, -3.212446424893073e-09, 3.9134996693191784e-08, 7.06380315010151e-08, 9.039035688012235e-08, 9.86916591699189e-08, 9.680839443454408e-08, 8.668986887493289e-08, 7.067301410361177e-08, 5.120446922435036e-08, 3.060205259078066e-08, 1.0870315309789799e-08, -6.4225763875419565e-09, -2.0206207570179602e-08, -2.991280755622977e-08, -3.5435202773737424e-08, -3.7050035654178863e-08, -3.531956932350795e-08, -3.098510898729625e-08, -2.4863633013890932e-08]}, {\"name\": \"Epd=deconv(I_pd)\", \"type\": \"scatter\", \"x\": [0, 1, 2, 3, 4, 5, 6, 7, 8, 9, 10, 11, 12, 13, 14, 15, 16, 17, 18, 19, 20, 21, 22, 23, 24, 25, 26, 27, 28, 29, 30, 31, 32, 33, 34, 35, 36, 37, 38, 39, 40, 41, 42, 43, 44, 45, 46, 47, 48, 49, 50, 51, 52, 53, 54, 55, 56, 57, 58, 59, 60, 61, 62, 63, 64, 65, 66, 67, 68, 69, 70, 71, 72, 73, 74, 75, 76, 77, 78, 79, 80, 81, 82, 83, 84, 85, 86, 87, 88, 89, 90, 91, 92, 93, 94, 95, 96, 97, 98, 99, 100, 101, 102, 103, 104, 105, 106, 107, 108, 109, 110, 111, 112, 113, 114, 115, 116, 117, 118, 119, 120, 121, 122, 123, 124, 125, 126, 127, 128, 129, 130, 131, 132, 133, 134, 135, 136, 137, 138, 139, 140, 141, 142, 143, 144, 145, 146, 147, 148, 149], \"y\": [0.0, 0.0, 0.0, 0.0, 0.0, 0.0, 0.0, 0.0, 0.0, 0.0, 0.0, 0.0, 0.0, 0.0, 0.0, 0.0, 1.0, 1.0, 1.0, 1.0, 1.0, 1.0, 1.0, 1.0, 1.0, 1.0, 1.0, 2.0, 2.0, 3.0, 4.0, 5.0, 7.0, 8.0, 10.0, 13.0, 15.0, 18.0, 21.0, 23.0, 26.0, 29.0, 32.0, 35.0, 39.0, 44.0, 50.0, 57.0, 66.0, 78.0, 91.0, 108.0, 127.0, 150.0, 175.0, 203.0, 233.0, 265.0, 297.0, 330.0, 362.0, 392.0, 419.0, 441.0, 459.0, 472.0, 478.0, 477.0, 470.0, 456.0, 435.0, 409.0, 378.0, 343.0, 306.0, 267.0, 227.0, 188.0, 151.0, 117.0, 86.0, 59.0, 37.0, 19.0, 5.0, 0.0, 0.0, 0.0, 0.0, 0.0, 0.0, 0.0, 0.0, 0.0, 2.0, 4.0, 6.0, 6.0, 6.0, 5.0, 4.0, 3.0, 1.0, 0.0, 0.0, 0.0, 0.0, 0.0, 0.0, 0.0, 0.0, 0.0, 0.0, 0.0, 0.0, 0.0, 0.0, 0.0, 0.0, 0.0, 0.0, 0.0, 0.0, 0.0, 0.0, 0.0, 0.0, 0.0, 0.0, 0.0, 0.0, 0.0, 0.0, 0.0, 0.0, 0.0, 0.0, 0.0, 0.0, 0.0, 0.0, 0.0, 0.0, 0.0, 0.0, 0.0, 0.0, 0.0, 0.0, 0.0, 0.0, 0.0, 0.0, 0.0, 0.0, 0.0, 0.0, 0.0, 0.0, 0.0, 0.0, 0.0, 0.0, 0.0, 0.0, 0.0, 0.0, 0.0, 0.0, 0.0, 0.0, 0.0, 0.0, 0.0, 0.0, 0.0, 0.0, 0.0, 0.0, 0.0, 0.0, 0.0, 0.0, 0.0, 0.0, 0.0, 0.0, 0.0, 0.0, 0.0, 0.0, 0.0, 0.0, 0.0, 0.0, 0.0, 0.0, 0.0, 0.0, 0.0, 0.0, 0.0, 0.0, 0.0, 0.0, 0.0, 0.0, 0.0, 0.0, 0.0, 0.0, 0.0, 0.0, 0.0, 0.0, 0.0, 0.0, 0.0, 0.0, 0.0, 0.0, 0.0, 0.0, 0.0, 0.0, 0.0, 0.0, 0.0, 0.0, 0.0, 0.0, 0.0, 0.0, 0.0, 0.0, 0.0, 0.0, 0.0, 0.0, 0.0, 0.0, 0.0, 0.0, 0.0, 0.0, 0.0, 0.0, 0.0, 0.0, 0.0, 0.0, 0.0, 0.0, 0.0, 0.0, 0.0, 0.0, 0.0, 0.0, 0.0, 0.0, 0.0, 0.0, 0.0, 0.0, 0.0, 0.0, 0.0, 0.0, 0.0, 0.0, 0.0, 0.0, 0.0, 0.0, 0.0, 0.0, 0.0, 0.0, 0.0, 0.0, 0.0, 0.0, 0.0, 0.0, 0.0, 0.0, 0.0, 0.0, 0.0, 0.0, 0.0, 0.0, 0.0, 0.0, 0.0, 0.0, 0.0, 0.0]}, {\"name\": \"I_pd\", \"type\": \"scatter\", \"x\": [0, 1, 2, 3, 4, 5, 6, 7, 8, 9, 10, 11, 12, 13, 14, 15, 16, 17, 18, 19, 20, 21, 22, 23, 24, 25, 26, 27, 28, 29, 30, 31, 32, 33, 34, 35, 36, 37, 38, 39, 40, 41, 42, 43, 44, 45, 46, 47, 48, 49, 50, 51, 52, 53, 54, 55, 56, 57, 58, 59, 60, 61, 62, 63, 64, 65, 66, 67, 68, 69, 70, 71, 72, 73, 74, 75, 76, 77, 78, 79, 80, 81, 82, 83, 84, 85, 86, 87, 88, 89, 90, 91, 92, 93, 94, 95, 96, 97, 98, 99, 100, 101, 102, 103, 104, 105, 106, 107, 108, 109, 110, 111, 112, 113, 114, 115, 116, 117, 118, 119, 120, 121, 122, 123, 124, 125, 126, 127, 128, 129, 130, 131, 132, 133, 134, 135, 136, 137, 138, 139, 140, 141, 142, 143, 144, 145, 146, 147, 148, 149], \"y\": [0, 0, 0, 0, 0, 0, 1, 0, 0, 0, 0, 0, 0, 0, 0, 0, 0, 1, 0, 0, 1, 1, 0, 0, 1, 1, 2, 1, 0, 2, 2, 4, 4, 3, 5, 5, 6, 5, 3, 6, 10, 14, 15, 9, 11, 19, 19, 20, 28, 26, 37, 56, 57, 52, 65, 75, 84, 97, 120, 121, 157, 172, 171, 242, 251, 284, 299, 292, 330, 355, 371, 413, 433, 428, 443, 446, 387, 398, 391, 362, 323, 290, 256, 225, 210, 198, 148, 126, 94, 99, 77, 54, 66, 43, 31, 26, 21, 18, 14, 10, 11, 17, 6, 3, 7, 2, 2, 1, 1, 1, 0, 1, 1, 1, 0, 2, 0, 0, 0, 1, 0, 0, 0, 0, 0, 0, 0, 0, 0, 0, 0, 0, 0, 0, 0, 0, 0, 0, 0, 0, 0, 0, 0, 0, 0, 0, 0, 0, 0, 0, 0, 0, 0, 0, 0, 0, 0, 0, 0, 0, 0, 0, 0, 0, 0, 0, 0, 0, 0, 0, 0, 0, 0, 0, 0, 0, 0, 0, 0, 0, 0, 0, 0, 0, 0, 0, 0, 0, 0, 0, 0, 0, 0, 0, 0, 0, 0, 0, 0, 0, 0, 0, 0, 0, 0, 0, 0, 0, 0, 0, 0, 0, 0, 0, 0, 0, 0, 0, 0, 0, 0, 0, 0, 0, 0, 0, 0, 0, 0, 0, 0, 0, 0, 0, 0, 0, 0, 0, 0, 0, 0, 0, 0, 0, 0, 0, 0, 0, 0, 0, 0, 0, 0, 0, 0, 0, 0, 0, 0, 0, 0, 0, 0, 0, 0, 0, 0, 0, 0, 0, 0, 0, 0, 0, 0, 0, 0, 0, 0, 0, 0, 0, 0, 0, 0, 0, 0, 0, 0, 0, 0, 0, 0, 0, 0, 0, 0, 0, 0]}, {\"name\": \"Ipd=lowpass(I_pd)\", \"type\": \"scatter\", \"x\": [0, 1, 2, 3, 4, 5, 6, 7, 8, 9, 10, 11, 12, 13, 14, 15, 16, 17, 18, 19, 20, 21, 22, 23, 24, 25, 26, 27, 28, 29, 30, 31, 32, 33, 34, 35, 36, 37, 38, 39, 40, 41, 42, 43, 44, 45, 46, 47, 48, 49, 50, 51, 52, 53, 54, 55, 56, 57, 58, 59, 60, 61, 62, 63, 64, 65, 66, 67, 68, 69, 70, 71, 72, 73, 74, 75, 76, 77, 78, 79, 80, 81, 82, 83, 84, 85, 86, 87, 88, 89, 90, 91, 92, 93, 94, 95, 96, 97, 98, 99, 100, 101, 102, 103, 104, 105, 106, 107, 108, 109, 110, 111, 112, 113, 114, 115, 116, 117, 118, 119, 120, 121, 122, 123, 124, 125, 126, 127, 128, 129, 130, 131, 132, 133, 134, 135, 136, 137, 138, 139, 140, 141, 142, 143, 144, 145, 146, 147, 148, 149], \"y\": [0.014060934329936731, 0.04193174798534636, 0.06796630555093713, 0.09053242273047934, 0.10817480776885006, 0.11976586621430133, 0.12464103482753361, 0.12270581461223246, 0.11450412702580749, 0.1012417235815707, 0.08476318760819115, 0.06748525980921967, 0.05229188299072939, 0.04239740824509587, 0.04118438052002209, 0.052021981527296944, 0.0780712574775397, 0.1220842885843622, 0.18620690889241018, 0.2717985825611519, 0.3792881042848919, 0.5080887403983128, 0.6565997063187653, 0.8223209214004374, 1.0021033507556623, 1.1925469123109562, 1.390542054837353, 1.5939314572003378, 1.8022474923047158, 2.017461485641335, 2.244664329566319, 2.4925874014807596, 2.7738722390390227, 3.1050117005174145, 3.5059168026183176, 3.999110367735807, 4.608605430428807, 5.358585174712771, 6.272053172957489, 7.369658993753981, 8.66891775772337, 10.184030595558967, 11.926479787925022, 13.90652363605623, 16.135653609644148, 18.629994557978094, 21.414520259157065, 24.527821497076957, 28.027014894527138, 31.992239689620344, 36.530081429360955, 41.775211381871124, 47.88956250704963, 55.05849456630199, 63.48363222246661, 73.37236506300532, 84.9243322216667, 98.31553031068358, 113.68094916382007, 131.09683857524092, 150.5638333286505, 171.99220986287804, 195.19051494699556, 219.85869749028956, 245.58669811289872, 271.85922369854467, 298.0671721819758, 323.5258752087888, 347.4999632578389, 369.2341874230348, 387.9889420223023, 403.0785755075052, 413.9099718083745, 420.018476071379, 421.0981498664869, 417.02362881032354, 407.86149691028066, 393.86999326924854, 375.48689418350307, 353.30643122082375, 328.0470073361956, 300.5121881827137, 271.54792310001585, 241.9991463141767, 212.66880256781573, 184.28195685342322, 157.45705711383602, 132.6857166192531, 110.32165225881415, 90.57870917118166, 73.53725464213522, 59.157671850971084, 47.2992727893741, 37.74271858792491, 30.213998430203958, 24.408158247428542, 20.01124537215493, 16.7192903009152, 14.253529321326502, 12.371443626018507, 10.873528648292863, 9.605999427652307, 8.459878210663248, 7.36709693519996, 6.294376513174328, 5.235710586323894, 4.204278076473573, 3.224537997519167, 2.3251326773754784, 1.533059245484535, 0.869384077397452, 0.34659094124175094, -0.03251125773426135, -0.27452724235462794, -0.3941574124961035, -0.4121663935313417, -0.35298596092573675, -0.24226986204352569, -0.10466223335065833, 0.03802932088249174, 0.16814029970832856, 0.2728918553110372, 0.3445885171246983, 0.3803400372073205, 0.38141049471483507, 0.35231574128863063, 0.2997931597556454, 0.23175817296673906, 0.15634332699316894, 0.08109158373556719, 0.012348985903775844, -0.04512404370153059, -0.08832657636305775, -0.11599868598412072, -0.12844639158333873, -0.12725359953152499, -0.1149270933947785, -0.09451852801174286, -0.0692617143022502, -0.042255371275581995, -0.016212128174432298, 0.006715049795085656, 0.02502676505604167, 0.037896736735823985, 0.04512807287383172, 0.047061102639505456, 0.04444937620388136, 0.03832041152426735, 0.029836256937895045, 0.020166340410825698, 0.010381813231133508, 0.0013770761796138885, -0.006179240298125873, -0.011864595809738568, -0.015497345231322106, -0.01711093890851577, -0.016913412479282595, -0.015238347932912526, -0.01249317226639382, -0.00910987568125066, -0.005502129505639867, -0.0020315186640084185, 0.001015683879858405, 0.0034409638412790824, 0.005136000853415817, 0.006076620220317547, 0.006310280717558573, 0.005939343401084361, 0.005102351942532096, 0.003955343798829355, 0.0026548567158232177, 0.0013438533932278213, 0.0001413132066044986, -0.0008642183395371076, -0.001617236061750402, -0.00209447475364849, -0.0023013675177265807, -0.0022665571702668048, -0.0020352905854464313, -0.0016624809790066059, -0.001206115945544592, -0.0007215399988173252, -0.00025697004173037016, 0.0001495704630909827, 0.0004718720059378986, 0.0006958213959143243, 0.0008185540363150911, 0.0008467488728965939, 0.0007943678321345325, 0.000680138586388195, 0.0005250503198235545, 0.00035008399346891467, 0.00017433903913254418, 1.3654759065365786e-05, -0.00012023662910795722, -0.00022004230744546746, -0.00028278655877203823, -0.00030932403696493695, -0.000303595631017173, -0.00027173828967907906, -0.00022115380757916403, -0.00015962693533064012, -9.456301543561361e-05, -3.239242698508598e-05, 2.1834026044830394e-05, 6.465591729820622e-05, 9.423514302187133e-05, 0.00011023733629870652, 0.0001135995895279574, 0.00010622506066378969, 9.064449823134306e-05, 6.968069656987419e-05, 4.614535285268495e-05, 2.2589764257684783e-05, 1.1222553410574188e-06, -1.6702984162279568e-05, -2.992816765096624e-05, -3.817351987034536e-05, -4.15704436190618e-05, -4.066066186879743e-05, -3.627627908264726e-05, -2.941480523936696e-05, -2.11211878939451e-05, -1.2386171478137311e-05, -4.06721946660463e-06, 3.164868147268093e-06, 8.853351706473283e-06, 1.2759045270510269e-05, 1.4843761594865052e-05, 1.52386831207634e-05, 1.4203113097281106e-05, 1.2078969688683756e-05, 9.245831367678071e-06, 6.08045437836844e-06, 2.9235999221651576e-06, 5.586086051031861e-08, -2.316921009154024e-06, -4.06901604995469e-06, -5.152074873501461e-06, -5.585958426149296e-06, -5.445071818654424e-06, -4.842206890315837e-06, -3.911771563929953e-06, -2.794011429656145e-06, -1.6214604515240195e-06, -5.084428740982778e-07, 4.559675488535019e-07, 1.2115046109115402e-06, 1.7270724895951596e-06, 1.998438807806427e-06, 2.0439294937119e-06, 1.8988584838140177e-06, 1.6094105677662187e-06, 1.2266193147149443e-06, 8.009616135935397e-07, 3.77944341741293e-07, -5.095440555174564e-09, -3.209024047747149e-07, -5.529806591353129e-07, -6.951918523341215e-07, -7.504978029311706e-07, -7.291091541335081e-07, -6.463090453259913e-07, -5.202029413617439e-07, -3.696085806847283e-07, -2.1225018511334176e-07, -6.336527166208079e-08, 6.522335100090841e-08, 1.6556855792556952e-07, 2.336330731611209e-07, 2.6896818132269247e-07, 2.741276781068161e-07, 2.5391561534494857e-07, 2.145640819137423e-07, 1.62926749624583e-07, 1.0575756964932808e-07, 4.91243051389894e-08, -2.0141268870952634e-09, -4.40572305666564e-08, -7.484725234970934e-08, -9.360950844782967e-08, -1.0077917640220319e-07, -9.77498867492231e-08, -8.65803231041829e-08, -6.969252152049456e-08, -4.9590463571145404e-08, -2.8620781939545586e-08, -8.789835586264436e-09, 8.356127614629182e-09, 2.1787852341204054e-08, 3.099280136147856e-08, 3.592770964907422e-08, 3.6936531896505046e-08, 3.464736532301445e-08, 2.9861554332533035e-08, 2.3446679222375734e-08, 1.6242815118617203e-08, 8.988654525747571e-09, 2.271138469880804e-09]}, {\"name\": \"Ipd=conv(E_pd)\", \"type\": \"scatter\", \"x\": [0, 1, 2, 3, 4, 5, 6, 7, 8, 9, 10, 11, 12, 13, 14, 15, 16, 17, 18, 19, 20, 21, 22, 23, 24, 25, 26, 27, 28, 29, 30, 31, 32, 33, 34, 35, 36, 37, 38, 39, 40, 41, 42, 43, 44, 45, 46, 47, 48, 49, 50, 51, 52, 53, 54, 55, 56, 57, 58, 59, 60, 61, 62, 63, 64, 65, 66, 67, 68, 69, 70, 71, 72, 73, 74, 75, 76, 77, 78, 79, 80, 81, 82, 83, 84, 85, 86, 87, 88, 89, 90, 91, 92, 93, 94, 95, 96, 97, 98, 99, 100, 101, 102, 103, 104, 105, 106, 107, 108, 109, 110, 111, 112, 113, 114, 115, 116, 117, 118, 119, 120, 121, 122, 123, 124, 125, 126, 127, 128, 129, 130, 131, 132, 133, 134, 135, 136, 137, 138, 139, 140, 141, 142, 143, 144, 145, 146, 147, 148, 149], \"y\": [-1.8189894035458565e-14, 0.0008691209483185958, 0.05485743990850096, 0.13703101065581905, 0.21112261161733842, 0.26191290159271374, 0.28460451035157347, 0.280377296875231, 0.253856395110397, 0.21151745638669128, 0.16063063445729314, 0.1085405028828427, 0.06216627162715213, 0.027651912291992178, 0.010121883243764387, 0.013514691809211854, 0.0404781125312968, 0.09231869437479702, 0.1690051176753684, 0.26923010619746607, 0.3905386665219504, 0.5295310551041547, 0.6821468875939283, 0.8440323396549126, 1.01098587198718, 1.1794699656083376, 1.347167689145235, 1.5135542992884177, 1.6804463247927914, 1.8524846390013476, 2.037504962961987, 2.2467502304174842, 2.4948853567068316, 2.799786851230584, 3.1820973836784567, 3.664558068533221, 4.271157433695663, 5.026163950189654, 5.953136580932717, 7.074032880597776, 8.408554369352705, 9.973881403040526, 11.784950924466752, 13.855415577798452, 16.199386463153296, 18.83400023757689, 21.782763639400304, 25.079519023438156, 28.77275227992369, 32.929842439334436, 37.64074529189169, 43.020526945266774, 49.21013193672071, 56.37479648462455, 64.69960919462, 74.38188250354902, 85.62022551361751, 98.60049250564742, 113.47910368592926, 130.3645712630159, 149.2983853285232, 170.23668780203457, 193.03435555202407, 217.43319321464952, 243.05587260980715, 269.40702627066753, 295.8824980199448, 321.7871846311702, 346.3612049447131, 368.81336594052425, 388.36013720105274, 404.2676829617188, 415.89401895596734, 422.72812911146144, 424.42293888964286, 420.8194086775875, 411.95965671593194, 398.0878860479874, 379.63888506238044, 357.214891595569, 331.5525510410591, 303.4824679288684, 273.88437938977694, 243.641226577325, 213.59535436541125, 184.50974765560073, 157.03665867768802, 131.69525930865836, 108.8591437439726, 88.75369063607326, 71.46254473599261, 56.94185764113299, 45.0404788468496, 35.524034469543864, 28.100773287552734, 22.44718092830421, 18.231631309457416, 15.134718528809167, 12.86534681258318, 11.172106066700222, 9.849885934392898, 8.74204965080555, 7.738777552297267, 6.772386249550229, 5.810530511221303, 4.848206804642828, 3.899412991139019, 2.989195282494188, 2.1466509826757876, 1.3992737426173552, 0.7688454595024643, 0.2689110533207354, -0.09626912941253057, -0.33150204564985575, -0.44946268495601244, -0.4688286831808046, -0.41206411839876134, -0.3031394544876515, -0.1654258838646405, -0.01994117056832619, 0.1159418061198858, 0.22927650222080545, 0.3118233641693719, 0.3598842848738882, 0.3737776317333058, 0.3570590557366779, 0.31559879241058403, 0.2566205479377116, 0.18779281844961315, 0.11644343996597138, 0.04894515366923003, -0.009703398422920154, -0.05609838207110203, -0.08846841933596089, -0.10655803291595392, -0.11139443431159961, -0.10497904186734083, -0.08994459618253116, -0.06921466714022163, -0.045695700024754274, -0.02202356890370018, -0.0003778907824424117, 0.01763102443334214, 0.031005065567029384, 0.039339379148783334, 0.04275400540655643, 0.04179076305715305, 0.03729061047301333, 0.030265808069805545, 0.021779180466260293, 0.012840004097694145, 0.004322904502322671, -0.0030870175147484575, -0.008922513206836374, -0.012938073765024757, -0.01509330004355158, -0.01552082341322857, -0.014484342279760951, -0.012332250802368931, -0.009451774575976141, -0.006227625250230631, -0.0030080823187017816, -8.023925715406222e-05, 0.0023449708403404657, 0.0041383362914803, 0.0052496581454897755, 0.005698455107099107, 0.005560060539210099, 0.004949156911836781, 0.004002665515849912, 0.002863632568502226, 0.0016673777316032101, 0.0005307482186810831, -0.0004551028063542617, -0.0012283827269112635, -0.001757063080117689, -0.002036553084552395, -0.0020853269511502503, -0.0019392524502858067, -0.0016453539399755358, -0.0012556657658910808, -0.0008217095176031819, -0.00038997987253992507, 1.333436695887258e-06, 0.0003243101183052488, 0.0005620037351229712, 0.0007080427661360034, 0.0007653563134339691, 0.0007442909199163461, 0.0006603929186819535, 0.0005321127777036239, 0.00037865016548468413, 0.00021810775610191956, 6.606491517550772e-05, -6.537448709872606e-05, -0.00016805771097953227, -0.00023782281084260506, -0.00027417478786498253, -0.0002796905433145858, -0.0002592530808340976, -0.00021921315436446154, -0.00016656591978762237, -0.00010821354600768274, -5.0364686659385426e-05, 1.8993852045134928e-06, 4.488226889758806e-05, 7.636129282401427e-05, 9.552919687679129e-05, 0.00010281950784252203, 9.965148885895393e-05, 8.813147301127478e-05, 7.074487273470098e-05, 5.006801004654893e-05, 2.8522062242275494e-05, 8.183766258667014e-06, -9.340098689318843e-06, -2.2974353819140704e-05, -3.217881552970425e-05, -3.6903295065724426e-05, -3.750665911943951e-05, -3.465345106396234e-05, -2.920122057894753e-05, -2.2090250167786653e-05, -1.4245113279356403e-05, -6.494798560183757e-06, 4.8470031425496e-07, 6.204115068141336e-06, 1.0372068282546999e-05, 1.288660984840151e-05, 1.381130271737252e-05, 1.3340688476052853e-05, 1.1760070135358874e-05, 9.404195780994412e-06, 6.618727738960662e-06, 3.7274531820308266e-06, 1.007165846316771e-06, -1.3288737786704141e-06, -3.1389184341668044e-06, -4.3529323335284034e-06, -4.966347265271121e-06, -5.029057647334412e-06, -4.631467309081927e-06, -3.889349341079651e-06, -2.9290785005287035e-06, -1.8744908720691456e-06, -8.362610651602154e-07, 9.569248049956513e-08, 8.566235101170605e-07, 1.4083549490351289e-06, 1.7380581311954302e-06, 1.8549801109202237e-06, 1.7857686202660262e-06, 1.5690574980453676e-06, 1.249925044248812e-06, 8.747424584498731e-07, 4.868050288564518e-07, 1.2299984206265435e-07, -1.8837315735709125e-07, -4.286325700775251e-07, -5.887081699995633e-07, -6.682755287101827e-07, -6.742603615350618e-07, -6.189557370817056e-07, -5.17987593724456e-07, -3.8833794960169146e-07, -2.4659063825538395e-07, -1.0751923340990288e-07, 1.6917371610247757e-08, 1.181529592253483e-07, 1.911874162097149e-07, 2.3441200422524844e-07, 2.491615179867068e-07, 2.390818233477532e-07, 2.0940101770783316e-07, 1.6618652916022826e-07, 1.1565652332734544e-07, 6.359834452851488e-08, 1.4926475220278234e-08, -2.6603953302561935e-08, -5.853016480927842e-08, -7.967620246684959e-08, -9.0033199562356e-08, -9.055627497644992e-08, -8.291094669488075e-08, -6.920008035038449e-08, -5.1700120131670244e-08, -3.262732617415054e-08, -1.3951022888036847e-08, 2.738852291628291e-09, 1.630645273476006e-08, 2.609142809584242e-08, 3.1883712529601206e-08, 3.386277213746069e-08, 3.251254062641706e-08, 2.8524629755999342e-08, 2.2699924540070527e-08, 1.5858590618478274e-08, 8.764257444227042e-09, 2.0676343526204734e-09, -3.729577788824656e-09, -8.275371880528404e-09, -1.0491338066796404e-08, -1.0955618597874306e-08, -1.0510684989029073e-08, -9.61008755906434e-09, -8.517773958383046e-09, -7.387295665184368e-09, -6.304772566245731e-09, -5.3149332690516365e-09, -4.436817548914007e-09, -3.674487704663498e-09, -3.0231761123655775e-09, -2.473581012379933e-09, -2.014412594508741e-09, -1.6337759312090582e-09, -1.3203672316608462e-09, -1.0637345487785055e-09, -8.546003238407707e-10, -6.849262385033584e-10, -5.476924896941071e-10, -4.370667738839984e-10, -3.481909516267479e-10, -2.769047569017857e-10, -2.1987943910062312e-10, -1.7435013432987036e-10, -1.3807948562316596e-10, -1.0924850357696414e-10, -8.629285730421543e-11, -6.81120582157746e-11, -5.3705662139691416e-11, -4.2336978367529813e-11, -3.332388587296009e-11, -2.6207089831586928e-11, -2.0581865101121365e-11, -1.618445821804926e-11, -1.2710188457276672e-11, -9.961240721167997e-12, -7.809148883097805e-12, -6.110667527536862e-12, -4.799858288606629e-12, -3.722107067005709e-12, -2.9041302695986817e-12, -2.2805579646956174e-12, -1.7752199710230343e-12, -1.3881162885809318e-12, -1.0817302609211766e-12, -8.500933290633839e-13, -6.417621989385225e-13, -4.982325663149823e-13, -3.957723038183758e-13, -2.972200263684499e-13, -2.2042812020117709e-13, -1.8201440354914667e-13, -1.524824710941175e-13, -1.1329603921694798e-13, -9.28679355638451e-14, -6.188827228470473e-14, -4.4799719489674315e-14, -3.748112931134529e-14, -5.132561042842099e-14, -7.993605777301127e-15, -1.1795009413617664e-14, -2.3447910280083308e-14, -2.4300561562995426e-14, -2.5579538487363606e-15, -7.993605777301127e-15, 1.2434497875801754e-15, -2.1316282072803005e-15, 2.7355895326763858e-15, 2.611244553918368e-15, 3.1175062531474398e-15, -1.454336651107724e-14, -1.149302875091962e-14, -7.185363415374013e-15, -8.348877145181178e-16, -2.4025226252888388e-14, -1.3846701563124952e-14, -9.254819133275305e-15, -1.9007018181582682e-14, 1.2523315717771765e-15, 3.894662370385049e-15, 4.367721462283925e-15, -2.220446049250313e-15, 1.2656542480726785e-14, 2.183142555622908e-14, 1.2034817586936698e-14, 2.594369163944066e-14, 1.4874768083927846e-14, 1.1013412404281553e-14, -4.656275365277906e-15, 1.255218151641202e-14, 4.638456285732673e-14, 1.2822520822908246e-14, 5.595190977203402e-14, -1.0614842338441122e-14, 3.3621994077748244e-14, 2.0734525207899423e-14, 4.277689313880728e-15]}, {\"name\": \"Ipd=conv(deconv(Ipd))\", \"type\": \"scatter\", \"x\": [0, 1, 2, 3, 4, 5, 6, 7, 8, 9, 10, 11, 12, 13, 14, 15, 16, 17, 18, 19, 20, 21, 22, 23, 24, 25, 26, 27, 28, 29, 30, 31, 32, 33, 34, 35, 36, 37, 38, 39, 40, 41, 42, 43, 44, 45, 46, 47, 48, 49, 50, 51, 52, 53, 54, 55, 56, 57, 58, 59, 60, 61, 62, 63, 64, 65, 66, 67, 68, 69, 70, 71, 72, 73, 74, 75, 76, 77, 78, 79, 80, 81, 82, 83, 84, 85, 86, 87, 88, 89, 90, 91, 92, 93, 94, 95, 96, 97, 98, 99, 100, 101, 102, 103, 104, 105, 106, 107, 108, 109, 110, 111, 112, 113, 114, 115, 116, 117, 118, 119, 120, 121, 122, 123, 124, 125, 126, 127, 128, 129, 130, 131, 132, 133, 134, 135, 136, 137, 138, 139, 140, 141, 142, 143, 144, 145, 146, 147, 148, 149], \"y\": [0.0, -1.8189894035458565e-14, 1.8189894035458565e-14, -9.094947017729283e-15, -9.094947017729283e-15, -1.8189894035458565e-14, -9.094947017729283e-15, -9.094947017729283e-15, 4.547473508864641e-15, 2.2737367544323207e-14, 2.7284841053187846e-14, 3.183231456205249e-14, -2.2737367544323206e-15, -1.1368683772161604e-14, -6.8212102632969615e-15, 2.2737367544323206e-15, 2.0463630789890885e-14, 0.0008495563537871931, 0.05381602306082641, 0.14638954646447247, 0.2517805069171658, 0.35696206987004414, 0.45529435640294535, 0.5436884782678237, 0.621095742256351, 0.6876240771073776, 0.7440037694038608, 0.7912624207226585, 0.8313791628777115, 0.9167391248900092, 1.0367255828858837, 1.2176048675089803, 1.486780998644767, 1.8519905313766987, 2.361804948028805, 2.9971718880238143, 3.7748590525529586, 4.762805380802075, 5.945962537184435, 7.3375738909543795, 8.947658726880377, 10.714502936197148, 12.631251059393188, 14.702037077213527, 16.916937153138033, 19.261780310918454, 21.773022136791532, 24.527037782427566, 27.614231747179023, 31.127258583866343, 35.206613018110524, 40.07455364078879, 45.89463959959658, 52.90897791080276, 61.334323666596106, 71.4247464351283, 83.36953654569848, 97.32740985950497, 113.39812422932016, 131.6246808077342, 151.9163551042131, 174.13655337599653, 198.0484261264446, 223.29185464159193, 249.39972634411927, 275.7628306552475, 301.7583267830214, 326.7628735889758, 350.0724958247732, 370.9580726884924, 388.7800317171835, 402.95211018781566, 412.93871092006594, 418.3716660889103, 419.0279064101963, 414.82543434367966, 405.88148117387084, 392.44156258173916, 374.85289884549616, 353.61412615282507, 329.353688532206, 302.79115274466574, 274.66175579322265, 245.71182285659853, 216.71137999758946, 188.35453795326873, 161.23634528272797, 136.11755659086361, 113.66308810481969, 94.11214141458132, 77.39277861396599, 63.28403380580606, 51.50046351502919, 41.73973240634394, 33.70905519960817, 27.14067809302665, 21.89886009858321, 17.85392554471109, 14.851013748955754, 12.634394799931734, 10.983945564272483, 9.69721865728002, 8.626693078081363, 7.679898969924631, 6.7476876887533495, 5.807184684330475, 4.915145192501083, 4.111212975246616, 3.4077647441959544, 2.8043498950789303, 2.294156724454359, 1.8675038851256012, 1.5138005795541007, 1.2226350830249384, 0.9843472924914415, 0.7902929017509398, 0.6329252747856792, 0.5057729730242864, 0.4033613234885165, 0.32110782592499093, 0.25520937975755525, 0.20253178242596653, 0.16050717849362947, 0.1270421542518413, 0.1004373490703138, 0.07931838306935822, 0.0625773114426076, 0.049323531336106965, 0.03884297084720451, 0.03056440445345974, 0.024031816737079676, 0.018881843320981244, 0.014825436724201089, 0.011633022496778691, 0.009122520990599873, 0.007149710187670792, 0.005600492248371749, 0.004384702162507416, 0.0034311616771627324, 0.0026837354351541853, 0.0020981917067388863, 0.0016397076884053711, 0.0012808897520418245, 0.0010002045316164759, 0.0007807370955033574, 0.0006092091920662271, 0.0004752038794472556, 0.00037055377550995516, 0.0002888588290401302, 0.0002251065501335301, 0.00017537321273481817, 0.00013658875748457855, 0.00010635224123568502, 8.278675930905125e-05, 6.442574240358173e-05, 5.0123658015435794e-05, 3.8986107354981115e-05, 3.0315010371148544e-05, 2.356574041200729e-05, 1.8313488646396352e-05, 1.4227060323719343e-05, 1.1048315413972887e-05, 8.57611781157175e-06, 6.6538141982164235e-06, 5.159383913451166e-06, 3.9978397217055315e-06, 3.095279500939796e-06, 2.3941917788761204e-06, 1.8498135000299955e-06, 1.4273439683165634e-06, 1.0997197057349695e-06, 8.458630657059984e-07, 6.493896501069685e-07, 4.975480192115356e-07, 3.803942246349834e-07, 2.902032980500735e-07, 2.2095715195291633e-07, 1.679465350434839e-07, 1.2749720610827352e-07, 9.673906902207818e-08, 7.344453337054802e-08, 5.586703167637097e-08, 4.2633645875866934e-08, 3.269716415843504e-08, 2.5245424311037822e-08, 1.9558957191634365e-08, 1.5151681367342463e-08, 1.1736207916612785e-08, 9.089679551266271e-09, 7.039234084516011e-09, 5.450779401172668e-09, 4.220349101302645e-09, 3.2673419481099587e-09, 2.5293093131040224e-09, 1.921995007592159e-09, 1.4159458672224901e-09, 9.883920171205318e-10, 6.574577327000952e-10, 4.0134450429718526e-10, 2.2099690966115304e-10, 9.939694400884492e-11, 2.3178516883604063e-11, 2.7102764477149322e-14, 1.1541878564003128e-14, 5.382361223382759e-15, 4.487521465534883e-15, 2.6882940318273542e-14, 1.0658141036401502e-16, 1.0251799409388696e-14, 9.663381206337363e-15, 1.4398482406363655e-14, -6.7768013423119554e-15, 1.4988010832439613e-15, -7.884803920887861e-15, 2.856381797755603e-14, -1.505406910240481e-14, 1.3041512314515558e-14, -1.4341583476351617e-14, -1.7000567620328866e-14, -1.8000045898247662e-14, 5.290212712338871e-16, -1.5816306597749018e-14, -4.16010975667902e-15, -2.0680401835448948e-14, 3.863021014183232e-15, -3.91808807620464e-14, -2.26600162245294e-14, -2.734600740295079e-14, -3.4257579412111384e-15, -4.585993043648706e-15, 1.2298452187198272e-14, -4.949454041058843e-14, -2.500414805761686e-14, 1.52871053489545e-14, -1.955134188227903e-14, -3.246176548052371e-14, -1.3019414105835959e-15, -1.3769297117424695e-14, 2.5763982960946843e-15, -5.85142763236124e-14, -4.547473508864641e-15, -3.183231456205249e-14, -4.547473508864641e-15, -1.8189894035458565e-14, -3.183231456205249e-14, -1.8189894035458565e-14, 2.2737367544323206e-15, -1.8189894035458565e-14, 2.2737367544323206e-15, 0.0, -1.9326762412674726e-14, -2.1600499167107046e-14, -7.958078640513123e-15, -1.8189894035458565e-14, -8.526512829121202e-15, -2.671640686457977e-14, -4.263256414560601e-15, -1.3073986337985844e-14, 5.115907697472721e-15, -2.6147972675971688e-14, -2.2453150450019167e-14, -1.2221335055073723e-14, -3.126388037344441e-14, -2.1316282072803006e-14, -4.973799150320702e-16, -2.536637566663558e-14, -1.0658141036401503e-14, -1.0622613899613499e-14, -6.323830348264892e-15, -1.687538997430238e-14, -7.22977233635902e-15, -2.0090595853616834e-14, 1.7190693313295924e-14, -3.481659405224491e-15, 1.9113599591946695e-14, -2.0250467969162858e-15, -7.602807272633072e-15, 8.171241461241153e-15, 7.283063041541027e-16, -1.1013412404281553e-14, -3.668176873361517e-15, -2.1076473899483972e-14, -1.2891909761947318e-14, -1.2678746941219288e-14, 3.1441516057384434e-15, -6.761258219967203e-15, -5.282441151166495e-15, -1.48858703141741e-14, 1.475930488936683e-14, -2.842170943040401e-15, -8.714140520282853e-15, -2.050803971087589e-14, -1.4988010832439613e-15, -3.483879851273741e-15, -1.0373923942097462e-14, -2.359945572294464e-14, -1.75889858233802e-14, -3.5680625121159436e-14, -3.7569114486046827e-14]}],\n",
              "                        {\"template\": {\"data\": {\"bar\": [{\"error_x\": {\"color\": \"#2a3f5f\"}, \"error_y\": {\"color\": \"#2a3f5f\"}, \"marker\": {\"line\": {\"color\": \"#E5ECF6\", \"width\": 0.5}}, \"type\": \"bar\"}], \"barpolar\": [{\"marker\": {\"line\": {\"color\": \"#E5ECF6\", \"width\": 0.5}}, \"type\": \"barpolar\"}], \"carpet\": [{\"aaxis\": {\"endlinecolor\": \"#2a3f5f\", \"gridcolor\": \"white\", \"linecolor\": \"white\", \"minorgridcolor\": \"white\", \"startlinecolor\": \"#2a3f5f\"}, \"baxis\": {\"endlinecolor\": \"#2a3f5f\", \"gridcolor\": \"white\", \"linecolor\": \"white\", \"minorgridcolor\": \"white\", \"startlinecolor\": \"#2a3f5f\"}, \"type\": \"carpet\"}], \"choropleth\": [{\"colorbar\": {\"outlinewidth\": 0, \"ticks\": \"\"}, \"type\": \"choropleth\"}], \"contour\": [{\"colorbar\": {\"outlinewidth\": 0, \"ticks\": \"\"}, \"colorscale\": [[0.0, \"#0d0887\"], [0.1111111111111111, \"#46039f\"], [0.2222222222222222, \"#7201a8\"], [0.3333333333333333, \"#9c179e\"], [0.4444444444444444, \"#bd3786\"], [0.5555555555555556, \"#d8576b\"], [0.6666666666666666, \"#ed7953\"], [0.7777777777777778, \"#fb9f3a\"], [0.8888888888888888, \"#fdca26\"], [1.0, \"#f0f921\"]], \"type\": \"contour\"}], \"contourcarpet\": [{\"colorbar\": {\"outlinewidth\": 0, \"ticks\": \"\"}, \"type\": \"contourcarpet\"}], \"heatmap\": [{\"colorbar\": {\"outlinewidth\": 0, \"ticks\": \"\"}, \"colorscale\": [[0.0, \"#0d0887\"], [0.1111111111111111, \"#46039f\"], [0.2222222222222222, \"#7201a8\"], [0.3333333333333333, \"#9c179e\"], [0.4444444444444444, \"#bd3786\"], [0.5555555555555556, \"#d8576b\"], [0.6666666666666666, \"#ed7953\"], [0.7777777777777778, \"#fb9f3a\"], [0.8888888888888888, \"#fdca26\"], [1.0, \"#f0f921\"]], \"type\": \"heatmap\"}], \"heatmapgl\": [{\"colorbar\": {\"outlinewidth\": 0, \"ticks\": \"\"}, \"colorscale\": [[0.0, \"#0d0887\"], [0.1111111111111111, \"#46039f\"], [0.2222222222222222, \"#7201a8\"], [0.3333333333333333, \"#9c179e\"], [0.4444444444444444, \"#bd3786\"], [0.5555555555555556, \"#d8576b\"], [0.6666666666666666, \"#ed7953\"], [0.7777777777777778, \"#fb9f3a\"], [0.8888888888888888, \"#fdca26\"], [1.0, \"#f0f921\"]], \"type\": \"heatmapgl\"}], \"histogram\": [{\"marker\": {\"colorbar\": {\"outlinewidth\": 0, \"ticks\": \"\"}}, \"type\": \"histogram\"}], \"histogram2d\": [{\"colorbar\": {\"outlinewidth\": 0, \"ticks\": \"\"}, \"colorscale\": [[0.0, \"#0d0887\"], [0.1111111111111111, \"#46039f\"], [0.2222222222222222, \"#7201a8\"], [0.3333333333333333, \"#9c179e\"], [0.4444444444444444, \"#bd3786\"], [0.5555555555555556, \"#d8576b\"], [0.6666666666666666, \"#ed7953\"], [0.7777777777777778, \"#fb9f3a\"], [0.8888888888888888, \"#fdca26\"], [1.0, \"#f0f921\"]], \"type\": \"histogram2d\"}], \"histogram2dcontour\": [{\"colorbar\": {\"outlinewidth\": 0, \"ticks\": \"\"}, \"colorscale\": [[0.0, \"#0d0887\"], [0.1111111111111111, \"#46039f\"], [0.2222222222222222, \"#7201a8\"], [0.3333333333333333, \"#9c179e\"], [0.4444444444444444, \"#bd3786\"], [0.5555555555555556, \"#d8576b\"], [0.6666666666666666, \"#ed7953\"], [0.7777777777777778, \"#fb9f3a\"], [0.8888888888888888, \"#fdca26\"], [1.0, \"#f0f921\"]], \"type\": \"histogram2dcontour\"}], \"mesh3d\": [{\"colorbar\": {\"outlinewidth\": 0, \"ticks\": \"\"}, \"type\": \"mesh3d\"}], \"parcoords\": [{\"line\": {\"colorbar\": {\"outlinewidth\": 0, \"ticks\": \"\"}}, \"type\": \"parcoords\"}], \"pie\": [{\"automargin\": true, \"type\": \"pie\"}], \"scatter\": [{\"marker\": {\"colorbar\": {\"outlinewidth\": 0, \"ticks\": \"\"}}, \"type\": \"scatter\"}], \"scatter3d\": [{\"line\": {\"colorbar\": {\"outlinewidth\": 0, \"ticks\": \"\"}}, \"marker\": {\"colorbar\": {\"outlinewidth\": 0, \"ticks\": \"\"}}, \"type\": \"scatter3d\"}], \"scattercarpet\": [{\"marker\": {\"colorbar\": {\"outlinewidth\": 0, \"ticks\": \"\"}}, \"type\": \"scattercarpet\"}], \"scattergeo\": [{\"marker\": {\"colorbar\": {\"outlinewidth\": 0, \"ticks\": \"\"}}, \"type\": \"scattergeo\"}], \"scattergl\": [{\"marker\": {\"colorbar\": {\"outlinewidth\": 0, \"ticks\": \"\"}}, \"type\": \"scattergl\"}], \"scattermapbox\": [{\"marker\": {\"colorbar\": {\"outlinewidth\": 0, \"ticks\": \"\"}}, \"type\": \"scattermapbox\"}], \"scatterpolar\": [{\"marker\": {\"colorbar\": {\"outlinewidth\": 0, \"ticks\": \"\"}}, \"type\": \"scatterpolar\"}], \"scatterpolargl\": [{\"marker\": {\"colorbar\": {\"outlinewidth\": 0, \"ticks\": \"\"}}, \"type\": \"scatterpolargl\"}], \"scatterternary\": [{\"marker\": {\"colorbar\": {\"outlinewidth\": 0, \"ticks\": \"\"}}, \"type\": \"scatterternary\"}], \"surface\": [{\"colorbar\": {\"outlinewidth\": 0, \"ticks\": \"\"}, \"colorscale\": [[0.0, \"#0d0887\"], [0.1111111111111111, \"#46039f\"], [0.2222222222222222, \"#7201a8\"], [0.3333333333333333, \"#9c179e\"], [0.4444444444444444, \"#bd3786\"], [0.5555555555555556, \"#d8576b\"], [0.6666666666666666, \"#ed7953\"], [0.7777777777777778, \"#fb9f3a\"], [0.8888888888888888, \"#fdca26\"], [1.0, \"#f0f921\"]], \"type\": \"surface\"}], \"table\": [{\"cells\": {\"fill\": {\"color\": \"#EBF0F8\"}, \"line\": {\"color\": \"white\"}}, \"header\": {\"fill\": {\"color\": \"#C8D4E3\"}, \"line\": {\"color\": \"white\"}}, \"type\": \"table\"}]}, \"layout\": {\"annotationdefaults\": {\"arrowcolor\": \"#2a3f5f\", \"arrowhead\": 0, \"arrowwidth\": 1}, \"coloraxis\": {\"colorbar\": {\"outlinewidth\": 0, \"ticks\": \"\"}}, \"colorscale\": {\"diverging\": [[0, \"#8e0152\"], [0.1, \"#c51b7d\"], [0.2, \"#de77ae\"], [0.3, \"#f1b6da\"], [0.4, \"#fde0ef\"], [0.5, \"#f7f7f7\"], [0.6, \"#e6f5d0\"], [0.7, \"#b8e186\"], [0.8, \"#7fbc41\"], [0.9, \"#4d9221\"], [1, \"#276419\"]], \"sequential\": [[0.0, \"#0d0887\"], [0.1111111111111111, \"#46039f\"], [0.2222222222222222, \"#7201a8\"], [0.3333333333333333, \"#9c179e\"], [0.4444444444444444, \"#bd3786\"], [0.5555555555555556, \"#d8576b\"], [0.6666666666666666, \"#ed7953\"], [0.7777777777777778, \"#fb9f3a\"], [0.8888888888888888, \"#fdca26\"], [1.0, \"#f0f921\"]], \"sequentialminus\": [[0.0, \"#0d0887\"], [0.1111111111111111, \"#46039f\"], [0.2222222222222222, \"#7201a8\"], [0.3333333333333333, \"#9c179e\"], [0.4444444444444444, \"#bd3786\"], [0.5555555555555556, \"#d8576b\"], [0.6666666666666666, \"#ed7953\"], [0.7777777777777778, \"#fb9f3a\"], [0.8888888888888888, \"#fdca26\"], [1.0, \"#f0f921\"]]}, \"colorway\": [\"#636efa\", \"#EF553B\", \"#00cc96\", \"#ab63fa\", \"#FFA15A\", \"#19d3f3\", \"#FF6692\", \"#B6E880\", \"#FF97FF\", \"#FECB52\"], \"font\": {\"color\": \"#2a3f5f\"}, \"geo\": {\"bgcolor\": \"white\", \"lakecolor\": \"white\", \"landcolor\": \"#E5ECF6\", \"showlakes\": true, \"showland\": true, \"subunitcolor\": \"white\"}, \"hoverlabel\": {\"align\": \"left\"}, \"hovermode\": \"closest\", \"mapbox\": {\"style\": \"light\"}, \"paper_bgcolor\": \"white\", \"plot_bgcolor\": \"#E5ECF6\", \"polar\": {\"angularaxis\": {\"gridcolor\": \"white\", \"linecolor\": \"white\", \"ticks\": \"\"}, \"bgcolor\": \"#E5ECF6\", \"radialaxis\": {\"gridcolor\": \"white\", \"linecolor\": \"white\", \"ticks\": \"\"}}, \"scene\": {\"xaxis\": {\"backgroundcolor\": \"#E5ECF6\", \"gridcolor\": \"white\", \"gridwidth\": 2, \"linecolor\": \"white\", \"showbackground\": true, \"ticks\": \"\", \"zerolinecolor\": \"white\"}, \"yaxis\": {\"backgroundcolor\": \"#E5ECF6\", \"gridcolor\": \"white\", \"gridwidth\": 2, \"linecolor\": \"white\", \"showbackground\": true, \"ticks\": \"\", \"zerolinecolor\": \"white\"}, \"zaxis\": {\"backgroundcolor\": \"#E5ECF6\", \"gridcolor\": \"white\", \"gridwidth\": 2, \"linecolor\": \"white\", \"showbackground\": true, \"ticks\": \"\", \"zerolinecolor\": \"white\"}}, \"shapedefaults\": {\"line\": {\"color\": \"#2a3f5f\"}}, \"ternary\": {\"aaxis\": {\"gridcolor\": \"white\", \"linecolor\": \"white\", \"ticks\": \"\"}, \"baxis\": {\"gridcolor\": \"white\", \"linecolor\": \"white\", \"ticks\": \"\"}, \"bgcolor\": \"#E5ECF6\", \"caxis\": {\"gridcolor\": \"white\", \"linecolor\": \"white\", \"ticks\": \"\"}}, \"title\": {\"x\": 0.05}, \"xaxis\": {\"automargin\": true, \"gridcolor\": \"white\", \"linecolor\": \"white\", \"ticks\": \"\", \"title\": {\"standoff\": 15}, \"zerolinecolor\": \"white\", \"zerolinewidth\": 2}, \"yaxis\": {\"automargin\": true, \"gridcolor\": \"white\", \"linecolor\": \"white\", \"ticks\": \"\", \"title\": {\"standoff\": 15}, \"zerolinecolor\": \"white\", \"zerolinewidth\": 2}}}, \"title\": {\"text\": \"$\\\\text{Actual } E_{pd} \\\\text{ vs. deconvolution of } I_{pd}$\", \"x\": 0.5, \"xanchor\": \"center\"}, \"xaxis\": {\"title\": {\"text\": \"Day\"}}, \"yaxis\": {\"title\": {\"text\": \"Count\"}}},\n",
              "                        {\"responsive\": true}\n",
              "                    ).then(function(){\n",
              "                            \n",
              "var gd = document.getElementById('e9fc1c98-764b-4c66-bed6-0ff564a53a48');\n",
              "var x = new MutationObserver(function (mutations, observer) {{\n",
              "        var display = window.getComputedStyle(gd).display;\n",
              "        if (!display || display === 'none') {{\n",
              "            console.log([gd, 'removed!']);\n",
              "            Plotly.purge(gd);\n",
              "            observer.disconnect();\n",
              "        }}\n",
              "}});\n",
              "\n",
              "// Listen for the removal of the full notebook cells\n",
              "var notebookContainer = gd.closest('#notebook-container');\n",
              "if (notebookContainer) {{\n",
              "    x.observe(notebookContainer, {childList: true});\n",
              "}}\n",
              "\n",
              "// Listen for the clearing of the current output cell\n",
              "var outputEl = gd.closest('.output');\n",
              "if (outputEl) {{\n",
              "    x.observe(outputEl, {childList: true});\n",
              "}}\n",
              "\n",
              "                        })\n",
              "                };\n",
              "                \n",
              "            </script>\n",
              "        </div>\n",
              "</body>\n",
              "</html>"
            ]
          },
          "metadata": {
            "tags": []
          }
        }
      ]
    },
    {
      "cell_type": "markdown",
      "metadata": {
        "id": "QeubQWSlq9Dq",
        "colab_type": "text"
      },
      "source": [
        "The iterative deconvolution seems to work nicely and we get close results."
      ]
    },
    {
      "cell_type": "markdown",
      "metadata": {
        "colab_type": "text",
        "id": "5oCtXzOI35CW"
      },
      "source": [
        "### Comparing $I_{pd}$ from the model to $I_{pd}$ obtained by de-convolving $R_{pd}$\n",
        "\n",
        "Let's try the same thing but using $R_{pd}$ to get $I_{pd}$:"
      ]
    },
    {
      "cell_type": "code",
      "metadata": {
        "colab_type": "code",
        "id": "vrYpw34onsTV",
        "colab": {
          "base_uri": "https://localhost:8080/",
          "height": 163
        },
        "outputId": "b4a5b91a-7a26-4070-a891-de1e2b4b6a26"
      },
      "source": [
        "#collapse_hide\n",
        "#regularization parameter\n",
        "alpha=2\n",
        "\n",
        "# Setup up the resultant Ipd we want to compare our guess with\n",
        "Rpd=np.floor(lowpass(results_stoch0[6]))\n",
        "Rpd[Rpd<0]=0\n",
        "\n",
        "# Find delay caused by h_I\n",
        "delay=Rpd.argmax()-signal.fftconvolve(Rpd, h_I, mode='full').argmax()\n",
        "\n",
        "# We want initial guess to simply be the result of the convolution delayed\n",
        "initial_guess=np.roll(Rpd,delay)\n",
        "Inext = initial_guess\n",
        "\n",
        "\n",
        "# AN array to record MSE between result we want and our iterated guess\n",
        "mse=np.array([])\n",
        "mse=np.append(mse, 100000)\n",
        "mse=np.append(mse, msecalc(Rpd, signal.fftconvolve(h_I, Inext, mode='full')[:len(Rpd)]))\n",
        "\n",
        "itercount=0\n",
        "while mse[-1] < mse[-2]:\n",
        "  itercount=itercount+1\n",
        "  Inext=iter_deconv(alpha, h_I, Inext, delay, Rpd)\n",
        "  mse=np.append(mse, msecalc(Rpd, signal.fftconvolve(h_I, Inext, mode='full')[:len(Rpd)]))\n",
        "  print(\"Iteration #\" + str(itercount) +\": MSE= \"+str(mse[itercount]))\n",
        "print(\"Iteration #\" + str(itercount+1) +\": MSE= \"+str(mse[-1])+\" so we use the result of the previous iteration.\")"
      ],
      "execution_count": 291,
      "outputs": [
        {
          "output_type": "stream",
          "text": [
            "Iteration #1: MSE= 163.24592258344154\n",
            "Iteration #2: MSE= 26.039584599432782\n",
            "Iteration #3: MSE= 13.362584647181091\n",
            "Iteration #4: MSE= 7.919689750683741\n",
            "Iteration #5: MSE= 7.224094333852595\n",
            "Iteration #6: MSE= 5.294088428773796\n",
            "Iteration #7: MSE= 4.99317339765814\n",
            "Iteration #8: MSE= 3.671920761512619\n",
            "Iteration #9: MSE= 3.7327951754009017 so we use the result of the previous iteration.\n"
          ],
          "name": "stdout"
        }
      ]
    },
    {
      "cell_type": "code",
      "metadata": {
        "id": "y45Y_cAadLAu",
        "colab_type": "code",
        "colab": {
          "base_uri": "https://localhost:8080/",
          "height": 542
        },
        "outputId": "58032494-7cea-4775-8e98-012479f8385f"
      },
      "source": [
        "#collapse_hide\n",
        "fig = go.Figure(data=[    \n",
        "    go.Scatter(name='Ipd', x=np.arange(150), y=results_stoch0[5]),\n",
        "    go.Scatter(name='Ipd=lowpass(Ipd)', x=np.arange(150), y=lowpass(results_stoch0[5])),\n",
        "    go.Scatter(name='Ipd=deconv(Rpd)', x=np.arange(150), y=Inext),\n",
        "    go.Scatter(name='Rpd', x=np.arange(150), y=results_stoch0[6]),\n",
        "    go.Scatter(name='Rpd=conv(Inext)', x=np.arange(150), y=signal.fftconvolve(h_I, Inext, mode='full')),\n",
        "    go.Scatter(name='Rpd=lowpass(Rpd)', x=np.arange(150), y=lowpass(results_stoch0[6])),\n",
        "    go.Scatter(name='Rpd=conv(deconv(Rpd))', x=np.arange(150), y=signal.fftconvolve(h_I, Inext, mode='full')[:len(Rpd)])    \n",
        "])\n",
        "\n",
        "fig.update_layout(\n",
        "    \n",
        "    xaxis_title = 'Day',\n",
        "    yaxis_title = 'Count',\n",
        "    title={\n",
        "        'text':r'$\\text{Actual } I_{pd} \\text{ vs. deconvolution of } R_{pd}$',\n",
        "        'x':0.5,\n",
        "        'xanchor':'center'\n",
        "    }\n",
        ")\n",
        "\n",
        "fig.show()"
      ],
      "execution_count": 292,
      "outputs": [
        {
          "output_type": "display_data",
          "data": {
            "text/html": [
              "<html>\n",
              "<head><meta charset=\"utf-8\" /></head>\n",
              "<body>\n",
              "    <div>\n",
              "            <script src=\"https://cdnjs.cloudflare.com/ajax/libs/mathjax/2.7.5/MathJax.js?config=TeX-AMS-MML_SVG\"></script><script type=\"text/javascript\">if (window.MathJax) {MathJax.Hub.Config({SVG: {font: \"STIX-Web\"}});}</script>\n",
              "                <script type=\"text/javascript\">window.PlotlyConfig = {MathJaxConfig: 'local'};</script>\n",
              "        <script src=\"https://cdn.plot.ly/plotly-latest.min.js\"></script>    \n",
              "            <div id=\"6fec8b68-0b49-4d71-bc5f-36f7404abd6a\" class=\"plotly-graph-div\" style=\"height:525px; width:100%;\"></div>\n",
              "            <script type=\"text/javascript\">\n",
              "                \n",
              "                    window.PLOTLYENV=window.PLOTLYENV || {};\n",
              "                    \n",
              "                if (document.getElementById(\"6fec8b68-0b49-4d71-bc5f-36f7404abd6a\")) {\n",
              "                    Plotly.newPlot(\n",
              "                        '6fec8b68-0b49-4d71-bc5f-36f7404abd6a',\n",
              "                        [{\"name\": \"Ipd\", \"type\": \"scatter\", \"x\": [0, 1, 2, 3, 4, 5, 6, 7, 8, 9, 10, 11, 12, 13, 14, 15, 16, 17, 18, 19, 20, 21, 22, 23, 24, 25, 26, 27, 28, 29, 30, 31, 32, 33, 34, 35, 36, 37, 38, 39, 40, 41, 42, 43, 44, 45, 46, 47, 48, 49, 50, 51, 52, 53, 54, 55, 56, 57, 58, 59, 60, 61, 62, 63, 64, 65, 66, 67, 68, 69, 70, 71, 72, 73, 74, 75, 76, 77, 78, 79, 80, 81, 82, 83, 84, 85, 86, 87, 88, 89, 90, 91, 92, 93, 94, 95, 96, 97, 98, 99, 100, 101, 102, 103, 104, 105, 106, 107, 108, 109, 110, 111, 112, 113, 114, 115, 116, 117, 118, 119, 120, 121, 122, 123, 124, 125, 126, 127, 128, 129, 130, 131, 132, 133, 134, 135, 136, 137, 138, 139, 140, 141, 142, 143, 144, 145, 146, 147, 148, 149], \"y\": [0, 0, 0, 0, 0, 0, 1, 0, 0, 0, 0, 0, 0, 0, 0, 0, 0, 1, 0, 0, 1, 1, 0, 0, 1, 1, 2, 1, 0, 2, 2, 4, 4, 3, 5, 5, 6, 5, 3, 6, 10, 14, 15, 9, 11, 19, 19, 20, 28, 26, 37, 56, 57, 52, 65, 75, 84, 97, 120, 121, 157, 172, 171, 242, 251, 284, 299, 292, 330, 355, 371, 413, 433, 428, 443, 446, 387, 398, 391, 362, 323, 290, 256, 225, 210, 198, 148, 126, 94, 99, 77, 54, 66, 43, 31, 26, 21, 18, 14, 10, 11, 17, 6, 3, 7, 2, 2, 1, 1, 1, 0, 1, 1, 1, 0, 2, 0, 0, 0, 1, 0, 0, 0, 0, 0, 0, 0, 0, 0, 0, 0, 0, 0, 0, 0, 0, 0, 0, 0, 0, 0, 0, 0, 0, 0, 0, 0, 0, 0, 0, 0, 0, 0, 0, 0, 0, 0, 0, 0, 0, 0, 0, 0, 0, 0, 0, 0, 0, 0, 0, 0, 0, 0, 0, 0, 0, 0, 0, 0, 0, 0, 0, 0, 0, 0, 0, 0, 0, 0, 0, 0, 0, 0, 0, 0, 0, 0, 0, 0, 0, 0, 0, 0, 0, 0, 0, 0, 0, 0, 0, 0, 0, 0, 0, 0, 0, 0, 0, 0, 0, 0, 0, 0, 0, 0, 0, 0, 0, 0, 0, 0, 0, 0, 0, 0, 0, 0, 0, 0, 0, 0, 0, 0, 0, 0, 0, 0, 0, 0, 0, 0, 0, 0, 0, 0, 0, 0, 0, 0, 0, 0, 0, 0, 0, 0, 0, 0, 0, 0, 0, 0, 0, 0, 0, 0, 0, 0, 0, 0, 0, 0, 0, 0, 0, 0, 0, 0, 0, 0, 0, 0, 0, 0, 0, 0, 0, 0, 0, 0]}, {\"name\": \"Ipd=lowpass(Ipd)\", \"type\": \"scatter\", \"x\": [0, 1, 2, 3, 4, 5, 6, 7, 8, 9, 10, 11, 12, 13, 14, 15, 16, 17, 18, 19, 20, 21, 22, 23, 24, 25, 26, 27, 28, 29, 30, 31, 32, 33, 34, 35, 36, 37, 38, 39, 40, 41, 42, 43, 44, 45, 46, 47, 48, 49, 50, 51, 52, 53, 54, 55, 56, 57, 58, 59, 60, 61, 62, 63, 64, 65, 66, 67, 68, 69, 70, 71, 72, 73, 74, 75, 76, 77, 78, 79, 80, 81, 82, 83, 84, 85, 86, 87, 88, 89, 90, 91, 92, 93, 94, 95, 96, 97, 98, 99, 100, 101, 102, 103, 104, 105, 106, 107, 108, 109, 110, 111, 112, 113, 114, 115, 116, 117, 118, 119, 120, 121, 122, 123, 124, 125, 126, 127, 128, 129, 130, 131, 132, 133, 134, 135, 136, 137, 138, 139, 140, 141, 142, 143, 144, 145, 146, 147, 148, 149], \"y\": [0.014060934329936731, 0.04193174798534636, 0.06796630555093713, 0.09053242273047934, 0.10817480776885006, 0.11976586621430133, 0.12464103482753361, 0.12270581461223246, 0.11450412702580749, 0.1012417235815707, 0.08476318760819115, 0.06748525980921967, 0.05229188299072939, 0.04239740824509587, 0.04118438052002209, 0.052021981527296944, 0.0780712574775397, 0.1220842885843622, 0.18620690889241018, 0.2717985825611519, 0.3792881042848919, 0.5080887403983128, 0.6565997063187653, 0.8223209214004374, 1.0021033507556623, 1.1925469123109562, 1.390542054837353, 1.5939314572003378, 1.8022474923047158, 2.017461485641335, 2.244664329566319, 2.4925874014807596, 2.7738722390390227, 3.1050117005174145, 3.5059168026183176, 3.999110367735807, 4.608605430428807, 5.358585174712771, 6.272053172957489, 7.369658993753981, 8.66891775772337, 10.184030595558967, 11.926479787925022, 13.90652363605623, 16.135653609644148, 18.629994557978094, 21.414520259157065, 24.527821497076957, 28.027014894527138, 31.992239689620344, 36.530081429360955, 41.775211381871124, 47.88956250704963, 55.05849456630199, 63.48363222246661, 73.37236506300532, 84.9243322216667, 98.31553031068358, 113.68094916382007, 131.09683857524092, 150.5638333286505, 171.99220986287804, 195.19051494699556, 219.85869749028956, 245.58669811289872, 271.85922369854467, 298.0671721819758, 323.5258752087888, 347.4999632578389, 369.2341874230348, 387.9889420223023, 403.0785755075052, 413.9099718083745, 420.018476071379, 421.0981498664869, 417.02362881032354, 407.86149691028066, 393.86999326924854, 375.48689418350307, 353.30643122082375, 328.0470073361956, 300.5121881827137, 271.54792310001585, 241.9991463141767, 212.66880256781573, 184.28195685342322, 157.45705711383602, 132.6857166192531, 110.32165225881415, 90.57870917118166, 73.53725464213522, 59.157671850971084, 47.2992727893741, 37.74271858792491, 30.213998430203958, 24.408158247428542, 20.01124537215493, 16.7192903009152, 14.253529321326502, 12.371443626018507, 10.873528648292863, 9.605999427652307, 8.459878210663248, 7.36709693519996, 6.294376513174328, 5.235710586323894, 4.204278076473573, 3.224537997519167, 2.3251326773754784, 1.533059245484535, 0.869384077397452, 0.34659094124175094, -0.03251125773426135, -0.27452724235462794, -0.3941574124961035, -0.4121663935313417, -0.35298596092573675, -0.24226986204352569, -0.10466223335065833, 0.03802932088249174, 0.16814029970832856, 0.2728918553110372, 0.3445885171246983, 0.3803400372073205, 0.38141049471483507, 0.35231574128863063, 0.2997931597556454, 0.23175817296673906, 0.15634332699316894, 0.08109158373556719, 0.012348985903775844, -0.04512404370153059, -0.08832657636305775, -0.11599868598412072, -0.12844639158333873, -0.12725359953152499, -0.1149270933947785, -0.09451852801174286, -0.0692617143022502, -0.042255371275581995, -0.016212128174432298, 0.006715049795085656, 0.02502676505604167, 0.037896736735823985, 0.04512807287383172, 0.047061102639505456, 0.04444937620388136, 0.03832041152426735, 0.029836256937895045, 0.020166340410825698, 0.010381813231133508, 0.0013770761796138885, -0.006179240298125873, -0.011864595809738568, -0.015497345231322106, -0.01711093890851577, -0.016913412479282595, -0.015238347932912526, -0.01249317226639382, -0.00910987568125066, -0.005502129505639867, -0.0020315186640084185, 0.001015683879858405, 0.0034409638412790824, 0.005136000853415817, 0.006076620220317547, 0.006310280717558573, 0.005939343401084361, 0.005102351942532096, 0.003955343798829355, 0.0026548567158232177, 0.0013438533932278213, 0.0001413132066044986, -0.0008642183395371076, -0.001617236061750402, -0.00209447475364849, -0.0023013675177265807, -0.0022665571702668048, -0.0020352905854464313, -0.0016624809790066059, -0.001206115945544592, -0.0007215399988173252, -0.00025697004173037016, 0.0001495704630909827, 0.0004718720059378986, 0.0006958213959143243, 0.0008185540363150911, 0.0008467488728965939, 0.0007943678321345325, 0.000680138586388195, 0.0005250503198235545, 0.00035008399346891467, 0.00017433903913254418, 1.3654759065365786e-05, -0.00012023662910795722, -0.00022004230744546746, -0.00028278655877203823, -0.00030932403696493695, -0.000303595631017173, -0.00027173828967907906, -0.00022115380757916403, -0.00015962693533064012, -9.456301543561361e-05, -3.239242698508598e-05, 2.1834026044830394e-05, 6.465591729820622e-05, 9.423514302187133e-05, 0.00011023733629870652, 0.0001135995895279574, 0.00010622506066378969, 9.064449823134306e-05, 6.968069656987419e-05, 4.614535285268495e-05, 2.2589764257684783e-05, 1.1222553410574188e-06, -1.6702984162279568e-05, -2.992816765096624e-05, -3.817351987034536e-05, -4.15704436190618e-05, -4.066066186879743e-05, -3.627627908264726e-05, -2.941480523936696e-05, -2.11211878939451e-05, -1.2386171478137311e-05, -4.06721946660463e-06, 3.164868147268093e-06, 8.853351706473283e-06, 1.2759045270510269e-05, 1.4843761594865052e-05, 1.52386831207634e-05, 1.4203113097281106e-05, 1.2078969688683756e-05, 9.245831367678071e-06, 6.08045437836844e-06, 2.9235999221651576e-06, 5.586086051031861e-08, -2.316921009154024e-06, -4.06901604995469e-06, -5.152074873501461e-06, -5.585958426149296e-06, -5.445071818654424e-06, -4.842206890315837e-06, -3.911771563929953e-06, -2.794011429656145e-06, -1.6214604515240195e-06, -5.084428740982778e-07, 4.559675488535019e-07, 1.2115046109115402e-06, 1.7270724895951596e-06, 1.998438807806427e-06, 2.0439294937119e-06, 1.8988584838140177e-06, 1.6094105677662187e-06, 1.2266193147149443e-06, 8.009616135935397e-07, 3.77944341741293e-07, -5.095440555174564e-09, -3.209024047747149e-07, -5.529806591353129e-07, -6.951918523341215e-07, -7.504978029311706e-07, -7.291091541335081e-07, -6.463090453259913e-07, -5.202029413617439e-07, -3.696085806847283e-07, -2.1225018511334176e-07, -6.336527166208079e-08, 6.522335100090841e-08, 1.6556855792556952e-07, 2.336330731611209e-07, 2.6896818132269247e-07, 2.741276781068161e-07, 2.5391561534494857e-07, 2.145640819137423e-07, 1.62926749624583e-07, 1.0575756964932808e-07, 4.91243051389894e-08, -2.0141268870952634e-09, -4.40572305666564e-08, -7.484725234970934e-08, -9.360950844782967e-08, -1.0077917640220319e-07, -9.77498867492231e-08, -8.65803231041829e-08, -6.969252152049456e-08, -4.9590463571145404e-08, -2.8620781939545586e-08, -8.789835586264436e-09, 8.356127614629182e-09, 2.1787852341204054e-08, 3.099280136147856e-08, 3.592770964907422e-08, 3.6936531896505046e-08, 3.464736532301445e-08, 2.9861554332533035e-08, 2.3446679222375734e-08, 1.6242815118617203e-08, 8.988654525747571e-09, 2.271138469880804e-09]}, {\"name\": \"Ipd=deconv(Rpd)\", \"type\": \"scatter\", \"x\": [0, 1, 2, 3, 4, 5, 6, 7, 8, 9, 10, 11, 12, 13, 14, 15, 16, 17, 18, 19, 20, 21, 22, 23, 24, 25, 26, 27, 28, 29, 30, 31, 32, 33, 34, 35, 36, 37, 38, 39, 40, 41, 42, 43, 44, 45, 46, 47, 48, 49, 50, 51, 52, 53, 54, 55, 56, 57, 58, 59, 60, 61, 62, 63, 64, 65, 66, 67, 68, 69, 70, 71, 72, 73, 74, 75, 76, 77, 78, 79, 80, 81, 82, 83, 84, 85, 86, 87, 88, 89, 90, 91, 92, 93, 94, 95, 96, 97, 98, 99, 100, 101, 102, 103, 104, 105, 106, 107, 108, 109, 110, 111, 112, 113, 114, 115, 116, 117, 118, 119, 120, 121, 122, 123, 124, 125, 126, 127, 128, 129, 130, 131, 132, 133, 134, 135, 136, 137, 138, 139, 140, 141, 142, 143, 144, 145, 146, 147, 148, 149], \"y\": [0.0, 0.0, 0.0, 0.0, 0.0, 0.0, 0.0, 0.0, 0.0, 0.0, 0.0, 0.0, 0.0, 0.0, 0.0, 0.0, 0.0, 0.0, 0.0, 0.0, 0.0, 0.0, 0.0, 0.0, 0.0, 0.0, 0.0, 0.0, 0.0, 0.0, 0.0, 0.0, 0.0, 0.0, 0.0, 2.0, 4.0, 6.0, 9.0, 11.0, 14.0, 16.0, 18.0, 19.0, 21.0, 22.0, 22.0, 23.0, 24.0, 25.0, 26.0, 29.0, 33.0, 38.0, 46.0, 56.0, 68.0, 83.0, 101.0, 121.0, 144.0, 169.0, 196.0, 225.0, 253.0, 282.0, 310.0, 336.0, 360.0, 380.0, 397.0, 410.0, 418.0, 421.0, 418.0, 411.0, 399.0, 383.0, 362.0, 339.0, 312.0, 284.0, 255.0, 225.0, 196.0, 167.0, 141.0, 117.0, 95.0, 76.0, 60.0, 47.0, 37.0, 29.0, 24.0, 20.0, 18.0, 16.0, 16.0, 16.0, 16.0, 15.0, 14.0, 13.0, 12.0, 10.0, 8.0, 5.0, 3.0, 0.0, 0.0, 0.0, 0.0, 0.0, 0.0, 0.0, 0.0, 0.0, 0.0, 0.0, 0.0, 0.0, 0.0, 0.0, 0.0, 0.0, 0.0, 0.0, 0.0, 0.0, 0.0, 0.0, 0.0, 0.0, 0.0, 0.0, 0.0, 0.0, 0.0, 0.0, 0.0, 0.0, 0.0, 0.0, 0.0, 0.0, 0.0, 0.0, 0.0, 0.0, 0.0, 0.0, 0.0, 0.0, 0.0, 0.0, 0.0, 0.0, 0.0, 0.0, 0.0, 0.0, 0.0, 0.0, 0.0, 0.0, 0.0, 0.0, 0.0, 0.0, 0.0, 0.0, 0.0, 0.0, 0.0, 0.0, 0.0, 0.0, 0.0, 0.0, 0.0, 0.0, 0.0, 0.0, 0.0, 0.0, 0.0, 0.0, 0.0, 0.0, 0.0, 0.0, 0.0, 0.0, 0.0, 0.0, 0.0, 0.0, 0.0, 0.0, 0.0, 0.0, 0.0, 0.0, 0.0, 0.0, 0.0, 0.0, 0.0, 0.0, 0.0, 0.0, 0.0, 0.0, 0.0, 0.0, 0.0, 0.0, 0.0, 0.0, 0.0, 0.0, 0.0, 0.0, 0.0, 0.0, 0.0, 0.0, 0.0, 0.0, 0.0, 0.0, 0.0, 0.0, 0.0, 0.0, 0.0, 0.0, 0.0, 0.0, 0.0, 0.0, 0.0, 0.0, 0.0, 0.0, 0.0, 0.0, 0.0, 0.0, 0.0, 0.0, 0.0, 0.0, 0.0, 0.0, 0.0, 0.0, 0.0, 0.0, 0.0, 0.0, 0.0, 0.0, 0.0, 0.0, 0.0, 0.0, 0.0, 0.0, 0.0, 0.0, 0.0, 0.0, 0.0, 0.0, 0.0, 0.0, 0.0, 0.0, 0.0, 0.0, 0.0, 0.0, 0.0, 0.0, 0.0, 0.0, 0.0, 0.0, 0.0, 0.0, 0.0, 0.0, 0.0, 0.0, 0.0, 0.0, 0.0]}, {\"name\": \"Rpd\", \"type\": \"scatter\", \"x\": [0, 1, 2, 3, 4, 5, 6, 7, 8, 9, 10, 11, 12, 13, 14, 15, 16, 17, 18, 19, 20, 21, 22, 23, 24, 25, 26, 27, 28, 29, 30, 31, 32, 33, 34, 35, 36, 37, 38, 39, 40, 41, 42, 43, 44, 45, 46, 47, 48, 49, 50, 51, 52, 53, 54, 55, 56, 57, 58, 59, 60, 61, 62, 63, 64, 65, 66, 67, 68, 69, 70, 71, 72, 73, 74, 75, 76, 77, 78, 79, 80, 81, 82, 83, 84, 85, 86, 87, 88, 89, 90, 91, 92, 93, 94, 95, 96, 97, 98, 99, 100, 101, 102, 103, 104, 105, 106, 107, 108, 109, 110, 111, 112, 113, 114, 115, 116, 117, 118, 119, 120, 121, 122, 123, 124, 125, 126, 127, 128, 129, 130, 131, 132, 133, 134, 135, 136, 137, 138, 139, 140, 141, 142, 143, 144, 145, 146, 147, 148, 149], \"y\": [0, 0, 0, 0, 0, 0, 0, 0, 0, 0, 0, 0, 0, 0, 0, 0, 0, 0, 0, 0, 0, 0, 0, 0, 1, 0, 0, 1, 0, 0, 0, 0, 1, 1, 0, 0, 0, 3, 0, 1, 1, 1, 0, 1, 0, 2, 3, 1, 3, 3, 4, 3, 1, 5, 6, 11, 9, 17, 11, 21, 16, 25, 22, 15, 19, 23, 34, 32, 43, 59, 61, 68, 87, 93, 106, 124, 111, 121, 169, 146, 167, 214, 215, 237, 240, 285, 283, 268, 281, 307, 335, 298, 355, 305, 275, 316, 322, 270, 264, 265, 276, 260, 242, 239, 197, 177, 171, 150, 148, 137, 113, 100, 101, 80, 85, 66, 71, 68, 54, 33, 43, 33, 26, 23, 31, 16, 7, 14, 13, 3, 9, 6, 4, 4, 1, 2, 3, 1, 1, 0, 3, 0, 0, 0, 1, 0, 0, 0, 0, 0, 0, 0, 1, 0, 0, 0, 0, 0, 0, 0, 0, 0, 0, 0, 0, 0, 0, 0, 0, 0, 0, 0, 0, 0, 0, 0, 0, 0, 0, 0, 0, 0, 0, 0, 0, 0, 0, 0, 0, 0, 0, 0, 0, 0, 0, 0, 0, 0, 0, 0, 0, 0, 0, 0, 0, 0, 0, 0, 0, 0, 0, 0, 0, 0, 0, 0, 0, 0, 0, 0, 0, 0, 0, 0, 0, 0, 0, 0, 0, 0, 0, 0, 0, 0, 0, 0, 0, 0, 0, 0, 0, 0, 0, 0, 0, 0, 0, 0, 0, 0, 0, 0, 0, 0, 0, 0, 0, 0, 0, 0, 0, 0, 0, 0, 0, 0, 0, 0, 0, 0, 0, 0, 0, 0, 0, 0, 0, 0, 0, 0, 0, 0, 0, 0, 0, 0, 0, 0, 0, 0, 0, 0, 0, 0, 0, 0, 0, 0, 0]}, {\"name\": \"Rpd=conv(Inext)\", \"type\": \"scatter\", \"x\": [0, 1, 2, 3, 4, 5, 6, 7, 8, 9, 10, 11, 12, 13, 14, 15, 16, 17, 18, 19, 20, 21, 22, 23, 24, 25, 26, 27, 28, 29, 30, 31, 32, 33, 34, 35, 36, 37, 38, 39, 40, 41, 42, 43, 44, 45, 46, 47, 48, 49, 50, 51, 52, 53, 54, 55, 56, 57, 58, 59, 60, 61, 62, 63, 64, 65, 66, 67, 68, 69, 70, 71, 72, 73, 74, 75, 76, 77, 78, 79, 80, 81, 82, 83, 84, 85, 86, 87, 88, 89, 90, 91, 92, 93, 94, 95, 96, 97, 98, 99, 100, 101, 102, 103, 104, 105, 106, 107, 108, 109, 110, 111, 112, 113, 114, 115, 116, 117, 118, 119, 120, 121, 122, 123, 124, 125, 126, 127, 128, 129, 130, 131, 132, 133, 134, 135, 136, 137, 138, 139, 140, 141, 142, 143, 144, 145, 146, 147, 148, 149], \"y\": [-9.094947017729283e-15, -9.094947017729283e-15, -2.7284841053187846e-14, -1.8189894035458565e-14, -2.7284841053187846e-14, 0.0, 0.0, 0.0, -1.8189894035458565e-14, 0.0, -3.637978807091713e-14, -1.8189894035458565e-14, 0.0, 0.0, -3.637978807091713e-14, -1.8189894035458565e-14, -1.8189894035458565e-14, -1.8189894035458565e-14, -3.637978807091713e-14, 0.0, -1.8189894035458565e-14, -3.637978807091713e-14, -9.094947017729283e-15, 0.0, 9.094947017729283e-15, -9.094947017729283e-15, -9.094947017729283e-15, 0.0, 0.0, -1.8189894035458565e-14, -9.094947017729283e-15, -1.8189894035458565e-14, 4.547473508864641e-15, -9.094947017729283e-15, -1.3642420526593923e-14, 0.0, 1.5916157281026246e-14, -2.7284841053187846e-14, 0.0020089263977752124, 0.01188255973682999, 0.036876412605345195, 0.08603557351896939, 0.16976767275143176, 0.2984346248322754, 0.4829441353746495, 0.7325241101229346, 1.0544682421741312, 1.4541912184389663, 1.9362527995673078, 2.5014094624232848, 3.147703202942954, 3.872824872195388, 4.6733387263439425, 5.544693775329801, 6.483366207243571, 7.489877520786397, 8.568470045768622, 9.729412456878343, 10.992106986505663, 12.38472470349323, 13.945335601527246, 15.723802094451113, 17.781226162100893, 20.18895847545792, 23.028373709091625, 26.38849699864792, 30.364447679888745, 35.052914438131076, 40.54685619333273, 46.933694294857936, 54.28916396333858, 62.67265774533091, 72.12256636778531, 82.6516621250307, 94.24554150552386, 106.85918012070863, 120.41443699709227, 134.7987573421619, 149.86607130417056, 165.44061789490112, 181.31945028099253, 197.2762520051656, 213.06662051723796, 228.43540482193924, 243.12193091921318, 256.8696582095794, 269.43227011066693, 280.5806681583788, 290.10997374280385, 297.845368936666, 303.6494742250937, 307.42426831424984, 309.1133903622071, 308.70426095991235, 306.2279105015443, 301.7575274784954, 295.40497836923925, 287.31656216724775, 277.6682136611158, 266.65844019255326, 254.5021311058282, 241.42371134523793, 227.65256539686183, 213.4150009589714, 198.9277263960061, 184.39240458867317, 169.99318433777967, 155.8941412002341, 142.2363991586755, 129.13610377054655, 116.68427828468191, 104.94754223993061, 93.97035636257853, 83.77778823487445, 74.38134089766334, 65.777833338115, 57.95110174066891, 50.87416536462476, 44.51147457262163, 38.82110037625956, 33.756778800539, 29.269751495401593, 25.310364989818428, 21.829408657335065, 18.779186644618942, 16.11433173912246, 13.792379300118013, 11.77412687860834, 10.023810047660831, 8.50912742047631, 7.201148123436467, 6.07413347332148, 5.105301691333465, 4.274560599754905, 3.5642288064179315, 2.9587612662358986, 2.444490638877401, 2.009391788061854, 1.6428732660299883, 1.3355967969685827, 1.0793236480080532, 0.8667853310681215, 0.6915752445648411, 0.5480575424925797, 0.4312895957248363, 0.33695476945942693, 0.2613027715074956, 0.20109543294382307, 0.15355638882510847, 0.11632367640027827, 0.08740472608323756, 0.0651335693377539, 0.048130325471006846, 0.035263165272989075, 0.02561299988747169, 0.018441128386695756, 0.013160018105453024, 0.009307307225905649, 0.006523025754167975, 0.004529941497275467, 0.0031168606059145533, 0.002124652691375104, 0.0014347303553540768, 0.0009596916859618432, 0.0006358297274755387, 0.00041722201105585553, 0.0002711324520305425, 0.0001744838389004144, 0.00011118869869733316, 7.015697756742157e-05, 4.382880156754254e-05, 2.710822928293055e-05, 1.659856031437812e-05, 1.0061038437925163e-05, 6.036624813532398e-06, 3.5850966150974273e-06, 2.107363998220535e-06, 1.225991259161674e-06, 7.058651453917265e-07, 4.0217998957814417e-07, 2.267574927827809e-07, 1.2650962162297218e-07, 6.983690127526643e-08, 3.814388037426397e-08, 2.0612103526218563e-08, 1.1019342309737113e-08, 5.827823770232499e-09, 3.0489854907500557e-09, 1.5779028217366432e-09, 8.077176971710287e-10, 4.0895884012570607e-10, 2.0477500584092923e-10, 1.0141775419469923e-10, 4.968228495272342e-11, 2.405727173027117e-11, 1.151761352957692e-11, 5.452420737128705e-12, 2.551132638473064e-12, 1.1965539670200088e-12, 5.513811629498378e-13, 2.614797267597169e-13, 1.2107648217352107e-13, 7.077005648170598e-14, 3.268496584496461e-14, 7.389644451905042e-15, 3.694822225952521e-15, 6.679101716144942e-15, 3.126388037344441e-15, 7.673861546209083e-15, 1.8758328224066646e-14, 8.597567102697212e-15, 9.237055564881303e-16, -6.1994853695068745e-15, 2.1707080577471062e-14, 4.334310688136611e-15, 1.7763568394002505e-15, 2.5153212845907547e-14, 2.955857780762017e-14, 1.7763568394002505e-14, 1.9184653865522706e-15, -1.4210854715202005e-15, 1.3855583347321954e-15, 5.933031843596836e-15, -5.826450433232822e-15, -3.3217872896784686e-15, 1.0995648835887551e-14, -5.808686864838819e-15, -9.379164112033323e-15, 1.5232259897857148e-15, 2.2302160118670144e-14, -5.8775206923655785e-15, -1.509015135070513e-14, 1.1757261830780408e-14, 4.685141163918161e-15, -9.625633623500108e-15, -6.138978214664803e-15, -1.15230047725845e-14, -2.8235747073779295e-15, 8.691380948278038e-15, -1.894651102674061e-14, -9.094947017729283e-15, -6.8212102632969615e-15, -2.2737367544323207e-14, -4.547473508864641e-15, 4.547473508864641e-15, 1.8189894035458565e-14, -2.2737367544323207e-14, -9.094947017729283e-15, -4.547473508864641e-15, -1.3642420526593923e-14, -2.2737367544323207e-14, -1.3642420526593923e-14, -9.094947017729283e-15, -2.7284841053187846e-14, -2.2737367544323207e-14, -4.547473508864641e-15, 0.0, -1.3642420526593923e-14, 1.3642420526593923e-14, -4.547473508864641e-15, -1.8189894035458565e-14, -1.8189894035458565e-14, 4.547473508864641e-15, 0.0, 6.8212102632969615e-15, -4.547473508864641e-15, 9.094947017729283e-15, -4.547473508864641e-15, -6.8212102632969615e-15, -1.3642420526593923e-14, 4.547473508864641e-15, 1.1368683772161604e-14, 0.0, -3.4106051316484808e-15, 1.4779288903810084e-14, 1.7053025658242404e-14, -4.547473508864641e-15, -9.094947017729283e-15, 7.389644451905042e-15, 2.6147972675971688e-14, 4.547473508864641e-15, -1.3073986337985844e-14, 7.105427357601002e-15, -1.2789769243681804e-14, 1.9895196601282807e-14, -1.4495071809506044e-14, 2.0321522242738864e-14, 2.4726887204451486e-14, 2.5579538487363606e-15, -8.526512829121202e-15, 1.2079226507921704e-15, 3.765876499528531e-15, 1.341149413747189e-14, -4.440892098500626e-15, 9.166001291305293e-15, 2.6503244043851737e-14, -8.100187187665143e-15, -1.9895196601282807e-14, 5.542233338928782e-15, -2.4087398742267397e-14, 2.4726887204451486e-14, -4.227729277772596e-15, 2.3625545964023332e-14, 2.0605739337042905e-14, 5.595524044110789e-15, -7.638334409421077e-16, -2.149391775674303e-15, -6.536993168992922e-15, 1.887379141862766e-15, 1.1803891197814665e-14, 2.4067414727824144e-14, -5.3734794391857575e-15, -1.857847209407737e-14, -6.958877918350481e-15, 1.4173107132364748e-14, -2.5693336347387686e-14, -6.6668892628740655e-15, -6.2713723103513535e-15, 3.2235880631503735e-14, 5.304090500146685e-15, 0.0, 0.0, 1.8189894035458565e-14, 0.0, 0.0, 0.0, 0.0, -3.637978807091713e-14, 0.0, 1.8189894035458565e-14, 0.0, -3.637978807091713e-14, 0.0, -1.8189894035458565e-14, 3.637978807091713e-14, 1.8189894035458565e-14, 1.8189894035458565e-14, 0.0, 3.637978807091713e-14, 0.0, 0.0, 3.637978807091713e-14, 0.0, 3.637978807091713e-14, 1.8189894035458565e-14, 0.0, 1.8189894035458565e-14, 9.094947017729283e-15, 0.0, 1.8189894035458565e-14, 0.0, 1.8189894035458565e-14, 9.094947017729283e-15, 0.0, 0.0, 1.8189894035458565e-14, 4.547473508864641e-15, 2.7284841053187846e-14, -4.547473508864641e-15, 2.2737367544323207e-14, 2.7284841053187846e-14, 1.3642420526593923e-14, 6.8212102632969615e-15, 4.547473508864641e-15, 2.0463630789890885e-14, 6.8212102632969615e-15, 1.5916157281026246e-14, 1.5916157281026246e-14, 9.094947017729283e-15, 6.252776074688882e-15, 5.115907697472721e-15, -4.547473508864641e-15, 7.105427357601002e-15, 9.663381206337363e-15, -5.684341886080802e-16, 1.1937117960769683e-14, 1.1652900866465644e-14, 1.1368683772161604e-14, 1.9610979506978767e-14, -3.9790393202565614e-15, 7.887024366937113e-15, 2.913225216616411e-15, 3.304023721284466e-14, 4.121147867408581e-15, -1.8403056856186594e-14, 3.339550858072471e-15, -8.331113576787175e-15, -1.1226575225009583e-14, -3.9968028886505635e-15, -3.304023721284466e-15, -8.43769498715119e-16, -4.316547119742609e-15, 4.174438572590589e-15, 1.5143442055887136e-15, -4.574118861455645e-16, -1.8673951274195133e-15, 1.559863349598345e-15, 1.1962653090336062e-14]}, {\"name\": \"Rpd=lowpass(Rpd)\", \"type\": \"scatter\", \"x\": [0, 1, 2, 3, 4, 5, 6, 7, 8, 9, 10, 11, 12, 13, 14, 15, 16, 17, 18, 19, 20, 21, 22, 23, 24, 25, 26, 27, 28, 29, 30, 31, 32, 33, 34, 35, 36, 37, 38, 39, 40, 41, 42, 43, 44, 45, 46, 47, 48, 49, 50, 51, 52, 53, 54, 55, 56, 57, 58, 59, 60, 61, 62, 63, 64, 65, 66, 67, 68, 69, 70, 71, 72, 73, 74, 75, 76, 77, 78, 79, 80, 81, 82, 83, 84, 85, 86, 87, 88, 89, 90, 91, 92, 93, 94, 95, 96, 97, 98, 99, 100, 101, 102, 103, 104, 105, 106, 107, 108, 109, 110, 111, 112, 113, 114, 115, 116, 117, 118, 119, 120, 121, 122, 123, 124, 125, 126, 127, 128, 129, 130, 131, 132, 133, 134, 135, 136, 137, 138, 139, 140, 141, 142, 143, 144, 145, 146, 147, 148, 149], \"y\": [-0.0030824544406841386, -0.0031163516018041567, -0.002840476727316566, -0.0022259669035469784, -0.0012750842466816652, -2.6840607381277415e-05, 0.0014406696150243547, 0.0030123730463342685, 0.004543710625187814, 0.005874141597218267, 0.006846808001504376, 0.007333915157216077, 0.007266696347077974, 0.006668093248033861, 0.005685553075380916, 0.004620682738696789, 0.003951977694469512, 0.004346526571121608, 0.006656545954940876, 0.01189688085644687, 0.021200268541984646, 0.03574826148283561, 0.05667730871373505, 0.08496170958942934, 0.1212781428033262, 0.1658604192697179, 0.21835800676568107, 0.2777171932309041, 0.34210827243929764, 0.4089242351016023, 0.47487463556130277, 0.5361916045417547, 0.5889533158043454, 0.6295148010666372, 0.6550192406168929, 0.6639474215076082, 0.6566509209247177, 0.6358069510848037, 0.606731026990026, 0.5774895244514133, 0.5587690205595875, 0.5634822150638017, 0.6061182412070782, 0.7018744709709933, 0.8656340672287659, 1.1108760420313537, 1.4486211644314397, 1.8865275187142911, 2.4282537440313474, 3.073204649693403, 3.8167600148970986, 4.651059362199677, 5.5663706489784195, 6.553008546140792, 7.603691340026265, 8.71614346625422, 9.895678794855465, 11.157456837871008, 12.528105803622791, 14.046460068782379, 15.763261756904988, 17.739813683172105, 20.0457234383187, 22.756019547727124, 25.948020276914693, 29.69836468799274, 34.08055607782682, 39.16322414893262, 45.00911332890002, 51.67459586802392, 59.20933747938218, 67.65564988235634, 77.04707313712727, 87.40584633004532, 98.73913392746158, 111.03414693188218, 124.25258929544808, 138.32511546564973, 153.14664465495812, 168.57339446728182, 184.42235573266126, 200.47365470802984, 216.47589015370914, 232.15415878560256, 247.22016235732374, 261.38357574271936, 274.36377012468245, 285.90102094525594, 295.76645630542737, 303.770173528776, 309.7671286279296, 313.6605721547232, 315.4029836159626, 314.99466577251235, 312.4803873274447, 307.9446559351373, 301.50629919613027, 293.31299313237093, 283.53621712966196, 272.3668746262927, 260.01154780586035, 246.68910297558216, 232.62719551358586, 218.0582018011917, 203.21425238781063, 188.32131513116104, 173.5925915762279, 159.22174868706986, 145.37664566769428, 132.19421575463667, 119.77705102328588, 108.19205623038629, 97.47132071767307, 87.6151280982287, 78.59680069193823, 70.36888346930309, 62.870038497110556, 56.0319688523552, 49.78573166119048, 44.066927029080226, 38.8194370640174, 33.99759577143983, 29.5668551304565, 25.503150259052184, 21.79125284294876, 18.422444983764485, 15.391855764592425, 12.695786719507998, 10.329311385315016, 8.28436903215339, 6.548490262566139, 5.104205208805092, 3.9291063848606163, 2.9964763372797423, 2.2763487896841923, 1.7368506902407355, 1.3456683356003483, 1.0714898211410868, 0.8852957456679301, 0.7613983117853802, 0.6781630088782961, 0.6183834388621395, 0.5693151273760366, 0.5224054027164019, 0.4727808151784911, 0.41856876883848976, 0.3601352174666457, 0.29931640050770125, 0.23871152528745226, 0.18108700163181352, 0.12892340259848026, 0.08411620608627707, 0.04782315852271932, 0.020437059554533944, 0.0016543467593789034, -0.009392729709434642, -0.013970437867073046, -0.01356958467752353, -0.009742477320859436, -0.00396419708975019, 0.002473802602371709, 0.008534427053409658, 0.013470517143089902, 0.016828780315032398, 0.018427670872565586, 0.01831602033283313, 0.01671961688359195, 0.0139826427066848, 0.010510049335317809, 0.006715751119589356, 0.002980113479331781, -0.0003812381031283359, -0.0031366274999620734, -0.00514607176573982, -0.006358995309417645, -0.006803978797545239, -0.006572940891866038, -0.0058022128804743394, -0.0046527991719740106, -0.003291775806079657, -0.001876325489895172, -0.000541401355667017, 0.0006084930967061721, 0.0015033789783683844, 0.0021080827648936058, 0.002419354680003789, 0.0024606311754261727, 0.0022753193544683093, 0.0019194611426978632, 0.0014545414194702764, 0.0009410584925136258, 0.0004332994543118913, -2.4421883635922837e-05, -0.00039998249003200283, -0.0006741934884893049, -0.0008402594189980118, -0.0009022251364542704, -0.0008727252893138712, -0.0007703588251818641, -0.0006169883357701306, -0.0004352185589566583, -0.0002462480532493265, -6.82209220216559e-05, 8.486131536947831e-05, 0.0002036681240485315, 0.00028355897789212535, 0.0003241800931377155, 0.00032874850745177544, 0.000303141965018225, 0.00025490977021875406, 0.00019230675960282817, 0.00012343267014689924, 5.5535422422949894e-05, -5.488009119987545e-06, -5.5382990420435104e-05, -9.163106820094545e-05, -0.00011337231430321647, -0.00012119301207971925, -0.00011682113245080588, -0.0001027728860911805, -8.199046312579495e-05, -5.750486613842945e-05, -3.214958901588495e-05, -8.341861228946753e-06, 1.2060774946064338e-05, 2.7828872229247784e-05, 3.836143658724658e-05, 4.363006753219459e-05, 4.408167269297634e-05, 4.0515671615546246e-05, 3.395110868237525e-05, 2.5497308451310422e-05, 1.6239013399128234e-05, 7.143742748321576e-06, -1.0042236316035664e-06, -7.641979103565322e-06, -1.2439695347452309e-05, -1.5289460223793146e-05, -1.6276232371778488e-05, -1.563662556769604e-05, -1.3711327353358153e-05, -1.089651331998572e-05, -7.598773497373892e-06, -4.196966099601314e-06, -1.0131994895502058e-06, 1.7060561109761086e-06, 3.798805379307815e-06, 5.18727584766806e-06, 5.870184076338623e-06, 5.909515438038975e-06, 5.413955277404099e-06, 4.5210357409303065e-06, 3.379817458196566e-06, 2.1355603200370734e-06, 9.174063405651572e-07, -1.7034989561105534e-07, -1.0532485987436691e-06, -1.6881166883423963e-06, -2.061470867726055e-06, -2.1855460741909777e-06, -2.0927181764241045e-06, -1.8290992440348757e-06, -1.4480219723395639e-06, -1.0040148359965596e-06, -5.477208291865939e-07, -1.2204939076213393e-07, 2.4030956792127293e-07, 5.180248099792649e-07, 7.010490719415435e-07, 7.895487977934534e-07, 7.921075272156295e-07, 7.234901615043606e-07, 6.022445327662651e-07, 4.483830840810603e-07, 2.8133800830027946e-07, 1.1832506778882572e-07, -2.6808773082548515e-08, -1.4423511800599697e-07, -2.283207502415739e-07, -2.7739773190309897e-07, -2.932184225532886e-07, -2.8019915795984333e-07, -2.445572313164998e-07, -1.934372116488913e-07, -1.3410693320964213e-07, -7.328332288117907e-08, -1.662616859975902e-08, 3.158373749301553e-08, 6.858506198397731e-08, 9.311380097690049e-08, 1.0524879793264586e-07, 1.0616193452030975e-07, 9.781234460720546e-08, 8.262241055805129e-08, 6.316859139161442e-08, 4.191323697642997e-08, 2.0995426448688172e-08, 2.090441459475508e-09, -1.3660468674260181e-08]}, {\"name\": \"Rpd=conv(deconv(Rpd))\", \"type\": \"scatter\", \"x\": [0, 1, 2, 3, 4, 5, 6, 7, 8, 9, 10, 11, 12, 13, 14, 15, 16, 17, 18, 19, 20, 21, 22, 23, 24, 25, 26, 27, 28, 29, 30, 31, 32, 33, 34, 35, 36, 37, 38, 39, 40, 41, 42, 43, 44, 45, 46, 47, 48, 49, 50, 51, 52, 53, 54, 55, 56, 57, 58, 59, 60, 61, 62, 63, 64, 65, 66, 67, 68, 69, 70, 71, 72, 73, 74, 75, 76, 77, 78, 79, 80, 81, 82, 83, 84, 85, 86, 87, 88, 89, 90, 91, 92, 93, 94, 95, 96, 97, 98, 99, 100, 101, 102, 103, 104, 105, 106, 107, 108, 109, 110, 111, 112, 113, 114, 115, 116, 117, 118, 119, 120, 121, 122, 123, 124, 125, 126, 127, 128, 129, 130, 131, 132, 133, 134, 135, 136, 137, 138, 139, 140, 141, 142, 143, 144, 145, 146, 147, 148, 149], \"y\": [-9.094947017729283e-15, -9.094947017729283e-15, -2.7284841053187846e-14, -1.8189894035458565e-14, -2.7284841053187846e-14, 0.0, 0.0, 0.0, -1.8189894035458565e-14, 0.0, -3.637978807091713e-14, -1.8189894035458565e-14, 0.0, 0.0, -3.637978807091713e-14, -1.8189894035458565e-14, -1.8189894035458565e-14, -1.8189894035458565e-14, -3.637978807091713e-14, 0.0, -1.8189894035458565e-14, -3.637978807091713e-14, -9.094947017729283e-15, 0.0, 9.094947017729283e-15, -9.094947017729283e-15, -9.094947017729283e-15, 0.0, 0.0, -1.8189894035458565e-14, -9.094947017729283e-15, -1.8189894035458565e-14, 4.547473508864641e-15, -9.094947017729283e-15, -1.3642420526593923e-14, 0.0, 1.5916157281026246e-14, -2.7284841053187846e-14, 0.0020089263977752124, 0.01188255973682999, 0.036876412605345195, 0.08603557351896939, 0.16976767275143176, 0.2984346248322754, 0.4829441353746495, 0.7325241101229346, 1.0544682421741312, 1.4541912184389663, 1.9362527995673078, 2.5014094624232848, 3.147703202942954, 3.872824872195388, 4.6733387263439425, 5.544693775329801, 6.483366207243571, 7.489877520786397, 8.568470045768622, 9.729412456878343, 10.992106986505663, 12.38472470349323, 13.945335601527246, 15.723802094451113, 17.781226162100893, 20.18895847545792, 23.028373709091625, 26.38849699864792, 30.364447679888745, 35.052914438131076, 40.54685619333273, 46.933694294857936, 54.28916396333858, 62.67265774533091, 72.12256636778531, 82.6516621250307, 94.24554150552386, 106.85918012070863, 120.41443699709227, 134.7987573421619, 149.86607130417056, 165.44061789490112, 181.31945028099253, 197.2762520051656, 213.06662051723796, 228.43540482193924, 243.12193091921318, 256.8696582095794, 269.43227011066693, 280.5806681583788, 290.10997374280385, 297.845368936666, 303.6494742250937, 307.42426831424984, 309.1133903622071, 308.70426095991235, 306.2279105015443, 301.7575274784954, 295.40497836923925, 287.31656216724775, 277.6682136611158, 266.65844019255326, 254.5021311058282, 241.42371134523793, 227.65256539686183, 213.4150009589714, 198.9277263960061, 184.39240458867317, 169.99318433777967, 155.8941412002341, 142.2363991586755, 129.13610377054655, 116.68427828468191, 104.94754223993061, 93.97035636257853, 83.77778823487445, 74.38134089766334, 65.777833338115, 57.95110174066891, 50.87416536462476, 44.51147457262163, 38.82110037625956, 33.756778800539, 29.269751495401593, 25.310364989818428, 21.829408657335065, 18.779186644618942, 16.11433173912246, 13.792379300118013, 11.77412687860834, 10.023810047660831, 8.50912742047631, 7.201148123436467, 6.07413347332148, 5.105301691333465, 4.274560599754905, 3.5642288064179315, 2.9587612662358986, 2.444490638877401, 2.009391788061854, 1.6428732660299883, 1.3355967969685827, 1.0793236480080532, 0.8667853310681215, 0.6915752445648411, 0.5480575424925797, 0.4312895957248363, 0.33695476945942693, 0.2613027715074956, 0.20109543294382307, 0.15355638882510847, 0.11632367640027827, 0.08740472608323756, 0.0651335693377539, 0.048130325471006846, 0.035263165272989075, 0.02561299988747169, 0.018441128386695756, 0.013160018105453024, 0.009307307225905649, 0.006523025754167975, 0.004529941497275467, 0.0031168606059145533, 0.002124652691375104, 0.0014347303553540768, 0.0009596916859618432, 0.0006358297274755387, 0.00041722201105585553, 0.0002711324520305425, 0.0001744838389004144, 0.00011118869869733316, 7.015697756742157e-05, 4.382880156754254e-05, 2.710822928293055e-05, 1.659856031437812e-05, 1.0061038437925163e-05, 6.036624813532398e-06, 3.5850966150974273e-06, 2.107363998220535e-06, 1.225991259161674e-06, 7.058651453917265e-07, 4.0217998957814417e-07, 2.267574927827809e-07, 1.2650962162297218e-07, 6.983690127526643e-08, 3.814388037426397e-08, 2.0612103526218563e-08, 1.1019342309737113e-08, 5.827823770232499e-09, 3.0489854907500557e-09, 1.5779028217366432e-09, 8.077176971710287e-10, 4.0895884012570607e-10, 2.0477500584092923e-10, 1.0141775419469923e-10, 4.968228495272342e-11, 2.405727173027117e-11, 1.151761352957692e-11, 5.452420737128705e-12, 2.551132638473064e-12, 1.1965539670200088e-12, 5.513811629498378e-13, 2.614797267597169e-13, 1.2107648217352107e-13, 7.077005648170598e-14, 3.268496584496461e-14, 7.389644451905042e-15, 3.694822225952521e-15, 6.679101716144942e-15, 3.126388037344441e-15, 7.673861546209083e-15, 1.8758328224066646e-14, 8.597567102697212e-15, 9.237055564881303e-16, -6.1994853695068745e-15, 2.1707080577471062e-14, 4.334310688136611e-15, 1.7763568394002505e-15, 2.5153212845907547e-14, 2.955857780762017e-14, 1.7763568394002505e-14, 1.9184653865522706e-15, -1.4210854715202005e-15, 1.3855583347321954e-15, 5.933031843596836e-15, -5.826450433232822e-15, -3.3217872896784686e-15, 1.0995648835887551e-14, -5.808686864838819e-15, -9.379164112033323e-15, 1.5232259897857148e-15, 2.2302160118670144e-14, -5.8775206923655785e-15, -1.509015135070513e-14, 1.1757261830780408e-14, 4.685141163918161e-15, -9.625633623500108e-15, -6.138978214664803e-15, -1.15230047725845e-14, -2.8235747073779295e-15, 8.691380948278038e-15, -1.894651102674061e-14, -9.094947017729283e-15, -6.8212102632969615e-15, -2.2737367544323207e-14, -4.547473508864641e-15, 4.547473508864641e-15, 1.8189894035458565e-14, -2.2737367544323207e-14, -9.094947017729283e-15, -4.547473508864641e-15, -1.3642420526593923e-14, -2.2737367544323207e-14, -1.3642420526593923e-14, -9.094947017729283e-15, -2.7284841053187846e-14, -2.2737367544323207e-14, -4.547473508864641e-15, 0.0, -1.3642420526593923e-14, 1.3642420526593923e-14, -4.547473508864641e-15, -1.8189894035458565e-14, -1.8189894035458565e-14, 4.547473508864641e-15, 0.0, 6.8212102632969615e-15, -4.547473508864641e-15, 9.094947017729283e-15, -4.547473508864641e-15, -6.8212102632969615e-15, -1.3642420526593923e-14, 4.547473508864641e-15, 1.1368683772161604e-14, 0.0, -3.4106051316484808e-15, 1.4779288903810084e-14, 1.7053025658242404e-14, -4.547473508864641e-15, -9.094947017729283e-15, 7.389644451905042e-15, 2.6147972675971688e-14, 4.547473508864641e-15, -1.3073986337985844e-14, 7.105427357601002e-15, -1.2789769243681804e-14, 1.9895196601282807e-14, -1.4495071809506044e-14, 2.0321522242738864e-14, 2.4726887204451486e-14, 2.5579538487363606e-15, -8.526512829121202e-15, 1.2079226507921704e-15, 3.765876499528531e-15, 1.341149413747189e-14, -4.440892098500626e-15, 9.166001291305293e-15, 2.6503244043851737e-14, -8.100187187665143e-15, -1.9895196601282807e-14, 5.542233338928782e-15]}],\n",
              "                        {\"template\": {\"data\": {\"bar\": [{\"error_x\": {\"color\": \"#2a3f5f\"}, \"error_y\": {\"color\": \"#2a3f5f\"}, \"marker\": {\"line\": {\"color\": \"#E5ECF6\", \"width\": 0.5}}, \"type\": \"bar\"}], \"barpolar\": [{\"marker\": {\"line\": {\"color\": \"#E5ECF6\", \"width\": 0.5}}, \"type\": \"barpolar\"}], \"carpet\": [{\"aaxis\": {\"endlinecolor\": \"#2a3f5f\", \"gridcolor\": \"white\", \"linecolor\": \"white\", \"minorgridcolor\": \"white\", \"startlinecolor\": \"#2a3f5f\"}, \"baxis\": {\"endlinecolor\": \"#2a3f5f\", \"gridcolor\": \"white\", \"linecolor\": \"white\", \"minorgridcolor\": \"white\", \"startlinecolor\": \"#2a3f5f\"}, \"type\": \"carpet\"}], \"choropleth\": [{\"colorbar\": {\"outlinewidth\": 0, \"ticks\": \"\"}, \"type\": \"choropleth\"}], \"contour\": [{\"colorbar\": {\"outlinewidth\": 0, \"ticks\": \"\"}, \"colorscale\": [[0.0, \"#0d0887\"], [0.1111111111111111, \"#46039f\"], [0.2222222222222222, \"#7201a8\"], [0.3333333333333333, \"#9c179e\"], [0.4444444444444444, \"#bd3786\"], [0.5555555555555556, \"#d8576b\"], [0.6666666666666666, \"#ed7953\"], [0.7777777777777778, \"#fb9f3a\"], [0.8888888888888888, \"#fdca26\"], [1.0, \"#f0f921\"]], \"type\": \"contour\"}], \"contourcarpet\": [{\"colorbar\": {\"outlinewidth\": 0, \"ticks\": \"\"}, \"type\": \"contourcarpet\"}], \"heatmap\": [{\"colorbar\": {\"outlinewidth\": 0, \"ticks\": \"\"}, \"colorscale\": [[0.0, \"#0d0887\"], [0.1111111111111111, \"#46039f\"], [0.2222222222222222, \"#7201a8\"], [0.3333333333333333, \"#9c179e\"], [0.4444444444444444, \"#bd3786\"], [0.5555555555555556, \"#d8576b\"], [0.6666666666666666, \"#ed7953\"], [0.7777777777777778, \"#fb9f3a\"], [0.8888888888888888, \"#fdca26\"], [1.0, \"#f0f921\"]], \"type\": \"heatmap\"}], \"heatmapgl\": [{\"colorbar\": {\"outlinewidth\": 0, \"ticks\": \"\"}, \"colorscale\": [[0.0, \"#0d0887\"], [0.1111111111111111, \"#46039f\"], [0.2222222222222222, \"#7201a8\"], [0.3333333333333333, \"#9c179e\"], [0.4444444444444444, \"#bd3786\"], [0.5555555555555556, \"#d8576b\"], [0.6666666666666666, \"#ed7953\"], [0.7777777777777778, \"#fb9f3a\"], [0.8888888888888888, \"#fdca26\"], [1.0, \"#f0f921\"]], \"type\": \"heatmapgl\"}], \"histogram\": [{\"marker\": {\"colorbar\": {\"outlinewidth\": 0, \"ticks\": \"\"}}, \"type\": \"histogram\"}], \"histogram2d\": [{\"colorbar\": {\"outlinewidth\": 0, \"ticks\": \"\"}, \"colorscale\": [[0.0, \"#0d0887\"], [0.1111111111111111, \"#46039f\"], [0.2222222222222222, \"#7201a8\"], [0.3333333333333333, \"#9c179e\"], [0.4444444444444444, \"#bd3786\"], [0.5555555555555556, \"#d8576b\"], [0.6666666666666666, \"#ed7953\"], [0.7777777777777778, \"#fb9f3a\"], [0.8888888888888888, \"#fdca26\"], [1.0, \"#f0f921\"]], \"type\": \"histogram2d\"}], \"histogram2dcontour\": [{\"colorbar\": {\"outlinewidth\": 0, \"ticks\": \"\"}, \"colorscale\": [[0.0, \"#0d0887\"], [0.1111111111111111, \"#46039f\"], [0.2222222222222222, \"#7201a8\"], [0.3333333333333333, \"#9c179e\"], [0.4444444444444444, \"#bd3786\"], [0.5555555555555556, \"#d8576b\"], [0.6666666666666666, \"#ed7953\"], [0.7777777777777778, \"#fb9f3a\"], [0.8888888888888888, \"#fdca26\"], [1.0, \"#f0f921\"]], \"type\": \"histogram2dcontour\"}], \"mesh3d\": [{\"colorbar\": {\"outlinewidth\": 0, \"ticks\": \"\"}, \"type\": \"mesh3d\"}], \"parcoords\": [{\"line\": {\"colorbar\": {\"outlinewidth\": 0, \"ticks\": \"\"}}, \"type\": \"parcoords\"}], \"pie\": [{\"automargin\": true, \"type\": \"pie\"}], \"scatter\": [{\"marker\": {\"colorbar\": {\"outlinewidth\": 0, \"ticks\": \"\"}}, \"type\": \"scatter\"}], \"scatter3d\": [{\"line\": {\"colorbar\": {\"outlinewidth\": 0, \"ticks\": \"\"}}, \"marker\": {\"colorbar\": {\"outlinewidth\": 0, \"ticks\": \"\"}}, \"type\": \"scatter3d\"}], \"scattercarpet\": [{\"marker\": {\"colorbar\": {\"outlinewidth\": 0, \"ticks\": \"\"}}, \"type\": \"scattercarpet\"}], \"scattergeo\": [{\"marker\": {\"colorbar\": {\"outlinewidth\": 0, \"ticks\": \"\"}}, \"type\": \"scattergeo\"}], \"scattergl\": [{\"marker\": {\"colorbar\": {\"outlinewidth\": 0, \"ticks\": \"\"}}, \"type\": \"scattergl\"}], \"scattermapbox\": [{\"marker\": {\"colorbar\": {\"outlinewidth\": 0, \"ticks\": \"\"}}, \"type\": \"scattermapbox\"}], \"scatterpolar\": [{\"marker\": {\"colorbar\": {\"outlinewidth\": 0, \"ticks\": \"\"}}, \"type\": \"scatterpolar\"}], \"scatterpolargl\": [{\"marker\": {\"colorbar\": {\"outlinewidth\": 0, \"ticks\": \"\"}}, \"type\": \"scatterpolargl\"}], \"scatterternary\": [{\"marker\": {\"colorbar\": {\"outlinewidth\": 0, \"ticks\": \"\"}}, \"type\": \"scatterternary\"}], \"surface\": [{\"colorbar\": {\"outlinewidth\": 0, \"ticks\": \"\"}, \"colorscale\": [[0.0, \"#0d0887\"], [0.1111111111111111, \"#46039f\"], [0.2222222222222222, \"#7201a8\"], [0.3333333333333333, \"#9c179e\"], [0.4444444444444444, \"#bd3786\"], [0.5555555555555556, \"#d8576b\"], [0.6666666666666666, \"#ed7953\"], [0.7777777777777778, \"#fb9f3a\"], [0.8888888888888888, \"#fdca26\"], [1.0, \"#f0f921\"]], \"type\": \"surface\"}], \"table\": [{\"cells\": {\"fill\": {\"color\": \"#EBF0F8\"}, \"line\": {\"color\": \"white\"}}, \"header\": {\"fill\": {\"color\": \"#C8D4E3\"}, \"line\": {\"color\": \"white\"}}, \"type\": \"table\"}]}, \"layout\": {\"annotationdefaults\": {\"arrowcolor\": \"#2a3f5f\", \"arrowhead\": 0, \"arrowwidth\": 1}, \"coloraxis\": {\"colorbar\": {\"outlinewidth\": 0, \"ticks\": \"\"}}, \"colorscale\": {\"diverging\": [[0, \"#8e0152\"], [0.1, \"#c51b7d\"], [0.2, \"#de77ae\"], [0.3, \"#f1b6da\"], [0.4, \"#fde0ef\"], [0.5, \"#f7f7f7\"], [0.6, \"#e6f5d0\"], [0.7, \"#b8e186\"], [0.8, \"#7fbc41\"], [0.9, \"#4d9221\"], [1, \"#276419\"]], \"sequential\": [[0.0, \"#0d0887\"], [0.1111111111111111, \"#46039f\"], [0.2222222222222222, \"#7201a8\"], [0.3333333333333333, \"#9c179e\"], [0.4444444444444444, \"#bd3786\"], [0.5555555555555556, \"#d8576b\"], [0.6666666666666666, \"#ed7953\"], [0.7777777777777778, \"#fb9f3a\"], [0.8888888888888888, \"#fdca26\"], [1.0, \"#f0f921\"]], \"sequentialminus\": [[0.0, \"#0d0887\"], [0.1111111111111111, \"#46039f\"], [0.2222222222222222, \"#7201a8\"], [0.3333333333333333, \"#9c179e\"], [0.4444444444444444, \"#bd3786\"], [0.5555555555555556, \"#d8576b\"], [0.6666666666666666, \"#ed7953\"], [0.7777777777777778, \"#fb9f3a\"], [0.8888888888888888, \"#fdca26\"], [1.0, \"#f0f921\"]]}, \"colorway\": [\"#636efa\", \"#EF553B\", \"#00cc96\", \"#ab63fa\", \"#FFA15A\", \"#19d3f3\", \"#FF6692\", \"#B6E880\", \"#FF97FF\", \"#FECB52\"], \"font\": {\"color\": \"#2a3f5f\"}, \"geo\": {\"bgcolor\": \"white\", \"lakecolor\": \"white\", \"landcolor\": \"#E5ECF6\", \"showlakes\": true, \"showland\": true, \"subunitcolor\": \"white\"}, \"hoverlabel\": {\"align\": \"left\"}, \"hovermode\": \"closest\", \"mapbox\": {\"style\": \"light\"}, \"paper_bgcolor\": \"white\", \"plot_bgcolor\": \"#E5ECF6\", \"polar\": {\"angularaxis\": {\"gridcolor\": \"white\", \"linecolor\": \"white\", \"ticks\": \"\"}, \"bgcolor\": \"#E5ECF6\", \"radialaxis\": {\"gridcolor\": \"white\", \"linecolor\": \"white\", \"ticks\": \"\"}}, \"scene\": {\"xaxis\": {\"backgroundcolor\": \"#E5ECF6\", \"gridcolor\": \"white\", \"gridwidth\": 2, \"linecolor\": \"white\", \"showbackground\": true, \"ticks\": \"\", \"zerolinecolor\": \"white\"}, \"yaxis\": {\"backgroundcolor\": \"#E5ECF6\", \"gridcolor\": \"white\", \"gridwidth\": 2, \"linecolor\": \"white\", \"showbackground\": true, \"ticks\": \"\", \"zerolinecolor\": \"white\"}, \"zaxis\": {\"backgroundcolor\": \"#E5ECF6\", \"gridcolor\": \"white\", \"gridwidth\": 2, \"linecolor\": \"white\", \"showbackground\": true, \"ticks\": \"\", \"zerolinecolor\": \"white\"}}, \"shapedefaults\": {\"line\": {\"color\": \"#2a3f5f\"}}, \"ternary\": {\"aaxis\": {\"gridcolor\": \"white\", \"linecolor\": \"white\", \"ticks\": \"\"}, \"baxis\": {\"gridcolor\": \"white\", \"linecolor\": \"white\", \"ticks\": \"\"}, \"bgcolor\": \"#E5ECF6\", \"caxis\": {\"gridcolor\": \"white\", \"linecolor\": \"white\", \"ticks\": \"\"}}, \"title\": {\"x\": 0.05}, \"xaxis\": {\"automargin\": true, \"gridcolor\": \"white\", \"linecolor\": \"white\", \"ticks\": \"\", \"title\": {\"standoff\": 15}, \"zerolinecolor\": \"white\", \"zerolinewidth\": 2}, \"yaxis\": {\"automargin\": true, \"gridcolor\": \"white\", \"linecolor\": \"white\", \"ticks\": \"\", \"title\": {\"standoff\": 15}, \"zerolinecolor\": \"white\", \"zerolinewidth\": 2}}}, \"title\": {\"text\": \"$\\\\text{Actual } I_{pd} \\\\text{ vs. deconvolution of } R_{pd}$\", \"x\": 0.5, \"xanchor\": \"center\"}, \"xaxis\": {\"title\": {\"text\": \"Day\"}}, \"yaxis\": {\"title\": {\"text\": \"Count\"}}},\n",
              "                        {\"responsive\": true}\n",
              "                    ).then(function(){\n",
              "                            \n",
              "var gd = document.getElementById('6fec8b68-0b49-4d71-bc5f-36f7404abd6a');\n",
              "var x = new MutationObserver(function (mutations, observer) {{\n",
              "        var display = window.getComputedStyle(gd).display;\n",
              "        if (!display || display === 'none') {{\n",
              "            console.log([gd, 'removed!']);\n",
              "            Plotly.purge(gd);\n",
              "            observer.disconnect();\n",
              "        }}\n",
              "}});\n",
              "\n",
              "// Listen for the removal of the full notebook cells\n",
              "var notebookContainer = gd.closest('#notebook-container');\n",
              "if (notebookContainer) {{\n",
              "    x.observe(notebookContainer, {childList: true});\n",
              "}}\n",
              "\n",
              "// Listen for the clearing of the current output cell\n",
              "var outputEl = gd.closest('.output');\n",
              "if (outputEl) {{\n",
              "    x.observe(outputEl, {childList: true});\n",
              "}}\n",
              "\n",
              "                        })\n",
              "                };\n",
              "                \n",
              "            </script>\n",
              "        </div>\n",
              "</body>\n",
              "</html>"
            ]
          },
          "metadata": {
            "tags": []
          }
        }
      ]
    },
    {
      "cell_type": "markdown",
      "metadata": {
        "id": "1tdeL87fq_ov",
        "colab_type": "text"
      },
      "source": [
        "Again our algorithm works nicely."
      ]
    },
    {
      "cell_type": "markdown",
      "metadata": {
        "id": "rycLpL7nq_hJ",
        "colab_type": "text"
      },
      "source": [
        "# Discussion"
      ]
    },
    {
      "cell_type": "markdown",
      "metadata": {
        "id": "zDeAe8pcq_Xd",
        "colab_type": "text"
      },
      "source": [
        "There are a lot of papers and research done in the field of deconvolution. \n",
        "\n",
        "The theory is skipped here but it is required if we want to use more advanced techniques.\n",
        "\n",
        "After doing tis ou might be left wandering, well what's the point ?\n",
        "\n",
        "A few things:\n",
        "\n",
        "* If we have daily data of infectious $I_{pd}$ we can then use the deconvolution technique to find an approximation for $E_{pd}$ and thus approximate the value of $\\beta$\n",
        "* We can verify the robusteness of $h_L$ and $h_I$ against real world data.\n",
        "\n",
        "Both of these wil be presented in the next blog posts."
      ]
    }
  ]
}