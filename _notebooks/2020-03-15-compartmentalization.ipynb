{
  "nbformat": 4,
  "nbformat_minor": 0,
  "metadata": {
    "colab": {
      "name": "2020-03-12-compartmentalization.ipynb",
      "provenance": [],
      "toc_visible": true
    },
    "kernelspec": {
      "name": "python3",
      "display_name": "Python 3"
    }
  },
  "cells": [
    {
      "cell_type": "markdown",
      "metadata": {
        "id": "I5miZkxtZJAI",
        "colab_type": "text"
      },
      "source": [
        "# \"Epidemic modeling - Part 1\"\n",
        "> \"Compartmentalization models and disease dynamics\"\n",
        "\n",
        "- toc: true \n",
        "- badges: true\n",
        "- comments: true\n",
        "- categories: [modeling, compartmentalization, SEIR, epidemiology, disease dynamics]\n",
        "- image: images/compartmentalization.jpg"
      ]
    },
    {
      "cell_type": "markdown",
      "metadata": {
        "id": "SiBYrZVVZWB3",
        "colab_type": "text"
      },
      "source": [
        "![](my_icons/compartmentalization.jpg)"
      ]
    },
    {
      "cell_type": "markdown",
      "metadata": {
        "id": "BPKgWnCvBk9p",
        "colab_type": "text"
      },
      "source": [
        "## Motivation for write-up"
      ]
    },
    {
      "cell_type": "markdown",
      "metadata": {
        "id": "QxlznadEpqsF",
        "colab_type": "text"
      },
      "source": [
        "This is the 1st part of a multi-part series blog post on modeling in epidemiology.\n",
        "\n",
        "The COVID-19 pandemic has brought a lot of attention to study of epidemiology and more specifically to the various mathematical models that are used to inform public health policies. Everyone has been trying to understand the growth or slowing of new cases and trying to predict the necessary sanitary resources. This blog post attempts to explain the foundations for some of the most used models and enlighten the reader on two key points.\n",
        "\n",
        "In this first post I want to introduce the concept of compartmentalization and how it forms the basis for studying disease dynamics on the population level."
      ]
    },
    {
      "cell_type": "markdown",
      "metadata": {
        "id": "jUcGXO9WrtEb",
        "colab_type": "text"
      },
      "source": [
        "## How to model infectious diseases on population level ?"
      ]
    },
    {
      "cell_type": "markdown",
      "metadata": {
        "id": "BIvkvGOndIER",
        "colab_type": "text"
      },
      "source": [
        "### Compartments"
      ]
    },
    {
      "cell_type": "markdown",
      "metadata": {
        "id": "-HoxFcE0tBFt",
        "colab_type": "text"
      },
      "source": [
        "When modelling infectious diseases and pandemics in particular, a key ask is to predict the number of infected people at any given time in order to estimate the sanitary resources that will be necessary.\n",
        "\n",
        "From this simple qestion results the idea of compartmentalization of the population i.e. the division of the population into the two most basic categories:\n",
        "\n",
        "* those that are infected\n",
        "* those that are not\n",
        "\n",
        "This is ultimately the foundation for all compartmental models in epidemiology. \n",
        "\n",
        "The nuances between the models then come from how the above two groups are further compartmentalized. That is to say, how we decide the composition of the infected and the not-infected groups. \n",
        "\n",
        "The infected group for example could be further sub-categorized into:\n",
        "* asymptomatic\n",
        "* symptomatic\n",
        "\n",
        "Or\n",
        "\n",
        "* no treatment necessary\n",
        "* require treatment:\n",
        "  * local Doctor visit\n",
        "  * hospitalization\n",
        "  * admitted to intensive care unit\n",
        "\n",
        "As you can see there are many ways to do this, but the more categories you have, the more difficult it might become to model. Usually we determine these subcategories in order to match available data.\n",
        "\n",
        "What about the non-infected group? Again there are many ways to subdivide this group but the most obvious first subdivision would be to separate those susceptible to the disease from those that are immune."
      ]
    },
    {
      "cell_type": "markdown",
      "metadata": {
        "id": "QBV_IBbQdK61",
        "colab_type": "text"
      },
      "source": [
        "### Dynamics"
      ]
    },
    {
      "cell_type": "markdown",
      "metadata": {
        "id": "ZiC_2ovWdMat",
        "colab_type": "text"
      },
      "source": [
        "While the compartments describe the state any individual can be in at a certain point in time, the dynamics describe the ways in which the compartments interact with each other."
      ]
    },
    {
      "cell_type": "markdown",
      "metadata": {
        "id": "OHpyjkT1duxY",
        "colab_type": "text"
      },
      "source": [
        "#### Individual level disease dynamics"
      ]
    },
    {
      "cell_type": "markdown",
      "metadata": {
        "id": "MWFkLNSudyAV",
        "colab_type": "text"
      },
      "source": [
        "This describes on the individual level, how one person can go from one state to another (one compartment to another) i.e. a healthy person becomes ill, then he dies or recovers, etc.. "
      ]
    },
    {
      "cell_type": "markdown",
      "metadata": {
        "id": "tky_srW_d7I2",
        "colab_type": "text"
      },
      "source": [
        "#### Population-level dynamics"
      ]
    },
    {
      "cell_type": "markdown",
      "metadata": {
        "id": "gRL158xjd9lZ",
        "colab_type": "text"
      },
      "source": [
        "This describes on a population level how the total number of individuals in each compartment vary over time. \n",
        "\n",
        "We will see more on this in other blog posts."
      ]
    },
    {
      "cell_type": "markdown",
      "metadata": {
        "id": "dFoO03Dzc8g6",
        "colab_type": "text"
      },
      "source": [
        "## A simple example - the SIR model"
      ]
    },
    {
      "cell_type": "markdown",
      "metadata": {
        "id": "ZTT6MWDQdCQL",
        "colab_type": "text"
      },
      "source": [
        "Let's have a look at a basic compartmental model, the SIR model.\n",
        "\n",
        "* **S --> Susceptible state:**\n",
        "\n",
        "An S individual is simply someone susceptible to the disease, that is anyone in the population who is healthy and not immune to the disease.\n",
        "\n",
        "* **I --> Infectious state:**\n",
        "\n",
        "Once an individual is exposed to the disease he will develop this disease and become infectious.\n",
        "\n",
        "* **R --> Recovered state:**\n",
        "\n",
        "An individual will either fight off the infection (with the help or not of treatment) or die. These are all included in the R state. \n",
        "\n",
        "In the basic SIR model, anyone R has aquired full and infinite immunity and cannot catcht the disease again (of course many variations can be included to reflect more closely a disease).\n",
        "\n",
        "In this write-up we will focus on the SEIR models, which are similar to the SIR compartments above with the additional E state between S and I. \n",
        "\n",
        "* **E --> Exposed state:**\n",
        "\n",
        "The exposed state is the state when an individual has been exposed to the disease, but has not become infectious yet.\n",
        "\n",
        "It should be noted the **incubation period**, the time between exposure to disease and development of the disease is not necessarily the same as the time between the states E and I. Indeed, an individual may become infectious before the appearance of the symptoms (or at the same time, or after, but not necessarily the same time)."
      ]
    },
    {
      "cell_type": "markdown",
      "metadata": {
        "id": "5I76bydrxeAo",
        "colab_type": "text"
      },
      "source": [
        "## Individual-level disease dynamic"
      ]
    },
    {
      "cell_type": "markdown",
      "metadata": {
        "id": "-10yPIXOzQX2",
        "colab_type": "text"
      },
      "source": [
        "As explained above, the individual-level disease dynamic describes the progression of disease within an individual i.e. the progression of an individual from one state to another. \n",
        "\n",
        "* In the models used here (SEIR model), an individual starts at S (although an initial exposed or infectious person is injected into the population at time t=0).\n",
        "\n",
        "* If exposed to the disease he will move into the state E.\n",
        "\n",
        "* After which he will move to the I state with probability 1, but in a time unique to himself.\n",
        "\n",
        "* Again after which he will move into the state R with probability 1, and again in a time unique to him. \n",
        "\n",
        "* From state R he will stay in state R (either dead or has aquired full and inifite immunity).\n",
        "\n",
        "Let's have a closer look:"
      ]
    },
    {
      "cell_type": "markdown",
      "metadata": {
        "id": "XKj98y9K7dv4",
        "colab_type": "text"
      },
      "source": [
        "### S &rarr; E"
      ]
    },
    {
      "cell_type": "markdown",
      "metadata": {
        "id": "IIM4QRyr7hyI",
        "colab_type": "text"
      },
      "source": [
        "The chances of an individual going from S &rarr; E depends on three things:\n",
        "  1. the number of contacts the person has per unit time (given by $r$)\n",
        "  2. the chance a given contact is with an I - infectious individual (the higher thenumber of I, the higher the chance)\n",
        "  3. the chance of an S contracting the disease from a contact with an I (given by $\\rho$)"
      ]
    },
    {
      "cell_type": "markdown",
      "metadata": {
        "id": "pHRmVoz_8VVU",
        "colab_type": "text"
      },
      "source": [
        "### E &rarr; I"
      ]
    },
    {
      "cell_type": "markdown",
      "metadata": {
        "id": "dA4d0OEZ8aUY",
        "colab_type": "text"
      },
      "source": [
        "All people exposed will eventually develop disease. \n",
        "\n",
        "However, individually, a person might go from E to I on the first day, or after 10 days, this is unique to the individual.\n",
        "\n",
        "Everyday additional day following exposure the probability of this individual to go from E &rarr; I increases (we will have a look at the probaility distribution and its importance later)."
      ]
    },
    {
      "cell_type": "markdown",
      "metadata": {
        "id": "QQ8iJzkG8p3-",
        "colab_type": "text"
      },
      "source": [
        "### I &rarr; R"
      ]
    },
    {
      "cell_type": "markdown",
      "metadata": {
        "id": "jSyo1QSA8sfC",
        "colab_type": "text"
      },
      "source": [
        "Similarly, all infectious people will recover (or die). Again, individually, a person might go from I to R in 5 days or in 15 days, this time is the recovery time and is proper to the individual."
      ]
    },
    {
      "cell_type": "markdown",
      "metadata": {
        "id": "mCzBXZwgxP7h",
        "colab_type": "text"
      },
      "source": [
        "## Population level dynamics"
      ]
    },
    {
      "cell_type": "markdown",
      "metadata": {
        "id": "x3WdBKwN447B",
        "colab_type": "text"
      },
      "source": [
        "Most basic models tend to disregard the notion of individual dynamics above in favor of poopulation level dynamics. That is to say the models tend to model disease on a population level without looking at the specifics pogression of disease within the individuals and using averages instead (although the S &rarr; E uses the same logic as above).\n",
        "\n",
        "Below is an explanation for such an SEIR model with its mathematical formulation.\n",
        "\n",
        "Note no births or deaths are included.\n"
      ]
    },
    {
      "cell_type": "markdown",
      "metadata": {
        "id": "Mrvf03837UKK",
        "colab_type": "text"
      },
      "source": [
        "### S &rarr; E"
      ]
    },
    {
      "cell_type": "markdown",
      "metadata": {
        "id": "CgIefLSb91SU",
        "colab_type": "text"
      },
      "source": [
        "As stated above, going from S to E depends on:\n",
        "* the number of infectious people in the population: $\\frac{I(t)}{N}$\n",
        "* the average number of contacts an individual has per day: $r$\n",
        "* the chance for an S to contract the disease after contact with an I: $\\rho$\n",
        "\n",
        "We can combine the last two into $\\beta = r * \\rho$\n",
        "\n",
        "So the negative rate of change of the number of S in a population over a unit time is equal to $\\beta * \\frac{I(t)}{N}$\n",
        "\n",
        "Hence we can formulate this mathematically as follows:\n",
        "\n",
        "$\\Delta S = -\\beta \\frac{I}{N} * \\Delta T$ \n",
        "\n",
        "or \n",
        "\n",
        "$\\frac{dS}{dt}=-\\beta\\frac{I(t)}{N}$"
      ]
    },
    {
      "cell_type": "markdown",
      "metadata": {
        "id": "384SVmtw7MUn",
        "colab_type": "text"
      },
      "source": [
        "### E &rarr; I"
      ]
    },
    {
      "cell_type": "markdown",
      "metadata": {
        "id": "AuWqadGI-4ko",
        "colab_type": "text"
      },
      "source": [
        "We have seen above how each individual goes from E to I. \n",
        "\n",
        "On a population level, the number of E changes in two ways:\n",
        "* new additions following S &rarr; E\n",
        "* reduction following E &rarr; I\n",
        "\n",
        "We know the number from S &rarr; E is:\n",
        "$\\beta\\frac{I(t)}{N}$\n",
        "\n",
        "How can we model the number of E &rarr; I? \n",
        "\n",
        "While individually this is complicated to model and pertains to the specific probability distribution, on a population level we can use the average time it takes - this is what most models do (part 3 of this blog post will show why this is wrong for COVID-19). \n",
        "\n",
        "Let's say average time from E &rarr; I is $\\frac{1}{\\sigma}$, then we know every unit time, we have $\\sigma * E$ transitions from E &rarr; I.\n",
        "\n",
        "Mathematically, we write this as :\n",
        "\n",
        "$\\Delta E = (\\beta \\frac{I}{N}-\\sigma E) \\Delta T$ \n",
        "\n",
        "or \n",
        "\n",
        "$\\frac{dE}{dt}=\\beta\\frac{I(t)}{N} - \\sigma E(t)$\n"
      ]
    },
    {
      "cell_type": "markdown",
      "metadata": {
        "id": "_VZr-dXwAa2O",
        "colab_type": "text"
      },
      "source": [
        "### I &rarr; R"
      ]
    },
    {
      "cell_type": "markdown",
      "metadata": {
        "id": "qStKvDf5AdH2",
        "colab_type": "text"
      },
      "source": [
        "Similarly as above, we have seen above how each individual goes from I to R but this does not tell us about the population level dynamics. \n",
        "\n",
        "On a population level, the number of I changes in two ways:\n",
        "* new additions following E &rarr; I\n",
        "* reduction following I &rarr; R\n",
        "\n",
        "We know the number from E &rarr; I is:\n",
        "$\\sigma E(t)$\n",
        "\n",
        "How can we model the number of I &rarr; R? \n",
        "\n",
        "Again, while individually this is complicated, on a population level, how about averaging it out, this is what most models do. Let's say average time from I &rarr; R is $\\frac{1}{\\gamma}$, then we have:\n",
        "\n",
        "$\\Delta I = (\\sigma E - \\gamma I) \\Delta T$ \n",
        "\n",
        "or \n",
        "\n",
        "$\\frac{dI}{dt}=\\sigma E(t) - \\gamma I(t)$\n"
      ]
    },
    {
      "cell_type": "markdown",
      "metadata": {
        "id": "tM5ozC5pA4Lz",
        "colab_type": "text"
      },
      "source": [
        "### R &rarr; R "
      ]
    },
    {
      "cell_type": "markdown",
      "metadata": {
        "id": "q25vDnJEBIjN",
        "colab_type": "text"
      },
      "source": [
        "Finally, we can model the number of individuals in R state with the following equation:\n",
        "\n",
        "$\\Delta R = \\gamma I \\Delta T$\n",
        "\n",
        "or\n",
        "\n",
        "$\\frac{dR}{dt}=\\gamma I(t)$"
      ]
    },
    {
      "cell_type": "markdown",
      "metadata": {
        "id": "wsYc_y4yg2W5",
        "colab_type": "text"
      },
      "source": [
        "## Conclusion"
      ]
    },
    {
      "cell_type": "markdown",
      "metadata": {
        "id": "qFj46-Zyg4l9",
        "colab_type": "text"
      },
      "source": [
        "A brief introduction to compartmentalization models and the dynamics associated with them. \n",
        "\n",
        "Of course these sort of derivations can be done for many different types of comprtaments and their relevant dynamic models, but the SEIR is simple enough to understand and model quickly.\n",
        "\n",
        "Please note for COVID-19, the assumptions of averaging out the times for E &rarr; I and I &rarr; R are not correct ! \n",
        "\n",
        "While many models have been published like this for COVID, they cannot be correct and this will be shown in part 3 of these series."
      ]
    }
  ]
}