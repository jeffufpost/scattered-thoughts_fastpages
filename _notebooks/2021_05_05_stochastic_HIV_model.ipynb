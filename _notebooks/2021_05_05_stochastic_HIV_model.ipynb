{
  "nbformat": 4,
  "nbformat_minor": 0,
  "metadata": {
    "colab": {
      "name": "2021-05-05-stochastic_HIV_model.ipynb",
      "provenance": [],
      "toc_visible": true,
      "authorship_tag": "ABX9TyPh4pPlm9JhIhzPbvwEYPXC",
      "include_colab_link": true
    },
    "kernelspec": {
      "name": "python3",
      "display_name": "Python 3"
    }
  },
  "cells": [
    {
      "cell_type": "markdown",
      "metadata": {
        "id": "view-in-github",
        "colab_type": "text"
      },
      "source": [
        "<a href=\"https://colab.research.google.com/github/jeffufpost/scattered-thoughts/blob/master/_notebooks/2021_05_05_stochastic_HIV_model.ipynb\" target=\"_parent\"><img src=\"https://colab.research.google.com/assets/colab-badge.svg\" alt=\"Open In Colab\"/></a>"
      ]
    },
    {
      "cell_type": "markdown",
      "metadata": {
        "id": "EaN1NsvLOVtF"
      },
      "source": [
        "# \"HIV modeling\"\n",
        "> \"Building a new stochastic SEIR model to deal with probability distributions \"\n",
        "\n",
        "- toc: true \n",
        "- badges: true\n",
        "- comments: true\n",
        "- categories: [probability distributions, modeling, SEIR, epidemiology, stochastic, HIV, AIDS]\n",
        "- image: images/HIV_stochastic.png"
      ]
    },
    {
      "cell_type": "markdown",
      "metadata": {
        "id": "Wa5uqUhVOolP"
      },
      "source": [
        "![](https://github.com/jeffufpost/scattered-thoughts/blob/master/_notebooks/my_icons/HIV_stochastic.png?raw=1)"
      ]
    },
    {
      "cell_type": "markdown",
      "metadata": {
        "id": "yAOm450_HxYm"
      },
      "source": [
        "## Building a stochastic model"
      ]
    },
    {
      "cell_type": "markdown",
      "metadata": {
        "id": "AGMGuLg7jfUf"
      },
      "source": [
        "This model is going to focus on individual level disease dynamics to model the disease propagation.\n",
        "\n",
        "It models DHS dataset which contains a homogeneous population between 15 and 49 years old.\n",
        "\n",
        "The basic idea of this model is to have a dataframe with the number of rows equal to the population size (each individual is a row) and two columns:\n",
        "* State column to describe the state of each individual (S, I, or D)\n",
        "* Year column to save the day of transition of the individual into that state\n",
        "* Age column to know the age of the individuals\n",
        "\n",
        "However, the population-level rates of transmission still apply here i.e. a person goes from S &rarr; I following two points:\n",
        "1. the effective contact rate $\\beta$, which is itself given by:\n",
        "  - the number of contacts the person has per unit time (given by $r$)\n",
        "  - the chance of an S contracting the disease from a contact with an I (given by $\\rho$)\n",
        "2. the chance a given contact is with an I - infectious individual (the higher the number of I, the higher the chance)\n",
        "\n",
        "This is done stochastically.\n",
        "\n",
        "Once a person becomes I, their progression is unique to them. This progression is calculated in advance for computational reason, but it allows to use the time ditributions we want."
      ]
    },
    {
      "cell_type": "code",
      "metadata": {
        "id": "nsPi17ppluAE",
        "colab": {
          "base_uri": "https://localhost:8080/"
        },
        "outputId": "84dd1725-aa80-4a84-bd0f-9bc0ae2fea38"
      },
      "source": [
        "#collapse_hide\n",
        "!pip install plotly==4.14.3\n",
        "import pandas as pd\n",
        "import numpy as np\n",
        "import math\n",
        "import plotly.graph_objects as go\n",
        "import plotly.express as px\n",
        "from scipy.stats import expon\n",
        "from scipy.stats import gamma\n",
        "from scipy.stats import weibull_min\n",
        "from numpy.random import default_rng\n",
        "rng = default_rng()\n",
        "import tqdm\n",
        "import time"
      ],
      "execution_count": null,
      "outputs": [
        {
          "output_type": "stream",
          "text": [
            "Collecting plotly==4.14.3\n",
            "\u001b[?25l  Downloading https://files.pythonhosted.org/packages/1f/f6/bd3c17c8003b6641df1228e80e1acac97ed8402635e46c2571f8e1ef63af/plotly-4.14.3-py2.py3-none-any.whl (13.2MB)\n",
            "\u001b[K     |████████████████████████████████| 13.2MB 254kB/s \n",
            "\u001b[?25hRequirement already satisfied: retrying>=1.3.3 in /usr/local/lib/python3.7/dist-packages (from plotly==4.14.3) (1.3.3)\n",
            "Requirement already satisfied: six in /usr/local/lib/python3.7/dist-packages (from plotly==4.14.3) (1.15.0)\n",
            "Installing collected packages: plotly\n",
            "  Found existing installation: plotly 4.4.1\n",
            "    Uninstalling plotly-4.4.1:\n",
            "      Successfully uninstalled plotly-4.4.1\n",
            "Successfully installed plotly-4.14.3\n"
          ],
          "name": "stdout"
        }
      ]
    },
    {
      "cell_type": "markdown",
      "metadata": {
        "id": "42RmLhHwVj_2"
      },
      "source": [
        "### Creating the initial population dataframe\n",
        "\n",
        "Below is a function to create the initial population dataframe:\n",
        "* $p$ is the population number\n",
        "* $num_I$ is the number of infectious on day 0\n",
        "* $num_R$ is the number of people recovered on day 0"
      ]
    },
    {
      "cell_type": "code",
      "metadata": {
        "id": "TYGGYIjObXgv"
      },
      "source": [
        "#collapse_hide\n",
        "# Need this new function for model below:\n",
        "def make_df(p, num_I, num_R):\n",
        "  df = pd.DataFrame(np.full((p,1), 'S').T[0], columns=['State'])\n",
        "  df['Year'] = 0\n",
        "  df['Age'] = (np.random.random(p)*35+15).astype(int)\n",
        "  tochange=df.loc[rng.choice(p, size=num_I+num_R, replace=False),'State'].index\n",
        "  df.loc[tochange[0:num_I],'State'] = 'I'\n",
        "  df.loc[tochange[num_I:num_I+num_R],'State'] = 'R'\n",
        "  return df"
      ],
      "execution_count": null,
      "outputs": []
    },
    {
      "cell_type": "markdown",
      "metadata": {
        "id": "30fEs2dbap35"
      },
      "source": [
        "### Building the model"
      ]
    },
    {
      "cell_type": "code",
      "metadata": {
        "colab": {
          "base_uri": "https://localhost:8080/"
        },
        "id": "vhEHGn9AqmIW",
        "outputId": "b5387391-fdc9-472b-f171-aa5eeb1c921a"
      },
      "source": [
        "# Modelling the decrease of beta over time\n",
        "\n",
        "#np.random.random(size=(p,days))\n",
        "#np.log(4)\n",
        "j=12\n",
        "over = 10\n",
        "\n",
        "#10/np.cumsum(np.ones(100))\n",
        "\n",
        "b1 = 0.25  # original beta = beta value before epidemic\n",
        "b2 = 0.05 # end beta = beta at the end of epidemic\n",
        "b2 + (b1/np.exp((j+(b1*2.9)-over+1)/(b1*27)))"
      ],
      "execution_count": null,
      "outputs": [
        {
          "output_type": "execute_result",
          "data": {
            "text/plain": [
              "0.19397059336956546"
            ]
          },
          "metadata": {
            "tags": []
          },
          "execution_count": 5
        }
      ]
    },
    {
      "cell_type": "code",
      "metadata": {
        "id": "iT2XoyZad5Zw"
      },
      "source": [
        "8#collapse_hide\n",
        "def seir_model_stoch(beta, beta2, p, num_I, num_R, years, T_Infectious, ART, control):\n",
        "\n",
        "    ################################\n",
        "    #### Explanation of inputs  ####\n",
        "    ################################\n",
        "\n",
        "    #### As seen in SSA, beta has a starting value, but after a certain threshold (as soon as incidence or prevalence reaches a certain threshold) behaviours change and beta decreases\n",
        "    # beta is initial value of beta at start of epidemic (usually 0.3, but can range from 0.2 to 0.5 as seen in SSA)\n",
        "    # beta2 is final value (usually around 0.05)\n",
        "    # p is total number of individuals in population\n",
        "    # num_I is initial number of PLWHA in population (for simulations start with something between 1 and 10 depending on size of p)\n",
        "    # num_R is initial number of people deceased from HIV/AIDS\n",
        "    # years is number of years you want to run simulation for\n",
        "    # T_infectious is distribution of progression of HIV in an individual (use 'gamma' for HIV)\n",
        "    # ART is to emulate ART usage:\n",
        "        # ART == 0 means no ART\n",
        "        # ART == 1 means ART stops evolution of I to R but does not stop spread from I to S\n",
        "        # ART == 2 means ART stops both I to R, and S to I\n",
        "    # control sets the threshold at which beta above will decrease\n",
        "        # control == 0 means no control i.e. beta never decreases\n",
        "        # control == 1 means beta decreases once incidence is 15 per 1 thousand population\n",
        "        # control == 2 means beta decreases once incidence is 30 per 1 thousand population\n",
        "\n",
        "\n",
        "    ################################\n",
        "    ##### Set up the dataframe #####\n",
        "    ################################\n",
        "\n",
        "    # Initialize population dataframe with data given by user\n",
        "    df = make_df(p, num_I, num_R)\n",
        "    \n",
        "    # This variable is used to track daily value of beta if it varies over time\n",
        "    xxbeta=np.array([],dtype=float)\n",
        "\n",
        "    # Initialize the arrays to return\n",
        "    # Below are numbers of S, I, R total\n",
        "    S=np.array([],dtype=int)\n",
        "    I=np.array([],dtype=int)\n",
        "    R=np.array([],dtype=int)\n",
        "    # Below are the daily additions in S, I, R\n",
        "    Spd=np.array([],dtype=int)\n",
        "    Ipd=np.array([],dtype=int)\n",
        "    Rpd=np.array([],dtype=int)\n",
        "\n",
        "    # Beta values to track spread\n",
        "    b=beta\n",
        "    b2=np.array([],dtype=float)\n",
        "    b1=b\n",
        "\n",
        "    # Signal to initiate decrease of beta\n",
        "    over = 0 \n",
        "\n",
        "    # signal to end transmission and deaths due to ART\n",
        "    art1 = 0\n",
        "    art2 = 0\n",
        "    \n",
        "    # Stochastic model so use random values to decide on progression\n",
        "    rand = np.random.random(size=(p,years))\n",
        "\n",
        "    # Depending if you want exponential, gamma, or Weibull distribution for T_Infectious\n",
        "    # Uses distributions found on blog part 3\n",
        "    if T_Infectious == 'expon':\n",
        "      ItoR = expon.rvs(loc=0,scale=10,size=p)\n",
        "    elif T_Infectious == 'gamma':\n",
        "      ItoR = gamma.rvs(4,loc=3,scale=2,size=p)    \n",
        "    else:\n",
        "      ItoR = weibull_min.rvs(2.3, loc=2, scale=20.11, size=p)\n",
        "\n",
        "\n",
        "    ################################\n",
        "    ####### Simulation code ########\n",
        "    ################################\n",
        "\n",
        "    # Iterate over every day the simulation is run\n",
        "    for j in range(0,years-1):\n",
        "\n",
        "        # Record daily beta values\n",
        "        xxbeta=np.append(xxbeta, b[j])\n",
        "\n",
        "        # First we get the index of the individuals that will change state today:\n",
        "\n",
        "        # Random number tells you which 'S' have been exposed on this day \n",
        "        if ART < 2:\n",
        "          StoI_index = df.loc[(df.State == 'S') & (df.Age < 49) & (rand[:,j] < b[j]*len(np.where(df.State=='I')[0])/(len(np.where(df.State=='I')[0])+len(np.where(df.State=='S')[0])))].index\n",
        "          StoS_index = df.loc[(df.State == 'S') & (df.Age < 49) & (rand[:,j] >= b[j]*len(np.where(df.State=='I')[0])/(len(np.where(df.State=='I')[0])+len(np.where(df.State=='S')[0])))].index\n",
        "        elif ART == 2: \n",
        "          if art2 == 0:\n",
        "            StoI_index = df.loc[(df.State == 'S') & (df.Age < 49) & (rand[:,j] < b[j]*len(np.where(df.State=='I')[0])/(len(np.where(df.State=='I')[0])+len(np.where(df.State=='S')[0])))].index\n",
        "            StoS_index = df.loc[(df.State == 'S') & (df.Age < 49) & (rand[:,j] >= b[j]*len(np.where(df.State=='I')[0])/(len(np.where(df.State=='I')[0])+len(np.where(df.State=='S')[0])))].index\n",
        "          elif art2 == 1:\n",
        "            StoI_index = df.loc[(df.State == 'S') & (df.Age > 55)].index # cannot happen so put an impossible condition like df.Age > 55 to emulate\n",
        "            StoS_index = df.loc[(df.State == 'S') & (df.Age < 49)].index # anyone S under 49 will stay S\n",
        "\n",
        "        StoRem_index = df.loc[(df.State == 'S') & (df.Age >= 49)].index\n",
        "        \n",
        "        # For each row, if a person has been a certain number of years in I, they will go to R (progression to AIDS and death)\n",
        "        # This follows ItoR variable which is either exponential or gamma distributed according to above\n",
        "        ItoRem_index = df.loc[(df.State == 'I') & (df.Age >= 49)].index\n",
        "        if ART == 0: #don't use ART\n",
        "          ItoR_index = df.loc[(df.State == 'I') & (j-df.Year >= ItoR) & (df.Age < 49)].index\n",
        "          ItoI_index = df.loc[(df.State == 'I') & (j-df.Year < ItoR) & (df.Age < 49)].index\n",
        "        elif ART > 0:\n",
        "          if art2 == 0:\n",
        "            ItoR_index = df.loc[(df.State == 'I') & (j-df.Year >= ItoR) & (df.Age < 49)].index\n",
        "            ItoI_index = df.loc[(df.State == 'I') & (j-df.Year < ItoR) & (df.Age < 49)].index\n",
        "          elif art2 ==1:\n",
        "            ItoR_index = df.loc[(df.State == 'I') & (df.Age > 55)].index # cannot happen so impossible condition\n",
        "            ItoI_index = df.loc[(df.State == 'I') & (df.Age < 49)].index            \n",
        "\n",
        "        RtoRem_index = df.loc[(df.State == 'R') & (df.Age >= 49)].index\n",
        "\n",
        "        RtoR_index = df.loc[(df.State == 'R') & (df.Age < 49)].index\n",
        "\n",
        "        # Use indexes collected above to populate per day values\n",
        "        Ipd = np.append(Ipd,len(StoI_index))\n",
        "        Rpd = np.append(Rpd,len(ItoR_index))\n",
        "\n",
        "        # Now we use the indexes collected above randomly to change the actual population dataframe to the new states\n",
        "        df.loc[ItoR_index, ['State','Year']] = ['S', j]\n",
        "        df.loc[ItoR_index, 'Age'] = df.loc[ItoR_index, 'Age'] + 1\n",
        "        df.loc[ItoI_index, 'Age'] = df.loc[ItoI_index, 'Age'] + 1\n",
        "        \n",
        "        df.loc[StoI_index, ['State','Year']] = ['I', j]\n",
        "        df.loc[StoI_index, 'Age'] = df.loc[StoI_index, 'Age'] + 1\n",
        "        df.loc[StoS_index, 'Age'] = df.loc[StoS_index, 'Age'] + 1\n",
        "        \n",
        "        df.loc[RtoR_index, 'Age'] = df.loc[RtoR_index, 'Age'] + 1\n",
        "\n",
        "        df.iloc[ItoRem_index] = ['S', j, 15]\n",
        "        df.iloc[StoRem_index] = ['S', j, 15]\n",
        "        df.iloc[RtoRem_index] = ['S', j, 15]\n",
        "\n",
        "        # Append the S, I, and R arrays\n",
        "        S=np.append(S,len(np.where(df.State=='S')[0]))\n",
        "        I=np.append(I,len(np.where(df.State=='I')[0]))\n",
        "        R=np.append(R,len(np.where(df.State=='R')[0]))\n",
        "\n",
        "        # Code below for control measures to reduce beta values\n",
        "        if control == 1:\n",
        "          if (I[-1]/p > 0.006):\n",
        "            art1 = 1\n",
        "            if over == 0:\n",
        "              over = j\n",
        "          \n",
        "          if art1 == 1:\n",
        "            if j > over + 15:    \n",
        "              art2 = 1\n",
        "\n",
        "          if over != 0:\n",
        "            b = beta2 + (b1/np.exp((j+(b1*2.9)-over+1)/(b1*27)))\n",
        "\n",
        "        if control == 2:\n",
        "          if (I[-1]/p > 0.01):\n",
        "            art1 = 1\n",
        "            if over == 0:\n",
        "              over = j\n",
        "          \n",
        "          if art1 == 1:\n",
        "            if j > over + 15:    \n",
        "              art2 = 1\n",
        "\n",
        "          if over != 0:\n",
        "            b = beta2 + (b1/np.exp((j+(b1*2.9)-over+1)/(b1*27)))\n",
        "\n",
        "\n",
        "        xxbeta2 = ((S[j-1]+I[j-1])/I[j-1])*Ipd[j]/S[j-1]\n",
        "        b2 = np.append(b2, xxbeta2)\n",
        "                \n",
        "    Ipd[0]+=num_I\n",
        "    Rpd[0]+=num_R\n",
        "\n",
        "    return S, I, R, Spd, Ipd, Rpd, xxbeta, b2, over"
      ],
      "execution_count": null,
      "outputs": []
    },
    {
      "cell_type": "markdown",
      "metadata": {
        "id": "5F__Fhakfd1-"
      },
      "source": [
        "## Testing the model"
      ]
    },
    {
      "cell_type": "code",
      "metadata": {
        "id": "wpfAaUGTdarx",
        "colab": {
          "base_uri": "https://localhost:8080/"
        },
        "outputId": "ea3d8591-d636-4a16-d089-21f018a731b9"
      },
      "source": [
        "#collapse_hide\n",
        "# Define parameters for stochastic model\n",
        "years = 50\n",
        "p = 100000\n",
        "num_E = 0\n",
        "num_I = 50\n",
        "num_R = 0\n",
        "beta_stoch = [0.17,0.17,0.26,0.26,0.36,0.36]\n",
        "#beta_stoch = np.linspace(0.2,0.5,num=10)\n",
        "#beta_stoch = [0.1,0.1,0.1,0.1,0.1,0.1]\n",
        "beta_stoch2 = [0.05,0.05,0.05,0.05,0.05,0.05]\n",
        "#beta_stoch = beta_stoch2\n",
        "\n",
        "control= [1,1,1,1,2,2]\n",
        "\n",
        "n = len(beta_stoch)\n",
        "\n",
        "#results_stoch = []\n",
        "\n",
        "# Run n stochastic simulations\n",
        "for i in tqdm.tqdm(range(n)):\n",
        "  res = seir_model_stoch(beta_stoch[i]*np.ones(years),beta_stoch2[i], p, num_I, num_R, years, 'gamma', 0, control[i])\n",
        "  results_stoch.append(res)"
      ],
      "execution_count": null,
      "outputs": [
        {
          "output_type": "stream",
          "text": [
            "100%|██████████| 6/6 [00:41<00:00,  6.95s/it]\n"
          ],
          "name": "stderr"
        }
      ]
    },
    {
      "cell_type": "code",
      "metadata": {
        "id": "ibxz7LHaQmbz",
        "colab": {
          "base_uri": "https://localhost:8080/",
          "height": 542
        },
        "outputId": "75aa7a3d-0061-47b4-b60d-ef1863728e24"
      },
      "source": [
        "#collapse_hide\n",
        "fig = go.Figure()\n",
        "\n",
        "for i in range(len(results_stoch)):\n",
        "  #fig.add_trace(go.Scatter(name='Beta_stoch1', x=np.arange(len(results_stoch1[0])), y=results_stoch1[6], line={'dash':'dot','color':'yellow'}, legendgroup=\"Sim_\"+str(i)))\n",
        "  fig.add_trace(go.Scatter(name='Beta_meas'+str(i), x=np.arange(len(results_stoch[i][0])), y=results_stoch[i][7], line={'dash':'dot','color':'yellow'}, legendgroup=\"Sim_\"+str(i)))\n",
        "  fig.add_trace(go.Scatter(name='I_stoch'+str(i), x=np.arange(len(results_stoch[i][0])), y=results_stoch[i][1]/p, line={'dash':'dot', 'color':'red'}, legendgroup=\"Sim_\"+str(i)))\n",
        "  fig.add_trace(go.Bar(name='Ip_stoch'+str(i), x=np.arange(len(results_stoch[i][0])), y=results_stoch[i][4]*10/p, legendgroup=\"Sim_\"+str(i)))\n",
        "  fig.add_trace(go.Scatter(name='R_stoch'+str(i), x=np.arange(len(results_stoch[i][0])), y=results_stoch[i][2]/p, line={'dash':'dot', 'color':'green'}, legendgroup=\"Sim_\"+str(i)))\n",
        "\n",
        "fig.update_layout(\n",
        "    xaxis_title = 'Years',\n",
        "    yaxis_title = 'Proportion of population',\n",
        "    title={\n",
        "        'text':r'$\\text{Stochastic HIV SIR model}$',\n",
        "        'x':0.5,\n",
        "        'xanchor':'center'\n",
        "    }\n",
        ")\n",
        "\n",
        "fig.show()"
      ],
      "execution_count": null,
      "outputs": [
        {
          "output_type": "display_data",
          "data": {
            "text/html": [
              "<html>\n",
              "<head><meta charset=\"utf-8\" /></head>\n",
              "<body>\n",
              "    <div>            <script src=\"https://cdnjs.cloudflare.com/ajax/libs/mathjax/2.7.5/MathJax.js?config=TeX-AMS-MML_SVG\"></script><script type=\"text/javascript\">if (window.MathJax) {MathJax.Hub.Config({SVG: {font: \"STIX-Web\"}});}</script>                <script type=\"text/javascript\">window.PlotlyConfig = {MathJaxConfig: 'local'};</script>\n",
              "        <script src=\"https://cdn.plot.ly/plotly-latest.min.js\"></script>                <div id=\"71932850-c8e7-412d-8338-2010021f94cd\" class=\"plotly-graph-div\" style=\"height:525px; width:100%;\"></div>            <script type=\"text/javascript\">                                    window.PLOTLYENV=window.PLOTLYENV || {};                                    if (document.getElementById(\"71932850-c8e7-412d-8338-2010021f94cd\")) {                    Plotly.newPlot(                        \"71932850-c8e7-412d-8338-2010021f94cd\",                        [{\"legendgroup\": \"Sim_0\", \"line\": {\"color\": \"yellow\", \"dash\": \"dot\"}, \"name\": \"Beta_meas0\", \"type\": \"scatter\", \"x\": [0, 1, 2, 3, 4, 5, 6, 7, 8, 9, 10, 11, 12, 13, 14, 15, 16, 17, 18, 19, 20, 21, 22, 23, 24, 25, 26, 27, 28, 29, 30, 31, 32, 33, 34, 35, 36, 37, 38, 39, 40, 41, 42, 43, 44, 45, 46, 47, 48], \"y\": [0.1725138511371078, 0.13801108090968625, 0.09529813306192424, 0.15394621888843135, 0.13898896094076624, 0.17514011208967173, 0.1849527652396727, 0.15702290846467318, 0.08938582641129494, 0.1352853018201555, 0.18509421169174511, 0.17715337631228292, 0.23561455343973686, 0.2108468029299272, 0.16988114002429533, 0.18119170423374664, 0.19178839755951183, 0.15740571521926036, 0.1496548062239638, 0.1532190486378548, 0.18326409165828153, 0.1903174772345694, 0.1552415123255551, 0.1722105361607684, 0.14571796178104882, 0.15427055502959952, 0.1779467696908363, 0.1623527121896907, 0.1565748511739383, 0.15066768462103566, 0.1770904754946591, 0.185153922812597, 0.158538661956483, 0.1488711461712076, 0.1764127633571561, 0.16068134465583142, 0.15372945638432364, 0.15811149621159837, 0.1615296880275199, 0.1675623530113898, 0.1642214589076108, 0.18691330132330056, 0.14665818735988764, 0.11690529425612074, 0.10928484000699425, 0.10739007881083047, 0.08987436673153003, 0.06615641753686638, 0.06802671287613127]}, {\"legendgroup\": \"Sim_0\", \"line\": {\"color\": \"red\", \"dash\": \"dot\"}, \"name\": \"I_stoch0\", \"type\": \"scatter\", \"x\": [0, 1, 2, 3, 4, 5, 6, 7, 8, 9, 10, 11, 12, 13, 14, 15, 16, 17, 18, 19, 20, 21, 22, 23, 24, 25, 26, 27, 28, 29, 30, 31, 32, 33, 34, 35, 36, 37, 38, 39, 40, 41, 42, 43, 44, 45, 46, 47, 48], \"y\": [0.00058, 0.00063, 0.00065, 0.00072, 0.0008, 0.00092, 0.00102, 0.00112, 0.00111, 0.00119, 0.0013, 0.00136, 0.00152, 0.00171, 0.00188, 0.00209, 0.00242, 0.00268, 0.00288, 0.00312, 0.00348, 0.00388, 0.00414, 0.00455, 0.00482, 0.00497, 0.00545, 0.00604, 0.00648, 0.00688, 0.0074, 0.00814, 0.00881, 0.0095, 0.01044, 0.01125, 0.0121, 0.01292, 0.01392, 0.01496, 0.01604, 0.01763, 0.01892, 0.0196, 0.02005, 0.02033, 0.02021, 0.01949, 0.01867]}, {\"legendgroup\": \"Sim_0\", \"name\": \"Ip_stoch0\", \"type\": \"bar\", \"x\": [0, 1, 2, 3, 4, 5, 6, 7, 8, 9, 10, 11, 12, 13, 14, 15, 16, 17, 18, 19, 20, 21, 22, 23, 24, 25, 26, 27, 28, 29, 30, 31, 32, 33, 34, 35, 36, 37, 38, 39, 40, 41, 42, 43, 44, 45, 46, 47, 48], \"y\": [0.006, 0.0008, 0.0006, 0.001, 0.001, 0.0014, 0.0017, 0.0016, 0.001, 0.0015, 0.0022, 0.0023, 0.0032, 0.0032, 0.0029, 0.0034, 0.004, 0.0038, 0.004, 0.0044, 0.0057, 0.0066, 0.006, 0.0071, 0.0066, 0.0074, 0.0088, 0.0088, 0.0094, 0.0097, 0.0121, 0.0136, 0.0128, 0.013, 0.0166, 0.0166, 0.0171, 0.0189, 0.0206, 0.023, 0.0242, 0.0295, 0.0254, 0.0217, 0.021, 0.0211, 0.0179, 0.0131, 0.013]}, {\"legendgroup\": \"Sim_0\", \"line\": {\"color\": \"green\", \"dash\": \"dot\"}, \"name\": \"R_stoch0\", \"type\": \"scatter\", \"x\": [0, 1, 2, 3, 4, 5, 6, 7, 8, 9, 10, 11, 12, 13, 14, 15, 16, 17, 18, 19, 20, 21, 22, 23, 24, 25, 26, 27, 28, 29, 30, 31, 32, 33, 34, 35, 36, 37, 38, 39, 40, 41, 42, 43, 44, 45, 46, 47, 48], \"y\": [0.0, 0.0, 0.0, 0.0, 0.0, 0.0, 0.0, 0.0, 0.0, 0.0, 0.0, 0.0, 0.0, 0.0, 0.0, 0.0, 0.0, 0.0, 0.0, 0.0, 0.0, 0.0, 0.0, 0.0, 0.0, 0.0, 0.0, 0.0, 0.0, 0.0, 0.0, 0.0, 0.0, 0.0, 0.0, 0.0, 0.0, 0.0, 0.0, 0.0, 0.0, 0.0, 0.0, 0.0, 0.0, 0.0, 0.0, 0.0, 0.0]}, {\"legendgroup\": \"Sim_1\", \"line\": {\"color\": \"yellow\", \"dash\": \"dot\"}, \"name\": \"Beta_meas1\", \"type\": \"scatter\", \"x\": [0, 1, 2, 3, 4, 5, 6, 7, 8, 9, 10, 11, 12, 13, 14, 15, 16, 17, 18, 19, 20, 21, 22, 23, 24, 25, 26, 27, 28, 29, 30, 31, 32, 33, 34, 35, 36, 37, 38, 39, 40, 41, 42, 43, 44, 45, 46, 47, 48], \"y\": [0.038481548866949274, 0.17316696990127176, 0.10350831068226468, 0.1747132439468611, 0.16450364930783032, 0.1883954302333454, 0.1399150672491008, 0.15400632041939002, 0.22833047217687813, 0.14747706712201375, 0.22658779754541092, 0.10207107962048187, 0.1374652237531266, 0.18154046474358973, 0.1771161603607502, 0.14749869425509368, 0.1282326562126656, 0.14699741084105905, 0.1242223041232724, 0.12381675615356298, 0.13621001313859085, 0.16953605844391292, 0.18449813772611545, 0.15079835109081371, 0.15346295050229605, 0.1686693765650937, 0.16950787018419866, 0.2013208613781482, 0.1710165437128974, 0.12324872231515946, 0.17035412048010012, 0.15232981165222287, 0.15892136888510303, 0.15878832434887058, 0.15031587443207883, 0.15812630737766628, 0.17062278145595627, 0.18134828440705092, 0.17520074326931015, 0.15474227965123813, 0.18157824979112902, 0.16896801097616201, 0.16628010681585678, 0.19780588764279425, 0.1418507866998872, 0.12213505511191693, 0.1070665597181547, 0.10508490860615377, 0.09018918319629048]}, {\"legendgroup\": \"Sim_1\", \"line\": {\"color\": \"red\", \"dash\": \"dot\"}, \"name\": \"I_stoch1\", \"type\": \"scatter\", \"x\": [0, 1, 2, 3, 4, 5, 6, 7, 8, 9, 10, 11, 12, 13, 14, 15, 16, 17, 18, 19, 20, 21, 22, 23, 24, 25, 26, 27, 28, 29, 30, 31, 32, 33, 34, 35, 36, 37, 38, 39, 40, 41, 42, 43, 44, 45, 46, 47, 48], \"y\": [0.00052, 0.00058, 0.00063, 0.00073, 0.00085, 0.00093, 0.00104, 0.00114, 0.00129, 0.00137, 0.00157, 0.00153, 0.0016, 0.00181, 0.00197, 0.00211, 0.00225, 0.00234, 0.00251, 0.00265, 0.00278, 0.00299, 0.00326, 0.0034, 0.00357, 0.00379, 0.00419, 0.0047, 0.00522, 0.00543, 0.00601, 0.00646, 0.00704, 0.00771, 0.00829, 0.00887, 0.00952, 0.01044, 0.01144, 0.01221, 0.01362, 0.01471, 0.01603, 0.0178, 0.01903, 0.01982, 0.0204, 0.02072, 0.02055]}, {\"legendgroup\": \"Sim_1\", \"name\": \"Ip_stoch1\", \"type\": \"bar\", \"x\": [0, 1, 2, 3, 4, 5, 6, 7, 8, 9, 10, 11, 12, 13, 14, 15, 16, 17, 18, 19, 20, 21, 22, 23, 24, 25, 26, 27, 28, 29, 30, 31, 32, 33, 34, 35, 36, 37, 38, 39, 40, 41, 42, 43, 44, 45, 46, 47, 48], \"y\": [0.0052, 0.0009, 0.0006, 0.0011, 0.0012, 0.0016, 0.0013, 0.0016, 0.0026, 0.0019, 0.0031, 0.0016, 0.0021, 0.0029, 0.0032, 0.0029, 0.0027, 0.0033, 0.0029, 0.0031, 0.0036, 0.0047, 0.0055, 0.0049, 0.0052, 0.006, 0.0064, 0.0084, 0.008, 0.0064, 0.0092, 0.0091, 0.0102, 0.0111, 0.0115, 0.013, 0.015, 0.0171, 0.0181, 0.0175, 0.0219, 0.0227, 0.0241, 0.0312, 0.0248, 0.0228, 0.0208, 0.021, 0.0183]}, {\"legendgroup\": \"Sim_1\", \"line\": {\"color\": \"green\", \"dash\": \"dot\"}, \"name\": \"R_stoch1\", \"type\": \"scatter\", \"x\": [0, 1, 2, 3, 4, 5, 6, 7, 8, 9, 10, 11, 12, 13, 14, 15, 16, 17, 18, 19, 20, 21, 22, 23, 24, 25, 26, 27, 28, 29, 30, 31, 32, 33, 34, 35, 36, 37, 38, 39, 40, 41, 42, 43, 44, 45, 46, 47, 48], \"y\": [0.0, 0.0, 0.0, 0.0, 0.0, 0.0, 0.0, 0.0, 0.0, 0.0, 0.0, 0.0, 0.0, 0.0, 0.0, 0.0, 0.0, 0.0, 0.0, 0.0, 0.0, 0.0, 0.0, 0.0, 0.0, 0.0, 0.0, 0.0, 0.0, 0.0, 0.0, 0.0, 0.0, 0.0, 0.0, 0.0, 0.0, 0.0, 0.0, 0.0, 0.0, 0.0, 0.0, 0.0, 0.0, 0.0, 0.0, 0.0, 0.0]}, {\"legendgroup\": \"Sim_2\", \"line\": {\"color\": \"yellow\", \"dash\": \"dot\"}, \"name\": \"Beta_meas2\", \"type\": \"scatter\", \"x\": [0, 1, 2, 3, 4, 5, 6, 7, 8, 9, 10, 11, 12, 13, 14, 15, 16, 17, 18, 19, 20, 21, 22, 23, 24, 25, 26, 27, 28, 29, 30, 31, 32, 33, 34, 35, 36, 37, 38, 39, 40, 41, 42, 43, 44, 45, 46, 47, 48], \"y\": [0.21324483344676318, 0.22964828217343727, 0.32900729861566064, 0.25024023062139655, 0.2460530544686798, 0.23604474836199252, 0.23849591122609792, 0.29267040213310097, 0.26760395684802324, 0.27954112502147943, 0.2522804271934253, 0.26505348434076265, 0.2574521352788822, 0.2579297413309656, 0.25851959230299587, 0.24149751768800382, 0.2370339634723542, 0.26361692809773773, 0.22597415626543138, 0.24193068532016454, 0.23904680088148508, 0.19638370311493908, 0.1722114758736481, 0.15996996312362693, 0.14176864075351941, 0.13094379594705907, 0.11967876799827003, 0.11424857808377438, 0.10713899682340701, 0.08893727551483839, 0.09356578253517718, 0.07519654414991811, 0.07842022765078406, 0.06776990477010471, 0.07197372617875303, 0.06772410509343571, 0.06214957737665889, 0.06710474004594393, 0.062424827502514574, 0.0644854765890233, 0.048937498694007577, 0.06882979209353697, 0.04014995989430801, 0.05147810807657197, 0.056625593742676276, 0.053811648161609604, 0.06343542217465738, 0.0659274827232233, 0.0532282678297398]}, {\"legendgroup\": \"Sim_2\", \"line\": {\"color\": \"red\", \"dash\": \"dot\"}, \"name\": \"I_stoch2\", \"type\": \"scatter\", \"x\": [0, 1, 2, 3, 4, 5, 6, 7, 8, 9, 10, 11, 12, 13, 14, 15, 16, 17, 18, 19, 20, 21, 22, 23, 24, 25, 26, 27, 28, 29, 30, 31, 32, 33, 34, 35, 36, 37, 38, 39, 40, 41, 42, 43, 44, 45, 46, 47, 48], \"y\": [0.00061, 0.00073, 0.00096, 0.00118, 0.0014, 0.00168, 0.00202, 0.00251, 0.00305, 0.00374, 0.00451, 0.00535, 0.00636, 0.00764, 0.00911, 0.01079, 0.01264, 0.01496, 0.01733, 0.0205, 0.02416, 0.02722, 0.0297, 0.03214, 0.03424, 0.03597, 0.03756, 0.03854, 0.03896, 0.03869, 0.03816, 0.03708, 0.03597, 0.03424, 0.03235, 0.03071, 0.02869, 0.02717, 0.02546, 0.02365, 0.02153, 0.01982, 0.0178, 0.01579, 0.01452, 0.01326, 0.01213, 0.01121, 0.01019]}, {\"legendgroup\": \"Sim_2\", \"name\": \"Ip_stoch2\", \"type\": \"bar\", \"x\": [0, 1, 2, 3, 4, 5, 6, 7, 8, 9, 10, 11, 12, 13, 14, 15, 16, 17, 18, 19, 20, 21, 22, 23, 24, 25, 26, 27, 28, 29, 30, 31, 32, 33, 34, 35, 36, 37, 38, 39, 40, 41, 42, 43, 44, 45, 46, 47, 48], \"y\": [0.0063, 0.0014, 0.0024, 0.0024, 0.0029, 0.0033, 0.004, 0.0059, 0.0067, 0.0085, 0.0094, 0.0119, 0.0137, 0.0163, 0.0196, 0.0218, 0.0253, 0.0329, 0.0333, 0.0412, 0.048, 0.0463, 0.0456, 0.0461, 0.0441, 0.0433, 0.0415, 0.0413, 0.0397, 0.0333, 0.0348, 0.0276, 0.028, 0.0235, 0.0238, 0.0212, 0.0185, 0.0187, 0.0165, 0.016, 0.0113, 0.0145, 0.0078, 0.009, 0.0088, 0.0077, 0.0083, 0.0079, 0.0059]}, {\"legendgroup\": \"Sim_2\", \"line\": {\"color\": \"green\", \"dash\": \"dot\"}, \"name\": \"R_stoch2\", \"type\": \"scatter\", \"x\": [0, 1, 2, 3, 4, 5, 6, 7, 8, 9, 10, 11, 12, 13, 14, 15, 16, 17, 18, 19, 20, 21, 22, 23, 24, 25, 26, 27, 28, 29, 30, 31, 32, 33, 34, 35, 36, 37, 38, 39, 40, 41, 42, 43, 44, 45, 46, 47, 48], \"y\": [0.0, 0.0, 0.0, 0.0, 0.0, 0.0, 0.0, 0.0, 0.0, 0.0, 0.0, 0.0, 0.0, 0.0, 0.0, 0.0, 0.0, 0.0, 0.0, 0.0, 0.0, 0.0, 0.0, 0.0, 0.0, 0.0, 0.0, 0.0, 0.0, 0.0, 0.0, 0.0, 0.0, 0.0, 0.0, 0.0, 0.0, 0.0, 0.0, 0.0, 0.0, 0.0, 0.0, 0.0, 0.0, 0.0, 0.0, 0.0, 0.0]}, {\"legendgroup\": \"Sim_3\", \"line\": {\"color\": \"yellow\", \"dash\": \"dot\"}, \"name\": \"Beta_meas3\", \"type\": \"scatter\", \"x\": [0, 1, 2, 3, 4, 5, 6, 7, 8, 9, 10, 11, 12, 13, 14, 15, 16, 17, 18, 19, 20, 21, 22, 23, 24, 25, 26, 27, 28, 29, 30, 31, 32, 33, 34, 35, 36, 37, 38, 39, 40, 41, 42, 43, 44, 45, 46, 47, 48], \"y\": [0.13801108090968625, 0.2932735469330833, 0.2741727488463839, 0.2530937547850538, 0.402299619471339, 0.22949714255194148, 0.2050289620982875, 0.27054108216432865, 0.2474533381644054, 0.2488933623963828, 0.31078808488208653, 0.24690730204842135, 0.24265468594204953, 0.21019804842751103, 0.2680844401646253, 0.2535979867005011, 0.23527140101724392, 0.253045674517507, 0.2341514046013438, 0.2350264266362295, 0.20898979721464417, 0.2046653696186519, 0.17378311554193432, 0.162833564556995, 0.1491310406603303, 0.12819412252840015, 0.10713044292452237, 0.11862194112230098, 0.09616240562108169, 0.10124435430255514, 0.09765865693704248, 0.08638510306174721, 0.0823964930165531, 0.07012812408269908, 0.07256479921763508, 0.06882895718884872, 0.07373974177400268, 0.06747160453458606, 0.05768969778819141, 0.06115400303919401, 0.057149308729042066, 0.061890258518515984, 0.06062977173462921, 0.060096481865833926, 0.04902063611505903, 0.056780735107731316, 0.05240986020081007, 0.05310037561347195, 0.053389599370173575]}, {\"legendgroup\": \"Sim_3\", \"line\": {\"color\": \"red\", \"dash\": \"dot\"}, \"name\": \"I_stoch3\", \"type\": \"scatter\", \"x\": [0, 1, 2, 3, 4, 5, 6, 7, 8, 9, 10, 11, 12, 13, 14, 15, 16, 17, 18, 19, 20, 21, 22, 23, 24, 25, 26, 27, 28, 29, 30, 31, 32, 33, 34, 35, 36, 37, 38, 39, 40, 41, 42, 43, 44, 45, 46, 47, 48], \"y\": [0.00058, 0.00073, 0.00087, 0.00107, 0.00144, 0.00171, 0.002, 0.00239, 0.00278, 0.00339, 0.00423, 0.00497, 0.00579, 0.00676, 0.00811, 0.00957, 0.01115, 0.0132, 0.01534, 0.01793, 0.0204, 0.02309, 0.0252, 0.02737, 0.02925, 0.03082, 0.03151, 0.03257, 0.03278, 0.03293, 0.03267, 0.03197, 0.0309, 0.02939, 0.02795, 0.02661, 0.02524, 0.02343, 0.02173, 0.02018, 0.01894, 0.0178, 0.01641, 0.01491, 0.01375, 0.01256, 0.01143, 0.01041, 0.00941]}, {\"legendgroup\": \"Sim_3\", \"name\": \"Ip_stoch3\", \"type\": \"bar\", \"x\": [0, 1, 2, 3, 4, 5, 6, 7, 8, 9, 10, 11, 12, 13, 14, 15, 16, 17, 18, 19, 20, 21, 22, 23, 24, 25, 26, 27, 28, 29, 30, 31, 32, 33, 34, 35, 36, 37, 38, 39, 40, 41, 42, 43, 44, 45, 46, 47, 48], \"y\": [0.0058, 0.0017, 0.002, 0.0022, 0.0043, 0.0033, 0.0035, 0.0054, 0.0059, 0.0069, 0.0105, 0.0104, 0.012, 0.0121, 0.018, 0.0204, 0.0223, 0.0279, 0.0305, 0.0355, 0.0368, 0.0409, 0.0392, 0.04, 0.0397, 0.0364, 0.032, 0.0362, 0.0303, 0.0321, 0.0311, 0.0273, 0.0255, 0.021, 0.0207, 0.0187, 0.0191, 0.0166, 0.0132, 0.013, 0.0113, 0.0115, 0.0106, 0.0097, 0.0072, 0.0077, 0.0065, 0.006, 0.0055]}, {\"legendgroup\": \"Sim_3\", \"line\": {\"color\": \"green\", \"dash\": \"dot\"}, \"name\": \"R_stoch3\", \"type\": \"scatter\", \"x\": [0, 1, 2, 3, 4, 5, 6, 7, 8, 9, 10, 11, 12, 13, 14, 15, 16, 17, 18, 19, 20, 21, 22, 23, 24, 25, 26, 27, 28, 29, 30, 31, 32, 33, 34, 35, 36, 37, 38, 39, 40, 41, 42, 43, 44, 45, 46, 47, 48], \"y\": [0.0, 0.0, 0.0, 0.0, 0.0, 0.0, 0.0, 0.0, 0.0, 0.0, 0.0, 0.0, 0.0, 0.0, 0.0, 0.0, 0.0, 0.0, 0.0, 0.0, 0.0, 0.0, 0.0, 0.0, 0.0, 0.0, 0.0, 0.0, 0.0, 0.0, 0.0, 0.0, 0.0, 0.0, 0.0, 0.0, 0.0, 0.0, 0.0, 0.0, 0.0, 0.0, 0.0, 0.0, 0.0, 0.0, 0.0, 0.0, 0.0]}, {\"legendgroup\": \"Sim_4\", \"line\": {\"color\": \"yellow\", \"dash\": \"dot\"}, \"name\": \"Beta_meas4\", \"type\": \"scatter\", \"x\": [0, 1, 2, 3, 4, 5, 6, 7, 8, 9, 10, 11, 12, 13, 14, 15, 16, 17, 18, 19, 20, 21, 22, 23, 24, 25, 26, 27, 28, 29, 30, 31, 32, 33, 34, 35, 36, 37, 38, 39, 40, 41, 42, 43, 44, 45, 46, 47, 48], \"y\": [0.24258434809398446, 0.43968413092034686, 0.31944921843554214, 0.3028814373137647, 0.36657393000833755, 0.32739400916584177, 0.34572994135383, 0.35641788049667883, 0.3145809016909283, 0.36933766881039826, 0.35119308931791293, 0.3433285777090552, 0.34664730759246537, 0.3462281482579619, 0.3476205000481472, 0.3567533464220402, 0.32616405307866575, 0.3087342446495481, 0.28513916815894247, 0.256078537774421, 0.2298460012637699, 0.20995214497964124, 0.1945296408029432, 0.19342043092130584, 0.1776591175318588, 0.15994497201308816, 0.1495330622238523, 0.1451587396188715, 0.13419081418552634, 0.1215535029362594, 0.11909735181456259, 0.10755611590068363, 0.10414959257689228, 0.10023229839001638, 0.09666334610200968, 0.09054767910132061, 0.08405808733451031, 0.08034555231879532, 0.08069079077327705, 0.07301929022043686, 0.06939490533997927, 0.07020741188610805, 0.06933690378297283, 0.06542817636387889, 0.06521875399695669, 0.06692585762580205, 0.06058396820917426, 0.06245312374562144, 0.05452359970471691]}, {\"legendgroup\": \"Sim_4\", \"line\": {\"color\": \"red\", \"dash\": \"dot\"}, \"name\": \"I_stoch4\", \"type\": \"scatter\", \"x\": [0, 1, 2, 3, 4, 5, 6, 7, 8, 9, 10, 11, 12, 13, 14, 15, 16, 17, 18, 19, 20, 21, 22, 23, 24, 25, 26, 27, 28, 29, 30, 31, 32, 33, 34, 35, 36, 37, 38, 39, 40, 41, 42, 43, 44, 45, 46, 47, 48], \"y\": [0.00066, 0.00094, 0.00119, 0.00153, 0.00202, 0.00261, 0.00335, 0.00431, 0.00539, 0.00717, 0.00932, 0.01203, 0.01549, 0.01993, 0.02578, 0.03317, 0.04178, 0.05178, 0.06306, 0.07446, 0.08627, 0.0979, 0.10877, 0.11992, 0.13034, 0.13913, 0.14601, 0.15225, 0.15583, 0.15758, 0.15856, 0.1575, 0.15503, 0.15171, 0.14835, 0.14331, 0.13684, 0.1304, 0.12397, 0.11645, 0.10921, 0.10162, 0.09396, 0.08755, 0.08168, 0.07533, 0.06915, 0.06387, 0.05835]}, {\"legendgroup\": \"Sim_4\", \"name\": \"Ip_stoch4\", \"type\": \"bar\", \"x\": [0, 1, 2, 3, 4, 5, 6, 7, 8, 9, 10, 11, 12, 13, 14, 15, 16, 17, 18, 19, 20, 21, 22, 23, 24, 25, 26, 27, 28, 29, 30, 31, 32, 33, 34, 35, 36, 37, 38, 39, 40, 41, 42, 43, 44, 45, 46, 47, 48], \"y\": [0.0066, 0.0029, 0.003, 0.0036, 0.0056, 0.0066, 0.009, 0.0119, 0.0135, 0.0198, 0.025, 0.0317, 0.0412, 0.0528, 0.0679, 0.0896, 0.1046, 0.1236, 0.14, 0.1513, 0.1584, 0.1655, 0.1718, 0.1875, 0.1875, 0.1813, 0.1791, 0.181, 0.1732, 0.1599, 0.1581, 0.1435, 0.1382, 0.1313, 0.1244, 0.1144, 0.1032, 0.0949, 0.0915, 0.0793, 0.0714, 0.0683, 0.0633, 0.0557, 0.0521, 0.0502, 0.0422, 0.0402, 0.0326]}, {\"legendgroup\": \"Sim_4\", \"line\": {\"color\": \"green\", \"dash\": \"dot\"}, \"name\": \"R_stoch4\", \"type\": \"scatter\", \"x\": [0, 1, 2, 3, 4, 5, 6, 7, 8, 9, 10, 11, 12, 13, 14, 15, 16, 17, 18, 19, 20, 21, 22, 23, 24, 25, 26, 27, 28, 29, 30, 31, 32, 33, 34, 35, 36, 37, 38, 39, 40, 41, 42, 43, 44, 45, 46, 47, 48], \"y\": [0.0, 0.0, 0.0, 0.0, 0.0, 0.0, 0.0, 0.0, 0.0, 0.0, 0.0, 0.0, 0.0, 0.0, 0.0, 0.0, 0.0, 0.0, 0.0, 0.0, 0.0, 0.0, 0.0, 0.0, 0.0, 0.0, 0.0, 0.0, 0.0, 0.0, 0.0, 0.0, 0.0, 0.0, 0.0, 0.0, 0.0, 0.0, 0.0, 0.0, 0.0, 0.0, 0.0, 0.0, 0.0, 0.0, 0.0, 0.0, 0.0]}, {\"legendgroup\": \"Sim_5\", \"line\": {\"color\": \"yellow\", \"dash\": \"dot\"}, \"name\": \"Beta_meas5\", \"type\": \"scatter\", \"x\": [0, 1, 2, 3, 4, 5, 6, 7, 8, 9, 10, 11, 12, 13, 14, 15, 16, 17, 18, 19, 20, 21, 22, 23, 24, 25, 26, 27, 28, 29, 30, 31, 32, 33, 34, 35, 36, 37, 38, 39, 40, 41, 42, 43, 44, 45, 46, 47, 48], \"y\": [0.3384654506240714, 0.23545422652109316, 0.2652804237155393, 0.3203203203203203, 0.33890211120610647, 0.38526648497499233, 0.3715516550120417, 0.35518166473317386, 0.34630877573096003, 0.35124027404037855, 0.381857333240299, 0.3495303669267987, 0.32103184291037024, 0.3447623779636078, 0.3313530662082438, 0.34762163924581113, 0.3224936483979192, 0.31627950707912, 0.2791773545118498, 0.2540373710434583, 0.2335408275848121, 0.2143616085028199, 0.20327900779755445, 0.1904673624651048, 0.17556726251362548, 0.161246206745719, 0.15365978232778515, 0.13792498397290254, 0.1258145921105084, 0.1189287686715922, 0.11964679088249504, 0.11162669040802106, 0.10546345457738993, 0.09470611789956175, 0.09023268308502129, 0.0870625844930756, 0.08650486477330327, 0.08132364465951254, 0.07480514415644698, 0.06943106409234234, 0.07346241496349397, 0.0695690705525504, 0.06630394474624986, 0.06753363288295204, 0.061600859607150824, 0.06808998040949914, 0.06098367847079363, 0.06509314925819182, 0.05926021620200978]}, {\"legendgroup\": \"Sim_5\", \"line\": {\"color\": \"red\", \"dash\": \"dot\"}, \"name\": \"I_stoch5\", \"type\": \"scatter\", \"x\": [0, 1, 2, 3, 4, 5, 6, 7, 8, 9, 10, 11, 12, 13, 14, 15, 16, 17, 18, 19, 20, 21, 22, 23, 24, 25, 26, 27, 28, 29, 30, 31, 32, 33, 34, 35, 36, 37, 38, 39, 40, 41, 42, 43, 44, 45, 46, 47, 48], \"y\": [0.00068, 0.00083, 0.001, 0.0013, 0.00169, 0.00232, 0.00305, 0.00403, 0.00518, 0.00667, 0.00892, 0.01147, 0.01457, 0.01873, 0.02372, 0.03048, 0.03837, 0.04809, 0.05818, 0.06869, 0.07985, 0.09109, 0.10229, 0.11302, 0.12264, 0.13089, 0.13803, 0.14346, 0.14685, 0.14863, 0.14933, 0.14964, 0.14722, 0.14334, 0.13853, 0.13371, 0.12838, 0.12195, 0.11563, 0.10892, 0.10214, 0.09555, 0.08908, 0.08264, 0.0758, 0.07019, 0.06507, 0.06034, 0.05546]}, {\"legendgroup\": \"Sim_5\", \"name\": \"Ip_stoch5\", \"type\": \"bar\", \"x\": [0, 1, 2, 3, 4, 5, 6, 7, 8, 9, 10, 11, 12, 13, 14, 15, 16, 17, 18, 19, 20, 21, 22, 23, 24, 25, 26, 27, 28, 29, 30, 31, 32, 33, 34, 35, 36, 37, 38, 39, 40, 41, 42, 43, 44, 45, 46, 47, 48], \"y\": [0.0073, 0.0016, 0.0022, 0.0032, 0.0044, 0.0065, 0.0086, 0.0108, 0.0139, 0.0181, 0.0253, 0.0309, 0.0364, 0.0495, 0.0609, 0.0805, 0.0953, 0.1167, 0.1278, 0.1392, 0.1494, 0.1575, 0.1683, 0.1749, 0.176, 0.1735, 0.1748, 0.1641, 0.1546, 0.149, 0.1514, 0.1418, 0.1342, 0.1189, 0.1108, 0.1039, 0.1002, 0.091, 0.0801, 0.071, 0.0713, 0.0638, 0.0573, 0.0548, 0.0467, 0.0477, 0.0398, 0.0396, 0.0336]}, {\"legendgroup\": \"Sim_5\", \"line\": {\"color\": \"green\", \"dash\": \"dot\"}, \"name\": \"R_stoch5\", \"type\": \"scatter\", \"x\": [0, 1, 2, 3, 4, 5, 6, 7, 8, 9, 10, 11, 12, 13, 14, 15, 16, 17, 18, 19, 20, 21, 22, 23, 24, 25, 26, 27, 28, 29, 30, 31, 32, 33, 34, 35, 36, 37, 38, 39, 40, 41, 42, 43, 44, 45, 46, 47, 48], \"y\": [0.0, 0.0, 0.0, 0.0, 0.0, 0.0, 0.0, 0.0, 0.0, 0.0, 0.0, 0.0, 0.0, 0.0, 0.0, 0.0, 0.0, 0.0, 0.0, 0.0, 0.0, 0.0, 0.0, 0.0, 0.0, 0.0, 0.0, 0.0, 0.0, 0.0, 0.0, 0.0, 0.0, 0.0, 0.0, 0.0, 0.0, 0.0, 0.0, 0.0, 0.0, 0.0, 0.0, 0.0, 0.0, 0.0, 0.0, 0.0, 0.0]}, {\"legendgroup\": \"Sim_6\", \"line\": {\"color\": \"yellow\", \"dash\": \"dot\"}, \"name\": \"Beta_meas6\", \"type\": \"scatter\", \"x\": [0, 1, 2, 3, 4, 5, 6, 7, 8, 9, 10, 11, 12, 13, 14, 15, 16, 17, 18, 19, 20, 21, 22, 23, 24, 25, 26, 27, 28, 29, 30, 31, 32, 33, 34, 35, 36, 37, 38, 39, 40, 41, 42, 43, 44, 45, 46, 47, 48], \"y\": [0.18344339937295714, 0.1667667267026883, 0.22073833736352483, 0.16062393254585597, 0.19118138738983315, 0.10690622992167369, 0.22246248170246088, 0.08811013767209011, 0.17852487072664822, 0.11275303854515684, 0.14401118678898978, 0.13686631750410086, 0.17677109910377053, 0.16878883232103595, 0.2193463588180402, 0.197678645870015, 0.14740965851668147, 0.14766780464140117, 0.18732458292457088, 0.1760282941901762, 0.13113050751562305, 0.1487675744094569, 0.1399321345293548, 0.16012616925463174, 0.15595693461919036, 0.16670236144423556, 0.1547577771509056, 0.1463317509169822, 0.18066880635714763, 0.1369006678443423, 0.16015294543483952, 0.13750025337748306, 0.15046545862686808, 0.15432036887474757, 0.17749099615293196, 0.14447597940686427, 0.16293704828099498, 0.15665024043481982, 0.18492587494710636, 0.1726240256468441, 0.15791210636689657, 0.14017776654246988, 0.15373883465787241, 0.19226202156394387, 0.15488773644735762, 0.142028404437469, 0.08930036749220215, 0.09177854639564872, 0.08631814970983753]}, {\"legendgroup\": \"Sim_6\", \"line\": {\"color\": \"red\", \"dash\": \"dot\"}, \"name\": \"I_stoch6\", \"type\": \"scatter\", \"x\": [0, 1, 2, 3, 4, 5, 6, 7, 8, 9, 10, 11, 12, 13, 14, 15, 16, 17, 18, 19, 20, 21, 22, 23, 24, 25, 26, 27, 28, 29, 30, 31, 32, 33, 34, 35, 36, 37, 38, 39, 40, 41, 42, 43, 44, 45, 46, 47, 48], \"y\": [0.0006, 0.00068, 0.00081, 0.00089, 0.00103, 0.00108, 0.00125, 0.00129, 0.00151, 0.00153, 0.00161, 0.0017, 0.00184, 0.00201, 0.00218, 0.00238, 0.00258, 0.00273, 0.00302, 0.00329, 0.00344, 0.00373, 0.00395, 0.00425, 0.00458, 0.00487, 0.00529, 0.00551, 0.0061, 0.00641, 0.00681, 0.00723, 0.00764, 0.00818, 0.00901, 0.00948, 0.01019, 0.01099, 0.01202, 0.01322, 0.01411, 0.01499, 0.01607, 0.01768, 0.01902, 0.02023, 0.02024, 0.02034, 0.02008]}, {\"legendgroup\": \"Sim_6\", \"name\": \"Ip_stoch6\", \"type\": \"bar\", \"x\": [0, 1, 2, 3, 4, 5, 6, 7, 8, 9, 10, 11, 12, 13, 14, 15, 16, 17, 18, 19, 20, 21, 22, 23, 24, 25, 26, 27, 28, 29, 30, 31, 32, 33, 34, 35, 36, 37, 38, 39, 40, 41, 42, 43, 44, 45, 46, 47, 48], \"y\": [0.0061, 0.001, 0.0015, 0.0013, 0.0017, 0.0011, 0.0024, 0.0011, 0.0023, 0.0017, 0.0022, 0.0022, 0.003, 0.0031, 0.0044, 0.0043, 0.0035, 0.0038, 0.0051, 0.0053, 0.0043, 0.0051, 0.0052, 0.0063, 0.0066, 0.0076, 0.0075, 0.0077, 0.0099, 0.0083, 0.0102, 0.0093, 0.0108, 0.0117, 0.0144, 0.0129, 0.0153, 0.0158, 0.0201, 0.0205, 0.0206, 0.0195, 0.0227, 0.0304, 0.0269, 0.0265, 0.0177, 0.0182, 0.0172]}, {\"legendgroup\": \"Sim_6\", \"line\": {\"color\": \"green\", \"dash\": \"dot\"}, \"name\": \"R_stoch6\", \"type\": \"scatter\", \"x\": [0, 1, 2, 3, 4, 5, 6, 7, 8, 9, 10, 11, 12, 13, 14, 15, 16, 17, 18, 19, 20, 21, 22, 23, 24, 25, 26, 27, 28, 29, 30, 31, 32, 33, 34, 35, 36, 37, 38, 39, 40, 41, 42, 43, 44, 45, 46, 47, 48], \"y\": [0.0, 0.0, 0.0, 0.0, 0.0, 0.0, 0.0, 0.0, 0.0, 0.0, 0.0, 0.0, 0.0, 0.0, 0.0, 0.0, 0.0, 0.0, 0.0, 0.0, 0.0, 0.0, 0.0, 0.0, 0.0, 0.0, 0.0, 0.0, 0.0, 0.0, 0.0, 0.0, 0.0, 0.0, 0.0, 0.0, 0.0, 0.0, 0.0, 0.0, 0.0, 0.0, 0.0, 0.0, 0.0, 0.0, 0.0, 0.0, 0.0]}, {\"legendgroup\": \"Sim_7\", \"line\": {\"color\": \"yellow\", \"dash\": \"dot\"}, \"name\": \"Beta_meas7\", \"type\": \"scatter\", \"x\": [0, 1, 2, 3, 4, 5, 6, 7, 8, 9, 10, 11, 12, 13, 14, 15, 16, 17, 18, 19, 20, 21, 22, 23, 24, 25, 26, 27, 28, 29, 30, 31, 32, 33, 34, 35, 36, 37, 38, 39, 40, 41, 42, 43, 44, 45, 46, 47, 48], \"y\": [0.1667667267026883, 0.1667667267026883, 0.18584437677803034, 0.126682357543472, 0.1955724468793598, 0.14155428015149138, 0.20022024226649315, 0.23229036295369213, 0.126054383642735, 0.14495717701432495, 0.14930871000447368, 0.19219103369423315, 0.1835967430777077, 0.13838584837682943, 0.13728695981185096, 0.18544298200085998, 0.1866959568271282, 0.16220590594652748, 0.16603199524647008, 0.14508691709594643, 0.12111112187654417, 0.1575968700266264, 0.14704695239613513, 0.2124221376310065, 0.17780619249268406, 0.17877018980865314, 0.16030517441785905, 0.17812203092839696, 0.1841333968437507, 0.1613254476332266, 0.13125313008450573, 0.17316345024563976, 0.18561142275643963, 0.18347514752510777, 0.17469479703884142, 0.18724696356275303, 0.1521771497852902, 0.1662173376867723, 0.16495538046392091, 0.12864459276657916, 0.1374906858070946, 0.10869847823887209, 0.09174311926605505, 0.08593021791752885, 0.08097801751301867, 0.08015329688392561, 0.07042047514841271, 0.06072176063530773, 0.06986788617886179]}, {\"legendgroup\": \"Sim_7\", \"line\": {\"color\": \"red\", \"dash\": \"dot\"}, \"name\": \"I_stoch7\", \"type\": \"scatter\", \"x\": [0, 1, 2, 3, 4, 5, 6, 7, 8, 9, 10, 11, 12, 13, 14, 15, 16, 17, 18, 19, 20, 21, 22, 23, 24, 25, 26, 27, 28, 29, 30, 31, 32, 33, 34, 35, 36, 37, 38, 39, 40, 41, 42, 43, 44, 45, 46, 47, 48], \"y\": [0.0006, 0.0007, 0.00079, 0.00087, 0.00099, 0.0011, 0.00125, 0.00143, 0.00152, 0.00161, 0.00172, 0.00191, 0.0021, 0.00219, 0.00227, 0.00247, 0.00272, 0.00296, 0.00325, 0.00348, 0.00363, 0.00396, 0.00416, 0.00469, 0.00506, 0.00552, 0.00593, 0.00645, 0.00718, 0.00791, 0.00821, 0.00897, 0.01002, 0.01088, 0.012, 0.01332, 0.01422, 0.01533, 0.01668, 0.01747, 0.01856, 0.019, 0.01898, 0.01888, 0.01843, 0.01793, 0.01709, 0.016, 0.01514]}, {\"legendgroup\": \"Sim_7\", \"name\": \"Ip_stoch7\", \"type\": \"bar\", \"x\": [0, 1, 2, 3, 4, 5, 6, 7, 8, 9, 10, 11, 12, 13, 14, 15, 16, 17, 18, 19, 20, 21, 22, 23, 24, 25, 26, 27, 28, 29, 30, 31, 32, 33, 34, 35, 36, 37, 38, 39, 40, 41, 42, 43, 44, 45, 46, 47, 48], \"y\": [0.006, 0.001, 0.0013, 0.001, 0.0017, 0.0014, 0.0022, 0.0029, 0.0018, 0.0022, 0.0024, 0.0033, 0.0035, 0.0029, 0.003, 0.0042, 0.0046, 0.0044, 0.0049, 0.0047, 0.0042, 0.0057, 0.0058, 0.0088, 0.0083, 0.009, 0.0088, 0.0105, 0.0118, 0.0115, 0.0103, 0.0141, 0.0165, 0.0182, 0.0188, 0.0222, 0.02, 0.0233, 0.0249, 0.0211, 0.0236, 0.0198, 0.0171, 0.016, 0.015, 0.0145, 0.0124, 0.0102, 0.011]}, {\"legendgroup\": \"Sim_7\", \"line\": {\"color\": \"green\", \"dash\": \"dot\"}, \"name\": \"R_stoch7\", \"type\": \"scatter\", \"x\": [0, 1, 2, 3, 4, 5, 6, 7, 8, 9, 10, 11, 12, 13, 14, 15, 16, 17, 18, 19, 20, 21, 22, 23, 24, 25, 26, 27, 28, 29, 30, 31, 32, 33, 34, 35, 36, 37, 38, 39, 40, 41, 42, 43, 44, 45, 46, 47, 48], \"y\": [0.0, 0.0, 0.0, 0.0, 0.0, 0.0, 0.0, 0.0, 0.0, 0.0, 0.0, 0.0, 0.0, 0.0, 0.0, 0.0, 0.0, 0.0, 0.0, 0.0, 0.0, 0.0, 0.0, 0.0, 0.0, 0.0, 0.0, 0.0, 0.0, 0.0, 0.0, 0.0, 0.0, 0.0, 0.0, 0.0, 0.0, 0.0, 0.0, 0.0, 0.0, 0.0, 0.0, 0.0, 0.0, 0.0, 0.0, 0.0, 0.0]}, {\"legendgroup\": \"Sim_8\", \"line\": {\"color\": \"yellow\", \"dash\": \"dot\"}, \"name\": \"Beta_meas8\", \"type\": \"scatter\", \"x\": [0, 1, 2, 3, 4, 5, 6, 7, 8, 9, 10, 11, 12, 13, 14, 15, 16, 17, 18, 19, 20, 21, 22, 23, 24, 25, 26, 27, 28, 29, 30, 31, 32, 33, 34, 35, 36, 37, 38, 39, 40, 41, 42, 43, 44, 45, 46, 47, 48], \"y\": [0.22964828217343727, 0.21324483344676318, 0.22551222635676965, 0.2825931453500181, 0.23609932188497168, 0.2906830275993845, 0.2778500223733884, 0.28850916769354074, 0.23660278663879114, 0.2669291132946714, 0.2922645321834622, 0.2997787778852757, 0.2838003228228672, 0.2320840826024578, 0.2661009499789982, 0.2316955918720063, 0.25805186842555355, 0.26831953954962723, 0.25041684519850077, 0.24862507528216687, 0.2139172645010944, 0.1920341251792059, 0.16942516891778828, 0.1387536780185543, 0.14244658706224309, 0.13711093622627102, 0.12284792374724074, 0.11094310171212024, 0.1195835820929935, 0.09756293539645217, 0.09506606042926757, 0.0833795607768933, 0.08409518289083735, 0.06858264609662315, 0.06929251419110691, 0.0758464174563967, 0.06903977519528551, 0.0706471773146375, 0.0676401070120605, 0.051333154300936906, 0.05906883985098044, 0.06421576828127186, 0.04984903319993466, 0.04343848226470827, 0.04995669416692397, 0.05522211369542933, 0.0561888665132336, 0.0522966846181151, 0.04650386724868266]}, {\"legendgroup\": \"Sim_8\", \"line\": {\"color\": \"red\", \"dash\": \"dot\"}, \"name\": \"I_stoch8\", \"type\": \"scatter\", \"x\": [0, 1, 2, 3, 4, 5, 6, 7, 8, 9, 10, 11, 12, 13, 14, 15, 16, 17, 18, 19, 20, 21, 22, 23, 24, 25, 26, 27, 28, 29, 30, 31, 32, 33, 34, 35, 36, 37, 38, 39, 40, 41, 42, 43, 44, 45, 46, 47, 48], \"y\": [0.00061, 0.00071, 0.00085, 0.00106, 0.00124, 0.00155, 0.00191, 0.00233, 0.00278, 0.00333, 0.00412, 0.0051, 0.0062, 0.00723, 0.00862, 0.0101, 0.01211, 0.01463, 0.01723, 0.02023, 0.02319, 0.02581, 0.02841, 0.03026, 0.03249, 0.03422, 0.03561, 0.03618, 0.03682, 0.03669, 0.0366, 0.03602, 0.0349, 0.0336, 0.03229, 0.03094, 0.02916, 0.02736, 0.02559, 0.02358, 0.02181, 0.02048, 0.01853, 0.0169, 0.01545, 0.01408, 0.01298, 0.01175, 0.01051]}, {\"legendgroup\": \"Sim_8\", \"name\": \"Ip_stoch8\", \"type\": \"bar\", \"x\": [0, 1, 2, 3, 4, 5, 6, 7, 8, 9, 10, 11, 12, 13, 14, 15, 16, 17, 18, 19, 20, 21, 22, 23, 24, 25, 26, 27, 28, 29, 30, 31, 32, 33, 34, 35, 36, 37, 38, 39, 40, 41, 42, 43, 44, 45, 46, 47, 48], \"y\": [0.0064, 0.0013, 0.0016, 0.0024, 0.0025, 0.0036, 0.0043, 0.0055, 0.0055, 0.0074, 0.0097, 0.0123, 0.0144, 0.0143, 0.0191, 0.0198, 0.0258, 0.0321, 0.0361, 0.0421, 0.0424, 0.0435, 0.0426, 0.0383, 0.0418, 0.0431, 0.0406, 0.0381, 0.0417, 0.0346, 0.0336, 0.0294, 0.0292, 0.0231, 0.0225, 0.0237, 0.0207, 0.02, 0.018, 0.0128, 0.0136, 0.0137, 0.01, 0.0079, 0.0083, 0.0084, 0.0078, 0.0067, 0.0054]}, {\"legendgroup\": \"Sim_8\", \"line\": {\"color\": \"green\", \"dash\": \"dot\"}, \"name\": \"R_stoch8\", \"type\": \"scatter\", \"x\": [0, 1, 2, 3, 4, 5, 6, 7, 8, 9, 10, 11, 12, 13, 14, 15, 16, 17, 18, 19, 20, 21, 22, 23, 24, 25, 26, 27, 28, 29, 30, 31, 32, 33, 34, 35, 36, 37, 38, 39, 40, 41, 42, 43, 44, 45, 46, 47, 48], \"y\": [0.0, 0.0, 0.0, 0.0, 0.0, 0.0, 0.0, 0.0, 0.0, 0.0, 0.0, 0.0, 0.0, 0.0, 0.0, 0.0, 0.0, 0.0, 0.0, 0.0, 0.0, 0.0, 0.0, 0.0, 0.0, 0.0, 0.0, 0.0, 0.0, 0.0, 0.0, 0.0, 0.0, 0.0, 0.0, 0.0, 0.0, 0.0, 0.0, 0.0, 0.0, 0.0, 0.0, 0.0, 0.0, 0.0, 0.0, 0.0, 0.0]}, {\"legendgroup\": \"Sim_9\", \"line\": {\"color\": \"yellow\", \"dash\": \"dot\"}, \"name\": \"Beta_meas9\", \"type\": \"scatter\", \"x\": [0, 1, 2, 3, 4, 5, 6, 7, 8, 9, 10, 11, 12, 13, 14, 15, 16, 17, 18, 19, 20, 21, 22, 23, 24, 25, 26, 27, 28, 29, 30, 31, 32, 33, 34, 35, 36, 37, 38, 39, 40, 41, 42, 43, 44, 45, 46, 47, 48], \"y\": [0.31529866117334143, 0.1919209241924687, 0.30978402810741973, 0.27807810212807615, 0.24845074023639413, 0.21376520908924782, 0.3067236272890784, 0.22143490705511343, 0.2860557900466302, 0.21667177555905878, 0.22864650415400994, 0.27132829018831967, 0.24114449966097762, 0.2247176305299308, 0.250605727232496, 0.2418573084402092, 0.2452031555742192, 0.2679110537931209, 0.2518503864200345, 0.25229095410784047, 0.20526290189211538, 0.19160587138255744, 0.16877748554268707, 0.15936211627274124, 0.1378591093882131, 0.12621160427933859, 0.127188972382039, 0.11308244851834162, 0.09749243969874714, 0.0890919098005998, 0.09124438771096291, 0.08686457679190858, 0.07072073400461938, 0.07203665721168823, 0.0725159049821222, 0.05571618888683495, 0.06399956302088418, 0.05855770653627051, 0.07109720765716926, 0.06617859563102925, 0.058454576255964695, 0.049157605427701895, 0.06161166105697945, 0.05241027925515878, 0.05879649956318035, 0.06783472989773552, 0.05462196502155019, 0.05623373439232702, 0.06290160419533719]}, {\"legendgroup\": \"Sim_9\", \"line\": {\"color\": \"red\", \"dash\": \"dot\"}, \"name\": \"I_stoch9\", \"type\": \"scatter\", \"x\": [0, 1, 2, 3, 4, 5, 6, 7, 8, 9, 10, 11, 12, 13, 14, 15, 16, 17, 18, 19, 20, 21, 22, 23, 24, 25, 26, 27, 28, 29, 30, 31, 32, 33, 34, 35, 36, 37, 38, 39, 40, 41, 42, 43, 44, 45, 46, 47, 48], \"y\": [0.00073, 0.00084, 0.00108, 0.00133, 0.00164, 0.00196, 0.00249, 0.00291, 0.00352, 0.00404, 0.00474, 0.00563, 0.00663, 0.00764, 0.00897, 0.01051, 0.01232, 0.01475, 0.01755, 0.021, 0.02401, 0.02685, 0.02935, 0.03192, 0.03387, 0.03512, 0.03653, 0.03718, 0.03731, 0.03675, 0.03644, 0.03563, 0.03406, 0.03235, 0.03093, 0.02913, 0.02721, 0.0254, 0.02368, 0.02222, 0.02035, 0.01869, 0.01728, 0.0159, 0.01451, 0.01336, 0.01206, 0.01093, 0.01025]}, {\"legendgroup\": \"Sim_9\", \"name\": \"Ip_stoch9\", \"type\": \"bar\", \"x\": [0, 1, 2, 3, 4, 5, 6, 7, 8, 9, 10, 11, 12, 13, 14, 15, 16, 17, 18, 19, 20, 21, 22, 23, 24, 25, 26, 27, 28, 29, 30, 31, 32, 33, 34, 35, 36, 37, 38, 39, 40, 41, 42, 43, 44, 45, 46, 47, 48], \"y\": [0.0073, 0.0014, 0.0026, 0.003, 0.0033, 0.0035, 0.006, 0.0055, 0.0083, 0.0076, 0.0092, 0.0128, 0.0135, 0.0148, 0.019, 0.0215, 0.0255, 0.0326, 0.0366, 0.0435, 0.0422, 0.0449, 0.0441, 0.0454, 0.0426, 0.0413, 0.0431, 0.0398, 0.0349, 0.032, 0.0323, 0.0305, 0.0243, 0.0237, 0.0227, 0.0167, 0.0181, 0.0155, 0.0176, 0.0153, 0.0127, 0.0098, 0.0113, 0.0089, 0.0092, 0.0097, 0.0072, 0.0067, 0.0068]}, {\"legendgroup\": \"Sim_9\", \"line\": {\"color\": \"green\", \"dash\": \"dot\"}, \"name\": \"R_stoch9\", \"type\": \"scatter\", \"x\": [0, 1, 2, 3, 4, 5, 6, 7, 8, 9, 10, 11, 12, 13, 14, 15, 16, 17, 18, 19, 20, 21, 22, 23, 24, 25, 26, 27, 28, 29, 30, 31, 32, 33, 34, 35, 36, 37, 38, 39, 40, 41, 42, 43, 44, 45, 46, 47, 48], \"y\": [0.0, 0.0, 0.0, 0.0, 0.0, 0.0, 0.0, 0.0, 0.0, 0.0, 0.0, 0.0, 0.0, 0.0, 0.0, 0.0, 0.0, 0.0, 0.0, 0.0, 0.0, 0.0, 0.0, 0.0, 0.0, 0.0, 0.0, 0.0, 0.0, 0.0, 0.0, 0.0, 0.0, 0.0, 0.0, 0.0, 0.0, 0.0, 0.0, 0.0, 0.0, 0.0, 0.0, 0.0, 0.0, 0.0, 0.0, 0.0, 0.0]}, {\"legendgroup\": \"Sim_10\", \"line\": {\"color\": \"yellow\", \"dash\": \"dot\"}, \"name\": \"Beta_meas10\", \"type\": \"scatter\", \"x\": [0, 1, 2, 3, 4, 5, 6, 7, 8, 9, 10, 11, 12, 13, 14, 15, 16, 17, 18, 19, 20, 21, 22, 23, 24, 25, 26, 27, 28, 29, 30, 31, 32, 33, 34, 35, 36, 37, 38, 39, 40, 41, 42, 43, 44, 45, 46, 47, 48], \"y\": [0.2539014572599463, 0.3285783564540481, 0.43219851651271296, 0.3581641191022682, 0.3359167571402466, 0.3465359795195363, 0.3451555278074733, 0.38087634866021464, 0.34815111743166377, 0.3958707910170908, 0.33379315724981334, 0.32851489276743584, 0.3392019557897029, 0.3755155626474462, 0.37136723548203454, 0.337985016729161, 0.301442608458944, 0.259980168093362, 0.26343791265798905, 0.22344601329310645, 0.22200808483293707, 0.2030350599571805, 0.18616787450317543, 0.1718347812097812, 0.16667385383104538, 0.14755886895778603, 0.14640110067472523, 0.13332941477936847, 0.11653694988707639, 0.11866515070895713, 0.1106776551017861, 0.10643757337435333, 0.09583466359482469, 0.09416148535692151, 0.08955488195499055, 0.08781890727996926, 0.08520290892959048, 0.07512367445929419, 0.07260016690218396, 0.07625496847162282, 0.07165621379463297, 0.07918417560474762, 0.06986225487601928, 0.06644067441190356, 0.06160363231443761, 0.06207255734996024, 0.058622461682937894, 0.05704502839751081, 0.05341621954639037]}, {\"legendgroup\": \"Sim_10\", \"line\": {\"color\": \"red\", \"dash\": \"dot\"}, \"name\": \"I_stoch10\", \"type\": \"scatter\", \"x\": [0, 1, 2, 3, 4, 5, 6, 7, 8, 9, 10, 11, 12, 13, 14, 15, 16, 17, 18, 19, 20, 21, 22, 23, 24, 25, 26, 27, 28, 29, 30, 31, 32, 33, 34, 35, 36, 37, 38, 39, 40, 41, 42, 43, 44, 45, 46, 47, 48], \"y\": [0.00067, 0.00088, 0.00123, 0.00164, 0.00214, 0.00276, 0.00361, 0.00482, 0.00633, 0.00846, 0.01077, 0.01372, 0.01762, 0.02324, 0.03055, 0.03908, 0.04817, 0.0576, 0.06872, 0.07893, 0.09073, 0.10185, 0.112, 0.12118, 0.13001, 0.13635, 0.14185, 0.14527, 0.14629, 0.14741, 0.14665, 0.14469, 0.14167, 0.13749, 0.13197, 0.12674, 0.12135, 0.11502, 0.1084, 0.10194, 0.09597, 0.08997, 0.08396, 0.07761, 0.07186, 0.06632, 0.06125, 0.05592, 0.05079]}, {\"legendgroup\": \"Sim_10\", \"name\": \"Ip_stoch10\", \"type\": \"bar\", \"x\": [0, 1, 2, 3, 4, 5, 6, 7, 8, 9, 10, 11, 12, 13, 14, 15, 16, 17, 18, 19, 20, 21, 22, 23, 24, 25, 26, 27, 28, 29, 30, 31, 32, 33, 34, 35, 36, 37, 38, 39, 40, 41, 42, 43, 44, 45, 46, 47, 48], \"y\": [0.0067, 0.0022, 0.0038, 0.0044, 0.0055, 0.0074, 0.0095, 0.0137, 0.0167, 0.0249, 0.028, 0.035, 0.0459, 0.065, 0.0843, 0.1001, 0.1132, 0.1192, 0.143, 0.143, 0.1614, 0.1675, 0.1703, 0.1709, 0.1775, 0.1669, 0.1724, 0.1623, 0.1447, 0.1482, 0.1391, 0.1332, 0.1186, 0.1145, 0.1062, 0.1006, 0.0943, 0.0801, 0.0739, 0.0737, 0.0656, 0.0687, 0.0572, 0.0511, 0.0441, 0.0414, 0.0363, 0.0328, 0.0282]}, {\"legendgroup\": \"Sim_10\", \"line\": {\"color\": \"green\", \"dash\": \"dot\"}, \"name\": \"R_stoch10\", \"type\": \"scatter\", \"x\": [0, 1, 2, 3, 4, 5, 6, 7, 8, 9, 10, 11, 12, 13, 14, 15, 16, 17, 18, 19, 20, 21, 22, 23, 24, 25, 26, 27, 28, 29, 30, 31, 32, 33, 34, 35, 36, 37, 38, 39, 40, 41, 42, 43, 44, 45, 46, 47, 48], \"y\": [0.0, 0.0, 0.0, 0.0, 0.0, 0.0, 0.0, 0.0, 0.0, 0.0, 0.0, 0.0, 0.0, 0.0, 0.0, 0.0, 0.0, 0.0, 0.0, 0.0, 0.0, 0.0, 0.0, 0.0, 0.0, 0.0, 0.0, 0.0, 0.0, 0.0, 0.0, 0.0, 0.0, 0.0, 0.0, 0.0, 0.0, 0.0, 0.0, 0.0, 0.0, 0.0, 0.0, 0.0, 0.0, 0.0, 0.0, 0.0, 0.0]}, {\"legendgroup\": \"Sim_11\", \"line\": {\"color\": \"yellow\", \"dash\": \"dot\"}, \"name\": \"Beta_meas11\", \"type\": \"scatter\", \"x\": [0, 1, 2, 3, 4, 5, 6, 7, 8, 9, 10, 11, 12, 13, 14, 15, 16, 17, 18, 19, 20, 21, 22, 23, 24, 25, 26, 27, 28, 29, 30, 31, 32, 33, 34, 35, 36, 37, 38, 39, 40, 41, 42, 43, 44, 45, 46, 47, 48], \"y\": [0.22236231047782326, 0.3653095100707096, 0.3258616363561035, 0.36648188828630923, 0.2706708631477289, 0.3321719637111773, 0.3547715599111602, 0.3544358645296758, 0.31621931851888474, 0.3224637749885715, 0.3777137510332766, 0.37184877998455923, 0.3337630161802994, 0.32493944879661163, 0.33551315394298303, 0.34374283981400366, 0.34779750780628643, 0.3020026255864119, 0.295846959551212, 0.25866281684553755, 0.23689579217523016, 0.21779236361567622, 0.2040144889817929, 0.192960105119143, 0.1683020783623657, 0.1576313385679694, 0.15108169662933368, 0.14176981251026516, 0.12771316827313536, 0.11882982467593985, 0.11419807933397437, 0.10987191989685126, 0.10427197347680736, 0.09421480706826402, 0.08990339814323378, 0.08587790023746081, 0.08646658822818187, 0.08489540284392194, 0.07544331954532776, 0.07702461480410983, 0.0679877553006738, 0.06760201271636809, 0.07013811499062801, 0.062231005321925194, 0.06630411593788363, 0.06208747399249993, 0.06241970072334139, 0.06130555815360909, 0.05659266750640936]}, {\"legendgroup\": \"Sim_11\", \"line\": {\"color\": \"red\", \"dash\": \"dot\"}, \"name\": \"I_stoch11\", \"type\": \"scatter\", \"x\": [0, 1, 2, 3, 4, 5, 6, 7, 8, 9, 10, 11, 12, 13, 14, 15, 16, 17, 18, 19, 20, 21, 22, 23, 24, 25, 26, 27, 28, 29, 30, 31, 32, 33, 34, 35, 36, 37, 38, 39, 40, 41, 42, 43, 44, 45, 46, 47, 48], \"y\": [0.00063, 0.00086, 0.00112, 0.00148, 0.00187, 0.00243, 0.00317, 0.00416, 0.0053, 0.00669, 0.0089, 0.01161, 0.01487, 0.01871, 0.02375, 0.03064, 0.03922, 0.04849, 0.05926, 0.07058, 0.08203, 0.09367, 0.10524, 0.11609, 0.1255, 0.1338, 0.14099, 0.14629, 0.14975, 0.15125, 0.15132, 0.15021, 0.1483, 0.14444, 0.13952, 0.13378, 0.12791, 0.12233, 0.11552, 0.10951, 0.10159, 0.09535, 0.08889, 0.08198, 0.07543, 0.06919, 0.06302, 0.05816, 0.05359]}, {\"legendgroup\": \"Sim_11\", \"name\": \"Ip_stoch11\", \"type\": \"bar\", \"x\": [0, 1, 2, 3, 4, 5, 6, 7, 8, 9, 10, 11, 12, 13, 14, 15, 16, 17, 18, 19, 20, 21, 22, 23, 24, 25, 26, 27, 28, 29, 30, 31, 32, 33, 34, 35, 36, 37, 38, 39, 40, 41, 42, 43, 44, 45, 46, 47, 48], \"y\": [0.0064, 0.0023, 0.0028, 0.0041, 0.004, 0.0062, 0.0086, 0.0112, 0.0131, 0.017, 0.0251, 0.0328, 0.0383, 0.0476, 0.0616, 0.0797, 0.1033, 0.1138, 0.1365, 0.1442, 0.1554, 0.164, 0.1732, 0.1817, 0.1727, 0.173, 0.1751, 0.1717, 0.1595, 0.1513, 0.1466, 0.1411, 0.1331, 0.119, 0.1111, 0.1031, 0.1002, 0.0947, 0.081, 0.0787, 0.0663, 0.0617, 0.0605, 0.0504, 0.0499, 0.0433, 0.0402, 0.0362, 0.031]}, {\"legendgroup\": \"Sim_11\", \"line\": {\"color\": \"green\", \"dash\": \"dot\"}, \"name\": \"R_stoch11\", \"type\": \"scatter\", \"x\": [0, 1, 2, 3, 4, 5, 6, 7, 8, 9, 10, 11, 12, 13, 14, 15, 16, 17, 18, 19, 20, 21, 22, 23, 24, 25, 26, 27, 28, 29, 30, 31, 32, 33, 34, 35, 36, 37, 38, 39, 40, 41, 42, 43, 44, 45, 46, 47, 48], \"y\": [0.0, 0.0, 0.0, 0.0, 0.0, 0.0, 0.0, 0.0, 0.0, 0.0, 0.0, 0.0, 0.0, 0.0, 0.0, 0.0, 0.0, 0.0, 0.0, 0.0, 0.0, 0.0, 0.0, 0.0, 0.0, 0.0, 0.0, 0.0, 0.0, 0.0, 0.0, 0.0, 0.0, 0.0, 0.0, 0.0, 0.0, 0.0, 0.0, 0.0, 0.0, 0.0, 0.0, 0.0, 0.0, 0.0, 0.0, 0.0, 0.0]}],                        {\"template\": {\"data\": {\"bar\": [{\"error_x\": {\"color\": \"#2a3f5f\"}, \"error_y\": {\"color\": \"#2a3f5f\"}, \"marker\": {\"line\": {\"color\": \"#E5ECF6\", \"width\": 0.5}}, \"type\": \"bar\"}], \"barpolar\": [{\"marker\": {\"line\": {\"color\": \"#E5ECF6\", \"width\": 0.5}}, \"type\": \"barpolar\"}], \"carpet\": [{\"aaxis\": {\"endlinecolor\": \"#2a3f5f\", \"gridcolor\": \"white\", \"linecolor\": \"white\", \"minorgridcolor\": \"white\", \"startlinecolor\": \"#2a3f5f\"}, \"baxis\": {\"endlinecolor\": \"#2a3f5f\", \"gridcolor\": \"white\", \"linecolor\": \"white\", \"minorgridcolor\": \"white\", \"startlinecolor\": \"#2a3f5f\"}, \"type\": \"carpet\"}], \"choropleth\": [{\"colorbar\": {\"outlinewidth\": 0, \"ticks\": \"\"}, \"type\": \"choropleth\"}], \"contour\": [{\"colorbar\": {\"outlinewidth\": 0, \"ticks\": \"\"}, \"colorscale\": [[0.0, \"#0d0887\"], [0.1111111111111111, \"#46039f\"], [0.2222222222222222, \"#7201a8\"], [0.3333333333333333, \"#9c179e\"], [0.4444444444444444, \"#bd3786\"], [0.5555555555555556, \"#d8576b\"], [0.6666666666666666, \"#ed7953\"], [0.7777777777777778, \"#fb9f3a\"], [0.8888888888888888, \"#fdca26\"], [1.0, \"#f0f921\"]], \"type\": \"contour\"}], \"contourcarpet\": [{\"colorbar\": {\"outlinewidth\": 0, \"ticks\": \"\"}, \"type\": \"contourcarpet\"}], \"heatmap\": [{\"colorbar\": {\"outlinewidth\": 0, \"ticks\": \"\"}, \"colorscale\": [[0.0, \"#0d0887\"], [0.1111111111111111, \"#46039f\"], [0.2222222222222222, \"#7201a8\"], [0.3333333333333333, \"#9c179e\"], [0.4444444444444444, \"#bd3786\"], [0.5555555555555556, \"#d8576b\"], [0.6666666666666666, \"#ed7953\"], [0.7777777777777778, \"#fb9f3a\"], [0.8888888888888888, \"#fdca26\"], [1.0, \"#f0f921\"]], \"type\": \"heatmap\"}], \"heatmapgl\": [{\"colorbar\": {\"outlinewidth\": 0, \"ticks\": \"\"}, \"colorscale\": [[0.0, \"#0d0887\"], [0.1111111111111111, \"#46039f\"], [0.2222222222222222, \"#7201a8\"], [0.3333333333333333, \"#9c179e\"], [0.4444444444444444, \"#bd3786\"], [0.5555555555555556, \"#d8576b\"], [0.6666666666666666, \"#ed7953\"], [0.7777777777777778, \"#fb9f3a\"], [0.8888888888888888, \"#fdca26\"], [1.0, \"#f0f921\"]], \"type\": \"heatmapgl\"}], \"histogram\": [{\"marker\": {\"colorbar\": {\"outlinewidth\": 0, \"ticks\": \"\"}}, \"type\": \"histogram\"}], \"histogram2d\": [{\"colorbar\": {\"outlinewidth\": 0, \"ticks\": \"\"}, \"colorscale\": [[0.0, \"#0d0887\"], [0.1111111111111111, \"#46039f\"], [0.2222222222222222, \"#7201a8\"], [0.3333333333333333, \"#9c179e\"], [0.4444444444444444, \"#bd3786\"], [0.5555555555555556, \"#d8576b\"], [0.6666666666666666, \"#ed7953\"], [0.7777777777777778, \"#fb9f3a\"], [0.8888888888888888, \"#fdca26\"], [1.0, \"#f0f921\"]], \"type\": \"histogram2d\"}], \"histogram2dcontour\": [{\"colorbar\": {\"outlinewidth\": 0, \"ticks\": \"\"}, \"colorscale\": [[0.0, \"#0d0887\"], [0.1111111111111111, \"#46039f\"], [0.2222222222222222, \"#7201a8\"], [0.3333333333333333, \"#9c179e\"], [0.4444444444444444, \"#bd3786\"], [0.5555555555555556, \"#d8576b\"], [0.6666666666666666, \"#ed7953\"], [0.7777777777777778, \"#fb9f3a\"], [0.8888888888888888, \"#fdca26\"], [1.0, \"#f0f921\"]], \"type\": \"histogram2dcontour\"}], \"mesh3d\": [{\"colorbar\": {\"outlinewidth\": 0, \"ticks\": \"\"}, \"type\": \"mesh3d\"}], \"parcoords\": [{\"line\": {\"colorbar\": {\"outlinewidth\": 0, \"ticks\": \"\"}}, \"type\": \"parcoords\"}], \"pie\": [{\"automargin\": true, \"type\": \"pie\"}], \"scatter\": [{\"marker\": {\"colorbar\": {\"outlinewidth\": 0, \"ticks\": \"\"}}, \"type\": \"scatter\"}], \"scatter3d\": [{\"line\": {\"colorbar\": {\"outlinewidth\": 0, \"ticks\": \"\"}}, \"marker\": {\"colorbar\": {\"outlinewidth\": 0, \"ticks\": \"\"}}, \"type\": \"scatter3d\"}], \"scattercarpet\": [{\"marker\": {\"colorbar\": {\"outlinewidth\": 0, \"ticks\": \"\"}}, \"type\": \"scattercarpet\"}], \"scattergeo\": [{\"marker\": {\"colorbar\": {\"outlinewidth\": 0, \"ticks\": \"\"}}, \"type\": \"scattergeo\"}], \"scattergl\": [{\"marker\": {\"colorbar\": {\"outlinewidth\": 0, \"ticks\": \"\"}}, \"type\": \"scattergl\"}], \"scattermapbox\": [{\"marker\": {\"colorbar\": {\"outlinewidth\": 0, \"ticks\": \"\"}}, \"type\": \"scattermapbox\"}], \"scatterpolar\": [{\"marker\": {\"colorbar\": {\"outlinewidth\": 0, \"ticks\": \"\"}}, \"type\": \"scatterpolar\"}], \"scatterpolargl\": [{\"marker\": {\"colorbar\": {\"outlinewidth\": 0, \"ticks\": \"\"}}, \"type\": \"scatterpolargl\"}], \"scatterternary\": [{\"marker\": {\"colorbar\": {\"outlinewidth\": 0, \"ticks\": \"\"}}, \"type\": \"scatterternary\"}], \"surface\": [{\"colorbar\": {\"outlinewidth\": 0, \"ticks\": \"\"}, \"colorscale\": [[0.0, \"#0d0887\"], [0.1111111111111111, \"#46039f\"], [0.2222222222222222, \"#7201a8\"], [0.3333333333333333, \"#9c179e\"], [0.4444444444444444, \"#bd3786\"], [0.5555555555555556, \"#d8576b\"], [0.6666666666666666, \"#ed7953\"], [0.7777777777777778, \"#fb9f3a\"], [0.8888888888888888, \"#fdca26\"], [1.0, \"#f0f921\"]], \"type\": \"surface\"}], \"table\": [{\"cells\": {\"fill\": {\"color\": \"#EBF0F8\"}, \"line\": {\"color\": \"white\"}}, \"header\": {\"fill\": {\"color\": \"#C8D4E3\"}, \"line\": {\"color\": \"white\"}}, \"type\": \"table\"}]}, \"layout\": {\"annotationdefaults\": {\"arrowcolor\": \"#2a3f5f\", \"arrowhead\": 0, \"arrowwidth\": 1}, \"autotypenumbers\": \"strict\", \"coloraxis\": {\"colorbar\": {\"outlinewidth\": 0, \"ticks\": \"\"}}, \"colorscale\": {\"diverging\": [[0, \"#8e0152\"], [0.1, \"#c51b7d\"], [0.2, \"#de77ae\"], [0.3, \"#f1b6da\"], [0.4, \"#fde0ef\"], [0.5, \"#f7f7f7\"], [0.6, \"#e6f5d0\"], [0.7, \"#b8e186\"], [0.8, \"#7fbc41\"], [0.9, \"#4d9221\"], [1, \"#276419\"]], \"sequential\": [[0.0, \"#0d0887\"], [0.1111111111111111, \"#46039f\"], [0.2222222222222222, \"#7201a8\"], [0.3333333333333333, \"#9c179e\"], [0.4444444444444444, \"#bd3786\"], [0.5555555555555556, \"#d8576b\"], [0.6666666666666666, \"#ed7953\"], [0.7777777777777778, \"#fb9f3a\"], [0.8888888888888888, \"#fdca26\"], [1.0, \"#f0f921\"]], \"sequentialminus\": [[0.0, \"#0d0887\"], [0.1111111111111111, \"#46039f\"], [0.2222222222222222, \"#7201a8\"], [0.3333333333333333, \"#9c179e\"], [0.4444444444444444, \"#bd3786\"], [0.5555555555555556, \"#d8576b\"], [0.6666666666666666, \"#ed7953\"], [0.7777777777777778, \"#fb9f3a\"], [0.8888888888888888, \"#fdca26\"], [1.0, \"#f0f921\"]]}, \"colorway\": [\"#636efa\", \"#EF553B\", \"#00cc96\", \"#ab63fa\", \"#FFA15A\", \"#19d3f3\", \"#FF6692\", \"#B6E880\", \"#FF97FF\", \"#FECB52\"], \"font\": {\"color\": \"#2a3f5f\"}, \"geo\": {\"bgcolor\": \"white\", \"lakecolor\": \"white\", \"landcolor\": \"#E5ECF6\", \"showlakes\": true, \"showland\": true, \"subunitcolor\": \"white\"}, \"hoverlabel\": {\"align\": \"left\"}, \"hovermode\": \"closest\", \"mapbox\": {\"style\": \"light\"}, \"paper_bgcolor\": \"white\", \"plot_bgcolor\": \"#E5ECF6\", \"polar\": {\"angularaxis\": {\"gridcolor\": \"white\", \"linecolor\": \"white\", \"ticks\": \"\"}, \"bgcolor\": \"#E5ECF6\", \"radialaxis\": {\"gridcolor\": \"white\", \"linecolor\": \"white\", \"ticks\": \"\"}}, \"scene\": {\"xaxis\": {\"backgroundcolor\": \"#E5ECF6\", \"gridcolor\": \"white\", \"gridwidth\": 2, \"linecolor\": \"white\", \"showbackground\": true, \"ticks\": \"\", \"zerolinecolor\": \"white\"}, \"yaxis\": {\"backgroundcolor\": \"#E5ECF6\", \"gridcolor\": \"white\", \"gridwidth\": 2, \"linecolor\": \"white\", \"showbackground\": true, \"ticks\": \"\", \"zerolinecolor\": \"white\"}, \"zaxis\": {\"backgroundcolor\": \"#E5ECF6\", \"gridcolor\": \"white\", \"gridwidth\": 2, \"linecolor\": \"white\", \"showbackground\": true, \"ticks\": \"\", \"zerolinecolor\": \"white\"}}, \"shapedefaults\": {\"line\": {\"color\": \"#2a3f5f\"}}, \"ternary\": {\"aaxis\": {\"gridcolor\": \"white\", \"linecolor\": \"white\", \"ticks\": \"\"}, \"baxis\": {\"gridcolor\": \"white\", \"linecolor\": \"white\", \"ticks\": \"\"}, \"bgcolor\": \"#E5ECF6\", \"caxis\": {\"gridcolor\": \"white\", \"linecolor\": \"white\", \"ticks\": \"\"}}, \"title\": {\"x\": 0.05}, \"xaxis\": {\"automargin\": true, \"gridcolor\": \"white\", \"linecolor\": \"white\", \"ticks\": \"\", \"title\": {\"standoff\": 15}, \"zerolinecolor\": \"white\", \"zerolinewidth\": 2}, \"yaxis\": {\"automargin\": true, \"gridcolor\": \"white\", \"linecolor\": \"white\", \"ticks\": \"\", \"title\": {\"standoff\": 15}, \"zerolinecolor\": \"white\", \"zerolinewidth\": 2}}}, \"title\": {\"text\": \"$\\\\text{Stochastic HIV SIR model}$\", \"x\": 0.5, \"xanchor\": \"center\"}, \"xaxis\": {\"title\": {\"text\": \"Years\"}}, \"yaxis\": {\"title\": {\"text\": \"Proportion of population\"}}},                        {\"responsive\": true}                    ).then(function(){\n",
              "                            \n",
              "var gd = document.getElementById('71932850-c8e7-412d-8338-2010021f94cd');\n",
              "var x = new MutationObserver(function (mutations, observer) {{\n",
              "        var display = window.getComputedStyle(gd).display;\n",
              "        if (!display || display === 'none') {{\n",
              "            console.log([gd, 'removed!']);\n",
              "            Plotly.purge(gd);\n",
              "            observer.disconnect();\n",
              "        }}\n",
              "}});\n",
              "\n",
              "// Listen for the removal of the full notebook cells\n",
              "var notebookContainer = gd.closest('#notebook-container');\n",
              "if (notebookContainer) {{\n",
              "    x.observe(notebookContainer, {childList: true});\n",
              "}}\n",
              "\n",
              "// Listen for the clearing of the current output cell\n",
              "var outputEl = gd.closest('.output');\n",
              "if (outputEl) {{\n",
              "    x.observe(outputEl, {childList: true});\n",
              "}}\n",
              "\n",
              "                        })                };                            </script>        </div>\n",
              "</body>\n",
              "</html>"
            ]
          },
          "metadata": {
            "tags": []
          }
        }
      ]
    },
    {
      "cell_type": "code",
      "metadata": {
        "id": "wC8PzSt2iwGS"
      },
      "source": [
        ""
      ],
      "execution_count": null,
      "outputs": []
    }
  ]
}