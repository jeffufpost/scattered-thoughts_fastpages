{
  "nbformat": 4,
  "nbformat_minor": 0,
  "metadata": {
    "colab": {
      "provenance": [],
      "toc_visible": true,
      "include_colab_link": true
    },
    "kernelspec": {
      "name": "python3",
      "display_name": "Python 3"
    }
  },
  "cells": [
    {
      "cell_type": "markdown",
      "metadata": {
        "id": "view-in-github",
        "colab_type": "text"
      },
      "source": [
        "<a href=\"https://colab.research.google.com/github/jeffufpost/scattered-thoughts/blob/master/2023_08_16_IHME_Tech_Assessment.ipynb\" target=\"_parent\"><img src=\"https://colab.research.google.com/assets/colab-badge.svg\" alt=\"Open In Colab\"/></a>"
      ]
    },
    {
      "cell_type": "markdown",
      "metadata": {
        "id": "wHHObIt0qxfp"
      },
      "source": [
        "# \"IHME Tech Assessment - Future Health Scenarios\"\n",
        "> \"Research, Future Health Scenarios - IHME\"\n",
        "\n",
        "- toc: true\n",
        "- badges: true\n",
        "- comments: true\n",
        "- categories: [epidemiology, COVID-19]\n",
        "- image: images/kalman_filter.jpg"
      ]
    },
    {
      "cell_type": "markdown",
      "metadata": {
        "id": "AbrUxmQuq-S9"
      },
      "source": [
        "![](my_icons/kalman_filter.jpg \"https://fr.mathworks.com/videos/understanding-kalman-filters-part-3-optimal-state-estimator--1490710645421.html\")"
      ]
    },
    {
      "cell_type": "code",
      "metadata": {
        "id": "j2BZt4QZaznJ",
        "colab": {
          "base_uri": "https://localhost:8080/",
          "height": 180
        },
        "outputId": "563f3343-0fad-4458-f487-eee3d488f648"
      },
      "source": [
        "#collapse_hide\n",
        "!pip install plotly\n",
        "import pandas as pd\n",
        "import numpy as np\n",
        "import datetime\n",
        "import math\n",
        "\n",
        "from scipy import signal\n",
        "\n",
        "import plotly.graph_objects as go\n",
        "import plotly.express as px\n",
        "\n",
        "from scipy.stats import expon\n",
        "from scipy.stats import gamma\n",
        "from scipy.stats import weibull_min\n",
        "\n",
        "from numpy.random import default_rng\n",
        "rng = default_rng()\n",
        "\n",
        "# Let's build a numerical solution\n",
        "def seir_model(init, parms, days):\n",
        "    S_0, E_0, I_0, R_0 = init\n",
        "    Epd, Ipd, Rpd = [0], [0], [0]\n",
        "    S, E, I, R = [S_0], [E_0], [I_0], [R_0]\n",
        "    dt=0.1\n",
        "    t = np.linspace(0,days,int(days/dt))\n",
        "    sigma, beta, gam = parms\n",
        "    for _ in t[1:]:\n",
        "        next_S = S[-1] - beta*S[-1]*I[-1]*dt\n",
        "        Epd.append(beta*S[-1]*I[-1]*dt)\n",
        "        next_E = E[-1] + (beta*S[-1]*I[-1] - sigma*E[-1])*dt\n",
        "        Ipd.append(sigma*E[-1]*dt)\n",
        "        next_I = I[-1] + (sigma*E[-1] - gam*I[-1])*dt\n",
        "        Rpd.append(gam*I[-1]*dt)\n",
        "        next_R = R[-1] + (gam*I[-1])*dt\n",
        "        S.append(next_S)\n",
        "        E.append(next_E)\n",
        "        I.append(next_I)\n",
        "        R.append(next_R)\n",
        "    return np.stack([S, E, I, R, Epd, Ipd, Rpd]).T"
      ],
      "execution_count": null,
      "outputs": [
        {
          "output_type": "stream",
          "text": [
            "Collecting plotly==4.9.0\n",
            "\u001b[?25l  Downloading https://files.pythonhosted.org/packages/bf/5f/47ab0d9d843c5be0f5c5bd891736a4c84fa45c3b0a0ddb6b6df7c098c66f/plotly-4.9.0-py2.py3-none-any.whl (12.9MB)\n",
            "\u001b[K     |████████████████████████████████| 12.9MB 313kB/s \n",
            "\u001b[?25hRequirement already satisfied: six in /usr/local/lib/python3.6/dist-packages (from plotly==4.9.0) (1.15.0)\n",
            "Requirement already satisfied: retrying>=1.3.3 in /usr/local/lib/python3.6/dist-packages (from plotly==4.9.0) (1.3.3)\n",
            "Installing collected packages: plotly\n",
            "  Found existing installation: plotly 4.4.1\n",
            "    Uninstalling plotly-4.4.1:\n",
            "      Successfully uninstalled plotly-4.4.1\n",
            "Successfully installed plotly-4.9.0\n"
          ],
          "name": "stdout"
        }
      ]
    },
    {
      "cell_type": "markdown",
      "metadata": {
        "id": "IboOLqTR0s8y"
      },
      "source": [
        "## Convolution"
      ]
    },
    {
      "cell_type": "markdown",
      "metadata": {
        "id": "T8N3qLjscMG2"
      },
      "source": [
        "### Convolution to get $I_{pd}$\n",
        "\n",
        "We have seen that daily new infectious individuals is given by:\n",
        "\n",
        "$$I_{pd}[j] = \\sum_{n_L=0}^{M_L-1}h_L[n_L]~E_{pd}[j-n_L]= h_L[j]\\circledast E_{pd}[j]$$\n",
        "\n",
        "Where $h_L[j]$ describes the distribution of $T_{Latent}$."
      ]
    },
    {
      "cell_type": "markdown",
      "metadata": {
        "id": "iyspnE7zc2B0"
      },
      "source": [
        "### Convolution to get $R_{pd}$\n",
        "\n",
        "Similarly, we have seen that daily new recovered individuals (deaths + recoveries in fact) is given by:\n",
        "\n",
        "$$R_{pd}[j] = \\sum_{n_I=0}^{M_I-1}h_I[n_I]~I_{pd}[j-n_I]= h_I[j]\\circledast I_{pd}[j]$$\n",
        "\n",
        "Where $h_I[j]$ describes the distribution of $T_{Infectious}$."
      ]
    },
    {
      "cell_type": "markdown",
      "metadata": {
        "id": "OAyJa0j0efUg"
      },
      "source": [
        "## Finding $h_L[j]$ and $h_I[j]$"
      ]
    },
    {
      "cell_type": "markdown",
      "metadata": {
        "id": "Wf1_bnX_em4e"
      },
      "source": [
        "* $h_L[j]$ is simply the probability of an individual having a latent period of j days\n",
        "* $h_I[j]$ is similarly the probability of an individual having an infectious period of j days  "
      ]
    }
  ]
}